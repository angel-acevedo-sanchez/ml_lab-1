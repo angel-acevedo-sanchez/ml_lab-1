{
 "cells": [
  {
   "cell_type": "markdown",
   "metadata": {},
   "source": [
    "# Clustering de perfiles de OkCupid\n",
    "Este notebook muestra el proceso de análisis, preprocesamiento y entrenamiento de modelos para agrupar perfiles similares de la web de citas OkCupid."
   ]
  },
  {
   "cell_type": "markdown",
   "metadata": {},
   "source": [
    "# 1. Setup"
   ]
  },
  {
   "cell_type": "markdown",
   "metadata": {},
   "source": [
    "Librerías importadas en el proyecto."
   ]
  },
  {
   "cell_type": "code",
   "execution_count": 1,
   "metadata": {
    "ExecuteTime": {
     "end_time": "2021-01-10T15:10:53.641798Z",
     "start_time": "2021-01-10T15:10:52.682329Z"
    }
   },
   "outputs": [],
   "source": [
    "import numpy as np\n",
    "import pandas as pd\n",
    "\n",
    "import os\n",
    "from collections import namedtuple\n",
    "\n",
    "from IPython.display import IFrame\n",
    "\n",
    "try:\n",
    "    from geopy.geocoders import Nominatim\n",
    "except ModuleNotFoundError:\n",
    "    %pip install geopy\n",
    "    from geopy.geocoders import Nominatim\n",
    "    \n",
    "try:\n",
    "    import geopandas as gpd\n",
    "    import shapely\n",
    "except ModuleNotFoundError:\n",
    "    %pip install fiona\n",
    "    %pip install geopandas\n",
    "    %pip install descartes\n",
    "    import geopandas as gpd\n",
    "    import shapely\n",
    "\n",
    "%matplotlib inline\n",
    "from matplotlib import pyplot as plt\n",
    "from matplotlib.cm import ScalarMappable, get_cmap\n",
    "from matplotlib.colors import LogNorm\n",
    "import seaborn as sns\n",
    "sns.set_style(\"darkgrid\")\n",
    "\n",
    "from sklearn.base import BaseEstimator, TransformerMixin\n",
    "from sklearn.preprocessing import (\n",
    "    StandardScaler, MinMaxScaler, RobustScaler, \n",
    "    FunctionTransformer,\n",
    "    OneHotEncoder, OrdinalEncoder\n",
    ")\n",
    "from sklearn.pipeline import Pipeline\n",
    "from sklearn.exceptions import NotFittedError\n",
    "from sklearn.compose import ColumnTransformer\n",
    "\n",
    "from scipy.stats import norm, kstest"
   ]
  },
  {
   "cell_type": "markdown",
   "metadata": {},
   "source": [
    "Variables globales declaradas en el proyecto."
   ]
  },
  {
   "cell_type": "code",
   "execution_count": 2,
   "metadata": {
    "ExecuteTime": {
     "end_time": "2021-01-10T15:10:53.647462Z",
     "start_time": "2021-01-10T15:10:53.643477Z"
    }
   },
   "outputs": [],
   "source": [
    "RANDOM_SEED = 1337\n",
    "np.random.seed(RANDOM_SEED)\n",
    "\n",
    "#!git clone https://github.com/dietrujillo/ml_lab.git ./ml_lab\n",
    "# os.path.join(os.curdir, \"ml_lab\", \"lab3\", \"data\")  # Path to csv data\n",
    "DATA_PATH = os.path.join(os.pardir, \"data\")\n",
    "# os.path.join(os.curdir, \"ml_lab\", \"lab3\", \"info\")  # Path to problem info\n",
    "INFO_PATH = os.path.join(os.pardir, \"info\")\n",
    "# os.path.join(os.curdir, \"ml_lab\", \"lab3\", \"results\")  # Path to results files\n",
    "RESULTS_PATH = os.path.join(os.pardir, \"results\")"
   ]
  },
  {
   "cell_type": "markdown",
   "metadata": {},
   "source": [
    "Enunciado del problema."
   ]
  },
  {
   "cell_type": "code",
   "execution_count": 3,
   "metadata": {
    "ExecuteTime": {
     "end_time": "2021-01-10T15:10:53.719835Z",
     "start_time": "2021-01-10T15:10:53.648995Z"
    }
   },
   "outputs": [
    {
     "data": {
      "text/html": [
       "\n",
       "        <iframe\n",
       "            width=\"1080\"\n",
       "            height=\"920\"\n",
       "            src=\"../info/lab3.pdf\"\n",
       "            frameborder=\"0\"\n",
       "            allowfullscreen\n",
       "        ></iframe>\n",
       "        "
      ],
      "text/plain": [
       "<IPython.lib.display.IFrame at 0x7f8c54406a50>"
      ]
     },
     "execution_count": 3,
     "metadata": {},
     "output_type": "execute_result"
    }
   ],
   "source": [
    "# Jupyter Notebook only\n",
    "IFrame(os.path.join(INFO_PATH, \"lab3.pdf\"), width=1080, height=920)"
   ]
  },
  {
   "cell_type": "markdown",
   "metadata": {},
   "source": [
    "# 2. Análisis exploratorio de los datos"
   ]
  },
  {
   "cell_type": "markdown",
   "metadata": {},
   "source": [
    "En primer lugar, cargamos los datos en memoria y echamos un primer vistazo."
   ]
  },
  {
   "cell_type": "code",
   "execution_count": 4,
   "metadata": {
    "ExecuteTime": {
     "end_time": "2021-01-10T15:10:55.395275Z",
     "start_time": "2021-01-10T15:10:53.721703Z"
    },
    "scrolled": false
   },
   "outputs": [
    {
     "data": {
      "text/html": [
       "<div>\n",
       "<style scoped>\n",
       "    .dataframe tbody tr th:only-of-type {\n",
       "        vertical-align: middle;\n",
       "    }\n",
       "\n",
       "    .dataframe tbody tr th {\n",
       "        vertical-align: top;\n",
       "    }\n",
       "\n",
       "    .dataframe thead th {\n",
       "        text-align: right;\n",
       "    }\n",
       "</style>\n",
       "<table border=\"1\" class=\"dataframe\">\n",
       "  <thead>\n",
       "    <tr style=\"text-align: right;\">\n",
       "      <th></th>\n",
       "      <th>age</th>\n",
       "      <th>status</th>\n",
       "      <th>sex</th>\n",
       "      <th>orientation</th>\n",
       "      <th>body_type</th>\n",
       "      <th>diet</th>\n",
       "      <th>drinks</th>\n",
       "      <th>drugs</th>\n",
       "      <th>education</th>\n",
       "      <th>ethnicity</th>\n",
       "    </tr>\n",
       "  </thead>\n",
       "  <tbody>\n",
       "    <tr>\n",
       "      <th>0</th>\n",
       "      <td>22</td>\n",
       "      <td>single</td>\n",
       "      <td>m</td>\n",
       "      <td>straight</td>\n",
       "      <td>a little extra</td>\n",
       "      <td>strictly anything</td>\n",
       "      <td>socially</td>\n",
       "      <td>never</td>\n",
       "      <td>working on college/university</td>\n",
       "      <td>asian, white</td>\n",
       "    </tr>\n",
       "    <tr>\n",
       "      <th>1</th>\n",
       "      <td>35</td>\n",
       "      <td>single</td>\n",
       "      <td>m</td>\n",
       "      <td>straight</td>\n",
       "      <td>average</td>\n",
       "      <td>mostly other</td>\n",
       "      <td>often</td>\n",
       "      <td>sometimes</td>\n",
       "      <td>working on space camp</td>\n",
       "      <td>white</td>\n",
       "    </tr>\n",
       "    <tr>\n",
       "      <th>2</th>\n",
       "      <td>38</td>\n",
       "      <td>available</td>\n",
       "      <td>m</td>\n",
       "      <td>straight</td>\n",
       "      <td>thin</td>\n",
       "      <td>anything</td>\n",
       "      <td>socially</td>\n",
       "      <td>NaN</td>\n",
       "      <td>graduated from masters program</td>\n",
       "      <td>NaN</td>\n",
       "    </tr>\n",
       "    <tr>\n",
       "      <th>3</th>\n",
       "      <td>23</td>\n",
       "      <td>single</td>\n",
       "      <td>m</td>\n",
       "      <td>straight</td>\n",
       "      <td>thin</td>\n",
       "      <td>vegetarian</td>\n",
       "      <td>socially</td>\n",
       "      <td>NaN</td>\n",
       "      <td>working on college/university</td>\n",
       "      <td>white</td>\n",
       "    </tr>\n",
       "    <tr>\n",
       "      <th>4</th>\n",
       "      <td>29</td>\n",
       "      <td>single</td>\n",
       "      <td>m</td>\n",
       "      <td>straight</td>\n",
       "      <td>athletic</td>\n",
       "      <td>NaN</td>\n",
       "      <td>socially</td>\n",
       "      <td>never</td>\n",
       "      <td>graduated from college/university</td>\n",
       "      <td>asian, black, other</td>\n",
       "    </tr>\n",
       "    <tr>\n",
       "      <th>...</th>\n",
       "      <td>...</td>\n",
       "      <td>...</td>\n",
       "      <td>...</td>\n",
       "      <td>...</td>\n",
       "      <td>...</td>\n",
       "      <td>...</td>\n",
       "      <td>...</td>\n",
       "      <td>...</td>\n",
       "      <td>...</td>\n",
       "      <td>...</td>\n",
       "    </tr>\n",
       "    <tr>\n",
       "      <th>59941</th>\n",
       "      <td>59</td>\n",
       "      <td>single</td>\n",
       "      <td>f</td>\n",
       "      <td>straight</td>\n",
       "      <td>NaN</td>\n",
       "      <td>NaN</td>\n",
       "      <td>socially</td>\n",
       "      <td>never</td>\n",
       "      <td>graduated from college/university</td>\n",
       "      <td>NaN</td>\n",
       "    </tr>\n",
       "    <tr>\n",
       "      <th>59942</th>\n",
       "      <td>24</td>\n",
       "      <td>single</td>\n",
       "      <td>m</td>\n",
       "      <td>straight</td>\n",
       "      <td>fit</td>\n",
       "      <td>mostly anything</td>\n",
       "      <td>often</td>\n",
       "      <td>sometimes</td>\n",
       "      <td>working on college/university</td>\n",
       "      <td>white, other</td>\n",
       "    </tr>\n",
       "    <tr>\n",
       "      <th>59943</th>\n",
       "      <td>42</td>\n",
       "      <td>single</td>\n",
       "      <td>m</td>\n",
       "      <td>straight</td>\n",
       "      <td>average</td>\n",
       "      <td>mostly anything</td>\n",
       "      <td>not at all</td>\n",
       "      <td>never</td>\n",
       "      <td>graduated from masters program</td>\n",
       "      <td>asian</td>\n",
       "    </tr>\n",
       "    <tr>\n",
       "      <th>59944</th>\n",
       "      <td>27</td>\n",
       "      <td>single</td>\n",
       "      <td>m</td>\n",
       "      <td>straight</td>\n",
       "      <td>athletic</td>\n",
       "      <td>mostly anything</td>\n",
       "      <td>socially</td>\n",
       "      <td>often</td>\n",
       "      <td>working on college/university</td>\n",
       "      <td>asian, black</td>\n",
       "    </tr>\n",
       "    <tr>\n",
       "      <th>59945</th>\n",
       "      <td>39</td>\n",
       "      <td>single</td>\n",
       "      <td>m</td>\n",
       "      <td>gay</td>\n",
       "      <td>average</td>\n",
       "      <td>NaN</td>\n",
       "      <td>socially</td>\n",
       "      <td>NaN</td>\n",
       "      <td>graduated from masters program</td>\n",
       "      <td>white</td>\n",
       "    </tr>\n",
       "  </tbody>\n",
       "</table>\n",
       "<p>59946 rows × 10 columns</p>\n",
       "</div>"
      ],
      "text/plain": [
       "       age     status sex orientation       body_type               diet  \\\n",
       "0       22     single   m    straight  a little extra  strictly anything   \n",
       "1       35     single   m    straight         average       mostly other   \n",
       "2       38  available   m    straight            thin           anything   \n",
       "3       23     single   m    straight            thin         vegetarian   \n",
       "4       29     single   m    straight        athletic                NaN   \n",
       "...    ...        ...  ..         ...             ...                ...   \n",
       "59941   59     single   f    straight             NaN                NaN   \n",
       "59942   24     single   m    straight             fit    mostly anything   \n",
       "59943   42     single   m    straight         average    mostly anything   \n",
       "59944   27     single   m    straight        athletic    mostly anything   \n",
       "59945   39     single   m         gay         average                NaN   \n",
       "\n",
       "           drinks      drugs                          education  \\\n",
       "0        socially      never      working on college/university   \n",
       "1           often  sometimes              working on space camp   \n",
       "2        socially        NaN     graduated from masters program   \n",
       "3        socially        NaN      working on college/university   \n",
       "4        socially      never  graduated from college/university   \n",
       "...           ...        ...                                ...   \n",
       "59941    socially      never  graduated from college/university   \n",
       "59942       often  sometimes      working on college/university   \n",
       "59943  not at all      never     graduated from masters program   \n",
       "59944    socially      often      working on college/university   \n",
       "59945    socially        NaN     graduated from masters program   \n",
       "\n",
       "                 ethnicity  \n",
       "0             asian, white  \n",
       "1                    white  \n",
       "2                      NaN  \n",
       "3                    white  \n",
       "4      asian, black, other  \n",
       "...                    ...  \n",
       "59941                  NaN  \n",
       "59942         white, other  \n",
       "59943                asian  \n",
       "59944         asian, black  \n",
       "59945                white  \n",
       "\n",
       "[59946 rows x 10 columns]"
      ]
     },
     "metadata": {},
     "output_type": "display_data"
    },
    {
     "data": {
      "text/html": [
       "<div>\n",
       "<style scoped>\n",
       "    .dataframe tbody tr th:only-of-type {\n",
       "        vertical-align: middle;\n",
       "    }\n",
       "\n",
       "    .dataframe tbody tr th {\n",
       "        vertical-align: top;\n",
       "    }\n",
       "\n",
       "    .dataframe thead th {\n",
       "        text-align: right;\n",
       "    }\n",
       "</style>\n",
       "<table border=\"1\" class=\"dataframe\">\n",
       "  <thead>\n",
       "    <tr style=\"text-align: right;\">\n",
       "      <th></th>\n",
       "      <th>height</th>\n",
       "      <th>income</th>\n",
       "      <th>job</th>\n",
       "      <th>last_online</th>\n",
       "      <th>location</th>\n",
       "      <th>offspring</th>\n",
       "      <th>pets</th>\n",
       "      <th>religion</th>\n",
       "      <th>sign</th>\n",
       "      <th>smokes</th>\n",
       "    </tr>\n",
       "  </thead>\n",
       "  <tbody>\n",
       "    <tr>\n",
       "      <th>0</th>\n",
       "      <td>75.0</td>\n",
       "      <td>-1</td>\n",
       "      <td>transportation</td>\n",
       "      <td>2012-06-28-20-30</td>\n",
       "      <td>south san francisco, california</td>\n",
       "      <td>doesn't have kids, but might want them</td>\n",
       "      <td>likes dogs and likes cats</td>\n",
       "      <td>agnosticism and very serious about it</td>\n",
       "      <td>gemini</td>\n",
       "      <td>sometimes</td>\n",
       "    </tr>\n",
       "    <tr>\n",
       "      <th>1</th>\n",
       "      <td>70.0</td>\n",
       "      <td>80000</td>\n",
       "      <td>hospitality / travel</td>\n",
       "      <td>2012-06-29-21-41</td>\n",
       "      <td>oakland, california</td>\n",
       "      <td>doesn't have kids, but might want them</td>\n",
       "      <td>likes dogs and likes cats</td>\n",
       "      <td>agnosticism but not too serious about it</td>\n",
       "      <td>cancer</td>\n",
       "      <td>no</td>\n",
       "    </tr>\n",
       "    <tr>\n",
       "      <th>2</th>\n",
       "      <td>68.0</td>\n",
       "      <td>-1</td>\n",
       "      <td>NaN</td>\n",
       "      <td>2012-06-27-09-10</td>\n",
       "      <td>san francisco, california</td>\n",
       "      <td>NaN</td>\n",
       "      <td>has cats</td>\n",
       "      <td>NaN</td>\n",
       "      <td>pisces but it doesn&amp;rsquo;t matter</td>\n",
       "      <td>no</td>\n",
       "    </tr>\n",
       "    <tr>\n",
       "      <th>3</th>\n",
       "      <td>71.0</td>\n",
       "      <td>20000</td>\n",
       "      <td>student</td>\n",
       "      <td>2012-06-28-14-22</td>\n",
       "      <td>berkeley, california</td>\n",
       "      <td>doesn't want kids</td>\n",
       "      <td>likes cats</td>\n",
       "      <td>NaN</td>\n",
       "      <td>pisces</td>\n",
       "      <td>no</td>\n",
       "    </tr>\n",
       "    <tr>\n",
       "      <th>4</th>\n",
       "      <td>66.0</td>\n",
       "      <td>-1</td>\n",
       "      <td>artistic / musical / writer</td>\n",
       "      <td>2012-06-27-21-26</td>\n",
       "      <td>san francisco, california</td>\n",
       "      <td>NaN</td>\n",
       "      <td>likes dogs and likes cats</td>\n",
       "      <td>NaN</td>\n",
       "      <td>aquarius</td>\n",
       "      <td>no</td>\n",
       "    </tr>\n",
       "    <tr>\n",
       "      <th>...</th>\n",
       "      <td>...</td>\n",
       "      <td>...</td>\n",
       "      <td>...</td>\n",
       "      <td>...</td>\n",
       "      <td>...</td>\n",
       "      <td>...</td>\n",
       "      <td>...</td>\n",
       "      <td>...</td>\n",
       "      <td>...</td>\n",
       "      <td>...</td>\n",
       "    </tr>\n",
       "    <tr>\n",
       "      <th>59941</th>\n",
       "      <td>62.0</td>\n",
       "      <td>-1</td>\n",
       "      <td>sales / marketing / biz dev</td>\n",
       "      <td>2012-06-12-21-47</td>\n",
       "      <td>oakland, california</td>\n",
       "      <td>has kids</td>\n",
       "      <td>has dogs</td>\n",
       "      <td>catholicism but not too serious about it</td>\n",
       "      <td>cancer and it&amp;rsquo;s fun to think about</td>\n",
       "      <td>no</td>\n",
       "    </tr>\n",
       "    <tr>\n",
       "      <th>59942</th>\n",
       "      <td>72.0</td>\n",
       "      <td>-1</td>\n",
       "      <td>entertainment / media</td>\n",
       "      <td>2012-06-29-11-01</td>\n",
       "      <td>san francisco, california</td>\n",
       "      <td>doesn't have kids</td>\n",
       "      <td>likes dogs and likes cats</td>\n",
       "      <td>agnosticism</td>\n",
       "      <td>leo but it doesn&amp;rsquo;t matter</td>\n",
       "      <td>no</td>\n",
       "    </tr>\n",
       "    <tr>\n",
       "      <th>59943</th>\n",
       "      <td>71.0</td>\n",
       "      <td>100000</td>\n",
       "      <td>construction / craftsmanship</td>\n",
       "      <td>2012-06-27-23-37</td>\n",
       "      <td>south san francisco, california</td>\n",
       "      <td>doesn't have kids</td>\n",
       "      <td>NaN</td>\n",
       "      <td>christianity but not too serious about it</td>\n",
       "      <td>sagittarius but it doesn&amp;rsquo;t matter</td>\n",
       "      <td>no</td>\n",
       "    </tr>\n",
       "    <tr>\n",
       "      <th>59944</th>\n",
       "      <td>73.0</td>\n",
       "      <td>-1</td>\n",
       "      <td>medicine / health</td>\n",
       "      <td>2012-06-23-13-01</td>\n",
       "      <td>san francisco, california</td>\n",
       "      <td>doesn't have kids, but wants them</td>\n",
       "      <td>likes dogs and likes cats</td>\n",
       "      <td>agnosticism but not too serious about it</td>\n",
       "      <td>leo and it&amp;rsquo;s fun to think about</td>\n",
       "      <td>trying to quit</td>\n",
       "    </tr>\n",
       "    <tr>\n",
       "      <th>59945</th>\n",
       "      <td>68.0</td>\n",
       "      <td>-1</td>\n",
       "      <td>medicine / health</td>\n",
       "      <td>2012-06-29-00-42</td>\n",
       "      <td>san francisco, california</td>\n",
       "      <td>NaN</td>\n",
       "      <td>likes dogs and likes cats</td>\n",
       "      <td>catholicism and laughing about it</td>\n",
       "      <td>gemini and it&amp;rsquo;s fun to think about</td>\n",
       "      <td>sometimes</td>\n",
       "    </tr>\n",
       "  </tbody>\n",
       "</table>\n",
       "<p>59946 rows × 10 columns</p>\n",
       "</div>"
      ],
      "text/plain": [
       "       height  income                           job       last_online  \\\n",
       "0        75.0      -1                transportation  2012-06-28-20-30   \n",
       "1        70.0   80000          hospitality / travel  2012-06-29-21-41   \n",
       "2        68.0      -1                           NaN  2012-06-27-09-10   \n",
       "3        71.0   20000                       student  2012-06-28-14-22   \n",
       "4        66.0      -1   artistic / musical / writer  2012-06-27-21-26   \n",
       "...       ...     ...                           ...               ...   \n",
       "59941    62.0      -1   sales / marketing / biz dev  2012-06-12-21-47   \n",
       "59942    72.0      -1         entertainment / media  2012-06-29-11-01   \n",
       "59943    71.0  100000  construction / craftsmanship  2012-06-27-23-37   \n",
       "59944    73.0      -1             medicine / health  2012-06-23-13-01   \n",
       "59945    68.0      -1             medicine / health  2012-06-29-00-42   \n",
       "\n",
       "                              location  \\\n",
       "0      south san francisco, california   \n",
       "1                  oakland, california   \n",
       "2            san francisco, california   \n",
       "3                 berkeley, california   \n",
       "4            san francisco, california   \n",
       "...                                ...   \n",
       "59941              oakland, california   \n",
       "59942        san francisco, california   \n",
       "59943  south san francisco, california   \n",
       "59944        san francisco, california   \n",
       "59945        san francisco, california   \n",
       "\n",
       "                                    offspring                       pets  \\\n",
       "0      doesn't have kids, but might want them  likes dogs and likes cats   \n",
       "1      doesn't have kids, but might want them  likes dogs and likes cats   \n",
       "2                                         NaN                   has cats   \n",
       "3                           doesn't want kids                 likes cats   \n",
       "4                                         NaN  likes dogs and likes cats   \n",
       "...                                       ...                        ...   \n",
       "59941                                has kids                   has dogs   \n",
       "59942                       doesn't have kids  likes dogs and likes cats   \n",
       "59943                       doesn't have kids                        NaN   \n",
       "59944       doesn't have kids, but wants them  likes dogs and likes cats   \n",
       "59945                                     NaN  likes dogs and likes cats   \n",
       "\n",
       "                                        religion  \\\n",
       "0          agnosticism and very serious about it   \n",
       "1       agnosticism but not too serious about it   \n",
       "2                                            NaN   \n",
       "3                                            NaN   \n",
       "4                                            NaN   \n",
       "...                                          ...   \n",
       "59941   catholicism but not too serious about it   \n",
       "59942                                agnosticism   \n",
       "59943  christianity but not too serious about it   \n",
       "59944   agnosticism but not too serious about it   \n",
       "59945          catholicism and laughing about it   \n",
       "\n",
       "                                           sign          smokes  \n",
       "0                                        gemini       sometimes  \n",
       "1                                        cancer              no  \n",
       "2            pisces but it doesn&rsquo;t matter              no  \n",
       "3                                        pisces              no  \n",
       "4                                      aquarius              no  \n",
       "...                                         ...             ...  \n",
       "59941  cancer and it&rsquo;s fun to think about              no  \n",
       "59942           leo but it doesn&rsquo;t matter              no  \n",
       "59943   sagittarius but it doesn&rsquo;t matter              no  \n",
       "59944     leo and it&rsquo;s fun to think about  trying to quit  \n",
       "59945  gemini and it&rsquo;s fun to think about       sometimes  \n",
       "\n",
       "[59946 rows x 10 columns]"
      ]
     },
     "metadata": {},
     "output_type": "display_data"
    },
    {
     "data": {
      "text/html": [
       "<div>\n",
       "<style scoped>\n",
       "    .dataframe tbody tr th:only-of-type {\n",
       "        vertical-align: middle;\n",
       "    }\n",
       "\n",
       "    .dataframe tbody tr th {\n",
       "        vertical-align: top;\n",
       "    }\n",
       "\n",
       "    .dataframe thead th {\n",
       "        text-align: right;\n",
       "    }\n",
       "</style>\n",
       "<table border=\"1\" class=\"dataframe\">\n",
       "  <thead>\n",
       "    <tr style=\"text-align: right;\">\n",
       "      <th></th>\n",
       "      <th>speaks</th>\n",
       "      <th>essay0</th>\n",
       "      <th>essay1</th>\n",
       "      <th>essay2</th>\n",
       "      <th>essay3</th>\n",
       "      <th>essay4</th>\n",
       "      <th>essay5</th>\n",
       "      <th>essay6</th>\n",
       "      <th>essay7</th>\n",
       "      <th>essay8</th>\n",
       "      <th>essay9</th>\n",
       "    </tr>\n",
       "  </thead>\n",
       "  <tbody>\n",
       "    <tr>\n",
       "      <th>0</th>\n",
       "      <td>english</td>\n",
       "      <td>about me:  i would love to think that i was so...</td>\n",
       "      <td>currently working as an international agent fo...</td>\n",
       "      <td>making people laugh. ranting about a good salt...</td>\n",
       "      <td>the way i look. i am a six foot half asian, ha...</td>\n",
       "      <td>books: absurdistan, the republic, of mice and ...</td>\n",
       "      <td>food. water. cell phone. shelter.</td>\n",
       "      <td>duality and humorous things</td>\n",
       "      <td>trying to find someone to hang out with. i am ...</td>\n",
       "      <td>i am new to california and looking for someone...</td>\n",
       "      <td>you want to be swept off your feet! you are ti...</td>\n",
       "    </tr>\n",
       "    <tr>\n",
       "      <th>1</th>\n",
       "      <td>english (fluently), spanish (poorly), french (...</td>\n",
       "      <td>i am a chef: this is what that means. 1. i am ...</td>\n",
       "      <td>dedicating everyday to being an unbelievable b...</td>\n",
       "      <td>being silly. having ridiculous amonts of fun w...</td>\n",
       "      <td>NaN</td>\n",
       "      <td>i am die hard christopher moore fan. i don't r...</td>\n",
       "      <td>delicious porkness in all of its glories. my b...</td>\n",
       "      <td>NaN</td>\n",
       "      <td>NaN</td>\n",
       "      <td>i am very open and will share just about anyth...</td>\n",
       "      <td>NaN</td>\n",
       "    </tr>\n",
       "    <tr>\n",
       "      <th>2</th>\n",
       "      <td>english, french, c++</td>\n",
       "      <td>i'm not ashamed of much, but writing public te...</td>\n",
       "      <td>i make nerdy software for musicians, artists, ...</td>\n",
       "      <td>improvising in different contexts. alternating...</td>\n",
       "      <td>my large jaw and large glasses are the physica...</td>\n",
       "      <td>okay this is where the cultural matrix gets so...</td>\n",
       "      <td>movement conversation creation contemplation t...</td>\n",
       "      <td>NaN</td>\n",
       "      <td>viewing. listening. dancing. talking. drinking...</td>\n",
       "      <td>when i was five years old, i was known as \"the...</td>\n",
       "      <td>you are bright, open, intense, silly, ironic, ...</td>\n",
       "    </tr>\n",
       "    <tr>\n",
       "      <th>3</th>\n",
       "      <td>english, german (poorly)</td>\n",
       "      <td>i work in a library and go to school. . .</td>\n",
       "      <td>reading things written by old dead people</td>\n",
       "      <td>playing synthesizers and organizing books acco...</td>\n",
       "      <td>socially awkward but i do my best</td>\n",
       "      <td>bataille, celine, beckett. . . lynch, jarmusch...</td>\n",
       "      <td>NaN</td>\n",
       "      <td>cats and german philosophy</td>\n",
       "      <td>NaN</td>\n",
       "      <td>NaN</td>\n",
       "      <td>you feel so inclined.</td>\n",
       "    </tr>\n",
       "    <tr>\n",
       "      <th>4</th>\n",
       "      <td>english</td>\n",
       "      <td>hey how's it going? currently vague on the pro...</td>\n",
       "      <td>work work work work + play</td>\n",
       "      <td>creating imagery to look at: http://bagsbrown....</td>\n",
       "      <td>i smile a lot and my inquisitive nature</td>\n",
       "      <td>music: bands, rappers, musicians at the moment...</td>\n",
       "      <td>NaN</td>\n",
       "      <td>NaN</td>\n",
       "      <td>NaN</td>\n",
       "      <td>NaN</td>\n",
       "      <td>NaN</td>\n",
       "    </tr>\n",
       "    <tr>\n",
       "      <th>...</th>\n",
       "      <td>...</td>\n",
       "      <td>...</td>\n",
       "      <td>...</td>\n",
       "      <td>...</td>\n",
       "      <td>...</td>\n",
       "      <td>...</td>\n",
       "      <td>...</td>\n",
       "      <td>...</td>\n",
       "      <td>...</td>\n",
       "      <td>...</td>\n",
       "      <td>...</td>\n",
       "    </tr>\n",
       "    <tr>\n",
       "      <th>59941</th>\n",
       "      <td>english</td>\n",
       "      <td>vibrant, expressive, caring optimist. i love b...</td>\n",
       "      <td>the happiest times have been when life came to...</td>\n",
       "      <td>i make an outstanding osso bucco. i am also ve...</td>\n",
       "      <td>i am told that people notice my smile, eyes an...</td>\n",
       "      <td>i am an avid movie watcher and follow the broa...</td>\n",
       "      <td>my family, my dog, italy, words and music!</td>\n",
       "      <td>writing my book.</td>\n",
       "      <td>running with my dog, finishing up the work wee...</td>\n",
       "      <td>i have a dream to sing at the alconquin in nyc...</td>\n",
       "      <td>you are seeking a long term connection of shar...</td>\n",
       "    </tr>\n",
       "    <tr>\n",
       "      <th>59942</th>\n",
       "      <td>english (fluently)</td>\n",
       "      <td>i'm nick. i never know what to write about mys...</td>\n",
       "      <td>currently finishing school for film production...</td>\n",
       "      <td>filmmaking, photography, graphic design, web d...</td>\n",
       "      <td>dude, i don't know.</td>\n",
       "      <td>movies: hook (the greatest adventure ever!), g...</td>\n",
       "      <td>iphone contact lenses headphones camera tv rem...</td>\n",
       "      <td>i do most of my thinking on the bus to/from wo...</td>\n",
       "      <td>bringin' home bacon, or drinking and shakin'!</td>\n",
       "      <td>when i was 18 i got a tattoo of waldo somewher...</td>\n",
       "      <td>meh if you made it this far you might as well.</td>\n",
       "    </tr>\n",
       "    <tr>\n",
       "      <th>59943</th>\n",
       "      <td>english (fluently)</td>\n",
       "      <td>hello! i enjoy traveling, watching movies, and...</td>\n",
       "      <td>i'm a civil engineer, who enjoys helping the c...</td>\n",
       "      <td>- looking at things objectively - getting thin...</td>\n",
       "      <td>i'm quiet until i get used to the environment ...</td>\n",
       "      <td>last book: \"game change\". movies: bourne serie...</td>\n",
       "      <td>- iphone - friends and family - internet - bay...</td>\n",
       "      <td>aside from work, how to improve my home.</td>\n",
       "      <td>out enjoying friendly conversation over dinner.</td>\n",
       "      <td>please let me think about this more.</td>\n",
       "      <td>we have similar interests.</td>\n",
       "    </tr>\n",
       "    <tr>\n",
       "      <th>59944</th>\n",
       "      <td>english (fluently), spanish (poorly), chinese ...</td>\n",
       "      <td>\"all i have in this world are my balls and my ...</td>\n",
       "      <td>following my dreams... \"you got a dream... you...</td>\n",
       "      <td>listening</td>\n",
       "      <td>it used to be the hair until i mowed it off bu...</td>\n",
       "      <td>where to begin musically: right now i listen t...</td>\n",
       "      <td>music, family, friends, a basketball, hoop, so...</td>\n",
       "      <td>what can i do to make someone chuckle....</td>\n",
       "      <td>what i would do on any other day. everydays a ...</td>\n",
       "      <td>i like walking around in other people's house ...</td>\n",
       "      <td>you are interested and interesting...</td>\n",
       "    </tr>\n",
       "    <tr>\n",
       "      <th>59945</th>\n",
       "      <td>english</td>\n",
       "      <td>is it odd that having a little \"enemy\" status ...</td>\n",
       "      <td>i work with elderly people (psychotherapy and ...</td>\n",
       "      <td>i'm a great bullshitter. i don't know what it ...</td>\n",
       "      <td>either that i am funny/sarcastic, or that i am...</td>\n",
       "      <td>i just read the help by kathryn stockett, sooo...</td>\n",
       "      <td>1. family &amp; friends &amp; other humans - interacti...</td>\n",
       "      <td>sex, myself, other people, how amazing everyth...</td>\n",
       "      <td>out at happy hour with my friends, running int...</td>\n",
       "      <td>i wish i could cry like holly hunter in broadc...</td>\n",
       "      <td>if you have a back-bone, an opinion, a sense o...</td>\n",
       "    </tr>\n",
       "  </tbody>\n",
       "</table>\n",
       "<p>59946 rows × 11 columns</p>\n",
       "</div>"
      ],
      "text/plain": [
       "                                                  speaks  \\\n",
       "0                                                english   \n",
       "1      english (fluently), spanish (poorly), french (...   \n",
       "2                                   english, french, c++   \n",
       "3                               english, german (poorly)   \n",
       "4                                                english   \n",
       "...                                                  ...   \n",
       "59941                                            english   \n",
       "59942                                 english (fluently)   \n",
       "59943                                 english (fluently)   \n",
       "59944  english (fluently), spanish (poorly), chinese ...   \n",
       "59945                                            english   \n",
       "\n",
       "                                                  essay0  \\\n",
       "0      about me:  i would love to think that i was so...   \n",
       "1      i am a chef: this is what that means. 1. i am ...   \n",
       "2      i'm not ashamed of much, but writing public te...   \n",
       "3              i work in a library and go to school. . .   \n",
       "4      hey how's it going? currently vague on the pro...   \n",
       "...                                                  ...   \n",
       "59941  vibrant, expressive, caring optimist. i love b...   \n",
       "59942  i'm nick. i never know what to write about mys...   \n",
       "59943  hello! i enjoy traveling, watching movies, and...   \n",
       "59944  \"all i have in this world are my balls and my ...   \n",
       "59945  is it odd that having a little \"enemy\" status ...   \n",
       "\n",
       "                                                  essay1  \\\n",
       "0      currently working as an international agent fo...   \n",
       "1      dedicating everyday to being an unbelievable b...   \n",
       "2      i make nerdy software for musicians, artists, ...   \n",
       "3              reading things written by old dead people   \n",
       "4                             work work work work + play   \n",
       "...                                                  ...   \n",
       "59941  the happiest times have been when life came to...   \n",
       "59942  currently finishing school for film production...   \n",
       "59943  i'm a civil engineer, who enjoys helping the c...   \n",
       "59944  following my dreams... \"you got a dream... you...   \n",
       "59945  i work with elderly people (psychotherapy and ...   \n",
       "\n",
       "                                                  essay2  \\\n",
       "0      making people laugh. ranting about a good salt...   \n",
       "1      being silly. having ridiculous amonts of fun w...   \n",
       "2      improvising in different contexts. alternating...   \n",
       "3      playing synthesizers and organizing books acco...   \n",
       "4      creating imagery to look at: http://bagsbrown....   \n",
       "...                                                  ...   \n",
       "59941  i make an outstanding osso bucco. i am also ve...   \n",
       "59942  filmmaking, photography, graphic design, web d...   \n",
       "59943  - looking at things objectively - getting thin...   \n",
       "59944                                          listening   \n",
       "59945  i'm a great bullshitter. i don't know what it ...   \n",
       "\n",
       "                                                  essay3  \\\n",
       "0      the way i look. i am a six foot half asian, ha...   \n",
       "1                                                    NaN   \n",
       "2      my large jaw and large glasses are the physica...   \n",
       "3                      socially awkward but i do my best   \n",
       "4                i smile a lot and my inquisitive nature   \n",
       "...                                                  ...   \n",
       "59941  i am told that people notice my smile, eyes an...   \n",
       "59942                                dude, i don't know.   \n",
       "59943  i'm quiet until i get used to the environment ...   \n",
       "59944  it used to be the hair until i mowed it off bu...   \n",
       "59945  either that i am funny/sarcastic, or that i am...   \n",
       "\n",
       "                                                  essay4  \\\n",
       "0      books: absurdistan, the republic, of mice and ...   \n",
       "1      i am die hard christopher moore fan. i don't r...   \n",
       "2      okay this is where the cultural matrix gets so...   \n",
       "3      bataille, celine, beckett. . . lynch, jarmusch...   \n",
       "4      music: bands, rappers, musicians at the moment...   \n",
       "...                                                  ...   \n",
       "59941  i am an avid movie watcher and follow the broa...   \n",
       "59942  movies: hook (the greatest adventure ever!), g...   \n",
       "59943  last book: \"game change\". movies: bourne serie...   \n",
       "59944  where to begin musically: right now i listen t...   \n",
       "59945  i just read the help by kathryn stockett, sooo...   \n",
       "\n",
       "                                                  essay5  \\\n",
       "0                      food. water. cell phone. shelter.   \n",
       "1      delicious porkness in all of its glories. my b...   \n",
       "2      movement conversation creation contemplation t...   \n",
       "3                                                    NaN   \n",
       "4                                                    NaN   \n",
       "...                                                  ...   \n",
       "59941         my family, my dog, italy, words and music!   \n",
       "59942  iphone contact lenses headphones camera tv rem...   \n",
       "59943  - iphone - friends and family - internet - bay...   \n",
       "59944  music, family, friends, a basketball, hoop, so...   \n",
       "59945  1. family & friends & other humans - interacti...   \n",
       "\n",
       "                                                  essay6  \\\n",
       "0                            duality and humorous things   \n",
       "1                                                    NaN   \n",
       "2                                                    NaN   \n",
       "3                             cats and german philosophy   \n",
       "4                                                    NaN   \n",
       "...                                                  ...   \n",
       "59941                                   writing my book.   \n",
       "59942  i do most of my thinking on the bus to/from wo...   \n",
       "59943           aside from work, how to improve my home.   \n",
       "59944          what can i do to make someone chuckle....   \n",
       "59945  sex, myself, other people, how amazing everyth...   \n",
       "\n",
       "                                                  essay7  \\\n",
       "0      trying to find someone to hang out with. i am ...   \n",
       "1                                                    NaN   \n",
       "2      viewing. listening. dancing. talking. drinking...   \n",
       "3                                                    NaN   \n",
       "4                                                    NaN   \n",
       "...                                                  ...   \n",
       "59941  running with my dog, finishing up the work wee...   \n",
       "59942      bringin' home bacon, or drinking and shakin'!   \n",
       "59943    out enjoying friendly conversation over dinner.   \n",
       "59944  what i would do on any other day. everydays a ...   \n",
       "59945  out at happy hour with my friends, running int...   \n",
       "\n",
       "                                                  essay8  \\\n",
       "0      i am new to california and looking for someone...   \n",
       "1      i am very open and will share just about anyth...   \n",
       "2      when i was five years old, i was known as \"the...   \n",
       "3                                                    NaN   \n",
       "4                                                    NaN   \n",
       "...                                                  ...   \n",
       "59941  i have a dream to sing at the alconquin in nyc...   \n",
       "59942  when i was 18 i got a tattoo of waldo somewher...   \n",
       "59943               please let me think about this more.   \n",
       "59944  i like walking around in other people's house ...   \n",
       "59945  i wish i could cry like holly hunter in broadc...   \n",
       "\n",
       "                                                  essay9  \n",
       "0      you want to be swept off your feet! you are ti...  \n",
       "1                                                    NaN  \n",
       "2      you are bright, open, intense, silly, ironic, ...  \n",
       "3                                  you feel so inclined.  \n",
       "4                                                    NaN  \n",
       "...                                                  ...  \n",
       "59941  you are seeking a long term connection of shar...  \n",
       "59942     meh if you made it this far you might as well.  \n",
       "59943                         we have similar interests.  \n",
       "59944              you are interested and interesting...  \n",
       "59945  if you have a back-bone, an opinion, a sense o...  \n",
       "\n",
       "[59946 rows x 11 columns]"
      ]
     },
     "metadata": {},
     "output_type": "display_data"
    }
   ],
   "source": [
    "pd.set_option(\"display.max_columns\", 50)\n",
    "df = pd.read_csv(os.path.join(DATA_PATH, \"okcupid_profiles.csv\"))\n",
    "display(df.iloc[:, :10])\n",
    "display(df.iloc[:, 10:20])\n",
    "display(df.iloc[:, 20:31])"
   ]
  },
  {
   "cell_type": "markdown",
   "metadata": {},
   "source": [
    "Vamos a asegurarnos de que los tipos de datos son los correctos."
   ]
  },
  {
   "cell_type": "code",
   "execution_count": 5,
   "metadata": {
    "ExecuteTime": {
     "end_time": "2021-01-10T15:10:55.408478Z",
     "start_time": "2021-01-10T15:10:55.396916Z"
    }
   },
   "outputs": [
    {
     "data": {
      "text/html": [
       "<div>\n",
       "<style scoped>\n",
       "    .dataframe tbody tr th:only-of-type {\n",
       "        vertical-align: middle;\n",
       "    }\n",
       "\n",
       "    .dataframe tbody tr th {\n",
       "        vertical-align: top;\n",
       "    }\n",
       "\n",
       "    .dataframe thead th {\n",
       "        text-align: right;\n",
       "    }\n",
       "</style>\n",
       "<table border=\"1\" class=\"dataframe\">\n",
       "  <thead>\n",
       "    <tr style=\"text-align: right;\">\n",
       "      <th></th>\n",
       "      <th>0</th>\n",
       "    </tr>\n",
       "  </thead>\n",
       "  <tbody>\n",
       "    <tr>\n",
       "      <th>age</th>\n",
       "      <td>int64</td>\n",
       "    </tr>\n",
       "    <tr>\n",
       "      <th>status</th>\n",
       "      <td>object</td>\n",
       "    </tr>\n",
       "    <tr>\n",
       "      <th>sex</th>\n",
       "      <td>object</td>\n",
       "    </tr>\n",
       "    <tr>\n",
       "      <th>orientation</th>\n",
       "      <td>object</td>\n",
       "    </tr>\n",
       "    <tr>\n",
       "      <th>body_type</th>\n",
       "      <td>object</td>\n",
       "    </tr>\n",
       "    <tr>\n",
       "      <th>diet</th>\n",
       "      <td>object</td>\n",
       "    </tr>\n",
       "    <tr>\n",
       "      <th>drinks</th>\n",
       "      <td>object</td>\n",
       "    </tr>\n",
       "    <tr>\n",
       "      <th>drugs</th>\n",
       "      <td>object</td>\n",
       "    </tr>\n",
       "    <tr>\n",
       "      <th>education</th>\n",
       "      <td>object</td>\n",
       "    </tr>\n",
       "    <tr>\n",
       "      <th>ethnicity</th>\n",
       "      <td>object</td>\n",
       "    </tr>\n",
       "    <tr>\n",
       "      <th>height</th>\n",
       "      <td>float64</td>\n",
       "    </tr>\n",
       "    <tr>\n",
       "      <th>income</th>\n",
       "      <td>int64</td>\n",
       "    </tr>\n",
       "    <tr>\n",
       "      <th>job</th>\n",
       "      <td>object</td>\n",
       "    </tr>\n",
       "    <tr>\n",
       "      <th>last_online</th>\n",
       "      <td>object</td>\n",
       "    </tr>\n",
       "    <tr>\n",
       "      <th>location</th>\n",
       "      <td>object</td>\n",
       "    </tr>\n",
       "    <tr>\n",
       "      <th>offspring</th>\n",
       "      <td>object</td>\n",
       "    </tr>\n",
       "    <tr>\n",
       "      <th>pets</th>\n",
       "      <td>object</td>\n",
       "    </tr>\n",
       "    <tr>\n",
       "      <th>religion</th>\n",
       "      <td>object</td>\n",
       "    </tr>\n",
       "    <tr>\n",
       "      <th>sign</th>\n",
       "      <td>object</td>\n",
       "    </tr>\n",
       "    <tr>\n",
       "      <th>smokes</th>\n",
       "      <td>object</td>\n",
       "    </tr>\n",
       "    <tr>\n",
       "      <th>speaks</th>\n",
       "      <td>object</td>\n",
       "    </tr>\n",
       "    <tr>\n",
       "      <th>essay0</th>\n",
       "      <td>object</td>\n",
       "    </tr>\n",
       "    <tr>\n",
       "      <th>essay1</th>\n",
       "      <td>object</td>\n",
       "    </tr>\n",
       "    <tr>\n",
       "      <th>essay2</th>\n",
       "      <td>object</td>\n",
       "    </tr>\n",
       "    <tr>\n",
       "      <th>essay3</th>\n",
       "      <td>object</td>\n",
       "    </tr>\n",
       "    <tr>\n",
       "      <th>essay4</th>\n",
       "      <td>object</td>\n",
       "    </tr>\n",
       "    <tr>\n",
       "      <th>essay5</th>\n",
       "      <td>object</td>\n",
       "    </tr>\n",
       "    <tr>\n",
       "      <th>essay6</th>\n",
       "      <td>object</td>\n",
       "    </tr>\n",
       "    <tr>\n",
       "      <th>essay7</th>\n",
       "      <td>object</td>\n",
       "    </tr>\n",
       "    <tr>\n",
       "      <th>essay8</th>\n",
       "      <td>object</td>\n",
       "    </tr>\n",
       "    <tr>\n",
       "      <th>essay9</th>\n",
       "      <td>object</td>\n",
       "    </tr>\n",
       "  </tbody>\n",
       "</table>\n",
       "</div>"
      ],
      "text/plain": [
       "                   0\n",
       "age            int64\n",
       "status        object\n",
       "sex           object\n",
       "orientation   object\n",
       "body_type     object\n",
       "diet          object\n",
       "drinks        object\n",
       "drugs         object\n",
       "education     object\n",
       "ethnicity     object\n",
       "height       float64\n",
       "income         int64\n",
       "job           object\n",
       "last_online   object\n",
       "location      object\n",
       "offspring     object\n",
       "pets          object\n",
       "religion      object\n",
       "sign          object\n",
       "smokes        object\n",
       "speaks        object\n",
       "essay0        object\n",
       "essay1        object\n",
       "essay2        object\n",
       "essay3        object\n",
       "essay4        object\n",
       "essay5        object\n",
       "essay6        object\n",
       "essay7        object\n",
       "essay8        object\n",
       "essay9        object"
      ]
     },
     "execution_count": 5,
     "metadata": {},
     "output_type": "execute_result"
    }
   ],
   "source": [
    "pd.DataFrame(df.dtypes)"
   ]
  },
  {
   "cell_type": "markdown",
   "metadata": {},
   "source": [
    "Los valores numéricos aparecen como tal. Los valores categóricos o de texto aparecen como `object`, lo cual es aceptable y podemos trabajar con ello. No queremos pasarlo a `str` aún porque puede haber valores `NaN` que se convertirían en el string `'nan'`, y nos daría problemas.\n",
    "\n",
    "La columna `last_online` es una fecha, y como tal podría convertirse a un tipo `datetime`. Sin embargo, considerando la naturaleza del problema (queremos agrupar perfiles de personalidades similares), creemos que esta columna no será relevante a la hora de decidir si dos personas se parecen. Por eso, vamos a eliminar la columna `last_online`. Con esta decisión reducimos el volumen de datos y nos centramos en las columnas numéricas y categóricas que aportan información sobre la personalidad, preferencias o apariencia física de una persona."
   ]
  },
  {
   "cell_type": "code",
   "execution_count": 6,
   "metadata": {
    "ExecuteTime": {
     "end_time": "2021-01-10T15:10:55.520872Z",
     "start_time": "2021-01-10T15:10:55.410793Z"
    }
   },
   "outputs": [],
   "source": [
    "del df[\"last_online\"]"
   ]
  },
  {
   "cell_type": "markdown",
   "metadata": {},
   "source": [
    "Con respecto al resto de variables, parece que tenemos tres tipos de variables principales: las variables numéricas, las categóricas y las de texto. Consideramos que las de texto son únicamente las variables `essay0`-`essay9`, que son de texto libre puro. Aunque parezca que otras variables de tipo `object` son texto, observando con cuidado se puede ver que todas tienen una cierta estructura (posiblemente sacada de un formulario con un número de opciones finito) y por tanto son categóricas."
   ]
  },
  {
   "cell_type": "code",
   "execution_count": 7,
   "metadata": {
    "ExecuteTime": {
     "end_time": "2021-01-10T15:10:56.473348Z",
     "start_time": "2021-01-10T15:10:55.522916Z"
    }
   },
   "outputs": [],
   "source": [
    "numerical_vars = [\"age\", \"height\", \"income\"]\n",
    "categorical_vars = [\"status\", \"sex\", \"orientation\", \"body_type\", \"diet\", \"drinks\", \"drugs\", \"education\",\n",
    "                    \"ethnicity\", \"job\", \"location\", \"offspring\", \"pets\", \"religion\", \"sign\", \"smokes\", \"speaks\"]\n",
    "text_vars = [f\"essay{i}\" for i in range(10)]"
   ]
  },
  {
   "cell_type": "markdown",
   "metadata": {},
   "source": [
    "Ya que el número de *features* totales es bastante alto, hemos decidido mezclar las fases de análisis y preprocesamiento dividiendo por *feature*. Durante el análisis de una *feature* particular se decidirá cómo preprocesarla y se preparará un transformador que ejecutaremos posteriormente.\n",
    "\n",
    "Estos transformadores que iremos declarando serán compatibles con la API de *scikit-learn* y por tanto implementarán los métodos `fit` y `transform`. De esta manera conseguimos una estructura modular mantenible. Ejecutaremos el pipeline completo una sola vez, al final del preprocesamiento."
   ]
  },
  {
   "cell_type": "markdown",
   "metadata": {},
   "source": [
    "## 2.1 Variables numéricas"
   ]
  },
  {
   "cell_type": "markdown",
   "metadata": {},
   "source": [
    "En primer lugar vamos a echar un vistazo a los estadísticos descriptivos de las variables numéricas  para después abordar un análisis individual de cada una de ellas."
   ]
  },
  {
   "cell_type": "code",
   "execution_count": 8,
   "metadata": {
    "ExecuteTime": {
     "end_time": "2021-01-10T15:10:56.586189Z",
     "start_time": "2021-01-10T15:10:56.476021Z"
    }
   },
   "outputs": [
    {
     "data": {
      "text/html": [
       "<div>\n",
       "<style scoped>\n",
       "    .dataframe tbody tr th:only-of-type {\n",
       "        vertical-align: middle;\n",
       "    }\n",
       "\n",
       "    .dataframe tbody tr th {\n",
       "        vertical-align: top;\n",
       "    }\n",
       "\n",
       "    .dataframe thead th {\n",
       "        text-align: right;\n",
       "    }\n",
       "</style>\n",
       "<table border=\"1\" class=\"dataframe\">\n",
       "  <thead>\n",
       "    <tr style=\"text-align: right;\">\n",
       "      <th></th>\n",
       "      <th>age</th>\n",
       "      <th>height</th>\n",
       "      <th>income</th>\n",
       "    </tr>\n",
       "  </thead>\n",
       "  <tbody>\n",
       "    <tr>\n",
       "      <th>count</th>\n",
       "      <td>59946.000000</td>\n",
       "      <td>59943.000000</td>\n",
       "      <td>59946.000000</td>\n",
       "    </tr>\n",
       "    <tr>\n",
       "      <th>mean</th>\n",
       "      <td>32.340290</td>\n",
       "      <td>68.295281</td>\n",
       "      <td>20033.222534</td>\n",
       "    </tr>\n",
       "    <tr>\n",
       "      <th>std</th>\n",
       "      <td>9.452779</td>\n",
       "      <td>3.994803</td>\n",
       "      <td>97346.192104</td>\n",
       "    </tr>\n",
       "    <tr>\n",
       "      <th>min</th>\n",
       "      <td>18.000000</td>\n",
       "      <td>1.000000</td>\n",
       "      <td>-1.000000</td>\n",
       "    </tr>\n",
       "    <tr>\n",
       "      <th>25%</th>\n",
       "      <td>26.000000</td>\n",
       "      <td>66.000000</td>\n",
       "      <td>-1.000000</td>\n",
       "    </tr>\n",
       "    <tr>\n",
       "      <th>50%</th>\n",
       "      <td>30.000000</td>\n",
       "      <td>68.000000</td>\n",
       "      <td>-1.000000</td>\n",
       "    </tr>\n",
       "    <tr>\n",
       "      <th>75%</th>\n",
       "      <td>37.000000</td>\n",
       "      <td>71.000000</td>\n",
       "      <td>-1.000000</td>\n",
       "    </tr>\n",
       "    <tr>\n",
       "      <th>max</th>\n",
       "      <td>110.000000</td>\n",
       "      <td>95.000000</td>\n",
       "      <td>1000000.000000</td>\n",
       "    </tr>\n",
       "  </tbody>\n",
       "</table>\n",
       "</div>"
      ],
      "text/plain": [
       "                age        height          income\n",
       "count  59946.000000  59943.000000    59946.000000\n",
       "mean      32.340290     68.295281    20033.222534\n",
       "std        9.452779      3.994803    97346.192104\n",
       "min       18.000000      1.000000       -1.000000\n",
       "25%       26.000000     66.000000       -1.000000\n",
       "50%       30.000000     68.000000       -1.000000\n",
       "75%       37.000000     71.000000       -1.000000\n",
       "max      110.000000     95.000000  1000000.000000"
      ]
     },
     "execution_count": 8,
     "metadata": {},
     "output_type": "execute_result"
    }
   ],
   "source": [
    "df[numerical_vars].describe()"
   ]
  },
  {
   "cell_type": "markdown",
   "metadata": {},
   "source": [
    "En este punto ya podemos observar como hay algunos datos numéricos un tanto extraños:\n",
    "* La altura parece estar en pulgadas, *inches*. La altura media de un ser humano en pulgadas es 68, correspondiente con 172 cm. En este sentido vemos que la altura mínima es 1 pulgada y que la máxima es de 95 (241 cm). Según la lista de personas más altas de la historia publicada en Wikipedia \\[1\\], una altura de 90 pulgadas (230 cm) ya es algo inaudito. Por otro lado, la altura mínima es 1 pulgada, dato claramente erróneo.\n",
    "* La edad máxima es 110, lo cual hace dudar que sea un dato correcto. Posiblemente esta edad corresponda con personas que no quieren compartir su edad verdadera.\n",
    "* Los ingresos llaman la atención en tanto que el ingreso mínimo es -1 y el percentil 75 también es -1. Esto indica que al menos el 75% de los usuarios de la aplicación no han querido decir sus ingresos."
   ]
  },
  {
   "cell_type": "markdown",
   "metadata": {},
   "source": [
    "A continuación evaluaremos cada una de estas variables por separado."
   ]
  },
  {
   "cell_type": "markdown",
   "metadata": {},
   "source": [
    "### 2.1.1 Altura"
   ]
  },
  {
   "cell_type": "markdown",
   "metadata": {},
   "source": [
    "#### 2.1.1.1 Análisis de valores nulos"
   ]
  },
  {
   "cell_type": "markdown",
   "metadata": {},
   "source": [
    "En primer lugar, vamos a ver si tenemos valores nulos en la altura."
   ]
  },
  {
   "cell_type": "code",
   "execution_count": 9,
   "metadata": {
    "ExecuteTime": {
     "end_time": "2021-01-10T15:10:56.652386Z",
     "start_time": "2021-01-10T15:10:56.589368Z"
    }
   },
   "outputs": [
    {
     "data": {
      "text/plain": [
       "True"
      ]
     },
     "execution_count": 9,
     "metadata": {},
     "output_type": "execute_result"
    }
   ],
   "source": [
    "any(df[\"height\"].isnull())"
   ]
  },
  {
   "cell_type": "code",
   "execution_count": 10,
   "metadata": {
    "ExecuteTime": {
     "end_time": "2021-01-10T15:10:56.789764Z",
     "start_time": "2021-01-10T15:10:56.654045Z"
    }
   },
   "outputs": [
    {
     "data": {
      "text/html": [
       "<div>\n",
       "<style scoped>\n",
       "    .dataframe tbody tr th:only-of-type {\n",
       "        vertical-align: middle;\n",
       "    }\n",
       "\n",
       "    .dataframe tbody tr th {\n",
       "        vertical-align: top;\n",
       "    }\n",
       "\n",
       "    .dataframe thead th {\n",
       "        text-align: right;\n",
       "    }\n",
       "</style>\n",
       "<table border=\"1\" class=\"dataframe\">\n",
       "  <thead>\n",
       "    <tr style=\"text-align: right;\">\n",
       "      <th></th>\n",
       "      <th>age</th>\n",
       "      <th>status</th>\n",
       "      <th>sex</th>\n",
       "      <th>orientation</th>\n",
       "      <th>body_type</th>\n",
       "      <th>diet</th>\n",
       "      <th>drinks</th>\n",
       "      <th>drugs</th>\n",
       "      <th>education</th>\n",
       "      <th>ethnicity</th>\n",
       "      <th>height</th>\n",
       "      <th>income</th>\n",
       "      <th>job</th>\n",
       "      <th>location</th>\n",
       "      <th>offspring</th>\n",
       "      <th>pets</th>\n",
       "      <th>religion</th>\n",
       "      <th>sign</th>\n",
       "      <th>smokes</th>\n",
       "      <th>speaks</th>\n",
       "      <th>essay0</th>\n",
       "      <th>essay1</th>\n",
       "      <th>essay2</th>\n",
       "      <th>essay3</th>\n",
       "      <th>essay4</th>\n",
       "      <th>essay5</th>\n",
       "      <th>essay6</th>\n",
       "      <th>essay7</th>\n",
       "      <th>essay8</th>\n",
       "      <th>essay9</th>\n",
       "    </tr>\n",
       "  </thead>\n",
       "  <tbody>\n",
       "    <tr>\n",
       "      <th>36428</th>\n",
       "      <td>32</td>\n",
       "      <td>single</td>\n",
       "      <td>f</td>\n",
       "      <td>straight</td>\n",
       "      <td>NaN</td>\n",
       "      <td>NaN</td>\n",
       "      <td>NaN</td>\n",
       "      <td>NaN</td>\n",
       "      <td>NaN</td>\n",
       "      <td>other</td>\n",
       "      <td>NaN</td>\n",
       "      <td>-1</td>\n",
       "      <td>artistic / musical / writer</td>\n",
       "      <td>berkeley, california</td>\n",
       "      <td>NaN</td>\n",
       "      <td>NaN</td>\n",
       "      <td>NaN</td>\n",
       "      <td>NaN</td>\n",
       "      <td>NaN</td>\n",
       "      <td>english (fluently), german (fluently)</td>\n",
       "      <td>NaN</td>\n",
       "      <td>NaN</td>\n",
       "      <td>NaN</td>\n",
       "      <td>NaN</td>\n",
       "      <td>thomas bernhard, foucault, annie hall, taxi dr...</td>\n",
       "      <td>NaN</td>\n",
       "      <td>consciousness</td>\n",
       "      <td>NaN</td>\n",
       "      <td>i passionately hate liars!</td>\n",
       "      <td>you know what my user name means and if you ar...</td>\n",
       "    </tr>\n",
       "    <tr>\n",
       "      <th>54002</th>\n",
       "      <td>25</td>\n",
       "      <td>single</td>\n",
       "      <td>m</td>\n",
       "      <td>straight</td>\n",
       "      <td>NaN</td>\n",
       "      <td>NaN</td>\n",
       "      <td>NaN</td>\n",
       "      <td>never</td>\n",
       "      <td>NaN</td>\n",
       "      <td>hispanic / latin</td>\n",
       "      <td>NaN</td>\n",
       "      <td>-1</td>\n",
       "      <td>NaN</td>\n",
       "      <td>guadalajara, mexico</td>\n",
       "      <td>NaN</td>\n",
       "      <td>NaN</td>\n",
       "      <td>NaN</td>\n",
       "      <td>aries</td>\n",
       "      <td>NaN</td>\n",
       "      <td>english</td>\n",
       "      <td>NaN</td>\n",
       "      <td>NaN</td>\n",
       "      <td>NaN</td>\n",
       "      <td>NaN</td>\n",
       "      <td>NaN</td>\n",
       "      <td>NaN</td>\n",
       "      <td>NaN</td>\n",
       "      <td>NaN</td>\n",
       "      <td>NaN</td>\n",
       "      <td>NaN</td>\n",
       "    </tr>\n",
       "    <tr>\n",
       "      <th>58983</th>\n",
       "      <td>49</td>\n",
       "      <td>single</td>\n",
       "      <td>m</td>\n",
       "      <td>straight</td>\n",
       "      <td>NaN</td>\n",
       "      <td>NaN</td>\n",
       "      <td>NaN</td>\n",
       "      <td>NaN</td>\n",
       "      <td>NaN</td>\n",
       "      <td>NaN</td>\n",
       "      <td>NaN</td>\n",
       "      <td>-1</td>\n",
       "      <td>NaN</td>\n",
       "      <td>berkeley, california</td>\n",
       "      <td>doesn't have kids</td>\n",
       "      <td>likes cats</td>\n",
       "      <td>NaN</td>\n",
       "      <td>NaN</td>\n",
       "      <td>no</td>\n",
       "      <td>english (fluently)</td>\n",
       "      <td>great guy, lots of positive attributes*, but s...</td>\n",
       "      <td>living it.  quite a bit more than that - more ...</td>\n",
       "      <td>lots, notably good, deep, excellent communicat...</td>\n",
       "      <td>some positive stuff, but i'll hold my tongue o...</td>\n",
       "      <td>lots.  not especially up to listing 'em here a...</td>\n",
       "      <td>1. damn good friend, or better 2. managing to ...</td>\n",
       "      <td>many things. maybe too much. not really up for...</td>\n",
       "      <td>at the moment, i'd rather not even say or thin...</td>\n",
       "      <td>i have a blog of much that's personal and priv...</td>\n",
       "      <td>you've good reason to think we'd like make at ...</td>\n",
       "    </tr>\n",
       "  </tbody>\n",
       "</table>\n",
       "</div>"
      ],
      "text/plain": [
       "       age  status sex orientation body_type diet drinks  drugs education  \\\n",
       "36428   32  single   f    straight       NaN  NaN    NaN    NaN       NaN   \n",
       "54002   25  single   m    straight       NaN  NaN    NaN  never       NaN   \n",
       "58983   49  single   m    straight       NaN  NaN    NaN    NaN       NaN   \n",
       "\n",
       "              ethnicity  height  income                          job  \\\n",
       "36428             other     NaN      -1  artistic / musical / writer   \n",
       "54002  hispanic / latin     NaN      -1                          NaN   \n",
       "58983               NaN     NaN      -1                          NaN   \n",
       "\n",
       "                   location          offspring        pets religion   sign  \\\n",
       "36428  berkeley, california                NaN         NaN      NaN    NaN   \n",
       "54002   guadalajara, mexico                NaN         NaN      NaN  aries   \n",
       "58983  berkeley, california  doesn't have kids  likes cats      NaN    NaN   \n",
       "\n",
       "      smokes                                 speaks  \\\n",
       "36428    NaN  english (fluently), german (fluently)   \n",
       "54002    NaN                                english   \n",
       "58983     no                     english (fluently)   \n",
       "\n",
       "                                                  essay0  \\\n",
       "36428                                                NaN   \n",
       "54002                                                NaN   \n",
       "58983  great guy, lots of positive attributes*, but s...   \n",
       "\n",
       "                                                  essay1  \\\n",
       "36428                                                NaN   \n",
       "54002                                                NaN   \n",
       "58983  living it.  quite a bit more than that - more ...   \n",
       "\n",
       "                                                  essay2  \\\n",
       "36428                                                NaN   \n",
       "54002                                                NaN   \n",
       "58983  lots, notably good, deep, excellent communicat...   \n",
       "\n",
       "                                                  essay3  \\\n",
       "36428                                                NaN   \n",
       "54002                                                NaN   \n",
       "58983  some positive stuff, but i'll hold my tongue o...   \n",
       "\n",
       "                                                  essay4  \\\n",
       "36428  thomas bernhard, foucault, annie hall, taxi dr...   \n",
       "54002                                                NaN   \n",
       "58983  lots.  not especially up to listing 'em here a...   \n",
       "\n",
       "                                                  essay5  \\\n",
       "36428                                                NaN   \n",
       "54002                                                NaN   \n",
       "58983  1. damn good friend, or better 2. managing to ...   \n",
       "\n",
       "                                                  essay6  \\\n",
       "36428                                      consciousness   \n",
       "54002                                                NaN   \n",
       "58983  many things. maybe too much. not really up for...   \n",
       "\n",
       "                                                  essay7  \\\n",
       "36428                                                NaN   \n",
       "54002                                                NaN   \n",
       "58983  at the moment, i'd rather not even say or thin...   \n",
       "\n",
       "                                                  essay8  \\\n",
       "36428                         i passionately hate liars!   \n",
       "54002                                                NaN   \n",
       "58983  i have a blog of much that's personal and priv...   \n",
       "\n",
       "                                                  essay9  \n",
       "36428  you know what my user name means and if you ar...  \n",
       "54002                                                NaN  \n",
       "58983  you've good reason to think we'd like make at ...  "
      ]
     },
     "execution_count": 10,
     "metadata": {},
     "output_type": "execute_result"
    }
   ],
   "source": [
    "df[df[\"height\"].isnull()]"
   ]
  },
  {
   "cell_type": "markdown",
   "metadata": {},
   "source": [
    "Parece que tenemos tres filas en las cuales nos falta la edad. Podríamos plantearnos utilizar un *imputer* para completar estas filas, pero si miramos el resto de *features* para estos tres individuos vemos que casi todas las columnas están vacías. Habría que rellenar todo con valores neutros, lo cual acabaría añadiendo más ruido que beneficio. Por eso, vamos a eliminar estas tres filas."
   ]
  },
  {
   "cell_type": "code",
   "execution_count": 11,
   "metadata": {
    "ExecuteTime": {
     "end_time": "2021-01-10T15:10:56.877012Z",
     "start_time": "2021-01-10T15:10:56.791545Z"
    }
   },
   "outputs": [],
   "source": [
    "df.drop(df[df[\"height\"].isnull()].index, inplace=True)"
   ]
  },
  {
   "cell_type": "markdown",
   "metadata": {},
   "source": [
    "#### 2.1.1.2 Análisis de valores anómalos"
   ]
  },
  {
   "cell_type": "markdown",
   "metadata": {},
   "source": [
    "A continuación, vamos a mostrar los datos de la altura recibidos mediante un histograma, así como los valores anómalos (que ya hemos visto que los hay) mediante un diagrama de caja y bigotes."
   ]
  },
  {
   "cell_type": "code",
   "execution_count": 12,
   "metadata": {
    "ExecuteTime": {
     "end_time": "2021-01-10T15:10:57.401281Z",
     "start_time": "2021-01-10T15:10:56.880463Z"
    }
   },
   "outputs": [
    {
     "data": {
      "image/png": "[encoded data removed]",
      "text/plain": [
       "<Figure size 1440x576 with 2 Axes>"
      ]
     },
     "metadata": {},
     "output_type": "display_data"
    }
   ],
   "source": [
    "fig, ax = plt.subplots(2, 1, figsize=(20, 8), sharex=True)\n",
    "plt.subplots_adjust(hspace=0)\n",
    "\n",
    "sns.boxplot(data=df[\"height\"], orient=\"horizontal\", ax=ax[0], linewidth=2.5, color=\"darkorange\")\n",
    "ax[0].set_title(\"Histogram and boxplot for height\", fontdict={\"size\": 20, \"family\": \"Consolas\"})\n",
    "ax[0].set_yticks([])\n",
    "\n",
    "sns.histplot(data=df[\"height\"], bins=50, ax=ax[1], linewidth=2.5, edgecolor=\"#555555\", color=\"steelblue\")\n",
    "ax[1].set_xticks(range(0, 100, 5))\n",
    "ax[1].set_xlabel(\"Height (in)\", fontdict={\"size\": 15, \"family\": \"Consolas\"})\n",
    "ax[1].set_ylabel(\"Count\", fontdict={\"size\": 15, \"family\": \"Consolas\"})\n",
    "\n",
    "\n",
    "plt.xticks(size=15)\n",
    "plt.yticks(size=15)\n",
    "plt.show()"
   ]
  },
  {
   "cell_type": "markdown",
   "metadata": {},
   "source": [
    "Podemos observar que los valores anómalos son abundantes en este caso. Vamos a ver qué valores son:"
   ]
  },
  {
   "cell_type": "code",
   "execution_count": 13,
   "metadata": {
    "ExecuteTime": {
     "end_time": "2021-01-10T15:10:57.418723Z",
     "start_time": "2021-01-10T15:10:57.402558Z"
    }
   },
   "outputs": [
    {
     "data": {
      "text/plain": [
       "72.0    5315\n",
       "73.0    2815\n",
       "74.0    2547\n",
       "75.0    1382\n",
       "76.0     783\n",
       "77.0     280\n",
       "78.0     132\n",
       "79.0      57\n",
       "80.0      27\n",
       "81.0      11\n",
       "82.0      11\n",
       "83.0      12\n",
       "84.0       9\n",
       "85.0       1\n",
       "86.0       1\n",
       "87.0       1\n",
       "88.0       2\n",
       "89.0       1\n",
       "90.0       1\n",
       "91.0       3\n",
       "92.0       1\n",
       "93.0       1\n",
       "94.0       3\n",
       "95.0      20\n",
       "Name: height, dtype: int64"
      ]
     },
     "execution_count": 13,
     "metadata": {},
     "output_type": "execute_result"
    }
   ],
   "source": [
    "df[df[\"height\"] > np.percentile(df[\"height\"], 75)][\"height\"].value_counts().sort_index()"
   ]
  },
  {
   "cell_type": "code",
   "execution_count": 14,
   "metadata": {
    "ExecuteTime": {
     "end_time": "2021-01-10T15:10:58.938422Z",
     "start_time": "2021-01-10T15:10:57.420112Z"
    }
   },
   "outputs": [
    {
     "data": {
      "text/plain": [
       "m    24\n",
       "f    10\n",
       "Name: sex, dtype: int64"
      ]
     },
     "execution_count": 14,
     "metadata": {},
     "output_type": "execute_result"
    }
   ],
   "source": [
    "df[df[\"height\"] > 85][\"sex\"].value_counts()"
   ]
  },
  {
   "cell_type": "markdown",
   "metadata": {},
   "source": [
    "En el caso de las personas muy altas, las alturas de 72-79 pulgadas (182-200 cm) parecen valores anómalos pero correctos, atendiendo al alto número de instancias. Por otra parte, hay 20 instancias que han dado 95 pulgadas, lo cual nos hace pensar que probablemente era el máximo valor permitido en el formulario y ha sido seleccionado por usuarios que han hecho cuentas falsas. Podemos tomar la decisión de eliminar las filas con alturas mayores de 85 pulgadas (215 cm). Las probabilidades de que sean valores reales son muy bajas en el caso de hombres, y sólo hay una mujer viva en el mundo que mida más de 215 cm, Sun Fang de China \\[1\\]. Por ello, eliminamos estos registros."
   ]
  },
  {
   "cell_type": "code",
   "execution_count": 15,
   "metadata": {
    "ExecuteTime": {
     "end_time": "2021-01-10T15:10:59.123697Z",
     "start_time": "2021-01-10T15:10:58.945882Z"
    }
   },
   "outputs": [],
   "source": [
    "df.drop(df[df[\"height\"] > 85].index, inplace=True)"
   ]
  },
  {
   "cell_type": "markdown",
   "metadata": {},
   "source": [
    "Ahora abordaremos el caso contrario, el de las personas que no llegan al percentil 25 de altura."
   ]
  },
  {
   "cell_type": "code",
   "execution_count": 16,
   "metadata": {
    "ExecuteTime": {
     "end_time": "2021-01-10T15:10:59.163035Z",
     "start_time": "2021-01-10T15:10:59.125250Z"
    }
   },
   "outputs": [
    {
     "data": {
      "text/plain": [
       "65.0    3794\n",
       "64.0    3865\n",
       "63.0    2767\n",
       "62.0    2244\n",
       "61.0    1090\n",
       "60.0     791\n",
       "59.0     212\n",
       "58.0      53\n",
       "57.0      17\n",
       "56.0       8\n",
       "55.0       6\n",
       "54.0       3\n",
       "53.0       5\n",
       "52.0       1\n",
       "51.0       1\n",
       "50.0       2\n",
       "49.0       1\n",
       "48.0       2\n",
       "47.0       1\n",
       "43.0       2\n",
       "42.0       1\n",
       "37.0       2\n",
       "36.0      11\n",
       "26.0       1\n",
       "9.0        1\n",
       "8.0        1\n",
       "6.0        1\n",
       "4.0        1\n",
       "3.0        1\n",
       "1.0        1\n",
       "Name: height, dtype: int64"
      ]
     },
     "execution_count": 16,
     "metadata": {},
     "output_type": "execute_result"
    }
   ],
   "source": [
    "df[df[\"height\"] < np.percentile(df[\"height\"], 25)][\"height\"].value_counts().sort_index(ascending=False)"
   ]
  },
  {
   "cell_type": "markdown",
   "metadata": {},
   "source": [
    "De nuevo, estamos ante una situación similar: la mayoría de valores anómalos están más cerca de la mediana que del mínimo. Aquí podemos establecer un límite inferior coherente de acuerdo con el diagrama de caja y bigotes y partiendo de la base de que podemos contar con usuarios de la aplicación que pueden tener alguna patología como el enanismo. Según Mayo Clinic \\[2\\], una persona que padezca enanismo podría estar entorno a 122 cm de altura (48 pulgadas), existiendo algunos casos que pueden alcanzar los 91 (35.8 pulgadas) en casos muy raros. Por ello, vamos a eliminar los registros con valores inferiores a 36."
   ]
  },
  {
   "cell_type": "code",
   "execution_count": 17,
   "metadata": {
    "ExecuteTime": {
     "end_time": "2021-01-10T15:10:59.270334Z",
     "start_time": "2021-01-10T15:10:59.164929Z"
    }
   },
   "outputs": [],
   "source": [
    "df.drop(df[df[\"height\"] < 36].index, inplace=True)"
   ]
  },
  {
   "cell_type": "markdown",
   "metadata": {},
   "source": [
    "#### 2.1.1.3 Análisis de normalidad"
   ]
  },
  {
   "cell_type": "markdown",
   "metadata": {},
   "source": [
    "Una vez hemos tratado los valores erróneos, el preprocesamiento de la altura será una normalización o escalado. Vamos a hacer una comprobación de normalidad."
   ]
  },
  {
   "cell_type": "code",
   "execution_count": 18,
   "metadata": {
    "ExecuteTime": {
     "end_time": "2021-01-10T15:10:59.372251Z",
     "start_time": "2021-01-10T15:10:59.272030Z"
    }
   },
   "outputs": [
    {
     "name": "stdout",
     "output_type": "stream",
     "text": [
      "Not a normal distribution. p-value: 1.333621726087334e-294\n"
     ]
    }
   ],
   "source": [
    "mu, sigma = norm.fit(df[\"height\"])\n",
    "n = norm(loc=mu, scale=sigma)\n",
    "pvalue = kstest(df[\"height\"], n.cdf).pvalue\n",
    "if pvalue < 0.05:\n",
    "    print(f\"Not a normal distribution. p-value: {pvalue}\")\n",
    "else:\n",
    "    print(\"Test inconclusive\")"
   ]
  },
  {
   "cell_type": "markdown",
   "metadata": {},
   "source": [
    "Parece que el test dice que la variable no sigue una distribución normal. Sin embargo, vamos a volver a mirar el histograma después de haber eliminado los valores erróneos."
   ]
  },
  {
   "cell_type": "code",
   "execution_count": 19,
   "metadata": {
    "ExecuteTime": {
     "end_time": "2021-01-10T15:10:59.659486Z",
     "start_time": "2021-01-10T15:10:59.374251Z"
    }
   },
   "outputs": [
    {
     "data": {
      "image/png": "[encoded data removed]",
      "text/plain": [
       "<Figure size 1440x576 with 1 Axes>"
      ]
     },
     "metadata": {},
     "output_type": "display_data"
    }
   ],
   "source": [
    "plt.figure(figsize=(20, 8))\n",
    "plt.title(\"Distribution of height in OkCupid data\", fontdict={\"size\": 20, \"family\": \"Consolas\"})\n",
    "sns.histplot(data=df[\"height\"], bins=50, linewidth=2.5, edgecolor=\"#555555\", color=\"steelblue\")\n",
    "plt.xlabel(\"Height (in)\", fontdict={\"size\": 15, \"family\": \"Consolas\"})\n",
    "plt.ylabel(\"Count\", fontdict={\"size\": 15, \"family\": \"Consolas\"})\n",
    "plt.show()"
   ]
  },
  {
   "cell_type": "markdown",
   "metadata": {},
   "source": [
    "Claramente el test $K$-$S$ ha dicho que no es una distribución normal por los valores anómalos de alturas menores de 40 pulgadas. Esto también significa que un escalado normal entre 0 y 1 sería una mala idea, ya que si 36 pulgadas es el mínimo, la mayoría de valores acabarán escalados alrededor de 0.75.\n",
    "\n",
    "La altura humana es considerada a menudo como el ejemplo clásico de variable normal, y tomando como referencia datos del Centro de Control de Enfermedades de E.E.U.U. (CDC \\[3\\]) vemos que en las distribuciones de la altura la mediana es siempre igual a la media y la separación entre cuantiles es constante, factores que son suficientes para utilizar una normalización sin problemas."
   ]
  },
  {
   "cell_type": "markdown",
   "metadata": {},
   "source": [
    "#### 2.1.1.4 Transformador"
   ]
  },
  {
   "cell_type": "markdown",
   "metadata": {},
   "source": [
    "Ahora que hemos estudiado la normalidad de la distribución, podemos definir un [`StandardScaler`](https://scikit-learn.org/stable/modules/generated/sklearn.preprocessing.StandardScaler.html) para la variable `height`."
   ]
  },
  {
   "cell_type": "code",
   "execution_count": 20,
   "metadata": {
    "ExecuteTime": {
     "end_time": "2021-01-10T15:10:59.665609Z",
     "start_time": "2021-01-10T15:10:59.661173Z"
    }
   },
   "outputs": [],
   "source": [
    "height_transformer = StandardScaler()"
   ]
  },
  {
   "cell_type": "markdown",
   "metadata": {},
   "source": [
    "### 2.1.2 Edad"
   ]
  },
  {
   "cell_type": "markdown",
   "metadata": {},
   "source": [
    "#### 2.1.2.1 Análisis de valores nulos"
   ]
  },
  {
   "cell_type": "markdown",
   "metadata": {},
   "source": [
    "Vamos a ver si hay valores nulos para la edad, y si los hay, cuántos son."
   ]
  },
  {
   "cell_type": "code",
   "execution_count": 21,
   "metadata": {
    "ExecuteTime": {
     "end_time": "2021-01-10T15:10:59.747907Z",
     "start_time": "2021-01-10T15:10:59.666999Z"
    }
   },
   "outputs": [
    {
     "data": {
      "text/plain": [
       "False"
      ]
     },
     "execution_count": 21,
     "metadata": {},
     "output_type": "execute_result"
    }
   ],
   "source": [
    "any(df[\"age\"].isnull())"
   ]
  },
  {
   "cell_type": "markdown",
   "metadata": {},
   "source": [
    "Por suerte este campo no tiene valores nulos. Probablemente esto se deba a que para poder utilizar la plataforma de OkCupid, tener una edad mayor a 18 es un requisito, y por tanto incluir la edad es obligatorio."
   ]
  },
  {
   "cell_type": "markdown",
   "metadata": {},
   "source": [
    "#### 2.1.2.2 Análisis de valores anómalos"
   ]
  },
  {
   "cell_type": "markdown",
   "metadata": {},
   "source": [
    "Como hemos visto anteriormente, hay una edad máxima de 110 años. Lo más seguro es que se trate de un dato erróneo, así que vamos a estudiar estos valores anómalos con un diagrama de caja y bigotes junto a un histograma."
   ]
  },
  {
   "cell_type": "code",
   "execution_count": 22,
   "metadata": {
    "ExecuteTime": {
     "end_time": "2021-01-10T15:11:00.148359Z",
     "start_time": "2021-01-10T15:10:59.749293Z"
    }
   },
   "outputs": [
    {
     "data": {
      "image/png": "[encoded data removed]",
      "text/plain": [
       "<Figure size 1440x576 with 2 Axes>"
      ]
     },
     "metadata": {},
     "output_type": "display_data"
    }
   ],
   "source": [
    "fig, ax = plt.subplots(2, 1, figsize=(20, 8), sharex=True)\n",
    "plt.subplots_adjust(hspace=0)\n",
    "\n",
    "sns.boxplot(data=df[\"age\"], orient=\"horizontal\", ax=ax[0], linewidth=2.5, color=\"darkorange\")\n",
    "ax[0].set_title(\"Histogram and boxplot for age\", fontdict={\"size\": 20, \"family\": \"Consolas\"})\n",
    "ax[0].set_yticks([])\n",
    "\n",
    "sns.histplot(data=df[\"age\"], bins=30, ax=ax[1], linewidth=2.5, edgecolor=\"#555555\", color=\"steelblue\")\n",
    "ax[1].set_xticks(range(18, 110, 10))\n",
    "ax[1].set_xlabel(\"Age (years)\", fontdict={\"size\": 15, \"family\": \"Consolas\"})\n",
    "ax[1].set_ylabel(\"Count\", fontdict={\"size\": 15, \"family\": \"Consolas\"})\n",
    "\n",
    "\n",
    "plt.xticks(size=15)\n",
    "plt.yticks(size=15)\n",
    "plt.show()"
   ]
  },
  {
   "cell_type": "markdown",
   "metadata": {},
   "source": [
    "En este caso, parece que los valores anómalos no son tantos, y parecen ser razonables, exceptuando ese 110 que veíamos al principio. Vamos a mirar los valores superiores al percentil 75."
   ]
  },
  {
   "cell_type": "code",
   "execution_count": 23,
   "metadata": {
    "ExecuteTime": {
     "end_time": "2021-01-10T15:11:00.169515Z",
     "start_time": "2021-01-10T15:11:00.152641Z"
    }
   },
   "outputs": [
    {
     "data": {
      "text/plain": [
       "38     1329\n",
       "39     1171\n",
       "40     1029\n",
       "41      979\n",
       "42     1072\n",
       "43      858\n",
       "44      708\n",
       "45      643\n",
       "46      578\n",
       "47      529\n",
       "48      481\n",
       "49      458\n",
       "50      437\n",
       "51      350\n",
       "52      343\n",
       "53      252\n",
       "54      267\n",
       "55      264\n",
       "56      271\n",
       "57      256\n",
       "58      197\n",
       "59      221\n",
       "60      195\n",
       "61      175\n",
       "62      167\n",
       "63      138\n",
       "64      113\n",
       "65      109\n",
       "66      105\n",
       "67       66\n",
       "68       59\n",
       "69       31\n",
       "110       1\n",
       "Name: age, dtype: int64"
      ]
     },
     "execution_count": 23,
     "metadata": {},
     "output_type": "execute_result"
    }
   ],
   "source": [
    "df[df[\"age\"] > np.percentile(df[\"age\"], 75)][\"age\"].value_counts().sort_index()"
   ]
  },
  {
   "cell_type": "markdown",
   "metadata": {},
   "source": [
    "Sin tener nada más en lo que apoyarnos, parece creíble que todos los valores anómalos sean reales, exceptuando el de 110. Vamos a mirar bien esa fila:"
   ]
  },
  {
   "cell_type": "code",
   "execution_count": 24,
   "metadata": {
    "ExecuteTime": {
     "end_time": "2021-01-10T15:11:00.254880Z",
     "start_time": "2021-01-10T15:11:00.172911Z"
    }
   },
   "outputs": [
    {
     "data": {
      "text/html": [
       "<div>\n",
       "<style scoped>\n",
       "    .dataframe tbody tr th:only-of-type {\n",
       "        vertical-align: middle;\n",
       "    }\n",
       "\n",
       "    .dataframe tbody tr th {\n",
       "        vertical-align: top;\n",
       "    }\n",
       "\n",
       "    .dataframe thead th {\n",
       "        text-align: right;\n",
       "    }\n",
       "</style>\n",
       "<table border=\"1\" class=\"dataframe\">\n",
       "  <thead>\n",
       "    <tr style=\"text-align: right;\">\n",
       "      <th></th>\n",
       "      <th>age</th>\n",
       "      <th>status</th>\n",
       "      <th>sex</th>\n",
       "      <th>orientation</th>\n",
       "      <th>body_type</th>\n",
       "      <th>diet</th>\n",
       "      <th>drinks</th>\n",
       "      <th>drugs</th>\n",
       "      <th>education</th>\n",
       "      <th>ethnicity</th>\n",
       "      <th>height</th>\n",
       "      <th>income</th>\n",
       "      <th>job</th>\n",
       "      <th>location</th>\n",
       "      <th>offspring</th>\n",
       "      <th>pets</th>\n",
       "      <th>religion</th>\n",
       "      <th>sign</th>\n",
       "      <th>smokes</th>\n",
       "      <th>speaks</th>\n",
       "      <th>essay0</th>\n",
       "      <th>essay1</th>\n",
       "      <th>essay2</th>\n",
       "      <th>essay3</th>\n",
       "      <th>essay4</th>\n",
       "      <th>essay5</th>\n",
       "      <th>essay6</th>\n",
       "      <th>essay7</th>\n",
       "      <th>essay8</th>\n",
       "      <th>essay9</th>\n",
       "    </tr>\n",
       "  </thead>\n",
       "  <tbody>\n",
       "    <tr>\n",
       "      <th>2512</th>\n",
       "      <td>110</td>\n",
       "      <td>single</td>\n",
       "      <td>f</td>\n",
       "      <td>straight</td>\n",
       "      <td>NaN</td>\n",
       "      <td>NaN</td>\n",
       "      <td>NaN</td>\n",
       "      <td>NaN</td>\n",
       "      <td>NaN</td>\n",
       "      <td>NaN</td>\n",
       "      <td>67.0</td>\n",
       "      <td>-1</td>\n",
       "      <td>NaN</td>\n",
       "      <td>daly city, california</td>\n",
       "      <td>NaN</td>\n",
       "      <td>NaN</td>\n",
       "      <td>NaN</td>\n",
       "      <td>NaN</td>\n",
       "      <td>NaN</td>\n",
       "      <td>english</td>\n",
       "      <td>NaN</td>\n",
       "      <td>NaN</td>\n",
       "      <td>NaN</td>\n",
       "      <td>NaN</td>\n",
       "      <td>NaN</td>\n",
       "      <td>NaN</td>\n",
       "      <td>NaN</td>\n",
       "      <td>NaN</td>\n",
       "      <td>NaN</td>\n",
       "      <td>NaN</td>\n",
       "    </tr>\n",
       "  </tbody>\n",
       "</table>\n",
       "</div>"
      ],
      "text/plain": [
       "      age  status sex orientation body_type diet drinks drugs education  \\\n",
       "2512  110  single   f    straight       NaN  NaN    NaN   NaN       NaN   \n",
       "\n",
       "     ethnicity  height  income  job               location offspring pets  \\\n",
       "2512       NaN    67.0      -1  NaN  daly city, california       NaN  NaN   \n",
       "\n",
       "     religion sign smokes   speaks essay0 essay1 essay2 essay3 essay4 essay5  \\\n",
       "2512      NaN  NaN    NaN  english    NaN    NaN    NaN    NaN    NaN    NaN   \n",
       "\n",
       "     essay6 essay7 essay8 essay9  \n",
       "2512    NaN    NaN    NaN    NaN  "
      ]
     },
     "execution_count": 24,
     "metadata": {},
     "output_type": "execute_result"
    }
   ],
   "source": [
    "df[df[\"age\"] == 110]"
   ]
  },
  {
   "cell_type": "markdown",
   "metadata": {},
   "source": [
    "Claramente este usuario no es serio. De lo contrario, habría rellenado algún campo más. \n",
    "\n",
    "Sólo para asegurarnos y dejarlo aún más claro, podemos apoyarnos en la tabla de la Administración de la Seguridad Social de E.E.U.U (SSA \\[4\\]), que nos dice la probabilidad de muerte dada una edad. El apartado *Number of lives* indica el número de personas que sobreviven hasta la edad dada partiendo de 100000. Para 110 años, son 14. Si la probabilidad de que una persona dada tenga 110 años o más es $0.00014$, sin considerar las probabilidades de que esté utilizando una red de citas (dudosas en el mejor de los casos), podemos eliminar esta fila sin dudas."
   ]
  },
  {
   "cell_type": "code",
   "execution_count": 25,
   "metadata": {
    "ExecuteTime": {
     "end_time": "2021-01-10T15:11:00.377165Z",
     "start_time": "2021-01-10T15:11:00.256342Z"
    }
   },
   "outputs": [],
   "source": [
    "df.drop(df[df[\"age\"] == 110].index, inplace=True)"
   ]
  },
  {
   "cell_type": "markdown",
   "metadata": {},
   "source": [
    "#### 2.1.2.3 Transformador"
   ]
  },
  {
   "cell_type": "markdown",
   "metadata": {},
   "source": [
    "Con respecto al resto de datos, claramente no están distribuidos de forma normal. Podemos simplemente codificar utilizando un escalado de 0 a 1."
   ]
  },
  {
   "cell_type": "code",
   "execution_count": 26,
   "metadata": {
    "ExecuteTime": {
     "end_time": "2021-01-10T15:11:00.743919Z",
     "start_time": "2021-01-10T15:11:00.378728Z"
    }
   },
   "outputs": [],
   "source": [
    "age_transformer = MinMaxScaler()"
   ]
  },
  {
   "cell_type": "markdown",
   "metadata": {},
   "source": [
    "### 2.1.3 Ingresos"
   ]
  },
  {
   "cell_type": "markdown",
   "metadata": {},
   "source": [
    "#### 2.1.3.1 Análisis de valores nulos"
   ]
  },
  {
   "cell_type": "markdown",
   "metadata": {},
   "source": [
    "Como hemos hecho en las demás variables numéricas, vamos a estudiar si hay valores nulos."
   ]
  },
  {
   "cell_type": "code",
   "execution_count": 27,
   "metadata": {
    "ExecuteTime": {
     "end_time": "2021-01-10T15:11:00.828213Z",
     "start_time": "2021-01-10T15:11:00.745119Z"
    }
   },
   "outputs": [
    {
     "data": {
      "text/plain": [
       "False"
      ]
     },
     "execution_count": 27,
     "metadata": {},
     "output_type": "execute_result"
    }
   ],
   "source": [
    "any(df[\"income\"].isnull())"
   ]
  },
  {
   "cell_type": "markdown",
   "metadata": {},
   "source": [
    "En principio parece no haber valores nulos. Sin embargo, hemos observado anteriormente que la gran mayoría de valores son un -1, indicando que no se ha querido decir los ingresos. Si consideramos estos valores como nulos, tendremos un porcentaje alto."
   ]
  },
  {
   "cell_type": "code",
   "execution_count": 28,
   "metadata": {
    "ExecuteTime": {
     "end_time": "2021-01-10T15:11:00.937558Z",
     "start_time": "2021-01-10T15:11:00.829854Z"
    }
   },
   "outputs": [
    {
     "name": "stdout",
     "output_type": "stream",
     "text": [
      "81% with non-specified incomes\n"
     ]
    }
   ],
   "source": [
    "print(f\"{round((len(df[df['income'] == -1]) / len(df)) * 100)}% with non-specified incomes\")"
   ]
  },
  {
   "cell_type": "markdown",
   "metadata": {},
   "source": [
    "Este valor es excesivamente alto. No podemos utilizar un *imputer* para completar estos valores. Tampoco podemos eliminar las filas que hayan indicado -1 en `income`, porque perderíamos el $81\\%$ de nuestros datos. Ante esta situación, lo mejor que podemos hacer es eliminar la columna `income` al completo. Tenemos otras variables, como la ocupación, que pueden servir de sustituto para reflejar el poder adquisitivo de un usuario, y esta columna está demasiado vacía para ser usable."
   ]
  },
  {
   "cell_type": "code",
   "execution_count": 29,
   "metadata": {
    "ExecuteTime": {
     "end_time": "2021-01-10T15:11:01.017896Z",
     "start_time": "2021-01-10T15:11:00.939465Z"
    }
   },
   "outputs": [],
   "source": [
    "df.drop(columns=\"income\", inplace=True)"
   ]
  },
  {
   "cell_type": "markdown",
   "metadata": {},
   "source": [
    "## 2.2 Variables categóricas"
   ]
  },
  {
   "cell_type": "markdown",
   "metadata": {},
   "source": [
    "Antes de empezar con las variables categóricas específicas, podemos echar un vistazo general para ver si podemos encontrar patrones interesantes."
   ]
  },
  {
   "cell_type": "code",
   "execution_count": 30,
   "metadata": {
    "ExecuteTime": {
     "end_time": "2021-01-10T15:11:01.110214Z",
     "start_time": "2021-01-10T15:11:01.019794Z"
    }
   },
   "outputs": [
    {
     "data": {
      "text/html": [
       "<div>\n",
       "<style scoped>\n",
       "    .dataframe tbody tr th:only-of-type {\n",
       "        vertical-align: middle;\n",
       "    }\n",
       "\n",
       "    .dataframe tbody tr th {\n",
       "        vertical-align: top;\n",
       "    }\n",
       "\n",
       "    .dataframe thead th {\n",
       "        text-align: right;\n",
       "    }\n",
       "</style>\n",
       "<table border=\"1\" class=\"dataframe\">\n",
       "  <thead>\n",
       "    <tr style=\"text-align: right;\">\n",
       "      <th></th>\n",
       "      <th>status</th>\n",
       "      <th>sex</th>\n",
       "      <th>orientation</th>\n",
       "      <th>body_type</th>\n",
       "      <th>diet</th>\n",
       "      <th>drinks</th>\n",
       "      <th>drugs</th>\n",
       "      <th>education</th>\n",
       "      <th>ethnicity</th>\n",
       "      <th>job</th>\n",
       "      <th>location</th>\n",
       "      <th>offspring</th>\n",
       "      <th>pets</th>\n",
       "      <th>religion</th>\n",
       "      <th>sign</th>\n",
       "      <th>smokes</th>\n",
       "      <th>speaks</th>\n",
       "    </tr>\n",
       "  </thead>\n",
       "  <tbody>\n",
       "    <tr>\n",
       "      <th>0</th>\n",
       "      <td>single</td>\n",
       "      <td>m</td>\n",
       "      <td>straight</td>\n",
       "      <td>a little extra</td>\n",
       "      <td>strictly anything</td>\n",
       "      <td>socially</td>\n",
       "      <td>never</td>\n",
       "      <td>working on college/university</td>\n",
       "      <td>asian, white</td>\n",
       "      <td>transportation</td>\n",
       "      <td>south san francisco, california</td>\n",
       "      <td>doesn't have kids, but might want them</td>\n",
       "      <td>likes dogs and likes cats</td>\n",
       "      <td>agnosticism and very serious about it</td>\n",
       "      <td>gemini</td>\n",
       "      <td>sometimes</td>\n",
       "      <td>english</td>\n",
       "    </tr>\n",
       "    <tr>\n",
       "      <th>1</th>\n",
       "      <td>single</td>\n",
       "      <td>m</td>\n",
       "      <td>straight</td>\n",
       "      <td>average</td>\n",
       "      <td>mostly other</td>\n",
       "      <td>often</td>\n",
       "      <td>sometimes</td>\n",
       "      <td>working on space camp</td>\n",
       "      <td>white</td>\n",
       "      <td>hospitality / travel</td>\n",
       "      <td>oakland, california</td>\n",
       "      <td>doesn't have kids, but might want them</td>\n",
       "      <td>likes dogs and likes cats</td>\n",
       "      <td>agnosticism but not too serious about it</td>\n",
       "      <td>cancer</td>\n",
       "      <td>no</td>\n",
       "      <td>english (fluently), spanish (poorly), french (...</td>\n",
       "    </tr>\n",
       "    <tr>\n",
       "      <th>2</th>\n",
       "      <td>available</td>\n",
       "      <td>m</td>\n",
       "      <td>straight</td>\n",
       "      <td>thin</td>\n",
       "      <td>anything</td>\n",
       "      <td>socially</td>\n",
       "      <td>NaN</td>\n",
       "      <td>graduated from masters program</td>\n",
       "      <td>NaN</td>\n",
       "      <td>NaN</td>\n",
       "      <td>san francisco, california</td>\n",
       "      <td>NaN</td>\n",
       "      <td>has cats</td>\n",
       "      <td>NaN</td>\n",
       "      <td>pisces but it doesn&amp;rsquo;t matter</td>\n",
       "      <td>no</td>\n",
       "      <td>english, french, c++</td>\n",
       "    </tr>\n",
       "    <tr>\n",
       "      <th>3</th>\n",
       "      <td>single</td>\n",
       "      <td>m</td>\n",
       "      <td>straight</td>\n",
       "      <td>thin</td>\n",
       "      <td>vegetarian</td>\n",
       "      <td>socially</td>\n",
       "      <td>NaN</td>\n",
       "      <td>working on college/university</td>\n",
       "      <td>white</td>\n",
       "      <td>student</td>\n",
       "      <td>berkeley, california</td>\n",
       "      <td>doesn't want kids</td>\n",
       "      <td>likes cats</td>\n",
       "      <td>NaN</td>\n",
       "      <td>pisces</td>\n",
       "      <td>no</td>\n",
       "      <td>english, german (poorly)</td>\n",
       "    </tr>\n",
       "    <tr>\n",
       "      <th>4</th>\n",
       "      <td>single</td>\n",
       "      <td>m</td>\n",
       "      <td>straight</td>\n",
       "      <td>athletic</td>\n",
       "      <td>NaN</td>\n",
       "      <td>socially</td>\n",
       "      <td>never</td>\n",
       "      <td>graduated from college/university</td>\n",
       "      <td>asian, black, other</td>\n",
       "      <td>artistic / musical / writer</td>\n",
       "      <td>san francisco, california</td>\n",
       "      <td>NaN</td>\n",
       "      <td>likes dogs and likes cats</td>\n",
       "      <td>NaN</td>\n",
       "      <td>aquarius</td>\n",
       "      <td>no</td>\n",
       "      <td>english</td>\n",
       "    </tr>\n",
       "    <tr>\n",
       "      <th>...</th>\n",
       "      <td>...</td>\n",
       "      <td>...</td>\n",
       "      <td>...</td>\n",
       "      <td>...</td>\n",
       "      <td>...</td>\n",
       "      <td>...</td>\n",
       "      <td>...</td>\n",
       "      <td>...</td>\n",
       "      <td>...</td>\n",
       "      <td>...</td>\n",
       "      <td>...</td>\n",
       "      <td>...</td>\n",
       "      <td>...</td>\n",
       "      <td>...</td>\n",
       "      <td>...</td>\n",
       "      <td>...</td>\n",
       "      <td>...</td>\n",
       "    </tr>\n",
       "    <tr>\n",
       "      <th>59941</th>\n",
       "      <td>single</td>\n",
       "      <td>f</td>\n",
       "      <td>straight</td>\n",
       "      <td>NaN</td>\n",
       "      <td>NaN</td>\n",
       "      <td>socially</td>\n",
       "      <td>never</td>\n",
       "      <td>graduated from college/university</td>\n",
       "      <td>NaN</td>\n",
       "      <td>sales / marketing / biz dev</td>\n",
       "      <td>oakland, california</td>\n",
       "      <td>has kids</td>\n",
       "      <td>has dogs</td>\n",
       "      <td>catholicism but not too serious about it</td>\n",
       "      <td>cancer and it&amp;rsquo;s fun to think about</td>\n",
       "      <td>no</td>\n",
       "      <td>english</td>\n",
       "    </tr>\n",
       "    <tr>\n",
       "      <th>59942</th>\n",
       "      <td>single</td>\n",
       "      <td>m</td>\n",
       "      <td>straight</td>\n",
       "      <td>fit</td>\n",
       "      <td>mostly anything</td>\n",
       "      <td>often</td>\n",
       "      <td>sometimes</td>\n",
       "      <td>working on college/university</td>\n",
       "      <td>white, other</td>\n",
       "      <td>entertainment / media</td>\n",
       "      <td>san francisco, california</td>\n",
       "      <td>doesn't have kids</td>\n",
       "      <td>likes dogs and likes cats</td>\n",
       "      <td>agnosticism</td>\n",
       "      <td>leo but it doesn&amp;rsquo;t matter</td>\n",
       "      <td>no</td>\n",
       "      <td>english (fluently)</td>\n",
       "    </tr>\n",
       "    <tr>\n",
       "      <th>59943</th>\n",
       "      <td>single</td>\n",
       "      <td>m</td>\n",
       "      <td>straight</td>\n",
       "      <td>average</td>\n",
       "      <td>mostly anything</td>\n",
       "      <td>not at all</td>\n",
       "      <td>never</td>\n",
       "      <td>graduated from masters program</td>\n",
       "      <td>asian</td>\n",
       "      <td>construction / craftsmanship</td>\n",
       "      <td>south san francisco, california</td>\n",
       "      <td>doesn't have kids</td>\n",
       "      <td>NaN</td>\n",
       "      <td>christianity but not too serious about it</td>\n",
       "      <td>sagittarius but it doesn&amp;rsquo;t matter</td>\n",
       "      <td>no</td>\n",
       "      <td>english (fluently)</td>\n",
       "    </tr>\n",
       "    <tr>\n",
       "      <th>59944</th>\n",
       "      <td>single</td>\n",
       "      <td>m</td>\n",
       "      <td>straight</td>\n",
       "      <td>athletic</td>\n",
       "      <td>mostly anything</td>\n",
       "      <td>socially</td>\n",
       "      <td>often</td>\n",
       "      <td>working on college/university</td>\n",
       "      <td>asian, black</td>\n",
       "      <td>medicine / health</td>\n",
       "      <td>san francisco, california</td>\n",
       "      <td>doesn't have kids, but wants them</td>\n",
       "      <td>likes dogs and likes cats</td>\n",
       "      <td>agnosticism but not too serious about it</td>\n",
       "      <td>leo and it&amp;rsquo;s fun to think about</td>\n",
       "      <td>trying to quit</td>\n",
       "      <td>english (fluently), spanish (poorly), chinese ...</td>\n",
       "    </tr>\n",
       "    <tr>\n",
       "      <th>59945</th>\n",
       "      <td>single</td>\n",
       "      <td>m</td>\n",
       "      <td>gay</td>\n",
       "      <td>average</td>\n",
       "      <td>NaN</td>\n",
       "      <td>socially</td>\n",
       "      <td>NaN</td>\n",
       "      <td>graduated from masters program</td>\n",
       "      <td>white</td>\n",
       "      <td>medicine / health</td>\n",
       "      <td>san francisco, california</td>\n",
       "      <td>NaN</td>\n",
       "      <td>likes dogs and likes cats</td>\n",
       "      <td>catholicism and laughing about it</td>\n",
       "      <td>gemini and it&amp;rsquo;s fun to think about</td>\n",
       "      <td>sometimes</td>\n",
       "      <td>english</td>\n",
       "    </tr>\n",
       "  </tbody>\n",
       "</table>\n",
       "<p>59901 rows × 17 columns</p>\n",
       "</div>"
      ],
      "text/plain": [
       "          status sex orientation       body_type               diet  \\\n",
       "0         single   m    straight  a little extra  strictly anything   \n",
       "1         single   m    straight         average       mostly other   \n",
       "2      available   m    straight            thin           anything   \n",
       "3         single   m    straight            thin         vegetarian   \n",
       "4         single   m    straight        athletic                NaN   \n",
       "...          ...  ..         ...             ...                ...   \n",
       "59941     single   f    straight             NaN                NaN   \n",
       "59942     single   m    straight             fit    mostly anything   \n",
       "59943     single   m    straight         average    mostly anything   \n",
       "59944     single   m    straight        athletic    mostly anything   \n",
       "59945     single   m         gay         average                NaN   \n",
       "\n",
       "           drinks      drugs                          education  \\\n",
       "0        socially      never      working on college/university   \n",
       "1           often  sometimes              working on space camp   \n",
       "2        socially        NaN     graduated from masters program   \n",
       "3        socially        NaN      working on college/university   \n",
       "4        socially      never  graduated from college/university   \n",
       "...           ...        ...                                ...   \n",
       "59941    socially      never  graduated from college/university   \n",
       "59942       often  sometimes      working on college/university   \n",
       "59943  not at all      never     graduated from masters program   \n",
       "59944    socially      often      working on college/university   \n",
       "59945    socially        NaN     graduated from masters program   \n",
       "\n",
       "                 ethnicity                           job  \\\n",
       "0             asian, white                transportation   \n",
       "1                    white          hospitality / travel   \n",
       "2                      NaN                           NaN   \n",
       "3                    white                       student   \n",
       "4      asian, black, other   artistic / musical / writer   \n",
       "...                    ...                           ...   \n",
       "59941                  NaN   sales / marketing / biz dev   \n",
       "59942         white, other         entertainment / media   \n",
       "59943                asian  construction / craftsmanship   \n",
       "59944         asian, black             medicine / health   \n",
       "59945                white             medicine / health   \n",
       "\n",
       "                              location  \\\n",
       "0      south san francisco, california   \n",
       "1                  oakland, california   \n",
       "2            san francisco, california   \n",
       "3                 berkeley, california   \n",
       "4            san francisco, california   \n",
       "...                                ...   \n",
       "59941              oakland, california   \n",
       "59942        san francisco, california   \n",
       "59943  south san francisco, california   \n",
       "59944        san francisco, california   \n",
       "59945        san francisco, california   \n",
       "\n",
       "                                    offspring                       pets  \\\n",
       "0      doesn't have kids, but might want them  likes dogs and likes cats   \n",
       "1      doesn't have kids, but might want them  likes dogs and likes cats   \n",
       "2                                         NaN                   has cats   \n",
       "3                           doesn't want kids                 likes cats   \n",
       "4                                         NaN  likes dogs and likes cats   \n",
       "...                                       ...                        ...   \n",
       "59941                                has kids                   has dogs   \n",
       "59942                       doesn't have kids  likes dogs and likes cats   \n",
       "59943                       doesn't have kids                        NaN   \n",
       "59944       doesn't have kids, but wants them  likes dogs and likes cats   \n",
       "59945                                     NaN  likes dogs and likes cats   \n",
       "\n",
       "                                        religion  \\\n",
       "0          agnosticism and very serious about it   \n",
       "1       agnosticism but not too serious about it   \n",
       "2                                            NaN   \n",
       "3                                            NaN   \n",
       "4                                            NaN   \n",
       "...                                          ...   \n",
       "59941   catholicism but not too serious about it   \n",
       "59942                                agnosticism   \n",
       "59943  christianity but not too serious about it   \n",
       "59944   agnosticism but not too serious about it   \n",
       "59945          catholicism and laughing about it   \n",
       "\n",
       "                                           sign          smokes  \\\n",
       "0                                        gemini       sometimes   \n",
       "1                                        cancer              no   \n",
       "2            pisces but it doesn&rsquo;t matter              no   \n",
       "3                                        pisces              no   \n",
       "4                                      aquarius              no   \n",
       "...                                         ...             ...   \n",
       "59941  cancer and it&rsquo;s fun to think about              no   \n",
       "59942           leo but it doesn&rsquo;t matter              no   \n",
       "59943   sagittarius but it doesn&rsquo;t matter              no   \n",
       "59944     leo and it&rsquo;s fun to think about  trying to quit   \n",
       "59945  gemini and it&rsquo;s fun to think about       sometimes   \n",
       "\n",
       "                                                  speaks  \n",
       "0                                                english  \n",
       "1      english (fluently), spanish (poorly), french (...  \n",
       "2                                   english, french, c++  \n",
       "3                               english, german (poorly)  \n",
       "4                                                english  \n",
       "...                                                  ...  \n",
       "59941                                            english  \n",
       "59942                                 english (fluently)  \n",
       "59943                                 english (fluently)  \n",
       "59944  english (fluently), spanish (poorly), chinese ...  \n",
       "59945                                            english  \n",
       "\n",
       "[59901 rows x 17 columns]"
      ]
     },
     "execution_count": 30,
     "metadata": {},
     "output_type": "execute_result"
    }
   ],
   "source": [
    "df[categorical_vars]"
   ]
  },
  {
   "cell_type": "markdown",
   "metadata": {},
   "source": [
    "Llegados a este punto, hemos decidido subdividir las variables categóricas en tres tipos:\n",
    " 1. Las variables categóricas simples (una cadena de caracteres $\\iff$ una categoría)\n",
    " 2. Las variables que van a resultar en un punto de un espacio de $n$ dimensiones (por ejemplo, descompondremos `location` en dos dimensiones `latitude` y `longitude`).\n",
    " 3. Las variables que contienen un conjunto de categorías estándar modificadas por prefijos o sufijos (como las dietas)\n",
    " \n",
    "Trataremos cada conjunto de variables por separado."
   ]
  },
  {
   "cell_type": "markdown",
   "metadata": {},
   "source": [
    "### 2.2.1 Variables categóricas simples"
   ]
  },
  {
   "cell_type": "markdown",
   "metadata": {},
   "source": [
    "Estas variables simples son aquellas en las que una entrada implica una categoría. Acabarán codificadas como un vector one-hot utilizando [OneHotEncoder](https://scikit-learn.org/stable/modules/generated/sklearn.preprocessing.OneHotEncoder.html) o de forma ordinal utilizando [OrdinalEncoder](https://scikit-learn.org/stable/modules/generated/sklearn.preprocessing.OrdinalEncoder.html).\n",
    "\n",
    "Estas variables son `status`, `sex`, `drinks`, `drugs`, `job` y `smokes`.\n",
    "\n",
    "Sin embargo, es posible que necesiten algún preprocesamiento anterior. En muchos casos parece que algunas categorías pueden agruparse, como es el caso de algunos tipos de `status`. Para estos casos, vamos a preparar un transformador (o mejor dicho, un conjunto de transformadores) que nos permitirá modificar estas entradas fácilmente."
   ]
  },
  {
   "cell_type": "code",
   "execution_count": 31,
   "metadata": {
    "ExecuteTime": {
     "end_time": "2021-01-10T15:11:01.167257Z",
     "start_time": "2021-01-10T15:11:01.111789Z"
    }
   },
   "outputs": [],
   "source": [
    "def substitution_transformer(substitution_dict, full=False):\n",
    "    \"\"\"\n",
    "    Substitute elements of a NumPy array.\n",
    "    \n",
    "    substitution_dict: dictionary with shape {oldvalue1: newvalue1, oldvalue2: newvalue2, ... }\n",
    "    full: whether to substitute entire entry if a key matches or substitute just the match\n",
    "    \"\"\"\n",
    "    def substitute_elements(X):\n",
    "        for old, new in substitution_dict.items():\n",
    "            if full:\n",
    "                replacer = np.vectorize(lambda x: new if old in x else x)\n",
    "            else:\n",
    "                replacer = np.vectorize(lambda x: x.replace(old, new))\n",
    "            X = np.array(replacer(X), dtype=object)\n",
    "        return X\n",
    "    \n",
    "    return FunctionTransformer(substitute_elements)"
   ]
  },
  {
   "cell_type": "markdown",
   "metadata": {},
   "source": [
    "Con esto listo, vamos a empezar a estudiar las variables."
   ]
  },
  {
   "cell_type": "markdown",
   "metadata": {},
   "source": [
    "#### 2.2.1.1 Estado marital"
   ]
  },
  {
   "cell_type": "code",
   "execution_count": 32,
   "metadata": {
    "ExecuteTime": {
     "end_time": "2021-01-10T15:11:01.280933Z",
     "start_time": "2021-01-10T15:11:01.169969Z"
    }
   },
   "outputs": [
    {
     "data": {
      "text/plain": [
       "single            55657\n",
       "seeing someone     2062\n",
       "available          1863\n",
       "married             309\n",
       "unknown              10\n",
       "Name: status, dtype: int64"
      ]
     },
     "execution_count": 32,
     "metadata": {},
     "output_type": "execute_result"
    }
   ],
   "source": [
    "df[\"status\"].value_counts(dropna=False)"
   ]
  },
  {
   "cell_type": "markdown",
   "metadata": {},
   "source": [
    "Estos posibles estados parecen ser compatibles entre sí. Asumimos que el estado `unknown` significa que el usuario ha preferido no decirlo, no que sea un tipo diferente. Vamos a ver qué filas tienen `unknown`."
   ]
  },
  {
   "cell_type": "code",
   "execution_count": 33,
   "metadata": {
    "ExecuteTime": {
     "end_time": "2021-01-10T15:11:01.421574Z",
     "start_time": "2021-01-10T15:11:01.282307Z"
    }
   },
   "outputs": [
    {
     "data": {
      "text/html": [
       "<div>\n",
       "<style scoped>\n",
       "    .dataframe tbody tr th:only-of-type {\n",
       "        vertical-align: middle;\n",
       "    }\n",
       "\n",
       "    .dataframe tbody tr th {\n",
       "        vertical-align: top;\n",
       "    }\n",
       "\n",
       "    .dataframe thead th {\n",
       "        text-align: right;\n",
       "    }\n",
       "</style>\n",
       "<table border=\"1\" class=\"dataframe\">\n",
       "  <thead>\n",
       "    <tr style=\"text-align: right;\">\n",
       "      <th></th>\n",
       "      <th>age</th>\n",
       "      <th>status</th>\n",
       "      <th>sex</th>\n",
       "      <th>orientation</th>\n",
       "      <th>body_type</th>\n",
       "      <th>diet</th>\n",
       "      <th>drinks</th>\n",
       "      <th>drugs</th>\n",
       "      <th>education</th>\n",
       "      <th>ethnicity</th>\n",
       "      <th>height</th>\n",
       "      <th>job</th>\n",
       "      <th>location</th>\n",
       "      <th>offspring</th>\n",
       "      <th>pets</th>\n",
       "      <th>religion</th>\n",
       "      <th>sign</th>\n",
       "      <th>smokes</th>\n",
       "      <th>speaks</th>\n",
       "      <th>essay0</th>\n",
       "      <th>essay1</th>\n",
       "      <th>essay2</th>\n",
       "      <th>essay3</th>\n",
       "      <th>essay4</th>\n",
       "      <th>essay5</th>\n",
       "      <th>essay6</th>\n",
       "      <th>essay7</th>\n",
       "      <th>essay8</th>\n",
       "      <th>essay9</th>\n",
       "    </tr>\n",
       "  </thead>\n",
       "  <tbody>\n",
       "    <tr>\n",
       "      <th>17337</th>\n",
       "      <td>57</td>\n",
       "      <td>unknown</td>\n",
       "      <td>m</td>\n",
       "      <td>gay</td>\n",
       "      <td>average</td>\n",
       "      <td>mostly anything</td>\n",
       "      <td>rarely</td>\n",
       "      <td>NaN</td>\n",
       "      <td>graduated from high school</td>\n",
       "      <td>white</td>\n",
       "      <td>70.0</td>\n",
       "      <td>retired</td>\n",
       "      <td>menlo park, california</td>\n",
       "      <td>doesn't want kids</td>\n",
       "      <td>likes dogs and likes cats</td>\n",
       "      <td>other</td>\n",
       "      <td>leo</td>\n",
       "      <td>no</td>\n",
       "      <td>english, english</td>\n",
       "      <td>as an artist i like to borrow images that i li...</td>\n",
       "      <td>filling life with as much colour as i can.</td>\n",
       "      <td>spinning records &amp; dabbing brushes.</td>\n",
       "      <td>i have an assortment of hand-painted shirts i ...</td>\n",
       "      <td>books ----- frank herbert, clive barker, verno...</td>\n",
       "      <td>family the newest member of my family \"dances ...</td>\n",
       "      <td>i love brian eno's idea of the happy accident.</td>\n",
       "      <td>at home with my boy friend usually, listening ...</td>\n",
       "      <td>paisley hankys are on the right side.</td>\n",
       "      <td>if you are a character of interest ? drop a line.</td>\n",
       "    </tr>\n",
       "    <tr>\n",
       "      <th>20367</th>\n",
       "      <td>38</td>\n",
       "      <td>unknown</td>\n",
       "      <td>m</td>\n",
       "      <td>straight</td>\n",
       "      <td>average</td>\n",
       "      <td>NaN</td>\n",
       "      <td>socially</td>\n",
       "      <td>NaN</td>\n",
       "      <td>NaN</td>\n",
       "      <td>NaN</td>\n",
       "      <td>68.0</td>\n",
       "      <td>NaN</td>\n",
       "      <td>oakland, california</td>\n",
       "      <td>NaN</td>\n",
       "      <td>NaN</td>\n",
       "      <td>NaN</td>\n",
       "      <td>NaN</td>\n",
       "      <td>NaN</td>\n",
       "      <td>english</td>\n",
       "      <td>fun loving professional guy. i live in oakland...</td>\n",
       "      <td>NaN</td>\n",
       "      <td>NaN</td>\n",
       "      <td>NaN</td>\n",
       "      <td>NaN</td>\n",
       "      <td>NaN</td>\n",
       "      <td>NaN</td>\n",
       "      <td>NaN</td>\n",
       "      <td>i have watched late-night nanny marathons (or ...</td>\n",
       "      <td>NaN</td>\n",
       "    </tr>\n",
       "    <tr>\n",
       "      <th>31148</th>\n",
       "      <td>31</td>\n",
       "      <td>unknown</td>\n",
       "      <td>m</td>\n",
       "      <td>straight</td>\n",
       "      <td>athletic</td>\n",
       "      <td>NaN</td>\n",
       "      <td>socially</td>\n",
       "      <td>never</td>\n",
       "      <td>working on masters program</td>\n",
       "      <td>asian</td>\n",
       "      <td>69.0</td>\n",
       "      <td>sales / marketing / biz dev</td>\n",
       "      <td>san francisco, california</td>\n",
       "      <td>NaN</td>\n",
       "      <td>NaN</td>\n",
       "      <td>NaN</td>\n",
       "      <td>aquarius</td>\n",
       "      <td>no</td>\n",
       "      <td>english (okay), chinese (okay), spanish (okay)...</td>\n",
       "      <td>believing that anything can happen. or just tr...</td>\n",
       "      <td>social entrepreneur + product marketer</td>\n",
       "      <td>balancing a spoon on my nose, making monkey fa...</td>\n",
       "      <td>big eyes</td>\n",
       "      <td>favorite- books: \"leaving microsoft to change ...</td>\n",
       "      <td>motivation creativity oxygen ideas mobility/ t...</td>\n",
       "      <td>-how to improve socioeconomic conditions in de...</td>\n",
       "      <td>out to dinner/ drinks with friends, movie...</td>\n",
       "      <td>my favorite routine: shopping for food at trad...</td>\n",
       "      <td>...you want to chat, hang out, and learn about...</td>\n",
       "    </tr>\n",
       "    <tr>\n",
       "      <th>32848</th>\n",
       "      <td>38</td>\n",
       "      <td>unknown</td>\n",
       "      <td>m</td>\n",
       "      <td>straight</td>\n",
       "      <td>NaN</td>\n",
       "      <td>NaN</td>\n",
       "      <td>socially</td>\n",
       "      <td>NaN</td>\n",
       "      <td>graduated from college/university</td>\n",
       "      <td>NaN</td>\n",
       "      <td>74.0</td>\n",
       "      <td>computer / hardware / software</td>\n",
       "      <td>san francisco, california</td>\n",
       "      <td>NaN</td>\n",
       "      <td>NaN</td>\n",
       "      <td>NaN</td>\n",
       "      <td>aries and it&amp;rsquo;s fun to think about</td>\n",
       "      <td>no</td>\n",
       "      <td>english (fluently), french</td>\n",
       "      <td>i'm easy going, funny, and don't do anything h...</td>\n",
       "      <td>i'm an independent consultant. i mostly work w...</td>\n",
       "      <td>cooking from scratch, making a great coffee, p...</td>\n",
       "      <td>my eyes and my smile</td>\n",
       "      <td>a: most anything by asimov, dune, tolkien, bol...</td>\n",
       "      <td>sushi, coffee, bread, beer, music, books</td>\n",
       "      <td>NaN</td>\n",
       "      <td>what's typical about friday night? sometimes i...</td>\n",
       "      <td>NaN</td>\n",
       "      <td>NaN</td>\n",
       "    </tr>\n",
       "    <tr>\n",
       "      <th>38009</th>\n",
       "      <td>27</td>\n",
       "      <td>unknown</td>\n",
       "      <td>f</td>\n",
       "      <td>straight</td>\n",
       "      <td>NaN</td>\n",
       "      <td>NaN</td>\n",
       "      <td>rarely</td>\n",
       "      <td>never</td>\n",
       "      <td>working on college/university</td>\n",
       "      <td>white</td>\n",
       "      <td>64.0</td>\n",
       "      <td>artistic / musical / writer</td>\n",
       "      <td>san francisco, california</td>\n",
       "      <td>NaN</td>\n",
       "      <td>has dogs and has cats</td>\n",
       "      <td>agnosticism and laughing about it</td>\n",
       "      <td>scorpio but it doesn&amp;rsquo;t matter</td>\n",
       "      <td>no</td>\n",
       "      <td>english (fluently), irish (fluently), chinese ...</td>\n",
       "      <td>hi there! i'm new here, and looking to make so...</td>\n",
       "      <td>right now, i am pursuing a degree in anthropol...</td>\n",
       "      <td>listening, playing music, cooking, helping peo...</td>\n",
       "      <td>my warped sense of humor, my clothing (i'm a h...</td>\n",
       "      <td>books: o'neill's music of ireland, last night'...</td>\n",
       "      <td>my flute, my laptop, my friends, cheese, my fa...</td>\n",
       "      <td>our insignificance in the universe, our possib...</td>\n",
       "      <td>playing a gig with bandmates or listening to a...</td>\n",
       "      <td>i have a morbid phobia of writing. yes, yes, y...</td>\n",
       "      <td>you like pie, you like world music, you're eas...</td>\n",
       "    </tr>\n",
       "    <tr>\n",
       "      <th>42771</th>\n",
       "      <td>37</td>\n",
       "      <td>unknown</td>\n",
       "      <td>m</td>\n",
       "      <td>straight</td>\n",
       "      <td>average</td>\n",
       "      <td>mostly anything</td>\n",
       "      <td>socially</td>\n",
       "      <td>never</td>\n",
       "      <td>dropped out of college/university</td>\n",
       "      <td>asian</td>\n",
       "      <td>66.0</td>\n",
       "      <td>computer / hardware / software</td>\n",
       "      <td>berkeley, california</td>\n",
       "      <td>NaN</td>\n",
       "      <td>likes dogs and likes cats</td>\n",
       "      <td>buddhism but not too serious about it</td>\n",
       "      <td>pisces but it doesn&amp;rsquo;t matter</td>\n",
       "      <td>no</td>\n",
       "      <td>english (fluently), german (okay), japanese (o...</td>\n",
       "      <td>um. hi. i'm pretty bad at filling out these th...</td>\n",
       "      <td>NaN</td>\n",
       "      <td>NaN</td>\n",
       "      <td>NaN</td>\n",
       "      <td>NaN</td>\n",
       "      <td>NaN</td>\n",
       "      <td>NaN</td>\n",
       "      <td>NaN</td>\n",
       "      <td>NaN</td>\n",
       "      <td>NaN</td>\n",
       "    </tr>\n",
       "    <tr>\n",
       "      <th>45885</th>\n",
       "      <td>22</td>\n",
       "      <td>unknown</td>\n",
       "      <td>f</td>\n",
       "      <td>straight</td>\n",
       "      <td>curvy</td>\n",
       "      <td>mostly anything</td>\n",
       "      <td>socially</td>\n",
       "      <td>never</td>\n",
       "      <td>NaN</td>\n",
       "      <td>other</td>\n",
       "      <td>61.0</td>\n",
       "      <td>other</td>\n",
       "      <td>walnut creek, california</td>\n",
       "      <td>doesn't want kids</td>\n",
       "      <td>has dogs and likes cats</td>\n",
       "      <td>NaN</td>\n",
       "      <td>leo and it&amp;rsquo;s fun to think about</td>\n",
       "      <td>no</td>\n",
       "      <td>english (fluently), japanese (poorly), spanish...</td>\n",
       "      <td>i decided it was about time to change this. al...</td>\n",
       "      <td>graduated from culinary school with a baking a...</td>\n",
       "      <td>talking and listening. believe me they go righ...</td>\n",
       "      <td>either than i'm really shy and quiet, or on th...</td>\n",
       "      <td>favorite books: hm there are a lot... my favor...</td>\n",
       "      <td>water... cheese... laughter... a good book... ...</td>\n",
       "      <td>everything... you can't stop me from thinking!...</td>\n",
       "      <td>on the internet, watching a new movie, on the ...</td>\n",
       "      <td>i have issues, and i'm hard to deal with somet...</td>\n",
       "      <td>you are a person. i guess i'll just be blunt i...</td>\n",
       "    </tr>\n",
       "    <tr>\n",
       "      <th>47999</th>\n",
       "      <td>26</td>\n",
       "      <td>unknown</td>\n",
       "      <td>f</td>\n",
       "      <td>straight</td>\n",
       "      <td>a little extra</td>\n",
       "      <td>anything</td>\n",
       "      <td>not at all</td>\n",
       "      <td>never</td>\n",
       "      <td>working on college/university</td>\n",
       "      <td>asian, white</td>\n",
       "      <td>60.0</td>\n",
       "      <td>student</td>\n",
       "      <td>pleasant hill, california</td>\n",
       "      <td>NaN</td>\n",
       "      <td>has cats</td>\n",
       "      <td>agnosticism and laughing about it</td>\n",
       "      <td>capricorn and it&amp;rsquo;s fun to think about</td>\n",
       "      <td>no</td>\n",
       "      <td>english (fluently), c++ (poorly)</td>\n",
       "      <td>i am lol.  p3n0r m'/ w31n0r 8;=;=;=;=;=;=;=;=;...</td>\n",
       "      <td>lol@collegio</td>\n",
       "      <td>crap</td>\n",
       "      <td>hobo</td>\n",
       "      <td>mmm potatoez</td>\n",
       "      <td>your mom</td>\n",
       "      <td>lol</td>\n",
       "      <td>hoboing</td>\n",
       "      <td>wafl</td>\n",
       "      <td>you like wafl</td>\n",
       "    </tr>\n",
       "    <tr>\n",
       "      <th>50957</th>\n",
       "      <td>43</td>\n",
       "      <td>unknown</td>\n",
       "      <td>m</td>\n",
       "      <td>straight</td>\n",
       "      <td>fit</td>\n",
       "      <td>NaN</td>\n",
       "      <td>socially</td>\n",
       "      <td>NaN</td>\n",
       "      <td>NaN</td>\n",
       "      <td>NaN</td>\n",
       "      <td>72.0</td>\n",
       "      <td>other</td>\n",
       "      <td>san francisco, california</td>\n",
       "      <td>NaN</td>\n",
       "      <td>NaN</td>\n",
       "      <td>NaN</td>\n",
       "      <td>NaN</td>\n",
       "      <td>no</td>\n",
       "      <td>english (fluently), malay (okay), chinese (poo...</td>\n",
       "      <td>i am cool but rude. i am charged to heal the e...</td>\n",
       "      <td>NaN</td>\n",
       "      <td>reeling and writhing, of course, to begin with...</td>\n",
       "      <td>NaN</td>\n",
       "      <td>NaN</td>\n",
       "      <td>NaN</td>\n",
       "      <td>NaN</td>\n",
       "      <td>NaN</td>\n",
       "      <td>NaN</td>\n",
       "      <td>NaN</td>\n",
       "    </tr>\n",
       "    <tr>\n",
       "      <th>57301</th>\n",
       "      <td>36</td>\n",
       "      <td>unknown</td>\n",
       "      <td>f</td>\n",
       "      <td>straight</td>\n",
       "      <td>NaN</td>\n",
       "      <td>NaN</td>\n",
       "      <td>not at all</td>\n",
       "      <td>never</td>\n",
       "      <td>graduated from two-year college</td>\n",
       "      <td>NaN</td>\n",
       "      <td>68.0</td>\n",
       "      <td>NaN</td>\n",
       "      <td>mill valley, california</td>\n",
       "      <td>has a kid</td>\n",
       "      <td>NaN</td>\n",
       "      <td>christianity and very serious about it</td>\n",
       "      <td>leo and it&amp;rsquo;s fun to think about</td>\n",
       "      <td>no</td>\n",
       "      <td>english</td>\n",
       "      <td>i'm not here looking for a date. i'm here look...</td>\n",
       "      <td>NaN</td>\n",
       "      <td>cooking, photography, arguing.</td>\n",
       "      <td>NaN</td>\n",
       "      <td>NaN</td>\n",
       "      <td>my phone, my laptop, my church, my running sho...</td>\n",
       "      <td>NaN</td>\n",
       "      <td>NaN</td>\n",
       "      <td>NaN</td>\n",
       "      <td>you have a cool anime hairstyle (smirk)</td>\n",
       "    </tr>\n",
       "  </tbody>\n",
       "</table>\n",
       "</div>"
      ],
      "text/plain": [
       "       age   status sex orientation       body_type             diet  \\\n",
       "17337   57  unknown   m         gay         average  mostly anything   \n",
       "20367   38  unknown   m    straight         average              NaN   \n",
       "31148   31  unknown   m    straight        athletic              NaN   \n",
       "32848   38  unknown   m    straight             NaN              NaN   \n",
       "38009   27  unknown   f    straight             NaN              NaN   \n",
       "42771   37  unknown   m    straight         average  mostly anything   \n",
       "45885   22  unknown   f    straight           curvy  mostly anything   \n",
       "47999   26  unknown   f    straight  a little extra         anything   \n",
       "50957   43  unknown   m    straight             fit              NaN   \n",
       "57301   36  unknown   f    straight             NaN              NaN   \n",
       "\n",
       "           drinks  drugs                          education     ethnicity  \\\n",
       "17337      rarely    NaN         graduated from high school         white   \n",
       "20367    socially    NaN                                NaN           NaN   \n",
       "31148    socially  never         working on masters program         asian   \n",
       "32848    socially    NaN  graduated from college/university           NaN   \n",
       "38009      rarely  never      working on college/university         white   \n",
       "42771    socially  never  dropped out of college/university         asian   \n",
       "45885    socially  never                                NaN         other   \n",
       "47999  not at all  never      working on college/university  asian, white   \n",
       "50957    socially    NaN                                NaN           NaN   \n",
       "57301  not at all  never    graduated from two-year college           NaN   \n",
       "\n",
       "       height                             job                   location  \\\n",
       "17337    70.0                         retired     menlo park, california   \n",
       "20367    68.0                             NaN        oakland, california   \n",
       "31148    69.0     sales / marketing / biz dev  san francisco, california   \n",
       "32848    74.0  computer / hardware / software  san francisco, california   \n",
       "38009    64.0     artistic / musical / writer  san francisco, california   \n",
       "42771    66.0  computer / hardware / software       berkeley, california   \n",
       "45885    61.0                           other   walnut creek, california   \n",
       "47999    60.0                         student  pleasant hill, california   \n",
       "50957    72.0                           other  san francisco, california   \n",
       "57301    68.0                             NaN    mill valley, california   \n",
       "\n",
       "               offspring                       pets  \\\n",
       "17337  doesn't want kids  likes dogs and likes cats   \n",
       "20367                NaN                        NaN   \n",
       "31148                NaN                        NaN   \n",
       "32848                NaN                        NaN   \n",
       "38009                NaN      has dogs and has cats   \n",
       "42771                NaN  likes dogs and likes cats   \n",
       "45885  doesn't want kids    has dogs and likes cats   \n",
       "47999                NaN                   has cats   \n",
       "50957                NaN                        NaN   \n",
       "57301          has a kid                        NaN   \n",
       "\n",
       "                                     religion  \\\n",
       "17337                                   other   \n",
       "20367                                     NaN   \n",
       "31148                                     NaN   \n",
       "32848                                     NaN   \n",
       "38009       agnosticism and laughing about it   \n",
       "42771   buddhism but not too serious about it   \n",
       "45885                                     NaN   \n",
       "47999       agnosticism and laughing about it   \n",
       "50957                                     NaN   \n",
       "57301  christianity and very serious about it   \n",
       "\n",
       "                                              sign smokes  \\\n",
       "17337                                          leo     no   \n",
       "20367                                          NaN    NaN   \n",
       "31148                                     aquarius     no   \n",
       "32848      aries and it&rsquo;s fun to think about     no   \n",
       "38009          scorpio but it doesn&rsquo;t matter     no   \n",
       "42771           pisces but it doesn&rsquo;t matter     no   \n",
       "45885        leo and it&rsquo;s fun to think about     no   \n",
       "47999  capricorn and it&rsquo;s fun to think about     no   \n",
       "50957                                          NaN     no   \n",
       "57301        leo and it&rsquo;s fun to think about     no   \n",
       "\n",
       "                                                  speaks  \\\n",
       "17337                                   english, english   \n",
       "20367                                            english   \n",
       "31148  english (okay), chinese (okay), spanish (okay)...   \n",
       "32848                         english (fluently), french   \n",
       "38009  english (fluently), irish (fluently), chinese ...   \n",
       "42771  english (fluently), german (okay), japanese (o...   \n",
       "45885  english (fluently), japanese (poorly), spanish...   \n",
       "47999                   english (fluently), c++ (poorly)   \n",
       "50957  english (fluently), malay (okay), chinese (poo...   \n",
       "57301                                            english   \n",
       "\n",
       "                                                  essay0  \\\n",
       "17337  as an artist i like to borrow images that i li...   \n",
       "20367  fun loving professional guy. i live in oakland...   \n",
       "31148  believing that anything can happen. or just tr...   \n",
       "32848  i'm easy going, funny, and don't do anything h...   \n",
       "38009  hi there! i'm new here, and looking to make so...   \n",
       "42771  um. hi. i'm pretty bad at filling out these th...   \n",
       "45885  i decided it was about time to change this. al...   \n",
       "47999  i am lol.  p3n0r m'/ w31n0r 8;=;=;=;=;=;=;=;=;...   \n",
       "50957  i am cool but rude. i am charged to heal the e...   \n",
       "57301  i'm not here looking for a date. i'm here look...   \n",
       "\n",
       "                                                  essay1  \\\n",
       "17337         filling life with as much colour as i can.   \n",
       "20367                                                NaN   \n",
       "31148             social entrepreneur + product marketer   \n",
       "32848  i'm an independent consultant. i mostly work w...   \n",
       "38009  right now, i am pursuing a degree in anthropol...   \n",
       "42771                                                NaN   \n",
       "45885  graduated from culinary school with a baking a...   \n",
       "47999                                       lol@collegio   \n",
       "50957                                                NaN   \n",
       "57301                                                NaN   \n",
       "\n",
       "                                                  essay2  \\\n",
       "17337                spinning records & dabbing brushes.   \n",
       "20367                                                NaN   \n",
       "31148  balancing a spoon on my nose, making monkey fa...   \n",
       "32848  cooking from scratch, making a great coffee, p...   \n",
       "38009  listening, playing music, cooking, helping peo...   \n",
       "42771                                                NaN   \n",
       "45885  talking and listening. believe me they go righ...   \n",
       "47999                                               crap   \n",
       "50957  reeling and writhing, of course, to begin with...   \n",
       "57301                     cooking, photography, arguing.   \n",
       "\n",
       "                                                  essay3  \\\n",
       "17337  i have an assortment of hand-painted shirts i ...   \n",
       "20367                                                NaN   \n",
       "31148                                           big eyes   \n",
       "32848                               my eyes and my smile   \n",
       "38009  my warped sense of humor, my clothing (i'm a h...   \n",
       "42771                                                NaN   \n",
       "45885  either than i'm really shy and quiet, or on th...   \n",
       "47999                                               hobo   \n",
       "50957                                                NaN   \n",
       "57301                                                NaN   \n",
       "\n",
       "                                                  essay4  \\\n",
       "17337  books ----- frank herbert, clive barker, verno...   \n",
       "20367                                                NaN   \n",
       "31148  favorite- books: \"leaving microsoft to change ...   \n",
       "32848  a: most anything by asimov, dune, tolkien, bol...   \n",
       "38009  books: o'neill's music of ireland, last night'...   \n",
       "42771                                                NaN   \n",
       "45885  favorite books: hm there are a lot... my favor...   \n",
       "47999                                       mmm potatoez   \n",
       "50957                                                NaN   \n",
       "57301                                                NaN   \n",
       "\n",
       "                                                  essay5  \\\n",
       "17337  family the newest member of my family \"dances ...   \n",
       "20367                                                NaN   \n",
       "31148  motivation creativity oxygen ideas mobility/ t...   \n",
       "32848           sushi, coffee, bread, beer, music, books   \n",
       "38009  my flute, my laptop, my friends, cheese, my fa...   \n",
       "42771                                                NaN   \n",
       "45885  water... cheese... laughter... a good book... ...   \n",
       "47999                                           your mom   \n",
       "50957                                                NaN   \n",
       "57301  my phone, my laptop, my church, my running sho...   \n",
       "\n",
       "                                                  essay6  \\\n",
       "17337     i love brian eno's idea of the happy accident.   \n",
       "20367                                                NaN   \n",
       "31148  -how to improve socioeconomic conditions in de...   \n",
       "32848                                                NaN   \n",
       "38009  our insignificance in the universe, our possib...   \n",
       "42771                                                NaN   \n",
       "45885  everything... you can't stop me from thinking!...   \n",
       "47999                                                lol   \n",
       "50957                                                NaN   \n",
       "57301                                                NaN   \n",
       "\n",
       "                                                  essay7  \\\n",
       "17337  at home with my boy friend usually, listening ...   \n",
       "20367                                                NaN   \n",
       "31148       out to dinner/ drinks with friends, movie...   \n",
       "32848  what's typical about friday night? sometimes i...   \n",
       "38009  playing a gig with bandmates or listening to a...   \n",
       "42771                                                NaN   \n",
       "45885  on the internet, watching a new movie, on the ...   \n",
       "47999                                            hoboing   \n",
       "50957                                                NaN   \n",
       "57301                                                NaN   \n",
       "\n",
       "                                                  essay8  \\\n",
       "17337              paisley hankys are on the right side.   \n",
       "20367  i have watched late-night nanny marathons (or ...   \n",
       "31148  my favorite routine: shopping for food at trad...   \n",
       "32848                                                NaN   \n",
       "38009  i have a morbid phobia of writing. yes, yes, y...   \n",
       "42771                                                NaN   \n",
       "45885  i have issues, and i'm hard to deal with somet...   \n",
       "47999                                               wafl   \n",
       "50957                                                NaN   \n",
       "57301                                                NaN   \n",
       "\n",
       "                                                  essay9  \n",
       "17337  if you are a character of interest ? drop a line.  \n",
       "20367                                                NaN  \n",
       "31148  ...you want to chat, hang out, and learn about...  \n",
       "32848                                                NaN  \n",
       "38009  you like pie, you like world music, you're eas...  \n",
       "42771                                                NaN  \n",
       "45885  you are a person. i guess i'll just be blunt i...  \n",
       "47999                                      you like wafl  \n",
       "50957                                                NaN  \n",
       "57301            you have a cool anime hairstyle (smirk)  "
      ]
     },
     "execution_count": 33,
     "metadata": {},
     "output_type": "execute_result"
    }
   ],
   "source": [
    "df[df[\"status\"] == \"unknown\"]"
   ]
  },
  {
   "cell_type": "markdown",
   "metadata": {},
   "source": [
    "Parece que estos perfiles son serios, lo cual hace que nos cueste eliminarlos. Lo que haremos será tratar `unknown` para que el one-hot devuelva un vector vacío (completo con ceros)."
   ]
  },
  {
   "cell_type": "markdown",
   "metadata": {},
   "source": [
    "Por otra parte, vamos a considerar que los estados `single` y `available` son sinónimos. Es posible que haya relaciones abiertas o algo similar, pero este tipo de relaciones no son tan comunes como para abarcar un porcentaje tan alto de los datos. Por eso unificaremos estas dos categorías utilizando el `substitution_transformer`."
   ]
  },
  {
   "cell_type": "markdown",
   "metadata": {},
   "source": [
    "Vamos a preparar un transformador para implementar estos detalles que hemos mencionado:"
   ]
  },
  {
   "cell_type": "code",
   "execution_count": 34,
   "metadata": {
    "ExecuteTime": {
     "end_time": "2021-01-10T15:11:01.601536Z",
     "start_time": "2021-01-10T15:11:01.423359Z"
    }
   },
   "outputs": [],
   "source": [
    "df[\"status\"] = df[\"status\"].astype(object)\n",
    "status_transformer = Pipeline([\n",
    "    (\"available_to_single\", substitution_transformer({\"available\": \"single\"})),\n",
    "    (\"one_hot\", OneHotEncoder(categories=[[\"single\", \"seeing someone\", \"married\"]], handle_unknown=\"ignore\"))\n",
    "])"
   ]
  },
  {
   "cell_type": "markdown",
   "metadata": {},
   "source": [
    "#### 2.2.1.2 Sexo"
   ]
  },
  {
   "cell_type": "markdown",
   "metadata": {},
   "source": [
    "A continuación estudiaremos el sexo de los usuarios."
   ]
  },
  {
   "cell_type": "code",
   "execution_count": 35,
   "metadata": {
    "ExecuteTime": {
     "end_time": "2021-01-10T15:11:01.697827Z",
     "start_time": "2021-01-10T15:11:01.603101Z"
    }
   },
   "outputs": [
    {
     "data": {
      "text/plain": [
       "m    35799\n",
       "f    24102\n",
       "Name: sex, dtype: int64"
      ]
     },
     "execution_count": 35,
     "metadata": {},
     "output_type": "execute_result"
    }
   ],
   "source": [
    "df[\"sex\"].value_counts(dropna=False)"
   ]
  },
  {
   "cell_type": "markdown",
   "metadata": {},
   "source": [
    "Parece que no hay valores nulos, lo cual es positivo. Esta variable se puede codificar simplemente como 0 si hombre y 1 si mujer, o viceversa."
   ]
  },
  {
   "cell_type": "code",
   "execution_count": 36,
   "metadata": {
    "ExecuteTime": {
     "end_time": "2021-01-10T15:11:01.792531Z",
     "start_time": "2021-01-10T15:11:01.699338Z"
    }
   },
   "outputs": [],
   "source": [
    "sex_transformer = OrdinalEncoder(categories=[[\"m\", \"f\"]])"
   ]
  },
  {
   "cell_type": "markdown",
   "metadata": {},
   "source": [
    "#### 2.2.1.3 Bebida"
   ]
  },
  {
   "cell_type": "markdown",
   "metadata": {},
   "source": [
    "Lo primero es ver qué tipos tenemos."
   ]
  },
  {
   "cell_type": "code",
   "execution_count": 37,
   "metadata": {
    "ExecuteTime": {
     "end_time": "2021-01-10T15:11:01.907566Z",
     "start_time": "2021-01-10T15:11:01.794050Z"
    }
   },
   "outputs": [
    {
     "data": {
      "text/plain": [
       "socially       41764\n",
       "rarely          5955\n",
       "often           5157\n",
       "not at all      3264\n",
       "NaN             2975\n",
       "very often       469\n",
       "desperately      317\n",
       "Name: drinks, dtype: int64"
      ]
     },
     "execution_count": 37,
     "metadata": {},
     "output_type": "execute_result"
    }
   ],
   "source": [
    "df[\"drinks\"].value_counts(dropna=False)"
   ]
  },
  {
   "cell_type": "markdown",
   "metadata": {},
   "source": [
    "Este parece un ejemplo claro de variable ordinal. Si ordenamos las categorías y consideramos que `NaN` significa algo promedio (no podemos asumir nada más), podemos desarrollar un transformador simple que codifique la variable como ordinal.\n",
    "\n",
    "Después de la codificación ordinal, deberemos escalar al rango 0-1, ya que una normalización no será acertada."
   ]
  },
  {
   "cell_type": "code",
   "execution_count": 38,
   "metadata": {
    "ExecuteTime": {
     "end_time": "2021-01-10T15:11:02.031160Z",
     "start_time": "2021-01-10T15:11:01.909194Z"
    }
   },
   "outputs": [],
   "source": [
    "df[\"drinks\"] = df[\"drinks\"].astype(str).astype(object)  # Needed to convert np.nan to string \"nan\"\n",
    "drinks_transformer = Pipeline([\n",
    "    (\"nan_to_socially\", substitution_transformer({\"nan\": \"socially\"})),\n",
    "    (\"encoder\", OrdinalEncoder(categories=[[\"not at all\", \"rarely\", \"socially\", \"often\", \"very often\", \"desperately\"]])),\n",
    "    (\"scaler\", MinMaxScaler())\n",
    "])"
   ]
  },
  {
   "cell_type": "markdown",
   "metadata": {},
   "source": [
    "#### 2.2.1.4 Drogas"
   ]
  },
  {
   "cell_type": "markdown",
   "metadata": {},
   "source": [
    "Como siempre, echamos un primer vistazo a las categorías."
   ]
  },
  {
   "cell_type": "code",
   "execution_count": 39,
   "metadata": {
    "ExecuteTime": {
     "end_time": "2021-01-10T15:11:02.131064Z",
     "start_time": "2021-01-10T15:11:02.032449Z"
    }
   },
   "outputs": [
    {
     "data": {
      "text/plain": [
       "never        37704\n",
       "NaN          14066\n",
       "sometimes     7726\n",
       "often          405\n",
       "Name: drugs, dtype: int64"
      ]
     },
     "execution_count": 39,
     "metadata": {},
     "output_type": "execute_result"
    }
   ],
   "source": [
    "df[\"drugs\"].value_counts(dropna=False)"
   ]
  },
  {
   "cell_type": "markdown",
   "metadata": {},
   "source": [
    "En este caso vamos a codificar la variable también de forma ordinal, con la distinción de que los valores `NaN` quedarán colocados entre `never` y `sometimes`. Hacemos esto porque creemos que los valores `NaN` pueden deberse a gente que ha tomado drogas en el pasado, pero ya no lo hace y prefiere no contestar a escribir `sometimes`. Es una posibilidad que hace que sea mala idea sustituir `NaN` con `sometimes`."
   ]
  },
  {
   "cell_type": "code",
   "execution_count": 40,
   "metadata": {
    "ExecuteTime": {
     "end_time": "2021-01-10T15:11:02.263467Z",
     "start_time": "2021-01-10T15:11:02.132681Z"
    }
   },
   "outputs": [],
   "source": [
    "df[\"drugs\"] = df[\"drugs\"].astype(str).astype(object)  # Needed to convert np.nan to string \"nan\"\n",
    "drugs_transformer = Pipeline([\n",
    "    (\"encoder\", OrdinalEncoder(categories=[[\"never\", \"nan\", \"sometimes\", \"often\"]])),\n",
    "    (\"scaler\", MinMaxScaler())\n",
    "])"
   ]
  },
  {
   "cell_type": "markdown",
   "metadata": {},
   "source": [
    "#### 2.2.1.5 Ocupación laboral"
   ]
  },
  {
   "cell_type": "code",
   "execution_count": 41,
   "metadata": {
    "ExecuteTime": {
     "end_time": "2021-01-10T15:11:02.361750Z",
     "start_time": "2021-01-10T15:11:02.265026Z"
    }
   },
   "outputs": [
    {
     "data": {
      "text/plain": [
       "NaN                                  8185\n",
       "other                                7584\n",
       "student                              4878\n",
       "science / tech / engineering         4845\n",
       "computer / hardware / software       4706\n",
       "artistic / musical / writer          4435\n",
       "sales / marketing / biz dev          4390\n",
       "medicine / health                    3679\n",
       "education / academia                 3511\n",
       "executive / management               2373\n",
       "banking / financial / real estate    2265\n",
       "entertainment / media                2249\n",
       "law / legal services                 1380\n",
       "hospitality / travel                 1364\n",
       "construction / craftsmanship         1020\n",
       "clerical / administrative             805\n",
       "political / government                708\n",
       "rather not say                        433\n",
       "transportation                        366\n",
       "unemployed                            272\n",
       "retired                               250\n",
       "military                              203\n",
       "Name: job, dtype: int64"
      ]
     },
     "execution_count": 41,
     "metadata": {},
     "output_type": "execute_result"
    }
   ],
   "source": [
    "df[\"job\"].value_counts(dropna=False)"
   ]
  },
  {
   "cell_type": "markdown",
   "metadata": {},
   "source": [
    "Esta variable se codificará con un `OneHotEncoder`. Los valores nulos en este caso se tratarán como los valores `other`: se devolverá un vector de ceros vacío."
   ]
  },
  {
   "cell_type": "code",
   "execution_count": 42,
   "metadata": {
    "ExecuteTime": {
     "end_time": "2021-01-10T15:11:02.490633Z",
     "start_time": "2021-01-10T15:11:02.363445Z"
    }
   },
   "outputs": [],
   "source": [
    "df[\"job\"] = df[\"job\"].astype(str).astype(object)  # Needed to convert np.nan to string \"nan\"\n",
    "\n",
    "job_transformer = Pipeline([\n",
    "    (\"nan_to_other\", substitution_transformer({\"nan\": \"other\"})),\n",
    "    (\"encoder\", OneHotEncoder(drop=[[\"other\"]]))\n",
    "])"
   ]
  },
  {
   "cell_type": "markdown",
   "metadata": {},
   "source": [
    "#### 2.2.1.6 Tabaco"
   ]
  },
  {
   "cell_type": "markdown",
   "metadata": {},
   "source": [
    "Como siempre, empezamos observando los posibles valores de la variable."
   ]
  },
  {
   "cell_type": "code",
   "execution_count": 43,
   "metadata": {
    "ExecuteTime": {
     "end_time": "2021-01-10T15:11:02.637462Z",
     "start_time": "2021-01-10T15:11:02.492295Z"
    }
   },
   "outputs": [
    {
     "data": {
      "text/plain": [
       "no                43874\n",
       "NaN                5501\n",
       "sometimes          3785\n",
       "when drinking      3035\n",
       "yes                2226\n",
       "trying to quit     1480\n",
       "Name: smokes, dtype: int64"
      ]
     },
     "execution_count": 43,
     "metadata": {},
     "output_type": "execute_result"
    }
   ],
   "source": [
    "df[\"smokes\"].value_counts(dropna=False)"
   ]
  },
  {
   "cell_type": "markdown",
   "metadata": {},
   "source": [
    "Este caso es similar a `drugs`, con algunas diferencias:\n",
    "- Vamos a unificar `when drinking` y `sometimes` porque los consideramos sinónimos.\n",
    "- Vamos a completar los valores `NaN` con `sometimes` (asumiendo que si alguien no fuma, habría contestado `no`).\n",
    "- Vamos a hacer que `trying to quit` sea igual a `sometimes`, con la idea de que alguien que está intentando dejar el tabaco está a medio camino de alguien que fuma habitualmente y alguien que no."
   ]
  },
  {
   "cell_type": "code",
   "execution_count": 44,
   "metadata": {
    "ExecuteTime": {
     "end_time": "2021-01-10T15:11:02.752661Z",
     "start_time": "2021-01-10T15:11:02.639123Z"
    }
   },
   "outputs": [],
   "source": [
    "df[\"smokes\"] = df[\"smokes\"].astype(str).astype(object)  # Needed to convert np.nan to string \"nan\"\n",
    "smokes_transformer = Pipeline([\n",
    "    (\"category_merger\", substitution_transformer({\"nan\": \"sometimes\", \"when drinking\": \"sometimes\", \"trying to quit\": \"sometimes\"})),\n",
    "    (\"encoder\", OrdinalEncoder(categories=[[\"no\", \"sometimes\", \"yes\"]])),\n",
    "    (\"scaler\", MinMaxScaler())\n",
    "])"
   ]
  },
  {
   "cell_type": "markdown",
   "metadata": {},
   "source": [
    "### 2.2.2 Variables categóricas multidimensionales"
   ]
  },
  {
   "cell_type": "markdown",
   "metadata": {},
   "source": [
    "Este apartado se refiere a variables categóricas que se van a codificar como puntos de un espacio vectorial de varias dimensiones. Un ejemplo es la localización geográfica, que convertiremos en dos variables de latitud y longitud. Esto se hará para mantener las distancias entre instancias similares. Por ejemplo, un usuario de California puede estar a la misma latitud que alguien de España, pero evidentemente está mucho más lejos que de un usuario de Nueva York, donde ni la latitud ni la longitud están cerca. Es la combinación de las variables la que da una medición precisa.\n",
    "\n",
    "Las variables multidimensionales son `orientation`, `body_type`, `location`, `offspring` y `pets`.\n",
    "\n",
    "La forma unificada de codificar estas variables se hará mediante un diccionario que convertirá un *string* (categoría) dado en una tupla que representará el punto en cuestión. Una vez se tenga el diccionario, se generará un transformador de `sklearn` con la siguiente función:"
   ]
  },
  {
   "cell_type": "code",
   "execution_count": 45,
   "metadata": {
    "ExecuteTime": {
     "end_time": "2021-01-10T15:11:02.846034Z",
     "start_time": "2021-01-10T15:11:02.753915Z"
    }
   },
   "outputs": [],
   "source": [
    "def category_to_point_transformer(transformer_dict):\n",
    "    \n",
    "    def transform(X):\n",
    "        assert len(X.shape) == 2\n",
    "        assert X.shape[-1] == 1, \"Use this transformer on single features only.\"\n",
    "        if type(X) is pd.DataFrame:\n",
    "            X = X.to_numpy()\n",
    "        X = X[:, 0]\n",
    "        \n",
    "        output_shape = len(list(transformer_dict.values())[0])\n",
    "        assert all([len(x) == output_shape for x in transformer_dict.values()])\n",
    "        \n",
    "        ret = np.zeros((len(X), output_shape), dtype=float)\n",
    "        for i in range(len(X)):\n",
    "            row = []\n",
    "            for j in range(output_shape):\n",
    "                row.append(transformer_dict[X[i]][j])\n",
    "            ret[i] = np.array(row)\n",
    "            \n",
    "        return ret\n",
    "    \n",
    "    return FunctionTransformer(transform)"
   ]
  },
  {
   "cell_type": "markdown",
   "metadata": {},
   "source": [
    "#### 2.2.2.1 Orientación sexual"
   ]
  },
  {
   "cell_type": "markdown",
   "metadata": {},
   "source": [
    "Lo primero que hacemos es ver qué tipos de variables tenemos."
   ]
  },
  {
   "cell_type": "code",
   "execution_count": 46,
   "metadata": {
    "ExecuteTime": {
     "end_time": "2021-01-10T15:11:02.942443Z",
     "start_time": "2021-01-10T15:11:02.847481Z"
    }
   },
   "outputs": [
    {
     "data": {
      "text/plain": [
       "straight    51564\n",
       "gay          5572\n",
       "bisexual     2765\n",
       "Name: orientation, dtype: int64"
      ]
     },
     "execution_count": 46,
     "metadata": {},
     "output_type": "execute_result"
    }
   ],
   "source": [
    "df[\"orientation\"].value_counts(dropna=False)"
   ]
  },
  {
   "cell_type": "markdown",
   "metadata": {},
   "source": [
    "Para este caso, queremos representar la orientación sexual con dos variables `likes_men` y `likes_women`. Creemos que es una idea más acertada que simplemente codificar como one-hot, o como un valor que vaya de 0 a 1 (con 0.5 si es `bisexual`), ya que entendemos que las categorías de `straight` y `gay` no significan lo mismo si hablamos de un hombre que si hablamos de una mujer. Por eso, lo primero que vamos a hacer es añadir el sexo de la persona como parte de la columna `orientation`, a fin de facilitar el preprocesamiento más adelante."
   ]
  },
  {
   "cell_type": "code",
   "execution_count": 47,
   "metadata": {
    "ExecuteTime": {
     "end_time": "2021-01-10T15:11:03.082277Z",
     "start_time": "2021-01-10T15:11:02.944128Z"
    }
   },
   "outputs": [
    {
     "data": {
      "text/plain": [
       "37988    straight f\n",
       "53353    straight m\n",
       "18781    straight f\n",
       "28027    straight f\n",
       "34819    straight f\n",
       "Name: orientation, dtype: object"
      ]
     },
     "execution_count": 47,
     "metadata": {},
     "output_type": "execute_result"
    }
   ],
   "source": [
    "df[\"orientation\"] = df[\"orientation\"] + \" \" + df[\"sex\"]\n",
    "df[\"orientation\"].sample(n=5, random_state=RANDOM_SEED)"
   ]
  },
  {
   "cell_type": "markdown",
   "metadata": {},
   "source": [
    "A continuación preparamos un diccionario que nos dé los resultados esperados."
   ]
  },
  {
   "cell_type": "code",
   "execution_count": 48,
   "metadata": {
    "ExecuteTime": {
     "end_time": "2021-01-10T15:11:03.167453Z",
     "start_time": "2021-01-10T15:11:03.083604Z"
    }
   },
   "outputs": [],
   "source": [
    "# Orientation tuple: (likes_men, likes_women)\n",
    "orientation_dict = {\n",
    "    \"gay f\": (0, 1),\n",
    "    \"gay m\": (1, 0),\n",
    "    \"straight f\": (1, 0),\n",
    "    \"straight m\": (0, 1),\n",
    "    \"bisexual f\": (1, 1),\n",
    "    \"bisexual m\": (1, 1)\n",
    "}"
   ]
  },
  {
   "cell_type": "code",
   "execution_count": 49,
   "metadata": {
    "ExecuteTime": {
     "end_time": "2021-01-10T15:11:03.276893Z",
     "start_time": "2021-01-10T15:11:03.169131Z"
    }
   },
   "outputs": [
    {
     "data": {
      "text/plain": [
       "True"
      ]
     },
     "execution_count": 49,
     "metadata": {},
     "output_type": "execute_result"
    }
   ],
   "source": [
    "all([x in orientation_dict.keys() for x in df[\"orientation\"]])"
   ]
  },
  {
   "cell_type": "markdown",
   "metadata": {},
   "source": [
    "Ahora sólo falta preparar el transformador para la etapa de preprocesamiento."
   ]
  },
  {
   "cell_type": "code",
   "execution_count": 50,
   "metadata": {
    "ExecuteTime": {
     "end_time": "2021-01-10T15:11:03.697578Z",
     "start_time": "2021-01-10T15:11:03.278432Z"
    }
   },
   "outputs": [],
   "source": [
    "orientation_transformer = category_to_point_transformer(orientation_dict)"
   ]
  },
  {
   "cell_type": "markdown",
   "metadata": {},
   "source": [
    "#### 2.2.2.2 Complexión corporal"
   ]
  },
  {
   "cell_type": "markdown",
   "metadata": {},
   "source": [
    "Observamos antes de nada los tipos con los que trabajamos."
   ]
  },
  {
   "cell_type": "code",
   "execution_count": 51,
   "metadata": {
    "ExecuteTime": {
     "end_time": "2021-01-10T15:11:03.817376Z",
     "start_time": "2021-01-10T15:11:03.699061Z"
    }
   },
   "outputs": [
    {
     "data": {
      "text/plain": [
       "average           14651\n",
       "fit               12708\n",
       "athletic          11809\n",
       "NaN                5283\n",
       "thin               4710\n",
       "curvy              3923\n",
       "a little extra     2629\n",
       "skinny             1777\n",
       "full figured       1009\n",
       "overweight          442\n",
       "jacked              413\n",
       "used up             350\n",
       "rather not say      197\n",
       "Name: body_type, dtype: int64"
      ]
     },
     "execution_count": 51,
     "metadata": {},
     "output_type": "execute_result"
    }
   ],
   "source": [
    "df[\"body_type\"].value_counts(dropna=False)"
   ]
  },
  {
   "cell_type": "markdown",
   "metadata": {},
   "source": [
    "En este caso es evidente que podemos unificar muchos de los tipos. Nos hemos planteado tratarlo como un punto de $n$ dimensiones por dos motivos:\n",
    "- Primero, una codificación one-hot no sería realista incluso después de unificar los elementos similares. Codificar las categorías como vectores perpendiculares entre sí conseguiría que la distancia entre `skinny` y `average` fuera la misma que la distancia entre `skinny` y `overweight`, por ejemplo.\n",
    "- Segundo, una codificación ordinal desperdiciaría mucha información, ya que hay varias escalas en las que se pueden ordenar las categorías.\n",
    "\n",
    "Cada una de estas escalas será una dimensión del espacio de codificación. Estas escalas serán el peso relativo y el atletismo relativo (cuerpo más o menos definido) y tomarán valores entre 0 y 1.\n",
    "\n",
    "En los casos `rather not say` y `NaN`, no podemos hacer más que considerarlos `average`."
   ]
  },
  {
   "cell_type": "code",
   "execution_count": 52,
   "metadata": {
    "ExecuteTime": {
     "end_time": "2021-01-10T15:11:03.915136Z",
     "start_time": "2021-01-10T15:11:03.818673Z"
    }
   },
   "outputs": [],
   "source": [
    "df[\"body_type\"] = df[\"body_type\"].astype(str).astype(object)\n",
    "\n",
    "# Body type tuple: (weight, athletism)\n",
    "body_type_dict = {\n",
    "    \"average\": (0.5, 0.5),\n",
    "    \"nan\": (0.5, 0.5),\n",
    "    \"rather not say\": (0.5, 0.5),\n",
    "    \n",
    "    \"skinny\": (0, 0),\n",
    "    \"thin\": (0.25, 0.5),\n",
    "    \n",
    "    \"curvy\": (0.75, 0.5),\n",
    "    \"a little extra\": (0.75, 0.5),\n",
    "    \"full figured\": (0.75, 0.5),\n",
    "    \"overweight\": (1, 0),\n",
    "    \n",
    "    \"fit\": (0.5, 1),\n",
    "    \"athletic\": (0.5, 1),\n",
    "    \"jacked\": (1, 1),\n",
    "    \n",
    "    \"used up\": (0.5, 0)\n",
    "}"
   ]
  },
  {
   "cell_type": "code",
   "execution_count": 53,
   "metadata": {
    "ExecuteTime": {
     "end_time": "2021-01-10T15:11:04.076877Z",
     "start_time": "2021-01-10T15:11:03.916443Z"
    }
   },
   "outputs": [
    {
     "data": {
      "text/plain": [
       "True"
      ]
     },
     "execution_count": 53,
     "metadata": {},
     "output_type": "execute_result"
    }
   ],
   "source": [
    "all([x in body_type_dict.keys() for x in df[\"body_type\"]])"
   ]
  },
  {
   "cell_type": "markdown",
   "metadata": {},
   "source": [
    "Sólo queda preparar el transformador usando `category_to_point_transformer`."
   ]
  },
  {
   "cell_type": "code",
   "execution_count": 54,
   "metadata": {
    "ExecuteTime": {
     "end_time": "2021-01-10T15:11:04.173086Z",
     "start_time": "2021-01-10T15:11:04.078553Z"
    }
   },
   "outputs": [],
   "source": [
    "body_type_transformer = category_to_point_transformer(body_type_dict)"
   ]
  },
  {
   "cell_type": "markdown",
   "metadata": {},
   "source": [
    "#### 2.2.2.3 Localización geográfica"
   ]
  },
  {
   "cell_type": "code",
   "execution_count": 55,
   "metadata": {
    "ExecuteTime": {
     "end_time": "2021-01-10T15:11:04.281483Z",
     "start_time": "2021-01-10T15:11:04.174553Z"
    }
   },
   "outputs": [
    {
     "data": {
      "text/plain": [
       "san francisco, california    31043\n",
       "oakland, california           7210\n",
       "berkeley, california          4206\n",
       "san mateo, california         1329\n",
       "palo alto, california         1063\n",
       "                             ...  \n",
       "freedom, california              1\n",
       "santa clara, california          1\n",
       "cincinnati, ohio                 1\n",
       "austin, texas                    1\n",
       "edinburgh, united kingdom        1\n",
       "Name: location, Length: 198, dtype: int64"
      ]
     },
     "execution_count": 55,
     "metadata": {},
     "output_type": "execute_result"
    }
   ],
   "source": [
    "df[\"location\"].value_counts(dropna=False)"
   ]
  },
  {
   "cell_type": "code",
   "execution_count": 56,
   "metadata": {
    "ExecuteTime": {
     "end_time": "2021-01-10T15:11:04.394497Z",
     "start_time": "2021-01-10T15:11:04.283145Z"
    }
   },
   "outputs": [
    {
     "data": {
      "text/plain": [
       "False"
      ]
     },
     "execution_count": 56,
     "metadata": {},
     "output_type": "execute_result"
    }
   ],
   "source": [
    "any(df[\"location\"].isnull())"
   ]
  },
  {
   "cell_type": "markdown",
   "metadata": {},
   "source": [
    "En este caso, parece que tenemos localizaciones en forma de *strings* que siguen el formato \\[ciudad\\], \\[estado\\]. En el caso de E.E.U.U parece que sí es el estado, mientras que en el resto de países es el nombre del país. Debemos comprobar que este formato está compartido por todos los elementos de la serie."
   ]
  },
  {
   "cell_type": "code",
   "execution_count": 57,
   "metadata": {
    "ExecuteTime": {
     "end_time": "2021-01-10T15:11:04.531996Z",
     "start_time": "2021-01-10T15:11:04.396119Z"
    }
   },
   "outputs": [
    {
     "data": {
      "text/plain": [
       "False"
      ]
     },
     "execution_count": 57,
     "metadata": {},
     "output_type": "execute_result"
    }
   ],
   "source": [
    "all(df[\"location\"].apply(lambda x: x.count(\",\") == 1))"
   ]
  },
  {
   "cell_type": "code",
   "execution_count": 58,
   "metadata": {
    "ExecuteTime": {
     "end_time": "2021-01-10T15:11:04.671010Z",
     "start_time": "2021-01-10T15:11:04.533300Z"
    }
   },
   "outputs": [
    {
     "data": {
      "text/plain": [
       "42438    vancouver, british columbia, canada\n",
       "Name: location, dtype: object"
      ]
     },
     "execution_count": 58,
     "metadata": {},
     "output_type": "execute_result"
    }
   ],
   "source": [
    "df[\"location\"][df[\"location\"].apply(lambda x: x.count(\",\") != 1)]"
   ]
  },
  {
   "cell_type": "markdown",
   "metadata": {},
   "source": [
    "Parece que hay una sola fila en la que tenemos tres valores separados por comas. Esto es comprensible si pensamos que Canadá también tiene estados que funcionan bajo un gobierno federal. Sólo es una instancia, pero no tenemos por qué eliminarla del dataset si no es necesario (hay usuarios en Seattle, por ejemplo, que está relativamente cerca de Vancouver). Podemos modificarla para que se adapte al formato sin más."
   ]
  },
  {
   "cell_type": "code",
   "execution_count": 59,
   "metadata": {
    "ExecuteTime": {
     "end_time": "2021-01-10T15:11:04.793508Z",
     "start_time": "2021-01-10T15:11:04.672298Z"
    }
   },
   "outputs": [],
   "source": [
    "vancouver_id = df[\"location\"][df[\"location\"].apply(lambda x: x.count(\",\") != 1)].index[0]\n",
    "df.at[vancouver_id, \"location\"] = \"vancouver, canada\""
   ]
  },
  {
   "cell_type": "code",
   "execution_count": 60,
   "metadata": {
    "ExecuteTime": {
     "end_time": "2021-01-10T15:11:04.959874Z",
     "start_time": "2021-01-10T15:11:04.794879Z"
    }
   },
   "outputs": [
    {
     "data": {
      "text/plain": [
       "True"
      ]
     },
     "execution_count": 60,
     "metadata": {},
     "output_type": "execute_result"
    }
   ],
   "source": [
    "all(df[\"location\"].apply(lambda x: x.count(\",\") == 1))"
   ]
  },
  {
   "cell_type": "markdown",
   "metadata": {},
   "source": [
    "Ahora que parece que todo está en el mismo formato, vamos a codificar la localización en latitud y longitud. Para ello utilizaremos la clase [`Nominatim`](https://geopy.readthedocs.io/en/stable/#nominatim) de `geopy`."
   ]
  },
  {
   "cell_type": "code",
   "execution_count": 61,
   "metadata": {
    "ExecuteTime": {
     "end_time": "2021-01-10T15:12:43.724738Z",
     "start_time": "2021-01-10T15:11:04.961257Z"
    }
   },
   "outputs": [
    {
     "name": "stdout",
     "output_type": "stream",
     "text": [
      "south san francisco, california 37.6535403 -122.4168664\n",
      "oakland, california 37.8044557 -122.2713563\n",
      "san francisco, california 37.7790262 -122.4199061\n",
      "berkeley, california 37.8708393 -122.2728639\n",
      "belvedere tiburon, california 37.8771208 -122.4616696\n"
     ]
    }
   ],
   "source": [
    "from geopy.geocoders import Nominatim\n",
    "geolocator = Nominatim(user_agent='myapplication')\n",
    "    \n",
    "location_dict = {}\n",
    "for location in df[\"location\"].unique():\n",
    "    geocode = geolocator.geocode(location)\n",
    "    location_dict[location] = (geocode.latitude, geocode.longitude)\n",
    "        \n",
    "for location in df[\"location\"].unique()[:5]:\n",
    "    print(location, location_dict[location][0], location_dict[location][1])"
   ]
  },
  {
   "cell_type": "markdown",
   "metadata": {},
   "source": [
    "Para asegurarnos de que no hay errores, en lugar de ir comprobando los datos uno a uno podemos simplemente mostrar una imagen con las localizaciones en un mapa. Utilizamos una escala logarítmica para visualizar bien las diferencias entre puntos."
   ]
  },
  {
   "cell_type": "code",
   "execution_count": 62,
   "metadata": {
    "ExecuteTime": {
     "end_time": "2021-01-10T15:12:44.644673Z",
     "start_time": "2021-01-10T15:12:43.726768Z"
    }
   },
   "outputs": [
    {
     "data": {
      "image/png": "[encoded data removed]",
      "text/plain": [
       "<Figure size 1440x576 with 2 Axes>"
      ]
     },
     "metadata": {},
     "output_type": "display_data"
    }
   ],
   "source": [
    "fig, ax = plt.subplots(figsize=(20, 8))\n",
    "ax.set_title(\"OkCupid user locations\", fontdict={\"size\": 20, \"family\": \"Consolas\"})\n",
    "\n",
    "# Plot world map\n",
    "ax.set_facecolor(\"skyblue\")\n",
    "world = gpd.read_file(gpd.datasets.get_path(\"naturalearth_lowres\"))\n",
    "world.plot(ax=ax,\n",
    "           color=\"darkgray\",\n",
    "           alpha=1,\n",
    "           linewidth=1,\n",
    "           edgecolor=\"black\")\n",
    "\n",
    "# Define user locations\n",
    "geometry = [shapely.geometry.Point(lon, lat) for lat, lon in location_dict.values()]\n",
    "locations = gpd.GeoDataFrame({\"location\": location_dict.keys()}, geometry=geometry)\n",
    "counts = df[\"location\"].value_counts()\n",
    "locations[\"count\"] = [counts.loc[x] for x in location_dict.keys()]\n",
    "\n",
    "# Define log scale\n",
    "norm = LogNorm(vmin=locations[\"count\"].min(), vmax=locations[\"count\"].max())\n",
    "locations[\"count_log\"] = norm(locations[\"count\"] + 1)\n",
    "\n",
    "# Plot user locations\n",
    "locations.plot(column=\"count_log\",\n",
    "               ax=ax,\n",
    "               markersize=locations[\"count_log\"] * 1000,\n",
    "               linewidth=0.08,\n",
    "               edgecolor=\"black\",\n",
    "               cmap=\"rocket_r\")\n",
    "\n",
    "# Plot colorbar\n",
    "mappable = ScalarMappable(cmap=\"rocket_r\", norm=norm)\n",
    "mappable.set_array(locations[\"count\"].to_numpy())\n",
    "plt.colorbar(mappable=mappable, ax=ax, label=\"Number of users (log scale)\")\n",
    "\n",
    "plt.show()"
   ]
  },
  {
   "cell_type": "markdown",
   "metadata": {},
   "source": [
    "Ahora tenemos las coordenadas de cada persona y sabemos que la codificación es correcta. Vamos a preparar un transformador que convertirá una localización en un array de coordenadas, y a continuación escalaremos las coordenadas.\n",
    "\n",
    "Utilizaremos [`RobustScaler`](https://scikit-learn.org/stable/modules/generated/sklearn.preprocessing.RobustScaler.html) para el escalado. Claramente las latitudes y longitudes no siguen distribuciones normales, y un escalado simple de 0 a 1 nos daría problemas si tenemos en cuenta que la inmensa mayoría de los datos están en el área de California. `RobustScaler` implementa la transformación ${X_i}' = \\frac{X_i - Q2_X}{Q3_X - Q1_X}$, es decir, resta la mediana y divide por el rango intercuartílico. Esto conseguirá que las diferencias entre instancias de California no se vean eclipsadas por una anomalía en Vietnam."
   ]
  },
  {
   "cell_type": "code",
   "execution_count": 63,
   "metadata": {
    "ExecuteTime": {
     "end_time": "2021-01-10T15:12:44.648875Z",
     "start_time": "2021-01-10T15:12:44.646134Z"
    }
   },
   "outputs": [],
   "source": [
    "location_transformer = Pipeline([\n",
    "    (\"coordinates_transformer\", category_to_point_transformer(location_dict)),\n",
    "    (\"scaler\", RobustScaler())\n",
    "])"
   ]
  },
  {
   "cell_type": "markdown",
   "metadata": {},
   "source": [
    "#### 2.2.2.4 Hijos"
   ]
  },
  {
   "cell_type": "code",
   "execution_count": 64,
   "metadata": {
    "ExecuteTime": {
     "end_time": "2021-01-10T15:12:44.730799Z",
     "start_time": "2021-01-10T15:12:44.650826Z"
    }
   },
   "outputs": [
    {
     "data": {
      "text/plain": [
       "NaN                                        35527\n",
       "doesn't have kids                           7554\n",
       "doesn't have kids, but might want them      3875\n",
       "doesn't have kids, but wants them           3565\n",
       "doesn't want kids                           2926\n",
       "has kids                                    1882\n",
       "has a kid                                   1880\n",
       "doesn't have kids, and doesn't want any     1132\n",
       "has kids, but doesn't want more              442\n",
       "has a kid, but doesn't want more             274\n",
       "has a kid, and might want more               231\n",
       "wants kids                                   225\n",
       "might want kids                              181\n",
       "has kids, and might want more                115\n",
       "has a kid, and wants more                     71\n",
       "has kids, and wants more                      21\n",
       "Name: offspring, dtype: int64"
      ]
     },
     "execution_count": 64,
     "metadata": {},
     "output_type": "execute_result"
    }
   ],
   "source": [
    "df[\"offspring\"].value_counts(dropna=False)"
   ]
  },
  {
   "cell_type": "markdown",
   "metadata": {},
   "source": [
    "En este caso, podemos definir esta variable en dos columnas, `has_kids` y `wants_kids`. Podemos definir 0 si no quiere o tiene hijos, 1 si tiene o quiere hijos y 0.5 si no lo sabe, no lo tiene claro o no ha contestado. Esto nos va a permitir unificar bastante bien todos los tipos que aparecen, ya que en muchos de ellos hay colisiones.\n",
    "\n",
    "Haremos las siguientes asunciones:\n",
    "- Si el usuario indica que quiere hijos o que podría quererlos en el futuro sin indicar nada más, asumimos que no tiene.\n",
    "- Si el usuario indica que no quiere hijos sin indicar si los tiene, asumimos que no los tiene.\n",
    "- Los casos de tener un hijo o tener varios son indistinguibles (la diferencia que nos interesa para el clustering es si tiene alguno o no)."
   ]
  },
  {
   "cell_type": "code",
   "execution_count": 65,
   "metadata": {
    "ExecuteTime": {
     "end_time": "2021-01-10T15:12:44.813562Z",
     "start_time": "2021-01-10T15:12:44.732128Z"
    }
   },
   "outputs": [],
   "source": [
    "df[\"offspring\"] = df[\"offspring\"].astype(str).astype(object)\n",
    "\n",
    "# Offspring tuple: (has_kids, wants_kids)\n",
    "offspring_dict = {\n",
    "    \"nan\": (0.5, 0.5),\n",
    "    \"doesn't have kids\": (0, 0.5),\n",
    "    \"doesn't have kids, but might want them\": (0, 0.5),\n",
    "    \"doesn't have kids, but wants them\": (0, 1),\n",
    "    \"doesn't have kids, and doesn't want any\": (0, 0),\n",
    "    \n",
    "    \"has kids\": (1, 0.5),\n",
    "    \"has a kid\": (1, 0.5),\n",
    "    \"has kids, but doesn't want more\": (1, 0),\n",
    "    \"has a kid, but doesn't want more\": (1, 0),\n",
    "    \"has kids, and might want more\": (1, 0.5),\n",
    "    \"has a kid, and might want more\": (1, 0.5),\n",
    "    \"has kids, and wants more\": (1, 1),\n",
    "    \"has a kid, and wants more\": (1, 1),\n",
    "    \n",
    "    \"wants kids\": (0, 1),\n",
    "    \"might want kids\": (0, 0.5),\n",
    "    \"doesn't want kids\": (0, 0),\n",
    "}"
   ]
  },
  {
   "cell_type": "code",
   "execution_count": 66,
   "metadata": {
    "ExecuteTime": {
     "end_time": "2021-01-10T15:12:44.921306Z",
     "start_time": "2021-01-10T15:12:44.815348Z"
    }
   },
   "outputs": [
    {
     "data": {
      "text/plain": [
       "True"
      ]
     },
     "execution_count": 66,
     "metadata": {},
     "output_type": "execute_result"
    }
   ],
   "source": [
    "all([x in offspring_dict.keys() for x in df[\"offspring\"]])"
   ]
  },
  {
   "cell_type": "markdown",
   "metadata": {},
   "source": [
    "Por último, preparamos el transformador de `offspring`."
   ]
  },
  {
   "cell_type": "code",
   "execution_count": 67,
   "metadata": {
    "ExecuteTime": {
     "end_time": "2021-01-10T15:12:44.986882Z",
     "start_time": "2021-01-10T15:12:44.922586Z"
    }
   },
   "outputs": [],
   "source": [
    "offspring_transformer = category_to_point_transformer(offspring_dict)"
   ]
  },
  {
   "cell_type": "markdown",
   "metadata": {},
   "source": [
    "#### 2.2.2.5 Mascotas"
   ]
  },
  {
   "cell_type": "code",
   "execution_count": 68,
   "metadata": {
    "ExecuteTime": {
     "end_time": "2021-01-10T15:12:45.388182Z",
     "start_time": "2021-01-10T15:12:45.051373Z"
    }
   },
   "outputs": [
    {
     "data": {
      "text/plain": [
       "NaN                                19904\n",
       "likes dogs and likes cats          14803\n",
       "likes dogs                          7223\n",
       "likes dogs and has cats             4310\n",
       "has dogs                            4132\n",
       "has dogs and likes cats             2331\n",
       "likes dogs and dislikes cats        2028\n",
       "has dogs and has cats               1472\n",
       "has cats                            1406\n",
       "likes cats                          1062\n",
       "has dogs and dislikes cats           549\n",
       "dislikes dogs and likes cats         239\n",
       "dislikes dogs and dislikes cats      195\n",
       "dislikes cats                        122\n",
       "dislikes dogs and has cats            81\n",
       "dislikes dogs                         44\n",
       "Name: pets, dtype: int64"
      ]
     },
     "execution_count": 68,
     "metadata": {},
     "output_type": "execute_result"
    }
   ],
   "source": [
    "df[\"pets\"].value_counts(dropna=False)"
   ]
  },
  {
   "cell_type": "markdown",
   "metadata": {},
   "source": [
    "En este caso podemos utilizar dos columnas: `likes_dogs` y `likes_cats`. Tendrían un valor 1 si el usuario indica que le gustan los perros o gatos, -1 si indica que no le gustan, y 0 si no indica nada o le es indiferente. \n",
    "\n",
    "Con respecto a los usuarios que indican que tienen perros o gatos, vamos a indicar un valor 2 en las columnas `likes_dogs` y `likes_cats`."
   ]
  },
  {
   "cell_type": "code",
   "execution_count": 69,
   "metadata": {
    "ExecuteTime": {
     "end_time": "2021-01-10T15:12:45.774399Z",
     "start_time": "2021-01-10T15:12:45.393125Z"
    }
   },
   "outputs": [],
   "source": [
    "def get_pet_status(string):\n",
    "    likes_dogs = 0\n",
    "    likes_cats = 0\n",
    "    if string is not np.nan:\n",
    "        if \"dislikes dogs\" in string:\n",
    "            likes_dogs = -1\n",
    "        elif \"has dogs\" in string:\n",
    "            likes_dogs = 2\n",
    "        elif \"likes dogs\" in string:\n",
    "            likes_dogs = 1\n",
    "            \n",
    "        if \"dislikes cats\" in string:\n",
    "            likes_cats = -1\n",
    "        elif \"has cats\" in string:\n",
    "            likes_cats = 2\n",
    "        elif \"likes cats\" in string:\n",
    "            likes_cats = 1\n",
    "    \n",
    "    return likes_dogs, likes_cats\n",
    "            \n",
    "\n",
    "pets_dict = {}\n",
    "for item in df[\"pets\"].unique():\n",
    "    pets_dict[item] = get_pet_status(item)"
   ]
  },
  {
   "cell_type": "markdown",
   "metadata": {},
   "source": [
    "Con esto, sólo tenemos que declarar el transformador utilizando `category_to_point_transformer`."
   ]
  },
  {
   "cell_type": "code",
   "execution_count": 70,
   "metadata": {
    "ExecuteTime": {
     "end_time": "2021-01-10T15:12:45.847520Z",
     "start_time": "2021-01-10T15:12:45.781918Z"
    }
   },
   "outputs": [],
   "source": [
    "pets_transformer = category_to_point_transformer(pets_dict)"
   ]
  },
  {
   "cell_type": "markdown",
   "metadata": {},
   "source": [
    "### 2.2.3 Variables categóricas con afijos"
   ]
  },
  {
   "cell_type": "markdown",
   "metadata": {},
   "source": [
    "El resto de variables tienen un conjunto de categorías base acompañadas de modificadores en forma de prefijos o sufijos. La forma de codificar estas variables será transformando cada instancia en un vector de longitud igual al número de categorías base. En este vector, los valores dependerán de las categorías a las que la instancia pertenece y su intensidad, la cual viene marcada por los afijos. Un ejemplo es el idioma, que se codificará como un vector con valores 0, 0.3, 0.6 o 1 dependiendo de la fluidez con la que el usuario indica hablar el idioma. Por ejemplo, asumiendo que los únicos idiomas existentes fueran `english`, `spanish` y `french` (en ese orden), una instancia que dijera `[english (fluently), spanish(poorly)]` se codificaría como `[1.0, 0.3, 0]`.\n",
    "\n",
    "Las variables con afijos son `diet`, `education`, `ethnicity`, `religion`, `sign` y `speaks`.\n",
    "\n",
    "Para codificar estas variables, vamos a desarrollar un estimador que siga la API de `scikit-learn`, que pueda implementar el comportamiento mencionado partiendo de información como las categorías base y el peso que dar a cada modificador o afijo."
   ]
  },
  {
   "cell_type": "code",
   "execution_count": 71,
   "metadata": {
    "ExecuteTime": {
     "end_time": "2021-01-10T15:12:45.916669Z",
     "start_time": "2021-01-10T15:12:45.852200Z"
    },
    "code_folding": []
   },
   "outputs": [],
   "source": [
    "class AffixedVariableEncoder(BaseEstimator, TransformerMixin):\n",
    "    \"\"\"\n",
    "    Encode an affix-modified categorical variable.\n",
    "    \"\"\"\n",
    "    def __init__(self,\n",
    "                 categories=None,\n",
    "                 modifiers=None,\n",
    "                 delim=None,\n",
    "                 handle_unknown=\"error\",\n",
    "                 default_value=0):\n",
    "        \"\"\"\n",
    "        categories: array of lists containing expected categories for each feature.\n",
    "        modifiers: array of dicts containing expected modifiers and their corresponding value for each feature.\n",
    "        delim: delimiter to use for tokenizing inputs. Useful for instances with more than one category.\n",
    "        handle_unknown: {'ignore', 'error'}. How to deal unexpected categories.\n",
    "        default_value: value for the encoded array for unmentioned categories if handle_unknown=True.\n",
    "        \"\"\"\n",
    "\n",
    "        self.categories = categories\n",
    "        self.modifiers = modifiers\n",
    "        self.delim = delim\n",
    "        self.default_value = default_value\n",
    "\n",
    "        if handle_unknown not in {\"ignore\", \"error\"}:\n",
    "            raise ValueError('Possible values for handle_unknown: {\"ignore\", \"error\"}')\n",
    "        self.handle_unknown = handle_unknown\n",
    "\n",
    "        self.fitted = False\n",
    "\n",
    "    def _tokenize_data(self, X):\n",
    "        ret = np.zeros_like(X, dtype=list)\n",
    "        for feature in range(self.n_features):\n",
    "            for j in range(len(X)):\n",
    "                if self.delim is not None:\n",
    "                    ret[j, feature] = [elem.strip() for elem in X[j, feature].split(self.delim)]\n",
    "                else:\n",
    "                    ret[j, feature] = [X[j, feature]]\n",
    "        return ret\n",
    "\n",
    "    def _get_category_index(self, token, feature):\n",
    "        \"\"\"\n",
    "        Return category array index of token.\n",
    "        \"\"\"\n",
    "        categories = self.categories[feature]\n",
    "        matches = []\n",
    "        for index in range(len(categories)):\n",
    "            if categories[index] in token:\n",
    "                matches.append(categories[index])\n",
    "\n",
    "        if len(matches) > 1:\n",
    "            longest = matches[int(len(matches[0]) < len(matches[1]))]\n",
    "            if all([x in longest for x in matches]):\n",
    "                return categories.index(longest)\n",
    "            else:\n",
    "                raise ValueError(f\"Multiple affixes found for token {token}: {matches}\")\n",
    "        elif len(matches) == 0:\n",
    "            return None\n",
    "        else:\n",
    "            return categories.index(matches[0])\n",
    "\n",
    "    def _get_modifier(self, token, feature):\n",
    "        \"\"\"\n",
    "        Return modifier value for token with affix.\n",
    "        \"\"\"\n",
    "        modifiers = self.modifiers[feature]\n",
    "        matches = []\n",
    "\n",
    "        for affix in modifiers.keys():\n",
    "            if affix in token:\n",
    "                matches.append(affix)\n",
    "\n",
    "        if len(matches) > 1:            \n",
    "            longest = matches[int(len(matches[0]) < len(matches[1]))]\n",
    "            if all([x in longest for x in matches]):\n",
    "                return modifiers[longest]\n",
    "            else:\n",
    "                raise ValueError(f\"Multiple affixes found for token {token}: {matches}\")\n",
    "            \n",
    "        if len(matches) == 1:\n",
    "            return modifiers[matches[0]]\n",
    "        else:\n",
    "            try:\n",
    "                return modifiers[\"default\"]\n",
    "            except KeyError:\n",
    "                raise ValueError(f\"No affixes found for token {token} and no default modifier was specified.\")\n",
    "\n",
    "    def fit(self, X, y=None):\n",
    "\n",
    "        if len(X.shape) != 2:\n",
    "            raise ValueError(\"X must be a 2-dimensional array-like object. \\\n",
    "                              Use reshape(-1, 1) if your array contains a single feature or \\\n",
    "                              reshape(1, -1) if it contains a single sample.\")\n",
    "\n",
    "        self.n_features = X.shape[-1]\n",
    "\n",
    "        if self.handle_unknown == \"error\":\n",
    "            for feature in range(self.n_features):\n",
    "                for item in X[:, feature]:\n",
    "                    if item is np.nan or not any([cat in item for cat in self.categories[feature]]):\n",
    "                        raise ValueError(f\"Unexpected value found in X: {item}.\")\n",
    "        self.columnsize = sum([len(x) for x in self.categories])\n",
    "\n",
    "        self.fitted = True\n",
    "        return self\n",
    "\n",
    "    def transform(self, X, y=None):\n",
    "\n",
    "        if not self.fitted:\n",
    "            raise NotFittedError(\"Fit this estimator before using it.\")\n",
    "\n",
    "        X_split = self._tokenize_data(X)\n",
    "\n",
    "        ret = np.full((len(X), self.columnsize), fill_value=self.default_value, dtype=list)\n",
    "\n",
    "        offset = 0\n",
    "        for feature in range(self.n_features):\n",
    "            tokenized_data = X_split[:, feature]\n",
    "            for instance in range(len(tokenized_data)):\n",
    "                for token in tokenized_data[instance]:\n",
    "                    index = self._get_category_index(token, feature)\n",
    "                    if index is not None:\n",
    "                        ret[instance, offset + index] = self._get_modifier(token, feature)\n",
    "            offset += len(self.categories[feature])\n",
    "\n",
    "        return ret"
   ]
  },
  {
   "cell_type": "markdown",
   "metadata": {},
   "source": [
    "#### 2.2.3.1 Dieta"
   ]
  },
  {
   "cell_type": "markdown",
   "metadata": {},
   "source": [
    "Como es habitual, antes de nada queremos mirar qué categorías hay."
   ]
  },
  {
   "cell_type": "code",
   "execution_count": 72,
   "metadata": {
    "ExecuteTime": {
     "end_time": "2021-01-10T15:12:46.008413Z",
     "start_time": "2021-01-10T15:12:45.918510Z"
    }
   },
   "outputs": [
    {
     "data": {
      "text/plain": [
       "NaN                    24370\n",
       "mostly anything        16575\n",
       "anything                6182\n",
       "strictly anything       5111\n",
       "mostly vegetarian       3442\n",
       "mostly other            1004\n",
       "strictly vegetarian      875\n",
       "vegetarian               667\n",
       "strictly other           450\n",
       "mostly vegan             338\n",
       "other                    331\n",
       "strictly vegan           228\n",
       "vegan                    136\n",
       "mostly kosher             86\n",
       "mostly halal              48\n",
       "strictly halal            18\n",
       "strictly kosher           18\n",
       "halal                     11\n",
       "kosher                    11\n",
       "Name: diet, dtype: int64"
      ]
     },
     "execution_count": 72,
     "metadata": {},
     "output_type": "execute_result"
    }
   ],
   "source": [
    "df[\"diet\"].value_counts(dropna=False)"
   ]
  },
  {
   "cell_type": "markdown",
   "metadata": {},
   "source": [
    "Mirando estos posibles valores podemos extraer los prefijos y las categorías base fácilmente.\n",
    "\n",
    "Vamos a tomar una serie de decisiones en este caso:\n",
    "- En primer lugar, vamos a considerar que esta variable se codificará como un vector de \"restricciones alimentarias\". Esto significa que no vamos a considerar el tipo `anything`, que significa que no las hay.\n",
    "- El tipo `other` será ignorado, ya que no queremos crear un grupo que por definición será muy diverso.\n",
    "- Vamos a agrupar `vegan` y `vegetarian`. Estas categorías no son sinónimas, pero están suficientemente cerca y esta decisión nos simplifica la dimensionalidad del problema.\n",
    "\n",
    "La unificación de `vegetarian` y `vegan` son el primer paso del preprocesamiento de esta variable."
   ]
  },
  {
   "cell_type": "code",
   "execution_count": 73,
   "metadata": {
    "ExecuteTime": {
     "end_time": "2021-01-10T15:12:46.114798Z",
     "start_time": "2021-01-10T15:12:46.009883Z"
    }
   },
   "outputs": [],
   "source": [
    "df[\"diet\"] = df[\"diet\"].astype(str).astype(object)  # Convert np.nan to \"nan\"\n",
    "\n",
    "vegan_to_vegetarian = substitution_transformer({\"vegan\": \"vegetarian\"})"
   ]
  },
  {
   "cell_type": "markdown",
   "metadata": {},
   "source": [
    "A continuación, preparamos un `AffixedVariableEncoder` con los parámetros adecuados. Vamos a considerar que el valor del array codificado será la seriedad con la que se toman su dieta. `strictly` será un valor de $1$, `mostly` será un valor de $\\frac{1}{3}$ y si no se indica modificador, el valor será de $\\frac{2}{3}$."
   ]
  },
  {
   "cell_type": "code",
   "execution_count": 74,
   "metadata": {
    "ExecuteTime": {
     "end_time": "2021-01-10T15:12:46.175605Z",
     "start_time": "2021-01-10T15:12:46.117077Z"
    }
   },
   "outputs": [],
   "source": [
    "diets = [\"vegetarian\", \"kosher\", \"halal\"]\n",
    "\n",
    "diet_modifiers = {\n",
    "    \"strictly\": 1.0,\n",
    "    \"default\": 0.66,\n",
    "    \"mostly\": 0.33\n",
    "}\n",
    "\n",
    "diet_encoder = AffixedVariableEncoder(categories=[diets], modifiers=[diet_modifiers], handle_unknown=\"ignore\")\n",
    "\n",
    "diet_transformer = Pipeline([\n",
    "    (\"vegan_to_vegetarian\", vegan_to_vegetarian),\n",
    "    (\"encoder\", diet_encoder)\n",
    "])"
   ]
  },
  {
   "cell_type": "markdown",
   "metadata": {},
   "source": [
    "#### 2.2.3.2 Educación"
   ]
  },
  {
   "cell_type": "code",
   "execution_count": 75,
   "metadata": {
    "ExecuteTime": {
     "end_time": "2021-01-10T15:12:46.250967Z",
     "start_time": "2021-01-10T15:12:46.177219Z"
    }
   },
   "outputs": [
    {
     "data": {
      "text/plain": [
       "graduated from college/university    23949\n",
       "graduated from masters program        8958\n",
       "NaN                                   6619\n",
       "working on college/university         5710\n",
       "working on masters program            1682\n",
       "graduated from two-year college       1530\n",
       "graduated from high school            1425\n",
       "graduated from ph.d program           1271\n",
       "graduated from law school             1121\n",
       "working on two-year college           1073\n",
       "dropped out of college/university      995\n",
       "working on ph.d program                982\n",
       "college/university                     799\n",
       "graduated from space camp              656\n",
       "dropped out of space camp              519\n",
       "graduated from med school              446\n",
       "working on space camp                  443\n",
       "working on law school                  269\n",
       "two-year college                       222\n",
       "working on med school                  212\n",
       "dropped out of two-year college        191\n",
       "dropped out of masters program         140\n",
       "masters program                        136\n",
       "dropped out of ph.d program            127\n",
       "dropped out of high school             101\n",
       "high school                             95\n",
       "working on high school                  87\n",
       "space camp                              58\n",
       "ph.d program                            26\n",
       "law school                              19\n",
       "dropped out of law school               17\n",
       "dropped out of med school               12\n",
       "med school                              11\n",
       "Name: education, dtype: int64"
      ]
     },
     "execution_count": 75,
     "metadata": {},
     "output_type": "execute_result"
    }
   ],
   "source": [
    "df[\"education\"].value_counts(dropna=False)"
   ]
  },
  {
   "cell_type": "markdown",
   "metadata": {},
   "source": [
    "En este caso, no vamos a utilizar el `encoder` definido anteriormente. Todas estas categorías, si bien tienen prefijos, tienen una característica secuencial en su mayor parte (para hacer un doctorado hay que haber hecho un máster, y para el máster un grado, etc.). Por eso vamos a traducir estas categorías para convertirlas en una columna ordinal que indique el máximo nivel de educación recibido."
   ]
  },
  {
   "cell_type": "code",
   "execution_count": 76,
   "metadata": {
    "ExecuteTime": {
     "end_time": "2021-01-10T15:12:46.318967Z",
     "start_time": "2021-01-10T15:12:46.253700Z"
    }
   },
   "outputs": [],
   "source": [
    "df[\"education\"] = df[\"education\"].astype(str).astype(object)\n",
    "\n",
    "education_levels = [\n",
    "    \"high school\",\n",
    "    \"undergraduate\",\n",
    "    \"graduate\",\n",
    "    \"doctorate\"\n",
    "]\n",
    "\n",
    "education_level_unifier = substitution_transformer({\n",
    "    \"high school\": \"high school\",\n",
    "    \"space camp\": \"high school\",\n",
    "    \"nan\": \"undergraduate\",\n",
    "    \"college\": \"undergraduate\",\n",
    "    \"masters\": \"graduate\",\n",
    "    \"law school\": \"graduate\",\n",
    "    \"med school\": \"doctorate\",\n",
    "    \"ph.d\": \"doctorate\"\n",
    "}, full=True)\n",
    "\n",
    "education_transformer = Pipeline([\n",
    "    (\"unifier\", education_level_unifier),\n",
    "    (\"ordinal_encoder\", OrdinalEncoder(categories=[education_levels])),\n",
    "    (\"scaler\", MinMaxScaler())\n",
    "])"
   ]
  },
  {
   "cell_type": "markdown",
   "metadata": {},
   "source": [
    "#### 2.2.3.3 Etnicidad"
   ]
  },
  {
   "cell_type": "code",
   "execution_count": 77,
   "metadata": {
    "ExecuteTime": {
     "end_time": "2021-01-10T15:12:46.457819Z",
     "start_time": "2021-01-10T15:12:46.320272Z"
    }
   },
   "outputs": [
    {
     "data": {
      "text/plain": [
       "white                                                                             32820\n",
       "asian                                                                              6130\n",
       "NaN                                                                                5671\n",
       "hispanic / latin                                                                   2821\n",
       "black                                                                              2007\n",
       "                                                                                  ...  \n",
       "asian, indian, hispanic / latin, other                                                1\n",
       "black, native american, pacific islander, white, other                                1\n",
       "asian, middle eastern, black, native american, indian, pacific islander, white        1\n",
       "asian, black, pacific islander, hispanic / latin, white                               1\n",
       "native american, indian, pacific islander, hispanic / latin                           1\n",
       "Name: ethnicity, Length: 218, dtype: int64"
      ]
     },
     "execution_count": 77,
     "metadata": {},
     "output_type": "execute_result"
    }
   ],
   "source": [
    "df[\"ethnicity\"].value_counts(dropna=False)"
   ]
  },
  {
   "cell_type": "markdown",
   "metadata": {},
   "source": [
    "Lo primero que necesitamos son los posibles valores básicos que puede tomar la variable."
   ]
  },
  {
   "cell_type": "code",
   "execution_count": 78,
   "metadata": {
    "ExecuteTime": {
     "end_time": "2021-01-10T15:12:46.575966Z",
     "start_time": "2021-01-10T15:12:46.459093Z"
    }
   },
   "outputs": [
    {
     "name": "stdout",
     "output_type": "stream",
     "text": [
      "{'native american', 'hispanic / latin', 'black', 'asian', 'indian', 'other', 'pacific islander', 'white', 'middle eastern'}\n"
     ]
    }
   ],
   "source": [
    "ethnicities = set()\n",
    "for i in df[\"ethnicity\"]:\n",
    "    if i is not np.nan:\n",
    "        ethnicities.update([i.strip() for i in i.split(\",\")])\n",
    "print(ethnicities)"
   ]
  },
  {
   "cell_type": "markdown",
   "metadata": {},
   "source": [
    "Aunque esta variable no tiene los modificadores, vamos a introducirlos para poder seleccionar el porcentaje de pertenencia a la etnicidad en cuestión. Vamos a asumir que cuando un usuario indica más de una etnicidad, la distribución es uniforme. Esto va a resultar en algunos ejemplos para los cuales el porcentaje será muy bajo, porque han indicado muchas etnicidadess diferentes. Vamos a ver si es un gran problema."
   ]
  },
  {
   "cell_type": "code",
   "execution_count": 79,
   "metadata": {
    "ExecuteTime": {
     "end_time": "2021-01-10T15:12:46.738541Z",
     "start_time": "2021-01-10T15:12:46.577595Z"
    }
   },
   "outputs": [
    {
     "data": {
      "text/plain": [
       "0     5671\n",
       "1    47381\n",
       "2     5409\n",
       "3     1050\n",
       "4      234\n",
       "5       55\n",
       "6       18\n",
       "7        9\n",
       "8       13\n",
       "9       61\n",
       "Name: ethnicity, dtype: int64"
      ]
     },
     "execution_count": 79,
     "metadata": {},
     "output_type": "execute_result"
    }
   ],
   "source": [
    "df[\"ethnicity\"].apply(lambda x: len(x.split(\",\")) if x is not np.nan else 0).value_counts().sort_index()"
   ]
  },
  {
   "cell_type": "markdown",
   "metadata": {},
   "source": [
    "A partir de 4 el número de instancias es muy bajo, así que no es un problema serio y podemos continuar.\n",
    "\n",
    "En primer lugar, tenemos que preparar un transformador que aplique a cada instancia los porcentajes en cuestión."
   ]
  },
  {
   "cell_type": "code",
   "execution_count": 80,
   "metadata": {
    "ExecuteTime": {
     "end_time": "2021-01-10T15:12:46.781784Z",
     "start_time": "2021-01-10T15:12:46.740168Z"
    }
   },
   "outputs": [],
   "source": [
    "def apply_pct_suffix(X):    \n",
    "    \n",
    "    if type(X) is pd.DataFrame:\n",
    "        X = X.to_numpy()\n",
    "        \n",
    "    ret = np.zeros_like(X, dtype=list)\n",
    "    for feature in range(X.shape[-1]):\n",
    "        for i in range(len(X)):\n",
    "            if X[i, feature] is not np.nan:\n",
    "                values = X[i, feature].split(\",\")\n",
    "                for j in range(len(values)):\n",
    "                    values[j] = values[j] + \" \" + str(1 / len(values))    \n",
    "                ret[i, feature] = ','.join(values)\n",
    "            else:\n",
    "                ret[i, feature] = \"nan\"\n",
    "    return ret\n",
    "\n",
    "\n",
    "suffix_adder = FunctionTransformer(apply_pct_suffix)"
   ]
  },
  {
   "cell_type": "markdown",
   "metadata": {},
   "source": [
    "Ahora, simplemente preparamos un `AffixedVariableEncoder`. Vamos a tratar el tipo `other` como si fuera desconocido, ya que no queremos que resulte en una amalgama de instancias diferentes entre sí. Preferimos devolver un array de ceros en ese caso."
   ]
  },
  {
   "cell_type": "code",
   "execution_count": 81,
   "metadata": {
    "ExecuteTime": {
     "end_time": "2021-01-10T15:12:46.861045Z",
     "start_time": "2021-01-10T15:12:46.783226Z"
    }
   },
   "outputs": [],
   "source": [
    "ethnicities.remove(\"other\")\n",
    "modifiers = {str(1 / n): 1 / n for n in range(1, 10)}\n",
    "\n",
    "ethnicity_encoder = AffixedVariableEncoder(categories=[list(ethnicities)],\n",
    "                                           modifiers=[modifiers],\n",
    "                                           delim=\",\",\n",
    "                                           handle_unknown=\"ignore\",\n",
    "                                           default_value=0)\n",
    "\n",
    "\n",
    "ethnicity_transformer = Pipeline([\n",
    "    (\"suffix_adder\", suffix_adder),\n",
    "    (\"ethnicity_encoder\", ethnicity_encoder)\n",
    "])"
   ]
  },
  {
   "cell_type": "markdown",
   "metadata": {},
   "source": [
    "#### 2.2.3.4 Religión"
   ]
  },
  {
   "cell_type": "code",
   "execution_count": 82,
   "metadata": {
    "ExecuteTime": {
     "end_time": "2021-01-10T15:12:46.947645Z",
     "start_time": "2021-01-10T15:12:46.862265Z"
    }
   },
   "outputs": [
    {
     "data": {
      "text/plain": [
       "NaN                                           20209\n",
       "agnosticism                                    2722\n",
       "other                                          2690\n",
       "agnosticism but not too serious about it       2635\n",
       "agnosticism and laughing about it              2494\n",
       "catholicism but not too serious about it       2318\n",
       "atheism                                        2175\n",
       "other and laughing about it                    2116\n",
       "atheism and laughing about it                  2072\n",
       "christianity                                   1957\n",
       "christianity but not too serious about it      1950\n",
       "other but not too serious about it             1553\n",
       "judaism but not too serious about it           1516\n",
       "atheism but not too serious about it           1318\n",
       "catholicism                                    1064\n",
       "christianity and somewhat serious about it      927\n",
       "atheism and somewhat serious about it           848\n",
       "other and somewhat serious about it             845\n",
       "catholicism and laughing about it               726\n",
       "judaism and laughing about it                   679\n",
       "buddhism but not too serious about it           649\n",
       "agnosticism and somewhat serious about it       640\n",
       "judaism                                         612\n",
       "christianity and very serious about it          577\n",
       "atheism and very serious about it               570\n",
       "catholicism and somewhat serious about it       548\n",
       "other and very serious about it                 530\n",
       "buddhism and laughing about it                  466\n",
       "buddhism                                        403\n",
       "christianity and laughing about it              373\n",
       "buddhism and somewhat serious about it          359\n",
       "agnosticism and very serious about it           314\n",
       "judaism and somewhat serious about it           265\n",
       "hinduism but not too serious about it           227\n",
       "hinduism                                        107\n",
       "catholicism and very serious about it           102\n",
       "buddhism and very serious about it               70\n",
       "hinduism and somewhat serious about it           58\n",
       "islam                                            47\n",
       "hinduism and laughing about it                   44\n",
       "islam but not too serious about it               40\n",
       "judaism and very serious about it                22\n",
       "islam and somewhat serious about it              22\n",
       "islam and laughing about it                      16\n",
       "hinduism and very serious about it               14\n",
       "islam and very serious about it                  12\n",
       "Name: religion, dtype: int64"
      ]
     },
     "execution_count": 82,
     "metadata": {},
     "output_type": "execute_result"
    }
   ],
   "source": [
    "df[\"religion\"].value_counts(dropna=False)"
   ]
  },
  {
   "cell_type": "markdown",
   "metadata": {},
   "source": [
    "En este caso hemos querido agrupar en la misma categoría a toda la gente que no se considera religiosa. Al fin y al cabo, para hacer un clustering podríamos considerar la falta de religión como un tipo de religión más. Consideraremos como este tipo `not religious` a los que hayan contestado `NaN` y a los que hayan dicho `and laughing about it` en su religión.\n",
    "\n",
    "Podemos montar un paso de preprocesamiento que haga esto."
   ]
  },
  {
   "cell_type": "code",
   "execution_count": 83,
   "metadata": {
    "ExecuteTime": {
     "end_time": "2021-01-10T15:12:47.039407Z",
     "start_time": "2021-01-10T15:12:46.949064Z"
    }
   },
   "outputs": [],
   "source": [
    "df[\"religion\"] = df[\"religion\"].astype(str).astype(object)\n",
    "not_religious_transformer = substitution_transformer(\n",
    "    {\n",
    "        \"laughing about it\": \"unimportant\",\n",
    "        \"nan\": \"unimportant\"\n",
    "    }, full=True)"
   ]
  },
  {
   "cell_type": "markdown",
   "metadata": {},
   "source": [
    "A continuación, queremos agrupar `catholicism` y `christianity`. Los católicos son cristianos, y aunque no todos los cristianos sean católicos, los cristianos protestantes y ortodoxos están más cerca de los católicos que del resto de religiones, y este paso nos permitirá simplificar la dimensionalidad del problema."
   ]
  },
  {
   "cell_type": "code",
   "execution_count": 84,
   "metadata": {
    "ExecuteTime": {
     "end_time": "2021-01-10T15:12:47.119432Z",
     "start_time": "2021-01-10T15:12:47.041068Z"
    }
   },
   "outputs": [],
   "source": [
    "catholic_to_christian_transformer = substitution_transformer({\"catholicism\": \"christianity\"})"
   ]
  },
  {
   "cell_type": "markdown",
   "metadata": {},
   "source": [
    "Con respecto al resto de variables, simplemente generamos un transformador con un diccionario de sufijos razonable."
   ]
  },
  {
   "cell_type": "code",
   "execution_count": 85,
   "metadata": {
    "ExecuteTime": {
     "end_time": "2021-01-10T15:12:47.198358Z",
     "start_time": "2021-01-10T15:12:47.121719Z"
    }
   },
   "outputs": [],
   "source": [
    "religions = [\n",
    "    \"agnosticism\", \"christianity\", \"buddhism\", \"judaism\", \"islam\", \"atheism\",\n",
    "    \"hinduism\", \"unimportant\"\n",
    "]\n",
    "\n",
    "religion_modifier_dict = {\n",
    "    \"but not too serious about it\": 0.25,\n",
    "    \"default\": 0.5,\n",
    "    \"and somewhat serious about it\": 0.75,\n",
    "    \"and very serious about it\": 1.0\n",
    "}\n",
    "\n",
    "religion_encoder = AffixedVariableEncoder(categories=[religions],\n",
    "                                          modifiers=[religion_modifier_dict],\n",
    "                                          handle_unknown=\"ignore\")"
   ]
  },
  {
   "cell_type": "code",
   "execution_count": 86,
   "metadata": {
    "ExecuteTime": {
     "end_time": "2021-01-10T15:12:47.305094Z",
     "start_time": "2021-01-10T15:12:47.200029Z"
    }
   },
   "outputs": [],
   "source": [
    "religion_transformer = Pipeline([\n",
    "    (\"group_unimportant\", not_religious_transformer),\n",
    "    (\"catholic_to_christian\", catholic_to_christian_transformer),\n",
    "    (\"encoder\", religion_encoder)\n",
    "])"
   ]
  },
  {
   "cell_type": "markdown",
   "metadata": {},
   "source": [
    "#### 2.2.3.5 Signo del zodíaco"
   ]
  },
  {
   "cell_type": "code",
   "execution_count": 87,
   "metadata": {
    "ExecuteTime": {
     "end_time": "2021-01-10T15:12:47.436054Z",
     "start_time": "2021-01-10T15:12:47.306456Z"
    }
   },
   "outputs": [
    {
     "data": {
      "text/plain": [
       "NaN                                              11044\n",
       "gemini and it&rsquo;s fun to think about          1782\n",
       "scorpio and it&rsquo;s fun to think about         1771\n",
       "leo and it&rsquo;s fun to think about             1690\n",
       "libra and it&rsquo;s fun to think about           1648\n",
       "taurus and it&rsquo;s fun to think about          1639\n",
       "cancer and it&rsquo;s fun to think about          1596\n",
       "pisces and it&rsquo;s fun to think about          1591\n",
       "sagittarius and it&rsquo;s fun to think about     1583\n",
       "virgo and it&rsquo;s fun to think about           1574\n",
       "aries and it&rsquo;s fun to think about           1573\n",
       "aquarius and it&rsquo;s fun to think about        1503\n",
       "virgo but it doesn&rsquo;t matter                 1497\n",
       "leo but it doesn&rsquo;t matter                   1457\n",
       "cancer but it doesn&rsquo;t matter                1453\n",
       "gemini but it doesn&rsquo;t matter                1451\n",
       "taurus but it doesn&rsquo;t matter                1446\n",
       "libra but it doesn&rsquo;t matter                 1407\n",
       "aquarius but it doesn&rsquo;t matter              1406\n",
       "capricorn and it&rsquo;s fun to think about       1375\n",
       "sagittarius but it doesn&rsquo;t matter           1373\n",
       "aries but it doesn&rsquo;t matter                 1372\n",
       "capricorn but it doesn&rsquo;t matter             1318\n",
       "pisces but it doesn&rsquo;t matter                1299\n",
       "scorpio but it doesn&rsquo;t matter               1263\n",
       "leo                                               1159\n",
       "libra                                             1098\n",
       "cancer                                            1092\n",
       "virgo                                             1028\n",
       "scorpio                                           1019\n",
       "gemini                                            1012\n",
       "taurus                                            1000\n",
       "aries                                              995\n",
       "pisces                                             991\n",
       "aquarius                                           953\n",
       "sagittarius                                        937\n",
       "capricorn                                          833\n",
       "scorpio and it matters a lot                        78\n",
       "leo and it matters a lot                            66\n",
       "aquarius and it matters a lot                       62\n",
       "pisces and it matters a lot                         62\n",
       "gemini and it matters a lot                         62\n",
       "cancer and it matters a lot                         62\n",
       "libra and it matters a lot                          52\n",
       "taurus and it matters a lot                         49\n",
       "sagittarius and it matters a lot                    47\n",
       "aries and it matters a lot                          47\n",
       "capricorn and it matters a lot                      45\n",
       "virgo and it matters a lot                          41\n",
       "Name: sign, dtype: int64"
      ]
     },
     "execution_count": 87,
     "metadata": {},
     "output_type": "execute_result"
    }
   ],
   "source": [
    "df[\"sign\"].value_counts(dropna=False)"
   ]
  },
  {
   "cell_type": "markdown",
   "metadata": {},
   "source": [
    "De nuevo, nos planteamos agrupar a aquellos a los que no les importa el signo en una categoría. El preprocesamiento de `sign` será muy similar al de `religion`."
   ]
  },
  {
   "cell_type": "code",
   "execution_count": 88,
   "metadata": {
    "ExecuteTime": {
     "end_time": "2021-01-10T15:12:47.521019Z",
     "start_time": "2021-01-10T15:12:47.438223Z"
    }
   },
   "outputs": [],
   "source": [
    "df[\"sign\"] = df[\"sign\"].astype(str).astype(object)\n",
    "sign_not_important_transformer = substitution_transformer(\n",
    "    {\n",
    "        \"but it doesn&rsquo;t matter\": \"unimportant\",\n",
    "        \"nan\": \"unimportant\"\n",
    "    }, full=True)"
   ]
  },
  {
   "cell_type": "code",
   "execution_count": 89,
   "metadata": {
    "ExecuteTime": {
     "end_time": "2021-01-10T15:12:47.603149Z",
     "start_time": "2021-01-10T15:12:47.522220Z"
    }
   },
   "outputs": [],
   "source": [
    "signs = [\n",
    "    \"capricorn\", \"aquarius\", \"pisces\", \"aries\", \"taurus\", \"gemini\", \"cancer\",\n",
    "    \"leo\", \"virgo\", \"libra\", \"scorpio\", \"sagittarius\", \"unimportant\"\n",
    "]\n",
    "\n",
    "sign_modifier_dict = {\n",
    "    \"default\": 0.33,\n",
    "    \"and it&rsquo;s fun to think about\": 0.66,\n",
    "    \"and it matters a lot\": 1.0\n",
    "}\n",
    "\n",
    "sign_encoder = AffixedVariableEncoder(categories=[signs],\n",
    "                                      modifiers=[sign_modifier_dict],\n",
    "                                      handle_unknown=\"ignore\")"
   ]
  },
  {
   "cell_type": "code",
   "execution_count": 90,
   "metadata": {
    "ExecuteTime": {
     "end_time": "2021-01-10T15:12:47.680922Z",
     "start_time": "2021-01-10T15:12:47.607320Z"
    }
   },
   "outputs": [],
   "source": [
    "sign_transformer = Pipeline([\n",
    "    (\"group_unimportant\", sign_not_important_transformer),\n",
    "    (\"encoder\", sign_encoder)\n",
    "])"
   ]
  },
  {
   "cell_type": "markdown",
   "metadata": {},
   "source": [
    "#### 2.2.3.6 Idiomas hablados"
   ]
  },
  {
   "cell_type": "code",
   "execution_count": 91,
   "metadata": {
    "ExecuteTime": {
     "end_time": "2021-01-10T15:12:47.775219Z",
     "start_time": "2021-01-10T15:12:47.682112Z"
    }
   },
   "outputs": [
    {
     "data": {
      "text/plain": [
       "english                                                                                   21815\n",
       "english (fluently)                                                                         6623\n",
       "english (fluently), spanish (poorly)                                                       2056\n",
       "english (fluently), spanish (okay)                                                         1916\n",
       "english (fluently), spanish (fluently)                                                     1288\n",
       "                                                                                          ...  \n",
       "english, urdu (okay), chinese (poorly)                                                        1\n",
       "english (fluently), french (fluently), italian (okay), spanish (okay), hebrew (poorly)        1\n",
       "english, french (poorly), german (poorly), dutch (poorly)                                     1\n",
       "english, french, italian, portuguese (okay), spanish (okay)                                   1\n",
       "english (fluently), spanish (poorly), c++ (okay), other (fluently), lisp (poorly)             1\n",
       "Name: speaks, Length: 7639, dtype: int64"
      ]
     },
     "execution_count": 91,
     "metadata": {},
     "output_type": "execute_result"
    }
   ],
   "source": [
    "df[\"speaks\"].value_counts(dropna=False)"
   ]
  },
  {
   "cell_type": "code",
   "execution_count": 92,
   "metadata": {
    "ExecuteTime": {
     "end_time": "2021-01-10T15:12:47.852916Z",
     "start_time": "2021-01-10T15:12:47.777179Z"
    }
   },
   "outputs": [
    {
     "data": {
      "text/plain": [
       "True"
      ]
     },
     "execution_count": 92,
     "metadata": {},
     "output_type": "execute_result"
    }
   ],
   "source": [
    "any(df[\"speaks\"].isnull())"
   ]
  },
  {
   "cell_type": "markdown",
   "metadata": {},
   "source": [
    "Parece que tenemos algunos valores nulos."
   ]
  },
  {
   "cell_type": "code",
   "execution_count": 93,
   "metadata": {
    "ExecuteTime": {
     "end_time": "2021-01-10T15:12:48.016201Z",
     "start_time": "2021-01-10T15:12:47.854421Z"
    }
   },
   "outputs": [
    {
     "data": {
      "text/html": [
       "<div>\n",
       "<style scoped>\n",
       "    .dataframe tbody tr th:only-of-type {\n",
       "        vertical-align: middle;\n",
       "    }\n",
       "\n",
       "    .dataframe tbody tr th {\n",
       "        vertical-align: top;\n",
       "    }\n",
       "\n",
       "    .dataframe thead th {\n",
       "        text-align: right;\n",
       "    }\n",
       "</style>\n",
       "<table border=\"1\" class=\"dataframe\">\n",
       "  <thead>\n",
       "    <tr style=\"text-align: right;\">\n",
       "      <th></th>\n",
       "      <th>age</th>\n",
       "      <th>status</th>\n",
       "      <th>sex</th>\n",
       "      <th>orientation</th>\n",
       "      <th>body_type</th>\n",
       "      <th>diet</th>\n",
       "      <th>drinks</th>\n",
       "      <th>drugs</th>\n",
       "      <th>education</th>\n",
       "      <th>ethnicity</th>\n",
       "      <th>height</th>\n",
       "      <th>job</th>\n",
       "      <th>location</th>\n",
       "      <th>offspring</th>\n",
       "      <th>pets</th>\n",
       "      <th>religion</th>\n",
       "      <th>sign</th>\n",
       "      <th>smokes</th>\n",
       "      <th>speaks</th>\n",
       "      <th>essay0</th>\n",
       "      <th>essay1</th>\n",
       "      <th>essay2</th>\n",
       "      <th>essay3</th>\n",
       "      <th>essay4</th>\n",
       "      <th>essay5</th>\n",
       "      <th>essay6</th>\n",
       "      <th>essay7</th>\n",
       "      <th>essay8</th>\n",
       "      <th>essay9</th>\n",
       "    </tr>\n",
       "  </thead>\n",
       "  <tbody>\n",
       "    <tr>\n",
       "      <th>1664</th>\n",
       "      <td>32</td>\n",
       "      <td>single</td>\n",
       "      <td>m</td>\n",
       "      <td>straight m</td>\n",
       "      <td>thin</td>\n",
       "      <td>mostly anything</td>\n",
       "      <td>very often</td>\n",
       "      <td>never</td>\n",
       "      <td>graduated from masters program</td>\n",
       "      <td>asian, hispanic / latin, white</td>\n",
       "      <td>65.0</td>\n",
       "      <td>executive / management</td>\n",
       "      <td>san francisco, california</td>\n",
       "      <td>doesn't have kids</td>\n",
       "      <td>likes dogs</td>\n",
       "      <td>catholicism</td>\n",
       "      <td>nan</td>\n",
       "      <td>no</td>\n",
       "      <td>NaN</td>\n",
       "      <td>this is going to be the shortest profile page ...</td>\n",
       "      <td>NaN</td>\n",
       "      <td>eating. especially in sf. although i don't tak...</td>\n",
       "      <td>NaN</td>\n",
       "      <td>NaN</td>\n",
       "      <td>passport. iphone. family visits. visiting bodi...</td>\n",
       "      <td>NaN</td>\n",
       "      <td>NaN</td>\n",
       "      <td>NaN</td>\n",
       "      <td>NaN</td>\n",
       "    </tr>\n",
       "    <tr>\n",
       "      <th>1755</th>\n",
       "      <td>45</td>\n",
       "      <td>single</td>\n",
       "      <td>m</td>\n",
       "      <td>straight m</td>\n",
       "      <td>athletic</td>\n",
       "      <td>nan</td>\n",
       "      <td>socially</td>\n",
       "      <td>never</td>\n",
       "      <td>graduated from college/university</td>\n",
       "      <td>white</td>\n",
       "      <td>72.0</td>\n",
       "      <td>medicine / health</td>\n",
       "      <td>san francisco, california</td>\n",
       "      <td>has a kid</td>\n",
       "      <td>has dogs and likes cats</td>\n",
       "      <td>agnosticism</td>\n",
       "      <td>scorpio but it doesn&amp;rsquo;t matter</td>\n",
       "      <td>no</td>\n",
       "      <td>NaN</td>\n",
       "      <td>a work in progress. i work in the biopharmaceu...</td>\n",
       "      <td>i want to be a national geographic photojourna...</td>\n",
       "      <td>solving puzzles.</td>\n",
       "      <td>my dapper style.</td>\n",
       "      <td>jon krakauer, eric schlosser novels. memento, ...</td>\n",
       "      <td>don't really need things, but 6 things i'd wan...</td>\n",
       "      <td>how the u.s. can turn our economy into a 'gree...</td>\n",
       "      <td>bouldering at berkeley ironworks, or running, ...</td>\n",
       "      <td>i'm slightly obsessive about working out/fitne...</td>\n",
       "      <td>NaN</td>\n",
       "    </tr>\n",
       "    <tr>\n",
       "      <th>2217</th>\n",
       "      <td>31</td>\n",
       "      <td>single</td>\n",
       "      <td>m</td>\n",
       "      <td>straight m</td>\n",
       "      <td>thin</td>\n",
       "      <td>nan</td>\n",
       "      <td>nan</td>\n",
       "      <td>never</td>\n",
       "      <td>graduated from college/university</td>\n",
       "      <td>white</td>\n",
       "      <td>72.0</td>\n",
       "      <td>science / tech / engineering</td>\n",
       "      <td>san francisco, california</td>\n",
       "      <td>doesn't have kids, but might want them</td>\n",
       "      <td>NaN</td>\n",
       "      <td>other</td>\n",
       "      <td>libra</td>\n",
       "      <td>no</td>\n",
       "      <td>NaN</td>\n",
       "      <td>i'm looking for the right chemistry. i have a ...</td>\n",
       "      <td>i'm just trying to figure it out! i have a goo...</td>\n",
       "      <td>i'm not really great at anything, lol. but i a...</td>\n",
       "      <td>my kindness, for sure. but also my eyes.</td>\n",
       "      <td>i like to mix up my music tastes. this week i'...</td>\n",
       "      <td>NaN</td>\n",
       "      <td>the ozone layer. jj, although i probably shoul...</td>\n",
       "      <td>i'm usually too burned out from the week to do...</td>\n",
       "      <td>i cook with a crockpot.</td>\n",
       "      <td>you want to meet for coffee or something low k...</td>\n",
       "    </tr>\n",
       "    <tr>\n",
       "      <th>2765</th>\n",
       "      <td>29</td>\n",
       "      <td>single</td>\n",
       "      <td>m</td>\n",
       "      <td>bisexual m</td>\n",
       "      <td>skinny</td>\n",
       "      <td>anything</td>\n",
       "      <td>socially</td>\n",
       "      <td>never</td>\n",
       "      <td>graduated from college/university</td>\n",
       "      <td>white</td>\n",
       "      <td>69.0</td>\n",
       "      <td>nan</td>\n",
       "      <td>san francisco, california</td>\n",
       "      <td>nan</td>\n",
       "      <td>NaN</td>\n",
       "      <td>atheism</td>\n",
       "      <td>nan</td>\n",
       "      <td>no</td>\n",
       "      <td>NaN</td>\n",
       "      <td>i'm interested in meeting new people and i lik...</td>\n",
       "      <td>seeking wisdom. also, enjoying myself.</td>\n",
       "      <td>locating and consuming nearby foodstuffs. reci...</td>\n",
       "      <td>my glass eye? no.</td>\n",
       "      <td>books: a fire upon the deep, dune, confessions...</td>\n",
       "      <td>breakfast, second breakfast, elevensies, lunch...</td>\n",
       "      <td>NaN</td>\n",
       "      <td>out seeing a movie, maybe having dinner with a...</td>\n",
       "      <td>NaN</td>\n",
       "      <td>NaN</td>\n",
       "    </tr>\n",
       "    <tr>\n",
       "      <th>6188</th>\n",
       "      <td>37</td>\n",
       "      <td>single</td>\n",
       "      <td>m</td>\n",
       "      <td>bisexual m</td>\n",
       "      <td>athletic</td>\n",
       "      <td>nan</td>\n",
       "      <td>not at all</td>\n",
       "      <td>never</td>\n",
       "      <td>graduated from college/university</td>\n",
       "      <td>white</td>\n",
       "      <td>62.0</td>\n",
       "      <td>computer / hardware / software</td>\n",
       "      <td>san francisco, california</td>\n",
       "      <td>nan</td>\n",
       "      <td>likes cats</td>\n",
       "      <td>other and laughing about it</td>\n",
       "      <td>nan</td>\n",
       "      <td>no</td>\n",
       "      <td>NaN</td>\n",
       "      <td>cuddly, quirky, queer. vector of enthusiasm. a...</td>\n",
       "      <td>experiencing reality, an instant at a time. i'...</td>\n",
       "      <td>reading. napping. cuddling. geeking out. enthu...</td>\n",
       "      <td>my strong shoulders. i'm only 5'2\" but my shou...</td>\n",
       "      <td>books: infinite jest. the count of monte crist...</td>\n",
       "      <td>iphone a gym coffee with cream (does that coun...</td>\n",
       "      <td>what's actually happening. i'm learning to be ...</td>\n",
       "      <td>working out at crossfit, then cooking dinner, ...</td>\n",
       "      <td>i'm f2m.</td>\n",
       "      <td>you're curious about a gay f2m boy who is in l...</td>\n",
       "    </tr>\n",
       "    <tr>\n",
       "      <th>8217</th>\n",
       "      <td>40</td>\n",
       "      <td>single</td>\n",
       "      <td>m</td>\n",
       "      <td>straight m</td>\n",
       "      <td>full figured</td>\n",
       "      <td>mostly anything</td>\n",
       "      <td>socially</td>\n",
       "      <td>nan</td>\n",
       "      <td>graduated from masters program</td>\n",
       "      <td>white</td>\n",
       "      <td>69.0</td>\n",
       "      <td>sales / marketing / biz dev</td>\n",
       "      <td>san francisco, california</td>\n",
       "      <td>nan</td>\n",
       "      <td>NaN</td>\n",
       "      <td>agnosticism and somewhat serious about it</td>\n",
       "      <td>aries but it doesn&amp;rsquo;t matter</td>\n",
       "      <td>no</td>\n",
       "      <td>NaN</td>\n",
       "      <td>smart, sincere, self-deprecating single guy se...</td>\n",
       "      <td>i manage marketing/communications at a renewab...</td>\n",
       "      <td>writing (don't let this profile fool you) cook...</td>\n",
       "      <td>gosh, i have no idea.</td>\n",
       "      <td>books: -the odyssey, the republic, the symposi...</td>\n",
       "      <td>my family my friends my iphone  can't really t...</td>\n",
       "      <td>politics (still drinking the obama kool aid) s...</td>\n",
       "      <td>sometimes at a friend's for dinner, but usuall...</td>\n",
       "      <td>if you are looking for someone experienced in ...</td>\n",
       "      <td>-you want to converse intelligently with someo...</td>\n",
       "    </tr>\n",
       "    <tr>\n",
       "      <th>9636</th>\n",
       "      <td>34</td>\n",
       "      <td>single</td>\n",
       "      <td>f</td>\n",
       "      <td>straight f</td>\n",
       "      <td>athletic</td>\n",
       "      <td>nan</td>\n",
       "      <td>socially</td>\n",
       "      <td>never</td>\n",
       "      <td>graduated from masters program</td>\n",
       "      <td>other</td>\n",
       "      <td>66.0</td>\n",
       "      <td>medicine / health</td>\n",
       "      <td>palo alto, california</td>\n",
       "      <td>nan</td>\n",
       "      <td>NaN</td>\n",
       "      <td>other</td>\n",
       "      <td>sagittarius</td>\n",
       "      <td>no</td>\n",
       "      <td>NaN</td>\n",
       "      <td>i've travelled a lot and generally am attracte...</td>\n",
       "      <td>looking for the bigger picture and how to cont...</td>\n",
       "      <td>smiling and making people feel comfortable in ...</td>\n",
       "      <td>my smile. it makes me laugh when i hear people...</td>\n",
       "      <td>movie: meet joe black, the gods must be crazy ...</td>\n",
       "      <td>*lots of love *a few close friends *the abilit...</td>\n",
       "      <td>human behavior and how things fit together in ...</td>\n",
       "      <td>dinner with friends and/or family.</td>\n",
       "      <td>i am very smell sensitive. love the smell of c...</td>\n",
       "      <td>the profile is appealing and if you have subst...</td>\n",
       "    </tr>\n",
       "    <tr>\n",
       "      <th>11358</th>\n",
       "      <td>30</td>\n",
       "      <td>single</td>\n",
       "      <td>m</td>\n",
       "      <td>straight m</td>\n",
       "      <td>nan</td>\n",
       "      <td>mostly anything</td>\n",
       "      <td>socially</td>\n",
       "      <td>never</td>\n",
       "      <td>working on med school</td>\n",
       "      <td>white</td>\n",
       "      <td>67.0</td>\n",
       "      <td>student</td>\n",
       "      <td>san francisco, california</td>\n",
       "      <td>nan</td>\n",
       "      <td>likes dogs and likes cats</td>\n",
       "      <td>agnosticism</td>\n",
       "      <td>scorpio</td>\n",
       "      <td>no</td>\n",
       "      <td>NaN</td>\n",
       "      <td>i'm not a mormon missionary, and i don't wear ...</td>\n",
       "      <td>i'm a medical student, but i try not to be as ...</td>\n",
       "      <td>lots of things. mostly keeping it interesting....</td>\n",
       "      <td>NaN</td>\n",
       "      <td>i was recently out of the country for a couple...</td>\n",
       "      <td>NaN</td>\n",
       "      <td>tacos yoga bicycles soft pillows high thread c...</td>\n",
       "      <td>NaN</td>\n",
       "      <td>NaN</td>\n",
       "      <td>NaN</td>\n",
       "    </tr>\n",
       "    <tr>\n",
       "      <th>12595</th>\n",
       "      <td>39</td>\n",
       "      <td>single</td>\n",
       "      <td>f</td>\n",
       "      <td>straight f</td>\n",
       "      <td>fit</td>\n",
       "      <td>strictly anything</td>\n",
       "      <td>socially</td>\n",
       "      <td>nan</td>\n",
       "      <td>graduated from college/university</td>\n",
       "      <td>white</td>\n",
       "      <td>68.0</td>\n",
       "      <td>education / academia</td>\n",
       "      <td>oakland, california</td>\n",
       "      <td>nan</td>\n",
       "      <td>likes dogs and has cats</td>\n",
       "      <td>nan</td>\n",
       "      <td>cancer but it doesn&amp;rsquo;t matter</td>\n",
       "      <td>nan</td>\n",
       "      <td>NaN</td>\n",
       "      <td>i have been living in oakland since 1998. i fe...</td>\n",
       "      <td>trying to enjoy it and continually trying to b...</td>\n",
       "      <td>naming things; making any word sound sexy.</td>\n",
       "      <td>that i'm really fun to be around.</td>\n",
       "      <td>books: pablo neruda poetry; 9 stories, by jd s...</td>\n",
       "      <td>NaN</td>\n",
       "      <td>sex and death. that sounds weird, but it's not...</td>\n",
       "      <td>drinking wine in the backyard, or salsa dancing.</td>\n",
       "      <td>NaN</td>\n",
       "      <td>you feel it.</td>\n",
       "    </tr>\n",
       "    <tr>\n",
       "      <th>13591</th>\n",
       "      <td>35</td>\n",
       "      <td>single</td>\n",
       "      <td>f</td>\n",
       "      <td>straight f</td>\n",
       "      <td>fit</td>\n",
       "      <td>mostly anything</td>\n",
       "      <td>socially</td>\n",
       "      <td>nan</td>\n",
       "      <td>graduated from masters program</td>\n",
       "      <td>other</td>\n",
       "      <td>64.0</td>\n",
       "      <td>executive / management</td>\n",
       "      <td>san francisco, california</td>\n",
       "      <td>doesn't have kids, but wants them</td>\n",
       "      <td>has cats</td>\n",
       "      <td>nan</td>\n",
       "      <td>taurus and it&amp;rsquo;s fun to think about</td>\n",
       "      <td>no</td>\n",
       "      <td>NaN</td>\n",
       "      <td>hmmm..i think i'll take a different approach t...</td>\n",
       "      <td>i run a natural products company, originally a...</td>\n",
       "      <td>self fellatio</td>\n",
       "      <td>hmmm..i would guess my dark eyes would be firs...</td>\n",
       "      <td>music~phoenix, fleet foxes, flaming lips, beck...</td>\n",
       "      <td>family/friends sunshine a quiet mountain or be...</td>\n",
       "      <td>what i'm gonna cook for dinner, the future, ho...</td>\n",
       "      <td>shuffle; long walk, cocktails, friends, art sh...</td>\n",
       "      <td>that i eat a chocolate donut before getting on...</td>\n",
       "      <td>you are funny, perceptive, romantic, intellige...</td>\n",
       "    </tr>\n",
       "    <tr>\n",
       "      <th>14827</th>\n",
       "      <td>31</td>\n",
       "      <td>single</td>\n",
       "      <td>f</td>\n",
       "      <td>straight f</td>\n",
       "      <td>athletic</td>\n",
       "      <td>mostly anything</td>\n",
       "      <td>socially</td>\n",
       "      <td>nan</td>\n",
       "      <td>working on masters program</td>\n",
       "      <td>white</td>\n",
       "      <td>63.0</td>\n",
       "      <td>nan</td>\n",
       "      <td>palo alto, california</td>\n",
       "      <td>nan</td>\n",
       "      <td>likes dogs</td>\n",
       "      <td>other</td>\n",
       "      <td>pisces</td>\n",
       "      <td>no</td>\n",
       "      <td>NaN</td>\n",
       "      <td>the short version: midwestern girl begrudgingl...</td>\n",
       "      <td>i'm currently wrapping up a master's in educat...</td>\n",
       "      <td>homemade cookie deliveries.</td>\n",
       "      <td>probably my smile. or my facial expressions in...</td>\n",
       "      <td>best concert i've been to so far this year: th...</td>\n",
       "      <td>...family, friends, good coffee. there, i narr...</td>\n",
       "      <td>(re)designing schools.</td>\n",
       "      <td>... happy doing a lot of things. i might be co...</td>\n",
       "      <td>i can quote a decent amount of lines from \"dum...</td>\n",
       "      <td>...you're not going to simply copy and paste t...</td>\n",
       "    </tr>\n",
       "    <tr>\n",
       "      <th>15539</th>\n",
       "      <td>28</td>\n",
       "      <td>single</td>\n",
       "      <td>m</td>\n",
       "      <td>straight m</td>\n",
       "      <td>fit</td>\n",
       "      <td>mostly anything</td>\n",
       "      <td>socially</td>\n",
       "      <td>nan</td>\n",
       "      <td>graduated from college/university</td>\n",
       "      <td>middle eastern, white</td>\n",
       "      <td>71.0</td>\n",
       "      <td>political / government</td>\n",
       "      <td>san francisco, california</td>\n",
       "      <td>doesn't have kids</td>\n",
       "      <td>has dogs</td>\n",
       "      <td>agnosticism but not too serious about it</td>\n",
       "      <td>sagittarius and it&amp;rsquo;s fun to think about</td>\n",
       "      <td>no</td>\n",
       "      <td>NaN</td>\n",
       "      <td>i am bit of a backwater rube living in the big...</td>\n",
       "      <td>i have a 9 to 5 doing content management for t...</td>\n",
       "      <td>fixing stuff, i left my tools back east but i ...</td>\n",
       "      <td>my facial hair, i've had a beard for close to ...</td>\n",
       "      <td>i love fresh food. not picky on how it is prep...</td>\n",
       "      <td>1. my puppy 2. soap 3. socks for the dog to ea...</td>\n",
       "      <td>is it friday, yet ?</td>\n",
       "      <td>alamo square, drinking a beer as my dog runs a...</td>\n",
       "      <td>i have bad hand writing and i might talk to my...</td>\n",
       "      <td>you read my profile and seem interested... rea...</td>\n",
       "    </tr>\n",
       "    <tr>\n",
       "      <th>15558</th>\n",
       "      <td>42</td>\n",
       "      <td>single</td>\n",
       "      <td>m</td>\n",
       "      <td>straight m</td>\n",
       "      <td>rather not say</td>\n",
       "      <td>nan</td>\n",
       "      <td>nan</td>\n",
       "      <td>nan</td>\n",
       "      <td>nan</td>\n",
       "      <td>white</td>\n",
       "      <td>73.0</td>\n",
       "      <td>nan</td>\n",
       "      <td>san francisco, california</td>\n",
       "      <td>nan</td>\n",
       "      <td>NaN</td>\n",
       "      <td>other</td>\n",
       "      <td>nan</td>\n",
       "      <td>no</td>\n",
       "      <td>NaN</td>\n",
       "      <td>NaN</td>\n",
       "      <td>NaN</td>\n",
       "      <td>NaN</td>\n",
       "      <td>NaN</td>\n",
       "      <td>NaN</td>\n",
       "      <td>NaN</td>\n",
       "      <td>NaN</td>\n",
       "      <td>NaN</td>\n",
       "      <td>NaN</td>\n",
       "      <td>NaN</td>\n",
       "    </tr>\n",
       "    <tr>\n",
       "      <th>16837</th>\n",
       "      <td>31</td>\n",
       "      <td>single</td>\n",
       "      <td>m</td>\n",
       "      <td>straight m</td>\n",
       "      <td>average</td>\n",
       "      <td>vegetarian</td>\n",
       "      <td>nan</td>\n",
       "      <td>never</td>\n",
       "      <td>graduated from college/university</td>\n",
       "      <td>indian, white</td>\n",
       "      <td>68.0</td>\n",
       "      <td>executive / management</td>\n",
       "      <td>san francisco, california</td>\n",
       "      <td>nan</td>\n",
       "      <td>NaN</td>\n",
       "      <td>hinduism</td>\n",
       "      <td>nan</td>\n",
       "      <td>nan</td>\n",
       "      <td>NaN</td>\n",
       "      <td>i am originally from la. i have also lived in ...</td>\n",
       "      <td>i work with start-up companies, and i run an e...</td>\n",
       "      <td>NaN</td>\n",
       "      <td>NaN</td>\n",
       "      <td>NaN</td>\n",
       "      <td>NaN</td>\n",
       "      <td>NaN</td>\n",
       "      <td>NaN</td>\n",
       "      <td>NaN</td>\n",
       "      <td>you... -are someone who is open to all experie...</td>\n",
       "    </tr>\n",
       "    <tr>\n",
       "      <th>17511</th>\n",
       "      <td>38</td>\n",
       "      <td>single</td>\n",
       "      <td>m</td>\n",
       "      <td>straight m</td>\n",
       "      <td>athletic</td>\n",
       "      <td>nan</td>\n",
       "      <td>socially</td>\n",
       "      <td>never</td>\n",
       "      <td>graduated from college/university</td>\n",
       "      <td>pacific islander</td>\n",
       "      <td>69.0</td>\n",
       "      <td>nan</td>\n",
       "      <td>san mateo, california</td>\n",
       "      <td>nan</td>\n",
       "      <td>NaN</td>\n",
       "      <td>other</td>\n",
       "      <td>pisces</td>\n",
       "      <td>no</td>\n",
       "      <td>NaN</td>\n",
       "      <td>colorado native - been in the bay area since 2...</td>\n",
       "      <td>currently working for a start up and write for...</td>\n",
       "      <td>being responsible my job keeping promises tryi...</td>\n",
       "      <td>NaN</td>\n",
       "      <td>NaN</td>\n",
       "      <td>my phone my health my family and friends my go...</td>\n",
       "      <td>NaN</td>\n",
       "      <td>relaxing, catching a game with friends or goin...</td>\n",
       "      <td>NaN</td>\n",
       "      <td>you're open minded and available (not carrying...</td>\n",
       "    </tr>\n",
       "    <tr>\n",
       "      <th>17737</th>\n",
       "      <td>33</td>\n",
       "      <td>single</td>\n",
       "      <td>m</td>\n",
       "      <td>straight m</td>\n",
       "      <td>fit</td>\n",
       "      <td>mostly vegetarian</td>\n",
       "      <td>often</td>\n",
       "      <td>sometimes</td>\n",
       "      <td>graduated from college/university</td>\n",
       "      <td>white</td>\n",
       "      <td>69.0</td>\n",
       "      <td>banking / financial / real estate</td>\n",
       "      <td>san francisco, california</td>\n",
       "      <td>nan</td>\n",
       "      <td>likes dogs and likes cats</td>\n",
       "      <td>nan</td>\n",
       "      <td>pisces but it doesn&amp;rsquo;t matter</td>\n",
       "      <td>no</td>\n",
       "      <td>NaN</td>\n",
       "      <td>i spend a lot of my time working in a soul-cru...</td>\n",
       "      <td>NaN</td>\n",
       "      <td>you may have gathered from my summary that i'm...</td>\n",
       "      <td>NaN</td>\n",
       "      <td>books: anything by e. l. doctorow (esp. the bo...</td>\n",
       "      <td>NaN</td>\n",
       "      <td>contranyms.  also, does anyone know if there i...</td>\n",
       "      <td>NaN</td>\n",
       "      <td>NaN</td>\n",
       "      <td>NaN</td>\n",
       "    </tr>\n",
       "    <tr>\n",
       "      <th>19625</th>\n",
       "      <td>30</td>\n",
       "      <td>single</td>\n",
       "      <td>m</td>\n",
       "      <td>gay m</td>\n",
       "      <td>nan</td>\n",
       "      <td>mostly vegetarian</td>\n",
       "      <td>socially</td>\n",
       "      <td>never</td>\n",
       "      <td>graduated from college/university</td>\n",
       "      <td>white</td>\n",
       "      <td>70.0</td>\n",
       "      <td>hospitality / travel</td>\n",
       "      <td>san francisco, california</td>\n",
       "      <td>doesn't have kids, but might want them</td>\n",
       "      <td>has cats</td>\n",
       "      <td>other</td>\n",
       "      <td>leo and it&amp;rsquo;s fun to think about</td>\n",
       "      <td>trying to quit</td>\n",
       "      <td>NaN</td>\n",
       "      <td>born in ukraine. live in sf! got a brain, clas...</td>\n",
       "      <td>i do events and banquets at the clift hotel an...</td>\n",
       "      <td>at telling a story. i'm a pretty good dancer. ...</td>\n",
       "      <td>that im eastern european. also my shoes and my...</td>\n",
       "      <td>books: i will go with authors rather than spec...</td>\n",
       "      <td>my cat, parfume, music, laughter, baby wipes l...</td>\n",
       "      <td>love. human history. human beliefs. faithfulln...</td>\n",
       "      <td>cooking, going to the opera, going on a date, ...</td>\n",
       "      <td>i'm a little self conscious and a tid bit inse...</td>\n",
       "      <td>you find me interesting and attractive, if you...</td>\n",
       "    </tr>\n",
       "    <tr>\n",
       "      <th>20931</th>\n",
       "      <td>36</td>\n",
       "      <td>single</td>\n",
       "      <td>m</td>\n",
       "      <td>straight m</td>\n",
       "      <td>athletic</td>\n",
       "      <td>nan</td>\n",
       "      <td>socially</td>\n",
       "      <td>never</td>\n",
       "      <td>graduated from masters program</td>\n",
       "      <td>white</td>\n",
       "      <td>74.0</td>\n",
       "      <td>sales / marketing / biz dev</td>\n",
       "      <td>san francisco, california</td>\n",
       "      <td>nan</td>\n",
       "      <td>likes dogs and likes cats</td>\n",
       "      <td>christianity but not too serious about it</td>\n",
       "      <td>libra</td>\n",
       "      <td>no</td>\n",
       "      <td>NaN</td>\n",
       "      <td>i am a bay area native and have spent most of ...</td>\n",
       "      <td>working at a startup in soma</td>\n",
       "      <td>buying random crap online, not liking it and n...</td>\n",
       "      <td>NaN</td>\n",
       "      <td>recently been into young hines, dengue fever, ...</td>\n",
       "      <td>the usual</td>\n",
       "      <td>NaN</td>\n",
       "      <td>usually out</td>\n",
       "      <td>NaN</td>\n",
       "      <td>you want to</td>\n",
       "    </tr>\n",
       "    <tr>\n",
       "      <th>21891</th>\n",
       "      <td>30</td>\n",
       "      <td>single</td>\n",
       "      <td>f</td>\n",
       "      <td>straight f</td>\n",
       "      <td>fit</td>\n",
       "      <td>mostly vegetarian</td>\n",
       "      <td>socially</td>\n",
       "      <td>never</td>\n",
       "      <td>graduated from college/university</td>\n",
       "      <td>hispanic / latin, white</td>\n",
       "      <td>66.0</td>\n",
       "      <td>sales / marketing / biz dev</td>\n",
       "      <td>san francisco, california</td>\n",
       "      <td>nan</td>\n",
       "      <td>likes dogs and likes cats</td>\n",
       "      <td>nan</td>\n",
       "      <td>taurus and it&amp;rsquo;s fun to think about</td>\n",
       "      <td>no</td>\n",
       "      <td>NaN</td>\n",
       "      <td>i am a free spirit and am always up for an adv...</td>\n",
       "      <td>living it up and loving what i do.</td>\n",
       "      <td>laughing, listening, smiling, drinking red win...</td>\n",
       "      <td>my hair. is that weird?</td>\n",
       "      <td>currently reading cutting for stone and am a p...</td>\n",
       "      <td>bean burritos, music, good conversation, lip g...</td>\n",
       "      <td>how to change for the better, how to spend mor...</td>\n",
       "      <td>either out with friends having dinner and vino...</td>\n",
       "      <td>nada...but i'm an open book. if you want to kn...</td>\n",
       "      <td>you are fun, you are open minded and you are l...</td>\n",
       "    </tr>\n",
       "    <tr>\n",
       "      <th>21934</th>\n",
       "      <td>36</td>\n",
       "      <td>single</td>\n",
       "      <td>m</td>\n",
       "      <td>straight m</td>\n",
       "      <td>average</td>\n",
       "      <td>nan</td>\n",
       "      <td>socially</td>\n",
       "      <td>nan</td>\n",
       "      <td>graduated from masters program</td>\n",
       "      <td>white</td>\n",
       "      <td>68.0</td>\n",
       "      <td>science / tech / engineering</td>\n",
       "      <td>san francisco, california</td>\n",
       "      <td>doesn't have kids, but might want them</td>\n",
       "      <td>NaN</td>\n",
       "      <td>agnosticism</td>\n",
       "      <td>virgo</td>\n",
       "      <td>no</td>\n",
       "      <td>NaN</td>\n",
       "      <td>though i'm certainly not without my surprises ...</td>\n",
       "      <td>NaN</td>\n",
       "      <td>i love working on something creative, sonic or...</td>\n",
       "      <td>NaN</td>\n",
       "      <td>i just read 1q84 by haruki murakami. it was an...</td>\n",
       "      <td>NaN</td>\n",
       "      <td>how the oakland a's are going to break my hear...</td>\n",
       "      <td>lately it's been more about coffee shops, my s...</td>\n",
       "      <td>NaN</td>\n",
       "      <td>i'm looking for someone who enjoys great conve...</td>\n",
       "    </tr>\n",
       "    <tr>\n",
       "      <th>23597</th>\n",
       "      <td>30</td>\n",
       "      <td>single</td>\n",
       "      <td>f</td>\n",
       "      <td>straight f</td>\n",
       "      <td>overweight</td>\n",
       "      <td>nan</td>\n",
       "      <td>nan</td>\n",
       "      <td>nan</td>\n",
       "      <td>nan</td>\n",
       "      <td>white</td>\n",
       "      <td>66.0</td>\n",
       "      <td>nan</td>\n",
       "      <td>lagunitas, california</td>\n",
       "      <td>nan</td>\n",
       "      <td>NaN</td>\n",
       "      <td>nan</td>\n",
       "      <td>nan</td>\n",
       "      <td>yes</td>\n",
       "      <td>NaN</td>\n",
       "      <td>NaN</td>\n",
       "      <td>NaN</td>\n",
       "      <td>NaN</td>\n",
       "      <td>NaN</td>\n",
       "      <td>NaN</td>\n",
       "      <td>NaN</td>\n",
       "      <td>NaN</td>\n",
       "      <td>NaN</td>\n",
       "      <td>NaN</td>\n",
       "      <td>NaN</td>\n",
       "    </tr>\n",
       "    <tr>\n",
       "      <th>23769</th>\n",
       "      <td>48</td>\n",
       "      <td>single</td>\n",
       "      <td>m</td>\n",
       "      <td>straight m</td>\n",
       "      <td>average</td>\n",
       "      <td>nan</td>\n",
       "      <td>socially</td>\n",
       "      <td>never</td>\n",
       "      <td>graduated from ph.d program</td>\n",
       "      <td>white</td>\n",
       "      <td>72.0</td>\n",
       "      <td>other</td>\n",
       "      <td>el cerrito, california</td>\n",
       "      <td>nan</td>\n",
       "      <td>NaN</td>\n",
       "      <td>other</td>\n",
       "      <td>nan</td>\n",
       "      <td>no</td>\n",
       "      <td>NaN</td>\n",
       "      <td>ok, - take 2. (why am i finding this so hard t...</td>\n",
       "      <td>i'm trying to use the gifts that i've been giv...</td>\n",
       "      <td>readin', `ritin', `rithmatic, figuring things ...</td>\n",
       "      <td>my eyes are a very light blue.</td>\n",
       "      <td>books: too many to name. history, fiction, mys...</td>\n",
       "      <td>my hip-pocket pad, my reading glasses, my ipod...</td>\n",
       "      <td>culture and society, how things work, how to t...</td>\n",
       "      <td>either unwinding from the week with a good boo...</td>\n",
       "      <td>hmmm. i guess that i'm not willing to publicly...</td>\n",
       "      <td>you can find any reason to, including just cha...</td>\n",
       "    </tr>\n",
       "    <tr>\n",
       "      <th>23792</th>\n",
       "      <td>37</td>\n",
       "      <td>single</td>\n",
       "      <td>f</td>\n",
       "      <td>straight f</td>\n",
       "      <td>athletic</td>\n",
       "      <td>nan</td>\n",
       "      <td>socially</td>\n",
       "      <td>nan</td>\n",
       "      <td>graduated from masters program</td>\n",
       "      <td>white</td>\n",
       "      <td>68.0</td>\n",
       "      <td>executive / management</td>\n",
       "      <td>san francisco, california</td>\n",
       "      <td>doesn't have kids, but might want them</td>\n",
       "      <td>NaN</td>\n",
       "      <td>agnosticism</td>\n",
       "      <td>nan</td>\n",
       "      <td>no</td>\n",
       "      <td>NaN</td>\n",
       "      <td>i've lived in a handful of very different plac...</td>\n",
       "      <td>on the work front - i work at a large technolo...</td>\n",
       "      <td>-being a shoulder to lean on for friends -bein...</td>\n",
       "      <td>is my hair. you can't expect to blend in with ...</td>\n",
       "      <td>music: i love music. current favorites are a r...</td>\n",
       "      <td>-sun, and sunblock (naturally) -time with frie...</td>\n",
       "      <td>the not-so-serious stuff...like how my life ca...</td>\n",
       "      <td>doing anything that sounds intriguing - live m...</td>\n",
       "      <td>is that, when we're out at a restaurant togeth...</td>\n",
       "      <td>-you're a smart, optimistic guy who believes t...</td>\n",
       "    </tr>\n",
       "    <tr>\n",
       "      <th>25063</th>\n",
       "      <td>54</td>\n",
       "      <td>single</td>\n",
       "      <td>m</td>\n",
       "      <td>straight m</td>\n",
       "      <td>average</td>\n",
       "      <td>nan</td>\n",
       "      <td>socially</td>\n",
       "      <td>nan</td>\n",
       "      <td>nan</td>\n",
       "      <td>white</td>\n",
       "      <td>74.0</td>\n",
       "      <td>executive / management</td>\n",
       "      <td>pacifica, california</td>\n",
       "      <td>has a kid</td>\n",
       "      <td>likes dogs and likes cats</td>\n",
       "      <td>agnosticism and laughing about it</td>\n",
       "      <td>scorpio and it&amp;rsquo;s fun to think about</td>\n",
       "      <td>trying to quit</td>\n",
       "      <td>NaN</td>\n",
       "      <td>sincere, honest, dependable, loyal, open, cons...</td>\n",
       "      <td>scheming, planning, playing, loving. everyday ...</td>\n",
       "      <td>finding solutions and fixing things devotion t...</td>\n",
       "      <td>it depends on the situation but... my sense of...</td>\n",
       "      <td>books - i don't read as much as i used to but ...</td>\n",
       "      <td>loyal friends, community, honesty, new challen...</td>\n",
       "      <td>how to stop thinking about everything :)</td>\n",
       "      <td>there is very little 'typical' about friday or...</td>\n",
       "      <td>on occasion i have worn womens underwear... in...</td>\n",
       "      <td>if your a woman who likes a genuine, old fashi...</td>\n",
       "    </tr>\n",
       "    <tr>\n",
       "      <th>25402</th>\n",
       "      <td>38</td>\n",
       "      <td>single</td>\n",
       "      <td>f</td>\n",
       "      <td>straight f</td>\n",
       "      <td>rather not say</td>\n",
       "      <td>nan</td>\n",
       "      <td>nan</td>\n",
       "      <td>nan</td>\n",
       "      <td>nan</td>\n",
       "      <td>white</td>\n",
       "      <td>67.0</td>\n",
       "      <td>nan</td>\n",
       "      <td>san francisco, california</td>\n",
       "      <td>nan</td>\n",
       "      <td>NaN</td>\n",
       "      <td>agnosticism</td>\n",
       "      <td>nan</td>\n",
       "      <td>no</td>\n",
       "      <td>NaN</td>\n",
       "      <td>NaN</td>\n",
       "      <td>NaN</td>\n",
       "      <td>NaN</td>\n",
       "      <td>NaN</td>\n",
       "      <td>NaN</td>\n",
       "      <td>NaN</td>\n",
       "      <td>NaN</td>\n",
       "      <td>NaN</td>\n",
       "      <td>NaN</td>\n",
       "      <td>NaN</td>\n",
       "    </tr>\n",
       "    <tr>\n",
       "      <th>25659</th>\n",
       "      <td>39</td>\n",
       "      <td>single</td>\n",
       "      <td>m</td>\n",
       "      <td>straight m</td>\n",
       "      <td>rather not say</td>\n",
       "      <td>nan</td>\n",
       "      <td>nan</td>\n",
       "      <td>nan</td>\n",
       "      <td>nan</td>\n",
       "      <td>black</td>\n",
       "      <td>72.0</td>\n",
       "      <td>nan</td>\n",
       "      <td>san francisco, california</td>\n",
       "      <td>nan</td>\n",
       "      <td>NaN</td>\n",
       "      <td>agnosticism</td>\n",
       "      <td>nan</td>\n",
       "      <td>sometimes</td>\n",
       "      <td>NaN</td>\n",
       "      <td>NaN</td>\n",
       "      <td>NaN</td>\n",
       "      <td>NaN</td>\n",
       "      <td>NaN</td>\n",
       "      <td>NaN</td>\n",
       "      <td>NaN</td>\n",
       "      <td>NaN</td>\n",
       "      <td>NaN</td>\n",
       "      <td>NaN</td>\n",
       "      <td>NaN</td>\n",
       "    </tr>\n",
       "    <tr>\n",
       "      <th>26831</th>\n",
       "      <td>30</td>\n",
       "      <td>single</td>\n",
       "      <td>f</td>\n",
       "      <td>straight f</td>\n",
       "      <td>average</td>\n",
       "      <td>anything</td>\n",
       "      <td>rarely</td>\n",
       "      <td>never</td>\n",
       "      <td>graduated from college/university</td>\n",
       "      <td>asian, pacific islander</td>\n",
       "      <td>65.0</td>\n",
       "      <td>banking / financial / real estate</td>\n",
       "      <td>san carlos, california</td>\n",
       "      <td>doesn't have kids, but wants them</td>\n",
       "      <td>has dogs and likes cats</td>\n",
       "      <td>catholicism but not too serious about it</td>\n",
       "      <td>nan</td>\n",
       "      <td>no</td>\n",
       "      <td>NaN</td>\n",
       "      <td>\"the best way to predict the future is to crea...</td>\n",
       "      <td>NaN</td>\n",
       "      <td>NaN</td>\n",
       "      <td>NaN</td>\n",
       "      <td>maroon 5, jason mraz, colbie caillat, bruno ma...</td>\n",
       "      <td>1)relationships w/people i care about 2)my iph...</td>\n",
       "      <td>NaN</td>\n",
       "      <td>not at a bar</td>\n",
       "      <td>NaN</td>\n",
       "      <td>you're looking for more than just a girl in a ...</td>\n",
       "    </tr>\n",
       "    <tr>\n",
       "      <th>28123</th>\n",
       "      <td>37</td>\n",
       "      <td>single</td>\n",
       "      <td>m</td>\n",
       "      <td>straight m</td>\n",
       "      <td>thin</td>\n",
       "      <td>nan</td>\n",
       "      <td>nan</td>\n",
       "      <td>nan</td>\n",
       "      <td>nan</td>\n",
       "      <td>indian</td>\n",
       "      <td>67.0</td>\n",
       "      <td>nan</td>\n",
       "      <td>san francisco, california</td>\n",
       "      <td>nan</td>\n",
       "      <td>NaN</td>\n",
       "      <td>catholicism</td>\n",
       "      <td>nan</td>\n",
       "      <td>no</td>\n",
       "      <td>NaN</td>\n",
       "      <td>NaN</td>\n",
       "      <td>NaN</td>\n",
       "      <td>NaN</td>\n",
       "      <td>NaN</td>\n",
       "      <td>NaN</td>\n",
       "      <td>NaN</td>\n",
       "      <td>NaN</td>\n",
       "      <td>NaN</td>\n",
       "      <td>NaN</td>\n",
       "      <td>NaN</td>\n",
       "    </tr>\n",
       "    <tr>\n",
       "      <th>28166</th>\n",
       "      <td>28</td>\n",
       "      <td>single</td>\n",
       "      <td>m</td>\n",
       "      <td>straight m</td>\n",
       "      <td>nan</td>\n",
       "      <td>nan</td>\n",
       "      <td>nan</td>\n",
       "      <td>nan</td>\n",
       "      <td>nan</td>\n",
       "      <td>white</td>\n",
       "      <td>69.0</td>\n",
       "      <td>nan</td>\n",
       "      <td>san francisco, california</td>\n",
       "      <td>nan</td>\n",
       "      <td>NaN</td>\n",
       "      <td>judaism</td>\n",
       "      <td>nan</td>\n",
       "      <td>no</td>\n",
       "      <td>NaN</td>\n",
       "      <td>NaN</td>\n",
       "      <td>NaN</td>\n",
       "      <td>NaN</td>\n",
       "      <td>NaN</td>\n",
       "      <td>NaN</td>\n",
       "      <td>NaN</td>\n",
       "      <td>NaN</td>\n",
       "      <td>NaN</td>\n",
       "      <td>NaN</td>\n",
       "      <td>NaN</td>\n",
       "    </tr>\n",
       "    <tr>\n",
       "      <th>29758</th>\n",
       "      <td>35</td>\n",
       "      <td>single</td>\n",
       "      <td>f</td>\n",
       "      <td>straight f</td>\n",
       "      <td>average</td>\n",
       "      <td>nan</td>\n",
       "      <td>socially</td>\n",
       "      <td>never</td>\n",
       "      <td>graduated from masters program</td>\n",
       "      <td>black</td>\n",
       "      <td>68.0</td>\n",
       "      <td>education / academia</td>\n",
       "      <td>berkeley, california</td>\n",
       "      <td>nan</td>\n",
       "      <td>NaN</td>\n",
       "      <td>christianity</td>\n",
       "      <td>pisces</td>\n",
       "      <td>no</td>\n",
       "      <td>NaN</td>\n",
       "      <td>NaN</td>\n",
       "      <td>NaN</td>\n",
       "      <td>NaN</td>\n",
       "      <td>NaN</td>\n",
       "      <td>NaN</td>\n",
       "      <td>coffee, music, tennis, chocolate, my passport,...</td>\n",
       "      <td>NaN</td>\n",
       "      <td>out with my friends.</td>\n",
       "      <td>NaN</td>\n",
       "      <td>NaN</td>\n",
       "    </tr>\n",
       "    <tr>\n",
       "      <th>29966</th>\n",
       "      <td>40</td>\n",
       "      <td>single</td>\n",
       "      <td>f</td>\n",
       "      <td>straight f</td>\n",
       "      <td>rather not say</td>\n",
       "      <td>nan</td>\n",
       "      <td>nan</td>\n",
       "      <td>nan</td>\n",
       "      <td>nan</td>\n",
       "      <td>asian</td>\n",
       "      <td>59.0</td>\n",
       "      <td>nan</td>\n",
       "      <td>san francisco, california</td>\n",
       "      <td>nan</td>\n",
       "      <td>NaN</td>\n",
       "      <td>agnosticism</td>\n",
       "      <td>nan</td>\n",
       "      <td>no</td>\n",
       "      <td>NaN</td>\n",
       "      <td>single gal enjoying life in the city looking f...</td>\n",
       "      <td>NaN</td>\n",
       "      <td>really great at seeking new place to see, food...</td>\n",
       "      <td>that i am short, since they just tripped over me</td>\n",
       "      <td>NaN</td>\n",
       "      <td>NaN</td>\n",
       "      <td>NaN</td>\n",
       "      <td>doing laundry and watching supernatural</td>\n",
       "      <td>i love reading juvenile fantasy/adventure seri...</td>\n",
       "      <td>NaN</td>\n",
       "    </tr>\n",
       "    <tr>\n",
       "      <th>29978</th>\n",
       "      <td>44</td>\n",
       "      <td>single</td>\n",
       "      <td>m</td>\n",
       "      <td>straight m</td>\n",
       "      <td>thin</td>\n",
       "      <td>strictly anything</td>\n",
       "      <td>socially</td>\n",
       "      <td>nan</td>\n",
       "      <td>graduated from college/university</td>\n",
       "      <td>white</td>\n",
       "      <td>74.0</td>\n",
       "      <td>computer / hardware / software</td>\n",
       "      <td>san francisco, california</td>\n",
       "      <td>nan</td>\n",
       "      <td>has cats</td>\n",
       "      <td>nan</td>\n",
       "      <td>leo</td>\n",
       "      <td>nan</td>\n",
       "      <td>NaN</td>\n",
       "      <td>hi there, i'm dan. i've lived here in beautifu...</td>\n",
       "      <td>my real passion these days is doing improv com...</td>\n",
       "      <td>... patience. i have the spirit of ganesh in m...</td>\n",
       "      <td>either my irreverent humor or my direct honest...</td>\n",
       "      <td>books-wise, i like a fine read that's 50% hard...</td>\n",
       "      <td>NaN</td>\n",
       "      <td>... people, friends, relationships - where i a...</td>\n",
       "      <td>NaN</td>\n",
       "      <td>NaN</td>\n",
       "      <td>NaN</td>\n",
       "    </tr>\n",
       "    <tr>\n",
       "      <th>32533</th>\n",
       "      <td>30</td>\n",
       "      <td>single</td>\n",
       "      <td>m</td>\n",
       "      <td>straight m</td>\n",
       "      <td>athletic</td>\n",
       "      <td>mostly anything</td>\n",
       "      <td>socially</td>\n",
       "      <td>never</td>\n",
       "      <td>graduated from college/university</td>\n",
       "      <td>white</td>\n",
       "      <td>72.0</td>\n",
       "      <td>sales / marketing / biz dev</td>\n",
       "      <td>san francisco, california</td>\n",
       "      <td>doesn't have kids</td>\n",
       "      <td>NaN</td>\n",
       "      <td>catholicism</td>\n",
       "      <td>nan</td>\n",
       "      <td>no</td>\n",
       "      <td>NaN</td>\n",
       "      <td>looking for someone to run a 5k with on a sund...</td>\n",
       "      <td>tech sales and pursuing an mba. trying to stay...</td>\n",
       "      <td>sitting at a nice bar and having a good dinner...</td>\n",
       "      <td>i think smile.</td>\n",
       "      <td>favorite book is alexander and the terrible, h...</td>\n",
       "      <td>hmmm, not sure.</td>\n",
       "      <td>definitely think a lot about what i want to do...</td>\n",
       "      <td>with my 2 brothers having dinner and watching ...</td>\n",
       "      <td>NaN</td>\n",
       "      <td>any of this sounds interesting.</td>\n",
       "    </tr>\n",
       "    <tr>\n",
       "      <th>32990</th>\n",
       "      <td>57</td>\n",
       "      <td>available</td>\n",
       "      <td>m</td>\n",
       "      <td>gay m</td>\n",
       "      <td>average</td>\n",
       "      <td>nan</td>\n",
       "      <td>rarely</td>\n",
       "      <td>never</td>\n",
       "      <td>graduated from masters program</td>\n",
       "      <td>white</td>\n",
       "      <td>67.0</td>\n",
       "      <td>medicine / health</td>\n",
       "      <td>san francisco, california</td>\n",
       "      <td>nan</td>\n",
       "      <td>NaN</td>\n",
       "      <td>atheism</td>\n",
       "      <td>aquarius</td>\n",
       "      <td>no</td>\n",
       "      <td>NaN</td>\n",
       "      <td>always on the lookout for new friends, social ...</td>\n",
       "      <td>i work in cancer research at ucsf, am a music ...</td>\n",
       "      <td>i try to be good at anything i put my mind to....</td>\n",
       "      <td>my eyes and smile</td>\n",
       "      <td>books ----- not really a reader.  movies -----...</td>\n",
       "      <td>food, sports, movies, music, friends, sex</td>\n",
       "      <td>in a world where carpenters can get resurrecte...</td>\n",
       "      <td>NaN</td>\n",
       "      <td>NaN</td>\n",
       "      <td>NaN</td>\n",
       "    </tr>\n",
       "    <tr>\n",
       "      <th>34557</th>\n",
       "      <td>30</td>\n",
       "      <td>single</td>\n",
       "      <td>f</td>\n",
       "      <td>straight f</td>\n",
       "      <td>a little extra</td>\n",
       "      <td>anything</td>\n",
       "      <td>socially</td>\n",
       "      <td>never</td>\n",
       "      <td>graduated from masters program</td>\n",
       "      <td>white</td>\n",
       "      <td>68.0</td>\n",
       "      <td>medicine / health</td>\n",
       "      <td>menlo park, california</td>\n",
       "      <td>nan</td>\n",
       "      <td>NaN</td>\n",
       "      <td>other</td>\n",
       "      <td>sagittarius and it&amp;rsquo;s fun to think about</td>\n",
       "      <td>no</td>\n",
       "      <td>NaN</td>\n",
       "      <td>NaN</td>\n",
       "      <td>NaN</td>\n",
       "      <td>NaN</td>\n",
       "      <td>NaN</td>\n",
       "      <td>NaN</td>\n",
       "      <td>my family. music. airplanes. caffeine. spell c...</td>\n",
       "      <td>NaN</td>\n",
       "      <td>NaN</td>\n",
       "      <td>NaN</td>\n",
       "      <td>NaN</td>\n",
       "    </tr>\n",
       "    <tr>\n",
       "      <th>37870</th>\n",
       "      <td>41</td>\n",
       "      <td>single</td>\n",
       "      <td>m</td>\n",
       "      <td>gay m</td>\n",
       "      <td>nan</td>\n",
       "      <td>nan</td>\n",
       "      <td>nan</td>\n",
       "      <td>nan</td>\n",
       "      <td>nan</td>\n",
       "      <td>white</td>\n",
       "      <td>69.0</td>\n",
       "      <td>nan</td>\n",
       "      <td>pacifica, california</td>\n",
       "      <td>nan</td>\n",
       "      <td>NaN</td>\n",
       "      <td>agnosticism</td>\n",
       "      <td>nan</td>\n",
       "      <td>no</td>\n",
       "      <td>NaN</td>\n",
       "      <td>now that i have hit and passed 40, i am seeing...</td>\n",
       "      <td>working, mostly. lots of voulteering in arma (...</td>\n",
       "      <td>NaN</td>\n",
       "      <td>NaN</td>\n",
       "      <td>books would be too many to list, just finished...</td>\n",
       "      <td>NaN</td>\n",
       "      <td>how to make my life more fulfilling and what g...</td>\n",
       "      <td>at home with a friend</td>\n",
       "      <td>NaN</td>\n",
       "      <td>NaN</td>\n",
       "    </tr>\n",
       "    <tr>\n",
       "      <th>38494</th>\n",
       "      <td>43</td>\n",
       "      <td>single</td>\n",
       "      <td>f</td>\n",
       "      <td>straight f</td>\n",
       "      <td>curvy</td>\n",
       "      <td>nan</td>\n",
       "      <td>socially</td>\n",
       "      <td>nan</td>\n",
       "      <td>nan</td>\n",
       "      <td>white</td>\n",
       "      <td>67.0</td>\n",
       "      <td>nan</td>\n",
       "      <td>san francisco, california</td>\n",
       "      <td>nan</td>\n",
       "      <td>likes dogs</td>\n",
       "      <td>judaism and laughing about it</td>\n",
       "      <td>capricorn and it&amp;rsquo;s fun to think about</td>\n",
       "      <td>no</td>\n",
       "      <td>NaN</td>\n",
       "      <td>an east coast transplant growing roots in west...</td>\n",
       "      <td>i love to have adventures, get out and see and...</td>\n",
       "      <td>making my friends laugh. teasing, poking, nudg...</td>\n",
       "      <td>my presence, my directness, my sense of humor.</td>\n",
       "      <td>here's a short list of random things i love, o...</td>\n",
       "      <td>love, wonderful friends, belly laughs, great b...</td>\n",
       "      <td>muscle cars and hot young studs wearing ripped...</td>\n",
       "      <td>plotting my block-by-block domination of the c...</td>\n",
       "      <td>well, there was that one time....nah</td>\n",
       "      <td>. . . you are a smart, funny, sweet, real-deal...</td>\n",
       "    </tr>\n",
       "    <tr>\n",
       "      <th>39298</th>\n",
       "      <td>40</td>\n",
       "      <td>available</td>\n",
       "      <td>m</td>\n",
       "      <td>gay m</td>\n",
       "      <td>skinny</td>\n",
       "      <td>mostly vegetarian</td>\n",
       "      <td>socially</td>\n",
       "      <td>never</td>\n",
       "      <td>graduated from college/university</td>\n",
       "      <td>white</td>\n",
       "      <td>68.0</td>\n",
       "      <td>science / tech / engineering</td>\n",
       "      <td>san francisco, california</td>\n",
       "      <td>nan</td>\n",
       "      <td>NaN</td>\n",
       "      <td>nan</td>\n",
       "      <td>virgo and it&amp;rsquo;s fun to think about</td>\n",
       "      <td>no</td>\n",
       "      <td>NaN</td>\n",
       "      <td>brainy/intellectual but in an analytic-enginee...</td>\n",
       "      <td>working of course (making the world a better p...</td>\n",
       "      <td>climbing rocks, climbing mountains, exploring ...</td>\n",
       "      <td>smarts, boyish body, good teeth ? :-)</td>\n",
       "      <td>books: catcher in the rye, alice in wonderland...</td>\n",
       "      <td>water (swimming or lounging), the sun on my fa...</td>\n",
       "      <td>usability, design, architecture, urbanism, eff...</td>\n",
       "      <td>NaN</td>\n",
       "      <td>NaN</td>\n",
       "      <td>NaN</td>\n",
       "    </tr>\n",
       "    <tr>\n",
       "      <th>40393</th>\n",
       "      <td>47</td>\n",
       "      <td>single</td>\n",
       "      <td>m</td>\n",
       "      <td>straight m</td>\n",
       "      <td>athletic</td>\n",
       "      <td>strictly other</td>\n",
       "      <td>socially</td>\n",
       "      <td>never</td>\n",
       "      <td>graduated from college/university</td>\n",
       "      <td>white</td>\n",
       "      <td>72.0</td>\n",
       "      <td>sales / marketing / biz dev</td>\n",
       "      <td>mill valley, california</td>\n",
       "      <td>has a kid</td>\n",
       "      <td>NaN</td>\n",
       "      <td>other but not too serious about it</td>\n",
       "      <td>scorpio and it&amp;rsquo;s fun to think about</td>\n",
       "      <td>no</td>\n",
       "      <td>NaN</td>\n",
       "      <td>i like to have fun. i like to laugh. i love be...</td>\n",
       "      <td>living life, trying to smile large and laugh t...</td>\n",
       "      <td>cooking on a grill, gas burner range or camp f...</td>\n",
       "      <td>my smile and guy next door look.</td>\n",
       "      <td>for music, i love a lot of different genres. j...</td>\n",
       "      <td>car, cash, comfortable clothes/shoes, cell pho...</td>\n",
       "      <td>NaN</td>\n",
       "      <td>just depends on what is going on. could be out...</td>\n",
       "      <td>NaN</td>\n",
       "      <td>if you like to converse on a variety of differ...</td>\n",
       "    </tr>\n",
       "    <tr>\n",
       "      <th>41867</th>\n",
       "      <td>62</td>\n",
       "      <td>available</td>\n",
       "      <td>m</td>\n",
       "      <td>gay m</td>\n",
       "      <td>thin</td>\n",
       "      <td>mostly anything</td>\n",
       "      <td>rarely</td>\n",
       "      <td>never</td>\n",
       "      <td>graduated from ph.d program</td>\n",
       "      <td>white, other</td>\n",
       "      <td>73.0</td>\n",
       "      <td>other</td>\n",
       "      <td>green brae, california</td>\n",
       "      <td>nan</td>\n",
       "      <td>likes dogs and likes cats</td>\n",
       "      <td>catholicism and very serious about it</td>\n",
       "      <td>taurus and it matters a lot</td>\n",
       "      <td>yes</td>\n",
       "      <td>NaN</td>\n",
       "      <td>i was born and bred in a small town in england...</td>\n",
       "      <td>NaN</td>\n",
       "      <td>listening, conversation, organization, trying ...</td>\n",
       "      <td>a real anglo-saxon, slim, defined with blond h...</td>\n",
       "      <td>books ----- i enjoy reading historical novels,...</td>\n",
       "      <td>my faith and friends.</td>\n",
       "      <td>philosophical questions. where should i travel...</td>\n",
       "      <td>usually at home either watching tv or working ...</td>\n",
       "      <td>the most private thing i'm will to admit is th...</td>\n",
       "      <td>- you are the kind of person who will spend a ...</td>\n",
       "    </tr>\n",
       "    <tr>\n",
       "      <th>42523</th>\n",
       "      <td>28</td>\n",
       "      <td>single</td>\n",
       "      <td>m</td>\n",
       "      <td>straight m</td>\n",
       "      <td>average</td>\n",
       "      <td>strictly anything</td>\n",
       "      <td>often</td>\n",
       "      <td>never</td>\n",
       "      <td>graduated from college/university</td>\n",
       "      <td>white</td>\n",
       "      <td>73.0</td>\n",
       "      <td>science / tech / engineering</td>\n",
       "      <td>san francisco, california</td>\n",
       "      <td>nan</td>\n",
       "      <td>likes dogs and likes cats</td>\n",
       "      <td>christianity</td>\n",
       "      <td>aquarius but it doesn&amp;rsquo;t matter</td>\n",
       "      <td>no</td>\n",
       "      <td>NaN</td>\n",
       "      <td>i'm far too interesting to describe in just a ...</td>\n",
       "      <td>i'm a midwestern native who has come to silico...</td>\n",
       "      <td>making people laugh. getting along with others...</td>\n",
       "      <td>NaN</td>\n",
       "      <td>NaN</td>\n",
       "      <td>NaN</td>\n",
       "      <td>NaN</td>\n",
       "      <td>NaN</td>\n",
       "      <td>NaN</td>\n",
       "      <td>you want something new and exciting.</td>\n",
       "    </tr>\n",
       "    <tr>\n",
       "      <th>44651</th>\n",
       "      <td>36</td>\n",
       "      <td>single</td>\n",
       "      <td>m</td>\n",
       "      <td>straight m</td>\n",
       "      <td>a little extra</td>\n",
       "      <td>nan</td>\n",
       "      <td>socially</td>\n",
       "      <td>nan</td>\n",
       "      <td>graduated from college/university</td>\n",
       "      <td>hispanic / latin</td>\n",
       "      <td>67.0</td>\n",
       "      <td>sales / marketing / biz dev</td>\n",
       "      <td>san francisco, california</td>\n",
       "      <td>doesn't have kids, but might want them</td>\n",
       "      <td>NaN</td>\n",
       "      <td>other</td>\n",
       "      <td>leo and it&amp;rsquo;s fun to think about</td>\n",
       "      <td>sometimes</td>\n",
       "      <td>NaN</td>\n",
       "      <td>this is never easy... what can i tell you abou...</td>\n",
       "      <td>NaN</td>\n",
       "      <td>NaN</td>\n",
       "      <td>i'm always singing or humming a tune whether i...</td>\n",
       "      <td>NaN</td>\n",
       "      <td>NaN</td>\n",
       "      <td>NaN</td>\n",
       "      <td>friday night is amateur night, true rockstars ...</td>\n",
       "      <td>NaN</td>\n",
       "      <td>NaN</td>\n",
       "    </tr>\n",
       "    <tr>\n",
       "      <th>46600</th>\n",
       "      <td>37</td>\n",
       "      <td>single</td>\n",
       "      <td>m</td>\n",
       "      <td>straight m</td>\n",
       "      <td>athletic</td>\n",
       "      <td>nan</td>\n",
       "      <td>socially</td>\n",
       "      <td>nan</td>\n",
       "      <td>graduated from college/university</td>\n",
       "      <td>pacific islander</td>\n",
       "      <td>69.0</td>\n",
       "      <td>medicine / health</td>\n",
       "      <td>orinda, california</td>\n",
       "      <td>nan</td>\n",
       "      <td>NaN</td>\n",
       "      <td>christianity</td>\n",
       "      <td>nan</td>\n",
       "      <td>no</td>\n",
       "      <td>NaN</td>\n",
       "      <td>i'll keep this short and sweet. my life is ama...</td>\n",
       "      <td>to live with compassion and kindness.</td>\n",
       "      <td>listening working hard being silly and sarcasm...</td>\n",
       "      <td>my smile.</td>\n",
       "      <td>some of my favorite hot spots: yosemite, point...</td>\n",
       "      <td>faith family and friends nature health laughte...</td>\n",
       "      <td>life and inner peace.</td>\n",
       "      <td>indoor rockclimbing, dinner with friends or ch...</td>\n",
       "      <td>i used to be a aqua aerobics instructor.</td>\n",
       "      <td>you'd like to go on an adventure. =)  ________...</td>\n",
       "    </tr>\n",
       "    <tr>\n",
       "      <th>46804</th>\n",
       "      <td>41</td>\n",
       "      <td>single</td>\n",
       "      <td>m</td>\n",
       "      <td>straight m</td>\n",
       "      <td>average</td>\n",
       "      <td>anything</td>\n",
       "      <td>socially</td>\n",
       "      <td>nan</td>\n",
       "      <td>graduated from college/university</td>\n",
       "      <td>white</td>\n",
       "      <td>69.0</td>\n",
       "      <td>artistic / musical / writer</td>\n",
       "      <td>san francisco, california</td>\n",
       "      <td>nan</td>\n",
       "      <td>likes dogs and has cats</td>\n",
       "      <td>agnosticism but not too serious about it</td>\n",
       "      <td>sagittarius</td>\n",
       "      <td>no</td>\n",
       "      <td>NaN</td>\n",
       "      <td>hi, here's a little about me: i like to be pla...</td>\n",
       "      <td>i'm a web designer who is trying to learn as m...</td>\n",
       "      <td>- making music - i can connect any idea to ano...</td>\n",
       "      <td>i don't know, you tell me. okay, maybe that i ...</td>\n",
       "      <td>books: this is your brain on music (does an au...</td>\n",
       "      <td>- family - friends - music (lots of spotify, l...</td>\n",
       "      <td>- why i own so many musical instruments - my b...</td>\n",
       "      <td>either being mellow at home or going out to wi...</td>\n",
       "      <td>i can do a pretty good michael mcdonald impers...</td>\n",
       "      <td>if you're looking for something long term. if ...</td>\n",
       "    </tr>\n",
       "    <tr>\n",
       "      <th>46884</th>\n",
       "      <td>38</td>\n",
       "      <td>single</td>\n",
       "      <td>m</td>\n",
       "      <td>straight m</td>\n",
       "      <td>fit</td>\n",
       "      <td>nan</td>\n",
       "      <td>socially</td>\n",
       "      <td>never</td>\n",
       "      <td>nan</td>\n",
       "      <td>other</td>\n",
       "      <td>75.0</td>\n",
       "      <td>nan</td>\n",
       "      <td>san francisco, california</td>\n",
       "      <td>nan</td>\n",
       "      <td>NaN</td>\n",
       "      <td>nan</td>\n",
       "      <td>nan</td>\n",
       "      <td>no</td>\n",
       "      <td>NaN</td>\n",
       "      <td>i've been leaving in san francisco for the pas...</td>\n",
       "      <td>NaN</td>\n",
       "      <td>NaN</td>\n",
       "      <td>NaN</td>\n",
       "      <td>NaN</td>\n",
       "      <td>NaN</td>\n",
       "      <td>NaN</td>\n",
       "      <td>NaN</td>\n",
       "      <td>NaN</td>\n",
       "      <td>NaN</td>\n",
       "    </tr>\n",
       "    <tr>\n",
       "      <th>46928</th>\n",
       "      <td>33</td>\n",
       "      <td>single</td>\n",
       "      <td>m</td>\n",
       "      <td>gay m</td>\n",
       "      <td>a little extra</td>\n",
       "      <td>nan</td>\n",
       "      <td>often</td>\n",
       "      <td>nan</td>\n",
       "      <td>graduated from masters program</td>\n",
       "      <td>NaN</td>\n",
       "      <td>75.0</td>\n",
       "      <td>nan</td>\n",
       "      <td>san francisco, california</td>\n",
       "      <td>doesn't have kids, but might want them</td>\n",
       "      <td>likes dogs</td>\n",
       "      <td>nan</td>\n",
       "      <td>gemini and it&amp;rsquo;s fun to think about</td>\n",
       "      <td>no</td>\n",
       "      <td>NaN</td>\n",
       "      <td>i grew up on the beach and love being on the c...</td>\n",
       "      <td>just moved back to san francisco after living ...</td>\n",
       "      <td>connecting people adapting</td>\n",
       "      <td>i'm tall, white, shaggy curly blond hair, blue...</td>\n",
       "      <td>books ----- technopoly, let my people go surfi...</td>\n",
       "      <td>music tent camera pen bagels friends</td>\n",
       "      <td>traveling</td>\n",
       "      <td>NaN</td>\n",
       "      <td>NaN</td>\n",
       "      <td>you love exploring, music, and traveling. and ...</td>\n",
       "    </tr>\n",
       "    <tr>\n",
       "      <th>54545</th>\n",
       "      <td>34</td>\n",
       "      <td>single</td>\n",
       "      <td>f</td>\n",
       "      <td>straight f</td>\n",
       "      <td>nan</td>\n",
       "      <td>nan</td>\n",
       "      <td>nan</td>\n",
       "      <td>nan</td>\n",
       "      <td>nan</td>\n",
       "      <td>white</td>\n",
       "      <td>67.0</td>\n",
       "      <td>nan</td>\n",
       "      <td>san francisco, california</td>\n",
       "      <td>nan</td>\n",
       "      <td>NaN</td>\n",
       "      <td>nan</td>\n",
       "      <td>nan</td>\n",
       "      <td>no</td>\n",
       "      <td>NaN</td>\n",
       "      <td>NaN</td>\n",
       "      <td>NaN</td>\n",
       "      <td>NaN</td>\n",
       "      <td>NaN</td>\n",
       "      <td>NaN</td>\n",
       "      <td>NaN</td>\n",
       "      <td>NaN</td>\n",
       "      <td>NaN</td>\n",
       "      <td>NaN</td>\n",
       "      <td>NaN</td>\n",
       "    </tr>\n",
       "    <tr>\n",
       "      <th>54647</th>\n",
       "      <td>30</td>\n",
       "      <td>single</td>\n",
       "      <td>m</td>\n",
       "      <td>straight m</td>\n",
       "      <td>skinny</td>\n",
       "      <td>nan</td>\n",
       "      <td>socially</td>\n",
       "      <td>sometimes</td>\n",
       "      <td>working on two-year college</td>\n",
       "      <td>white</td>\n",
       "      <td>70.0</td>\n",
       "      <td>student</td>\n",
       "      <td>san francisco, california</td>\n",
       "      <td>nan</td>\n",
       "      <td>likes dogs and likes cats</td>\n",
       "      <td>other</td>\n",
       "      <td>leo but it doesn&amp;rsquo;t matter</td>\n",
       "      <td>trying to quit</td>\n",
       "      <td>NaN</td>\n",
       "      <td>i am fun, shy (at first),</td>\n",
       "      <td>going to school, enjoying life in san francisco!</td>\n",
       "      <td>being myself, playing guitar, making people sm...</td>\n",
       "      <td>my eyes, or my beard</td>\n",
       "      <td>music rogue radio the heavy guilt r.i.p. johnn...</td>\n",
       "      <td>1. trees 2. the beach 3. live music 4. cali he...</td>\n",
       "      <td>what the future holds :)</td>\n",
       "      <td>out with friends, seeing music</td>\n",
       "      <td>i have a profile on an online dating site ;)</td>\n",
       "      <td>you want to go check out a new band, go on a h...</td>\n",
       "    </tr>\n",
       "    <tr>\n",
       "      <th>57134</th>\n",
       "      <td>27</td>\n",
       "      <td>single</td>\n",
       "      <td>m</td>\n",
       "      <td>straight m</td>\n",
       "      <td>fit</td>\n",
       "      <td>nan</td>\n",
       "      <td>socially</td>\n",
       "      <td>nan</td>\n",
       "      <td>graduated from college/university</td>\n",
       "      <td>middle eastern, white</td>\n",
       "      <td>74.0</td>\n",
       "      <td>artistic / musical / writer</td>\n",
       "      <td>san francisco, california</td>\n",
       "      <td>nan</td>\n",
       "      <td>NaN</td>\n",
       "      <td>other</td>\n",
       "      <td>libra and it&amp;rsquo;s fun to think about</td>\n",
       "      <td>yes</td>\n",
       "      <td>NaN</td>\n",
       "      <td>NaN</td>\n",
       "      <td>NaN</td>\n",
       "      <td>NaN</td>\n",
       "      <td>NaN</td>\n",
       "      <td>NaN</td>\n",
       "      <td>NaN</td>\n",
       "      <td>NaN</td>\n",
       "      <td>NaN</td>\n",
       "      <td>NaN</td>\n",
       "      <td>NaN</td>\n",
       "    </tr>\n",
       "    <tr>\n",
       "      <th>57536</th>\n",
       "      <td>59</td>\n",
       "      <td>single</td>\n",
       "      <td>f</td>\n",
       "      <td>straight f</td>\n",
       "      <td>nan</td>\n",
       "      <td>nan</td>\n",
       "      <td>nan</td>\n",
       "      <td>nan</td>\n",
       "      <td>nan</td>\n",
       "      <td>white</td>\n",
       "      <td>67.0</td>\n",
       "      <td>nan</td>\n",
       "      <td>redwood city, california</td>\n",
       "      <td>nan</td>\n",
       "      <td>NaN</td>\n",
       "      <td>christianity</td>\n",
       "      <td>nan</td>\n",
       "      <td>no</td>\n",
       "      <td>NaN</td>\n",
       "      <td>NaN</td>\n",
       "      <td>NaN</td>\n",
       "      <td>NaN</td>\n",
       "      <td>NaN</td>\n",
       "      <td>NaN</td>\n",
       "      <td>NaN</td>\n",
       "      <td>NaN</td>\n",
       "      <td>NaN</td>\n",
       "      <td>NaN</td>\n",
       "      <td>NaN</td>\n",
       "    </tr>\n",
       "  </tbody>\n",
       "</table>\n",
       "</div>"
      ],
      "text/plain": [
       "       age     status sex orientation       body_type               diet  \\\n",
       "1664    32     single   m  straight m            thin    mostly anything   \n",
       "1755    45     single   m  straight m        athletic                nan   \n",
       "2217    31     single   m  straight m            thin                nan   \n",
       "2765    29     single   m  bisexual m          skinny           anything   \n",
       "6188    37     single   m  bisexual m        athletic                nan   \n",
       "8217    40     single   m  straight m    full figured    mostly anything   \n",
       "9636    34     single   f  straight f        athletic                nan   \n",
       "11358   30     single   m  straight m             nan    mostly anything   \n",
       "12595   39     single   f  straight f             fit  strictly anything   \n",
       "13591   35     single   f  straight f             fit    mostly anything   \n",
       "14827   31     single   f  straight f        athletic    mostly anything   \n",
       "15539   28     single   m  straight m             fit    mostly anything   \n",
       "15558   42     single   m  straight m  rather not say                nan   \n",
       "16837   31     single   m  straight m         average         vegetarian   \n",
       "17511   38     single   m  straight m        athletic                nan   \n",
       "17737   33     single   m  straight m             fit  mostly vegetarian   \n",
       "19625   30     single   m       gay m             nan  mostly vegetarian   \n",
       "20931   36     single   m  straight m        athletic                nan   \n",
       "21891   30     single   f  straight f             fit  mostly vegetarian   \n",
       "21934   36     single   m  straight m         average                nan   \n",
       "23597   30     single   f  straight f      overweight                nan   \n",
       "23769   48     single   m  straight m         average                nan   \n",
       "23792   37     single   f  straight f        athletic                nan   \n",
       "25063   54     single   m  straight m         average                nan   \n",
       "25402   38     single   f  straight f  rather not say                nan   \n",
       "25659   39     single   m  straight m  rather not say                nan   \n",
       "26831   30     single   f  straight f         average           anything   \n",
       "28123   37     single   m  straight m            thin                nan   \n",
       "28166   28     single   m  straight m             nan                nan   \n",
       "29758   35     single   f  straight f         average                nan   \n",
       "29966   40     single   f  straight f  rather not say                nan   \n",
       "29978   44     single   m  straight m            thin  strictly anything   \n",
       "32533   30     single   m  straight m        athletic    mostly anything   \n",
       "32990   57  available   m       gay m         average                nan   \n",
       "34557   30     single   f  straight f  a little extra           anything   \n",
       "37870   41     single   m       gay m             nan                nan   \n",
       "38494   43     single   f  straight f           curvy                nan   \n",
       "39298   40  available   m       gay m          skinny  mostly vegetarian   \n",
       "40393   47     single   m  straight m        athletic     strictly other   \n",
       "41867   62  available   m       gay m            thin    mostly anything   \n",
       "42523   28     single   m  straight m         average  strictly anything   \n",
       "44651   36     single   m  straight m  a little extra                nan   \n",
       "46600   37     single   m  straight m        athletic                nan   \n",
       "46804   41     single   m  straight m         average           anything   \n",
       "46884   38     single   m  straight m             fit                nan   \n",
       "46928   33     single   m       gay m  a little extra                nan   \n",
       "54545   34     single   f  straight f             nan                nan   \n",
       "54647   30     single   m  straight m          skinny                nan   \n",
       "57134   27     single   m  straight m             fit                nan   \n",
       "57536   59     single   f  straight f             nan                nan   \n",
       "\n",
       "           drinks      drugs                          education  \\\n",
       "1664   very often      never     graduated from masters program   \n",
       "1755     socially      never  graduated from college/university   \n",
       "2217          nan      never  graduated from college/university   \n",
       "2765     socially      never  graduated from college/university   \n",
       "6188   not at all      never  graduated from college/university   \n",
       "8217     socially        nan     graduated from masters program   \n",
       "9636     socially      never     graduated from masters program   \n",
       "11358    socially      never              working on med school   \n",
       "12595    socially        nan  graduated from college/university   \n",
       "13591    socially        nan     graduated from masters program   \n",
       "14827    socially        nan         working on masters program   \n",
       "15539    socially        nan  graduated from college/university   \n",
       "15558         nan        nan                                nan   \n",
       "16837         nan      never  graduated from college/university   \n",
       "17511    socially      never  graduated from college/university   \n",
       "17737       often  sometimes  graduated from college/university   \n",
       "19625    socially      never  graduated from college/university   \n",
       "20931    socially      never     graduated from masters program   \n",
       "21891    socially      never  graduated from college/university   \n",
       "21934    socially        nan     graduated from masters program   \n",
       "23597         nan        nan                                nan   \n",
       "23769    socially      never        graduated from ph.d program   \n",
       "23792    socially        nan     graduated from masters program   \n",
       "25063    socially        nan                                nan   \n",
       "25402         nan        nan                                nan   \n",
       "25659         nan        nan                                nan   \n",
       "26831      rarely      never  graduated from college/university   \n",
       "28123         nan        nan                                nan   \n",
       "28166         nan        nan                                nan   \n",
       "29758    socially      never     graduated from masters program   \n",
       "29966         nan        nan                                nan   \n",
       "29978    socially        nan  graduated from college/university   \n",
       "32533    socially      never  graduated from college/university   \n",
       "32990      rarely      never     graduated from masters program   \n",
       "34557    socially      never     graduated from masters program   \n",
       "37870         nan        nan                                nan   \n",
       "38494    socially        nan                                nan   \n",
       "39298    socially      never  graduated from college/university   \n",
       "40393    socially      never  graduated from college/university   \n",
       "41867      rarely      never        graduated from ph.d program   \n",
       "42523       often      never  graduated from college/university   \n",
       "44651    socially        nan  graduated from college/university   \n",
       "46600    socially        nan  graduated from college/university   \n",
       "46804    socially        nan  graduated from college/university   \n",
       "46884    socially      never                                nan   \n",
       "46928       often        nan     graduated from masters program   \n",
       "54545         nan        nan                                nan   \n",
       "54647    socially  sometimes        working on two-year college   \n",
       "57134    socially        nan  graduated from college/university   \n",
       "57536         nan        nan                                nan   \n",
       "\n",
       "                            ethnicity  height  \\\n",
       "1664   asian, hispanic / latin, white    65.0   \n",
       "1755                            white    72.0   \n",
       "2217                            white    72.0   \n",
       "2765                            white    69.0   \n",
       "6188                            white    62.0   \n",
       "8217                            white    69.0   \n",
       "9636                            other    66.0   \n",
       "11358                           white    67.0   \n",
       "12595                           white    68.0   \n",
       "13591                           other    64.0   \n",
       "14827                           white    63.0   \n",
       "15539           middle eastern, white    71.0   \n",
       "15558                           white    73.0   \n",
       "16837                   indian, white    68.0   \n",
       "17511                pacific islander    69.0   \n",
       "17737                           white    69.0   \n",
       "19625                           white    70.0   \n",
       "20931                           white    74.0   \n",
       "21891         hispanic / latin, white    66.0   \n",
       "21934                           white    68.0   \n",
       "23597                           white    66.0   \n",
       "23769                           white    72.0   \n",
       "23792                           white    68.0   \n",
       "25063                           white    74.0   \n",
       "25402                           white    67.0   \n",
       "25659                           black    72.0   \n",
       "26831         asian, pacific islander    65.0   \n",
       "28123                          indian    67.0   \n",
       "28166                           white    69.0   \n",
       "29758                           black    68.0   \n",
       "29966                           asian    59.0   \n",
       "29978                           white    74.0   \n",
       "32533                           white    72.0   \n",
       "32990                           white    67.0   \n",
       "34557                           white    68.0   \n",
       "37870                           white    69.0   \n",
       "38494                           white    67.0   \n",
       "39298                           white    68.0   \n",
       "40393                           white    72.0   \n",
       "41867                    white, other    73.0   \n",
       "42523                           white    73.0   \n",
       "44651                hispanic / latin    67.0   \n",
       "46600                pacific islander    69.0   \n",
       "46804                           white    69.0   \n",
       "46884                           other    75.0   \n",
       "46928                             NaN    75.0   \n",
       "54545                           white    67.0   \n",
       "54647                           white    70.0   \n",
       "57134           middle eastern, white    74.0   \n",
       "57536                           white    67.0   \n",
       "\n",
       "                                     job                   location  \\\n",
       "1664              executive / management  san francisco, california   \n",
       "1755                   medicine / health  san francisco, california   \n",
       "2217        science / tech / engineering  san francisco, california   \n",
       "2765                                 nan  san francisco, california   \n",
       "6188      computer / hardware / software  san francisco, california   \n",
       "8217         sales / marketing / biz dev  san francisco, california   \n",
       "9636                   medicine / health      palo alto, california   \n",
       "11358                            student  san francisco, california   \n",
       "12595               education / academia        oakland, california   \n",
       "13591             executive / management  san francisco, california   \n",
       "14827                                nan      palo alto, california   \n",
       "15539             political / government  san francisco, california   \n",
       "15558                                nan  san francisco, california   \n",
       "16837             executive / management  san francisco, california   \n",
       "17511                                nan      san mateo, california   \n",
       "17737  banking / financial / real estate  san francisco, california   \n",
       "19625               hospitality / travel  san francisco, california   \n",
       "20931        sales / marketing / biz dev  san francisco, california   \n",
       "21891        sales / marketing / biz dev  san francisco, california   \n",
       "21934       science / tech / engineering  san francisco, california   \n",
       "23597                                nan      lagunitas, california   \n",
       "23769                              other     el cerrito, california   \n",
       "23792             executive / management  san francisco, california   \n",
       "25063             executive / management       pacifica, california   \n",
       "25402                                nan  san francisco, california   \n",
       "25659                                nan  san francisco, california   \n",
       "26831  banking / financial / real estate     san carlos, california   \n",
       "28123                                nan  san francisco, california   \n",
       "28166                                nan  san francisco, california   \n",
       "29758               education / academia       berkeley, california   \n",
       "29966                                nan  san francisco, california   \n",
       "29978     computer / hardware / software  san francisco, california   \n",
       "32533        sales / marketing / biz dev  san francisco, california   \n",
       "32990                  medicine / health  san francisco, california   \n",
       "34557                  medicine / health     menlo park, california   \n",
       "37870                                nan       pacifica, california   \n",
       "38494                                nan  san francisco, california   \n",
       "39298       science / tech / engineering  san francisco, california   \n",
       "40393        sales / marketing / biz dev    mill valley, california   \n",
       "41867                              other     green brae, california   \n",
       "42523       science / tech / engineering  san francisco, california   \n",
       "44651        sales / marketing / biz dev  san francisco, california   \n",
       "46600                  medicine / health         orinda, california   \n",
       "46804        artistic / musical / writer  san francisco, california   \n",
       "46884                                nan  san francisco, california   \n",
       "46928                                nan  san francisco, california   \n",
       "54545                                nan  san francisco, california   \n",
       "54647                            student  san francisco, california   \n",
       "57134        artistic / musical / writer  san francisco, california   \n",
       "57536                                nan   redwood city, california   \n",
       "\n",
       "                                    offspring                       pets  \\\n",
       "1664                        doesn't have kids                 likes dogs   \n",
       "1755                                has a kid    has dogs and likes cats   \n",
       "2217   doesn't have kids, but might want them                        NaN   \n",
       "2765                                      nan                        NaN   \n",
       "6188                                      nan                 likes cats   \n",
       "8217                                      nan                        NaN   \n",
       "9636                                      nan                        NaN   \n",
       "11358                                     nan  likes dogs and likes cats   \n",
       "12595                                     nan    likes dogs and has cats   \n",
       "13591       doesn't have kids, but wants them                   has cats   \n",
       "14827                                     nan                 likes dogs   \n",
       "15539                       doesn't have kids                   has dogs   \n",
       "15558                                     nan                        NaN   \n",
       "16837                                     nan                        NaN   \n",
       "17511                                     nan                        NaN   \n",
       "17737                                     nan  likes dogs and likes cats   \n",
       "19625  doesn't have kids, but might want them                   has cats   \n",
       "20931                                     nan  likes dogs and likes cats   \n",
       "21891                                     nan  likes dogs and likes cats   \n",
       "21934  doesn't have kids, but might want them                        NaN   \n",
       "23597                                     nan                        NaN   \n",
       "23769                                     nan                        NaN   \n",
       "23792  doesn't have kids, but might want them                        NaN   \n",
       "25063                               has a kid  likes dogs and likes cats   \n",
       "25402                                     nan                        NaN   \n",
       "25659                                     nan                        NaN   \n",
       "26831       doesn't have kids, but wants them    has dogs and likes cats   \n",
       "28123                                     nan                        NaN   \n",
       "28166                                     nan                        NaN   \n",
       "29758                                     nan                        NaN   \n",
       "29966                                     nan                        NaN   \n",
       "29978                                     nan                   has cats   \n",
       "32533                       doesn't have kids                        NaN   \n",
       "32990                                     nan                        NaN   \n",
       "34557                                     nan                        NaN   \n",
       "37870                                     nan                        NaN   \n",
       "38494                                     nan                 likes dogs   \n",
       "39298                                     nan                        NaN   \n",
       "40393                               has a kid                        NaN   \n",
       "41867                                     nan  likes dogs and likes cats   \n",
       "42523                                     nan  likes dogs and likes cats   \n",
       "44651  doesn't have kids, but might want them                        NaN   \n",
       "46600                                     nan                        NaN   \n",
       "46804                                     nan    likes dogs and has cats   \n",
       "46884                                     nan                        NaN   \n",
       "46928  doesn't have kids, but might want them                 likes dogs   \n",
       "54545                                     nan                        NaN   \n",
       "54647                                     nan  likes dogs and likes cats   \n",
       "57134                                     nan                        NaN   \n",
       "57536                                     nan                        NaN   \n",
       "\n",
       "                                        religion  \\\n",
       "1664                                 catholicism   \n",
       "1755                                 agnosticism   \n",
       "2217                                       other   \n",
       "2765                                     atheism   \n",
       "6188                 other and laughing about it   \n",
       "8217   agnosticism and somewhat serious about it   \n",
       "9636                                       other   \n",
       "11358                                agnosticism   \n",
       "12595                                        nan   \n",
       "13591                                        nan   \n",
       "14827                                      other   \n",
       "15539   agnosticism but not too serious about it   \n",
       "15558                                      other   \n",
       "16837                                   hinduism   \n",
       "17511                                      other   \n",
       "17737                                        nan   \n",
       "19625                                      other   \n",
       "20931  christianity but not too serious about it   \n",
       "21891                                        nan   \n",
       "21934                                agnosticism   \n",
       "23597                                        nan   \n",
       "23769                                      other   \n",
       "23792                                agnosticism   \n",
       "25063          agnosticism and laughing about it   \n",
       "25402                                agnosticism   \n",
       "25659                                agnosticism   \n",
       "26831   catholicism but not too serious about it   \n",
       "28123                                catholicism   \n",
       "28166                                    judaism   \n",
       "29758                               christianity   \n",
       "29966                                agnosticism   \n",
       "29978                                        nan   \n",
       "32533                                catholicism   \n",
       "32990                                    atheism   \n",
       "34557                                      other   \n",
       "37870                                agnosticism   \n",
       "38494              judaism and laughing about it   \n",
       "39298                                        nan   \n",
       "40393         other but not too serious about it   \n",
       "41867      catholicism and very serious about it   \n",
       "42523                               christianity   \n",
       "44651                                      other   \n",
       "46600                               christianity   \n",
       "46804   agnosticism but not too serious about it   \n",
       "46884                                        nan   \n",
       "46928                                        nan   \n",
       "54545                                        nan   \n",
       "54647                                      other   \n",
       "57134                                      other   \n",
       "57536                               christianity   \n",
       "\n",
       "                                                sign          smokes speaks  \\\n",
       "1664                                             nan              no    NaN   \n",
       "1755             scorpio but it doesn&rsquo;t matter              no    NaN   \n",
       "2217                                           libra              no    NaN   \n",
       "2765                                             nan              no    NaN   \n",
       "6188                                             nan              no    NaN   \n",
       "8217               aries but it doesn&rsquo;t matter              no    NaN   \n",
       "9636                                     sagittarius              no    NaN   \n",
       "11358                                        scorpio              no    NaN   \n",
       "12595             cancer but it doesn&rsquo;t matter             nan    NaN   \n",
       "13591       taurus and it&rsquo;s fun to think about              no    NaN   \n",
       "14827                                         pisces              no    NaN   \n",
       "15539  sagittarius and it&rsquo;s fun to think about              no    NaN   \n",
       "15558                                            nan              no    NaN   \n",
       "16837                                            nan             nan    NaN   \n",
       "17511                                         pisces              no    NaN   \n",
       "17737             pisces but it doesn&rsquo;t matter              no    NaN   \n",
       "19625          leo and it&rsquo;s fun to think about  trying to quit    NaN   \n",
       "20931                                          libra              no    NaN   \n",
       "21891       taurus and it&rsquo;s fun to think about              no    NaN   \n",
       "21934                                          virgo              no    NaN   \n",
       "23597                                            nan             yes    NaN   \n",
       "23769                                            nan              no    NaN   \n",
       "23792                                            nan              no    NaN   \n",
       "25063      scorpio and it&rsquo;s fun to think about  trying to quit    NaN   \n",
       "25402                                            nan              no    NaN   \n",
       "25659                                            nan       sometimes    NaN   \n",
       "26831                                            nan              no    NaN   \n",
       "28123                                            nan              no    NaN   \n",
       "28166                                            nan              no    NaN   \n",
       "29758                                         pisces              no    NaN   \n",
       "29966                                            nan              no    NaN   \n",
       "29978                                            leo             nan    NaN   \n",
       "32533                                            nan              no    NaN   \n",
       "32990                                       aquarius              no    NaN   \n",
       "34557  sagittarius and it&rsquo;s fun to think about              no    NaN   \n",
       "37870                                            nan              no    NaN   \n",
       "38494    capricorn and it&rsquo;s fun to think about              no    NaN   \n",
       "39298        virgo and it&rsquo;s fun to think about              no    NaN   \n",
       "40393      scorpio and it&rsquo;s fun to think about              no    NaN   \n",
       "41867                    taurus and it matters a lot             yes    NaN   \n",
       "42523           aquarius but it doesn&rsquo;t matter              no    NaN   \n",
       "44651          leo and it&rsquo;s fun to think about       sometimes    NaN   \n",
       "46600                                            nan              no    NaN   \n",
       "46804                                    sagittarius              no    NaN   \n",
       "46884                                            nan              no    NaN   \n",
       "46928       gemini and it&rsquo;s fun to think about              no    NaN   \n",
       "54545                                            nan              no    NaN   \n",
       "54647                leo but it doesn&rsquo;t matter  trying to quit    NaN   \n",
       "57134        libra and it&rsquo;s fun to think about             yes    NaN   \n",
       "57536                                            nan              no    NaN   \n",
       "\n",
       "                                                  essay0  \\\n",
       "1664   this is going to be the shortest profile page ...   \n",
       "1755   a work in progress. i work in the biopharmaceu...   \n",
       "2217   i'm looking for the right chemistry. i have a ...   \n",
       "2765   i'm interested in meeting new people and i lik...   \n",
       "6188   cuddly, quirky, queer. vector of enthusiasm. a...   \n",
       "8217   smart, sincere, self-deprecating single guy se...   \n",
       "9636   i've travelled a lot and generally am attracte...   \n",
       "11358  i'm not a mormon missionary, and i don't wear ...   \n",
       "12595  i have been living in oakland since 1998. i fe...   \n",
       "13591  hmmm..i think i'll take a different approach t...   \n",
       "14827  the short version: midwestern girl begrudgingl...   \n",
       "15539  i am bit of a backwater rube living in the big...   \n",
       "15558                                                NaN   \n",
       "16837  i am originally from la. i have also lived in ...   \n",
       "17511  colorado native - been in the bay area since 2...   \n",
       "17737  i spend a lot of my time working in a soul-cru...   \n",
       "19625  born in ukraine. live in sf! got a brain, clas...   \n",
       "20931  i am a bay area native and have spent most of ...   \n",
       "21891  i am a free spirit and am always up for an adv...   \n",
       "21934  though i'm certainly not without my surprises ...   \n",
       "23597                                                NaN   \n",
       "23769  ok, - take 2. (why am i finding this so hard t...   \n",
       "23792  i've lived in a handful of very different plac...   \n",
       "25063  sincere, honest, dependable, loyal, open, cons...   \n",
       "25402                                                NaN   \n",
       "25659                                                NaN   \n",
       "26831  \"the best way to predict the future is to crea...   \n",
       "28123                                                NaN   \n",
       "28166                                                NaN   \n",
       "29758                                                NaN   \n",
       "29966  single gal enjoying life in the city looking f...   \n",
       "29978  hi there, i'm dan. i've lived here in beautifu...   \n",
       "32533  looking for someone to run a 5k with on a sund...   \n",
       "32990  always on the lookout for new friends, social ...   \n",
       "34557                                                NaN   \n",
       "37870  now that i have hit and passed 40, i am seeing...   \n",
       "38494  an east coast transplant growing roots in west...   \n",
       "39298  brainy/intellectual but in an analytic-enginee...   \n",
       "40393  i like to have fun. i like to laugh. i love be...   \n",
       "41867  i was born and bred in a small town in england...   \n",
       "42523  i'm far too interesting to describe in just a ...   \n",
       "44651  this is never easy... what can i tell you abou...   \n",
       "46600  i'll keep this short and sweet. my life is ama...   \n",
       "46804  hi, here's a little about me: i like to be pla...   \n",
       "46884  i've been leaving in san francisco for the pas...   \n",
       "46928  i grew up on the beach and love being on the c...   \n",
       "54545                                                NaN   \n",
       "54647                          i am fun, shy (at first),   \n",
       "57134                                                NaN   \n",
       "57536                                                NaN   \n",
       "\n",
       "                                                  essay1  \\\n",
       "1664                                                 NaN   \n",
       "1755   i want to be a national geographic photojourna...   \n",
       "2217   i'm just trying to figure it out! i have a goo...   \n",
       "2765              seeking wisdom. also, enjoying myself.   \n",
       "6188   experiencing reality, an instant at a time. i'...   \n",
       "8217   i manage marketing/communications at a renewab...   \n",
       "9636   looking for the bigger picture and how to cont...   \n",
       "11358  i'm a medical student, but i try not to be as ...   \n",
       "12595  trying to enjoy it and continually trying to b...   \n",
       "13591  i run a natural products company, originally a...   \n",
       "14827  i'm currently wrapping up a master's in educat...   \n",
       "15539  i have a 9 to 5 doing content management for t...   \n",
       "15558                                                NaN   \n",
       "16837  i work with start-up companies, and i run an e...   \n",
       "17511  currently working for a start up and write for...   \n",
       "17737                                                NaN   \n",
       "19625  i do events and banquets at the clift hotel an...   \n",
       "20931                       working at a startup in soma   \n",
       "21891                 living it up and loving what i do.   \n",
       "21934                                                NaN   \n",
       "23597                                                NaN   \n",
       "23769  i'm trying to use the gifts that i've been giv...   \n",
       "23792  on the work front - i work at a large technolo...   \n",
       "25063  scheming, planning, playing, loving. everyday ...   \n",
       "25402                                                NaN   \n",
       "25659                                                NaN   \n",
       "26831                                                NaN   \n",
       "28123                                                NaN   \n",
       "28166                                                NaN   \n",
       "29758                                                NaN   \n",
       "29966                                                NaN   \n",
       "29978  my real passion these days is doing improv com...   \n",
       "32533  tech sales and pursuing an mba. trying to stay...   \n",
       "32990  i work in cancer research at ucsf, am a music ...   \n",
       "34557                                                NaN   \n",
       "37870  working, mostly. lots of voulteering in arma (...   \n",
       "38494  i love to have adventures, get out and see and...   \n",
       "39298  working of course (making the world a better p...   \n",
       "40393  living life, trying to smile large and laugh t...   \n",
       "41867                                                NaN   \n",
       "42523  i'm a midwestern native who has come to silico...   \n",
       "44651                                                NaN   \n",
       "46600              to live with compassion and kindness.   \n",
       "46804  i'm a web designer who is trying to learn as m...   \n",
       "46884                                                NaN   \n",
       "46928  just moved back to san francisco after living ...   \n",
       "54545                                                NaN   \n",
       "54647   going to school, enjoying life in san francisco!   \n",
       "57134                                                NaN   \n",
       "57536                                                NaN   \n",
       "\n",
       "                                                  essay2  \\\n",
       "1664   eating. especially in sf. although i don't tak...   \n",
       "1755                                    solving puzzles.   \n",
       "2217   i'm not really great at anything, lol. but i a...   \n",
       "2765   locating and consuming nearby foodstuffs. reci...   \n",
       "6188   reading. napping. cuddling. geeking out. enthu...   \n",
       "8217   writing (don't let this profile fool you) cook...   \n",
       "9636   smiling and making people feel comfortable in ...   \n",
       "11358  lots of things. mostly keeping it interesting....   \n",
       "12595         naming things; making any word sound sexy.   \n",
       "13591                                      self fellatio   \n",
       "14827                        homemade cookie deliveries.   \n",
       "15539  fixing stuff, i left my tools back east but i ...   \n",
       "15558                                                NaN   \n",
       "16837                                                NaN   \n",
       "17511  being responsible my job keeping promises tryi...   \n",
       "17737  you may have gathered from my summary that i'm...   \n",
       "19625  at telling a story. i'm a pretty good dancer. ...   \n",
       "20931  buying random crap online, not liking it and n...   \n",
       "21891  laughing, listening, smiling, drinking red win...   \n",
       "21934  i love working on something creative, sonic or...   \n",
       "23597                                                NaN   \n",
       "23769  readin', `ritin', `rithmatic, figuring things ...   \n",
       "23792  -being a shoulder to lean on for friends -bein...   \n",
       "25063  finding solutions and fixing things devotion t...   \n",
       "25402                                                NaN   \n",
       "25659                                                NaN   \n",
       "26831                                                NaN   \n",
       "28123                                                NaN   \n",
       "28166                                                NaN   \n",
       "29758                                                NaN   \n",
       "29966  really great at seeking new place to see, food...   \n",
       "29978  ... patience. i have the spirit of ganesh in m...   \n",
       "32533  sitting at a nice bar and having a good dinner...   \n",
       "32990  i try to be good at anything i put my mind to....   \n",
       "34557                                                NaN   \n",
       "37870                                                NaN   \n",
       "38494  making my friends laugh. teasing, poking, nudg...   \n",
       "39298  climbing rocks, climbing mountains, exploring ...   \n",
       "40393  cooking on a grill, gas burner range or camp f...   \n",
       "41867  listening, conversation, organization, trying ...   \n",
       "42523  making people laugh. getting along with others...   \n",
       "44651                                                NaN   \n",
       "46600  listening working hard being silly and sarcasm...   \n",
       "46804  - making music - i can connect any idea to ano...   \n",
       "46884                                                NaN   \n",
       "46928                         connecting people adapting   \n",
       "54545                                                NaN   \n",
       "54647  being myself, playing guitar, making people sm...   \n",
       "57134                                                NaN   \n",
       "57536                                                NaN   \n",
       "\n",
       "                                                  essay3  \\\n",
       "1664                                                 NaN   \n",
       "1755                                    my dapper style.   \n",
       "2217            my kindness, for sure. but also my eyes.   \n",
       "2765                                   my glass eye? no.   \n",
       "6188   my strong shoulders. i'm only 5'2\" but my shou...   \n",
       "8217                               gosh, i have no idea.   \n",
       "9636   my smile. it makes me laugh when i hear people...   \n",
       "11358                                                NaN   \n",
       "12595                  that i'm really fun to be around.   \n",
       "13591  hmmm..i would guess my dark eyes would be firs...   \n",
       "14827  probably my smile. or my facial expressions in...   \n",
       "15539  my facial hair, i've had a beard for close to ...   \n",
       "15558                                                NaN   \n",
       "16837                                                NaN   \n",
       "17511                                                NaN   \n",
       "17737                                                NaN   \n",
       "19625  that im eastern european. also my shoes and my...   \n",
       "20931                                                NaN   \n",
       "21891                            my hair. is that weird?   \n",
       "21934                                                NaN   \n",
       "23597                                                NaN   \n",
       "23769                     my eyes are a very light blue.   \n",
       "23792  is my hair. you can't expect to blend in with ...   \n",
       "25063  it depends on the situation but... my sense of...   \n",
       "25402                                                NaN   \n",
       "25659                                                NaN   \n",
       "26831                                                NaN   \n",
       "28123                                                NaN   \n",
       "28166                                                NaN   \n",
       "29758                                                NaN   \n",
       "29966   that i am short, since they just tripped over me   \n",
       "29978  either my irreverent humor or my direct honest...   \n",
       "32533                                     i think smile.   \n",
       "32990                                  my eyes and smile   \n",
       "34557                                                NaN   \n",
       "37870                                                NaN   \n",
       "38494     my presence, my directness, my sense of humor.   \n",
       "39298              smarts, boyish body, good teeth ? :-)   \n",
       "40393                   my smile and guy next door look.   \n",
       "41867  a real anglo-saxon, slim, defined with blond h...   \n",
       "42523                                                NaN   \n",
       "44651  i'm always singing or humming a tune whether i...   \n",
       "46600                                          my smile.   \n",
       "46804  i don't know, you tell me. okay, maybe that i ...   \n",
       "46884                                                NaN   \n",
       "46928  i'm tall, white, shaggy curly blond hair, blue...   \n",
       "54545                                                NaN   \n",
       "54647                               my eyes, or my beard   \n",
       "57134                                                NaN   \n",
       "57536                                                NaN   \n",
       "\n",
       "                                                  essay4  \\\n",
       "1664                                                 NaN   \n",
       "1755   jon krakauer, eric schlosser novels. memento, ...   \n",
       "2217   i like to mix up my music tastes. this week i'...   \n",
       "2765   books: a fire upon the deep, dune, confessions...   \n",
       "6188   books: infinite jest. the count of monte crist...   \n",
       "8217   books: -the odyssey, the republic, the symposi...   \n",
       "9636   movie: meet joe black, the gods must be crazy ...   \n",
       "11358  i was recently out of the country for a couple...   \n",
       "12595  books: pablo neruda poetry; 9 stories, by jd s...   \n",
       "13591  music~phoenix, fleet foxes, flaming lips, beck...   \n",
       "14827  best concert i've been to so far this year: th...   \n",
       "15539  i love fresh food. not picky on how it is prep...   \n",
       "15558                                                NaN   \n",
       "16837                                                NaN   \n",
       "17511                                                NaN   \n",
       "17737  books: anything by e. l. doctorow (esp. the bo...   \n",
       "19625  books: i will go with authors rather than spec...   \n",
       "20931  recently been into young hines, dengue fever, ...   \n",
       "21891  currently reading cutting for stone and am a p...   \n",
       "21934  i just read 1q84 by haruki murakami. it was an...   \n",
       "23597                                                NaN   \n",
       "23769  books: too many to name. history, fiction, mys...   \n",
       "23792  music: i love music. current favorites are a r...   \n",
       "25063  books - i don't read as much as i used to but ...   \n",
       "25402                                                NaN   \n",
       "25659                                                NaN   \n",
       "26831  maroon 5, jason mraz, colbie caillat, bruno ma...   \n",
       "28123                                                NaN   \n",
       "28166                                                NaN   \n",
       "29758                                                NaN   \n",
       "29966                                                NaN   \n",
       "29978  books-wise, i like a fine read that's 50% hard...   \n",
       "32533  favorite book is alexander and the terrible, h...   \n",
       "32990  books ----- not really a reader.  movies -----...   \n",
       "34557                                                NaN   \n",
       "37870  books would be too many to list, just finished...   \n",
       "38494  here's a short list of random things i love, o...   \n",
       "39298  books: catcher in the rye, alice in wonderland...   \n",
       "40393  for music, i love a lot of different genres. j...   \n",
       "41867  books ----- i enjoy reading historical novels,...   \n",
       "42523                                                NaN   \n",
       "44651                                                NaN   \n",
       "46600  some of my favorite hot spots: yosemite, point...   \n",
       "46804  books: this is your brain on music (does an au...   \n",
       "46884                                                NaN   \n",
       "46928  books ----- technopoly, let my people go surfi...   \n",
       "54545                                                NaN   \n",
       "54647  music rogue radio the heavy guilt r.i.p. johnn...   \n",
       "57134                                                NaN   \n",
       "57536                                                NaN   \n",
       "\n",
       "                                                  essay5  \\\n",
       "1664   passport. iphone. family visits. visiting bodi...   \n",
       "1755   don't really need things, but 6 things i'd wan...   \n",
       "2217                                                 NaN   \n",
       "2765   breakfast, second breakfast, elevensies, lunch...   \n",
       "6188   iphone a gym coffee with cream (does that coun...   \n",
       "8217   my family my friends my iphone  can't really t...   \n",
       "9636   *lots of love *a few close friends *the abilit...   \n",
       "11358                                                NaN   \n",
       "12595                                                NaN   \n",
       "13591  family/friends sunshine a quiet mountain or be...   \n",
       "14827  ...family, friends, good coffee. there, i narr...   \n",
       "15539  1. my puppy 2. soap 3. socks for the dog to ea...   \n",
       "15558                                                NaN   \n",
       "16837                                                NaN   \n",
       "17511  my phone my health my family and friends my go...   \n",
       "17737                                                NaN   \n",
       "19625  my cat, parfume, music, laughter, baby wipes l...   \n",
       "20931                                          the usual   \n",
       "21891  bean burritos, music, good conversation, lip g...   \n",
       "21934                                                NaN   \n",
       "23597                                                NaN   \n",
       "23769  my hip-pocket pad, my reading glasses, my ipod...   \n",
       "23792  -sun, and sunblock (naturally) -time with frie...   \n",
       "25063  loyal friends, community, honesty, new challen...   \n",
       "25402                                                NaN   \n",
       "25659                                                NaN   \n",
       "26831  1)relationships w/people i care about 2)my iph...   \n",
       "28123                                                NaN   \n",
       "28166                                                NaN   \n",
       "29758  coffee, music, tennis, chocolate, my passport,...   \n",
       "29966                                                NaN   \n",
       "29978                                                NaN   \n",
       "32533                                    hmmm, not sure.   \n",
       "32990          food, sports, movies, music, friends, sex   \n",
       "34557  my family. music. airplanes. caffeine. spell c...   \n",
       "37870                                                NaN   \n",
       "38494  love, wonderful friends, belly laughs, great b...   \n",
       "39298  water (swimming or lounging), the sun on my fa...   \n",
       "40393  car, cash, comfortable clothes/shoes, cell pho...   \n",
       "41867                              my faith and friends.   \n",
       "42523                                                NaN   \n",
       "44651                                                NaN   \n",
       "46600  faith family and friends nature health laughte...   \n",
       "46804  - family - friends - music (lots of spotify, l...   \n",
       "46884                                                NaN   \n",
       "46928               music tent camera pen bagels friends   \n",
       "54545                                                NaN   \n",
       "54647  1. trees 2. the beach 3. live music 4. cali he...   \n",
       "57134                                                NaN   \n",
       "57536                                                NaN   \n",
       "\n",
       "                                                  essay6  \\\n",
       "1664                                                 NaN   \n",
       "1755   how the u.s. can turn our economy into a 'gree...   \n",
       "2217   the ozone layer. jj, although i probably shoul...   \n",
       "2765                                                 NaN   \n",
       "6188   what's actually happening. i'm learning to be ...   \n",
       "8217   politics (still drinking the obama kool aid) s...   \n",
       "9636   human behavior and how things fit together in ...   \n",
       "11358  tacos yoga bicycles soft pillows high thread c...   \n",
       "12595  sex and death. that sounds weird, but it's not...   \n",
       "13591  what i'm gonna cook for dinner, the future, ho...   \n",
       "14827                             (re)designing schools.   \n",
       "15539                                is it friday, yet ?   \n",
       "15558                                                NaN   \n",
       "16837                                                NaN   \n",
       "17511                                                NaN   \n",
       "17737  contranyms.  also, does anyone know if there i...   \n",
       "19625  love. human history. human beliefs. faithfulln...   \n",
       "20931                                                NaN   \n",
       "21891  how to change for the better, how to spend mor...   \n",
       "21934  how the oakland a's are going to break my hear...   \n",
       "23597                                                NaN   \n",
       "23769  culture and society, how things work, how to t...   \n",
       "23792  the not-so-serious stuff...like how my life ca...   \n",
       "25063           how to stop thinking about everything :)   \n",
       "25402                                                NaN   \n",
       "25659                                                NaN   \n",
       "26831                                                NaN   \n",
       "28123                                                NaN   \n",
       "28166                                                NaN   \n",
       "29758                                                NaN   \n",
       "29966                                                NaN   \n",
       "29978  ... people, friends, relationships - where i a...   \n",
       "32533  definitely think a lot about what i want to do...   \n",
       "32990  in a world where carpenters can get resurrecte...   \n",
       "34557                                                NaN   \n",
       "37870  how to make my life more fulfilling and what g...   \n",
       "38494  muscle cars and hot young studs wearing ripped...   \n",
       "39298  usability, design, architecture, urbanism, eff...   \n",
       "40393                                                NaN   \n",
       "41867  philosophical questions. where should i travel...   \n",
       "42523                                                NaN   \n",
       "44651                                                NaN   \n",
       "46600                              life and inner peace.   \n",
       "46804  - why i own so many musical instruments - my b...   \n",
       "46884                                                NaN   \n",
       "46928                                          traveling   \n",
       "54545                                                NaN   \n",
       "54647                           what the future holds :)   \n",
       "57134                                                NaN   \n",
       "57536                                                NaN   \n",
       "\n",
       "                                                  essay7  \\\n",
       "1664                                                 NaN   \n",
       "1755   bouldering at berkeley ironworks, or running, ...   \n",
       "2217   i'm usually too burned out from the week to do...   \n",
       "2765   out seeing a movie, maybe having dinner with a...   \n",
       "6188   working out at crossfit, then cooking dinner, ...   \n",
       "8217   sometimes at a friend's for dinner, but usuall...   \n",
       "9636                  dinner with friends and/or family.   \n",
       "11358                                                NaN   \n",
       "12595   drinking wine in the backyard, or salsa dancing.   \n",
       "13591  shuffle; long walk, cocktails, friends, art sh...   \n",
       "14827  ... happy doing a lot of things. i might be co...   \n",
       "15539  alamo square, drinking a beer as my dog runs a...   \n",
       "15558                                                NaN   \n",
       "16837                                                NaN   \n",
       "17511  relaxing, catching a game with friends or goin...   \n",
       "17737                                                NaN   \n",
       "19625  cooking, going to the opera, going on a date, ...   \n",
       "20931                                        usually out   \n",
       "21891  either out with friends having dinner and vino...   \n",
       "21934  lately it's been more about coffee shops, my s...   \n",
       "23597                                                NaN   \n",
       "23769  either unwinding from the week with a good boo...   \n",
       "23792  doing anything that sounds intriguing - live m...   \n",
       "25063  there is very little 'typical' about friday or...   \n",
       "25402                                                NaN   \n",
       "25659                                                NaN   \n",
       "26831                                       not at a bar   \n",
       "28123                                                NaN   \n",
       "28166                                                NaN   \n",
       "29758                               out with my friends.   \n",
       "29966            doing laundry and watching supernatural   \n",
       "29978                                                NaN   \n",
       "32533  with my 2 brothers having dinner and watching ...   \n",
       "32990                                                NaN   \n",
       "34557                                                NaN   \n",
       "37870                              at home with a friend   \n",
       "38494  plotting my block-by-block domination of the c...   \n",
       "39298                                                NaN   \n",
       "40393  just depends on what is going on. could be out...   \n",
       "41867  usually at home either watching tv or working ...   \n",
       "42523                                                NaN   \n",
       "44651  friday night is amateur night, true rockstars ...   \n",
       "46600  indoor rockclimbing, dinner with friends or ch...   \n",
       "46804  either being mellow at home or going out to wi...   \n",
       "46884                                                NaN   \n",
       "46928                                                NaN   \n",
       "54545                                                NaN   \n",
       "54647                     out with friends, seeing music   \n",
       "57134                                                NaN   \n",
       "57536                                                NaN   \n",
       "\n",
       "                                                  essay8  \\\n",
       "1664                                                 NaN   \n",
       "1755   i'm slightly obsessive about working out/fitne...   \n",
       "2217                             i cook with a crockpot.   \n",
       "2765                                                 NaN   \n",
       "6188                                            i'm f2m.   \n",
       "8217   if you are looking for someone experienced in ...   \n",
       "9636   i am very smell sensitive. love the smell of c...   \n",
       "11358                                                NaN   \n",
       "12595                                                NaN   \n",
       "13591  that i eat a chocolate donut before getting on...   \n",
       "14827  i can quote a decent amount of lines from \"dum...   \n",
       "15539  i have bad hand writing and i might talk to my...   \n",
       "15558                                                NaN   \n",
       "16837                                                NaN   \n",
       "17511                                                NaN   \n",
       "17737                                                NaN   \n",
       "19625  i'm a little self conscious and a tid bit inse...   \n",
       "20931                                                NaN   \n",
       "21891  nada...but i'm an open book. if you want to kn...   \n",
       "21934                                                NaN   \n",
       "23597                                                NaN   \n",
       "23769  hmmm. i guess that i'm not willing to publicly...   \n",
       "23792  is that, when we're out at a restaurant togeth...   \n",
       "25063  on occasion i have worn womens underwear... in...   \n",
       "25402                                                NaN   \n",
       "25659                                                NaN   \n",
       "26831                                                NaN   \n",
       "28123                                                NaN   \n",
       "28166                                                NaN   \n",
       "29758                                                NaN   \n",
       "29966  i love reading juvenile fantasy/adventure seri...   \n",
       "29978                                                NaN   \n",
       "32533                                                NaN   \n",
       "32990                                                NaN   \n",
       "34557                                                NaN   \n",
       "37870                                                NaN   \n",
       "38494               well, there was that one time....nah   \n",
       "39298                                                NaN   \n",
       "40393                                                NaN   \n",
       "41867  the most private thing i'm will to admit is th...   \n",
       "42523                                                NaN   \n",
       "44651                                                NaN   \n",
       "46600           i used to be a aqua aerobics instructor.   \n",
       "46804  i can do a pretty good michael mcdonald impers...   \n",
       "46884                                                NaN   \n",
       "46928                                                NaN   \n",
       "54545                                                NaN   \n",
       "54647       i have a profile on an online dating site ;)   \n",
       "57134                                                NaN   \n",
       "57536                                                NaN   \n",
       "\n",
       "                                                  essay9  \n",
       "1664                                                 NaN  \n",
       "1755                                                 NaN  \n",
       "2217   you want to meet for coffee or something low k...  \n",
       "2765                                                 NaN  \n",
       "6188   you're curious about a gay f2m boy who is in l...  \n",
       "8217   -you want to converse intelligently with someo...  \n",
       "9636   the profile is appealing and if you have subst...  \n",
       "11358                                                NaN  \n",
       "12595                                       you feel it.  \n",
       "13591  you are funny, perceptive, romantic, intellige...  \n",
       "14827  ...you're not going to simply copy and paste t...  \n",
       "15539  you read my profile and seem interested... rea...  \n",
       "15558                                                NaN  \n",
       "16837  you... -are someone who is open to all experie...  \n",
       "17511  you're open minded and available (not carrying...  \n",
       "17737                                                NaN  \n",
       "19625  you find me interesting and attractive, if you...  \n",
       "20931                                        you want to  \n",
       "21891  you are fun, you are open minded and you are l...  \n",
       "21934  i'm looking for someone who enjoys great conve...  \n",
       "23597                                                NaN  \n",
       "23769  you can find any reason to, including just cha...  \n",
       "23792  -you're a smart, optimistic guy who believes t...  \n",
       "25063  if your a woman who likes a genuine, old fashi...  \n",
       "25402                                                NaN  \n",
       "25659                                                NaN  \n",
       "26831  you're looking for more than just a girl in a ...  \n",
       "28123                                                NaN  \n",
       "28166                                                NaN  \n",
       "29758                                                NaN  \n",
       "29966                                                NaN  \n",
       "29978                                                NaN  \n",
       "32533                    any of this sounds interesting.  \n",
       "32990                                                NaN  \n",
       "34557                                                NaN  \n",
       "37870                                                NaN  \n",
       "38494  . . . you are a smart, funny, sweet, real-deal...  \n",
       "39298                                                NaN  \n",
       "40393  if you like to converse on a variety of differ...  \n",
       "41867  - you are the kind of person who will spend a ...  \n",
       "42523               you want something new and exciting.  \n",
       "44651                                                NaN  \n",
       "46600  you'd like to go on an adventure. =)  ________...  \n",
       "46804  if you're looking for something long term. if ...  \n",
       "46884                                                NaN  \n",
       "46928  you love exploring, music, and traveling. and ...  \n",
       "54545                                                NaN  \n",
       "54647  you want to go check out a new band, go on a h...  \n",
       "57134                                                NaN  \n",
       "57536                                                NaN  "
      ]
     },
     "execution_count": 93,
     "metadata": {},
     "output_type": "execute_result"
    }
   ],
   "source": [
    "df[df[\"speaks\"].isnull()]"
   ]
  },
  {
   "cell_type": "markdown",
   "metadata": {},
   "source": [
    "Hay bastantes filas con valores nulos, pero todas ellas son de California y/o tienen texto en inglés en las columnas `essay0` - `essay9`. Por eso, vamos a considerar que hablan inglés."
   ]
  },
  {
   "cell_type": "code",
   "execution_count": 94,
   "metadata": {
    "ExecuteTime": {
     "end_time": "2021-01-10T15:12:48.101486Z",
     "start_time": "2021-01-10T15:12:48.018122Z"
    }
   },
   "outputs": [],
   "source": [
    "df[\"speaks\"] = df[\"speaks\"].astype(str).astype(object)  # Convert np.nan into \"nan\"\n",
    "\n",
    "nan_to_english = substitution_transformer({\"nan\": \"english\"})"
   ]
  },
  {
   "cell_type": "markdown",
   "metadata": {},
   "source": [
    "A continuación, necesitamos saber qué idiomas podemos encontrarnos."
   ]
  },
  {
   "cell_type": "code",
   "execution_count": 95,
   "metadata": {
    "ExecuteTime": {
     "end_time": "2021-01-10T15:12:48.292077Z",
     "start_time": "2021-01-10T15:12:48.103312Z"
    }
   },
   "outputs": [
    {
     "name": "stdout",
     "output_type": "stream",
     "text": [
      "{'arabic', 'romanian', 'thai', 'chinese', 'frisian', 'slovak', 'malay', 'german', 'cebuano', 'other', 'vietnamese', 'ukrainian', 'chechen', 'nan', 'japanese', 'latin', 'indonesian', 'afrikaans', 'esperanto', 'spanish', 'armenian', 'bulgarian', 'tamil', 'estonian', 'belarusan', 'danish', 'hebrew', 'lithuanian', 'finnish', 'welsh', 'hindi', 'persian', 'yiddish', 'tagalog', 'sardinian', 'polish', 'swahili', 'ilongo', 'c++', 'french', 'maori', 'swedish', 'dutch', 'gujarati', 'hawaiian', 'occitan', 'urdu', 'tibetan', 'russian', 'basque', 'sanskrit', 'irish', 'norwegian', 'croatian', 'khmer', 'catalan', 'lisp', 'czech', 'korean', 'serbian', 'breton', 'portuguese', 'turkish', 'greek', 'bengali', 'ancient greek', 'albanian', 'rotuman', 'mongolian', 'slovenian', 'hungarian', 'icelandic', 'georgian', 'latvian', 'sign language', 'farsi', 'english', 'italian'}\n"
     ]
    }
   ],
   "source": [
    "languages = set()\n",
    "for item in df[\"speaks\"]:\n",
    "    instance_languages = item.split(\",\")\n",
    "    for i in range(len(instance_languages)):\n",
    "        if \"(\" in instance_languages[i]:\n",
    "            instance_languages[i] = instance_languages[i].split(\"(\")[0]\n",
    "    instance_languages = [x.strip() for x in instance_languages]\n",
    "    languages.update(instance_languages)\n",
    "print(languages)"
   ]
  },
  {
   "cell_type": "code",
   "execution_count": 96,
   "metadata": {
    "ExecuteTime": {
     "end_time": "2021-01-10T15:12:48.355625Z",
     "start_time": "2021-01-10T15:12:48.293321Z"
    }
   },
   "outputs": [],
   "source": [
    "languages.remove(\"nan\")\n",
    "languages.remove(\"other\")"
   ]
  },
  {
   "cell_type": "markdown",
   "metadata": {},
   "source": [
    "Ahora nos interesa conocer qué modificadores tenemos."
   ]
  },
  {
   "cell_type": "code",
   "execution_count": 97,
   "metadata": {
    "ExecuteTime": {
     "end_time": "2021-01-10T15:12:48.521119Z",
     "start_time": "2021-01-10T15:12:48.356894Z"
    }
   },
   "outputs": [
    {
     "name": "stdout",
     "output_type": "stream",
     "text": [
      "{'okay', 'fluently', 'poorly'}\n"
     ]
    }
   ],
   "source": [
    "fluencies = set()\n",
    "for item in df[\"speaks\"]:\n",
    "    for language in item.split(\",\"):\n",
    "        if \"(\" in language:\n",
    "            fluencies.add(language.split(\"(\")[1].replace(\")\", \"\").strip())\n",
    "print(fluencies)"
   ]
  },
  {
   "cell_type": "markdown",
   "metadata": {},
   "source": [
    "Con esto ya sólo necesitamos montar un `encoder`.\n",
    "\n",
    "Vamos a considerar que si el usuario no indica nivel de habilidad, habla el idioma sin problemas. Casi todos los usuarios han indicado un nivel de habilidad cuando seleccionan más de un idioma, pero hay muchos que sólo indican uno (el idioma materno) sin especificar habilidad, así que esta decisión será beneficiosa."
   ]
  },
  {
   "cell_type": "code",
   "execution_count": 98,
   "metadata": {
    "ExecuteTime": {
     "end_time": "2021-01-10T15:12:48.581601Z",
     "start_time": "2021-01-10T15:12:48.524249Z"
    }
   },
   "outputs": [],
   "source": [
    "speaks_modifiers = {\n",
    "    \"poorly\": 0.33,\n",
    "    \"okay\": 0.66,\n",
    "    \"fluently\": 1.0,\n",
    "    \"default\": 1.0\n",
    "}\n",
    "\n",
    "speaks_encoder = AffixedVariableEncoder(categories=[list(languages)],\n",
    "                                        modifiers=[speaks_modifiers],\n",
    "                                        delim=\",\",\n",
    "                                        handle_unknown=\"ignore\")\n",
    "\n",
    "speaks_transformer = Pipeline([\n",
    "    (\"nan_to_english\", nan_to_english),\n",
    "    (\"encoder\", speaks_encoder)\n",
    "])"
   ]
  },
  {
   "cell_type": "markdown",
   "metadata": {},
   "source": [
    "## 2.3 Variables de texto libre"
   ]
  },
  {
   "cell_type": "markdown",
   "metadata": {},
   "source": [
    "# 3. Preprocesamiento"
   ]
  },
  {
   "cell_type": "markdown",
   "metadata": {},
   "source": [
    "Ahora que tenemos transformadores listos para todas las columnas que vamos a utilizar, podemos montar un `ColumnTransformer` para el preprocesamiento."
   ]
  },
  {
   "cell_type": "code",
   "execution_count": 99,
   "metadata": {
    "ExecuteTime": {
     "end_time": "2021-01-10T15:12:48.671071Z",
     "start_time": "2021-01-10T15:12:48.583803Z"
    }
   },
   "outputs": [],
   "source": [
    "full_pipeline = ColumnTransformer([\n",
    "    # Numerical features\n",
    "    (\"height\", height_transformer, [\"height\"]),\n",
    "    (\"age\", age_transformer, [\"age\"]),\n",
    "    \n",
    "    # Simple categorical features\n",
    "    (\"status\", status_transformer, [\"status\"]),\n",
    "    (\"sex\", sex_transformer, [\"sex\"]),\n",
    "    (\"drinks\", drinks_transformer, [\"drinks\"]),\n",
    "    (\"drugs\", drugs_transformer, [\"drugs\"]),\n",
    "    (\"job\", job_transformer, [\"job\"]),\n",
    "    (\"smokes\", smokes_transformer, [\"smokes\"]),\n",
    "    \n",
    "    # N-dim categorical features\n",
    "    (\"orientation\", orientation_transformer, [\"orientation\"]),\n",
    "    (\"body_type\", body_type_transformer, [\"body_type\"]),\n",
    "    (\"location\", location_transformer, [\"location\"]),\n",
    "    (\"offspring\", offspring_transformer, [\"offspring\"]),\n",
    "    (\"pets\", pets_transformer, [\"pets\"]),\n",
    "    \n",
    "    # Affix-modified categorical features\n",
    "    (\"diet\", diet_transformer, [\"diet\"]),\n",
    "    (\"education\", education_transformer, [\"education\"]),\n",
    "    (\"ethnicity\", ethnicity_transformer, [\"ethnicity\"]),\n",
    "    (\"religion\", religion_transformer, [\"religion\"]),\n",
    "    (\"sign\", sign_transformer, [\"sign\"]),\n",
    "    (\"speaks\", speaks_transformer, [\"speaks\"])\n",
    "], remainder=\"drop\", verbose=True)"
   ]
  },
  {
   "cell_type": "code",
   "execution_count": 100,
   "metadata": {
    "ExecuteTime": {
     "end_time": "2021-01-10T15:12:52.865337Z",
     "start_time": "2021-01-10T15:12:48.672564Z"
    }
   },
   "outputs": [
    {
     "name": "stdout",
     "output_type": "stream",
     "text": [
      "[ColumnTransformer] ....... (1 of 19) Processing height, total=   0.0s\n",
      "[ColumnTransformer] .......... (2 of 19) Processing age, total=   0.0s\n",
      "[ColumnTransformer] ....... (3 of 19) Processing status, total=   0.1s\n",
      "[ColumnTransformer] .......... (4 of 19) Processing sex, total=   0.0s\n",
      "[ColumnTransformer] ....... (5 of 19) Processing drinks, total=   0.1s\n",
      "[ColumnTransformer] ........ (6 of 19) Processing drugs, total=   0.0s\n",
      "[ColumnTransformer] .......... (7 of 19) Processing job, total=   0.1s\n",
      "[ColumnTransformer] ....... (8 of 19) Processing smokes, total=   0.2s\n",
      "[ColumnTransformer] .. (9 of 19) Processing orientation, total=   0.1s\n",
      "[ColumnTransformer] ... (10 of 19) Processing body_type, total=   0.1s\n",
      "[ColumnTransformer] .... (11 of 19) Processing location, total=   0.1s\n",
      "[ColumnTransformer] ... (12 of 19) Processing offspring, total=   0.1s\n",
      "[ColumnTransformer] ........ (13 of 19) Processing pets, total=   0.1s\n",
      "[ColumnTransformer] ........ (14 of 19) Processing diet, total=   0.2s\n",
      "[ColumnTransformer] ... (15 of 19) Processing education, total=   0.5s\n",
      "[ColumnTransformer] ... (16 of 19) Processing ethnicity, total=   0.3s\n",
      "[ColumnTransformer] .... (17 of 19) Processing religion, total=   0.4s\n",
      "[ColumnTransformer] ........ (18 of 19) Processing sign, total=   0.3s\n",
      "[ColumnTransformer] ...... (19 of 19) Processing speaks, total=   0.9s\n"
     ]
    },
    {
     "data": {
      "text/plain": [
       "(59901, 148)"
      ]
     },
     "execution_count": 100,
     "metadata": {},
     "output_type": "execute_result"
    }
   ],
   "source": [
    "X_preprocessed = full_pipeline.fit_transform(df)\n",
    "X_preprocessed.shape"
   ]
  },
  {
   "cell_type": "markdown",
   "metadata": {},
   "source": [
    "# 6. Referencias\n",
    "\n",
    "\\[1\\] Tallest people in history, https://en.wikipedia.org/wiki/List_of_tallest_people \n",
    "\n",
    "\\[2\\] Average and minimum heights of people with dwarfism, https://www.mayoclinic.org/es-es/diseases-conditions/dwarfism/symptoms-causes/syc-20371969\n",
    "\n",
    "\\[3\\] CDC on weight and height distributions, https://www.cdc.gov/nchs/data/nhsr/nhsr010.pdf\n",
    "\n",
    "\\[4\\] SSA Actuarial Life Table, https://www.ssa.gov/oact/STATS/table4c6.html#fn1"
   ]
  }
 ],
 "metadata": {
  "kernelspec": {
   "display_name": "Python 3.7.6 64-bit ('deeplearning': venv)",
   "language": "python",
   "name": "python37664bitdeeplearningvenv4731586230774413b828defcfccec506"
  },
  "language_info": {
   "codemirror_mode": {
    "name": "ipython",
    "version": 3
   },
   "file_extension": ".py",
   "mimetype": "text/x-python",
   "name": "python",
   "nbconvert_exporter": "python",
   "pygments_lexer": "ipython3",
   "version": "3.7.9"
  },
  "toc": {
   "base_numbering": 1,
   "nav_menu": {},
   "number_sections": false,
   "sideBar": true,
   "skip_h1_title": false,
   "title_cell": "lab3 - Contents",
   "title_sidebar": "lab3",
   "toc_cell": false,
   "toc_position": {
    "height": "calc(100% - 180px)",
    "left": "10px",
    "top": "150px",
    "width": "381px"
   },
   "toc_section_display": true,
   "toc_window_display": true
  },
  "varInspector": {
   "cols": {
    "lenName": 16,
    "lenType": 16,
    "lenVar": 40
   },
   "kernels_config": {
    "python": {
     "delete_cmd_postfix": "",
     "delete_cmd_prefix": "del ",
     "library": "var_list.py",
     "varRefreshCmd": "print(var_dic_list())"
    },
    "r": {
     "delete_cmd_postfix": ") ",
     "delete_cmd_prefix": "rm(",
     "library": "var_list.r",
     "varRefreshCmd": "cat(var_dic_list()) "
    }
   },
   "types_to_exclude": [
    "module",
    "function",
    "builtin_function_or_method",
    "instance",
    "_Feature"
   ],
   "window_display": false
  }
 },
 "nbformat": 4,
 "nbformat_minor": 4
}
