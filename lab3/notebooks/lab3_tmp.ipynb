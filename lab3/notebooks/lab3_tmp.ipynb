{
 "cells": [
  {
   "cell_type": "markdown",
   "metadata": {},
   "source": [
    "# Clustering de perfiles de OkCupid\n",
    "Este notebook muestra el proceso de análisis, preprocesamiento y entrenamiento de modelos para agrupar perfiles similares de la web de citas OkCupid."
   ]
  },
  {
   "cell_type": "markdown",
   "metadata": {},
   "source": [
    "# 1. Setup"
   ]
  },
  {
   "cell_type": "code",
   "execution_count": 1,
   "metadata": {
    "ExecuteTime": {
     "end_time": "2021-01-13T17:22:44.214172Z",
     "start_time": "2021-01-13T17:22:44.211121Z"
    }
   },
   "outputs": [],
   "source": [
    "# Requirements\n",
    "# %pip install numpy pandas scikit-learn scipy geopy fiona geopandas descartes contextily gensim nltk matplotlib seaborn umap-learn"
   ]
  },
  {
   "cell_type": "markdown",
   "metadata": {},
   "source": [
    "Librerías importadas en el proyecto."
   ]
  },
  {
   "cell_type": "code",
   "execution_count": 1,
   "metadata": {
    "ExecuteTime": {
     "end_time": "2021-01-13T17:36:43.497861Z",
     "start_time": "2021-01-13T17:36:24.701864Z"
    }
   },
   "outputs": [],
   "source": [
    "# Numerical and data\n",
    "import numpy as np\n",
    "import pandas as pd\n",
    "\n",
    "# Python builtin libraries\n",
    "import os\n",
    "\n",
    "# Jupyter notebook\n",
    "from IPython.display import IFrame\n",
    "\n",
    "# Geospatial data\n",
    "from geopy.geocoders import Nominatim\n",
    "import geopandas as gpd\n",
    "import shapely\n",
    "import contextily as ctx\n",
    "\n",
    "# Plotting\n",
    "%matplotlib inline\n",
    "from matplotlib import pyplot as plt\n",
    "from matplotlib.cm import ScalarMappable\n",
    "from matplotlib.colors import LogNorm\n",
    "import seaborn as sns\n",
    "sns.set_style(\"darkgrid\")\n",
    "\n",
    "# Scikit-learn\n",
    "from sklearn.base import BaseEstimator, TransformerMixin\n",
    "from sklearn.preprocessing import (\n",
    "    StandardScaler, MinMaxScaler, RobustScaler, \n",
    "    FunctionTransformer,\n",
    "    OneHotEncoder, OrdinalEncoder\n",
    ")\n",
    "from sklearn.pipeline import Pipeline\n",
    "from sklearn.exceptions import NotFittedError\n",
    "from sklearn.compose import ColumnTransformer\n",
    "from sklearn.decomposition import PCA\n",
    "from sklearn.manifold import TSNE, Isomap\n",
    "\n",
    "# Scipy\n",
    "from scipy.stats import norm, kstest\n",
    "\n",
    "# NLP\n",
    "from gensim.utils import tokenize\n",
    "from gensim.parsing.preprocessing import STOPWORDS\n",
    "from gensim.corpora import Dictionary\n",
    "from gensim.models.ldamulticore import LdaMulticore\n",
    "import nltk\n",
    "from nltk.corpus import wordnet as wn\n",
    "\n",
    "import umap"
   ]
  },
  {
   "cell_type": "markdown",
   "metadata": {},
   "source": [
    "Variables globales declaradas en el proyecto."
   ]
  },
  {
   "cell_type": "code",
   "execution_count": 2,
   "metadata": {
    "ExecuteTime": {
     "end_time": "2021-01-13T17:36:46.182346Z",
     "start_time": "2021-01-13T17:36:46.175388Z"
    }
   },
   "outputs": [],
   "source": [
    "RANDOM_SEED = 1337\n",
    "np.random.seed(RANDOM_SEED)\n",
    "\n",
    "#!git clone https://github.com/dietrujillo/ml_lab.git ./ml_lab\n",
    "# os.path.join(os.curdir, \"ml_lab\", \"lab3\", \"data\")  # Path to csv data\n",
    "DATA_PATH = os.path.join(os.pardir, \"data\")\n",
    "# os.path.join(os.curdir, \"ml_lab\", \"lab3\", \"info\")  # Path to problem info\n",
    "INFO_PATH = os.path.join(os.pardir, \"info\")\n",
    "# os.path.join(os.curdir, \"ml_lab\", \"lab3\", \"results\")  # Path to results files\n",
    "RESULTS_PATH = os.path.join(os.pardir, \"results\")\n",
    "\n",
    "nltk.data.path = DATA_PATH"
   ]
  },
  {
   "cell_type": "code",
   "execution_count": null,
   "metadata": {},
   "outputs": [],
   "source": [
    "X_preprocessed = np.load(\"X_preprocessed.npy\", allow_pickle=True)"
   ]
  },
  {
   "cell_type": "markdown",
   "metadata": {},
   "source": [
    "Enunciado del problema."
   ]
  },
  {
   "cell_type": "code",
   "execution_count": 4,
   "metadata": {
    "ExecuteTime": {
     "end_time": "2021-01-13T17:22:47.747983Z",
     "start_time": "2021-01-13T17:22:46.858568Z"
    }
   },
   "outputs": [
    {
     "data": {
      "text/html": [
       "\n",
       "        <iframe\n",
       "            width=\"1080\"\n",
       "            height=\"920\"\n",
       "            src=\"../info/lab3.pdf\"\n",
       "            frameborder=\"0\"\n",
       "            allowfullscreen\n",
       "        ></iframe>\n",
       "        "
      ],
      "text/plain": [
       "<IPython.lib.display.IFrame at 0x7f114402d110>"
      ]
     },
     "execution_count": 4,
     "metadata": {},
     "output_type": "execute_result"
    }
   ],
   "source": [
    "# Jupyter Notebook only\n",
    "IFrame(os.path.join(INFO_PATH, \"lab3.pdf\"), width=1080, height=920)"
   ]
  },
  {
   "cell_type": "markdown",
   "metadata": {},
   "source": [
    "# 2. Análisis exploratorio de los datos"
   ]
  },
  {
   "cell_type": "markdown",
   "metadata": {},
   "source": [
    "En primer lugar, cargamos los datos en memoria y echamos un primer vistazo."
   ]
  },
  {
   "cell_type": "code",
   "execution_count": 3,
   "metadata": {
    "ExecuteTime": {
     "end_time": "2021-01-13T17:36:53.521314Z",
     "start_time": "2021-01-13T17:36:51.513799Z"
    },
    "scrolled": true
   },
   "outputs": [
    {
     "data": {
      "text/html": [
       "<div>\n",
       "<style scoped>\n",
       "    .dataframe tbody tr th:only-of-type {\n",
       "        vertical-align: middle;\n",
       "    }\n",
       "\n",
       "    .dataframe tbody tr th {\n",
       "        vertical-align: top;\n",
       "    }\n",
       "\n",
       "    .dataframe thead th {\n",
       "        text-align: right;\n",
       "    }\n",
       "</style>\n",
       "<table border=\"1\" class=\"dataframe\">\n",
       "  <thead>\n",
       "    <tr style=\"text-align: right;\">\n",
       "      <th></th>\n",
       "      <th>age</th>\n",
       "      <th>status</th>\n",
       "      <th>sex</th>\n",
       "      <th>orientation</th>\n",
       "      <th>body_type</th>\n",
       "      <th>diet</th>\n",
       "      <th>drinks</th>\n",
       "      <th>drugs</th>\n",
       "      <th>education</th>\n",
       "      <th>ethnicity</th>\n",
       "    </tr>\n",
       "  </thead>\n",
       "  <tbody>\n",
       "    <tr>\n",
       "      <th>0</th>\n",
       "      <td>22</td>\n",
       "      <td>single</td>\n",
       "      <td>m</td>\n",
       "      <td>straight</td>\n",
       "      <td>a little extra</td>\n",
       "      <td>strictly anything</td>\n",
       "      <td>socially</td>\n",
       "      <td>never</td>\n",
       "      <td>working on college/university</td>\n",
       "      <td>asian, white</td>\n",
       "    </tr>\n",
       "    <tr>\n",
       "      <th>1</th>\n",
       "      <td>35</td>\n",
       "      <td>single</td>\n",
       "      <td>m</td>\n",
       "      <td>straight</td>\n",
       "      <td>average</td>\n",
       "      <td>mostly other</td>\n",
       "      <td>often</td>\n",
       "      <td>sometimes</td>\n",
       "      <td>working on space camp</td>\n",
       "      <td>white</td>\n",
       "    </tr>\n",
       "    <tr>\n",
       "      <th>2</th>\n",
       "      <td>38</td>\n",
       "      <td>available</td>\n",
       "      <td>m</td>\n",
       "      <td>straight</td>\n",
       "      <td>thin</td>\n",
       "      <td>anything</td>\n",
       "      <td>socially</td>\n",
       "      <td>NaN</td>\n",
       "      <td>graduated from masters program</td>\n",
       "      <td>NaN</td>\n",
       "    </tr>\n",
       "    <tr>\n",
       "      <th>3</th>\n",
       "      <td>23</td>\n",
       "      <td>single</td>\n",
       "      <td>m</td>\n",
       "      <td>straight</td>\n",
       "      <td>thin</td>\n",
       "      <td>vegetarian</td>\n",
       "      <td>socially</td>\n",
       "      <td>NaN</td>\n",
       "      <td>working on college/university</td>\n",
       "      <td>white</td>\n",
       "    </tr>\n",
       "    <tr>\n",
       "      <th>4</th>\n",
       "      <td>29</td>\n",
       "      <td>single</td>\n",
       "      <td>m</td>\n",
       "      <td>straight</td>\n",
       "      <td>athletic</td>\n",
       "      <td>NaN</td>\n",
       "      <td>socially</td>\n",
       "      <td>never</td>\n",
       "      <td>graduated from college/university</td>\n",
       "      <td>asian, black, other</td>\n",
       "    </tr>\n",
       "    <tr>\n",
       "      <th>...</th>\n",
       "      <td>...</td>\n",
       "      <td>...</td>\n",
       "      <td>...</td>\n",
       "      <td>...</td>\n",
       "      <td>...</td>\n",
       "      <td>...</td>\n",
       "      <td>...</td>\n",
       "      <td>...</td>\n",
       "      <td>...</td>\n",
       "      <td>...</td>\n",
       "    </tr>\n",
       "    <tr>\n",
       "      <th>59941</th>\n",
       "      <td>59</td>\n",
       "      <td>single</td>\n",
       "      <td>f</td>\n",
       "      <td>straight</td>\n",
       "      <td>NaN</td>\n",
       "      <td>NaN</td>\n",
       "      <td>socially</td>\n",
       "      <td>never</td>\n",
       "      <td>graduated from college/university</td>\n",
       "      <td>NaN</td>\n",
       "    </tr>\n",
       "    <tr>\n",
       "      <th>59942</th>\n",
       "      <td>24</td>\n",
       "      <td>single</td>\n",
       "      <td>m</td>\n",
       "      <td>straight</td>\n",
       "      <td>fit</td>\n",
       "      <td>mostly anything</td>\n",
       "      <td>often</td>\n",
       "      <td>sometimes</td>\n",
       "      <td>working on college/university</td>\n",
       "      <td>white, other</td>\n",
       "    </tr>\n",
       "    <tr>\n",
       "      <th>59943</th>\n",
       "      <td>42</td>\n",
       "      <td>single</td>\n",
       "      <td>m</td>\n",
       "      <td>straight</td>\n",
       "      <td>average</td>\n",
       "      <td>mostly anything</td>\n",
       "      <td>not at all</td>\n",
       "      <td>never</td>\n",
       "      <td>graduated from masters program</td>\n",
       "      <td>asian</td>\n",
       "    </tr>\n",
       "    <tr>\n",
       "      <th>59944</th>\n",
       "      <td>27</td>\n",
       "      <td>single</td>\n",
       "      <td>m</td>\n",
       "      <td>straight</td>\n",
       "      <td>athletic</td>\n",
       "      <td>mostly anything</td>\n",
       "      <td>socially</td>\n",
       "      <td>often</td>\n",
       "      <td>working on college/university</td>\n",
       "      <td>asian, black</td>\n",
       "    </tr>\n",
       "    <tr>\n",
       "      <th>59945</th>\n",
       "      <td>39</td>\n",
       "      <td>single</td>\n",
       "      <td>m</td>\n",
       "      <td>gay</td>\n",
       "      <td>average</td>\n",
       "      <td>NaN</td>\n",
       "      <td>socially</td>\n",
       "      <td>NaN</td>\n",
       "      <td>graduated from masters program</td>\n",
       "      <td>white</td>\n",
       "    </tr>\n",
       "  </tbody>\n",
       "</table>\n",
       "<p>59946 rows × 10 columns</p>\n",
       "</div>"
      ],
      "text/plain": [
       "       age     status sex orientation       body_type               diet  \\\n",
       "0       22     single   m    straight  a little extra  strictly anything   \n",
       "1       35     single   m    straight         average       mostly other   \n",
       "2       38  available   m    straight            thin           anything   \n",
       "3       23     single   m    straight            thin         vegetarian   \n",
       "4       29     single   m    straight        athletic                NaN   \n",
       "...    ...        ...  ..         ...             ...                ...   \n",
       "59941   59     single   f    straight             NaN                NaN   \n",
       "59942   24     single   m    straight             fit    mostly anything   \n",
       "59943   42     single   m    straight         average    mostly anything   \n",
       "59944   27     single   m    straight        athletic    mostly anything   \n",
       "59945   39     single   m         gay         average                NaN   \n",
       "\n",
       "           drinks      drugs                          education  \\\n",
       "0        socially      never      working on college/university   \n",
       "1           often  sometimes              working on space camp   \n",
       "2        socially        NaN     graduated from masters program   \n",
       "3        socially        NaN      working on college/university   \n",
       "4        socially      never  graduated from college/university   \n",
       "...           ...        ...                                ...   \n",
       "59941    socially      never  graduated from college/university   \n",
       "59942       often  sometimes      working on college/university   \n",
       "59943  not at all      never     graduated from masters program   \n",
       "59944    socially      often      working on college/university   \n",
       "59945    socially        NaN     graduated from masters program   \n",
       "\n",
       "                 ethnicity  \n",
       "0             asian, white  \n",
       "1                    white  \n",
       "2                      NaN  \n",
       "3                    white  \n",
       "4      asian, black, other  \n",
       "...                    ...  \n",
       "59941                  NaN  \n",
       "59942         white, other  \n",
       "59943                asian  \n",
       "59944         asian, black  \n",
       "59945                white  \n",
       "\n",
       "[59946 rows x 10 columns]"
      ]
     },
     "metadata": {},
     "output_type": "display_data"
    },
    {
     "data": {
      "text/html": [
       "<div>\n",
       "<style scoped>\n",
       "    .dataframe tbody tr th:only-of-type {\n",
       "        vertical-align: middle;\n",
       "    }\n",
       "\n",
       "    .dataframe tbody tr th {\n",
       "        vertical-align: top;\n",
       "    }\n",
       "\n",
       "    .dataframe thead th {\n",
       "        text-align: right;\n",
       "    }\n",
       "</style>\n",
       "<table border=\"1\" class=\"dataframe\">\n",
       "  <thead>\n",
       "    <tr style=\"text-align: right;\">\n",
       "      <th></th>\n",
       "      <th>height</th>\n",
       "      <th>income</th>\n",
       "      <th>job</th>\n",
       "      <th>last_online</th>\n",
       "      <th>location</th>\n",
       "      <th>offspring</th>\n",
       "      <th>pets</th>\n",
       "      <th>religion</th>\n",
       "      <th>sign</th>\n",
       "      <th>smokes</th>\n",
       "    </tr>\n",
       "  </thead>\n",
       "  <tbody>\n",
       "    <tr>\n",
       "      <th>0</th>\n",
       "      <td>75.0</td>\n",
       "      <td>-1</td>\n",
       "      <td>transportation</td>\n",
       "      <td>2012-06-28-20-30</td>\n",
       "      <td>south san francisco, california</td>\n",
       "      <td>doesn't have kids, but might want them</td>\n",
       "      <td>likes dogs and likes cats</td>\n",
       "      <td>agnosticism and very serious about it</td>\n",
       "      <td>gemini</td>\n",
       "      <td>sometimes</td>\n",
       "    </tr>\n",
       "    <tr>\n",
       "      <th>1</th>\n",
       "      <td>70.0</td>\n",
       "      <td>80000</td>\n",
       "      <td>hospitality / travel</td>\n",
       "      <td>2012-06-29-21-41</td>\n",
       "      <td>oakland, california</td>\n",
       "      <td>doesn't have kids, but might want them</td>\n",
       "      <td>likes dogs and likes cats</td>\n",
       "      <td>agnosticism but not too serious about it</td>\n",
       "      <td>cancer</td>\n",
       "      <td>no</td>\n",
       "    </tr>\n",
       "    <tr>\n",
       "      <th>2</th>\n",
       "      <td>68.0</td>\n",
       "      <td>-1</td>\n",
       "      <td>NaN</td>\n",
       "      <td>2012-06-27-09-10</td>\n",
       "      <td>san francisco, california</td>\n",
       "      <td>NaN</td>\n",
       "      <td>has cats</td>\n",
       "      <td>NaN</td>\n",
       "      <td>pisces but it doesn&amp;rsquo;t matter</td>\n",
       "      <td>no</td>\n",
       "    </tr>\n",
       "    <tr>\n",
       "      <th>3</th>\n",
       "      <td>71.0</td>\n",
       "      <td>20000</td>\n",
       "      <td>student</td>\n",
       "      <td>2012-06-28-14-22</td>\n",
       "      <td>berkeley, california</td>\n",
       "      <td>doesn't want kids</td>\n",
       "      <td>likes cats</td>\n",
       "      <td>NaN</td>\n",
       "      <td>pisces</td>\n",
       "      <td>no</td>\n",
       "    </tr>\n",
       "    <tr>\n",
       "      <th>4</th>\n",
       "      <td>66.0</td>\n",
       "      <td>-1</td>\n",
       "      <td>artistic / musical / writer</td>\n",
       "      <td>2012-06-27-21-26</td>\n",
       "      <td>san francisco, california</td>\n",
       "      <td>NaN</td>\n",
       "      <td>likes dogs and likes cats</td>\n",
       "      <td>NaN</td>\n",
       "      <td>aquarius</td>\n",
       "      <td>no</td>\n",
       "    </tr>\n",
       "    <tr>\n",
       "      <th>...</th>\n",
       "      <td>...</td>\n",
       "      <td>...</td>\n",
       "      <td>...</td>\n",
       "      <td>...</td>\n",
       "      <td>...</td>\n",
       "      <td>...</td>\n",
       "      <td>...</td>\n",
       "      <td>...</td>\n",
       "      <td>...</td>\n",
       "      <td>...</td>\n",
       "    </tr>\n",
       "    <tr>\n",
       "      <th>59941</th>\n",
       "      <td>62.0</td>\n",
       "      <td>-1</td>\n",
       "      <td>sales / marketing / biz dev</td>\n",
       "      <td>2012-06-12-21-47</td>\n",
       "      <td>oakland, california</td>\n",
       "      <td>has kids</td>\n",
       "      <td>has dogs</td>\n",
       "      <td>catholicism but not too serious about it</td>\n",
       "      <td>cancer and it&amp;rsquo;s fun to think about</td>\n",
       "      <td>no</td>\n",
       "    </tr>\n",
       "    <tr>\n",
       "      <th>59942</th>\n",
       "      <td>72.0</td>\n",
       "      <td>-1</td>\n",
       "      <td>entertainment / media</td>\n",
       "      <td>2012-06-29-11-01</td>\n",
       "      <td>san francisco, california</td>\n",
       "      <td>doesn't have kids</td>\n",
       "      <td>likes dogs and likes cats</td>\n",
       "      <td>agnosticism</td>\n",
       "      <td>leo but it doesn&amp;rsquo;t matter</td>\n",
       "      <td>no</td>\n",
       "    </tr>\n",
       "    <tr>\n",
       "      <th>59943</th>\n",
       "      <td>71.0</td>\n",
       "      <td>100000</td>\n",
       "      <td>construction / craftsmanship</td>\n",
       "      <td>2012-06-27-23-37</td>\n",
       "      <td>south san francisco, california</td>\n",
       "      <td>doesn't have kids</td>\n",
       "      <td>NaN</td>\n",
       "      <td>christianity but not too serious about it</td>\n",
       "      <td>sagittarius but it doesn&amp;rsquo;t matter</td>\n",
       "      <td>no</td>\n",
       "    </tr>\n",
       "    <tr>\n",
       "      <th>59944</th>\n",
       "      <td>73.0</td>\n",
       "      <td>-1</td>\n",
       "      <td>medicine / health</td>\n",
       "      <td>2012-06-23-13-01</td>\n",
       "      <td>san francisco, california</td>\n",
       "      <td>doesn't have kids, but wants them</td>\n",
       "      <td>likes dogs and likes cats</td>\n",
       "      <td>agnosticism but not too serious about it</td>\n",
       "      <td>leo and it&amp;rsquo;s fun to think about</td>\n",
       "      <td>trying to quit</td>\n",
       "    </tr>\n",
       "    <tr>\n",
       "      <th>59945</th>\n",
       "      <td>68.0</td>\n",
       "      <td>-1</td>\n",
       "      <td>medicine / health</td>\n",
       "      <td>2012-06-29-00-42</td>\n",
       "      <td>san francisco, california</td>\n",
       "      <td>NaN</td>\n",
       "      <td>likes dogs and likes cats</td>\n",
       "      <td>catholicism and laughing about it</td>\n",
       "      <td>gemini and it&amp;rsquo;s fun to think about</td>\n",
       "      <td>sometimes</td>\n",
       "    </tr>\n",
       "  </tbody>\n",
       "</table>\n",
       "<p>59946 rows × 10 columns</p>\n",
       "</div>"
      ],
      "text/plain": [
       "       height  income                           job       last_online  \\\n",
       "0        75.0      -1                transportation  2012-06-28-20-30   \n",
       "1        70.0   80000          hospitality / travel  2012-06-29-21-41   \n",
       "2        68.0      -1                           NaN  2012-06-27-09-10   \n",
       "3        71.0   20000                       student  2012-06-28-14-22   \n",
       "4        66.0      -1   artistic / musical / writer  2012-06-27-21-26   \n",
       "...       ...     ...                           ...               ...   \n",
       "59941    62.0      -1   sales / marketing / biz dev  2012-06-12-21-47   \n",
       "59942    72.0      -1         entertainment / media  2012-06-29-11-01   \n",
       "59943    71.0  100000  construction / craftsmanship  2012-06-27-23-37   \n",
       "59944    73.0      -1             medicine / health  2012-06-23-13-01   \n",
       "59945    68.0      -1             medicine / health  2012-06-29-00-42   \n",
       "\n",
       "                              location  \\\n",
       "0      south san francisco, california   \n",
       "1                  oakland, california   \n",
       "2            san francisco, california   \n",
       "3                 berkeley, california   \n",
       "4            san francisco, california   \n",
       "...                                ...   \n",
       "59941              oakland, california   \n",
       "59942        san francisco, california   \n",
       "59943  south san francisco, california   \n",
       "59944        san francisco, california   \n",
       "59945        san francisco, california   \n",
       "\n",
       "                                    offspring                       pets  \\\n",
       "0      doesn't have kids, but might want them  likes dogs and likes cats   \n",
       "1      doesn't have kids, but might want them  likes dogs and likes cats   \n",
       "2                                         NaN                   has cats   \n",
       "3                           doesn't want kids                 likes cats   \n",
       "4                                         NaN  likes dogs and likes cats   \n",
       "...                                       ...                        ...   \n",
       "59941                                has kids                   has dogs   \n",
       "59942                       doesn't have kids  likes dogs and likes cats   \n",
       "59943                       doesn't have kids                        NaN   \n",
       "59944       doesn't have kids, but wants them  likes dogs and likes cats   \n",
       "59945                                     NaN  likes dogs and likes cats   \n",
       "\n",
       "                                        religion  \\\n",
       "0          agnosticism and very serious about it   \n",
       "1       agnosticism but not too serious about it   \n",
       "2                                            NaN   \n",
       "3                                            NaN   \n",
       "4                                            NaN   \n",
       "...                                          ...   \n",
       "59941   catholicism but not too serious about it   \n",
       "59942                                agnosticism   \n",
       "59943  christianity but not too serious about it   \n",
       "59944   agnosticism but not too serious about it   \n",
       "59945          catholicism and laughing about it   \n",
       "\n",
       "                                           sign          smokes  \n",
       "0                                        gemini       sometimes  \n",
       "1                                        cancer              no  \n",
       "2            pisces but it doesn&rsquo;t matter              no  \n",
       "3                                        pisces              no  \n",
       "4                                      aquarius              no  \n",
       "...                                         ...             ...  \n",
       "59941  cancer and it&rsquo;s fun to think about              no  \n",
       "59942           leo but it doesn&rsquo;t matter              no  \n",
       "59943   sagittarius but it doesn&rsquo;t matter              no  \n",
       "59944     leo and it&rsquo;s fun to think about  trying to quit  \n",
       "59945  gemini and it&rsquo;s fun to think about       sometimes  \n",
       "\n",
       "[59946 rows x 10 columns]"
      ]
     },
     "metadata": {},
     "output_type": "display_data"
    },
    {
     "data": {
      "text/html": [
       "<div>\n",
       "<style scoped>\n",
       "    .dataframe tbody tr th:only-of-type {\n",
       "        vertical-align: middle;\n",
       "    }\n",
       "\n",
       "    .dataframe tbody tr th {\n",
       "        vertical-align: top;\n",
       "    }\n",
       "\n",
       "    .dataframe thead th {\n",
       "        text-align: right;\n",
       "    }\n",
       "</style>\n",
       "<table border=\"1\" class=\"dataframe\">\n",
       "  <thead>\n",
       "    <tr style=\"text-align: right;\">\n",
       "      <th></th>\n",
       "      <th>speaks</th>\n",
       "      <th>essay0</th>\n",
       "      <th>essay1</th>\n",
       "      <th>essay2</th>\n",
       "      <th>essay3</th>\n",
       "      <th>essay4</th>\n",
       "      <th>essay5</th>\n",
       "      <th>essay6</th>\n",
       "      <th>essay7</th>\n",
       "      <th>essay8</th>\n",
       "      <th>essay9</th>\n",
       "    </tr>\n",
       "  </thead>\n",
       "  <tbody>\n",
       "    <tr>\n",
       "      <th>0</th>\n",
       "      <td>english</td>\n",
       "      <td>about me:  i would love to think that i was so...</td>\n",
       "      <td>currently working as an international agent fo...</td>\n",
       "      <td>making people laugh. ranting about a good salt...</td>\n",
       "      <td>the way i look. i am a six foot half asian, ha...</td>\n",
       "      <td>books: absurdistan, the republic, of mice and ...</td>\n",
       "      <td>food. water. cell phone. shelter.</td>\n",
       "      <td>duality and humorous things</td>\n",
       "      <td>trying to find someone to hang out with. i am ...</td>\n",
       "      <td>i am new to california and looking for someone...</td>\n",
       "      <td>you want to be swept off your feet! you are ti...</td>\n",
       "    </tr>\n",
       "    <tr>\n",
       "      <th>1</th>\n",
       "      <td>english (fluently), spanish (poorly), french (...</td>\n",
       "      <td>i am a chef: this is what that means. 1. i am ...</td>\n",
       "      <td>dedicating everyday to being an unbelievable b...</td>\n",
       "      <td>being silly. having ridiculous amonts of fun w...</td>\n",
       "      <td>NaN</td>\n",
       "      <td>i am die hard christopher moore fan. i don't r...</td>\n",
       "      <td>delicious porkness in all of its glories. my b...</td>\n",
       "      <td>NaN</td>\n",
       "      <td>NaN</td>\n",
       "      <td>i am very open and will share just about anyth...</td>\n",
       "      <td>NaN</td>\n",
       "    </tr>\n",
       "    <tr>\n",
       "      <th>2</th>\n",
       "      <td>english, french, c++</td>\n",
       "      <td>i'm not ashamed of much, but writing public te...</td>\n",
       "      <td>i make nerdy software for musicians, artists, ...</td>\n",
       "      <td>improvising in different contexts. alternating...</td>\n",
       "      <td>my large jaw and large glasses are the physica...</td>\n",
       "      <td>okay this is where the cultural matrix gets so...</td>\n",
       "      <td>movement conversation creation contemplation t...</td>\n",
       "      <td>NaN</td>\n",
       "      <td>viewing. listening. dancing. talking. drinking...</td>\n",
       "      <td>when i was five years old, i was known as \"the...</td>\n",
       "      <td>you are bright, open, intense, silly, ironic, ...</td>\n",
       "    </tr>\n",
       "    <tr>\n",
       "      <th>3</th>\n",
       "      <td>english, german (poorly)</td>\n",
       "      <td>i work in a library and go to school. . .</td>\n",
       "      <td>reading things written by old dead people</td>\n",
       "      <td>playing synthesizers and organizing books acco...</td>\n",
       "      <td>socially awkward but i do my best</td>\n",
       "      <td>bataille, celine, beckett. . . lynch, jarmusch...</td>\n",
       "      <td>NaN</td>\n",
       "      <td>cats and german philosophy</td>\n",
       "      <td>NaN</td>\n",
       "      <td>NaN</td>\n",
       "      <td>you feel so inclined.</td>\n",
       "    </tr>\n",
       "    <tr>\n",
       "      <th>4</th>\n",
       "      <td>english</td>\n",
       "      <td>hey how's it going? currently vague on the pro...</td>\n",
       "      <td>work work work work + play</td>\n",
       "      <td>creating imagery to look at: http://bagsbrown....</td>\n",
       "      <td>i smile a lot and my inquisitive nature</td>\n",
       "      <td>music: bands, rappers, musicians at the moment...</td>\n",
       "      <td>NaN</td>\n",
       "      <td>NaN</td>\n",
       "      <td>NaN</td>\n",
       "      <td>NaN</td>\n",
       "      <td>NaN</td>\n",
       "    </tr>\n",
       "    <tr>\n",
       "      <th>...</th>\n",
       "      <td>...</td>\n",
       "      <td>...</td>\n",
       "      <td>...</td>\n",
       "      <td>...</td>\n",
       "      <td>...</td>\n",
       "      <td>...</td>\n",
       "      <td>...</td>\n",
       "      <td>...</td>\n",
       "      <td>...</td>\n",
       "      <td>...</td>\n",
       "      <td>...</td>\n",
       "    </tr>\n",
       "    <tr>\n",
       "      <th>59941</th>\n",
       "      <td>english</td>\n",
       "      <td>vibrant, expressive, caring optimist. i love b...</td>\n",
       "      <td>the happiest times have been when life came to...</td>\n",
       "      <td>i make an outstanding osso bucco. i am also ve...</td>\n",
       "      <td>i am told that people notice my smile, eyes an...</td>\n",
       "      <td>i am an avid movie watcher and follow the broa...</td>\n",
       "      <td>my family, my dog, italy, words and music!</td>\n",
       "      <td>writing my book.</td>\n",
       "      <td>running with my dog, finishing up the work wee...</td>\n",
       "      <td>i have a dream to sing at the alconquin in nyc...</td>\n",
       "      <td>you are seeking a long term connection of shar...</td>\n",
       "    </tr>\n",
       "    <tr>\n",
       "      <th>59942</th>\n",
       "      <td>english (fluently)</td>\n",
       "      <td>i'm nick. i never know what to write about mys...</td>\n",
       "      <td>currently finishing school for film production...</td>\n",
       "      <td>filmmaking, photography, graphic design, web d...</td>\n",
       "      <td>dude, i don't know.</td>\n",
       "      <td>movies: hook (the greatest adventure ever!), g...</td>\n",
       "      <td>iphone contact lenses headphones camera tv rem...</td>\n",
       "      <td>i do most of my thinking on the bus to/from wo...</td>\n",
       "      <td>bringin' home bacon, or drinking and shakin'!</td>\n",
       "      <td>when i was 18 i got a tattoo of waldo somewher...</td>\n",
       "      <td>meh if you made it this far you might as well.</td>\n",
       "    </tr>\n",
       "    <tr>\n",
       "      <th>59943</th>\n",
       "      <td>english (fluently)</td>\n",
       "      <td>hello! i enjoy traveling, watching movies, and...</td>\n",
       "      <td>i'm a civil engineer, who enjoys helping the c...</td>\n",
       "      <td>- looking at things objectively - getting thin...</td>\n",
       "      <td>i'm quiet until i get used to the environment ...</td>\n",
       "      <td>last book: \"game change\". movies: bourne serie...</td>\n",
       "      <td>- iphone - friends and family - internet - bay...</td>\n",
       "      <td>aside from work, how to improve my home.</td>\n",
       "      <td>out enjoying friendly conversation over dinner.</td>\n",
       "      <td>please let me think about this more.</td>\n",
       "      <td>we have similar interests.</td>\n",
       "    </tr>\n",
       "    <tr>\n",
       "      <th>59944</th>\n",
       "      <td>english (fluently), spanish (poorly), chinese ...</td>\n",
       "      <td>\"all i have in this world are my balls and my ...</td>\n",
       "      <td>following my dreams... \"you got a dream... you...</td>\n",
       "      <td>listening</td>\n",
       "      <td>it used to be the hair until i mowed it off bu...</td>\n",
       "      <td>where to begin musically: right now i listen t...</td>\n",
       "      <td>music, family, friends, a basketball, hoop, so...</td>\n",
       "      <td>what can i do to make someone chuckle....</td>\n",
       "      <td>what i would do on any other day. everydays a ...</td>\n",
       "      <td>i like walking around in other people's house ...</td>\n",
       "      <td>you are interested and interesting...</td>\n",
       "    </tr>\n",
       "    <tr>\n",
       "      <th>59945</th>\n",
       "      <td>english</td>\n",
       "      <td>is it odd that having a little \"enemy\" status ...</td>\n",
       "      <td>i work with elderly people (psychotherapy and ...</td>\n",
       "      <td>i'm a great bullshitter. i don't know what it ...</td>\n",
       "      <td>either that i am funny/sarcastic, or that i am...</td>\n",
       "      <td>i just read the help by kathryn stockett, sooo...</td>\n",
       "      <td>1. family &amp; friends &amp; other humans - interacti...</td>\n",
       "      <td>sex, myself, other people, how amazing everyth...</td>\n",
       "      <td>out at happy hour with my friends, running int...</td>\n",
       "      <td>i wish i could cry like holly hunter in broadc...</td>\n",
       "      <td>if you have a back-bone, an opinion, a sense o...</td>\n",
       "    </tr>\n",
       "  </tbody>\n",
       "</table>\n",
       "<p>59946 rows × 11 columns</p>\n",
       "</div>"
      ],
      "text/plain": [
       "                                                  speaks  \\\n",
       "0                                                english   \n",
       "1      english (fluently), spanish (poorly), french (...   \n",
       "2                                   english, french, c++   \n",
       "3                               english, german (poorly)   \n",
       "4                                                english   \n",
       "...                                                  ...   \n",
       "59941                                            english   \n",
       "59942                                 english (fluently)   \n",
       "59943                                 english (fluently)   \n",
       "59944  english (fluently), spanish (poorly), chinese ...   \n",
       "59945                                            english   \n",
       "\n",
       "                                                  essay0  \\\n",
       "0      about me:  i would love to think that i was so...   \n",
       "1      i am a chef: this is what that means. 1. i am ...   \n",
       "2      i'm not ashamed of much, but writing public te...   \n",
       "3              i work in a library and go to school. . .   \n",
       "4      hey how's it going? currently vague on the pro...   \n",
       "...                                                  ...   \n",
       "59941  vibrant, expressive, caring optimist. i love b...   \n",
       "59942  i'm nick. i never know what to write about mys...   \n",
       "59943  hello! i enjoy traveling, watching movies, and...   \n",
       "59944  \"all i have in this world are my balls and my ...   \n",
       "59945  is it odd that having a little \"enemy\" status ...   \n",
       "\n",
       "                                                  essay1  \\\n",
       "0      currently working as an international agent fo...   \n",
       "1      dedicating everyday to being an unbelievable b...   \n",
       "2      i make nerdy software for musicians, artists, ...   \n",
       "3              reading things written by old dead people   \n",
       "4                             work work work work + play   \n",
       "...                                                  ...   \n",
       "59941  the happiest times have been when life came to...   \n",
       "59942  currently finishing school for film production...   \n",
       "59943  i'm a civil engineer, who enjoys helping the c...   \n",
       "59944  following my dreams... \"you got a dream... you...   \n",
       "59945  i work with elderly people (psychotherapy and ...   \n",
       "\n",
       "                                                  essay2  \\\n",
       "0      making people laugh. ranting about a good salt...   \n",
       "1      being silly. having ridiculous amonts of fun w...   \n",
       "2      improvising in different contexts. alternating...   \n",
       "3      playing synthesizers and organizing books acco...   \n",
       "4      creating imagery to look at: http://bagsbrown....   \n",
       "...                                                  ...   \n",
       "59941  i make an outstanding osso bucco. i am also ve...   \n",
       "59942  filmmaking, photography, graphic design, web d...   \n",
       "59943  - looking at things objectively - getting thin...   \n",
       "59944                                          listening   \n",
       "59945  i'm a great bullshitter. i don't know what it ...   \n",
       "\n",
       "                                                  essay3  \\\n",
       "0      the way i look. i am a six foot half asian, ha...   \n",
       "1                                                    NaN   \n",
       "2      my large jaw and large glasses are the physica...   \n",
       "3                      socially awkward but i do my best   \n",
       "4                i smile a lot and my inquisitive nature   \n",
       "...                                                  ...   \n",
       "59941  i am told that people notice my smile, eyes an...   \n",
       "59942                                dude, i don't know.   \n",
       "59943  i'm quiet until i get used to the environment ...   \n",
       "59944  it used to be the hair until i mowed it off bu...   \n",
       "59945  either that i am funny/sarcastic, or that i am...   \n",
       "\n",
       "                                                  essay4  \\\n",
       "0      books: absurdistan, the republic, of mice and ...   \n",
       "1      i am die hard christopher moore fan. i don't r...   \n",
       "2      okay this is where the cultural matrix gets so...   \n",
       "3      bataille, celine, beckett. . . lynch, jarmusch...   \n",
       "4      music: bands, rappers, musicians at the moment...   \n",
       "...                                                  ...   \n",
       "59941  i am an avid movie watcher and follow the broa...   \n",
       "59942  movies: hook (the greatest adventure ever!), g...   \n",
       "59943  last book: \"game change\". movies: bourne serie...   \n",
       "59944  where to begin musically: right now i listen t...   \n",
       "59945  i just read the help by kathryn stockett, sooo...   \n",
       "\n",
       "                                                  essay5  \\\n",
       "0                      food. water. cell phone. shelter.   \n",
       "1      delicious porkness in all of its glories. my b...   \n",
       "2      movement conversation creation contemplation t...   \n",
       "3                                                    NaN   \n",
       "4                                                    NaN   \n",
       "...                                                  ...   \n",
       "59941         my family, my dog, italy, words and music!   \n",
       "59942  iphone contact lenses headphones camera tv rem...   \n",
       "59943  - iphone - friends and family - internet - bay...   \n",
       "59944  music, family, friends, a basketball, hoop, so...   \n",
       "59945  1. family & friends & other humans - interacti...   \n",
       "\n",
       "                                                  essay6  \\\n",
       "0                            duality and humorous things   \n",
       "1                                                    NaN   \n",
       "2                                                    NaN   \n",
       "3                             cats and german philosophy   \n",
       "4                                                    NaN   \n",
       "...                                                  ...   \n",
       "59941                                   writing my book.   \n",
       "59942  i do most of my thinking on the bus to/from wo...   \n",
       "59943           aside from work, how to improve my home.   \n",
       "59944          what can i do to make someone chuckle....   \n",
       "59945  sex, myself, other people, how amazing everyth...   \n",
       "\n",
       "                                                  essay7  \\\n",
       "0      trying to find someone to hang out with. i am ...   \n",
       "1                                                    NaN   \n",
       "2      viewing. listening. dancing. talking. drinking...   \n",
       "3                                                    NaN   \n",
       "4                                                    NaN   \n",
       "...                                                  ...   \n",
       "59941  running with my dog, finishing up the work wee...   \n",
       "59942      bringin' home bacon, or drinking and shakin'!   \n",
       "59943    out enjoying friendly conversation over dinner.   \n",
       "59944  what i would do on any other day. everydays a ...   \n",
       "59945  out at happy hour with my friends, running int...   \n",
       "\n",
       "                                                  essay8  \\\n",
       "0      i am new to california and looking for someone...   \n",
       "1      i am very open and will share just about anyth...   \n",
       "2      when i was five years old, i was known as \"the...   \n",
       "3                                                    NaN   \n",
       "4                                                    NaN   \n",
       "...                                                  ...   \n",
       "59941  i have a dream to sing at the alconquin in nyc...   \n",
       "59942  when i was 18 i got a tattoo of waldo somewher...   \n",
       "59943               please let me think about this more.   \n",
       "59944  i like walking around in other people's house ...   \n",
       "59945  i wish i could cry like holly hunter in broadc...   \n",
       "\n",
       "                                                  essay9  \n",
       "0      you want to be swept off your feet! you are ti...  \n",
       "1                                                    NaN  \n",
       "2      you are bright, open, intense, silly, ironic, ...  \n",
       "3                                  you feel so inclined.  \n",
       "4                                                    NaN  \n",
       "...                                                  ...  \n",
       "59941  you are seeking a long term connection of shar...  \n",
       "59942     meh if you made it this far you might as well.  \n",
       "59943                         we have similar interests.  \n",
       "59944              you are interested and interesting...  \n",
       "59945  if you have a back-bone, an opinion, a sense o...  \n",
       "\n",
       "[59946 rows x 11 columns]"
      ]
     },
     "metadata": {},
     "output_type": "display_data"
    }
   ],
   "source": [
    "pd.set_option(\"display.max_columns\", 50)\n",
    "df = pd.read_csv(os.path.join(DATA_PATH, \"okcupid_profiles.csv\"))\n",
    "display(df.iloc[:, :10])\n",
    "display(df.iloc[:, 10:20])\n",
    "display(df.iloc[:, 20:31])"
   ]
  },
  {
   "cell_type": "markdown",
   "metadata": {},
   "source": [
    "Vamos a asegurarnos de que los tipos de datos son los correctos."
   ]
  },
  {
   "cell_type": "code",
   "execution_count": 6,
   "metadata": {
    "ExecuteTime": {
     "end_time": "2021-01-13T17:22:50.573005Z",
     "start_time": "2021-01-13T17:22:50.549737Z"
    }
   },
   "outputs": [
    {
     "data": {
      "text/html": [
       "<div>\n",
       "<style scoped>\n",
       "    .dataframe tbody tr th:only-of-type {\n",
       "        vertical-align: middle;\n",
       "    }\n",
       "\n",
       "    .dataframe tbody tr th {\n",
       "        vertical-align: top;\n",
       "    }\n",
       "\n",
       "    .dataframe thead th {\n",
       "        text-align: right;\n",
       "    }\n",
       "</style>\n",
       "<table border=\"1\" class=\"dataframe\">\n",
       "  <thead>\n",
       "    <tr style=\"text-align: right;\">\n",
       "      <th></th>\n",
       "      <th>0</th>\n",
       "    </tr>\n",
       "  </thead>\n",
       "  <tbody>\n",
       "    <tr>\n",
       "      <th>age</th>\n",
       "      <td>int64</td>\n",
       "    </tr>\n",
       "    <tr>\n",
       "      <th>status</th>\n",
       "      <td>object</td>\n",
       "    </tr>\n",
       "    <tr>\n",
       "      <th>sex</th>\n",
       "      <td>object</td>\n",
       "    </tr>\n",
       "    <tr>\n",
       "      <th>orientation</th>\n",
       "      <td>object</td>\n",
       "    </tr>\n",
       "    <tr>\n",
       "      <th>body_type</th>\n",
       "      <td>object</td>\n",
       "    </tr>\n",
       "    <tr>\n",
       "      <th>diet</th>\n",
       "      <td>object</td>\n",
       "    </tr>\n",
       "    <tr>\n",
       "      <th>drinks</th>\n",
       "      <td>object</td>\n",
       "    </tr>\n",
       "    <tr>\n",
       "      <th>drugs</th>\n",
       "      <td>object</td>\n",
       "    </tr>\n",
       "    <tr>\n",
       "      <th>education</th>\n",
       "      <td>object</td>\n",
       "    </tr>\n",
       "    <tr>\n",
       "      <th>ethnicity</th>\n",
       "      <td>object</td>\n",
       "    </tr>\n",
       "    <tr>\n",
       "      <th>height</th>\n",
       "      <td>float64</td>\n",
       "    </tr>\n",
       "    <tr>\n",
       "      <th>income</th>\n",
       "      <td>int64</td>\n",
       "    </tr>\n",
       "    <tr>\n",
       "      <th>job</th>\n",
       "      <td>object</td>\n",
       "    </tr>\n",
       "    <tr>\n",
       "      <th>last_online</th>\n",
       "      <td>object</td>\n",
       "    </tr>\n",
       "    <tr>\n",
       "      <th>location</th>\n",
       "      <td>object</td>\n",
       "    </tr>\n",
       "    <tr>\n",
       "      <th>offspring</th>\n",
       "      <td>object</td>\n",
       "    </tr>\n",
       "    <tr>\n",
       "      <th>pets</th>\n",
       "      <td>object</td>\n",
       "    </tr>\n",
       "    <tr>\n",
       "      <th>religion</th>\n",
       "      <td>object</td>\n",
       "    </tr>\n",
       "    <tr>\n",
       "      <th>sign</th>\n",
       "      <td>object</td>\n",
       "    </tr>\n",
       "    <tr>\n",
       "      <th>smokes</th>\n",
       "      <td>object</td>\n",
       "    </tr>\n",
       "    <tr>\n",
       "      <th>speaks</th>\n",
       "      <td>object</td>\n",
       "    </tr>\n",
       "    <tr>\n",
       "      <th>essay0</th>\n",
       "      <td>object</td>\n",
       "    </tr>\n",
       "    <tr>\n",
       "      <th>essay1</th>\n",
       "      <td>object</td>\n",
       "    </tr>\n",
       "    <tr>\n",
       "      <th>essay2</th>\n",
       "      <td>object</td>\n",
       "    </tr>\n",
       "    <tr>\n",
       "      <th>essay3</th>\n",
       "      <td>object</td>\n",
       "    </tr>\n",
       "    <tr>\n",
       "      <th>essay4</th>\n",
       "      <td>object</td>\n",
       "    </tr>\n",
       "    <tr>\n",
       "      <th>essay5</th>\n",
       "      <td>object</td>\n",
       "    </tr>\n",
       "    <tr>\n",
       "      <th>essay6</th>\n",
       "      <td>object</td>\n",
       "    </tr>\n",
       "    <tr>\n",
       "      <th>essay7</th>\n",
       "      <td>object</td>\n",
       "    </tr>\n",
       "    <tr>\n",
       "      <th>essay8</th>\n",
       "      <td>object</td>\n",
       "    </tr>\n",
       "    <tr>\n",
       "      <th>essay9</th>\n",
       "      <td>object</td>\n",
       "    </tr>\n",
       "  </tbody>\n",
       "</table>\n",
       "</div>"
      ],
      "text/plain": [
       "                   0\n",
       "age            int64\n",
       "status        object\n",
       "sex           object\n",
       "orientation   object\n",
       "body_type     object\n",
       "diet          object\n",
       "drinks        object\n",
       "drugs         object\n",
       "education     object\n",
       "ethnicity     object\n",
       "height       float64\n",
       "income         int64\n",
       "job           object\n",
       "last_online   object\n",
       "location      object\n",
       "offspring     object\n",
       "pets          object\n",
       "religion      object\n",
       "sign          object\n",
       "smokes        object\n",
       "speaks        object\n",
       "essay0        object\n",
       "essay1        object\n",
       "essay2        object\n",
       "essay3        object\n",
       "essay4        object\n",
       "essay5        object\n",
       "essay6        object\n",
       "essay7        object\n",
       "essay8        object\n",
       "essay9        object"
      ]
     },
     "execution_count": 6,
     "metadata": {},
     "output_type": "execute_result"
    }
   ],
   "source": [
    "pd.DataFrame(df.dtypes)"
   ]
  },
  {
   "cell_type": "markdown",
   "metadata": {},
   "source": [
    "Los valores numéricos aparecen como tal. Los valores categóricos o de texto aparecen como `object`, lo cual es aceptable y podemos trabajar con ello. No queremos pasarlo a `str` aún porque puede haber valores `NaN` que se convertirían en el string `'nan'`, y nos daría problemas.\n",
    "\n",
    "La columna `last_online` es una fecha, y como tal podría convertirse a un tipo `datetime`. Sin embargo, considerando la naturaleza del problema (queremos agrupar perfiles de personalidades similares), creemos que esta columna no será relevante a la hora de decidir si dos personas se parecen. Por eso, vamos a eliminar la columna `last_online`. Con esta decisión reducimos el volumen de datos y nos centramos en las columnas numéricas y categóricas que aportan información sobre la personalidad, preferencias o apariencia física de una persona."
   ]
  },
  {
   "cell_type": "code",
   "execution_count": 7,
   "metadata": {
    "ExecuteTime": {
     "end_time": "2021-01-13T17:22:51.205989Z",
     "start_time": "2021-01-13T17:22:50.580968Z"
    }
   },
   "outputs": [],
   "source": [
    "df.drop(columns=[\"last_online\"], inplace=True)"
   ]
  },
  {
   "cell_type": "markdown",
   "metadata": {},
   "source": [
    "Con respecto al resto de variables, parece que tenemos tres tipos de variables principales: las variables numéricas, las categóricas y las de texto. Consideramos que las de texto son únicamente las variables `essay0`-`essay9`, que son de texto libre puro. Aunque parezca que otras variables de tipo `object` son texto, observando con cuidado se puede ver que todas tienen una cierta estructura (posiblemente sacada de un formulario con un número de opciones finito) y por tanto son categóricas."
   ]
  },
  {
   "cell_type": "code",
   "execution_count": 8,
   "metadata": {
    "ExecuteTime": {
     "end_time": "2021-01-13T17:22:51.273464Z",
     "start_time": "2021-01-13T17:22:51.208249Z"
    }
   },
   "outputs": [],
   "source": [
    "numerical_vars = [\"age\", \"height\", \"income\"]\n",
    "categorical_vars = [\n",
    "    \"status\", \"sex\", \"orientation\", \"body_type\", \"diet\", \"drinks\", \"drugs\",\n",
    "    \"education\", \"ethnicity\", \"job\", \"location\", \"offspring\", \"pets\",\n",
    "    \"religion\", \"sign\", \"smokes\", \"speaks\"\n",
    "]\n",
    "text_vars = [f\"essay{i}\" for i in range(10)]"
   ]
  },
  {
   "cell_type": "markdown",
   "metadata": {},
   "source": [
    "Ya que el número de *features* totales es bastante alto, hemos decidido mezclar las fases de análisis y preprocesamiento dividiendo por *feature*. Durante el análisis de una *feature* particular se decidirá cómo preprocesarla y se preparará un transformador que ejecutaremos posteriormente.\n",
    "\n",
    "Estos transformadores que iremos declarando serán compatibles con la API de *scikit-learn* y por tanto implementarán los métodos `fit` y `transform`. De esta manera conseguimos una estructura modular mantenible. Ejecutaremos el pipeline completo una sola vez, al final del preprocesamiento."
   ]
  },
  {
   "cell_type": "markdown",
   "metadata": {},
   "source": [
    "## 2.1 Variables numéricas"
   ]
  },
  {
   "cell_type": "markdown",
   "metadata": {},
   "source": [
    "En primer lugar vamos a echar un vistazo a los estadísticos descriptivos de las variables numéricas  para después abordar un análisis individual de cada una de ellas."
   ]
  },
  {
   "cell_type": "code",
   "execution_count": 9,
   "metadata": {
    "ExecuteTime": {
     "end_time": "2021-01-13T17:22:51.383934Z",
     "start_time": "2021-01-13T17:22:51.277537Z"
    }
   },
   "outputs": [
    {
     "data": {
      "text/html": [
       "<div>\n",
       "<style scoped>\n",
       "    .dataframe tbody tr th:only-of-type {\n",
       "        vertical-align: middle;\n",
       "    }\n",
       "\n",
       "    .dataframe tbody tr th {\n",
       "        vertical-align: top;\n",
       "    }\n",
       "\n",
       "    .dataframe thead th {\n",
       "        text-align: right;\n",
       "    }\n",
       "</style>\n",
       "<table border=\"1\" class=\"dataframe\">\n",
       "  <thead>\n",
       "    <tr style=\"text-align: right;\">\n",
       "      <th></th>\n",
       "      <th>age</th>\n",
       "      <th>height</th>\n",
       "      <th>income</th>\n",
       "    </tr>\n",
       "  </thead>\n",
       "  <tbody>\n",
       "    <tr>\n",
       "      <th>count</th>\n",
       "      <td>59946.000000</td>\n",
       "      <td>59943.000000</td>\n",
       "      <td>59946.000000</td>\n",
       "    </tr>\n",
       "    <tr>\n",
       "      <th>mean</th>\n",
       "      <td>32.340290</td>\n",
       "      <td>68.295281</td>\n",
       "      <td>20033.222534</td>\n",
       "    </tr>\n",
       "    <tr>\n",
       "      <th>std</th>\n",
       "      <td>9.452779</td>\n",
       "      <td>3.994803</td>\n",
       "      <td>97346.192104</td>\n",
       "    </tr>\n",
       "    <tr>\n",
       "      <th>min</th>\n",
       "      <td>18.000000</td>\n",
       "      <td>1.000000</td>\n",
       "      <td>-1.000000</td>\n",
       "    </tr>\n",
       "    <tr>\n",
       "      <th>25%</th>\n",
       "      <td>26.000000</td>\n",
       "      <td>66.000000</td>\n",
       "      <td>-1.000000</td>\n",
       "    </tr>\n",
       "    <tr>\n",
       "      <th>50%</th>\n",
       "      <td>30.000000</td>\n",
       "      <td>68.000000</td>\n",
       "      <td>-1.000000</td>\n",
       "    </tr>\n",
       "    <tr>\n",
       "      <th>75%</th>\n",
       "      <td>37.000000</td>\n",
       "      <td>71.000000</td>\n",
       "      <td>-1.000000</td>\n",
       "    </tr>\n",
       "    <tr>\n",
       "      <th>max</th>\n",
       "      <td>110.000000</td>\n",
       "      <td>95.000000</td>\n",
       "      <td>1000000.000000</td>\n",
       "    </tr>\n",
       "  </tbody>\n",
       "</table>\n",
       "</div>"
      ],
      "text/plain": [
       "                age        height          income\n",
       "count  59946.000000  59943.000000    59946.000000\n",
       "mean      32.340290     68.295281    20033.222534\n",
       "std        9.452779      3.994803    97346.192104\n",
       "min       18.000000      1.000000       -1.000000\n",
       "25%       26.000000     66.000000       -1.000000\n",
       "50%       30.000000     68.000000       -1.000000\n",
       "75%       37.000000     71.000000       -1.000000\n",
       "max      110.000000     95.000000  1000000.000000"
      ]
     },
     "execution_count": 9,
     "metadata": {},
     "output_type": "execute_result"
    }
   ],
   "source": [
    "df[numerical_vars].describe()"
   ]
  },
  {
   "cell_type": "markdown",
   "metadata": {},
   "source": [
    "En este punto ya podemos observar como hay algunos datos numéricos un tanto extraños:\n",
    "* La altura parece estar en pulgadas, *inches*. La altura media de un ser humano en pulgadas es 68, correspondiente con 172 cm. En este sentido vemos que la altura mínima es 1 pulgada y que la máxima es de 95 (241 cm). Según la lista de personas más altas de la historia publicada en Wikipedia \\[1\\], una altura de 90 pulgadas (230 cm) ya es algo inaudito. Por otro lado, la altura mínima es 1 pulgada, dato claramente erróneo.\n",
    "* La edad máxima es 110, lo cual hace dudar que sea un dato correcto. Posiblemente esta edad corresponda con personas que no quieren compartir su edad verdadera.\n",
    "* Los ingresos llaman la atención en tanto que el ingreso mínimo es -1 y el percentil 75 también es -1. Esto indica que al menos el 75% de los usuarios de la aplicación no han querido decir sus ingresos."
   ]
  },
  {
   "cell_type": "markdown",
   "metadata": {},
   "source": [
    "A continuación evaluaremos cada una de estas variables por separado."
   ]
  },
  {
   "cell_type": "markdown",
   "metadata": {},
   "source": [
    "### 2.1.1 Altura"
   ]
  },
  {
   "cell_type": "markdown",
   "metadata": {},
   "source": [
    "#### 2.1.1.1 Análisis de valores nulos"
   ]
  },
  {
   "cell_type": "markdown",
   "metadata": {},
   "source": [
    "En primer lugar, vamos a ver si tenemos valores nulos en la altura."
   ]
  },
  {
   "cell_type": "code",
   "execution_count": 10,
   "metadata": {
    "ExecuteTime": {
     "end_time": "2021-01-13T17:22:51.416015Z",
     "start_time": "2021-01-13T17:22:51.387881Z"
    }
   },
   "outputs": [
    {
     "data": {
      "text/plain": [
       "True"
      ]
     },
     "execution_count": 10,
     "metadata": {},
     "output_type": "execute_result"
    }
   ],
   "source": [
    "any(df[\"height\"].isnull())"
   ]
  },
  {
   "cell_type": "code",
   "execution_count": 11,
   "metadata": {
    "ExecuteTime": {
     "end_time": "2021-01-13T17:22:51.534796Z",
     "start_time": "2021-01-13T17:22:51.418434Z"
    }
   },
   "outputs": [
    {
     "data": {
      "text/html": [
       "<div>\n",
       "<style scoped>\n",
       "    .dataframe tbody tr th:only-of-type {\n",
       "        vertical-align: middle;\n",
       "    }\n",
       "\n",
       "    .dataframe tbody tr th {\n",
       "        vertical-align: top;\n",
       "    }\n",
       "\n",
       "    .dataframe thead th {\n",
       "        text-align: right;\n",
       "    }\n",
       "</style>\n",
       "<table border=\"1\" class=\"dataframe\">\n",
       "  <thead>\n",
       "    <tr style=\"text-align: right;\">\n",
       "      <th></th>\n",
       "      <th>age</th>\n",
       "      <th>status</th>\n",
       "      <th>sex</th>\n",
       "      <th>orientation</th>\n",
       "      <th>body_type</th>\n",
       "      <th>diet</th>\n",
       "      <th>drinks</th>\n",
       "      <th>drugs</th>\n",
       "      <th>education</th>\n",
       "      <th>ethnicity</th>\n",
       "      <th>height</th>\n",
       "      <th>income</th>\n",
       "      <th>job</th>\n",
       "      <th>location</th>\n",
       "      <th>offspring</th>\n",
       "      <th>pets</th>\n",
       "      <th>religion</th>\n",
       "      <th>sign</th>\n",
       "      <th>smokes</th>\n",
       "      <th>speaks</th>\n",
       "      <th>essay0</th>\n",
       "      <th>essay1</th>\n",
       "      <th>essay2</th>\n",
       "      <th>essay3</th>\n",
       "      <th>essay4</th>\n",
       "      <th>essay5</th>\n",
       "      <th>essay6</th>\n",
       "      <th>essay7</th>\n",
       "      <th>essay8</th>\n",
       "      <th>essay9</th>\n",
       "    </tr>\n",
       "  </thead>\n",
       "  <tbody>\n",
       "    <tr>\n",
       "      <th>36428</th>\n",
       "      <td>32</td>\n",
       "      <td>single</td>\n",
       "      <td>f</td>\n",
       "      <td>straight</td>\n",
       "      <td>NaN</td>\n",
       "      <td>NaN</td>\n",
       "      <td>NaN</td>\n",
       "      <td>NaN</td>\n",
       "      <td>NaN</td>\n",
       "      <td>other</td>\n",
       "      <td>NaN</td>\n",
       "      <td>-1</td>\n",
       "      <td>artistic / musical / writer</td>\n",
       "      <td>berkeley, california</td>\n",
       "      <td>NaN</td>\n",
       "      <td>NaN</td>\n",
       "      <td>NaN</td>\n",
       "      <td>NaN</td>\n",
       "      <td>NaN</td>\n",
       "      <td>english (fluently), german (fluently)</td>\n",
       "      <td>NaN</td>\n",
       "      <td>NaN</td>\n",
       "      <td>NaN</td>\n",
       "      <td>NaN</td>\n",
       "      <td>thomas bernhard, foucault, annie hall, taxi dr...</td>\n",
       "      <td>NaN</td>\n",
       "      <td>consciousness</td>\n",
       "      <td>NaN</td>\n",
       "      <td>i passionately hate liars!</td>\n",
       "      <td>you know what my user name means and if you ar...</td>\n",
       "    </tr>\n",
       "    <tr>\n",
       "      <th>54002</th>\n",
       "      <td>25</td>\n",
       "      <td>single</td>\n",
       "      <td>m</td>\n",
       "      <td>straight</td>\n",
       "      <td>NaN</td>\n",
       "      <td>NaN</td>\n",
       "      <td>NaN</td>\n",
       "      <td>never</td>\n",
       "      <td>NaN</td>\n",
       "      <td>hispanic / latin</td>\n",
       "      <td>NaN</td>\n",
       "      <td>-1</td>\n",
       "      <td>NaN</td>\n",
       "      <td>guadalajara, mexico</td>\n",
       "      <td>NaN</td>\n",
       "      <td>NaN</td>\n",
       "      <td>NaN</td>\n",
       "      <td>aries</td>\n",
       "      <td>NaN</td>\n",
       "      <td>english</td>\n",
       "      <td>NaN</td>\n",
       "      <td>NaN</td>\n",
       "      <td>NaN</td>\n",
       "      <td>NaN</td>\n",
       "      <td>NaN</td>\n",
       "      <td>NaN</td>\n",
       "      <td>NaN</td>\n",
       "      <td>NaN</td>\n",
       "      <td>NaN</td>\n",
       "      <td>NaN</td>\n",
       "    </tr>\n",
       "    <tr>\n",
       "      <th>58983</th>\n",
       "      <td>49</td>\n",
       "      <td>single</td>\n",
       "      <td>m</td>\n",
       "      <td>straight</td>\n",
       "      <td>NaN</td>\n",
       "      <td>NaN</td>\n",
       "      <td>NaN</td>\n",
       "      <td>NaN</td>\n",
       "      <td>NaN</td>\n",
       "      <td>NaN</td>\n",
       "      <td>NaN</td>\n",
       "      <td>-1</td>\n",
       "      <td>NaN</td>\n",
       "      <td>berkeley, california</td>\n",
       "      <td>doesn't have kids</td>\n",
       "      <td>likes cats</td>\n",
       "      <td>NaN</td>\n",
       "      <td>NaN</td>\n",
       "      <td>no</td>\n",
       "      <td>english (fluently)</td>\n",
       "      <td>great guy, lots of positive attributes*, but s...</td>\n",
       "      <td>living it.  quite a bit more than that - more ...</td>\n",
       "      <td>lots, notably good, deep, excellent communicat...</td>\n",
       "      <td>some positive stuff, but i'll hold my tongue o...</td>\n",
       "      <td>lots.  not especially up to listing 'em here a...</td>\n",
       "      <td>1. damn good friend, or better 2. managing to ...</td>\n",
       "      <td>many things. maybe too much. not really up for...</td>\n",
       "      <td>at the moment, i'd rather not even say or thin...</td>\n",
       "      <td>i have a blog of much that's personal and priv...</td>\n",
       "      <td>you've good reason to think we'd like make at ...</td>\n",
       "    </tr>\n",
       "  </tbody>\n",
       "</table>\n",
       "</div>"
      ],
      "text/plain": [
       "       age  status sex orientation body_type diet drinks  drugs education  \\\n",
       "36428   32  single   f    straight       NaN  NaN    NaN    NaN       NaN   \n",
       "54002   25  single   m    straight       NaN  NaN    NaN  never       NaN   \n",
       "58983   49  single   m    straight       NaN  NaN    NaN    NaN       NaN   \n",
       "\n",
       "              ethnicity  height  income                          job  \\\n",
       "36428             other     NaN      -1  artistic / musical / writer   \n",
       "54002  hispanic / latin     NaN      -1                          NaN   \n",
       "58983               NaN     NaN      -1                          NaN   \n",
       "\n",
       "                   location          offspring        pets religion   sign  \\\n",
       "36428  berkeley, california                NaN         NaN      NaN    NaN   \n",
       "54002   guadalajara, mexico                NaN         NaN      NaN  aries   \n",
       "58983  berkeley, california  doesn't have kids  likes cats      NaN    NaN   \n",
       "\n",
       "      smokes                                 speaks  \\\n",
       "36428    NaN  english (fluently), german (fluently)   \n",
       "54002    NaN                                english   \n",
       "58983     no                     english (fluently)   \n",
       "\n",
       "                                                  essay0  \\\n",
       "36428                                                NaN   \n",
       "54002                                                NaN   \n",
       "58983  great guy, lots of positive attributes*, but s...   \n",
       "\n",
       "                                                  essay1  \\\n",
       "36428                                                NaN   \n",
       "54002                                                NaN   \n",
       "58983  living it.  quite a bit more than that - more ...   \n",
       "\n",
       "                                                  essay2  \\\n",
       "36428                                                NaN   \n",
       "54002                                                NaN   \n",
       "58983  lots, notably good, deep, excellent communicat...   \n",
       "\n",
       "                                                  essay3  \\\n",
       "36428                                                NaN   \n",
       "54002                                                NaN   \n",
       "58983  some positive stuff, but i'll hold my tongue o...   \n",
       "\n",
       "                                                  essay4  \\\n",
       "36428  thomas bernhard, foucault, annie hall, taxi dr...   \n",
       "54002                                                NaN   \n",
       "58983  lots.  not especially up to listing 'em here a...   \n",
       "\n",
       "                                                  essay5  \\\n",
       "36428                                                NaN   \n",
       "54002                                                NaN   \n",
       "58983  1. damn good friend, or better 2. managing to ...   \n",
       "\n",
       "                                                  essay6  \\\n",
       "36428                                      consciousness   \n",
       "54002                                                NaN   \n",
       "58983  many things. maybe too much. not really up for...   \n",
       "\n",
       "                                                  essay7  \\\n",
       "36428                                                NaN   \n",
       "54002                                                NaN   \n",
       "58983  at the moment, i'd rather not even say or thin...   \n",
       "\n",
       "                                                  essay8  \\\n",
       "36428                         i passionately hate liars!   \n",
       "54002                                                NaN   \n",
       "58983  i have a blog of much that's personal and priv...   \n",
       "\n",
       "                                                  essay9  \n",
       "36428  you know what my user name means and if you ar...  \n",
       "54002                                                NaN  \n",
       "58983  you've good reason to think we'd like make at ...  "
      ]
     },
     "execution_count": 11,
     "metadata": {},
     "output_type": "execute_result"
    }
   ],
   "source": [
    "df[df[\"height\"].isnull()]"
   ]
  },
  {
   "cell_type": "markdown",
   "metadata": {},
   "source": [
    "Parece que tenemos tres filas en las cuales nos falta la edad. Podríamos plantearnos utilizar un *imputer* para completar estas filas, pero si miramos el resto de *features* para estos tres individuos vemos que casi todas las columnas están vacías. Habría que rellenar todo con valores neutros, lo cual acabaría añadiendo más ruido que beneficio. Por eso, vamos a eliminar estas tres filas."
   ]
  },
  {
   "cell_type": "code",
   "execution_count": 12,
   "metadata": {
    "ExecuteTime": {
     "end_time": "2021-01-13T17:22:51.621308Z",
     "start_time": "2021-01-13T17:22:51.537651Z"
    }
   },
   "outputs": [],
   "source": [
    "df.drop(df[df[\"height\"].isnull()].index, inplace=True)"
   ]
  },
  {
   "cell_type": "markdown",
   "metadata": {},
   "source": [
    "#### 2.1.1.2 Análisis de valores anómalos"
   ]
  },
  {
   "cell_type": "markdown",
   "metadata": {},
   "source": [
    "A continuación, vamos a mostrar los datos de la altura recibidos mediante un histograma, así como los valores anómalos (que ya hemos visto que los hay) mediante un diagrama de caja y bigotes."
   ]
  },
  {
   "cell_type": "code",
   "execution_count": 13,
   "metadata": {
    "ExecuteTime": {
     "end_time": "2021-01-13T17:22:52.732668Z",
     "start_time": "2021-01-13T17:22:51.623750Z"
    }
   },
   "outputs": [
    {
     "data": {
      "image/png": "[encoded data removed]",
      "text/plain": [
       "<Figure size 1440x576 with 2 Axes>"
      ]
     },
     "metadata": {},
     "output_type": "display_data"
    }
   ],
   "source": [
    "fig, ax = plt.subplots(2, 1, figsize=(20, 8), sharex=True)\n",
    "plt.subplots_adjust(hspace=0)\n",
    "\n",
    "sns.boxplot(data=df[\"height\"], orient=\"horizontal\",\n",
    "            ax=ax[0], linewidth=2.5, color=\"darkorange\")\n",
    "ax[0].set_title(\"Histogram and boxplot for height\", fontdict={\"size\": 20, \"family\": \"Consolas\"})\n",
    "ax[0].set_yticks([])\n",
    "\n",
    "sns.histplot(data=df[\"height\"], bins=50, ax=ax[1],\n",
    "             linewidth=2.5, edgecolor=\"#555555\", color=\"steelblue\")\n",
    "ax[1].set_xticks(range(0, 100, 5))\n",
    "ax[1].set_xlabel(\"Height (in)\", fontdict={\"size\": 15, \"family\": \"Consolas\"})\n",
    "ax[1].set_ylabel(\"Count\", fontdict={\"size\": 15, \"family\": \"Consolas\"})\n",
    "\n",
    "\n",
    "plt.xticks(size=15)\n",
    "plt.yticks(size=15)\n",
    "plt.show()"
   ]
  },
  {
   "cell_type": "markdown",
   "metadata": {},
   "source": [
    "Podemos observar que los valores anómalos son abundantes en este caso. Vamos a ver qué valores son:"
   ]
  },
  {
   "cell_type": "code",
   "execution_count": 14,
   "metadata": {
    "ExecuteTime": {
     "end_time": "2021-01-13T17:22:52.792003Z",
     "start_time": "2021-01-13T17:22:52.746671Z"
    }
   },
   "outputs": [
    {
     "data": {
      "text/plain": [
       "72.0    5315\n",
       "73.0    2815\n",
       "74.0    2547\n",
       "75.0    1382\n",
       "76.0     783\n",
       "77.0     280\n",
       "78.0     132\n",
       "79.0      57\n",
       "80.0      27\n",
       "81.0      11\n",
       "82.0      11\n",
       "83.0      12\n",
       "84.0       9\n",
       "85.0       1\n",
       "86.0       1\n",
       "87.0       1\n",
       "88.0       2\n",
       "89.0       1\n",
       "90.0       1\n",
       "91.0       3\n",
       "92.0       1\n",
       "93.0       1\n",
       "94.0       3\n",
       "95.0      20\n",
       "Name: height, dtype: int64"
      ]
     },
     "execution_count": 14,
     "metadata": {},
     "output_type": "execute_result"
    }
   ],
   "source": [
    "df[df[\"height\"] > np.percentile(df[\"height\"], 75)][\"height\"].value_counts().sort_index()"
   ]
  },
  {
   "cell_type": "code",
   "execution_count": 15,
   "metadata": {
    "ExecuteTime": {
     "end_time": "2021-01-13T17:22:53.050281Z",
     "start_time": "2021-01-13T17:22:52.795382Z"
    }
   },
   "outputs": [
    {
     "data": {
      "text/plain": [
       "m    24\n",
       "f    10\n",
       "Name: sex, dtype: int64"
      ]
     },
     "execution_count": 15,
     "metadata": {},
     "output_type": "execute_result"
    }
   ],
   "source": [
    "df[df[\"height\"] > 85][\"sex\"].value_counts()"
   ]
  },
  {
   "cell_type": "markdown",
   "metadata": {},
   "source": [
    "En el caso de las personas muy altas, las alturas de 72-79 pulgadas (182-200 cm) parecen valores anómalos pero correctos, atendiendo al alto número de instancias. Por otra parte, hay 20 instancias que han dado 95 pulgadas, lo cual nos hace pensar que probablemente era el máximo valor permitido en el formulario y ha sido seleccionado por usuarios que han hecho cuentas falsas. Podemos tomar la decisión de eliminar las filas con alturas mayores de 85 pulgadas (215 cm). Las probabilidades de que sean valores reales son muy bajas en el caso de hombres, y sólo hay una mujer viva en el mundo que mida más de 215 cm, Sun Fang de China \\[1\\]. Por ello, eliminamos estos registros."
   ]
  },
  {
   "cell_type": "code",
   "execution_count": 16,
   "metadata": {
    "ExecuteTime": {
     "end_time": "2021-01-13T17:22:53.193039Z",
     "start_time": "2021-01-13T17:22:53.055180Z"
    }
   },
   "outputs": [],
   "source": [
    "df.drop(df[df[\"height\"] > 85].index, inplace=True)"
   ]
  },
  {
   "cell_type": "markdown",
   "metadata": {},
   "source": [
    "Ahora abordaremos el caso contrario, el de las personas que no llegan al percentil 25 de altura."
   ]
  },
  {
   "cell_type": "code",
   "execution_count": 17,
   "metadata": {
    "ExecuteTime": {
     "end_time": "2021-01-13T17:22:53.287061Z",
     "start_time": "2021-01-13T17:22:53.200821Z"
    }
   },
   "outputs": [
    {
     "data": {
      "text/plain": [
       "65.0    3794\n",
       "64.0    3865\n",
       "63.0    2767\n",
       "62.0    2244\n",
       "61.0    1090\n",
       "60.0     791\n",
       "59.0     212\n",
       "58.0      53\n",
       "57.0      17\n",
       "56.0       8\n",
       "55.0       6\n",
       "54.0       3\n",
       "53.0       5\n",
       "52.0       1\n",
       "51.0       1\n",
       "50.0       2\n",
       "49.0       1\n",
       "48.0       2\n",
       "47.0       1\n",
       "43.0       2\n",
       "42.0       1\n",
       "37.0       2\n",
       "36.0      11\n",
       "26.0       1\n",
       "9.0        1\n",
       "8.0        1\n",
       "6.0        1\n",
       "4.0        1\n",
       "3.0        1\n",
       "1.0        1\n",
       "Name: height, dtype: int64"
      ]
     },
     "execution_count": 17,
     "metadata": {},
     "output_type": "execute_result"
    }
   ],
   "source": [
    "df[df[\"height\"] < np.percentile(df[\"height\"], 25)][\"height\"].value_counts().sort_index(ascending=False)"
   ]
  },
  {
   "cell_type": "markdown",
   "metadata": {},
   "source": [
    "De nuevo, estamos ante una situación similar: la mayoría de valores anómalos están más cerca de la mediana que del mínimo. Aquí podemos establecer un límite inferior coherente de acuerdo con el diagrama de caja y bigotes y partiendo de la base de que podemos contar con usuarios de la aplicación que pueden tener alguna patología como el enanismo. Según Mayo Clinic \\[2\\], una persona que padezca enanismo podría estar entorno a 122 cm de altura (48 pulgadas), existiendo algunos casos que pueden alcanzar los 91 (35.8 pulgadas) en casos muy raros. Por ello, vamos a eliminar los registros con valores inferiores a 36."
   ]
  },
  {
   "cell_type": "code",
   "execution_count": 18,
   "metadata": {
    "ExecuteTime": {
     "end_time": "2021-01-13T17:22:53.407614Z",
     "start_time": "2021-01-13T17:22:53.293897Z"
    }
   },
   "outputs": [],
   "source": [
    "df.drop(df[df[\"height\"] < 36].index, inplace=True)"
   ]
  },
  {
   "cell_type": "markdown",
   "metadata": {},
   "source": [
    "#### 2.1.1.3 Análisis de normalidad"
   ]
  },
  {
   "cell_type": "markdown",
   "metadata": {},
   "source": [
    "Una vez hemos tratado los valores erróneos, el preprocesamiento de la altura será una normalización o escalado. Vamos a hacer una comprobación de normalidad."
   ]
  },
  {
   "cell_type": "code",
   "execution_count": 19,
   "metadata": {
    "ExecuteTime": {
     "end_time": "2021-01-13T17:22:53.530386Z",
     "start_time": "2021-01-13T17:22:53.414321Z"
    }
   },
   "outputs": [
    {
     "name": "stdout",
     "output_type": "stream",
     "text": [
      "Not a normal distribution. p-value: 1.333621726087334e-294\n"
     ]
    }
   ],
   "source": [
    "mu, sigma = norm.fit(df[\"height\"])\n",
    "n = norm(loc=mu, scale=sigma)\n",
    "pvalue = kstest(df[\"height\"], n.cdf).pvalue\n",
    "if pvalue < 0.05:\n",
    "    print(f\"Not a normal distribution. p-value: {pvalue}\")\n",
    "else:\n",
    "    print(\"Test inconclusive\")"
   ]
  },
  {
   "cell_type": "markdown",
   "metadata": {},
   "source": [
    "Parece que el test dice que la variable no sigue una distribución normal. Sin embargo, vamos a volver a mirar el histograma después de haber eliminado los valores erróneos."
   ]
  },
  {
   "cell_type": "code",
   "execution_count": 20,
   "metadata": {
    "ExecuteTime": {
     "end_time": "2021-01-13T17:22:54.353608Z",
     "start_time": "2021-01-13T17:22:53.538899Z"
    }
   },
   "outputs": [
    {
     "data": {
      "image/png": "[encoded data removed]",
      "text/plain": [
       "<Figure size 1440x576 with 1 Axes>"
      ]
     },
     "metadata": {},
     "output_type": "display_data"
    }
   ],
   "source": [
    "plt.figure(figsize=(20, 8))\n",
    "plt.title(\"Distribution of height in OkCupid data\", fontdict={\"size\": 20, \"family\": \"Consolas\"})\n",
    "sns.histplot(data=df[\"height\"], bins=50, linewidth=2.5, edgecolor=\"#555555\", color=\"steelblue\")\n",
    "plt.xlabel(\"Height (in)\", fontdict={\"size\": 15, \"family\": \"Consolas\"})\n",
    "plt.ylabel(\"Count\", fontdict={\"size\": 15, \"family\": \"Consolas\"})\n",
    "plt.show()"
   ]
  },
  {
   "cell_type": "markdown",
   "metadata": {},
   "source": [
    "Claramente el test $K$-$S$ ha dicho que no es una distribución normal por los valores anómalos de alturas menores de 40 pulgadas. Esto también significa que un escalado normal entre 0 y 1 sería una mala idea, ya que si 36 pulgadas es el mínimo, la mayoría de valores acabarán escalados alrededor de 0.75.\n",
    "\n",
    "La altura humana es considerada a menudo como el ejemplo clásico de variable normal, y tomando como referencia datos del Centro de Control de Enfermedades de E.E.U.U. (CDC \\[3\\]) vemos que en las distribuciones de la altura la mediana es siempre igual a la media y la separación entre cuantiles es constante, factores que son suficientes para utilizar una normalización sin problemas."
   ]
  },
  {
   "cell_type": "markdown",
   "metadata": {},
   "source": [
    "#### 2.1.1.4 Transformador"
   ]
  },
  {
   "cell_type": "markdown",
   "metadata": {},
   "source": [
    "Ahora que hemos estudiado la normalidad de la distribución, podemos definir un [`StandardScaler`](https://scikit-learn.org/stable/modules/generated/sklearn.preprocessing.StandardScaler.html) para la variable `height`."
   ]
  },
  {
   "cell_type": "code",
   "execution_count": 21,
   "metadata": {
    "ExecuteTime": {
     "end_time": "2021-01-13T17:22:54.366019Z",
     "start_time": "2021-01-13T17:22:54.361653Z"
    }
   },
   "outputs": [],
   "source": [
    "height_transformer = StandardScaler()"
   ]
  },
  {
   "cell_type": "markdown",
   "metadata": {},
   "source": [
    "### 2.1.2 Edad"
   ]
  },
  {
   "cell_type": "markdown",
   "metadata": {},
   "source": [
    "#### 2.1.2.1 Análisis de valores nulos"
   ]
  },
  {
   "cell_type": "markdown",
   "metadata": {},
   "source": [
    "Vamos a ver si hay valores nulos para la edad, y si los hay, cuántos son."
   ]
  },
  {
   "cell_type": "code",
   "execution_count": 22,
   "metadata": {
    "ExecuteTime": {
     "end_time": "2021-01-13T17:22:54.475193Z",
     "start_time": "2021-01-13T17:22:54.368809Z"
    }
   },
   "outputs": [
    {
     "data": {
      "text/plain": [
       "False"
      ]
     },
     "execution_count": 22,
     "metadata": {},
     "output_type": "execute_result"
    }
   ],
   "source": [
    "any(df[\"age\"].isnull())"
   ]
  },
  {
   "cell_type": "markdown",
   "metadata": {},
   "source": [
    "Por suerte este campo no tiene valores nulos. Probablemente esto se deba a que para poder utilizar la plataforma de OkCupid, tener una edad mayor a 18 es un requisito, y por tanto incluir la edad es obligatorio."
   ]
  },
  {
   "cell_type": "markdown",
   "metadata": {},
   "source": [
    "#### 2.1.2.2 Análisis de valores anómalos"
   ]
  },
  {
   "cell_type": "markdown",
   "metadata": {},
   "source": [
    "Como hemos visto anteriormente, hay una edad máxima de 110 años. Lo más seguro es que se trate de un dato erróneo, así que vamos a estudiar estos valores anómalos con un diagrama de caja y bigotes junto a un histograma."
   ]
  },
  {
   "cell_type": "code",
   "execution_count": 23,
   "metadata": {
    "ExecuteTime": {
     "end_time": "2021-01-13T17:22:55.367679Z",
     "start_time": "2021-01-13T17:22:54.479260Z"
    }
   },
   "outputs": [
    {
     "data": {
      "image/png": "[encoded data removed]",
      "text/plain": [
       "<Figure size 1440x576 with 2 Axes>"
      ]
     },
     "metadata": {},
     "output_type": "display_data"
    }
   ],
   "source": [
    "fig, ax = plt.subplots(2, 1, figsize=(20, 8), sharex=True)\n",
    "plt.subplots_adjust(hspace=0)\n",
    "\n",
    "sns.boxplot(data=df[\"age\"], orient=\"horizontal\",\n",
    "            ax=ax[0], linewidth=2.5, color=\"darkorange\")\n",
    "ax[0].set_title(\"Histogram and boxplot for age\", fontdict={\"size\": 20, \"family\": \"Consolas\"})\n",
    "ax[0].set_yticks([])\n",
    "\n",
    "sns.histplot(data=df[\"age\"], bins=30, ax=ax[1],\n",
    "             linewidth=2.5, edgecolor=\"#555555\", color=\"steelblue\")\n",
    "ax[1].set_xticks(range(18, 110, 10))\n",
    "ax[1].set_xlabel(\"Age (years)\", fontdict={\"size\": 15, \"family\": \"Consolas\"})\n",
    "ax[1].set_ylabel(\"Count\", fontdict={\"size\": 15, \"family\": \"Consolas\"})\n",
    "\n",
    "\n",
    "plt.xticks(size=15)\n",
    "plt.yticks(size=15)\n",
    "plt.show()"
   ]
  },
  {
   "cell_type": "markdown",
   "metadata": {},
   "source": [
    "En este caso, parece que los valores anómalos no son tantos, y parecen ser razonables, exceptuando ese 110 que veíamos al principio. Vamos a mirar los valores superiores al percentil 75."
   ]
  },
  {
   "cell_type": "code",
   "execution_count": 24,
   "metadata": {
    "ExecuteTime": {
     "end_time": "2021-01-13T17:22:55.420280Z",
     "start_time": "2021-01-13T17:22:55.383026Z"
    }
   },
   "outputs": [
    {
     "data": {
      "text/plain": [
       "38     1329\n",
       "39     1171\n",
       "40     1029\n",
       "41      979\n",
       "42     1072\n",
       "43      858\n",
       "44      708\n",
       "45      643\n",
       "46      578\n",
       "47      529\n",
       "48      481\n",
       "49      458\n",
       "50      437\n",
       "51      350\n",
       "52      343\n",
       "53      252\n",
       "54      267\n",
       "55      264\n",
       "56      271\n",
       "57      256\n",
       "58      197\n",
       "59      221\n",
       "60      195\n",
       "61      175\n",
       "62      167\n",
       "63      138\n",
       "64      113\n",
       "65      109\n",
       "66      105\n",
       "67       66\n",
       "68       59\n",
       "69       31\n",
       "110       1\n",
       "Name: age, dtype: int64"
      ]
     },
     "execution_count": 24,
     "metadata": {},
     "output_type": "execute_result"
    }
   ],
   "source": [
    "df[df[\"age\"] > np.percentile(df[\"age\"], 75)][\"age\"].value_counts().sort_index()"
   ]
  },
  {
   "cell_type": "markdown",
   "metadata": {},
   "source": [
    "Sin tener nada más en lo que apoyarnos, parece creíble que todos los valores anómalos sean reales, exceptuando el de 110. Vamos a mirar bien esa fila:"
   ]
  },
  {
   "cell_type": "code",
   "execution_count": 25,
   "metadata": {
    "ExecuteTime": {
     "end_time": "2021-01-13T17:22:55.514326Z",
     "start_time": "2021-01-13T17:22:55.425855Z"
    }
   },
   "outputs": [
    {
     "data": {
      "text/html": [
       "<div>\n",
       "<style scoped>\n",
       "    .dataframe tbody tr th:only-of-type {\n",
       "        vertical-align: middle;\n",
       "    }\n",
       "\n",
       "    .dataframe tbody tr th {\n",
       "        vertical-align: top;\n",
       "    }\n",
       "\n",
       "    .dataframe thead th {\n",
       "        text-align: right;\n",
       "    }\n",
       "</style>\n",
       "<table border=\"1\" class=\"dataframe\">\n",
       "  <thead>\n",
       "    <tr style=\"text-align: right;\">\n",
       "      <th></th>\n",
       "      <th>age</th>\n",
       "      <th>status</th>\n",
       "      <th>sex</th>\n",
       "      <th>orientation</th>\n",
       "      <th>body_type</th>\n",
       "      <th>diet</th>\n",
       "      <th>drinks</th>\n",
       "      <th>drugs</th>\n",
       "      <th>education</th>\n",
       "      <th>ethnicity</th>\n",
       "      <th>height</th>\n",
       "      <th>income</th>\n",
       "      <th>job</th>\n",
       "      <th>location</th>\n",
       "      <th>offspring</th>\n",
       "      <th>pets</th>\n",
       "      <th>religion</th>\n",
       "      <th>sign</th>\n",
       "      <th>smokes</th>\n",
       "      <th>speaks</th>\n",
       "      <th>essay0</th>\n",
       "      <th>essay1</th>\n",
       "      <th>essay2</th>\n",
       "      <th>essay3</th>\n",
       "      <th>essay4</th>\n",
       "      <th>essay5</th>\n",
       "      <th>essay6</th>\n",
       "      <th>essay7</th>\n",
       "      <th>essay8</th>\n",
       "      <th>essay9</th>\n",
       "    </tr>\n",
       "  </thead>\n",
       "  <tbody>\n",
       "    <tr>\n",
       "      <th>2512</th>\n",
       "      <td>110</td>\n",
       "      <td>single</td>\n",
       "      <td>f</td>\n",
       "      <td>straight</td>\n",
       "      <td>NaN</td>\n",
       "      <td>NaN</td>\n",
       "      <td>NaN</td>\n",
       "      <td>NaN</td>\n",
       "      <td>NaN</td>\n",
       "      <td>NaN</td>\n",
       "      <td>67.0</td>\n",
       "      <td>-1</td>\n",
       "      <td>NaN</td>\n",
       "      <td>daly city, california</td>\n",
       "      <td>NaN</td>\n",
       "      <td>NaN</td>\n",
       "      <td>NaN</td>\n",
       "      <td>NaN</td>\n",
       "      <td>NaN</td>\n",
       "      <td>english</td>\n",
       "      <td>NaN</td>\n",
       "      <td>NaN</td>\n",
       "      <td>NaN</td>\n",
       "      <td>NaN</td>\n",
       "      <td>NaN</td>\n",
       "      <td>NaN</td>\n",
       "      <td>NaN</td>\n",
       "      <td>NaN</td>\n",
       "      <td>NaN</td>\n",
       "      <td>NaN</td>\n",
       "    </tr>\n",
       "  </tbody>\n",
       "</table>\n",
       "</div>"
      ],
      "text/plain": [
       "      age  status sex orientation body_type diet drinks drugs education  \\\n",
       "2512  110  single   f    straight       NaN  NaN    NaN   NaN       NaN   \n",
       "\n",
       "     ethnicity  height  income  job               location offspring pets  \\\n",
       "2512       NaN    67.0      -1  NaN  daly city, california       NaN  NaN   \n",
       "\n",
       "     religion sign smokes   speaks essay0 essay1 essay2 essay3 essay4 essay5  \\\n",
       "2512      NaN  NaN    NaN  english    NaN    NaN    NaN    NaN    NaN    NaN   \n",
       "\n",
       "     essay6 essay7 essay8 essay9  \n",
       "2512    NaN    NaN    NaN    NaN  "
      ]
     },
     "execution_count": 25,
     "metadata": {},
     "output_type": "execute_result"
    }
   ],
   "source": [
    "df[df[\"age\"] == 110]"
   ]
  },
  {
   "cell_type": "markdown",
   "metadata": {},
   "source": [
    "Claramente este usuario no es serio. De lo contrario, habría rellenado algún campo más. \n",
    "\n",
    "Sólo para asegurarnos y dejarlo aún más claro, podemos apoyarnos en la tabla de la Administración de la Seguridad Social de E.E.U.U (SSA \\[4\\]), que nos dice la probabilidad de muerte dada una edad. El apartado *Number of lives* indica el número de personas que sobreviven hasta la edad dada partiendo de 100000. Para 110 años, son 14. Si la probabilidad de que una persona dada tenga 110 años o más es $0.00014$, sin considerar las probabilidades de que esté utilizando una red de citas (dudosas en el mejor de los casos), podemos eliminar esta fila sin dudas."
   ]
  },
  {
   "cell_type": "code",
   "execution_count": 26,
   "metadata": {
    "ExecuteTime": {
     "end_time": "2021-01-13T17:22:55.940485Z",
     "start_time": "2021-01-13T17:22:55.517643Z"
    }
   },
   "outputs": [],
   "source": [
    "df.drop(df[df[\"age\"] == 110].index, inplace=True)"
   ]
  },
  {
   "cell_type": "markdown",
   "metadata": {},
   "source": [
    "#### 2.1.2.3 Transformador"
   ]
  },
  {
   "cell_type": "markdown",
   "metadata": {},
   "source": [
    "Con respecto al resto de datos, claramente no están distribuidos de forma normal. Podemos simplemente codificar utilizando un escalado de 0 a 1."
   ]
  },
  {
   "cell_type": "code",
   "execution_count": 27,
   "metadata": {
    "ExecuteTime": {
     "end_time": "2021-01-13T17:22:55.972499Z",
     "start_time": "2021-01-13T17:22:55.943506Z"
    }
   },
   "outputs": [],
   "source": [
    "age_transformer = MinMaxScaler()"
   ]
  },
  {
   "cell_type": "markdown",
   "metadata": {},
   "source": [
    "### 2.1.3 Ingresos"
   ]
  },
  {
   "cell_type": "markdown",
   "metadata": {},
   "source": [
    "#### 2.1.3.1 Análisis de valores nulos"
   ]
  },
  {
   "cell_type": "markdown",
   "metadata": {},
   "source": [
    "Como hemos hecho en las demás variables numéricas, vamos a estudiar si hay valores nulos."
   ]
  },
  {
   "cell_type": "code",
   "execution_count": 28,
   "metadata": {
    "ExecuteTime": {
     "end_time": "2021-01-13T17:22:56.063548Z",
     "start_time": "2021-01-13T17:22:55.974403Z"
    }
   },
   "outputs": [
    {
     "data": {
      "text/plain": [
       "False"
      ]
     },
     "execution_count": 28,
     "metadata": {},
     "output_type": "execute_result"
    }
   ],
   "source": [
    "any(df[\"income\"].isnull())"
   ]
  },
  {
   "cell_type": "markdown",
   "metadata": {},
   "source": [
    "En principio parece no haber valores nulos. Sin embargo, hemos observado anteriormente que la gran mayoría de valores son un -1, indicando que no se ha querido decir los ingresos. Si consideramos estos valores como nulos, tendremos un porcentaje alto."
   ]
  },
  {
   "cell_type": "code",
   "execution_count": 29,
   "metadata": {
    "ExecuteTime": {
     "end_time": "2021-01-13T17:22:56.182037Z",
     "start_time": "2021-01-13T17:22:56.066291Z"
    }
   },
   "outputs": [
    {
     "name": "stdout",
     "output_type": "stream",
     "text": [
      "81% with non-specified incomes\n"
     ]
    }
   ],
   "source": [
    "print(f\"{round((len(df[df['income'] == -1]) / len(df)) * 100)}% with non-specified incomes\")"
   ]
  },
  {
   "cell_type": "markdown",
   "metadata": {},
   "source": [
    "Este valor es excesivamente alto. No podemos utilizar un *imputer* para completar estos valores. Tampoco podemos eliminar las filas que hayan indicado -1 en `income`, porque perderíamos el $81\\%$ de nuestros datos. Ante esta situación, lo mejor que podemos hacer es eliminar la columna `income` al completo. Tenemos otras variables, como la ocupación, que pueden servir de sustituto para reflejar el poder adquisitivo de un usuario, y esta columna está demasiado vacía para ser usable."
   ]
  },
  {
   "cell_type": "markdown",
   "metadata": {},
   "source": [
    "## 2.2 Variables categóricas"
   ]
  },
  {
   "cell_type": "markdown",
   "metadata": {},
   "source": [
    "Antes de empezar con las variables categóricas específicas, podemos echar un vistazo general para ver si podemos encontrar patrones interesantes."
   ]
  },
  {
   "cell_type": "code",
   "execution_count": 30,
   "metadata": {
    "ExecuteTime": {
     "end_time": "2021-01-13T17:22:56.581322Z",
     "start_time": "2021-01-13T17:22:56.184262Z"
    }
   },
   "outputs": [
    {
     "data": {
      "text/html": [
       "<div>\n",
       "<style scoped>\n",
       "    .dataframe tbody tr th:only-of-type {\n",
       "        vertical-align: middle;\n",
       "    }\n",
       "\n",
       "    .dataframe tbody tr th {\n",
       "        vertical-align: top;\n",
       "    }\n",
       "\n",
       "    .dataframe thead th {\n",
       "        text-align: right;\n",
       "    }\n",
       "</style>\n",
       "<table border=\"1\" class=\"dataframe\">\n",
       "  <thead>\n",
       "    <tr style=\"text-align: right;\">\n",
       "      <th></th>\n",
       "      <th>status</th>\n",
       "      <th>sex</th>\n",
       "      <th>orientation</th>\n",
       "      <th>body_type</th>\n",
       "      <th>diet</th>\n",
       "      <th>drinks</th>\n",
       "      <th>drugs</th>\n",
       "      <th>education</th>\n",
       "      <th>ethnicity</th>\n",
       "      <th>job</th>\n",
       "      <th>location</th>\n",
       "      <th>offspring</th>\n",
       "      <th>pets</th>\n",
       "      <th>religion</th>\n",
       "      <th>sign</th>\n",
       "      <th>smokes</th>\n",
       "      <th>speaks</th>\n",
       "    </tr>\n",
       "  </thead>\n",
       "  <tbody>\n",
       "    <tr>\n",
       "      <th>0</th>\n",
       "      <td>single</td>\n",
       "      <td>m</td>\n",
       "      <td>straight</td>\n",
       "      <td>a little extra</td>\n",
       "      <td>strictly anything</td>\n",
       "      <td>socially</td>\n",
       "      <td>never</td>\n",
       "      <td>working on college/university</td>\n",
       "      <td>asian, white</td>\n",
       "      <td>transportation</td>\n",
       "      <td>south san francisco, california</td>\n",
       "      <td>doesn't have kids, but might want them</td>\n",
       "      <td>likes dogs and likes cats</td>\n",
       "      <td>agnosticism and very serious about it</td>\n",
       "      <td>gemini</td>\n",
       "      <td>sometimes</td>\n",
       "      <td>english</td>\n",
       "    </tr>\n",
       "    <tr>\n",
       "      <th>1</th>\n",
       "      <td>single</td>\n",
       "      <td>m</td>\n",
       "      <td>straight</td>\n",
       "      <td>average</td>\n",
       "      <td>mostly other</td>\n",
       "      <td>often</td>\n",
       "      <td>sometimes</td>\n",
       "      <td>working on space camp</td>\n",
       "      <td>white</td>\n",
       "      <td>hospitality / travel</td>\n",
       "      <td>oakland, california</td>\n",
       "      <td>doesn't have kids, but might want them</td>\n",
       "      <td>likes dogs and likes cats</td>\n",
       "      <td>agnosticism but not too serious about it</td>\n",
       "      <td>cancer</td>\n",
       "      <td>no</td>\n",
       "      <td>english (fluently), spanish (poorly), french (...</td>\n",
       "    </tr>\n",
       "    <tr>\n",
       "      <th>2</th>\n",
       "      <td>available</td>\n",
       "      <td>m</td>\n",
       "      <td>straight</td>\n",
       "      <td>thin</td>\n",
       "      <td>anything</td>\n",
       "      <td>socially</td>\n",
       "      <td>NaN</td>\n",
       "      <td>graduated from masters program</td>\n",
       "      <td>NaN</td>\n",
       "      <td>NaN</td>\n",
       "      <td>san francisco, california</td>\n",
       "      <td>NaN</td>\n",
       "      <td>has cats</td>\n",
       "      <td>NaN</td>\n",
       "      <td>pisces but it doesn&amp;rsquo;t matter</td>\n",
       "      <td>no</td>\n",
       "      <td>english, french, c++</td>\n",
       "    </tr>\n",
       "    <tr>\n",
       "      <th>3</th>\n",
       "      <td>single</td>\n",
       "      <td>m</td>\n",
       "      <td>straight</td>\n",
       "      <td>thin</td>\n",
       "      <td>vegetarian</td>\n",
       "      <td>socially</td>\n",
       "      <td>NaN</td>\n",
       "      <td>working on college/university</td>\n",
       "      <td>white</td>\n",
       "      <td>student</td>\n",
       "      <td>berkeley, california</td>\n",
       "      <td>doesn't want kids</td>\n",
       "      <td>likes cats</td>\n",
       "      <td>NaN</td>\n",
       "      <td>pisces</td>\n",
       "      <td>no</td>\n",
       "      <td>english, german (poorly)</td>\n",
       "    </tr>\n",
       "    <tr>\n",
       "      <th>4</th>\n",
       "      <td>single</td>\n",
       "      <td>m</td>\n",
       "      <td>straight</td>\n",
       "      <td>athletic</td>\n",
       "      <td>NaN</td>\n",
       "      <td>socially</td>\n",
       "      <td>never</td>\n",
       "      <td>graduated from college/university</td>\n",
       "      <td>asian, black, other</td>\n",
       "      <td>artistic / musical / writer</td>\n",
       "      <td>san francisco, california</td>\n",
       "      <td>NaN</td>\n",
       "      <td>likes dogs and likes cats</td>\n",
       "      <td>NaN</td>\n",
       "      <td>aquarius</td>\n",
       "      <td>no</td>\n",
       "      <td>english</td>\n",
       "    </tr>\n",
       "    <tr>\n",
       "      <th>...</th>\n",
       "      <td>...</td>\n",
       "      <td>...</td>\n",
       "      <td>...</td>\n",
       "      <td>...</td>\n",
       "      <td>...</td>\n",
       "      <td>...</td>\n",
       "      <td>...</td>\n",
       "      <td>...</td>\n",
       "      <td>...</td>\n",
       "      <td>...</td>\n",
       "      <td>...</td>\n",
       "      <td>...</td>\n",
       "      <td>...</td>\n",
       "      <td>...</td>\n",
       "      <td>...</td>\n",
       "      <td>...</td>\n",
       "      <td>...</td>\n",
       "    </tr>\n",
       "    <tr>\n",
       "      <th>59941</th>\n",
       "      <td>single</td>\n",
       "      <td>f</td>\n",
       "      <td>straight</td>\n",
       "      <td>NaN</td>\n",
       "      <td>NaN</td>\n",
       "      <td>socially</td>\n",
       "      <td>never</td>\n",
       "      <td>graduated from college/university</td>\n",
       "      <td>NaN</td>\n",
       "      <td>sales / marketing / biz dev</td>\n",
       "      <td>oakland, california</td>\n",
       "      <td>has kids</td>\n",
       "      <td>has dogs</td>\n",
       "      <td>catholicism but not too serious about it</td>\n",
       "      <td>cancer and it&amp;rsquo;s fun to think about</td>\n",
       "      <td>no</td>\n",
       "      <td>english</td>\n",
       "    </tr>\n",
       "    <tr>\n",
       "      <th>59942</th>\n",
       "      <td>single</td>\n",
       "      <td>m</td>\n",
       "      <td>straight</td>\n",
       "      <td>fit</td>\n",
       "      <td>mostly anything</td>\n",
       "      <td>often</td>\n",
       "      <td>sometimes</td>\n",
       "      <td>working on college/university</td>\n",
       "      <td>white, other</td>\n",
       "      <td>entertainment / media</td>\n",
       "      <td>san francisco, california</td>\n",
       "      <td>doesn't have kids</td>\n",
       "      <td>likes dogs and likes cats</td>\n",
       "      <td>agnosticism</td>\n",
       "      <td>leo but it doesn&amp;rsquo;t matter</td>\n",
       "      <td>no</td>\n",
       "      <td>english (fluently)</td>\n",
       "    </tr>\n",
       "    <tr>\n",
       "      <th>59943</th>\n",
       "      <td>single</td>\n",
       "      <td>m</td>\n",
       "      <td>straight</td>\n",
       "      <td>average</td>\n",
       "      <td>mostly anything</td>\n",
       "      <td>not at all</td>\n",
       "      <td>never</td>\n",
       "      <td>graduated from masters program</td>\n",
       "      <td>asian</td>\n",
       "      <td>construction / craftsmanship</td>\n",
       "      <td>south san francisco, california</td>\n",
       "      <td>doesn't have kids</td>\n",
       "      <td>NaN</td>\n",
       "      <td>christianity but not too serious about it</td>\n",
       "      <td>sagittarius but it doesn&amp;rsquo;t matter</td>\n",
       "      <td>no</td>\n",
       "      <td>english (fluently)</td>\n",
       "    </tr>\n",
       "    <tr>\n",
       "      <th>59944</th>\n",
       "      <td>single</td>\n",
       "      <td>m</td>\n",
       "      <td>straight</td>\n",
       "      <td>athletic</td>\n",
       "      <td>mostly anything</td>\n",
       "      <td>socially</td>\n",
       "      <td>often</td>\n",
       "      <td>working on college/university</td>\n",
       "      <td>asian, black</td>\n",
       "      <td>medicine / health</td>\n",
       "      <td>san francisco, california</td>\n",
       "      <td>doesn't have kids, but wants them</td>\n",
       "      <td>likes dogs and likes cats</td>\n",
       "      <td>agnosticism but not too serious about it</td>\n",
       "      <td>leo and it&amp;rsquo;s fun to think about</td>\n",
       "      <td>trying to quit</td>\n",
       "      <td>english (fluently), spanish (poorly), chinese ...</td>\n",
       "    </tr>\n",
       "    <tr>\n",
       "      <th>59945</th>\n",
       "      <td>single</td>\n",
       "      <td>m</td>\n",
       "      <td>gay</td>\n",
       "      <td>average</td>\n",
       "      <td>NaN</td>\n",
       "      <td>socially</td>\n",
       "      <td>NaN</td>\n",
       "      <td>graduated from masters program</td>\n",
       "      <td>white</td>\n",
       "      <td>medicine / health</td>\n",
       "      <td>san francisco, california</td>\n",
       "      <td>NaN</td>\n",
       "      <td>likes dogs and likes cats</td>\n",
       "      <td>catholicism and laughing about it</td>\n",
       "      <td>gemini and it&amp;rsquo;s fun to think about</td>\n",
       "      <td>sometimes</td>\n",
       "      <td>english</td>\n",
       "    </tr>\n",
       "  </tbody>\n",
       "</table>\n",
       "<p>59901 rows × 17 columns</p>\n",
       "</div>"
      ],
      "text/plain": [
       "          status sex orientation       body_type               diet  \\\n",
       "0         single   m    straight  a little extra  strictly anything   \n",
       "1         single   m    straight         average       mostly other   \n",
       "2      available   m    straight            thin           anything   \n",
       "3         single   m    straight            thin         vegetarian   \n",
       "4         single   m    straight        athletic                NaN   \n",
       "...          ...  ..         ...             ...                ...   \n",
       "59941     single   f    straight             NaN                NaN   \n",
       "59942     single   m    straight             fit    mostly anything   \n",
       "59943     single   m    straight         average    mostly anything   \n",
       "59944     single   m    straight        athletic    mostly anything   \n",
       "59945     single   m         gay         average                NaN   \n",
       "\n",
       "           drinks      drugs                          education  \\\n",
       "0        socially      never      working on college/university   \n",
       "1           often  sometimes              working on space camp   \n",
       "2        socially        NaN     graduated from masters program   \n",
       "3        socially        NaN      working on college/university   \n",
       "4        socially      never  graduated from college/university   \n",
       "...           ...        ...                                ...   \n",
       "59941    socially      never  graduated from college/university   \n",
       "59942       often  sometimes      working on college/university   \n",
       "59943  not at all      never     graduated from masters program   \n",
       "59944    socially      often      working on college/university   \n",
       "59945    socially        NaN     graduated from masters program   \n",
       "\n",
       "                 ethnicity                           job  \\\n",
       "0             asian, white                transportation   \n",
       "1                    white          hospitality / travel   \n",
       "2                      NaN                           NaN   \n",
       "3                    white                       student   \n",
       "4      asian, black, other   artistic / musical / writer   \n",
       "...                    ...                           ...   \n",
       "59941                  NaN   sales / marketing / biz dev   \n",
       "59942         white, other         entertainment / media   \n",
       "59943                asian  construction / craftsmanship   \n",
       "59944         asian, black             medicine / health   \n",
       "59945                white             medicine / health   \n",
       "\n",
       "                              location  \\\n",
       "0      south san francisco, california   \n",
       "1                  oakland, california   \n",
       "2            san francisco, california   \n",
       "3                 berkeley, california   \n",
       "4            san francisco, california   \n",
       "...                                ...   \n",
       "59941              oakland, california   \n",
       "59942        san francisco, california   \n",
       "59943  south san francisco, california   \n",
       "59944        san francisco, california   \n",
       "59945        san francisco, california   \n",
       "\n",
       "                                    offspring                       pets  \\\n",
       "0      doesn't have kids, but might want them  likes dogs and likes cats   \n",
       "1      doesn't have kids, but might want them  likes dogs and likes cats   \n",
       "2                                         NaN                   has cats   \n",
       "3                           doesn't want kids                 likes cats   \n",
       "4                                         NaN  likes dogs and likes cats   \n",
       "...                                       ...                        ...   \n",
       "59941                                has kids                   has dogs   \n",
       "59942                       doesn't have kids  likes dogs and likes cats   \n",
       "59943                       doesn't have kids                        NaN   \n",
       "59944       doesn't have kids, but wants them  likes dogs and likes cats   \n",
       "59945                                     NaN  likes dogs and likes cats   \n",
       "\n",
       "                                        religion  \\\n",
       "0          agnosticism and very serious about it   \n",
       "1       agnosticism but not too serious about it   \n",
       "2                                            NaN   \n",
       "3                                            NaN   \n",
       "4                                            NaN   \n",
       "...                                          ...   \n",
       "59941   catholicism but not too serious about it   \n",
       "59942                                agnosticism   \n",
       "59943  christianity but not too serious about it   \n",
       "59944   agnosticism but not too serious about it   \n",
       "59945          catholicism and laughing about it   \n",
       "\n",
       "                                           sign          smokes  \\\n",
       "0                                        gemini       sometimes   \n",
       "1                                        cancer              no   \n",
       "2            pisces but it doesn&rsquo;t matter              no   \n",
       "3                                        pisces              no   \n",
       "4                                      aquarius              no   \n",
       "...                                         ...             ...   \n",
       "59941  cancer and it&rsquo;s fun to think about              no   \n",
       "59942           leo but it doesn&rsquo;t matter              no   \n",
       "59943   sagittarius but it doesn&rsquo;t matter              no   \n",
       "59944     leo and it&rsquo;s fun to think about  trying to quit   \n",
       "59945  gemini and it&rsquo;s fun to think about       sometimes   \n",
       "\n",
       "                                                  speaks  \n",
       "0                                                english  \n",
       "1      english (fluently), spanish (poorly), french (...  \n",
       "2                                   english, french, c++  \n",
       "3                               english, german (poorly)  \n",
       "4                                                english  \n",
       "...                                                  ...  \n",
       "59941                                            english  \n",
       "59942                                 english (fluently)  \n",
       "59943                                 english (fluently)  \n",
       "59944  english (fluently), spanish (poorly), chinese ...  \n",
       "59945                                            english  \n",
       "\n",
       "[59901 rows x 17 columns]"
      ]
     },
     "execution_count": 30,
     "metadata": {},
     "output_type": "execute_result"
    }
   ],
   "source": [
    "df[categorical_vars]"
   ]
  },
  {
   "cell_type": "markdown",
   "metadata": {},
   "source": [
    "Llegados a este punto, hemos decidido subdividir las variables categóricas en tres tipos:\n",
    " 1. Las variables categóricas simples (una cadena de caracteres $\\iff$ una categoría)\n",
    " 2. Las variables que van a resultar en un punto de un espacio de $n$ dimensiones (por ejemplo, descompondremos `location` en dos dimensiones `latitude` y `longitude`).\n",
    " 3. Las variables que contienen un conjunto de categorías estándar modificadas por prefijos o sufijos (como las dietas)\n",
    " \n",
    "Trataremos cada conjunto de variables por separado."
   ]
  },
  {
   "cell_type": "markdown",
   "metadata": {},
   "source": [
    "### 2.2.1 Variables categóricas simples"
   ]
  },
  {
   "cell_type": "markdown",
   "metadata": {},
   "source": [
    "Estas variables simples son aquellas en las que una entrada implica una categoría. Acabarán codificadas como un vector one-hot utilizando [OneHotEncoder](https://scikit-learn.org/stable/modules/generated/sklearn.preprocessing.OneHotEncoder.html) o de forma ordinal utilizando [OrdinalEncoder](https://scikit-learn.org/stable/modules/generated/sklearn.preprocessing.OrdinalEncoder.html).\n",
    "\n",
    "Estas variables son `status`, `sex`, `drinks`, `drugs`, `job` y `smokes`.\n",
    "\n",
    "Sin embargo, es posible que necesiten algún preprocesamiento anterior. En muchos casos parece que algunas categorías pueden agruparse, como es el caso de algunos tipos de `status`. Para estos casos, vamos a preparar un transformador (o mejor dicho, un conjunto de transformadores) que nos permitirá modificar estas entradas fácilmente."
   ]
  },
  {
   "cell_type": "code",
   "execution_count": 31,
   "metadata": {
    "ExecuteTime": {
     "end_time": "2021-01-13T17:22:56.625152Z",
     "start_time": "2021-01-13T17:22:56.583966Z"
    }
   },
   "outputs": [],
   "source": [
    "def substitution_transformer(substitution_dict, full=False):\n",
    "    \"\"\"\n",
    "    Substitute elements of a NumPy array.\n",
    "    \n",
    "    substitution_dict: dictionary with shape {oldvalue1: newvalue1, oldvalue2: newvalue2, ... }\n",
    "    full: whether to substitute entire entry if a key matches or substitute just the match\n",
    "    \"\"\"\n",
    "    def substitute_elements(X):\n",
    "        for old, new in substitution_dict.items():\n",
    "            if full:\n",
    "                replacer = np.vectorize(lambda x: new if old in x else x)\n",
    "            else:\n",
    "                replacer = np.vectorize(lambda x: x.replace(old, new))\n",
    "            X = np.array(replacer(X), dtype=object)\n",
    "        return X\n",
    "\n",
    "    return FunctionTransformer(substitute_elements)"
   ]
  },
  {
   "cell_type": "markdown",
   "metadata": {},
   "source": [
    "Con esto listo, vamos a empezar a estudiar las variables."
   ]
  },
  {
   "cell_type": "markdown",
   "metadata": {},
   "source": [
    "#### 2.2.1.1 Estado marital"
   ]
  },
  {
   "cell_type": "code",
   "execution_count": 32,
   "metadata": {
    "ExecuteTime": {
     "end_time": "2021-01-13T17:22:56.752101Z",
     "start_time": "2021-01-13T17:22:56.630512Z"
    }
   },
   "outputs": [
    {
     "data": {
      "text/plain": [
       "single            55657\n",
       "seeing someone     2062\n",
       "available          1863\n",
       "married             309\n",
       "unknown              10\n",
       "Name: status, dtype: int64"
      ]
     },
     "execution_count": 32,
     "metadata": {},
     "output_type": "execute_result"
    }
   ],
   "source": [
    "df[\"status\"].value_counts(dropna=False)"
   ]
  },
  {
   "cell_type": "markdown",
   "metadata": {},
   "source": [
    "Estos posibles estados parecen ser compatibles entre sí. Asumimos que el estado `unknown` significa que el usuario ha preferido no decirlo, no que sea un tipo diferente. Vamos a ver qué filas tienen `unknown`."
   ]
  },
  {
   "cell_type": "code",
   "execution_count": 33,
   "metadata": {
    "ExecuteTime": {
     "end_time": "2021-01-13T17:22:56.871228Z",
     "start_time": "2021-01-13T17:22:56.755439Z"
    }
   },
   "outputs": [
    {
     "data": {
      "text/html": [
       "<div>\n",
       "<style scoped>\n",
       "    .dataframe tbody tr th:only-of-type {\n",
       "        vertical-align: middle;\n",
       "    }\n",
       "\n",
       "    .dataframe tbody tr th {\n",
       "        vertical-align: top;\n",
       "    }\n",
       "\n",
       "    .dataframe thead th {\n",
       "        text-align: right;\n",
       "    }\n",
       "</style>\n",
       "<table border=\"1\" class=\"dataframe\">\n",
       "  <thead>\n",
       "    <tr style=\"text-align: right;\">\n",
       "      <th></th>\n",
       "      <th>age</th>\n",
       "      <th>status</th>\n",
       "      <th>sex</th>\n",
       "      <th>orientation</th>\n",
       "      <th>body_type</th>\n",
       "      <th>diet</th>\n",
       "      <th>drinks</th>\n",
       "      <th>drugs</th>\n",
       "      <th>education</th>\n",
       "      <th>ethnicity</th>\n",
       "      <th>height</th>\n",
       "      <th>income</th>\n",
       "      <th>job</th>\n",
       "      <th>location</th>\n",
       "      <th>offspring</th>\n",
       "      <th>pets</th>\n",
       "      <th>religion</th>\n",
       "      <th>sign</th>\n",
       "      <th>smokes</th>\n",
       "      <th>speaks</th>\n",
       "      <th>essay0</th>\n",
       "      <th>essay1</th>\n",
       "      <th>essay2</th>\n",
       "      <th>essay3</th>\n",
       "      <th>essay4</th>\n",
       "      <th>essay5</th>\n",
       "      <th>essay6</th>\n",
       "      <th>essay7</th>\n",
       "      <th>essay8</th>\n",
       "      <th>essay9</th>\n",
       "    </tr>\n",
       "  </thead>\n",
       "  <tbody>\n",
       "    <tr>\n",
       "      <th>17337</th>\n",
       "      <td>57</td>\n",
       "      <td>unknown</td>\n",
       "      <td>m</td>\n",
       "      <td>gay</td>\n",
       "      <td>average</td>\n",
       "      <td>mostly anything</td>\n",
       "      <td>rarely</td>\n",
       "      <td>NaN</td>\n",
       "      <td>graduated from high school</td>\n",
       "      <td>white</td>\n",
       "      <td>70.0</td>\n",
       "      <td>-1</td>\n",
       "      <td>retired</td>\n",
       "      <td>menlo park, california</td>\n",
       "      <td>doesn't want kids</td>\n",
       "      <td>likes dogs and likes cats</td>\n",
       "      <td>other</td>\n",
       "      <td>leo</td>\n",
       "      <td>no</td>\n",
       "      <td>english, english</td>\n",
       "      <td>as an artist i like to borrow images that i li...</td>\n",
       "      <td>filling life with as much colour as i can.</td>\n",
       "      <td>spinning records &amp; dabbing brushes.</td>\n",
       "      <td>i have an assortment of hand-painted shirts i ...</td>\n",
       "      <td>books ----- frank herbert, clive barker, verno...</td>\n",
       "      <td>family the newest member of my family \"dances ...</td>\n",
       "      <td>i love brian eno's idea of the happy accident.</td>\n",
       "      <td>at home with my boy friend usually, listening ...</td>\n",
       "      <td>paisley hankys are on the right side.</td>\n",
       "      <td>if you are a character of interest ? drop a line.</td>\n",
       "    </tr>\n",
       "    <tr>\n",
       "      <th>20367</th>\n",
       "      <td>38</td>\n",
       "      <td>unknown</td>\n",
       "      <td>m</td>\n",
       "      <td>straight</td>\n",
       "      <td>average</td>\n",
       "      <td>NaN</td>\n",
       "      <td>socially</td>\n",
       "      <td>NaN</td>\n",
       "      <td>NaN</td>\n",
       "      <td>NaN</td>\n",
       "      <td>68.0</td>\n",
       "      <td>-1</td>\n",
       "      <td>NaN</td>\n",
       "      <td>oakland, california</td>\n",
       "      <td>NaN</td>\n",
       "      <td>NaN</td>\n",
       "      <td>NaN</td>\n",
       "      <td>NaN</td>\n",
       "      <td>NaN</td>\n",
       "      <td>english</td>\n",
       "      <td>fun loving professional guy. i live in oakland...</td>\n",
       "      <td>NaN</td>\n",
       "      <td>NaN</td>\n",
       "      <td>NaN</td>\n",
       "      <td>NaN</td>\n",
       "      <td>NaN</td>\n",
       "      <td>NaN</td>\n",
       "      <td>NaN</td>\n",
       "      <td>i have watched late-night nanny marathons (or ...</td>\n",
       "      <td>NaN</td>\n",
       "    </tr>\n",
       "    <tr>\n",
       "      <th>31148</th>\n",
       "      <td>31</td>\n",
       "      <td>unknown</td>\n",
       "      <td>m</td>\n",
       "      <td>straight</td>\n",
       "      <td>athletic</td>\n",
       "      <td>NaN</td>\n",
       "      <td>socially</td>\n",
       "      <td>never</td>\n",
       "      <td>working on masters program</td>\n",
       "      <td>asian</td>\n",
       "      <td>69.0</td>\n",
       "      <td>-1</td>\n",
       "      <td>sales / marketing / biz dev</td>\n",
       "      <td>san francisco, california</td>\n",
       "      <td>NaN</td>\n",
       "      <td>NaN</td>\n",
       "      <td>NaN</td>\n",
       "      <td>aquarius</td>\n",
       "      <td>no</td>\n",
       "      <td>english (okay), chinese (okay), spanish (okay)...</td>\n",
       "      <td>believing that anything can happen. or just tr...</td>\n",
       "      <td>social entrepreneur + product marketer</td>\n",
       "      <td>balancing a spoon on my nose, making monkey fa...</td>\n",
       "      <td>big eyes</td>\n",
       "      <td>favorite- books: \"leaving microsoft to change ...</td>\n",
       "      <td>motivation creativity oxygen ideas mobility/ t...</td>\n",
       "      <td>-how to improve socioeconomic conditions in de...</td>\n",
       "      <td>out to dinner/ drinks with friends, movie...</td>\n",
       "      <td>my favorite routine: shopping for food at trad...</td>\n",
       "      <td>...you want to chat, hang out, and learn about...</td>\n",
       "    </tr>\n",
       "    <tr>\n",
       "      <th>32848</th>\n",
       "      <td>38</td>\n",
       "      <td>unknown</td>\n",
       "      <td>m</td>\n",
       "      <td>straight</td>\n",
       "      <td>NaN</td>\n",
       "      <td>NaN</td>\n",
       "      <td>socially</td>\n",
       "      <td>NaN</td>\n",
       "      <td>graduated from college/university</td>\n",
       "      <td>NaN</td>\n",
       "      <td>74.0</td>\n",
       "      <td>-1</td>\n",
       "      <td>computer / hardware / software</td>\n",
       "      <td>san francisco, california</td>\n",
       "      <td>NaN</td>\n",
       "      <td>NaN</td>\n",
       "      <td>NaN</td>\n",
       "      <td>aries and it&amp;rsquo;s fun to think about</td>\n",
       "      <td>no</td>\n",
       "      <td>english (fluently), french</td>\n",
       "      <td>i'm easy going, funny, and don't do anything h...</td>\n",
       "      <td>i'm an independent consultant. i mostly work w...</td>\n",
       "      <td>cooking from scratch, making a great coffee, p...</td>\n",
       "      <td>my eyes and my smile</td>\n",
       "      <td>a: most anything by asimov, dune, tolkien, bol...</td>\n",
       "      <td>sushi, coffee, bread, beer, music, books</td>\n",
       "      <td>NaN</td>\n",
       "      <td>what's typical about friday night? sometimes i...</td>\n",
       "      <td>NaN</td>\n",
       "      <td>NaN</td>\n",
       "    </tr>\n",
       "    <tr>\n",
       "      <th>38009</th>\n",
       "      <td>27</td>\n",
       "      <td>unknown</td>\n",
       "      <td>f</td>\n",
       "      <td>straight</td>\n",
       "      <td>NaN</td>\n",
       "      <td>NaN</td>\n",
       "      <td>rarely</td>\n",
       "      <td>never</td>\n",
       "      <td>working on college/university</td>\n",
       "      <td>white</td>\n",
       "      <td>64.0</td>\n",
       "      <td>-1</td>\n",
       "      <td>artistic / musical / writer</td>\n",
       "      <td>san francisco, california</td>\n",
       "      <td>NaN</td>\n",
       "      <td>has dogs and has cats</td>\n",
       "      <td>agnosticism and laughing about it</td>\n",
       "      <td>scorpio but it doesn&amp;rsquo;t matter</td>\n",
       "      <td>no</td>\n",
       "      <td>english (fluently), irish (fluently), chinese ...</td>\n",
       "      <td>hi there! i'm new here, and looking to make so...</td>\n",
       "      <td>right now, i am pursuing a degree in anthropol...</td>\n",
       "      <td>listening, playing music, cooking, helping peo...</td>\n",
       "      <td>my warped sense of humor, my clothing (i'm a h...</td>\n",
       "      <td>books: o'neill's music of ireland, last night'...</td>\n",
       "      <td>my flute, my laptop, my friends, cheese, my fa...</td>\n",
       "      <td>our insignificance in the universe, our possib...</td>\n",
       "      <td>playing a gig with bandmates or listening to a...</td>\n",
       "      <td>i have a morbid phobia of writing. yes, yes, y...</td>\n",
       "      <td>you like pie, you like world music, you're eas...</td>\n",
       "    </tr>\n",
       "    <tr>\n",
       "      <th>42771</th>\n",
       "      <td>37</td>\n",
       "      <td>unknown</td>\n",
       "      <td>m</td>\n",
       "      <td>straight</td>\n",
       "      <td>average</td>\n",
       "      <td>mostly anything</td>\n",
       "      <td>socially</td>\n",
       "      <td>never</td>\n",
       "      <td>dropped out of college/university</td>\n",
       "      <td>asian</td>\n",
       "      <td>66.0</td>\n",
       "      <td>-1</td>\n",
       "      <td>computer / hardware / software</td>\n",
       "      <td>berkeley, california</td>\n",
       "      <td>NaN</td>\n",
       "      <td>likes dogs and likes cats</td>\n",
       "      <td>buddhism but not too serious about it</td>\n",
       "      <td>pisces but it doesn&amp;rsquo;t matter</td>\n",
       "      <td>no</td>\n",
       "      <td>english (fluently), german (okay), japanese (o...</td>\n",
       "      <td>um. hi. i'm pretty bad at filling out these th...</td>\n",
       "      <td>NaN</td>\n",
       "      <td>NaN</td>\n",
       "      <td>NaN</td>\n",
       "      <td>NaN</td>\n",
       "      <td>NaN</td>\n",
       "      <td>NaN</td>\n",
       "      <td>NaN</td>\n",
       "      <td>NaN</td>\n",
       "      <td>NaN</td>\n",
       "    </tr>\n",
       "    <tr>\n",
       "      <th>45885</th>\n",
       "      <td>22</td>\n",
       "      <td>unknown</td>\n",
       "      <td>f</td>\n",
       "      <td>straight</td>\n",
       "      <td>curvy</td>\n",
       "      <td>mostly anything</td>\n",
       "      <td>socially</td>\n",
       "      <td>never</td>\n",
       "      <td>NaN</td>\n",
       "      <td>other</td>\n",
       "      <td>61.0</td>\n",
       "      <td>-1</td>\n",
       "      <td>other</td>\n",
       "      <td>walnut creek, california</td>\n",
       "      <td>doesn't want kids</td>\n",
       "      <td>has dogs and likes cats</td>\n",
       "      <td>NaN</td>\n",
       "      <td>leo and it&amp;rsquo;s fun to think about</td>\n",
       "      <td>no</td>\n",
       "      <td>english (fluently), japanese (poorly), spanish...</td>\n",
       "      <td>i decided it was about time to change this. al...</td>\n",
       "      <td>graduated from culinary school with a baking a...</td>\n",
       "      <td>talking and listening. believe me they go righ...</td>\n",
       "      <td>either than i'm really shy and quiet, or on th...</td>\n",
       "      <td>favorite books: hm there are a lot... my favor...</td>\n",
       "      <td>water... cheese... laughter... a good book... ...</td>\n",
       "      <td>everything... you can't stop me from thinking!...</td>\n",
       "      <td>on the internet, watching a new movie, on the ...</td>\n",
       "      <td>i have issues, and i'm hard to deal with somet...</td>\n",
       "      <td>you are a person. i guess i'll just be blunt i...</td>\n",
       "    </tr>\n",
       "    <tr>\n",
       "      <th>47999</th>\n",
       "      <td>26</td>\n",
       "      <td>unknown</td>\n",
       "      <td>f</td>\n",
       "      <td>straight</td>\n",
       "      <td>a little extra</td>\n",
       "      <td>anything</td>\n",
       "      <td>not at all</td>\n",
       "      <td>never</td>\n",
       "      <td>working on college/university</td>\n",
       "      <td>asian, white</td>\n",
       "      <td>60.0</td>\n",
       "      <td>20000</td>\n",
       "      <td>student</td>\n",
       "      <td>pleasant hill, california</td>\n",
       "      <td>NaN</td>\n",
       "      <td>has cats</td>\n",
       "      <td>agnosticism and laughing about it</td>\n",
       "      <td>capricorn and it&amp;rsquo;s fun to think about</td>\n",
       "      <td>no</td>\n",
       "      <td>english (fluently), c++ (poorly)</td>\n",
       "      <td>i am lol.  p3n0r m'/ w31n0r 8;=;=;=;=;=;=;=;=;...</td>\n",
       "      <td>lol@collegio</td>\n",
       "      <td>crap</td>\n",
       "      <td>hobo</td>\n",
       "      <td>mmm potatoez</td>\n",
       "      <td>your mom</td>\n",
       "      <td>lol</td>\n",
       "      <td>hoboing</td>\n",
       "      <td>wafl</td>\n",
       "      <td>you like wafl</td>\n",
       "    </tr>\n",
       "    <tr>\n",
       "      <th>50957</th>\n",
       "      <td>43</td>\n",
       "      <td>unknown</td>\n",
       "      <td>m</td>\n",
       "      <td>straight</td>\n",
       "      <td>fit</td>\n",
       "      <td>NaN</td>\n",
       "      <td>socially</td>\n",
       "      <td>NaN</td>\n",
       "      <td>NaN</td>\n",
       "      <td>NaN</td>\n",
       "      <td>72.0</td>\n",
       "      <td>-1</td>\n",
       "      <td>other</td>\n",
       "      <td>san francisco, california</td>\n",
       "      <td>NaN</td>\n",
       "      <td>NaN</td>\n",
       "      <td>NaN</td>\n",
       "      <td>NaN</td>\n",
       "      <td>no</td>\n",
       "      <td>english (fluently), malay (okay), chinese (poo...</td>\n",
       "      <td>i am cool but rude. i am charged to heal the e...</td>\n",
       "      <td>NaN</td>\n",
       "      <td>reeling and writhing, of course, to begin with...</td>\n",
       "      <td>NaN</td>\n",
       "      <td>NaN</td>\n",
       "      <td>NaN</td>\n",
       "      <td>NaN</td>\n",
       "      <td>NaN</td>\n",
       "      <td>NaN</td>\n",
       "      <td>NaN</td>\n",
       "    </tr>\n",
       "    <tr>\n",
       "      <th>57301</th>\n",
       "      <td>36</td>\n",
       "      <td>unknown</td>\n",
       "      <td>f</td>\n",
       "      <td>straight</td>\n",
       "      <td>NaN</td>\n",
       "      <td>NaN</td>\n",
       "      <td>not at all</td>\n",
       "      <td>never</td>\n",
       "      <td>graduated from two-year college</td>\n",
       "      <td>NaN</td>\n",
       "      <td>68.0</td>\n",
       "      <td>20000</td>\n",
       "      <td>NaN</td>\n",
       "      <td>mill valley, california</td>\n",
       "      <td>has a kid</td>\n",
       "      <td>NaN</td>\n",
       "      <td>christianity and very serious about it</td>\n",
       "      <td>leo and it&amp;rsquo;s fun to think about</td>\n",
       "      <td>no</td>\n",
       "      <td>english</td>\n",
       "      <td>i'm not here looking for a date. i'm here look...</td>\n",
       "      <td>NaN</td>\n",
       "      <td>cooking, photography, arguing.</td>\n",
       "      <td>NaN</td>\n",
       "      <td>NaN</td>\n",
       "      <td>my phone, my laptop, my church, my running sho...</td>\n",
       "      <td>NaN</td>\n",
       "      <td>NaN</td>\n",
       "      <td>NaN</td>\n",
       "      <td>you have a cool anime hairstyle (smirk)</td>\n",
       "    </tr>\n",
       "  </tbody>\n",
       "</table>\n",
       "</div>"
      ],
      "text/plain": [
       "       age   status sex orientation       body_type             diet  \\\n",
       "17337   57  unknown   m         gay         average  mostly anything   \n",
       "20367   38  unknown   m    straight         average              NaN   \n",
       "31148   31  unknown   m    straight        athletic              NaN   \n",
       "32848   38  unknown   m    straight             NaN              NaN   \n",
       "38009   27  unknown   f    straight             NaN              NaN   \n",
       "42771   37  unknown   m    straight         average  mostly anything   \n",
       "45885   22  unknown   f    straight           curvy  mostly anything   \n",
       "47999   26  unknown   f    straight  a little extra         anything   \n",
       "50957   43  unknown   m    straight             fit              NaN   \n",
       "57301   36  unknown   f    straight             NaN              NaN   \n",
       "\n",
       "           drinks  drugs                          education     ethnicity  \\\n",
       "17337      rarely    NaN         graduated from high school         white   \n",
       "20367    socially    NaN                                NaN           NaN   \n",
       "31148    socially  never         working on masters program         asian   \n",
       "32848    socially    NaN  graduated from college/university           NaN   \n",
       "38009      rarely  never      working on college/university         white   \n",
       "42771    socially  never  dropped out of college/university         asian   \n",
       "45885    socially  never                                NaN         other   \n",
       "47999  not at all  never      working on college/university  asian, white   \n",
       "50957    socially    NaN                                NaN           NaN   \n",
       "57301  not at all  never    graduated from two-year college           NaN   \n",
       "\n",
       "       height  income                             job  \\\n",
       "17337    70.0      -1                         retired   \n",
       "20367    68.0      -1                             NaN   \n",
       "31148    69.0      -1     sales / marketing / biz dev   \n",
       "32848    74.0      -1  computer / hardware / software   \n",
       "38009    64.0      -1     artistic / musical / writer   \n",
       "42771    66.0      -1  computer / hardware / software   \n",
       "45885    61.0      -1                           other   \n",
       "47999    60.0   20000                         student   \n",
       "50957    72.0      -1                           other   \n",
       "57301    68.0   20000                             NaN   \n",
       "\n",
       "                        location          offspring  \\\n",
       "17337     menlo park, california  doesn't want kids   \n",
       "20367        oakland, california                NaN   \n",
       "31148  san francisco, california                NaN   \n",
       "32848  san francisco, california                NaN   \n",
       "38009  san francisco, california                NaN   \n",
       "42771       berkeley, california                NaN   \n",
       "45885   walnut creek, california  doesn't want kids   \n",
       "47999  pleasant hill, california                NaN   \n",
       "50957  san francisco, california                NaN   \n",
       "57301    mill valley, california          has a kid   \n",
       "\n",
       "                            pets                                religion  \\\n",
       "17337  likes dogs and likes cats                                   other   \n",
       "20367                        NaN                                     NaN   \n",
       "31148                        NaN                                     NaN   \n",
       "32848                        NaN                                     NaN   \n",
       "38009      has dogs and has cats       agnosticism and laughing about it   \n",
       "42771  likes dogs and likes cats   buddhism but not too serious about it   \n",
       "45885    has dogs and likes cats                                     NaN   \n",
       "47999                   has cats       agnosticism and laughing about it   \n",
       "50957                        NaN                                     NaN   \n",
       "57301                        NaN  christianity and very serious about it   \n",
       "\n",
       "                                              sign smokes  \\\n",
       "17337                                          leo     no   \n",
       "20367                                          NaN    NaN   \n",
       "31148                                     aquarius     no   \n",
       "32848      aries and it&rsquo;s fun to think about     no   \n",
       "38009          scorpio but it doesn&rsquo;t matter     no   \n",
       "42771           pisces but it doesn&rsquo;t matter     no   \n",
       "45885        leo and it&rsquo;s fun to think about     no   \n",
       "47999  capricorn and it&rsquo;s fun to think about     no   \n",
       "50957                                          NaN     no   \n",
       "57301        leo and it&rsquo;s fun to think about     no   \n",
       "\n",
       "                                                  speaks  \\\n",
       "17337                                   english, english   \n",
       "20367                                            english   \n",
       "31148  english (okay), chinese (okay), spanish (okay)...   \n",
       "32848                         english (fluently), french   \n",
       "38009  english (fluently), irish (fluently), chinese ...   \n",
       "42771  english (fluently), german (okay), japanese (o...   \n",
       "45885  english (fluently), japanese (poorly), spanish...   \n",
       "47999                   english (fluently), c++ (poorly)   \n",
       "50957  english (fluently), malay (okay), chinese (poo...   \n",
       "57301                                            english   \n",
       "\n",
       "                                                  essay0  \\\n",
       "17337  as an artist i like to borrow images that i li...   \n",
       "20367  fun loving professional guy. i live in oakland...   \n",
       "31148  believing that anything can happen. or just tr...   \n",
       "32848  i'm easy going, funny, and don't do anything h...   \n",
       "38009  hi there! i'm new here, and looking to make so...   \n",
       "42771  um. hi. i'm pretty bad at filling out these th...   \n",
       "45885  i decided it was about time to change this. al...   \n",
       "47999  i am lol.  p3n0r m'/ w31n0r 8;=;=;=;=;=;=;=;=;...   \n",
       "50957  i am cool but rude. i am charged to heal the e...   \n",
       "57301  i'm not here looking for a date. i'm here look...   \n",
       "\n",
       "                                                  essay1  \\\n",
       "17337         filling life with as much colour as i can.   \n",
       "20367                                                NaN   \n",
       "31148             social entrepreneur + product marketer   \n",
       "32848  i'm an independent consultant. i mostly work w...   \n",
       "38009  right now, i am pursuing a degree in anthropol...   \n",
       "42771                                                NaN   \n",
       "45885  graduated from culinary school with a baking a...   \n",
       "47999                                       lol@collegio   \n",
       "50957                                                NaN   \n",
       "57301                                                NaN   \n",
       "\n",
       "                                                  essay2  \\\n",
       "17337                spinning records & dabbing brushes.   \n",
       "20367                                                NaN   \n",
       "31148  balancing a spoon on my nose, making monkey fa...   \n",
       "32848  cooking from scratch, making a great coffee, p...   \n",
       "38009  listening, playing music, cooking, helping peo...   \n",
       "42771                                                NaN   \n",
       "45885  talking and listening. believe me they go righ...   \n",
       "47999                                               crap   \n",
       "50957  reeling and writhing, of course, to begin with...   \n",
       "57301                     cooking, photography, arguing.   \n",
       "\n",
       "                                                  essay3  \\\n",
       "17337  i have an assortment of hand-painted shirts i ...   \n",
       "20367                                                NaN   \n",
       "31148                                           big eyes   \n",
       "32848                               my eyes and my smile   \n",
       "38009  my warped sense of humor, my clothing (i'm a h...   \n",
       "42771                                                NaN   \n",
       "45885  either than i'm really shy and quiet, or on th...   \n",
       "47999                                               hobo   \n",
       "50957                                                NaN   \n",
       "57301                                                NaN   \n",
       "\n",
       "                                                  essay4  \\\n",
       "17337  books ----- frank herbert, clive barker, verno...   \n",
       "20367                                                NaN   \n",
       "31148  favorite- books: \"leaving microsoft to change ...   \n",
       "32848  a: most anything by asimov, dune, tolkien, bol...   \n",
       "38009  books: o'neill's music of ireland, last night'...   \n",
       "42771                                                NaN   \n",
       "45885  favorite books: hm there are a lot... my favor...   \n",
       "47999                                       mmm potatoez   \n",
       "50957                                                NaN   \n",
       "57301                                                NaN   \n",
       "\n",
       "                                                  essay5  \\\n",
       "17337  family the newest member of my family \"dances ...   \n",
       "20367                                                NaN   \n",
       "31148  motivation creativity oxygen ideas mobility/ t...   \n",
       "32848           sushi, coffee, bread, beer, music, books   \n",
       "38009  my flute, my laptop, my friends, cheese, my fa...   \n",
       "42771                                                NaN   \n",
       "45885  water... cheese... laughter... a good book... ...   \n",
       "47999                                           your mom   \n",
       "50957                                                NaN   \n",
       "57301  my phone, my laptop, my church, my running sho...   \n",
       "\n",
       "                                                  essay6  \\\n",
       "17337     i love brian eno's idea of the happy accident.   \n",
       "20367                                                NaN   \n",
       "31148  -how to improve socioeconomic conditions in de...   \n",
       "32848                                                NaN   \n",
       "38009  our insignificance in the universe, our possib...   \n",
       "42771                                                NaN   \n",
       "45885  everything... you can't stop me from thinking!...   \n",
       "47999                                                lol   \n",
       "50957                                                NaN   \n",
       "57301                                                NaN   \n",
       "\n",
       "                                                  essay7  \\\n",
       "17337  at home with my boy friend usually, listening ...   \n",
       "20367                                                NaN   \n",
       "31148       out to dinner/ drinks with friends, movie...   \n",
       "32848  what's typical about friday night? sometimes i...   \n",
       "38009  playing a gig with bandmates or listening to a...   \n",
       "42771                                                NaN   \n",
       "45885  on the internet, watching a new movie, on the ...   \n",
       "47999                                            hoboing   \n",
       "50957                                                NaN   \n",
       "57301                                                NaN   \n",
       "\n",
       "                                                  essay8  \\\n",
       "17337              paisley hankys are on the right side.   \n",
       "20367  i have watched late-night nanny marathons (or ...   \n",
       "31148  my favorite routine: shopping for food at trad...   \n",
       "32848                                                NaN   \n",
       "38009  i have a morbid phobia of writing. yes, yes, y...   \n",
       "42771                                                NaN   \n",
       "45885  i have issues, and i'm hard to deal with somet...   \n",
       "47999                                               wafl   \n",
       "50957                                                NaN   \n",
       "57301                                                NaN   \n",
       "\n",
       "                                                  essay9  \n",
       "17337  if you are a character of interest ? drop a line.  \n",
       "20367                                                NaN  \n",
       "31148  ...you want to chat, hang out, and learn about...  \n",
       "32848                                                NaN  \n",
       "38009  you like pie, you like world music, you're eas...  \n",
       "42771                                                NaN  \n",
       "45885  you are a person. i guess i'll just be blunt i...  \n",
       "47999                                      you like wafl  \n",
       "50957                                                NaN  \n",
       "57301            you have a cool anime hairstyle (smirk)  "
      ]
     },
     "execution_count": 33,
     "metadata": {},
     "output_type": "execute_result"
    }
   ],
   "source": [
    "df[df[\"status\"] == \"unknown\"]"
   ]
  },
  {
   "cell_type": "markdown",
   "metadata": {},
   "source": [
    "Parece que estos perfiles son serios, lo cual hace que nos cueste eliminarlos. Lo que haremos será tratar `unknown` para que el one-hot devuelva un vector vacío (completo con ceros)."
   ]
  },
  {
   "cell_type": "markdown",
   "metadata": {},
   "source": [
    "Por otra parte, vamos a considerar que los estados `single` y `available` son sinónimos. Es posible que haya relaciones abiertas o algo similar, pero este tipo de relaciones no son tan comunes como para abarcar un porcentaje tan alto de los datos. Por eso unificaremos estas dos categorías utilizando el `substitution_transformer`."
   ]
  },
  {
   "cell_type": "markdown",
   "metadata": {},
   "source": [
    "Vamos a preparar un transformador para implementar estos detalles que hemos mencionado:"
   ]
  },
  {
   "cell_type": "code",
   "execution_count": 34,
   "metadata": {
    "ExecuteTime": {
     "end_time": "2021-01-13T17:22:56.947386Z",
     "start_time": "2021-01-13T17:22:56.873643Z"
    }
   },
   "outputs": [],
   "source": [
    "df[\"status\"] = df[\"status\"].astype(object)\n",
    "status_transformer = Pipeline([\n",
    "    (\"available_to_single\", substitution_transformer({\"available\": \"single\"})),\n",
    "    (\"one_hot\", OneHotEncoder(categories=[[\"single\", \"seeing someone\", \"married\"]], handle_unknown=\"ignore\"))\n",
    "])"
   ]
  },
  {
   "cell_type": "markdown",
   "metadata": {},
   "source": [
    "#### 2.2.1.2 Sexo"
   ]
  },
  {
   "cell_type": "markdown",
   "metadata": {},
   "source": [
    "A continuación estudiaremos el sexo de los usuarios."
   ]
  },
  {
   "cell_type": "code",
   "execution_count": 35,
   "metadata": {
    "ExecuteTime": {
     "end_time": "2021-01-13T17:22:57.040075Z",
     "start_time": "2021-01-13T17:22:56.949474Z"
    }
   },
   "outputs": [
    {
     "data": {
      "text/plain": [
       "m    35799\n",
       "f    24102\n",
       "Name: sex, dtype: int64"
      ]
     },
     "execution_count": 35,
     "metadata": {},
     "output_type": "execute_result"
    }
   ],
   "source": [
    "df[\"sex\"].value_counts(dropna=False)"
   ]
  },
  {
   "cell_type": "markdown",
   "metadata": {},
   "source": [
    "Parece que no hay valores nulos, lo cual es positivo. Esta variable se puede codificar simplemente como 0 si hombre y 1 si mujer, o viceversa."
   ]
  },
  {
   "cell_type": "code",
   "execution_count": 36,
   "metadata": {
    "ExecuteTime": {
     "end_time": "2021-01-13T17:22:57.143662Z",
     "start_time": "2021-01-13T17:22:57.042588Z"
    }
   },
   "outputs": [],
   "source": [
    "sex_transformer = OrdinalEncoder(categories=[[\"m\", \"f\"]])"
   ]
  },
  {
   "cell_type": "markdown",
   "metadata": {},
   "source": [
    "#### 2.2.1.3 Bebida"
   ]
  },
  {
   "cell_type": "markdown",
   "metadata": {},
   "source": [
    "Lo primero es ver qué tipos tenemos."
   ]
  },
  {
   "cell_type": "code",
   "execution_count": 37,
   "metadata": {
    "ExecuteTime": {
     "end_time": "2021-01-13T17:22:57.255150Z",
     "start_time": "2021-01-13T17:22:57.150305Z"
    }
   },
   "outputs": [
    {
     "data": {
      "text/plain": [
       "socially       41764\n",
       "rarely          5955\n",
       "often           5157\n",
       "not at all      3264\n",
       "NaN             2975\n",
       "very often       469\n",
       "desperately      317\n",
       "Name: drinks, dtype: int64"
      ]
     },
     "execution_count": 37,
     "metadata": {},
     "output_type": "execute_result"
    }
   ],
   "source": [
    "df[\"drinks\"].value_counts(dropna=False)"
   ]
  },
  {
   "cell_type": "markdown",
   "metadata": {},
   "source": [
    "Este parece un ejemplo claro de variable ordinal. Si ordenamos las categorías y consideramos que `NaN` significa algo promedio (no podemos asumir nada más), podemos desarrollar un transformador simple que codifique la variable como ordinal.\n",
    "\n",
    "Después de la codificación ordinal, deberemos escalar al rango 0-1, ya que una normalización no será acertada."
   ]
  },
  {
   "cell_type": "code",
   "execution_count": 38,
   "metadata": {
    "ExecuteTime": {
     "end_time": "2021-01-13T17:22:57.362202Z",
     "start_time": "2021-01-13T17:22:57.258033Z"
    }
   },
   "outputs": [],
   "source": [
    "df[\"drinks\"] = df[\"drinks\"].astype(str).astype(object)  # Needed to convert np.nan to string \"nan\"\n",
    "drinks_transformer = Pipeline([\n",
    "    (\"nan_to_socially\", substitution_transformer({\"nan\": \"socially\"})),\n",
    "    (\"encoder\", OrdinalEncoder(categories=[[\"not at all\", \"rarely\", \"socially\", \"often\", \"very often\", \"desperately\"]])),\n",
    "    (\"scaler\", MinMaxScaler())\n",
    "])"
   ]
  },
  {
   "cell_type": "markdown",
   "metadata": {},
   "source": [
    "#### 2.2.1.4 Drogas"
   ]
  },
  {
   "cell_type": "markdown",
   "metadata": {},
   "source": [
    "Como siempre, echamos un primer vistazo a las categorías."
   ]
  },
  {
   "cell_type": "code",
   "execution_count": 39,
   "metadata": {
    "ExecuteTime": {
     "end_time": "2021-01-13T17:22:57.460214Z",
     "start_time": "2021-01-13T17:22:57.365753Z"
    }
   },
   "outputs": [
    {
     "data": {
      "text/plain": [
       "never        37704\n",
       "NaN          14066\n",
       "sometimes     7726\n",
       "often          405\n",
       "Name: drugs, dtype: int64"
      ]
     },
     "execution_count": 39,
     "metadata": {},
     "output_type": "execute_result"
    }
   ],
   "source": [
    "df[\"drugs\"].value_counts(dropna=False)"
   ]
  },
  {
   "cell_type": "markdown",
   "metadata": {},
   "source": [
    "En este caso vamos a codificar la variable también de forma ordinal, con la distinción de que los valores `NaN` quedarán colocados entre `never` y `sometimes`. Hacemos esto porque creemos que los valores `NaN` pueden deberse a gente que ha tomado drogas en el pasado, pero ya no lo hace y prefiere no contestar a escribir `sometimes`. Es una posibilidad que hace que sea mala idea sustituir `NaN` con `sometimes`."
   ]
  },
  {
   "cell_type": "code",
   "execution_count": 40,
   "metadata": {
    "ExecuteTime": {
     "end_time": "2021-01-13T17:22:57.564643Z",
     "start_time": "2021-01-13T17:22:57.465744Z"
    }
   },
   "outputs": [],
   "source": [
    "df[\"drugs\"] = df[\"drugs\"].astype(str).astype(object)  # Needed to convert np.nan to string \"nan\"\n",
    "drugs_transformer = Pipeline([\n",
    "    (\"encoder\", OrdinalEncoder(categories=[[\"never\", \"nan\", \"sometimes\", \"often\"]])),\n",
    "    (\"scaler\", MinMaxScaler())\n",
    "])"
   ]
  },
  {
   "cell_type": "markdown",
   "metadata": {},
   "source": [
    "#### 2.2.1.5 Ocupación laboral"
   ]
  },
  {
   "cell_type": "code",
   "execution_count": 41,
   "metadata": {
    "ExecuteTime": {
     "end_time": "2021-01-13T17:22:57.685444Z",
     "start_time": "2021-01-13T17:22:57.567916Z"
    }
   },
   "outputs": [
    {
     "data": {
      "text/plain": [
       "NaN                                  8185\n",
       "other                                7584\n",
       "student                              4878\n",
       "science / tech / engineering         4845\n",
       "computer / hardware / software       4706\n",
       "artistic / musical / writer          4435\n",
       "sales / marketing / biz dev          4390\n",
       "medicine / health                    3679\n",
       "education / academia                 3511\n",
       "executive / management               2373\n",
       "banking / financial / real estate    2265\n",
       "entertainment / media                2249\n",
       "law / legal services                 1380\n",
       "hospitality / travel                 1364\n",
       "construction / craftsmanship         1020\n",
       "clerical / administrative             805\n",
       "political / government                708\n",
       "rather not say                        433\n",
       "transportation                        366\n",
       "unemployed                            272\n",
       "retired                               250\n",
       "military                              203\n",
       "Name: job, dtype: int64"
      ]
     },
     "execution_count": 41,
     "metadata": {},
     "output_type": "execute_result"
    }
   ],
   "source": [
    "df[\"job\"].value_counts(dropna=False)"
   ]
  },
  {
   "cell_type": "markdown",
   "metadata": {},
   "source": [
    "Esta variable se codificará con un `OneHotEncoder`. Los valores nulos en este caso se tratarán como los valores `other`: se devolverá un vector de ceros vacío."
   ]
  },
  {
   "cell_type": "code",
   "execution_count": 42,
   "metadata": {
    "ExecuteTime": {
     "end_time": "2021-01-13T17:22:57.782832Z",
     "start_time": "2021-01-13T17:22:57.689488Z"
    }
   },
   "outputs": [],
   "source": [
    "df[\"job\"] = df[\"job\"].astype(str).astype(object)  # Needed to convert np.nan to string \"nan\"\n",
    "\n",
    "job_transformer = Pipeline([\n",
    "    (\"nan_to_other\", substitution_transformer({\"nan\": \"other\"})),\n",
    "    (\"encoder\", OneHotEncoder(drop=[[\"other\"]]))\n",
    "])"
   ]
  },
  {
   "cell_type": "markdown",
   "metadata": {},
   "source": [
    "#### 2.2.1.6 Tabaco"
   ]
  },
  {
   "cell_type": "markdown",
   "metadata": {},
   "source": [
    "Como siempre, empezamos observando los posibles valores de la variable."
   ]
  },
  {
   "cell_type": "code",
   "execution_count": 43,
   "metadata": {
    "ExecuteTime": {
     "end_time": "2021-01-13T17:22:57.890688Z",
     "start_time": "2021-01-13T17:22:57.785390Z"
    }
   },
   "outputs": [
    {
     "data": {
      "text/plain": [
       "no                43874\n",
       "NaN                5501\n",
       "sometimes          3785\n",
       "when drinking      3035\n",
       "yes                2226\n",
       "trying to quit     1480\n",
       "Name: smokes, dtype: int64"
      ]
     },
     "execution_count": 43,
     "metadata": {},
     "output_type": "execute_result"
    }
   ],
   "source": [
    "df[\"smokes\"].value_counts(dropna=False)"
   ]
  },
  {
   "cell_type": "markdown",
   "metadata": {},
   "source": [
    "Este caso es similar a `drugs`, con algunas diferencias:\n",
    "- Vamos a unificar `when drinking` y `sometimes` porque los consideramos sinónimos.\n",
    "- Vamos a completar los valores `NaN` con `sometimes` (asumiendo que si alguien no fuma, habría contestado `no`).\n",
    "- Vamos a hacer que `trying to quit` sea igual a `sometimes`, con la idea de que alguien que está intentando dejar el tabaco está a medio camino de alguien que fuma habitualmente y alguien que no."
   ]
  },
  {
   "cell_type": "code",
   "execution_count": 44,
   "metadata": {
    "ExecuteTime": {
     "end_time": "2021-01-13T17:22:57.995324Z",
     "start_time": "2021-01-13T17:22:57.893360Z"
    }
   },
   "outputs": [],
   "source": [
    "df[\"smokes\"] = df[\"smokes\"].astype(str).astype(object)  # Needed to convert np.nan to string \"nan\"\n",
    "smokes_transformer = Pipeline([\n",
    "    (\"category_merger\", substitution_transformer({\"nan\": \"sometimes\", \"when drinking\": \"sometimes\", \"trying to quit\": \"sometimes\"})),\n",
    "    (\"encoder\", OrdinalEncoder(categories=[[\"no\", \"sometimes\", \"yes\"]])),\n",
    "    (\"scaler\", MinMaxScaler())\n",
    "])"
   ]
  },
  {
   "cell_type": "markdown",
   "metadata": {},
   "source": [
    "### 2.2.2 Variables categóricas multidimensionales"
   ]
  },
  {
   "cell_type": "markdown",
   "metadata": {},
   "source": [
    "Este apartado se refiere a variables categóricas que se van a codificar como puntos de un espacio vectorial de varias dimensiones. Un ejemplo es la localización geográfica, que convertiremos en dos variables de latitud y longitud. Esto se hará para mantener las distancias entre instancias similares. Por ejemplo, un usuario de California puede estar a la misma latitud que alguien de España, pero evidentemente está mucho más lejos que de un usuario de Nueva York, donde ni la latitud ni la longitud están cerca. Es la combinación de las variables la que da una medición precisa.\n",
    "\n",
    "Las variables multidimensionales son `orientation`, `body_type`, `location`, `offspring` y `pets`.\n",
    "\n",
    "La forma unificada de codificar estas variables se hará mediante un diccionario que convertirá un *string* (categoría) dado en una tupla que representará el punto en cuestión. Una vez se tenga el diccionario, se generará un transformador de `sklearn` con la siguiente función:"
   ]
  },
  {
   "cell_type": "code",
   "execution_count": 45,
   "metadata": {
    "ExecuteTime": {
     "end_time": "2021-01-13T17:22:58.076548Z",
     "start_time": "2021-01-13T17:22:57.998486Z"
    }
   },
   "outputs": [],
   "source": [
    "def category_to_point_transformer(transformer_dict):\n",
    "    \n",
    "    def transform(X):\n",
    "        assert len(X.shape) == 2\n",
    "        assert X.shape[-1] == 1, \"Use this transformer on single features only.\"\n",
    "        if type(X) is pd.DataFrame:\n",
    "            X = X.to_numpy()\n",
    "        X = X[:, 0]\n",
    "        \n",
    "        output_shape = len(list(transformer_dict.values())[0])\n",
    "        assert all([len(x) == output_shape for x in transformer_dict.values()])\n",
    "        \n",
    "        ret = np.zeros((len(X), output_shape), dtype=float)\n",
    "        for i in range(len(X)):\n",
    "            row = []\n",
    "            for j in range(output_shape):\n",
    "                row.append(transformer_dict[X[i]][j])\n",
    "            ret[i] = np.array(row)\n",
    "            \n",
    "        return ret\n",
    "    \n",
    "    return FunctionTransformer(transform)"
   ]
  },
  {
   "cell_type": "markdown",
   "metadata": {},
   "source": [
    "#### 2.2.2.1 Orientación sexual"
   ]
  },
  {
   "cell_type": "markdown",
   "metadata": {},
   "source": [
    "Lo primero que hacemos es ver qué tipos de variables tenemos."
   ]
  },
  {
   "cell_type": "code",
   "execution_count": 46,
   "metadata": {
    "ExecuteTime": {
     "end_time": "2021-01-13T17:22:58.199894Z",
     "start_time": "2021-01-13T17:22:58.082407Z"
    }
   },
   "outputs": [
    {
     "data": {
      "text/plain": [
       "straight    51564\n",
       "gay          5572\n",
       "bisexual     2765\n",
       "Name: orientation, dtype: int64"
      ]
     },
     "execution_count": 46,
     "metadata": {},
     "output_type": "execute_result"
    }
   ],
   "source": [
    "df[\"orientation\"].value_counts(dropna=False)"
   ]
  },
  {
   "cell_type": "markdown",
   "metadata": {},
   "source": [
    "Para este caso, queremos representar la orientación sexual con dos variables `likes_men` y `likes_women`. Creemos que es una idea más acertada que simplemente codificar como one-hot, o como un valor que vaya de 0 a 1 (con 0.5 si es `bisexual`), ya que entendemos que las categorías de `straight` y `gay` no significan lo mismo si hablamos de un hombre que si hablamos de una mujer. Por eso, lo primero que vamos a hacer es añadir el sexo de la persona como parte de la columna `orientation`, a fin de facilitar el preprocesamiento más adelante."
   ]
  },
  {
   "cell_type": "code",
   "execution_count": 47,
   "metadata": {
    "ExecuteTime": {
     "end_time": "2021-01-13T17:22:58.312282Z",
     "start_time": "2021-01-13T17:22:58.204486Z"
    }
   },
   "outputs": [
    {
     "data": {
      "text/plain": [
       "37988    straight f\n",
       "53353    straight m\n",
       "18781    straight f\n",
       "28027    straight f\n",
       "34819    straight f\n",
       "Name: orientation, dtype: object"
      ]
     },
     "execution_count": 47,
     "metadata": {},
     "output_type": "execute_result"
    }
   ],
   "source": [
    "df[\"orientation\"] = df[\"orientation\"] + \" \" + df[\"sex\"]\n",
    "df[\"orientation\"].sample(n=5, random_state=RANDOM_SEED)"
   ]
  },
  {
   "cell_type": "markdown",
   "metadata": {},
   "source": [
    "A continuación preparamos un diccionario que nos dé los resultados esperados."
   ]
  },
  {
   "cell_type": "code",
   "execution_count": 48,
   "metadata": {
    "ExecuteTime": {
     "end_time": "2021-01-13T17:22:58.383808Z",
     "start_time": "2021-01-13T17:22:58.314484Z"
    }
   },
   "outputs": [],
   "source": [
    "# Orientation tuple: (likes_men, likes_women)\n",
    "orientation_dict = {\n",
    "    \"gay f\": (0, 1),\n",
    "    \"gay m\": (1, 0),\n",
    "    \"straight f\": (1, 0),\n",
    "    \"straight m\": (0, 1),\n",
    "    \"bisexual f\": (1, 1),\n",
    "    \"bisexual m\": (1, 1)\n",
    "}"
   ]
  },
  {
   "cell_type": "code",
   "execution_count": 49,
   "metadata": {
    "ExecuteTime": {
     "end_time": "2021-01-13T17:22:58.507824Z",
     "start_time": "2021-01-13T17:22:58.386563Z"
    }
   },
   "outputs": [
    {
     "data": {
      "text/plain": [
       "True"
      ]
     },
     "execution_count": 49,
     "metadata": {},
     "output_type": "execute_result"
    }
   ],
   "source": [
    "all([x in orientation_dict.keys() for x in df[\"orientation\"]])"
   ]
  },
  {
   "cell_type": "markdown",
   "metadata": {},
   "source": [
    "Ahora sólo falta preparar el transformador para la etapa de preprocesamiento."
   ]
  },
  {
   "cell_type": "code",
   "execution_count": 50,
   "metadata": {
    "ExecuteTime": {
     "end_time": "2021-01-13T17:22:58.574823Z",
     "start_time": "2021-01-13T17:22:58.511566Z"
    }
   },
   "outputs": [],
   "source": [
    "orientation_transformer = category_to_point_transformer(orientation_dict)"
   ]
  },
  {
   "cell_type": "markdown",
   "metadata": {},
   "source": [
    "#### 2.2.2.2 Complexión corporal"
   ]
  },
  {
   "cell_type": "markdown",
   "metadata": {},
   "source": [
    "Observamos antes de nada los tipos con los que trabajamos."
   ]
  },
  {
   "cell_type": "code",
   "execution_count": 51,
   "metadata": {
    "ExecuteTime": {
     "end_time": "2021-01-13T17:22:58.711508Z",
     "start_time": "2021-01-13T17:22:58.577067Z"
    }
   },
   "outputs": [
    {
     "data": {
      "text/plain": [
       "average           14651\n",
       "fit               12708\n",
       "athletic          11809\n",
       "NaN                5283\n",
       "thin               4710\n",
       "curvy              3923\n",
       "a little extra     2629\n",
       "skinny             1777\n",
       "full figured       1009\n",
       "overweight          442\n",
       "jacked              413\n",
       "used up             350\n",
       "rather not say      197\n",
       "Name: body_type, dtype: int64"
      ]
     },
     "execution_count": 51,
     "metadata": {},
     "output_type": "execute_result"
    }
   ],
   "source": [
    "df[\"body_type\"].value_counts(dropna=False)"
   ]
  },
  {
   "cell_type": "markdown",
   "metadata": {},
   "source": [
    "En este caso es evidente que podemos unificar muchos de los tipos. Nos hemos planteado tratarlo como un punto de $n$ dimensiones por dos motivos:\n",
    "- Primero, una codificación one-hot no sería realista incluso después de unificar los elementos similares. Codificar las categorías como vectores perpendiculares entre sí conseguiría que la distancia entre `skinny` y `average` fuera la misma que la distancia entre `skinny` y `overweight`, por ejemplo.\n",
    "- Segundo, una codificación ordinal desperdiciaría mucha información, ya que hay varias escalas en las que se pueden ordenar las categorías.\n",
    "\n",
    "Cada una de estas escalas será una dimensión del espacio de codificación. Estas escalas serán el peso relativo y el atletismo relativo (cuerpo más o menos definido) y tomarán valores entre 0 y 1.\n",
    "\n",
    "En los casos `rather not say` y `NaN`, no podemos hacer más que considerarlos `average`."
   ]
  },
  {
   "cell_type": "code",
   "execution_count": 52,
   "metadata": {
    "ExecuteTime": {
     "end_time": "2021-01-13T17:22:58.825652Z",
     "start_time": "2021-01-13T17:22:58.715899Z"
    }
   },
   "outputs": [],
   "source": [
    "df[\"body_type\"] = df[\"body_type\"].astype(str).astype(object)\n",
    "\n",
    "# Body type tuple: (weight, athletism)\n",
    "body_type_dict = {\n",
    "    \"average\": (0.5, 0.5),\n",
    "    \"nan\": (0.5, 0.5),\n",
    "    \"rather not say\": (0.5, 0.5),\n",
    "    \n",
    "    \"skinny\": (0, 0),\n",
    "    \"thin\": (0.25, 0.5),\n",
    "    \n",
    "    \"curvy\": (0.75, 0.5),\n",
    "    \"a little extra\": (0.75, 0.5),\n",
    "    \"full figured\": (0.75, 0.5),\n",
    "    \"overweight\": (1, 0),\n",
    "    \n",
    "    \"fit\": (0.5, 1),\n",
    "    \"athletic\": (0.5, 1),\n",
    "    \"jacked\": (1, 1),\n",
    "    \n",
    "    \"used up\": (0.5, 0)\n",
    "}"
   ]
  },
  {
   "cell_type": "code",
   "execution_count": 53,
   "metadata": {
    "ExecuteTime": {
     "end_time": "2021-01-13T17:22:58.943223Z",
     "start_time": "2021-01-13T17:22:58.831178Z"
    }
   },
   "outputs": [
    {
     "data": {
      "text/plain": [
       "True"
      ]
     },
     "execution_count": 53,
     "metadata": {},
     "output_type": "execute_result"
    }
   ],
   "source": [
    "all([x in body_type_dict.keys() for x in df[\"body_type\"]])"
   ]
  },
  {
   "cell_type": "markdown",
   "metadata": {},
   "source": [
    "Sólo queda preparar el transformador usando `category_to_point_transformer`."
   ]
  },
  {
   "cell_type": "code",
   "execution_count": 54,
   "metadata": {
    "ExecuteTime": {
     "end_time": "2021-01-13T17:22:59.374650Z",
     "start_time": "2021-01-13T17:22:58.945345Z"
    }
   },
   "outputs": [],
   "source": [
    "body_type_transformer = category_to_point_transformer(body_type_dict)"
   ]
  },
  {
   "cell_type": "markdown",
   "metadata": {},
   "source": [
    "#### 2.2.2.3 Localización geográfica"
   ]
  },
  {
   "cell_type": "code",
   "execution_count": 55,
   "metadata": {
    "ExecuteTime": {
     "end_time": "2021-01-13T17:22:59.485286Z",
     "start_time": "2021-01-13T17:22:59.379566Z"
    }
   },
   "outputs": [
    {
     "data": {
      "text/plain": [
       "san francisco, california    31043\n",
       "oakland, california           7210\n",
       "berkeley, california          4206\n",
       "san mateo, california         1329\n",
       "palo alto, california         1063\n",
       "                             ...  \n",
       "ozone park, new york             1\n",
       "vacaville, california            1\n",
       "islip terrace, new york          1\n",
       "murfreesboro, tennessee          1\n",
       "muir beach, california           1\n",
       "Name: location, Length: 198, dtype: int64"
      ]
     },
     "execution_count": 55,
     "metadata": {},
     "output_type": "execute_result"
    }
   ],
   "source": [
    "df[\"location\"].value_counts(dropna=False)"
   ]
  },
  {
   "cell_type": "code",
   "execution_count": 56,
   "metadata": {
    "ExecuteTime": {
     "end_time": "2021-01-13T17:22:59.629213Z",
     "start_time": "2021-01-13T17:22:59.487665Z"
    }
   },
   "outputs": [
    {
     "data": {
      "text/plain": [
       "False"
      ]
     },
     "execution_count": 56,
     "metadata": {},
     "output_type": "execute_result"
    }
   ],
   "source": [
    "any(df[\"location\"].isnull())"
   ]
  },
  {
   "cell_type": "markdown",
   "metadata": {},
   "source": [
    "En este caso, parece que tenemos localizaciones en forma de *strings* que siguen el formato \\[ciudad\\], \\[estado\\]. En el caso de E.E.U.U parece que sí es el estado, mientras que en el resto de países es el nombre del país. Debemos comprobar que este formato está compartido por todos los elementos de la serie."
   ]
  },
  {
   "cell_type": "code",
   "execution_count": 57,
   "metadata": {
    "ExecuteTime": {
     "end_time": "2021-01-13T17:22:59.763519Z",
     "start_time": "2021-01-13T17:22:59.632378Z"
    }
   },
   "outputs": [
    {
     "data": {
      "text/plain": [
       "False"
      ]
     },
     "execution_count": 57,
     "metadata": {},
     "output_type": "execute_result"
    }
   ],
   "source": [
    "all(df[\"location\"].apply(lambda x: x.count(\",\") == 1))"
   ]
  },
  {
   "cell_type": "code",
   "execution_count": 58,
   "metadata": {
    "ExecuteTime": {
     "end_time": "2021-01-13T17:22:59.887748Z",
     "start_time": "2021-01-13T17:22:59.766049Z"
    }
   },
   "outputs": [
    {
     "data": {
      "text/plain": [
       "42438    vancouver, british columbia, canada\n",
       "Name: location, dtype: object"
      ]
     },
     "execution_count": 58,
     "metadata": {},
     "output_type": "execute_result"
    }
   ],
   "source": [
    "df[\"location\"][df[\"location\"].apply(lambda x: x.count(\",\") != 1)]"
   ]
  },
  {
   "cell_type": "markdown",
   "metadata": {},
   "source": [
    "Parece que hay una sola fila en la que tenemos tres valores separados por comas. Esto es comprensible si pensamos que Canadá también tiene estados que funcionan bajo un gobierno federal. Sólo es una instancia, pero no tenemos por qué eliminarla del dataset si no es necesario (hay usuarios en Seattle, por ejemplo, que está relativamente cerca de Vancouver). Podemos modificarla para que se adapte al formato sin más."
   ]
  },
  {
   "cell_type": "code",
   "execution_count": 59,
   "metadata": {
    "ExecuteTime": {
     "end_time": "2021-01-13T17:22:59.993691Z",
     "start_time": "2021-01-13T17:22:59.894486Z"
    }
   },
   "outputs": [],
   "source": [
    "vancouver_id = df[\"location\"][df[\"location\"].apply(lambda x: x.count(\",\") != 1)].index[0]\n",
    "df.at[vancouver_id, \"location\"] = \"vancouver, canada\""
   ]
  },
  {
   "cell_type": "code",
   "execution_count": 60,
   "metadata": {
    "ExecuteTime": {
     "end_time": "2021-01-13T17:23:00.151448Z",
     "start_time": "2021-01-13T17:22:59.996398Z"
    }
   },
   "outputs": [
    {
     "data": {
      "text/plain": [
       "True"
      ]
     },
     "execution_count": 60,
     "metadata": {},
     "output_type": "execute_result"
    }
   ],
   "source": [
    "all(df[\"location\"].apply(lambda x: x.count(\",\") == 1))"
   ]
  },
  {
   "cell_type": "markdown",
   "metadata": {},
   "source": [
    "Ahora que parece que todo está en el mismo formato, vamos a codificar la localización en latitud y longitud. Para ello utilizaremos la clase [`Nominatim`](https://geopy.readthedocs.io/en/stable/#nominatim) de `geopy`."
   ]
  },
  {
   "cell_type": "code",
   "execution_count": 61,
   "metadata": {
    "ExecuteTime": {
     "end_time": "2021-01-13T17:23:04.001717Z",
     "start_time": "2021-01-13T17:23:00.153876Z"
    }
   },
   "outputs": [
    {
     "ename": "KeyboardInterrupt",
     "evalue": "",
     "output_type": "error",
     "traceback": [
      "\u001b[0;31m---------------------------------------------------------------------------\u001b[0m",
      "\u001b[0;31mKeyboardInterrupt\u001b[0m                         Traceback (most recent call last)",
      "\u001b[0;32m<ipython-input-61-c106594e216f>\u001b[0m in \u001b[0;36m<module>\u001b[0;34m\u001b[0m\n\u001b[1;32m      4\u001b[0m \u001b[0mlocation_dict\u001b[0m \u001b[0;34m=\u001b[0m \u001b[0;34m{\u001b[0m\u001b[0;34m}\u001b[0m\u001b[0;34m\u001b[0m\u001b[0;34m\u001b[0m\u001b[0m\n\u001b[1;32m      5\u001b[0m \u001b[0;32mfor\u001b[0m \u001b[0mlocation\u001b[0m \u001b[0;32min\u001b[0m \u001b[0mdf\u001b[0m\u001b[0;34m[\u001b[0m\u001b[0;34m\"location\"\u001b[0m\u001b[0;34m]\u001b[0m\u001b[0;34m.\u001b[0m\u001b[0munique\u001b[0m\u001b[0;34m(\u001b[0m\u001b[0;34m)\u001b[0m\u001b[0;34m:\u001b[0m\u001b[0;34m\u001b[0m\u001b[0;34m\u001b[0m\u001b[0m\n\u001b[0;32m----> 6\u001b[0;31m     \u001b[0mgeocode\u001b[0m \u001b[0;34m=\u001b[0m \u001b[0mgeolocator\u001b[0m\u001b[0;34m.\u001b[0m\u001b[0mgeocode\u001b[0m\u001b[0;34m(\u001b[0m\u001b[0mlocation\u001b[0m\u001b[0;34m)\u001b[0m\u001b[0;34m\u001b[0m\u001b[0;34m\u001b[0m\u001b[0m\n\u001b[0m\u001b[1;32m      7\u001b[0m     \u001b[0mlocation_dict\u001b[0m\u001b[0;34m[\u001b[0m\u001b[0mlocation\u001b[0m\u001b[0;34m]\u001b[0m \u001b[0;34m=\u001b[0m \u001b[0;34m(\u001b[0m\u001b[0mgeocode\u001b[0m\u001b[0;34m.\u001b[0m\u001b[0mlatitude\u001b[0m\u001b[0;34m,\u001b[0m \u001b[0mgeocode\u001b[0m\u001b[0;34m.\u001b[0m\u001b[0mlongitude\u001b[0m\u001b[0;34m)\u001b[0m\u001b[0;34m\u001b[0m\u001b[0;34m\u001b[0m\u001b[0m\n\u001b[1;32m      8\u001b[0m \u001b[0;34m\u001b[0m\u001b[0m\n",
      "\u001b[0;32m~/venv/deeplearning/lib/python3.7/site-packages/geopy/geocoders/nominatim.py\u001b[0m in \u001b[0;36mgeocode\u001b[0;34m(self, query, exactly_one, timeout, limit, addressdetails, language, geometry, extratags, country_codes, viewbox, bounded, featuretype, namedetails)\u001b[0m\n\u001b[1;32m    292\u001b[0m         \u001b[0mlogger\u001b[0m\u001b[0;34m.\u001b[0m\u001b[0mdebug\u001b[0m\u001b[0;34m(\u001b[0m\u001b[0;34m\"%s.geocode: %s\"\u001b[0m\u001b[0;34m,\u001b[0m \u001b[0mself\u001b[0m\u001b[0;34m.\u001b[0m\u001b[0m__class__\u001b[0m\u001b[0;34m.\u001b[0m\u001b[0m__name__\u001b[0m\u001b[0;34m,\u001b[0m \u001b[0murl\u001b[0m\u001b[0;34m)\u001b[0m\u001b[0;34m\u001b[0m\u001b[0;34m\u001b[0m\u001b[0m\n\u001b[1;32m    293\u001b[0m         \u001b[0mcallback\u001b[0m \u001b[0;34m=\u001b[0m \u001b[0mpartial\u001b[0m\u001b[0;34m(\u001b[0m\u001b[0mself\u001b[0m\u001b[0;34m.\u001b[0m\u001b[0m_parse_json\u001b[0m\u001b[0;34m,\u001b[0m \u001b[0mexactly_one\u001b[0m\u001b[0;34m=\u001b[0m\u001b[0mexactly_one\u001b[0m\u001b[0;34m)\u001b[0m\u001b[0;34m\u001b[0m\u001b[0;34m\u001b[0m\u001b[0m\n\u001b[0;32m--> 294\u001b[0;31m         \u001b[0;32mreturn\u001b[0m \u001b[0mself\u001b[0m\u001b[0;34m.\u001b[0m\u001b[0m_call_geocoder\u001b[0m\u001b[0;34m(\u001b[0m\u001b[0murl\u001b[0m\u001b[0;34m,\u001b[0m \u001b[0mcallback\u001b[0m\u001b[0;34m,\u001b[0m \u001b[0mtimeout\u001b[0m\u001b[0;34m=\u001b[0m\u001b[0mtimeout\u001b[0m\u001b[0;34m)\u001b[0m\u001b[0;34m\u001b[0m\u001b[0;34m\u001b[0m\u001b[0m\n\u001b[0m\u001b[1;32m    295\u001b[0m \u001b[0;34m\u001b[0m\u001b[0m\n\u001b[1;32m    296\u001b[0m     def reverse(\n",
      "\u001b[0;32m~/venv/deeplearning/lib/python3.7/site-packages/geopy/geocoders/base.py\u001b[0m in \u001b[0;36m_call_geocoder\u001b[0;34m(self, url, callback, timeout, is_json, headers)\u001b[0m\n\u001b[1;32m    358\u001b[0m         \u001b[0;32mtry\u001b[0m\u001b[0;34m:\u001b[0m\u001b[0;34m\u001b[0m\u001b[0;34m\u001b[0m\u001b[0m\n\u001b[1;32m    359\u001b[0m             \u001b[0;32mif\u001b[0m \u001b[0mis_json\u001b[0m\u001b[0;34m:\u001b[0m\u001b[0;34m\u001b[0m\u001b[0;34m\u001b[0m\u001b[0m\n\u001b[0;32m--> 360\u001b[0;31m                 \u001b[0mresult\u001b[0m \u001b[0;34m=\u001b[0m \u001b[0mself\u001b[0m\u001b[0;34m.\u001b[0m\u001b[0madapter\u001b[0m\u001b[0;34m.\u001b[0m\u001b[0mget_json\u001b[0m\u001b[0;34m(\u001b[0m\u001b[0murl\u001b[0m\u001b[0;34m,\u001b[0m \u001b[0mtimeout\u001b[0m\u001b[0;34m=\u001b[0m\u001b[0mtimeout\u001b[0m\u001b[0;34m,\u001b[0m \u001b[0mheaders\u001b[0m\u001b[0;34m=\u001b[0m\u001b[0mreq_headers\u001b[0m\u001b[0;34m)\u001b[0m\u001b[0;34m\u001b[0m\u001b[0;34m\u001b[0m\u001b[0m\n\u001b[0m\u001b[1;32m    361\u001b[0m             \u001b[0;32melse\u001b[0m\u001b[0;34m:\u001b[0m\u001b[0;34m\u001b[0m\u001b[0;34m\u001b[0m\u001b[0m\n\u001b[1;32m    362\u001b[0m                 \u001b[0mresult\u001b[0m \u001b[0;34m=\u001b[0m \u001b[0mself\u001b[0m\u001b[0;34m.\u001b[0m\u001b[0madapter\u001b[0m\u001b[0;34m.\u001b[0m\u001b[0mget_text\u001b[0m\u001b[0;34m(\u001b[0m\u001b[0murl\u001b[0m\u001b[0;34m,\u001b[0m \u001b[0mtimeout\u001b[0m\u001b[0;34m=\u001b[0m\u001b[0mtimeout\u001b[0m\u001b[0;34m,\u001b[0m \u001b[0mheaders\u001b[0m\u001b[0;34m=\u001b[0m\u001b[0mreq_headers\u001b[0m\u001b[0;34m)\u001b[0m\u001b[0;34m\u001b[0m\u001b[0;34m\u001b[0m\u001b[0m\n",
      "\u001b[0;32m~/venv/deeplearning/lib/python3.7/site-packages/geopy/adapters.py\u001b[0m in \u001b[0;36mget_json\u001b[0;34m(self, url, timeout, headers)\u001b[0m\n\u001b[1;32m    371\u001b[0m \u001b[0;34m\u001b[0m\u001b[0m\n\u001b[1;32m    372\u001b[0m     \u001b[0;32mdef\u001b[0m \u001b[0mget_json\u001b[0m\u001b[0;34m(\u001b[0m\u001b[0mself\u001b[0m\u001b[0;34m,\u001b[0m \u001b[0murl\u001b[0m\u001b[0;34m,\u001b[0m \u001b[0;34m*\u001b[0m\u001b[0;34m,\u001b[0m \u001b[0mtimeout\u001b[0m\u001b[0;34m,\u001b[0m \u001b[0mheaders\u001b[0m\u001b[0;34m)\u001b[0m\u001b[0;34m:\u001b[0m\u001b[0;34m\u001b[0m\u001b[0;34m\u001b[0m\u001b[0m\n\u001b[0;32m--> 373\u001b[0;31m         \u001b[0mresp\u001b[0m \u001b[0;34m=\u001b[0m \u001b[0mself\u001b[0m\u001b[0;34m.\u001b[0m\u001b[0m_request\u001b[0m\u001b[0;34m(\u001b[0m\u001b[0murl\u001b[0m\u001b[0;34m,\u001b[0m \u001b[0mtimeout\u001b[0m\u001b[0;34m=\u001b[0m\u001b[0mtimeout\u001b[0m\u001b[0;34m,\u001b[0m \u001b[0mheaders\u001b[0m\u001b[0;34m=\u001b[0m\u001b[0mheaders\u001b[0m\u001b[0;34m)\u001b[0m\u001b[0;34m\u001b[0m\u001b[0;34m\u001b[0m\u001b[0m\n\u001b[0m\u001b[1;32m    374\u001b[0m         \u001b[0;32mtry\u001b[0m\u001b[0;34m:\u001b[0m\u001b[0;34m\u001b[0m\u001b[0;34m\u001b[0m\u001b[0m\n\u001b[1;32m    375\u001b[0m             \u001b[0;32mreturn\u001b[0m \u001b[0mresp\u001b[0m\u001b[0;34m.\u001b[0m\u001b[0mjson\u001b[0m\u001b[0;34m(\u001b[0m\u001b[0;34m)\u001b[0m\u001b[0;34m\u001b[0m\u001b[0;34m\u001b[0m\u001b[0m\n",
      "\u001b[0;32m~/venv/deeplearning/lib/python3.7/site-packages/geopy/adapters.py\u001b[0m in \u001b[0;36m_request\u001b[0;34m(self, url, timeout, headers)\u001b[0m\n\u001b[1;32m    381\u001b[0m     \u001b[0;32mdef\u001b[0m \u001b[0m_request\u001b[0m\u001b[0;34m(\u001b[0m\u001b[0mself\u001b[0m\u001b[0;34m,\u001b[0m \u001b[0murl\u001b[0m\u001b[0;34m,\u001b[0m \u001b[0;34m*\u001b[0m\u001b[0;34m,\u001b[0m \u001b[0mtimeout\u001b[0m\u001b[0;34m,\u001b[0m \u001b[0mheaders\u001b[0m\u001b[0;34m)\u001b[0m\u001b[0;34m:\u001b[0m\u001b[0;34m\u001b[0m\u001b[0;34m\u001b[0m\u001b[0m\n\u001b[1;32m    382\u001b[0m         \u001b[0;32mtry\u001b[0m\u001b[0;34m:\u001b[0m\u001b[0;34m\u001b[0m\u001b[0;34m\u001b[0m\u001b[0m\n\u001b[0;32m--> 383\u001b[0;31m             \u001b[0mresp\u001b[0m \u001b[0;34m=\u001b[0m \u001b[0mself\u001b[0m\u001b[0;34m.\u001b[0m\u001b[0msession\u001b[0m\u001b[0;34m.\u001b[0m\u001b[0mget\u001b[0m\u001b[0;34m(\u001b[0m\u001b[0murl\u001b[0m\u001b[0;34m,\u001b[0m \u001b[0mtimeout\u001b[0m\u001b[0;34m=\u001b[0m\u001b[0mtimeout\u001b[0m\u001b[0;34m,\u001b[0m \u001b[0mheaders\u001b[0m\u001b[0;34m=\u001b[0m\u001b[0mheaders\u001b[0m\u001b[0;34m)\u001b[0m\u001b[0;34m\u001b[0m\u001b[0;34m\u001b[0m\u001b[0m\n\u001b[0m\u001b[1;32m    384\u001b[0m         \u001b[0;32mexcept\u001b[0m \u001b[0mException\u001b[0m \u001b[0;32mas\u001b[0m \u001b[0merror\u001b[0m\u001b[0;34m:\u001b[0m\u001b[0;34m\u001b[0m\u001b[0;34m\u001b[0m\u001b[0m\n\u001b[1;32m    385\u001b[0m             \u001b[0mmessage\u001b[0m \u001b[0;34m=\u001b[0m \u001b[0mstr\u001b[0m\u001b[0;34m(\u001b[0m\u001b[0merror\u001b[0m\u001b[0;34m)\u001b[0m\u001b[0;34m\u001b[0m\u001b[0;34m\u001b[0m\u001b[0m\n",
      "\u001b[0;32m~/venv/deeplearning/lib/python3.7/site-packages/requests/sessions.py\u001b[0m in \u001b[0;36mget\u001b[0;34m(self, url, **kwargs)\u001b[0m\n\u001b[1;32m    541\u001b[0m \u001b[0;34m\u001b[0m\u001b[0m\n\u001b[1;32m    542\u001b[0m         \u001b[0mkwargs\u001b[0m\u001b[0;34m.\u001b[0m\u001b[0msetdefault\u001b[0m\u001b[0;34m(\u001b[0m\u001b[0;34m'allow_redirects'\u001b[0m\u001b[0;34m,\u001b[0m \u001b[0;32mTrue\u001b[0m\u001b[0;34m)\u001b[0m\u001b[0;34m\u001b[0m\u001b[0;34m\u001b[0m\u001b[0m\n\u001b[0;32m--> 543\u001b[0;31m         \u001b[0;32mreturn\u001b[0m \u001b[0mself\u001b[0m\u001b[0;34m.\u001b[0m\u001b[0mrequest\u001b[0m\u001b[0;34m(\u001b[0m\u001b[0;34m'GET'\u001b[0m\u001b[0;34m,\u001b[0m \u001b[0murl\u001b[0m\u001b[0;34m,\u001b[0m \u001b[0;34m**\u001b[0m\u001b[0mkwargs\u001b[0m\u001b[0;34m)\u001b[0m\u001b[0;34m\u001b[0m\u001b[0;34m\u001b[0m\u001b[0m\n\u001b[0m\u001b[1;32m    544\u001b[0m \u001b[0;34m\u001b[0m\u001b[0m\n\u001b[1;32m    545\u001b[0m     \u001b[0;32mdef\u001b[0m \u001b[0moptions\u001b[0m\u001b[0;34m(\u001b[0m\u001b[0mself\u001b[0m\u001b[0;34m,\u001b[0m \u001b[0murl\u001b[0m\u001b[0;34m,\u001b[0m \u001b[0;34m**\u001b[0m\u001b[0mkwargs\u001b[0m\u001b[0;34m)\u001b[0m\u001b[0;34m:\u001b[0m\u001b[0;34m\u001b[0m\u001b[0;34m\u001b[0m\u001b[0m\n",
      "\u001b[0;32m~/venv/deeplearning/lib/python3.7/site-packages/requests/sessions.py\u001b[0m in \u001b[0;36mrequest\u001b[0;34m(self, method, url, params, data, headers, cookies, files, auth, timeout, allow_redirects, proxies, hooks, stream, verify, cert, json)\u001b[0m\n\u001b[1;32m    528\u001b[0m         }\n\u001b[1;32m    529\u001b[0m         \u001b[0msend_kwargs\u001b[0m\u001b[0;34m.\u001b[0m\u001b[0mupdate\u001b[0m\u001b[0;34m(\u001b[0m\u001b[0msettings\u001b[0m\u001b[0;34m)\u001b[0m\u001b[0;34m\u001b[0m\u001b[0;34m\u001b[0m\u001b[0m\n\u001b[0;32m--> 530\u001b[0;31m         \u001b[0mresp\u001b[0m \u001b[0;34m=\u001b[0m \u001b[0mself\u001b[0m\u001b[0;34m.\u001b[0m\u001b[0msend\u001b[0m\u001b[0;34m(\u001b[0m\u001b[0mprep\u001b[0m\u001b[0;34m,\u001b[0m \u001b[0;34m**\u001b[0m\u001b[0msend_kwargs\u001b[0m\u001b[0;34m)\u001b[0m\u001b[0;34m\u001b[0m\u001b[0;34m\u001b[0m\u001b[0m\n\u001b[0m\u001b[1;32m    531\u001b[0m \u001b[0;34m\u001b[0m\u001b[0m\n\u001b[1;32m    532\u001b[0m         \u001b[0;32mreturn\u001b[0m \u001b[0mresp\u001b[0m\u001b[0;34m\u001b[0m\u001b[0;34m\u001b[0m\u001b[0m\n",
      "\u001b[0;32m~/venv/deeplearning/lib/python3.7/site-packages/requests/sessions.py\u001b[0m in \u001b[0;36msend\u001b[0;34m(self, request, **kwargs)\u001b[0m\n\u001b[1;32m    641\u001b[0m \u001b[0;34m\u001b[0m\u001b[0m\n\u001b[1;32m    642\u001b[0m         \u001b[0;31m# Send the request\u001b[0m\u001b[0;34m\u001b[0m\u001b[0;34m\u001b[0m\u001b[0;34m\u001b[0m\u001b[0m\n\u001b[0;32m--> 643\u001b[0;31m         \u001b[0mr\u001b[0m \u001b[0;34m=\u001b[0m \u001b[0madapter\u001b[0m\u001b[0;34m.\u001b[0m\u001b[0msend\u001b[0m\u001b[0;34m(\u001b[0m\u001b[0mrequest\u001b[0m\u001b[0;34m,\u001b[0m \u001b[0;34m**\u001b[0m\u001b[0mkwargs\u001b[0m\u001b[0;34m)\u001b[0m\u001b[0;34m\u001b[0m\u001b[0;34m\u001b[0m\u001b[0m\n\u001b[0m\u001b[1;32m    644\u001b[0m \u001b[0;34m\u001b[0m\u001b[0m\n\u001b[1;32m    645\u001b[0m         \u001b[0;31m# Total elapsed time of the request (approximately)\u001b[0m\u001b[0;34m\u001b[0m\u001b[0;34m\u001b[0m\u001b[0;34m\u001b[0m\u001b[0m\n",
      "\u001b[0;32m~/venv/deeplearning/lib/python3.7/site-packages/requests/adapters.py\u001b[0m in \u001b[0;36msend\u001b[0;34m(self, request, stream, timeout, verify, cert, proxies)\u001b[0m\n\u001b[1;32m    447\u001b[0m                     \u001b[0mdecode_content\u001b[0m\u001b[0;34m=\u001b[0m\u001b[0;32mFalse\u001b[0m\u001b[0;34m,\u001b[0m\u001b[0;34m\u001b[0m\u001b[0;34m\u001b[0m\u001b[0m\n\u001b[1;32m    448\u001b[0m                     \u001b[0mretries\u001b[0m\u001b[0;34m=\u001b[0m\u001b[0mself\u001b[0m\u001b[0;34m.\u001b[0m\u001b[0mmax_retries\u001b[0m\u001b[0;34m,\u001b[0m\u001b[0;34m\u001b[0m\u001b[0;34m\u001b[0m\u001b[0m\n\u001b[0;32m--> 449\u001b[0;31m                     \u001b[0mtimeout\u001b[0m\u001b[0;34m=\u001b[0m\u001b[0mtimeout\u001b[0m\u001b[0;34m\u001b[0m\u001b[0;34m\u001b[0m\u001b[0m\n\u001b[0m\u001b[1;32m    450\u001b[0m                 )\n\u001b[1;32m    451\u001b[0m \u001b[0;34m\u001b[0m\u001b[0m\n",
      "\u001b[0;32m~/venv/deeplearning/lib/python3.7/site-packages/urllib3/connectionpool.py\u001b[0m in \u001b[0;36murlopen\u001b[0;34m(self, method, url, body, headers, retries, redirect, assert_same_host, timeout, pool_timeout, release_conn, chunked, body_pos, **response_kw)\u001b[0m\n\u001b[1;32m    675\u001b[0m                 \u001b[0mbody\u001b[0m\u001b[0;34m=\u001b[0m\u001b[0mbody\u001b[0m\u001b[0;34m,\u001b[0m\u001b[0;34m\u001b[0m\u001b[0;34m\u001b[0m\u001b[0m\n\u001b[1;32m    676\u001b[0m                 \u001b[0mheaders\u001b[0m\u001b[0;34m=\u001b[0m\u001b[0mheaders\u001b[0m\u001b[0;34m,\u001b[0m\u001b[0;34m\u001b[0m\u001b[0;34m\u001b[0m\u001b[0m\n\u001b[0;32m--> 677\u001b[0;31m                 \u001b[0mchunked\u001b[0m\u001b[0;34m=\u001b[0m\u001b[0mchunked\u001b[0m\u001b[0;34m,\u001b[0m\u001b[0;34m\u001b[0m\u001b[0;34m\u001b[0m\u001b[0m\n\u001b[0m\u001b[1;32m    678\u001b[0m             )\n\u001b[1;32m    679\u001b[0m \u001b[0;34m\u001b[0m\u001b[0m\n",
      "\u001b[0;32m~/venv/deeplearning/lib/python3.7/site-packages/urllib3/connectionpool.py\u001b[0m in \u001b[0;36m_make_request\u001b[0;34m(self, conn, method, url, timeout, chunked, **httplib_request_kw)\u001b[0m\n\u001b[1;32m    424\u001b[0m                     \u001b[0;31m# Python 3 (including for exceptions like SystemExit).\u001b[0m\u001b[0;34m\u001b[0m\u001b[0;34m\u001b[0m\u001b[0;34m\u001b[0m\u001b[0m\n\u001b[1;32m    425\u001b[0m                     \u001b[0;31m# Otherwise it looks like a bug in the code.\u001b[0m\u001b[0;34m\u001b[0m\u001b[0;34m\u001b[0m\u001b[0;34m\u001b[0m\u001b[0m\n\u001b[0;32m--> 426\u001b[0;31m                     \u001b[0msix\u001b[0m\u001b[0;34m.\u001b[0m\u001b[0mraise_from\u001b[0m\u001b[0;34m(\u001b[0m\u001b[0me\u001b[0m\u001b[0;34m,\u001b[0m \u001b[0;32mNone\u001b[0m\u001b[0;34m)\u001b[0m\u001b[0;34m\u001b[0m\u001b[0;34m\u001b[0m\u001b[0m\n\u001b[0m\u001b[1;32m    427\u001b[0m         \u001b[0;32mexcept\u001b[0m \u001b[0;34m(\u001b[0m\u001b[0mSocketTimeout\u001b[0m\u001b[0;34m,\u001b[0m \u001b[0mBaseSSLError\u001b[0m\u001b[0;34m,\u001b[0m \u001b[0mSocketError\u001b[0m\u001b[0;34m)\u001b[0m \u001b[0;32mas\u001b[0m \u001b[0me\u001b[0m\u001b[0;34m:\u001b[0m\u001b[0;34m\u001b[0m\u001b[0;34m\u001b[0m\u001b[0m\n\u001b[1;32m    428\u001b[0m             \u001b[0mself\u001b[0m\u001b[0;34m.\u001b[0m\u001b[0m_raise_timeout\u001b[0m\u001b[0;34m(\u001b[0m\u001b[0merr\u001b[0m\u001b[0;34m=\u001b[0m\u001b[0me\u001b[0m\u001b[0;34m,\u001b[0m \u001b[0murl\u001b[0m\u001b[0;34m=\u001b[0m\u001b[0murl\u001b[0m\u001b[0;34m,\u001b[0m \u001b[0mtimeout_value\u001b[0m\u001b[0;34m=\u001b[0m\u001b[0mread_timeout\u001b[0m\u001b[0;34m)\u001b[0m\u001b[0;34m\u001b[0m\u001b[0;34m\u001b[0m\u001b[0m\n",
      "\u001b[0;32m~/venv/deeplearning/lib/python3.7/site-packages/urllib3/packages/six.py\u001b[0m in \u001b[0;36mraise_from\u001b[0;34m(value, from_value)\u001b[0m\n",
      "\u001b[0;32m~/venv/deeplearning/lib/python3.7/site-packages/urllib3/connectionpool.py\u001b[0m in \u001b[0;36m_make_request\u001b[0;34m(self, conn, method, url, timeout, chunked, **httplib_request_kw)\u001b[0m\n\u001b[1;32m    419\u001b[0m                 \u001b[0;31m# Python 3\u001b[0m\u001b[0;34m\u001b[0m\u001b[0;34m\u001b[0m\u001b[0;34m\u001b[0m\u001b[0m\n\u001b[1;32m    420\u001b[0m                 \u001b[0;32mtry\u001b[0m\u001b[0;34m:\u001b[0m\u001b[0;34m\u001b[0m\u001b[0;34m\u001b[0m\u001b[0m\n\u001b[0;32m--> 421\u001b[0;31m                     \u001b[0mhttplib_response\u001b[0m \u001b[0;34m=\u001b[0m \u001b[0mconn\u001b[0m\u001b[0;34m.\u001b[0m\u001b[0mgetresponse\u001b[0m\u001b[0;34m(\u001b[0m\u001b[0;34m)\u001b[0m\u001b[0;34m\u001b[0m\u001b[0;34m\u001b[0m\u001b[0m\n\u001b[0m\u001b[1;32m    422\u001b[0m                 \u001b[0;32mexcept\u001b[0m \u001b[0mBaseException\u001b[0m \u001b[0;32mas\u001b[0m \u001b[0me\u001b[0m\u001b[0;34m:\u001b[0m\u001b[0;34m\u001b[0m\u001b[0;34m\u001b[0m\u001b[0m\n\u001b[1;32m    423\u001b[0m                     \u001b[0;31m# Remove the TypeError from the exception chain in\u001b[0m\u001b[0;34m\u001b[0m\u001b[0;34m\u001b[0m\u001b[0;34m\u001b[0m\u001b[0m\n",
      "\u001b[0;32m/usr/lib/python3.7/http/client.py\u001b[0m in \u001b[0;36mgetresponse\u001b[0;34m(self)\u001b[0m\n\u001b[1;32m   1367\u001b[0m         \u001b[0;32mtry\u001b[0m\u001b[0;34m:\u001b[0m\u001b[0;34m\u001b[0m\u001b[0;34m\u001b[0m\u001b[0m\n\u001b[1;32m   1368\u001b[0m             \u001b[0;32mtry\u001b[0m\u001b[0;34m:\u001b[0m\u001b[0;34m\u001b[0m\u001b[0;34m\u001b[0m\u001b[0m\n\u001b[0;32m-> 1369\u001b[0;31m                 \u001b[0mresponse\u001b[0m\u001b[0;34m.\u001b[0m\u001b[0mbegin\u001b[0m\u001b[0;34m(\u001b[0m\u001b[0;34m)\u001b[0m\u001b[0;34m\u001b[0m\u001b[0;34m\u001b[0m\u001b[0m\n\u001b[0m\u001b[1;32m   1370\u001b[0m             \u001b[0;32mexcept\u001b[0m \u001b[0mConnectionError\u001b[0m\u001b[0;34m:\u001b[0m\u001b[0;34m\u001b[0m\u001b[0;34m\u001b[0m\u001b[0m\n\u001b[1;32m   1371\u001b[0m                 \u001b[0mself\u001b[0m\u001b[0;34m.\u001b[0m\u001b[0mclose\u001b[0m\u001b[0;34m(\u001b[0m\u001b[0;34m)\u001b[0m\u001b[0;34m\u001b[0m\u001b[0;34m\u001b[0m\u001b[0m\n",
      "\u001b[0;32m/usr/lib/python3.7/http/client.py\u001b[0m in \u001b[0;36mbegin\u001b[0;34m(self)\u001b[0m\n\u001b[1;32m    308\u001b[0m         \u001b[0;31m# read until we get a non-100 response\u001b[0m\u001b[0;34m\u001b[0m\u001b[0;34m\u001b[0m\u001b[0;34m\u001b[0m\u001b[0m\n\u001b[1;32m    309\u001b[0m         \u001b[0;32mwhile\u001b[0m \u001b[0;32mTrue\u001b[0m\u001b[0;34m:\u001b[0m\u001b[0;34m\u001b[0m\u001b[0;34m\u001b[0m\u001b[0m\n\u001b[0;32m--> 310\u001b[0;31m             \u001b[0mversion\u001b[0m\u001b[0;34m,\u001b[0m \u001b[0mstatus\u001b[0m\u001b[0;34m,\u001b[0m \u001b[0mreason\u001b[0m \u001b[0;34m=\u001b[0m \u001b[0mself\u001b[0m\u001b[0;34m.\u001b[0m\u001b[0m_read_status\u001b[0m\u001b[0;34m(\u001b[0m\u001b[0;34m)\u001b[0m\u001b[0;34m\u001b[0m\u001b[0;34m\u001b[0m\u001b[0m\n\u001b[0m\u001b[1;32m    311\u001b[0m             \u001b[0;32mif\u001b[0m \u001b[0mstatus\u001b[0m \u001b[0;34m!=\u001b[0m \u001b[0mCONTINUE\u001b[0m\u001b[0;34m:\u001b[0m\u001b[0;34m\u001b[0m\u001b[0;34m\u001b[0m\u001b[0m\n\u001b[1;32m    312\u001b[0m                 \u001b[0;32mbreak\u001b[0m\u001b[0;34m\u001b[0m\u001b[0;34m\u001b[0m\u001b[0m\n",
      "\u001b[0;32m/usr/lib/python3.7/http/client.py\u001b[0m in \u001b[0;36m_read_status\u001b[0;34m(self)\u001b[0m\n\u001b[1;32m    269\u001b[0m \u001b[0;34m\u001b[0m\u001b[0m\n\u001b[1;32m    270\u001b[0m     \u001b[0;32mdef\u001b[0m \u001b[0m_read_status\u001b[0m\u001b[0;34m(\u001b[0m\u001b[0mself\u001b[0m\u001b[0;34m)\u001b[0m\u001b[0;34m:\u001b[0m\u001b[0;34m\u001b[0m\u001b[0;34m\u001b[0m\u001b[0m\n\u001b[0;32m--> 271\u001b[0;31m         \u001b[0mline\u001b[0m \u001b[0;34m=\u001b[0m \u001b[0mstr\u001b[0m\u001b[0;34m(\u001b[0m\u001b[0mself\u001b[0m\u001b[0;34m.\u001b[0m\u001b[0mfp\u001b[0m\u001b[0;34m.\u001b[0m\u001b[0mreadline\u001b[0m\u001b[0;34m(\u001b[0m\u001b[0m_MAXLINE\u001b[0m \u001b[0;34m+\u001b[0m \u001b[0;36m1\u001b[0m\u001b[0;34m)\u001b[0m\u001b[0;34m,\u001b[0m \u001b[0;34m\"iso-8859-1\"\u001b[0m\u001b[0;34m)\u001b[0m\u001b[0;34m\u001b[0m\u001b[0;34m\u001b[0m\u001b[0m\n\u001b[0m\u001b[1;32m    272\u001b[0m         \u001b[0;32mif\u001b[0m \u001b[0mlen\u001b[0m\u001b[0;34m(\u001b[0m\u001b[0mline\u001b[0m\u001b[0;34m)\u001b[0m \u001b[0;34m>\u001b[0m \u001b[0m_MAXLINE\u001b[0m\u001b[0;34m:\u001b[0m\u001b[0;34m\u001b[0m\u001b[0;34m\u001b[0m\u001b[0m\n\u001b[1;32m    273\u001b[0m             \u001b[0;32mraise\u001b[0m \u001b[0mLineTooLong\u001b[0m\u001b[0;34m(\u001b[0m\u001b[0;34m\"status line\"\u001b[0m\u001b[0;34m)\u001b[0m\u001b[0;34m\u001b[0m\u001b[0;34m\u001b[0m\u001b[0m\n",
      "\u001b[0;32m/usr/lib/python3.7/socket.py\u001b[0m in \u001b[0;36mreadinto\u001b[0;34m(self, b)\u001b[0m\n\u001b[1;32m    587\u001b[0m         \u001b[0;32mwhile\u001b[0m \u001b[0;32mTrue\u001b[0m\u001b[0;34m:\u001b[0m\u001b[0;34m\u001b[0m\u001b[0;34m\u001b[0m\u001b[0m\n\u001b[1;32m    588\u001b[0m             \u001b[0;32mtry\u001b[0m\u001b[0;34m:\u001b[0m\u001b[0;34m\u001b[0m\u001b[0;34m\u001b[0m\u001b[0m\n\u001b[0;32m--> 589\u001b[0;31m                 \u001b[0;32mreturn\u001b[0m \u001b[0mself\u001b[0m\u001b[0;34m.\u001b[0m\u001b[0m_sock\u001b[0m\u001b[0;34m.\u001b[0m\u001b[0mrecv_into\u001b[0m\u001b[0;34m(\u001b[0m\u001b[0mb\u001b[0m\u001b[0;34m)\u001b[0m\u001b[0;34m\u001b[0m\u001b[0;34m\u001b[0m\u001b[0m\n\u001b[0m\u001b[1;32m    590\u001b[0m             \u001b[0;32mexcept\u001b[0m \u001b[0mtimeout\u001b[0m\u001b[0;34m:\u001b[0m\u001b[0;34m\u001b[0m\u001b[0;34m\u001b[0m\u001b[0m\n\u001b[1;32m    591\u001b[0m                 \u001b[0mself\u001b[0m\u001b[0;34m.\u001b[0m\u001b[0m_timeout_occurred\u001b[0m \u001b[0;34m=\u001b[0m \u001b[0;32mTrue\u001b[0m\u001b[0;34m\u001b[0m\u001b[0;34m\u001b[0m\u001b[0m\n",
      "\u001b[0;32m/usr/lib/python3.7/ssl.py\u001b[0m in \u001b[0;36mrecv_into\u001b[0;34m(self, buffer, nbytes, flags)\u001b[0m\n\u001b[1;32m   1069\u001b[0m                   \u001b[0;34m\"non-zero flags not allowed in calls to recv_into() on %s\"\u001b[0m \u001b[0;34m%\u001b[0m\u001b[0;34m\u001b[0m\u001b[0;34m\u001b[0m\u001b[0m\n\u001b[1;32m   1070\u001b[0m                   self.__class__)\n\u001b[0;32m-> 1071\u001b[0;31m             \u001b[0;32mreturn\u001b[0m \u001b[0mself\u001b[0m\u001b[0;34m.\u001b[0m\u001b[0mread\u001b[0m\u001b[0;34m(\u001b[0m\u001b[0mnbytes\u001b[0m\u001b[0;34m,\u001b[0m \u001b[0mbuffer\u001b[0m\u001b[0;34m)\u001b[0m\u001b[0;34m\u001b[0m\u001b[0;34m\u001b[0m\u001b[0m\n\u001b[0m\u001b[1;32m   1072\u001b[0m         \u001b[0;32melse\u001b[0m\u001b[0;34m:\u001b[0m\u001b[0;34m\u001b[0m\u001b[0;34m\u001b[0m\u001b[0m\n\u001b[1;32m   1073\u001b[0m             \u001b[0;32mreturn\u001b[0m \u001b[0msuper\u001b[0m\u001b[0;34m(\u001b[0m\u001b[0;34m)\u001b[0m\u001b[0;34m.\u001b[0m\u001b[0mrecv_into\u001b[0m\u001b[0;34m(\u001b[0m\u001b[0mbuffer\u001b[0m\u001b[0;34m,\u001b[0m \u001b[0mnbytes\u001b[0m\u001b[0;34m,\u001b[0m \u001b[0mflags\u001b[0m\u001b[0;34m)\u001b[0m\u001b[0;34m\u001b[0m\u001b[0;34m\u001b[0m\u001b[0m\n",
      "\u001b[0;32m/usr/lib/python3.7/ssl.py\u001b[0m in \u001b[0;36mread\u001b[0;34m(self, len, buffer)\u001b[0m\n\u001b[1;32m    927\u001b[0m         \u001b[0;32mtry\u001b[0m\u001b[0;34m:\u001b[0m\u001b[0;34m\u001b[0m\u001b[0;34m\u001b[0m\u001b[0m\n\u001b[1;32m    928\u001b[0m             \u001b[0;32mif\u001b[0m \u001b[0mbuffer\u001b[0m \u001b[0;32mis\u001b[0m \u001b[0;32mnot\u001b[0m \u001b[0;32mNone\u001b[0m\u001b[0;34m:\u001b[0m\u001b[0;34m\u001b[0m\u001b[0;34m\u001b[0m\u001b[0m\n\u001b[0;32m--> 929\u001b[0;31m                 \u001b[0;32mreturn\u001b[0m \u001b[0mself\u001b[0m\u001b[0;34m.\u001b[0m\u001b[0m_sslobj\u001b[0m\u001b[0;34m.\u001b[0m\u001b[0mread\u001b[0m\u001b[0;34m(\u001b[0m\u001b[0mlen\u001b[0m\u001b[0;34m,\u001b[0m \u001b[0mbuffer\u001b[0m\u001b[0;34m)\u001b[0m\u001b[0;34m\u001b[0m\u001b[0;34m\u001b[0m\u001b[0m\n\u001b[0m\u001b[1;32m    930\u001b[0m             \u001b[0;32melse\u001b[0m\u001b[0;34m:\u001b[0m\u001b[0;34m\u001b[0m\u001b[0;34m\u001b[0m\u001b[0m\n\u001b[1;32m    931\u001b[0m                 \u001b[0;32mreturn\u001b[0m \u001b[0mself\u001b[0m\u001b[0;34m.\u001b[0m\u001b[0m_sslobj\u001b[0m\u001b[0;34m.\u001b[0m\u001b[0mread\u001b[0m\u001b[0;34m(\u001b[0m\u001b[0mlen\u001b[0m\u001b[0;34m)\u001b[0m\u001b[0;34m\u001b[0m\u001b[0;34m\u001b[0m\u001b[0m\n",
      "\u001b[0;31mKeyboardInterrupt\u001b[0m: "
     ]
    }
   ],
   "source": [
    "from geopy.geocoders import Nominatim\n",
    "geolocator = Nominatim(user_agent=\"myapplication\")\n",
    "\n",
    "location_dict = {}\n",
    "for location in df[\"location\"].unique():\n",
    "    geocode = geolocator.geocode(location)\n",
    "    location_dict[location] = (geocode.latitude, geocode.longitude)\n",
    "\n",
    "for location in df[\"location\"].unique()[:5]:\n",
    "    print(location, location_dict[location][0], location_dict[location][1])"
   ]
  },
  {
   "cell_type": "markdown",
   "metadata": {},
   "source": [
    "Para asegurarnos de que no hay errores, en lugar de ir comprobando los datos uno a uno podemos simplemente mostrar una imagen con las localizaciones en un mapa. Vamos a utilizar varios archivos .shp que provienen de diferentes fuentes. El del planeta completo viene por defecto con GeoPandas. El mapa de California lo hemos obtenido de la página oficial del gobierno de California \\[5\\], mientras que el de la bahía de San Francisco proviene de la Universidad de Berkeley \\[6\\].\n",
    "\n",
    "\n",
    "Utilizamos una escala logarítmica para visualizar bien las diferencias entre puntos."
   ]
  },
  {
   "cell_type": "code",
   "execution_count": null,
   "metadata": {
    "ExecuteTime": {
     "end_time": "2021-01-13T17:23:04.039149Z",
     "start_time": "2021-01-13T17:22:45.322Z"
    },
    "scrolled": false
   },
   "outputs": [],
   "source": [
    "fig, ax = plt.subplots(2, 2, figsize=(28, 20))\n",
    "cmap = \"rocket_r\"\n",
    "\n",
    "# Define user locations\n",
    "geometry = [shapely.geometry.Point(lon, lat) for lat, lon in location_dict.values()]\n",
    "locations = gpd.GeoDataFrame({\"location\": location_dict.keys()}, geometry=geometry)\n",
    "counts = df[\"location\"].value_counts().sort_values(ascending=True)\n",
    "locations[\"count\"] = [counts.loc[x] for x in location_dict.keys()]\n",
    "\n",
    "# Define log scale\n",
    "norm = LogNorm(vmin=locations[\"count\"].min(), vmax=locations[\"count\"].max())\n",
    "locations[\"count_log\"] = norm(locations[\"count\"] + 1)\n",
    "\n",
    "# Plot world map\n",
    "ax[0, 0].set_title(\"Worldwide\", fontdict={\"size\": 20, \"family\": \"Consolas\"})\n",
    "world = gpd.read_file(gpd.datasets.get_path(\"naturalearth_lowres\"))\n",
    "world.boundary.plot(ax=ax[0, 0],\n",
    "                    alpha=1,\n",
    "                    linewidth=0.5,\n",
    "                    zorder=1,\n",
    "                    edgecolor=\"black\")\n",
    "ctx.add_basemap(ax=ax[0, 0], crs=\"EPSG:4326\", zoom=3)\n",
    "\n",
    "# Plot world locations\n",
    "locations.plot(column=\"count_log\",\n",
    "               ax=ax[0, 0],\n",
    "               markersize=locations[\"count_log\"] * 2000,\n",
    "               linewidth=0.8,\n",
    "               edgecolor=\"black\",\n",
    "               zorder=2,\n",
    "               cmap=cmap)\n",
    "\n",
    "# Plot California map\n",
    "ax[1, 0].set_title(\"California\", fontdict={\"size\": 20, \"family\": \"Consolas\"})\n",
    "ax[1, 0].grid(False)\n",
    "california = gpd.read_file(os.path.join(DATA_PATH, \"CA_Counties\", \"CA_Counties_TIGER2016.shp\")).to_crs(\"EPSG:4326\")\n",
    "california.boundary.plot(ax=ax[1, 0],\n",
    "                         alpha=1,\n",
    "                         linewidth=0.5,\n",
    "                         edgecolor=\"black\")\n",
    "ctx.add_basemap(ax[1, 0], crs=\"EPSG:4326\")\n",
    "\n",
    "# Plot California locations\n",
    "locations_cali = locations[locations[\"geometry\"].apply(lambda point: any(point.within(polygon) for polygon in california[\"geometry\"]))]\n",
    "locations_cali.plot(column=\"count_log\",\n",
    "                    ax=ax[1, 0],\n",
    "                    markersize=locations_cali[\"count_log\"] * 500,\n",
    "                    alpha=0.9,\n",
    "                    linewidth=0.8,\n",
    "                    edgecolor=\"black\",\n",
    "                    cmap=cmap)\n",
    "\n",
    "# Plot San Francisco bay area map\n",
    "ax[1, 1].set_title(\"San Francisco Bay Area\", fontdict={\"size\": 20, \"family\": \"Consolas\"})\n",
    "ax[1, 1].grid(False)\n",
    "bay_area = gpd.read_file(os.path.join(DATA_PATH, \"SFBayArea\", \"bayarea_county.shp\")).to_crs(\"EPSG:4326\")\n",
    "\n",
    "# Plot San Francisco bay area locations\n",
    "locations_bay_area = locations[locations[\"geometry\"].apply(lambda point: any(point.within(polygon) for polygon in bay_area[\"geometry\"]))]\n",
    "locations_bay_area.plot(column=\"count_log\",\n",
    "                        ax=ax[1, 1],\n",
    "                        markersize=locations_bay_area[\"count_log\"] * 500,\n",
    "                        alpha=0.9,\n",
    "                        linewidth=0.8,\n",
    "                        edgecolor=\"white\",\n",
    "                        cmap=cmap)\n",
    "ctx.add_basemap(ax[1, 1], crs=\"EPSG:4326\")\n",
    "\n",
    "# Plot colorbar\n",
    "mappable = ScalarMappable(cmap=cmap, norm=norm)\n",
    "mappable.set_array(locations[\"count\"].to_numpy())\n",
    "plt.colorbar(mappable=mappable, ax=ax, label=\"Number of users (log scale)\")\n",
    "\n",
    "# Fix axes location\n",
    "ax[0, 0].set_position([0.15, 0.47, 0.6, 0.5])\n",
    "plt.delaxes(ax[0, 1])\n",
    "\n",
    "plt.show()"
   ]
  },
  {
   "cell_type": "markdown",
   "metadata": {},
   "source": [
    "Ahora tenemos las coordenadas de cada persona y sabemos que la codificación es correcta. Vamos a preparar un transformador que convertirá una localización en un array de coordenadas, y a continuación escalaremos las coordenadas.\n",
    "\n",
    "Utilizaremos [`RobustScaler`](https://scikit-learn.org/stable/modules/generated/sklearn.preprocessing.RobustScaler.html) para el escalado. Claramente las latitudes y longitudes no siguen distribuciones normales, y un escalado simple de 0 a 1 nos daría problemas si tenemos en cuenta que la inmensa mayoría de los datos están en San Francisco y Oakland. `RobustScaler` implementa la transformación ${X_i}' = \\frac{X_i - Q2_X}{Q3_X - Q1_X}$, es decir, resta la mediana y divide por el rango intercuartílico. Esto conseguirá que las diferencias entre instancias de California no se vean eclipsadas por una anomalía en Vietnam."
   ]
  },
  {
   "cell_type": "code",
   "execution_count": null,
   "metadata": {
    "ExecuteTime": {
     "end_time": "2021-01-13T17:23:04.044434Z",
     "start_time": "2021-01-13T17:22:45.336Z"
    }
   },
   "outputs": [],
   "source": [
    "location_transformer = Pipeline([\n",
    "    (\"coordinates_transformer\", category_to_point_transformer(location_dict)),\n",
    "    (\"scaler\", RobustScaler())\n",
    "])"
   ]
  },
  {
   "cell_type": "markdown",
   "metadata": {},
   "source": [
    "#### 2.2.2.4 Hijos"
   ]
  },
  {
   "cell_type": "code",
   "execution_count": null,
   "metadata": {
    "ExecuteTime": {
     "end_time": "2021-01-13T17:23:04.045983Z",
     "start_time": "2021-01-13T17:22:45.354Z"
    }
   },
   "outputs": [],
   "source": [
    "df[\"offspring\"].value_counts(dropna=False)"
   ]
  },
  {
   "cell_type": "markdown",
   "metadata": {},
   "source": [
    "En este caso, podemos definir esta variable en dos columnas, `has_kids` y `wants_kids`. Podemos definir 0 si no quiere o tiene hijos, 1 si tiene o quiere hijos y 0.5 si no lo sabe, no lo tiene claro o no ha contestado. Esto nos va a permitir unificar bastante bien todos los tipos que aparecen, ya que en muchos de ellos hay colisiones.\n",
    "\n",
    "Haremos las siguientes asunciones:\n",
    "- Si el usuario indica que quiere hijos o que podría quererlos en el futuro sin indicar nada más, asumimos que no tiene.\n",
    "- Si el usuario indica que no quiere hijos sin indicar si los tiene, asumimos que no los tiene.\n",
    "- Los casos de tener un hijo o tener varios son indistinguibles (la diferencia que nos interesa para el clustering es si tiene alguno o no)."
   ]
  },
  {
   "cell_type": "code",
   "execution_count": null,
   "metadata": {
    "ExecuteTime": {
     "end_time": "2021-01-13T17:23:04.047373Z",
     "start_time": "2021-01-13T17:22:45.367Z"
    }
   },
   "outputs": [],
   "source": [
    "df[\"offspring\"] = df[\"offspring\"].astype(str).astype(object)\n",
    "\n",
    "# Offspring tuple: (has_kids, wants_kids)\n",
    "offspring_dict = {\n",
    "    \"nan\": (0.5, 0.5),\n",
    "    \"doesn't have kids\": (0, 0.5),\n",
    "    \"doesn't have kids, but might want them\": (0, 0.5),\n",
    "    \"doesn't have kids, but wants them\": (0, 1),\n",
    "    \"doesn't have kids, and doesn't want any\": (0, 0),\n",
    "    \n",
    "    \"has kids\": (1, 0.5),\n",
    "    \"has a kid\": (1, 0.5),\n",
    "    \"has kids, but doesn't want more\": (1, 0),\n",
    "    \"has a kid, but doesn't want more\": (1, 0),\n",
    "    \"has kids, and might want more\": (1, 0.5),\n",
    "    \"has a kid, and might want more\": (1, 0.5),\n",
    "    \"has kids, and wants more\": (1, 1),\n",
    "    \"has a kid, and wants more\": (1, 1),\n",
    "    \n",
    "    \"wants kids\": (0, 1),\n",
    "    \"might want kids\": (0, 0.5),\n",
    "    \"doesn't want kids\": (0, 0),\n",
    "}"
   ]
  },
  {
   "cell_type": "code",
   "execution_count": null,
   "metadata": {
    "ExecuteTime": {
     "end_time": "2021-01-13T17:23:04.049144Z",
     "start_time": "2021-01-13T17:22:45.378Z"
    }
   },
   "outputs": [],
   "source": [
    "all([x in offspring_dict.keys() for x in df[\"offspring\"]])"
   ]
  },
  {
   "cell_type": "markdown",
   "metadata": {},
   "source": [
    "Por último, preparamos el transformador de `offspring`."
   ]
  },
  {
   "cell_type": "code",
   "execution_count": null,
   "metadata": {
    "ExecuteTime": {
     "end_time": "2021-01-13T17:23:04.050607Z",
     "start_time": "2021-01-13T17:22:45.393Z"
    }
   },
   "outputs": [],
   "source": [
    "offspring_transformer = category_to_point_transformer(offspring_dict)"
   ]
  },
  {
   "cell_type": "markdown",
   "metadata": {},
   "source": [
    "#### 2.2.2.5 Mascotas"
   ]
  },
  {
   "cell_type": "code",
   "execution_count": null,
   "metadata": {
    "ExecuteTime": {
     "end_time": "2021-01-13T17:23:04.052337Z",
     "start_time": "2021-01-13T17:22:45.410Z"
    }
   },
   "outputs": [],
   "source": [
    "df[\"pets\"].value_counts(dropna=False)"
   ]
  },
  {
   "cell_type": "markdown",
   "metadata": {},
   "source": [
    "En este caso podemos utilizar dos columnas: `likes_dogs` y `likes_cats`. Tendrían un valor 1 si el usuario indica que le gustan los perros o gatos, -1 si indica que no le gustan, y 0 si no indica nada o le es indiferente. \n",
    "\n",
    "Con respecto a los usuarios que indican que tienen perros o gatos, vamos a indicar un valor 2 en las columnas `likes_dogs` y `likes_cats`."
   ]
  },
  {
   "cell_type": "code",
   "execution_count": null,
   "metadata": {
    "ExecuteTime": {
     "end_time": "2021-01-13T17:23:04.053952Z",
     "start_time": "2021-01-13T17:22:45.425Z"
    }
   },
   "outputs": [],
   "source": [
    "def get_pet_status(string):\n",
    "    likes_dogs = 0\n",
    "    likes_cats = 0\n",
    "    if string is not np.nan:\n",
    "        if \"dislikes dogs\" in string:\n",
    "            likes_dogs = -1\n",
    "        elif \"has dogs\" in string:\n",
    "            likes_dogs = 2\n",
    "        elif \"likes dogs\" in string:\n",
    "            likes_dogs = 1\n",
    "\n",
    "        if \"dislikes cats\" in string:\n",
    "            likes_cats = -1\n",
    "        elif \"has cats\" in string:\n",
    "            likes_cats = 2\n",
    "        elif \"likes cats\" in string:\n",
    "            likes_cats = 1\n",
    "\n",
    "    return likes_dogs, likes_cats\n",
    "\n",
    "\n",
    "pets_dict = {}\n",
    "for item in df[\"pets\"].unique():\n",
    "    pets_dict[item] = get_pet_status(item)"
   ]
  },
  {
   "cell_type": "markdown",
   "metadata": {},
   "source": [
    "Con esto, sólo tenemos que declarar el transformador utilizando `category_to_point_transformer`. Después haremos un escalado al rango [0, 1]. Esto es porque si dejamos los valores 2 cuando tiene perros o gatos, se considerará el doble de importante que otras variables cuyo rango acaba en 1."
   ]
  },
  {
   "cell_type": "code",
   "execution_count": null,
   "metadata": {
    "ExecuteTime": {
     "end_time": "2021-01-13T17:23:04.055724Z",
     "start_time": "2021-01-13T17:22:45.440Z"
    }
   },
   "outputs": [],
   "source": [
    "pets_transformer = Pipeline([\n",
    "    (\"encoder\", category_to_point_transformer(pets_dict)),\n",
    "    (\"scaler\", MinMaxScaler())\n",
    "])"
   ]
  },
  {
   "cell_type": "markdown",
   "metadata": {},
   "source": [
    "### 2.2.3 Variables categóricas con afijos"
   ]
  },
  {
   "cell_type": "markdown",
   "metadata": {},
   "source": [
    "El resto de variables tienen un conjunto de categorías base acompañadas de modificadores en forma de prefijos o sufijos. La forma de codificar estas variables será transformando cada instancia en un vector de longitud igual al número de categorías base. En este vector, los valores dependerán de las categorías a las que la instancia pertenece y su intensidad, la cual viene marcada por los afijos. Un ejemplo es el idioma, que se codificará como un vector con valores 0, 0.3, 0.6 o 1 dependiendo de la fluidez con la que el usuario indica hablar el idioma. Por ejemplo, asumiendo que los únicos idiomas existentes fueran `english`, `spanish` y `french` (en ese orden), una instancia que dijera `[english (fluently), spanish(poorly)]` se codificaría como `[1.0, 0.3, 0]`.\n",
    "\n",
    "Las variables con afijos son `diet`, `education`, `ethnicity`, `religion`, `sign` y `speaks`.\n",
    "\n",
    "Para codificar estas variables, vamos a desarrollar un estimador que siga la API de `scikit-learn`, que pueda implementar el comportamiento mencionado partiendo de información como las categorías base y el peso que dar a cada modificador o afijo."
   ]
  },
  {
   "cell_type": "code",
   "execution_count": null,
   "metadata": {
    "ExecuteTime": {
     "end_time": "2021-01-13T17:23:04.057850Z",
     "start_time": "2021-01-13T17:22:45.465Z"
    },
    "code_folding": []
   },
   "outputs": [],
   "source": [
    "class AffixedVariableEncoder(BaseEstimator, TransformerMixin):\n",
    "    \"\"\"\n",
    "    Encode an affix-modified categorical variable.\n",
    "    \"\"\"\n",
    "    def __init__(self,\n",
    "                 categories=None,\n",
    "                 modifiers=None,\n",
    "                 delim=None,\n",
    "                 handle_unknown=\"error\",\n",
    "                 default_value=0):\n",
    "        \"\"\"\n",
    "        categories: array of lists containing expected categories for each feature.\n",
    "        modifiers: array of dicts containing expected modifiers and their corresponding value for each feature.\n",
    "        delim: delimiter to use for tokenizing inputs. Useful for instances with more than one category.\n",
    "        handle_unknown: {'ignore', 'error'}. How to deal unexpected categories.\n",
    "        default_value: value for the encoded array for unmentioned categories if handle_unknown=True.\n",
    "        \"\"\"\n",
    "\n",
    "        self.categories = categories\n",
    "        self.modifiers = modifiers\n",
    "        self.delim = delim\n",
    "        self.default_value = default_value\n",
    "\n",
    "        if handle_unknown not in {\"ignore\", \"error\"}:\n",
    "            raise ValueError('Possible values for handle_unknown: {\"ignore\", \"error\"}')\n",
    "        self.handle_unknown = handle_unknown\n",
    "\n",
    "        self.fitted = False\n",
    "\n",
    "    def _tokenize_data(self, X):\n",
    "        ret = np.zeros_like(X, dtype=list)\n",
    "        for feature in range(self.n_features):\n",
    "            for j in range(len(X)):\n",
    "                if self.delim is not None:\n",
    "                    ret[j, feature] = [elem.strip() for elem in X[j, feature].split(self.delim)]\n",
    "                else:\n",
    "                    ret[j, feature] = [X[j, feature]]\n",
    "        return ret\n",
    "\n",
    "    def _get_category_index(self, token, feature):\n",
    "        \"\"\"\n",
    "        Return category array index of token.\n",
    "        \"\"\"\n",
    "        categories = self.categories[feature]\n",
    "        matches = []\n",
    "        for index in range(len(categories)):\n",
    "            if categories[index] in token:\n",
    "                matches.append(categories[index])\n",
    "\n",
    "        if len(matches) > 1:\n",
    "            longest = max(matches, key=len)\n",
    "            if all([x in longest for x in matches]):\n",
    "                return categories.index(longest)\n",
    "            else:\n",
    "                raise ValueError(f\"Multiple affixes found for token {token}: {matches}\")\n",
    "        elif len(matches) == 0:\n",
    "            return None\n",
    "        else:\n",
    "            return categories.index(matches[0])\n",
    "\n",
    "    def _get_modifier(self, token, feature):\n",
    "        \"\"\"\n",
    "        Return modifier value for token with affix.\n",
    "        \"\"\"\n",
    "        modifiers = self.modifiers[feature]\n",
    "        matches = []\n",
    "\n",
    "        for affix in modifiers.keys():\n",
    "            if affix in token:\n",
    "                matches.append(affix)\n",
    "\n",
    "        if len(matches) > 1:    \n",
    "            longest = max(matches, key=len)\n",
    "            if all([x in longest for x in matches]):\n",
    "                return modifiers[longest]\n",
    "            else:\n",
    "                raise ValueError(f\"Multiple affixes found for token {token}: {matches}\")\n",
    "            \n",
    "        if len(matches) == 1:\n",
    "            return modifiers[matches[0]]\n",
    "        else:\n",
    "            try:\n",
    "                return modifiers[\"default\"]\n",
    "            except KeyError:\n",
    "                raise ValueError(f\"No affixes found for token {token} and no default modifier was specified.\")\n",
    "\n",
    "    def fit(self, X, y=None):\n",
    "\n",
    "        if len(X.shape) != 2:\n",
    "            raise ValueError(\"X must be a 2-dimensional array-like object. \\\n",
    "                              Use reshape(-1, 1) if your array contains a single feature or \\\n",
    "                              reshape(1, -1) if it contains a single sample.\")\n",
    "\n",
    "        self.n_features = X.shape[-1]\n",
    "\n",
    "        if self.handle_unknown == \"error\":\n",
    "            for feature in range(self.n_features):\n",
    "                for item in X[:, feature]:\n",
    "                    if item is np.nan or not any([cat in item for cat in self.categories[feature]]):\n",
    "                        raise ValueError(f\"Unexpected value found in X: {item}.\")\n",
    "        self.columnsize = sum([len(x) for x in self.categories])\n",
    "\n",
    "        self.fitted = True\n",
    "        return self\n",
    "\n",
    "    def transform(self, X, y=None):\n",
    "\n",
    "        if not self.fitted:\n",
    "            raise NotFittedError(\"Fit this estimator before using it.\")\n",
    "\n",
    "        X_split = self._tokenize_data(X)\n",
    "\n",
    "        ret = np.full((len(X), self.columnsize), fill_value=self.default_value, dtype=list)\n",
    "\n",
    "        offset = 0\n",
    "        for feature in range(self.n_features):\n",
    "            tokenized_data = X_split[:, feature]\n",
    "            for instance in range(len(tokenized_data)):\n",
    "                for token in tokenized_data[instance]:\n",
    "                    index = self._get_category_index(token, feature)\n",
    "                    if index is not None:\n",
    "                        ret[instance, offset + index] = self._get_modifier(token, feature)\n",
    "            offset += len(self.categories[feature])\n",
    "\n",
    "        return ret"
   ]
  },
  {
   "cell_type": "markdown",
   "metadata": {},
   "source": [
    "#### 2.2.3.1 Dieta"
   ]
  },
  {
   "cell_type": "markdown",
   "metadata": {},
   "source": [
    "Como es habitual, antes de nada queremos mirar qué categorías hay."
   ]
  },
  {
   "cell_type": "code",
   "execution_count": null,
   "metadata": {
    "ExecuteTime": {
     "end_time": "2021-01-13T17:23:04.059485Z",
     "start_time": "2021-01-13T17:22:45.490Z"
    }
   },
   "outputs": [],
   "source": [
    "df[\"diet\"].value_counts(dropna=False)"
   ]
  },
  {
   "cell_type": "markdown",
   "metadata": {},
   "source": [
    "Mirando estos posibles valores podemos extraer los prefijos y las categorías base fácilmente.\n",
    "\n",
    "Vamos a tomar una serie de decisiones en este caso:\n",
    "- En primer lugar, vamos a considerar que esta variable se codificará como un vector de \"restricciones alimentarias\". Esto significa que no vamos a considerar el tipo `anything`, que significa que no las hay.\n",
    "- El tipo `other` será ignorado, ya que no queremos crear un grupo que por definición será muy diverso.\n",
    "- Vamos a agrupar `vegan` y `vegetarian`. Estas categorías no son sinónimas, pero están suficientemente cerca y esta decisión nos simplifica la dimensionalidad del problema.\n",
    "\n",
    "La unificación de `vegetarian` y `vegan` son el primer paso del preprocesamiento de esta variable."
   ]
  },
  {
   "cell_type": "code",
   "execution_count": null,
   "metadata": {
    "ExecuteTime": {
     "end_time": "2021-01-13T17:23:04.061491Z",
     "start_time": "2021-01-13T17:22:45.515Z"
    }
   },
   "outputs": [],
   "source": [
    "df[\"diet\"] = df[\"diet\"].astype(str).astype(object)  # Convert np.nan to \"nan\"\n",
    "\n",
    "vegan_to_vegetarian = substitution_transformer({\"vegan\": \"vegetarian\"})"
   ]
  },
  {
   "cell_type": "markdown",
   "metadata": {},
   "source": [
    "A continuación, preparamos un `AffixedVariableEncoder` con los parámetros adecuados. Vamos a considerar que el valor del array codificado será la seriedad con la que se toman su dieta. `strictly` será un valor de $1$, `mostly` será un valor de $\\frac{1}{3}$ y si no se indica modificador, el valor será de $\\frac{2}{3}$."
   ]
  },
  {
   "cell_type": "code",
   "execution_count": null,
   "metadata": {
    "ExecuteTime": {
     "end_time": "2021-01-13T17:23:04.064741Z",
     "start_time": "2021-01-13T17:22:45.538Z"
    }
   },
   "outputs": [],
   "source": [
    "diets = [\"vegetarian\", \"kosher\", \"halal\"]\n",
    "\n",
    "diet_modifiers = {\n",
    "    \"strictly\": 1.0,\n",
    "    \"default\": 0.66,\n",
    "    \"mostly\": 0.33\n",
    "}\n",
    "\n",
    "diet_encoder = AffixedVariableEncoder(categories=[diets], modifiers=[diet_modifiers], handle_unknown=\"ignore\")\n",
    "\n",
    "diet_transformer = Pipeline([\n",
    "    (\"vegan_to_vegetarian\", vegan_to_vegetarian),\n",
    "    (\"encoder\", diet_encoder)\n",
    "])"
   ]
  },
  {
   "cell_type": "markdown",
   "metadata": {},
   "source": [
    "#### 2.2.3.2 Educación"
   ]
  },
  {
   "cell_type": "code",
   "execution_count": null,
   "metadata": {
    "ExecuteTime": {
     "end_time": "2021-01-13T17:23:04.066844Z",
     "start_time": "2021-01-13T17:22:45.560Z"
    }
   },
   "outputs": [],
   "source": [
    "df[\"education\"].value_counts(dropna=False)"
   ]
  },
  {
   "cell_type": "markdown",
   "metadata": {},
   "source": [
    "En este caso, no vamos a utilizar el `encoder` definido anteriormente. Todas estas categorías, si bien tienen prefijos, tienen una característica secuencial en su mayor parte (para hacer un doctorado hay que haber hecho un máster, y para el máster un grado, etc.). Por eso vamos a traducir estas categorías para convertirlas en una columna ordinal que indique el máximo nivel de educación recibido (el tipo `NaN` se sitúa en la moda, que son estudios universitarios de grado).\n",
    "\n",
    "Creemos que el tipo `space camp` se refiere a un campamento organizado por la NASA situado en Huntsville, Alabama \\[7\\]. Su objetivo es proporcionar un entrenamiento de astronauta a niños. En los últimos años han autorizado el acceso a un programa para adultos, pero en cualquier caso, el ambiente es de un campamento de verano más que de un programa educativo. No hemos encontrado nada más que pueda referirse a este `space camp`, por lo que lo clasificaremos como nivel de educación secundaria (`high school`)."
   ]
  },
  {
   "cell_type": "code",
   "execution_count": null,
   "metadata": {
    "ExecuteTime": {
     "end_time": "2021-01-13T17:23:04.068533Z",
     "start_time": "2021-01-13T17:22:45.576Z"
    }
   },
   "outputs": [],
   "source": [
    "df[\"education\"] = df[\"education\"].astype(str).astype(object)\n",
    "\n",
    "education_levels = [\n",
    "    \"high school\",\n",
    "    \"undergraduate\",\n",
    "    \"graduate\",\n",
    "    \"doctorate\"\n",
    "]\n",
    "\n",
    "education_level_unifier = substitution_transformer({\n",
    "    \"high school\": \"high school\",\n",
    "    \"space camp\": \"high school\",\n",
    "    \"nan\": \"undergraduate\",\n",
    "    \"college\": \"undergraduate\",\n",
    "    \"masters\": \"graduate\",\n",
    "    \"law school\": \"graduate\",\n",
    "    \"med school\": \"grauate\",\n",
    "    \"ph.d\": \"doctorate\"\n",
    "}, full=True)\n",
    "\n",
    "education_transformer = Pipeline([\n",
    "    (\"unifier\", education_level_unifier),\n",
    "    (\"ordinal_encoder\", OrdinalEncoder(categories=[education_levels])),\n",
    "    (\"scaler\", MinMaxScaler())\n",
    "])"
   ]
  },
  {
   "cell_type": "markdown",
   "metadata": {},
   "source": [
    "#### 2.2.3.3 Etnicidad"
   ]
  },
  {
   "cell_type": "code",
   "execution_count": null,
   "metadata": {
    "ExecuteTime": {
     "end_time": "2021-01-13T17:23:04.070862Z",
     "start_time": "2021-01-13T17:22:45.595Z"
    }
   },
   "outputs": [],
   "source": [
    "df[\"ethnicity\"].value_counts(dropna=False)"
   ]
  },
  {
   "cell_type": "markdown",
   "metadata": {},
   "source": [
    "Lo primero que necesitamos son los posibles valores básicos que puede tomar la variable."
   ]
  },
  {
   "cell_type": "code",
   "execution_count": null,
   "metadata": {
    "ExecuteTime": {
     "end_time": "2021-01-13T17:23:04.073496Z",
     "start_time": "2021-01-13T17:22:45.611Z"
    }
   },
   "outputs": [],
   "source": [
    "ethnicities = set()\n",
    "for i in df[\"ethnicity\"]:\n",
    "    if i is not np.nan:\n",
    "        ethnicities.update([i.strip() for i in i.split(\",\")])\n",
    "print(ethnicities)"
   ]
  },
  {
   "cell_type": "markdown",
   "metadata": {},
   "source": [
    "Aunque esta variable no tiene los modificadores, vamos a introducirlos para poder seleccionar el porcentaje de pertenencia a la etnicidad en cuestión. Vamos a asumir que cuando un usuario indica más de una etnicidad, la distribución es uniforme. Esto va a resultar en algunos ejemplos para los cuales el porcentaje será muy bajo, porque han indicado muchas etnicidadess diferentes. Vamos a ver si es un gran problema."
   ]
  },
  {
   "cell_type": "code",
   "execution_count": null,
   "metadata": {
    "ExecuteTime": {
     "end_time": "2021-01-13T17:23:04.075209Z",
     "start_time": "2021-01-13T17:22:45.628Z"
    }
   },
   "outputs": [],
   "source": [
    "df[\"ethnicity\"].apply(lambda x: len(x.split(\",\")) if x is not np.nan else 0).value_counts().sort_index()"
   ]
  },
  {
   "cell_type": "markdown",
   "metadata": {},
   "source": [
    "A partir de 4 el número de instancias es muy bajo, así que no es un problema serio y podemos continuar.\n",
    "\n",
    "En primer lugar, tenemos que preparar un transformador que aplique a cada instancia los porcentajes en cuestión."
   ]
  },
  {
   "cell_type": "code",
   "execution_count": null,
   "metadata": {
    "ExecuteTime": {
     "end_time": "2021-01-13T17:23:04.077246Z",
     "start_time": "2021-01-13T17:22:45.643Z"
    }
   },
   "outputs": [],
   "source": [
    "def apply_pct_suffix(X):    \n",
    "    \n",
    "    if type(X) is pd.DataFrame:\n",
    "        X = X.to_numpy()\n",
    "        \n",
    "    ret = np.zeros_like(X, dtype=list)\n",
    "    for feature in range(X.shape[-1]):\n",
    "        for i in range(len(X)):\n",
    "            if X[i, feature] is not np.nan:\n",
    "                values = X[i, feature].split(\",\")\n",
    "                for j in range(len(values)):\n",
    "                    values[j] = values[j] + \" \" + str(1 / len(values))    \n",
    "                ret[i, feature] = ','.join(values)\n",
    "            else:\n",
    "                ret[i, feature] = \"nan\"\n",
    "    return ret\n",
    "\n",
    "\n",
    "suffix_adder = FunctionTransformer(apply_pct_suffix)"
   ]
  },
  {
   "cell_type": "markdown",
   "metadata": {},
   "source": [
    "Ahora, simplemente preparamos un `AffixedVariableEncoder`. Vamos a tratar el tipo `other` como si fuera desconocido, ya que no queremos que resulte en una amalgama de instancias diferentes entre sí. Preferimos devolver un array de ceros en ese caso."
   ]
  },
  {
   "cell_type": "code",
   "execution_count": null,
   "metadata": {
    "ExecuteTime": {
     "end_time": "2021-01-13T17:23:04.078828Z",
     "start_time": "2021-01-13T17:22:45.659Z"
    }
   },
   "outputs": [],
   "source": [
    "ethnicities.remove(\"other\")\n",
    "modifiers = {str(1 / n): 1 / n for n in range(1, 10)}\n",
    "\n",
    "ethnicities = list(ethnicities)\n",
    "\n",
    "ethnicity_encoder = AffixedVariableEncoder(categories=[ethnicities],\n",
    "                                           modifiers=[modifiers],\n",
    "                                           delim=\",\",\n",
    "                                           handle_unknown=\"ignore\",\n",
    "                                           default_value=0)\n",
    "\n",
    "\n",
    "ethnicity_transformer = Pipeline([\n",
    "    (\"suffix_adder\", suffix_adder),\n",
    "    (\"ethnicity_encoder\", ethnicity_encoder)\n",
    "])"
   ]
  },
  {
   "cell_type": "markdown",
   "metadata": {},
   "source": [
    "#### 2.2.3.4 Religión"
   ]
  },
  {
   "cell_type": "code",
   "execution_count": null,
   "metadata": {
    "ExecuteTime": {
     "end_time": "2021-01-13T17:23:04.080904Z",
     "start_time": "2021-01-13T17:22:45.673Z"
    }
   },
   "outputs": [],
   "source": [
    "df[\"religion\"].value_counts(dropna=False)"
   ]
  },
  {
   "cell_type": "markdown",
   "metadata": {},
   "source": [
    "En este caso hemos querido agrupar en la misma categoría a toda la gente que no se considera religiosa. Al fin y al cabo, para hacer un clustering podríamos considerar la falta de religión como un tipo de religión más. Consideraremos como este tipo `not religious` a los que hayan contestado `NaN` y a los que hayan dicho `and laughing about it` en su religión.\n",
    "\n",
    "Podemos montar un paso de preprocesamiento que haga esto."
   ]
  },
  {
   "cell_type": "code",
   "execution_count": null,
   "metadata": {
    "ExecuteTime": {
     "end_time": "2021-01-13T17:23:04.082577Z",
     "start_time": "2021-01-13T17:22:45.688Z"
    }
   },
   "outputs": [],
   "source": [
    "df[\"religion\"] = df[\"religion\"].astype(str).astype(object)\n",
    "not_religious_transformer = substitution_transformer(\n",
    "    {\n",
    "        \"laughing about it\": \"unimportant\",\n",
    "        \"nan\": \"unimportant\"\n",
    "    }, full=True)"
   ]
  },
  {
   "cell_type": "markdown",
   "metadata": {},
   "source": [
    "A continuación, queremos agrupar `catholicism` y `christianity`. Los católicos son cristianos, y aunque no todos los cristianos sean católicos, los cristianos protestantes y ortodoxos están más cerca de los católicos que del resto de religiones, y este paso nos permitirá simplificar la dimensionalidad del problema."
   ]
  },
  {
   "cell_type": "code",
   "execution_count": null,
   "metadata": {
    "ExecuteTime": {
     "end_time": "2021-01-13T17:23:04.084335Z",
     "start_time": "2021-01-13T17:22:45.701Z"
    }
   },
   "outputs": [],
   "source": [
    "catholic_to_christian_transformer = substitution_transformer({\"catholicism\": \"christianity\"})"
   ]
  },
  {
   "cell_type": "markdown",
   "metadata": {},
   "source": [
    "Con respecto al resto de variables, simplemente generamos un transformador con un diccionario de sufijos razonable."
   ]
  },
  {
   "cell_type": "code",
   "execution_count": null,
   "metadata": {
    "ExecuteTime": {
     "end_time": "2021-01-13T17:23:04.086085Z",
     "start_time": "2021-01-13T17:22:45.715Z"
    }
   },
   "outputs": [],
   "source": [
    "religions = [\n",
    "    \"agnosticism\", \"christianity\", \"buddhism\", \"judaism\", \"islam\", \"atheism\",\n",
    "    \"hinduism\", \"unimportant\"\n",
    "]\n",
    "\n",
    "religion_modifier_dict = {\n",
    "    \"but not too serious about it\": 0.25,\n",
    "    \"default\": 0.5,\n",
    "    \"and somewhat serious about it\": 0.75,\n",
    "    \"and very serious about it\": 1.0\n",
    "}\n",
    "\n",
    "religion_encoder = AffixedVariableEncoder(categories=[religions],\n",
    "                                          modifiers=[religion_modifier_dict],\n",
    "                                          handle_unknown=\"ignore\")"
   ]
  },
  {
   "cell_type": "code",
   "execution_count": null,
   "metadata": {
    "ExecuteTime": {
     "end_time": "2021-01-13T17:23:04.087953Z",
     "start_time": "2021-01-13T17:22:45.726Z"
    }
   },
   "outputs": [],
   "source": [
    "religion_transformer = Pipeline([\n",
    "    (\"group_unimportant\", not_religious_transformer),\n",
    "    (\"catholic_to_christian\", catholic_to_christian_transformer),\n",
    "    (\"encoder\", religion_encoder)\n",
    "])"
   ]
  },
  {
   "cell_type": "markdown",
   "metadata": {},
   "source": [
    "#### 2.2.3.5 Signo del zodíaco"
   ]
  },
  {
   "cell_type": "code",
   "execution_count": null,
   "metadata": {
    "ExecuteTime": {
     "end_time": "2021-01-13T17:23:04.089547Z",
     "start_time": "2021-01-13T17:22:45.739Z"
    }
   },
   "outputs": [],
   "source": [
    "df[\"sign\"].value_counts(dropna=False)"
   ]
  },
  {
   "cell_type": "markdown",
   "metadata": {},
   "source": [
    "De nuevo, nos planteamos agrupar a aquellos a los que no les importa el signo en una categoría. El preprocesamiento de `sign` será muy similar al de `religion`."
   ]
  },
  {
   "cell_type": "code",
   "execution_count": null,
   "metadata": {
    "ExecuteTime": {
     "end_time": "2021-01-13T17:23:04.091608Z",
     "start_time": "2021-01-13T17:22:45.753Z"
    }
   },
   "outputs": [],
   "source": [
    "df[\"sign\"] = df[\"sign\"].astype(str).astype(object)\n",
    "sign_not_important_transformer = substitution_transformer(\n",
    "    {\n",
    "        \"but it doesn&rsquo;t matter\": \"unimportant\",\n",
    "        \"nan\": \"unimportant\"\n",
    "    }, full=True)"
   ]
  },
  {
   "cell_type": "code",
   "execution_count": null,
   "metadata": {
    "ExecuteTime": {
     "end_time": "2021-01-13T17:23:04.093287Z",
     "start_time": "2021-01-13T17:22:45.762Z"
    }
   },
   "outputs": [],
   "source": [
    "signs = [\n",
    "    \"capricorn\", \"aquarius\", \"pisces\", \"aries\", \"taurus\", \"gemini\", \"cancer\",\n",
    "    \"leo\", \"virgo\", \"libra\", \"scorpio\", \"sagittarius\", \"unimportant\"\n",
    "]\n",
    "\n",
    "sign_modifier_dict = {\n",
    "    \"default\": 0.33,\n",
    "    \"and it&rsquo;s fun to think about\": 0.66,\n",
    "    \"and it matters a lot\": 1.0\n",
    "}\n",
    "\n",
    "sign_encoder = AffixedVariableEncoder(categories=[signs],\n",
    "                                      modifiers=[sign_modifier_dict],\n",
    "                                      handle_unknown=\"ignore\")"
   ]
  },
  {
   "cell_type": "code",
   "execution_count": null,
   "metadata": {
    "ExecuteTime": {
     "end_time": "2021-01-13T17:23:04.095153Z",
     "start_time": "2021-01-13T17:22:45.770Z"
    }
   },
   "outputs": [],
   "source": [
    "sign_transformer = Pipeline([\n",
    "    (\"group_unimportant\", sign_not_important_transformer),\n",
    "    (\"encoder\", sign_encoder)\n",
    "])"
   ]
  },
  {
   "cell_type": "markdown",
   "metadata": {},
   "source": [
    "#### 2.2.3.6 Idiomas hablados"
   ]
  },
  {
   "cell_type": "code",
   "execution_count": null,
   "metadata": {
    "ExecuteTime": {
     "end_time": "2021-01-13T17:23:04.096977Z",
     "start_time": "2021-01-13T17:22:45.785Z"
    }
   },
   "outputs": [],
   "source": [
    "df[\"speaks\"].value_counts(dropna=False)"
   ]
  },
  {
   "cell_type": "code",
   "execution_count": null,
   "metadata": {
    "ExecuteTime": {
     "end_time": "2021-01-13T17:23:04.098792Z",
     "start_time": "2021-01-13T17:22:45.795Z"
    }
   },
   "outputs": [],
   "source": [
    "any(df[\"speaks\"].isnull())"
   ]
  },
  {
   "cell_type": "markdown",
   "metadata": {},
   "source": [
    "Parece que tenemos algunos valores nulos."
   ]
  },
  {
   "cell_type": "code",
   "execution_count": null,
   "metadata": {
    "ExecuteTime": {
     "end_time": "2021-01-13T17:23:04.100321Z",
     "start_time": "2021-01-13T17:22:45.815Z"
    }
   },
   "outputs": [],
   "source": [
    "df[df[\"speaks\"].isnull()]"
   ]
  },
  {
   "cell_type": "markdown",
   "metadata": {},
   "source": [
    "Hay bastantes filas con valores nulos, pero todas ellas son de California y/o tienen texto en inglés en las columnas `essay0` - `essay9`. Por eso, vamos a considerar que hablan inglés."
   ]
  },
  {
   "cell_type": "code",
   "execution_count": null,
   "metadata": {
    "ExecuteTime": {
     "end_time": "2021-01-13T17:23:04.102121Z",
     "start_time": "2021-01-13T17:22:45.828Z"
    }
   },
   "outputs": [],
   "source": [
    "df[\"speaks\"] = df[\"speaks\"].astype(str).astype(object)  # Convert np.nan into \"nan\"\n",
    "\n",
    "nan_to_english = substitution_transformer({\"nan\": \"english\"})"
   ]
  },
  {
   "cell_type": "markdown",
   "metadata": {},
   "source": [
    "A continuación, necesitamos saber qué idiomas podemos encontrarnos."
   ]
  },
  {
   "cell_type": "code",
   "execution_count": null,
   "metadata": {
    "ExecuteTime": {
     "end_time": "2021-01-13T17:23:04.103997Z",
     "start_time": "2021-01-13T17:22:45.841Z"
    }
   },
   "outputs": [],
   "source": [
    "languages = set()\n",
    "for item in df[\"speaks\"]:\n",
    "    instance_languages = item.split(\",\")\n",
    "    for i in range(len(instance_languages)):\n",
    "        if \"(\" in instance_languages[i]:\n",
    "            instance_languages[i] = instance_languages[i].split(\"(\")[0]\n",
    "    instance_languages = [x.strip() for x in instance_languages]\n",
    "    languages.update(instance_languages)\n",
    "print(languages)"
   ]
  },
  {
   "cell_type": "code",
   "execution_count": null,
   "metadata": {
    "ExecuteTime": {
     "end_time": "2021-01-13T17:23:04.106695Z",
     "start_time": "2021-01-13T17:22:45.852Z"
    }
   },
   "outputs": [],
   "source": [
    "languages.remove(\"nan\")\n",
    "languages.remove(\"other\")"
   ]
  },
  {
   "cell_type": "markdown",
   "metadata": {},
   "source": [
    "Ahora nos interesa conocer qué modificadores tenemos."
   ]
  },
  {
   "cell_type": "code",
   "execution_count": null,
   "metadata": {
    "ExecuteTime": {
     "end_time": "2021-01-13T17:23:04.108349Z",
     "start_time": "2021-01-13T17:22:45.865Z"
    }
   },
   "outputs": [],
   "source": [
    "fluencies = set()\n",
    "for item in df[\"speaks\"]:\n",
    "    for language in item.split(\",\"):\n",
    "        if \"(\" in language:\n",
    "            fluencies.add(language.split(\"(\")[1].replace(\")\", \"\").strip())\n",
    "print(fluencies)"
   ]
  },
  {
   "cell_type": "markdown",
   "metadata": {},
   "source": [
    "Con esto ya sólo necesitamos montar un `encoder`.\n",
    "\n",
    "Vamos a considerar que si el usuario no indica nivel de habilidad, habla el idioma sin problemas. Casi todos los usuarios han indicado un nivel de habilidad cuando seleccionan más de un idioma, pero hay muchos que sólo indican uno (el idioma materno) sin especificar habilidad, así que esta decisión será beneficiosa."
   ]
  },
  {
   "cell_type": "code",
   "execution_count": null,
   "metadata": {
    "ExecuteTime": {
     "end_time": "2021-01-13T17:23:04.110272Z",
     "start_time": "2021-01-13T17:22:45.878Z"
    }
   },
   "outputs": [],
   "source": [
    "speaks_modifiers = {\n",
    "    \"poorly\": 0.33,\n",
    "    \"okay\": 0.66,\n",
    "    \"fluently\": 1.0,\n",
    "    \"default\": 1.0\n",
    "}\n",
    "\n",
    "languages = list(languages)\n",
    "\n",
    "speaks_encoder = AffixedVariableEncoder(categories=[languages],\n",
    "                                        modifiers=[speaks_modifiers],\n",
    "                                        delim=\",\",\n",
    "                                        handle_unknown=\"ignore\")\n",
    "\n",
    "speaks_transformer = Pipeline([\n",
    "    (\"nan_to_english\", nan_to_english),\n",
    "    (\"encoder\", speaks_encoder)\n",
    "])"
   ]
  },
  {
   "cell_type": "markdown",
   "metadata": {},
   "source": [
    "## 2.3 Variables de texto libre"
   ]
  },
  {
   "cell_type": "markdown",
   "metadata": {},
   "source": [
    "Es el turno de analizar las variables de texto libre `essay0-essay9`. Son campos de texto libre de longitud variable que se corresponden con distintas temáticas, tal y como se detalla en la descripción de la práctica."
   ]
  },
  {
   "cell_type": "code",
   "execution_count": null,
   "metadata": {
    "ExecuteTime": {
     "end_time": "2021-01-13T17:23:04.112019Z",
     "start_time": "2021-01-13T17:22:45.898Z"
    }
   },
   "outputs": [],
   "source": [
    "for essay in text_vars:\n",
    "    avg_len = df[essay].str.len().mean()\n",
    "    nan_count = df[essay].isnull().sum()\n",
    "    empty_count = ((df[essay] == \" \") | (df[essay] == \"\")).sum()\n",
    "    print(f\"Average length of {essay} column: {avg_len}\", end=\"\\t|\\t\")\n",
    "    print(f\"NaN values: {nan_count}\", end=\"\\t|\\t\")\n",
    "    print(f\"Empty values:{empty_count}\")"
   ]
  },
  {
   "cell_type": "markdown",
   "metadata": {},
   "source": [
    "Lo primero que tenemos aquí es un problema con la cantidad de valores nulos. Sabiendo que hay unas 60000 instancias en el dataset, el número de entradas nulas representa en casi todos los casos una proporción alarmantemente alta. Vamos a ver qué contenido representan las columnas `essay0`, `essay1` y `essay2`, ya que son las que tienen una proporción menor de valores nulos."
   ]
  },
  {
   "cell_type": "code",
   "execution_count": null,
   "metadata": {
    "ExecuteTime": {
     "end_time": "2021-01-13T17:23:04.113822Z",
     "start_time": "2021-01-13T17:22:45.914Z"
    },
    "scrolled": false
   },
   "outputs": [],
   "source": [
    "with pd.option_context(\"display.max_colwidth\", 2000):\n",
    "    display(df[[\"essay0\", \"essay1\", \"essay2\"]])"
   ]
  },
  {
   "cell_type": "markdown",
   "metadata": {},
   "source": [
    "Leyendo el contenido de estas entradas, parece que la primera es el \"Sobre mí\" o información general, mientras que la segunda y la tercera son trabajo y aficiones respectivamente. Teniendo en cuenta la cantidad de valores nulos en el resto de columnas y que estas tres dan mucha información sobre la persona que las escribe, creemos que es acertado quedarnos con estas tres columnas y descartar el resto. Esto nos dará además un beneficio añadido: la reducción de la complejidad del problema y el ahorro computacional que eso significa.\n",
    "\n",
    "<br>\n",
    "\n",
    "El preprocesamiento que utilizaremos será el mismo para las tres variables:\n",
    "1. En primer lugar, vamos a sustituir los valores nulos con la cadena \"nan\".\n",
    "1. En segundo lugar, convertiremos cada entrada de texto en *tokens*.\n",
    "2. A continuación, eliminaremos las palabras sin significado intrínseco o *stopwords*.\n",
    "4. Eliminaremos todas las palabras que no se categoricen como palabras aceptadas. Esta categoría la hemos decidido nosotros y consiste en que la palabra exista en el diccionario con alguna acepción como adjetivo, sustantivo o verbo. Así terminamos de filtrar todos los errores ortográficos que nos hayamos dejado, además de símbolos o URLs, y sólo nos quedamos con palabras que sabemos que van a ser útiles.\n",
    "5. En lugar de utilizar un *bag of words*, vamos a aplicar el algoritmo $\\mathrm{LDA}$ \\[8\\] directamente para agrupar la información en tópicos o temas. Este algoritmo nos devolverá, para cada entrada, un índice de pertenencia cada tópico como un número entre 0 y 1.\n",
    "6. Por último, codificaremos cada instancia como un vector con estos índices de pertenencia.\n",
    "\n",
    "<br>\n",
    "\n",
    "Este acercamiento nos permite obtener información muy útil sobre cada instancia. Después de los pasos de limpieza de los datos, el uso de LDA hace un primer acercamiento a un clustering, ya que va a agrupar los textos en un número de temas predefinido. Pero a diferencia de un clustering, LDA nos da estos índices de pertenencia en lugar de una simple etiqueta de cluster. Si para cada instancia devolviéramos el tópico con mayor índice, estaríamos perdiendo información valiosa."
   ]
  },
  {
   "cell_type": "markdown",
   "metadata": {},
   "source": [
    "### 2.3.1 Valores nulos"
   ]
  },
  {
   "cell_type": "markdown",
   "metadata": {},
   "source": [
    "Todos estos valores NaN serán tratados como cadenas vacías en el procesamiento, lo que puede dar lugar a problemas en los métodos utilizados. Es por esto que se decide sustituir los NaN por la cadena \"nan\"."
   ]
  },
  {
   "cell_type": "code",
   "execution_count": null,
   "metadata": {
    "ExecuteTime": {
     "end_time": "2021-01-13T17:23:04.115486Z",
     "start_time": "2021-01-13T17:22:45.935Z"
    }
   },
   "outputs": [],
   "source": [
    "df[text_vars] = df[text_vars].fillna(\"nan\")"
   ]
  },
  {
   "cell_type": "markdown",
   "metadata": {},
   "source": [
    "### 2.3.2 Tokenizer"
   ]
  },
  {
   "cell_type": "markdown",
   "metadata": {},
   "source": [
    "El primer paso es convertir las palabras en *tokens*. Para ello utilizaremos la función `tokenize` de `gensim.utils`."
   ]
  },
  {
   "cell_type": "code",
   "execution_count": null,
   "metadata": {
    "ExecuteTime": {
     "end_time": "2021-01-13T17:23:04.117263Z",
     "start_time": "2021-01-13T17:22:45.953Z"
    }
   },
   "outputs": [],
   "source": [
    "def tokenize_funct(X):\n",
    "    tokens = np.zeros_like(X, dtype=object)\n",
    "    if type(X) is pd.DataFrame:\n",
    "        X = X.to_numpy()\n",
    "        \n",
    "    for i in range(len(X)):\n",
    "        for j in range(len(X[i])):\n",
    "            tokens[i, j] = tokenize(X[i, j])\n",
    "    return tokens\n",
    "\n",
    "tokenizer = FunctionTransformer(tokenize_funct)"
   ]
  },
  {
   "cell_type": "markdown",
   "metadata": {},
   "source": [
    "### 2.3.3 *Stopwords*"
   ]
  },
  {
   "cell_type": "markdown",
   "metadata": {},
   "source": [
    "Vamos a considerar *stopwords* aquellas que aparezcan en el conjunto de *stopwords* de `gensim` y aquellas que tengan una longitud menor de 3, además de algunas palabras comunes en este dataset, que no van a aportar nada."
   ]
  },
  {
   "cell_type": "code",
   "execution_count": null,
   "metadata": {
    "ExecuteTime": {
     "end_time": "2021-01-13T17:23:04.119030Z",
     "start_time": "2021-01-13T17:22:45.970Z"
    }
   },
   "outputs": [],
   "source": [
    "stopwords = set(STOPWORDS)\n",
    "\n",
    "stopwords.update([\n",
    "    \"nan\", \"looking\", \"look\"\n",
    "])\n",
    "\n",
    "def remove_sw(X):\n",
    "    ret = np.zeros_like(X, dtype=object)\n",
    "    for i in range(len(X)):\n",
    "        for j in range(len(X[i])):\n",
    "            tokens_no_sw = []\n",
    "            for token in X[i, j]:\n",
    "                if token not in STOPWORDS and len(token) >= 3:\n",
    "                    tokens_no_sw.append(token)\n",
    "            ret[i, j] = tokens_no_sw\n",
    "    return ret\n",
    "\n",
    "stopwords_remover = FunctionTransformer(remove_sw)"
   ]
  },
  {
   "cell_type": "markdown",
   "metadata": {},
   "source": [
    "### 2.3.4 Filtrado de palabras aceptadas"
   ]
  },
  {
   "cell_type": "markdown",
   "metadata": {},
   "source": [
    "Para este paso, lo primero que necesitamos es una lista de palabras válidas."
   ]
  },
  {
   "cell_type": "code",
   "execution_count": null,
   "metadata": {
    "ExecuteTime": {
     "end_time": "2021-01-13T17:23:04.120813Z",
     "start_time": "2021-01-13T17:22:45.989Z"
    }
   },
   "outputs": [],
   "source": [
    "nltk.download(\"wordnet\", download_dir=DATA_PATH)\n",
    "nltk.data.path = [DATA_PATH]\n",
    "ACCEPTED_WORDS = set()\n",
    "for synset in wn.all_synsets(wn.ADJ):\n",
    "    ACCEPTED_WORDS.add(synset.name().split(\".\")[0])\n",
    "    \n",
    "for synset in wn.all_synsets(wn.VERB):\n",
    "    ACCEPTED_WORDS.add(synset.name().split(\".\")[0])\n",
    "\n",
    "for synset in wn.all_synsets(wn.NOUN):\n",
    "    ACCEPTED_WORDS.add(synset.name().split(\".\")[0])"
   ]
  },
  {
   "cell_type": "code",
   "execution_count": null,
   "metadata": {
    "ExecuteTime": {
     "end_time": "2021-01-13T17:23:04.122901Z",
     "start_time": "2021-01-13T17:22:46.001Z"
    }
   },
   "outputs": [],
   "source": [
    "def check_accepted_words(X):\n",
    "    ret = np.zeros_like(X, dtype=object)\n",
    "    \n",
    "    for i in range(len(X)):\n",
    "        for j in range(len(X[i])):\n",
    "            accepted_tokens = []\n",
    "            for token in X[i, j]:\n",
    "                if token in ACCEPTED_WORDS:\n",
    "                    accepted_tokens.append(token)\n",
    "            ret[i, j] = accepted_tokens\n",
    "            \n",
    "    return ret\n",
    "\n",
    "accepted_word_filter = FunctionTransformer(check_accepted_words)"
   ]
  },
  {
   "cell_type": "markdown",
   "metadata": {},
   "source": [
    "### 2.3.5 Aplicación de LDA"
   ]
  },
  {
   "cell_type": "markdown",
   "metadata": {},
   "source": [
    "Ahora preparamos un transformador que convertirá una lista de tokens aceptadas en un array de índices de pertenencia a los diferentes tópicos. Para ello, antes necesitaremos definir un diccionario y un corpus para cada una de las columnas que se procesen."
   ]
  },
  {
   "cell_type": "code",
   "execution_count": null,
   "metadata": {
    "ExecuteTime": {
     "end_time": "2021-01-13T17:23:04.125107Z",
     "start_time": "2021-01-13T17:22:46.024Z"
    }
   },
   "outputs": [],
   "source": [
    "class TextTopicEncoder(BaseEstimator, TransformerMixin):\n",
    "    \"\"\"\n",
    "    Encode a natural laguage array as a LDA-encoded array.\n",
    "    \"\"\"\n",
    "    def __init__(self, n_topics=[10]):\n",
    "        \"\"\"\n",
    "        n_topics: list containing number of topics per feature.\n",
    "        \"\"\"\n",
    "        self.n_features = len(n_topics)\n",
    "        self.n_topics = n_topics\n",
    "        self.fitted = False\n",
    "        \n",
    "    def get_topics_dict(self, feature, n_top_words=10):\n",
    "        if not self.fitted:\n",
    "            raise NotFittedError(\"Estimator is not fitted\")\n",
    "            \n",
    "        topics = {}\n",
    "        for i in range(self.n_topics[feature]):\n",
    "            words = []\n",
    "            for j in range(n_top_words):\n",
    "                words.append(self.lda_model[feature].show_topic(i)[j][0])\n",
    "            topics[i] = words\n",
    "        return topics\n",
    "        \n",
    "    def fit(self, X, y=None):\n",
    "        assert self.n_features == X.shape[-1]\n",
    "        self.columnsize = sum(self.n_topics)\n",
    "        self.dictionary = []\n",
    "        self.corpus = []\n",
    "        self.lda_model = []\n",
    "            \n",
    "        for feature in range(self.n_features):\n",
    "            self.dictionary.append(Dictionary(X[:, feature]))\n",
    "            self.corpus.append([self.dictionary[feature].doc2bow(text) for text in X[:, feature]])\n",
    "            self.lda_model.append(LdaMulticore(corpus=self.corpus[feature],\n",
    "                                               id2word=self.dictionary[feature],\n",
    "                                               num_topics=self.n_topics[feature],\n",
    "                                               random_state=RANDOM_SEED,\n",
    "                                               chunksize=100,\n",
    "                                               passes=10))\n",
    "        \n",
    "        self.fitted = True\n",
    "        return self\n",
    "    \n",
    "    def transform(self, X, y=None):\n",
    "        if not self.fitted:\n",
    "            raise NotFittedError(\"Estimator is not fitted\")\n",
    "            \n",
    "        ret = np.zeros((len(X), self.columnsize), dtype=object)\n",
    "        offset = 0\n",
    "        for feature in range(self.n_features):\n",
    "            for i in range(len(X)):\n",
    "                topics_array = np.zeros((self.n_topics[feature],))\n",
    "                encoded_text = self.lda_model[feature].get_document_topics(self.corpus[feature][i])\n",
    "                for index, proba in encoded_text:\n",
    "                    topics_array[index] = proba\n",
    "                ret[i, offset : offset + self.n_topics[feature]] = topics_array\n",
    "            offset += self.n_topics[feature]\n",
    "            \n",
    "        return ret"
   ]
  },
  {
   "cell_type": "markdown",
   "metadata": {},
   "source": [
    "### 2.3.6 Pipeline de texto"
   ]
  },
  {
   "cell_type": "markdown",
   "metadata": {},
   "source": [
    "Ahora preparamos un pipeline que utilizar para las columnas de texto."
   ]
  },
  {
   "cell_type": "code",
   "execution_count": null,
   "metadata": {
    "ExecuteTime": {
     "end_time": "2021-01-13T17:23:04.126735Z",
     "start_time": "2021-01-13T17:22:46.047Z"
    }
   },
   "outputs": [],
   "source": [
    "text_transformer = Pipeline([\n",
    "    (\"tokenizer\", tokenizer),\n",
    "    (\"stopwords_remover\", stopwords_remover),\n",
    "    (\"accepted_word_filter\", accepted_word_filter),\n",
    "    (\"lda_encoder\", TextTopicEncoder(n_topics=[30, 10, 10]))\n",
    "])"
   ]
  },
  {
   "cell_type": "markdown",
   "metadata": {},
   "source": [
    "# 3. Preprocesamiento"
   ]
  },
  {
   "cell_type": "markdown",
   "metadata": {},
   "source": [
    "Ahora que tenemos transformadores listos para todas las columnas que vamos a utilizar, podemos montar un `ColumnTransformer` para el preprocesamiento."
   ]
  },
  {
   "cell_type": "code",
   "execution_count": null,
   "metadata": {
    "ExecuteTime": {
     "end_time": "2021-01-13T17:23:04.128617Z",
     "start_time": "2021-01-13T17:22:46.068Z"
    }
   },
   "outputs": [],
   "source": [
    "full_pipeline = ColumnTransformer([\n",
    "    # Numerical features\n",
    "    (\"height\", height_transformer, [\"height\"]),\n",
    "    (\"age\", age_transformer, [\"age\"]),\n",
    "    \n",
    "    # Simple categorical features\n",
    "    (\"status\", status_transformer, [\"status\"]),\n",
    "    (\"sex\", sex_transformer, [\"sex\"]),\n",
    "    (\"drinks\", drinks_transformer, [\"drinks\"]),\n",
    "    (\"drugs\", drugs_transformer, [\"drugs\"]),\n",
    "    (\"job\", job_transformer, [\"job\"]),\n",
    "    (\"smokes\", smokes_transformer, [\"smokes\"]),\n",
    "    \n",
    "    # N-dim categorical features\n",
    "    (\"orientation\", orientation_transformer, [\"orientation\"]),\n",
    "    (\"body_type\", body_type_transformer, [\"body_type\"]),\n",
    "    (\"location\", location_transformer, [\"location\"]),\n",
    "    (\"offspring\", offspring_transformer, [\"offspring\"]),\n",
    "    (\"pets\", pets_transformer, [\"pets\"]),\n",
    "    \n",
    "    # Affix-modified categorical features\n",
    "    (\"diet\", diet_transformer, [\"diet\"]),\n",
    "    (\"education\", education_transformer, [\"education\"]),\n",
    "    (\"ethnicity\", ethnicity_transformer, [\"ethnicity\"]),\n",
    "    (\"religion\", religion_transformer, [\"religion\"]),\n",
    "    (\"sign\", sign_transformer, [\"sign\"]),\n",
    "    (\"speaks\", speaks_transformer, [\"speaks\"]),\n",
    "    \n",
    "    # Natural language features\n",
    "    (\"text_columns\", text_transformer, [\"essay0\", \"essay1\", \"essay2\"]),\n",
    "    \n",
    "], remainder=\"drop\", verbose=True)"
   ]
  },
  {
   "cell_type": "code",
   "execution_count": null,
   "metadata": {
    "ExecuteTime": {
     "end_time": "2021-01-13T17:23:04.131936Z",
     "start_time": "2021-01-13T17:22:46.093Z"
    }
   },
   "outputs": [],
   "source": [
    "X_preprocessed = full_pipeline.fit_transform(df)\n",
    "print(\"Shape:\", X_preprocessed.shape)"
   ]
  },
  {
   "cell_type": "markdown",
   "metadata": {},
   "source": [
    "# 5. Visualización de los datos preprocesados"
   ]
  },
  {
   "cell_type": "markdown",
   "metadata": {},
   "source": [
    "Ahora que tenemos los datos procesados, vamos a utilizar diferentes algoritmos de reducción de dimensiones con el objetivo de visualizar los datos.\n",
    "\n",
    "Para los hiperparámetros de los algoritmos, hemos ido probando distintos valores para maximizar la información visible.\n",
    "\n",
    "Definimos una función de utilidad para mostrar los resultados del embedding."
   ]
  },
  {
   "cell_type": "code",
   "execution_count": 7,
   "metadata": {
    "ExecuteTime": {
     "end_time": "2021-01-13T17:42:15.724506Z",
     "start_time": "2021-01-13T17:42:15.719008Z"
    }
   },
   "outputs": [],
   "source": [
    "def plot_embedding(embedded_data, **kwargs):\n",
    "    fig, ax = plt.subplots(1, 1, figsize=(20, 8))\n",
    "    sns.scatterplot(x=embedded_data[:, 0], y=embedded_data[:, 1], ax=ax, **kwargs)\n",
    "    plt.show()"
   ]
  },
  {
   "cell_type": "markdown",
   "metadata": {},
   "source": [
    "## 5.1 t-SNE"
   ]
  },
  {
   "cell_type": "markdown",
   "metadata": {},
   "source": [
    "En primer lugar, aplicamos [t-SNE](https://scikit-learn.org/stable/modules/generated/sklearn.manifold.TSNE.html?highlight=tsne#sklearn.manifold.TSNE). Como nuestros datos son dispersos, a recomendación de la API de `sklearn` vamos a aplicar [`TruncatedSVD`](https://scikit-learn.org/stable/modules/generated/sklearn.decomposition.TruncatedSVD.html) previamente."
   ]
  },
  {
   "cell_type": "code",
   "execution_count": null,
   "metadata": {
    "ExecuteTime": {
     "end_time": "2021-01-13T17:23:04.135357Z",
     "start_time": "2021-01-13T17:22:46.134Z"
    }
   },
   "outputs": [],
   "source": [
    "X_reduced = PCA(n_components=50,random_state=RANDOM_SEED).fit_transform(X_preprocessed)\n",
    "X_tsne_embedded = TSNE(n_components=2,\n",
    "                       perplexity=75,\n",
    "                       random_state=RANDOM_SEED,\n",
    "                       verbose=1).fit_transform(X_reduced)"
   ]
  },
  {
   "cell_type": "code",
   "execution_count": null,
   "metadata": {
    "ExecuteTime": {
     "end_time": "2021-01-13T17:23:04.137278Z",
     "start_time": "2021-01-13T17:22:46.149Z"
    }
   },
   "outputs": [],
   "source": [
    "plot_embedding(X_tsne_embedded)"
   ]
  },
  {
   "cell_type": "markdown",
   "metadata": {},
   "source": [
    "## 5.2 Isomap"
   ]
  },
  {
   "cell_type": "markdown",
   "metadata": {},
   "source": [
    "A continuación, probamos el algoritmo [Isomap](https://scikit-learn.org/stable/modules/generated/sklearn.manifold.Isomap.html?highlight=isomap#sklearn.manifold.Isomap)."
   ]
  },
  {
   "cell_type": "code",
   "execution_count": null,
   "metadata": {
    "ExecuteTime": {
     "end_time": "2021-01-13T17:23:04.139336Z",
     "start_time": "2021-01-13T17:22:46.171Z"
    }
   },
   "outputs": [],
   "source": [
    "X_isomap_embedded = Isomap(n_components=2, n_neighbors=50).fit_transform(X_preprocessed)"
   ]
  },
  {
   "cell_type": "code",
   "execution_count": null,
   "metadata": {
    "ExecuteTime": {
     "end_time": "2021-01-13T17:23:04.141460Z",
     "start_time": "2021-01-13T17:22:46.182Z"
    }
   },
   "outputs": [],
   "source": [
    "plot_embedding(X_isomap_embedded)"
   ]
  },
  {
   "cell_type": "markdown",
   "metadata": {},
   "source": [
    "## 5.3 UMAP"
   ]
  },
  {
   "cell_type": "markdown",
   "metadata": {},
   "source": [
    "Por último, vamos a probar el algoritmo [UMAP](https://umap-learn.readthedocs.io/en/latest/) \\[9\\]. Es un algoritmo relativemente nuevo que suele dar mejores resultados que t-SNE en las visualizaciones."
   ]
  },
  {
   "cell_type": "code",
   "execution_count": 21,
   "metadata": {
    "ExecuteTime": {
     "end_time": "2021-01-13T18:05:58.701273Z",
     "start_time": "2021-01-13T18:03:07.522831Z"
    }
   },
   "outputs": [
    {
     "name": "stdout",
     "output_type": "stream",
     "text": [
      "UMAP(dens_frac=0.0, dens_lambda=0.0, min_dist=0.7, n_neighbors=25,\n",
      "     random_state=1337, verbose=1)\n",
      "Construct fuzzy simplicial set\n",
      "Wed Jan 13 19:03:07 2021 Finding Nearest Neighbors\n",
      "Wed Jan 13 19:03:07 2021 Building RP forest with 17 trees\n",
      "Wed Jan 13 19:03:09 2021 NN descent for 16 iterations\n",
      "\t 1  /  16\n",
      "\t 2  /  16\n",
      "\t 3  /  16\n",
      "\t 4  /  16\n",
      "\tStopping threshold met -- exiting after 4 iterations\n",
      "Wed Jan 13 19:03:21 2021 Finished Nearest Neighbor Search\n",
      "Wed Jan 13 19:03:22 2021 Construct embedding\n",
      "\tcompleted  0  /  200 epochs\n",
      "\tcompleted  20  /  200 epochs\n",
      "\tcompleted  40  /  200 epochs\n",
      "\tcompleted  60  /  200 epochs\n",
      "\tcompleted  80  /  200 epochs\n",
      "\tcompleted  100  /  200 epochs\n",
      "\tcompleted  120  /  200 epochs\n",
      "\tcompleted  140  /  200 epochs\n",
      "\tcompleted  160  /  200 epochs\n",
      "\tcompleted  180  /  200 epochs\n",
      "Wed Jan 13 19:05:58 2021 Finished embedding\n"
     ]
    }
   ],
   "source": [
    "umap_embedder = umap.UMAP(n_components=2,\n",
    "                          n_neighbors=25,\n",
    "                          min_dist=0.7,\n",
    "                          random_state=RANDOM_SEED,\n",
    "                          verbose=1)\n",
    "X_umap_embedded = umap_embedder.fit_transform(X_preprocessed)"
   ]
  },
  {
   "cell_type": "code",
   "execution_count": 22,
   "metadata": {
    "ExecuteTime": {
     "end_time": "2021-01-13T18:10:02.294080Z",
     "start_time": "2021-01-13T18:10:01.909773Z"
    }
   },
   "outputs": [
    {
     "data": {
      "image/png": "[encoded data removed]",
      "text/plain": [
       "<Figure size 1440x576 with 1 Axes>"
      ]
     },
     "metadata": {},
     "output_type": "display_data"
    }
   ],
   "source": [
    "plot_embedding(X_umap_embedded)"
   ]
  },
  {
   "cell_type": "markdown",
   "metadata": {},
   "source": [
    "En general, parece que los algoritmos de reducción de la dimensionalidad han conseguido separar los datos en grupos claros. Esto significa que los datos se podrán agrupar bastante bien utilizando los algoritmos de clustering.\n",
    "\n",
    "Aparentemente, las densidades de los clusters son iguales, pero esto es un engaño: t-SNE y UMAP no conservan estas densidades. Habrá que probar algunos algoritmos basados en densidad para confirmar si los clusters realmente tienen la misma densidad o no."
   ]
  },
  {
   "cell_type": "markdown",
   "metadata": {},
   "source": [
    "# 6. Clustering"
   ]
  },
  {
   "cell_type": "markdown",
   "metadata": {},
   "source": [
    "Ahora ha llegado el momento más importante, si bien no es el más complicado: aplicar los algoritmos de clustering a los datos y evaluar su rendimiento. \n",
    "\n",
    "Vamos a tratar los algoritmos en tres clases:\n",
    "- Basados en centroides (KMeans, GMM)\n",
    "- Basados en densidad (DBSCAN, HDBSCAN)\n",
    "- Jerárquicos (Clustering aglomerativo)"
   ]
  },
  {
   "cell_type": "code",
   "execution_count": null,
   "metadata": {},
   "outputs": [],
   "source": []
  },
  {
   "cell_type": "markdown",
   "metadata": {},
   "source": [
    "# 5. borrador"
   ]
  },
  {
   "cell_type": "markdown",
   "metadata": {},
   "source": [
    "Ahora que tenemos los datos preprocesados y listos para el clustering, es hora de preparar y aplicar los algoritmos en cuestión. Antes de comenzar, queremos poder visualizar los datos, así que vamos a intentar utilizar [`t-SNE`](https://scikit-learn.org/stable/modules/generated/sklearn.manifold.TSNE.html) para ver si hay grupos claros."
   ]
  },
  {
   "cell_type": "code",
   "execution_count": null,
   "metadata": {
    "ExecuteTime": {
     "end_time": "2021-01-13T17:23:04.146656Z",
     "start_time": "2021-01-13T17:22:46.236Z"
    }
   },
   "outputs": [],
   "source": [
    "X_reduced = PCA(n_components=50,random_state=RANDOM_SEED).fit_transform(X_preprocessed)\n",
    "X_embedded = TSNE(n_components=2,\n",
    "                  perplexity=75,\n",
    "                  random_state=RANDOM_SEED,\n",
    "                  verbose=1).fit_transform(X_reduced)"
   ]
  },
  {
   "cell_type": "code",
   "execution_count": null,
   "metadata": {
    "ExecuteTime": {
     "end_time": "2021-01-13T17:23:04.148524Z",
     "start_time": "2021-01-13T17:22:46.246Z"
    },
    "scrolled": false
   },
   "outputs": [],
   "source": [
    "def plot_tsne(embedded_data, **kwargs):\n",
    "    fig, ax = plt.subplots(1, 1, figsize=(20, 8))\n",
    "    sns.scatterplot(x=embedded_data[:, 0], y=embedded_data[:, 1], ax=ax, **kwargs)\n",
    "    ax.legend(loc=\"upper left\")\n",
    "    plt.show()\n",
    "    \n",
    "hue = offspring_transformer.fit_transform(df[[\"offspring\"]])[:, 1]\n",
    "plot_tsne(X_embedded, hue=None)"
   ]
  },
  {
   "cell_type": "code",
   "execution_count": null,
   "metadata": {
    "ExecuteTime": {
     "end_time": "2021-01-13T17:23:04.150115Z",
     "start_time": "2021-01-13T17:22:46.259Z"
    }
   },
   "outputs": [],
   "source": [
    "from sklearn.mixture import GaussianMixture as GMM\n",
    "import hdbscan\n",
    "\n",
    "pred = hdbscan.HDBSCAN(cluster_selection_method=\"leaf\", min_cluster_size=1000, min_samples=5).fit_predict(X_preprocessed)\n",
    "pd.value_counts(pred)"
   ]
  },
  {
   "cell_type": "code",
   "execution_count": null,
   "metadata": {
    "ExecuteTime": {
     "end_time": "2021-01-13T17:23:04.152077Z",
     "start_time": "2021-01-13T17:22:46.267Z"
    }
   },
   "outputs": [],
   "source": [
    "clusters = []\n",
    "for cluster in range(100):\n",
    "    clusters.append([])\n",
    "    for i in range(len(pred)):\n",
    "        if pred[i] == cluster:\n",
    "            clusters[cluster].append(i)\n",
    "            \n",
    "pred_fix = pred.copy()\n",
    "\n",
    "for cluster in range(100):\n",
    "    if len(clusters[cluster]) < 1000:\n",
    "        for index in clusters[cluster]:\n",
    "            pred_fix[index] = -1\n",
    "pd.value_counts(pred_fix)"
   ]
  },
  {
   "cell_type": "code",
   "execution_count": null,
   "metadata": {
    "ExecuteTime": {
     "end_time": "2021-01-13T17:23:04.153836Z",
     "start_time": "2021-01-13T17:22:46.278Z"
    }
   },
   "outputs": [],
   "source": [
    "plot_tsne(X_embedded, hue=[str(x) for x in pred.flatten()])"
   ]
  },
  {
   "cell_type": "markdown",
   "metadata": {},
   "source": [
    "# 6. Referencias\n",
    "\n",
    "\\[1\\] Tallest people in history, https://en.wikipedia.org/wiki/List_of_tallest_people \n",
    "\n",
    "\\[2\\] Average and minimum heights of people with dwarfism, https://www.mayoclinic.org/es-es/diseases-conditions/dwarfism/symptoms-causes/syc-20371969\n",
    "\n",
    "\\[3\\] CDC on weight and height distributions, https://www.cdc.gov/nchs/data/nhsr/nhsr010.pdf\n",
    "\n",
    "\\[4\\] SSA Actuarial Life Table, https://www.ssa.gov/oact/STATS/table4c6.html#fn1\n",
    "\n",
    "\\[5\\] California Open Data, https://data.ca.gov/dataset/ca-geographic-boundaries\n",
    "\n",
    "\\[6\\] UC Berkeley GeoData Repository, https://geodata.lib.berkeley.edu/catalog/ark28722-s7hs4j\n",
    "\n",
    "\\[7\\] NASA Space Camp, https://www.spacecamp.com/\n",
    "\n",
    "\\[8\\] Blei, D. M., Ng, A. Y., &amp; Jordan, M. I. (2003). Latent Dirichlet Allocation. Retrieved from https://jmlr.org/papers/volume3/blei03a/blei03a.pdf\n",
    "\n",
    "\\[9\\] McInnes, L., Healy, J. &amp; Melville, J (2020). UMAP: Uniform Manifold Approximation and Projection for Dimension Reduction. https://arxiv.org/pdf/1802.03426.pdf"
   ]
  }
 ],
 "metadata": {
  "kernelspec": {
   "display_name": "Python 3.7.6 64-bit ('deeplearning': venv)",
   "language": "python",
   "name": "python37664bitdeeplearningvenv4731586230774413b828defcfccec506"
  },
  "language_info": {
   "codemirror_mode": {
    "name": "ipython",
    "version": 3
   },
   "file_extension": ".py",
   "mimetype": "text/x-python",
   "name": "python",
   "nbconvert_exporter": "python",
   "pygments_lexer": "ipython3",
   "version": "3.7.9"
  },
  "toc": {
   "base_numbering": 1,
   "nav_menu": {},
   "number_sections": false,
   "sideBar": true,
   "skip_h1_title": false,
   "title_cell": "lab3 - Contents",
   "title_sidebar": "lab3",
   "toc_cell": false,
   "toc_position": {
    "height": "calc(100% - 180px)",
    "left": "10px",
    "top": "150px",
    "width": "393px"
   },
   "toc_section_display": true,
   "toc_window_display": true
  },
  "varInspector": {
   "cols": {
    "lenName": 16,
    "lenType": 16,
    "lenVar": 40
   },
   "kernels_config": {
    "python": {
     "delete_cmd_postfix": "",
     "delete_cmd_prefix": "del ",
     "library": "var_list.py",
     "varRefreshCmd": "print(var_dic_list())"
    },
    "r": {
     "delete_cmd_postfix": ") ",
     "delete_cmd_prefix": "rm(",
     "library": "var_list.r",
     "varRefreshCmd": "cat(var_dic_list()) "
    }
   },
   "types_to_exclude": [
    "module",
    "function",
    "builtin_function_or_method",
    "instance",
    "_Feature"
   ],
   "window_display": false
  }
 },
 "nbformat": 4,
 "nbformat_minor": 4
}
