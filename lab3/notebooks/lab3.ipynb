{
 "cells": [
  {
   "cell_type": "markdown",
   "metadata": {},
   "source": [
    "# Clustering de perfiles de OkCupid\n",
    "Este notebook muestra el proceso de análisis, preprocesamiento y entrenamiento de modelos para agrupar perfiles similares de la web de citas OkCupid."
   ]
  },
  {
   "cell_type": "markdown",
   "metadata": {},
   "source": [
    "## 1. Setup"
   ]
  },
  {
   "cell_type": "markdown",
   "metadata": {},
   "source": [
    "Librerías importadas en el proyecto."
   ]
  },
  {
   "cell_type": "code",
   "execution_count": 64,
   "metadata": {
    "ExecuteTime": {
     "end_time": "2021-01-10T20:36:07.130302Z",
     "start_time": "2021-01-10T20:36:07.052177Z"
    }
   },
   "outputs": [],
   "source": [
    "import numpy as np\n",
    "import pandas as pd\n",
    "\n",
    "import os\n",
    "from collections import namedtuple\n",
    "\n",
    "from IPython.display import IFrame\n",
    "\n",
    "try:\n",
    "    from geopy.geocoders import Nominatim\n",
    "except ModuleNotFoundError:\n",
    "    %pip install geopy\n",
    "    from geopy.geocoders import Nominatim\n",
    "    \n",
    "try:\n",
    "    import geopandas as gpd\n",
    "    import shapely\n",
    "    \n",
    "except ModuleNotFoundError:\n",
    "    %pip install fiona\n",
    "    %pip install geopandas\n",
    "    %pip install descartes\n",
    "    import geopandas as gpd\n",
    "    import shapely\n",
    "\n",
    "%matplotlib inline\n",
    "from matplotlib import pyplot as plt\n",
    "from matplotlib.cm import ScalarMappable\n",
    "from matplotlib.colors import LogNorm\n",
    "import seaborn as sns\n",
    "sns.set_style(\"darkgrid\")\n",
    "\n",
    "\n",
    "\n",
    "import re\n",
    "import enchant\n",
    "from pattern.en import suggest\n",
    "\n",
    "import nltk\n",
    "from nltk.corpus import wordnet as wn\n",
    "\n",
    "import gensim\n",
    "import gensim.corpora as corpora\n",
    "from gensim.models.ldamulticore import LdaMulticore\n",
    "\n",
    "import numba\n",
    "\n",
    "from sklearn.base import BaseEstimator, TransformerMixin\n",
    "from sklearn.preprocessing import FunctionTransformer\n",
    "from sklearn.compose import ColumnTransformer\n",
    "from sklearn.pipeline import Pipeline"
   ]
  },
  {
   "cell_type": "markdown",
   "metadata": {},
   "source": [
    "Variables globales declaradas en el proyecto."
   ]
  },
  {
   "cell_type": "code",
   "execution_count": null,
   "metadata": {
    "ExecuteTime": {
     "end_time": "2021-01-10T20:36:47.593251Z",
     "start_time": "2021-01-10T20:36:09.182Z"
    }
   },
   "outputs": [],
   "source": [
    "RANDOM_SEED = 1337\n",
    "np.random.seed(RANDOM_SEED)\n",
    "\n",
    "#!git clone https://github.com/dietrujillo/ml_lab.git ./ml_lab\n",
    "# os.path.join(os.curdir, \"ml_lab\", \"lab3\", \"data\")  # Path to csv data\n",
    "DATA_PATH = os.path.join(os.pardir, \"data\")\n",
    "# os.path.join(os.curdir, \"ml_lab\", \"lab3\", \"info\")  # Path to problem info\n",
    "INFO_PATH = os.path.join(os.pardir, \"info\")\n",
    "# os.path.join(os.curdir, \"ml_lab\", \"lab3\", \"results\")  # Path to results files\n",
    "RESULTS_PATH = os.path.join(os.pardir, \"results\")"
   ]
  },
  {
   "cell_type": "markdown",
   "metadata": {},
   "source": [
    "Enunciado del problema."
   ]
  },
  {
   "cell_type": "code",
   "execution_count": 3,
   "metadata": {
    "ExecuteTime": {
     "end_time": "2021-01-10T20:03:08.122347Z",
     "start_time": "2021-01-10T20:03:08.106722Z"
    }
   },
   "outputs": [
    {
     "data": {
      "text/html": [
       "\n",
       "        <iframe\n",
       "            width=\"1080\"\n",
       "            height=\"920\"\n",
       "            src=\"..\\info\\lab3.pdf\"\n",
       "            frameborder=\"0\"\n",
       "            allowfullscreen\n",
       "        ></iframe>\n",
       "        "
      ],
      "text/plain": [
       "<IPython.lib.display.IFrame at 0x1cfbab14088>"
      ]
     },
     "execution_count": 3,
     "metadata": {},
     "output_type": "execute_result"
    }
   ],
   "source": [
    "# Jupyter Notebook only\n",
    "IFrame(os.path.join(INFO_PATH, \"lab3.pdf\"), width=1080, height=920)"
   ]
  },
  {
   "cell_type": "markdown",
   "metadata": {},
   "source": [
    "## 2. Análisis exploratorio de los datos"
   ]
  },
  {
   "cell_type": "code",
   "execution_count": 4,
   "metadata": {
    "ExecuteTime": {
     "end_time": "2021-01-10T20:03:11.145010Z",
     "start_time": "2021-01-10T20:03:08.122347Z"
    }
   },
   "outputs": [
    {
     "data": {
      "text/html": [
       "<div>\n",
       "<style scoped>\n",
       "    .dataframe tbody tr th:only-of-type {\n",
       "        vertical-align: middle;\n",
       "    }\n",
       "\n",
       "    .dataframe tbody tr th {\n",
       "        vertical-align: top;\n",
       "    }\n",
       "\n",
       "    .dataframe thead th {\n",
       "        text-align: right;\n",
       "    }\n",
       "</style>\n",
       "<table border=\"1\" class=\"dataframe\">\n",
       "  <thead>\n",
       "    <tr style=\"text-align: right;\">\n",
       "      <th></th>\n",
       "      <th>age</th>\n",
       "      <th>status</th>\n",
       "      <th>sex</th>\n",
       "      <th>orientation</th>\n",
       "      <th>body_type</th>\n",
       "      <th>diet</th>\n",
       "      <th>drinks</th>\n",
       "      <th>drugs</th>\n",
       "      <th>education</th>\n",
       "      <th>ethnicity</th>\n",
       "    </tr>\n",
       "  </thead>\n",
       "  <tbody>\n",
       "    <tr>\n",
       "      <th>0</th>\n",
       "      <td>22</td>\n",
       "      <td>single</td>\n",
       "      <td>m</td>\n",
       "      <td>straight</td>\n",
       "      <td>a little extra</td>\n",
       "      <td>strictly anything</td>\n",
       "      <td>socially</td>\n",
       "      <td>never</td>\n",
       "      <td>working on college/university</td>\n",
       "      <td>asian, white</td>\n",
       "    </tr>\n",
       "    <tr>\n",
       "      <th>1</th>\n",
       "      <td>35</td>\n",
       "      <td>single</td>\n",
       "      <td>m</td>\n",
       "      <td>straight</td>\n",
       "      <td>average</td>\n",
       "      <td>mostly other</td>\n",
       "      <td>often</td>\n",
       "      <td>sometimes</td>\n",
       "      <td>working on space camp</td>\n",
       "      <td>white</td>\n",
       "    </tr>\n",
       "    <tr>\n",
       "      <th>2</th>\n",
       "      <td>38</td>\n",
       "      <td>available</td>\n",
       "      <td>m</td>\n",
       "      <td>straight</td>\n",
       "      <td>thin</td>\n",
       "      <td>anything</td>\n",
       "      <td>socially</td>\n",
       "      <td>NaN</td>\n",
       "      <td>graduated from masters program</td>\n",
       "      <td>NaN</td>\n",
       "    </tr>\n",
       "    <tr>\n",
       "      <th>3</th>\n",
       "      <td>23</td>\n",
       "      <td>single</td>\n",
       "      <td>m</td>\n",
       "      <td>straight</td>\n",
       "      <td>thin</td>\n",
       "      <td>vegetarian</td>\n",
       "      <td>socially</td>\n",
       "      <td>NaN</td>\n",
       "      <td>working on college/university</td>\n",
       "      <td>white</td>\n",
       "    </tr>\n",
       "    <tr>\n",
       "      <th>4</th>\n",
       "      <td>29</td>\n",
       "      <td>single</td>\n",
       "      <td>m</td>\n",
       "      <td>straight</td>\n",
       "      <td>athletic</td>\n",
       "      <td>NaN</td>\n",
       "      <td>socially</td>\n",
       "      <td>never</td>\n",
       "      <td>graduated from college/university</td>\n",
       "      <td>asian, black, other</td>\n",
       "    </tr>\n",
       "    <tr>\n",
       "      <th>...</th>\n",
       "      <td>...</td>\n",
       "      <td>...</td>\n",
       "      <td>...</td>\n",
       "      <td>...</td>\n",
       "      <td>...</td>\n",
       "      <td>...</td>\n",
       "      <td>...</td>\n",
       "      <td>...</td>\n",
       "      <td>...</td>\n",
       "      <td>...</td>\n",
       "    </tr>\n",
       "    <tr>\n",
       "      <th>59941</th>\n",
       "      <td>59</td>\n",
       "      <td>single</td>\n",
       "      <td>f</td>\n",
       "      <td>straight</td>\n",
       "      <td>NaN</td>\n",
       "      <td>NaN</td>\n",
       "      <td>socially</td>\n",
       "      <td>never</td>\n",
       "      <td>graduated from college/university</td>\n",
       "      <td>NaN</td>\n",
       "    </tr>\n",
       "    <tr>\n",
       "      <th>59942</th>\n",
       "      <td>24</td>\n",
       "      <td>single</td>\n",
       "      <td>m</td>\n",
       "      <td>straight</td>\n",
       "      <td>fit</td>\n",
       "      <td>mostly anything</td>\n",
       "      <td>often</td>\n",
       "      <td>sometimes</td>\n",
       "      <td>working on college/university</td>\n",
       "      <td>white, other</td>\n",
       "    </tr>\n",
       "    <tr>\n",
       "      <th>59943</th>\n",
       "      <td>42</td>\n",
       "      <td>single</td>\n",
       "      <td>m</td>\n",
       "      <td>straight</td>\n",
       "      <td>average</td>\n",
       "      <td>mostly anything</td>\n",
       "      <td>not at all</td>\n",
       "      <td>never</td>\n",
       "      <td>graduated from masters program</td>\n",
       "      <td>asian</td>\n",
       "    </tr>\n",
       "    <tr>\n",
       "      <th>59944</th>\n",
       "      <td>27</td>\n",
       "      <td>single</td>\n",
       "      <td>m</td>\n",
       "      <td>straight</td>\n",
       "      <td>athletic</td>\n",
       "      <td>mostly anything</td>\n",
       "      <td>socially</td>\n",
       "      <td>often</td>\n",
       "      <td>working on college/university</td>\n",
       "      <td>asian, black</td>\n",
       "    </tr>\n",
       "    <tr>\n",
       "      <th>59945</th>\n",
       "      <td>39</td>\n",
       "      <td>single</td>\n",
       "      <td>m</td>\n",
       "      <td>gay</td>\n",
       "      <td>average</td>\n",
       "      <td>NaN</td>\n",
       "      <td>socially</td>\n",
       "      <td>NaN</td>\n",
       "      <td>graduated from masters program</td>\n",
       "      <td>white</td>\n",
       "    </tr>\n",
       "  </tbody>\n",
       "</table>\n",
       "<p>59946 rows × 10 columns</p>\n",
       "</div>"
      ],
      "text/plain": [
       "       age     status sex orientation       body_type               diet  \\\n",
       "0       22     single   m    straight  a little extra  strictly anything   \n",
       "1       35     single   m    straight         average       mostly other   \n",
       "2       38  available   m    straight            thin           anything   \n",
       "3       23     single   m    straight            thin         vegetarian   \n",
       "4       29     single   m    straight        athletic                NaN   \n",
       "...    ...        ...  ..         ...             ...                ...   \n",
       "59941   59     single   f    straight             NaN                NaN   \n",
       "59942   24     single   m    straight             fit    mostly anything   \n",
       "59943   42     single   m    straight         average    mostly anything   \n",
       "59944   27     single   m    straight        athletic    mostly anything   \n",
       "59945   39     single   m         gay         average                NaN   \n",
       "\n",
       "           drinks      drugs                          education  \\\n",
       "0        socially      never      working on college/university   \n",
       "1           often  sometimes              working on space camp   \n",
       "2        socially        NaN     graduated from masters program   \n",
       "3        socially        NaN      working on college/university   \n",
       "4        socially      never  graduated from college/university   \n",
       "...           ...        ...                                ...   \n",
       "59941    socially      never  graduated from college/university   \n",
       "59942       often  sometimes      working on college/university   \n",
       "59943  not at all      never     graduated from masters program   \n",
       "59944    socially      often      working on college/university   \n",
       "59945    socially        NaN     graduated from masters program   \n",
       "\n",
       "                 ethnicity  \n",
       "0             asian, white  \n",
       "1                    white  \n",
       "2                      NaN  \n",
       "3                    white  \n",
       "4      asian, black, other  \n",
       "...                    ...  \n",
       "59941                  NaN  \n",
       "59942         white, other  \n",
       "59943                asian  \n",
       "59944         asian, black  \n",
       "59945                white  \n",
       "\n",
       "[59946 rows x 10 columns]"
      ]
     },
     "metadata": {},
     "output_type": "display_data"
    },
    {
     "data": {
      "text/html": [
       "<div>\n",
       "<style scoped>\n",
       "    .dataframe tbody tr th:only-of-type {\n",
       "        vertical-align: middle;\n",
       "    }\n",
       "\n",
       "    .dataframe tbody tr th {\n",
       "        vertical-align: top;\n",
       "    }\n",
       "\n",
       "    .dataframe thead th {\n",
       "        text-align: right;\n",
       "    }\n",
       "</style>\n",
       "<table border=\"1\" class=\"dataframe\">\n",
       "  <thead>\n",
       "    <tr style=\"text-align: right;\">\n",
       "      <th></th>\n",
       "      <th>height</th>\n",
       "      <th>income</th>\n",
       "      <th>job</th>\n",
       "      <th>last_online</th>\n",
       "      <th>location</th>\n",
       "      <th>offspring</th>\n",
       "      <th>pets</th>\n",
       "      <th>religion</th>\n",
       "      <th>sign</th>\n",
       "      <th>smokes</th>\n",
       "    </tr>\n",
       "  </thead>\n",
       "  <tbody>\n",
       "    <tr>\n",
       "      <th>0</th>\n",
       "      <td>75.0</td>\n",
       "      <td>-1</td>\n",
       "      <td>transportation</td>\n",
       "      <td>2012-06-28-20-30</td>\n",
       "      <td>south san francisco, california</td>\n",
       "      <td>doesn't have kids, but might want them</td>\n",
       "      <td>likes dogs and likes cats</td>\n",
       "      <td>agnosticism and very serious about it</td>\n",
       "      <td>gemini</td>\n",
       "      <td>sometimes</td>\n",
       "    </tr>\n",
       "    <tr>\n",
       "      <th>1</th>\n",
       "      <td>70.0</td>\n",
       "      <td>80000</td>\n",
       "      <td>hospitality / travel</td>\n",
       "      <td>2012-06-29-21-41</td>\n",
       "      <td>oakland, california</td>\n",
       "      <td>doesn't have kids, but might want them</td>\n",
       "      <td>likes dogs and likes cats</td>\n",
       "      <td>agnosticism but not too serious about it</td>\n",
       "      <td>cancer</td>\n",
       "      <td>no</td>\n",
       "    </tr>\n",
       "    <tr>\n",
       "      <th>2</th>\n",
       "      <td>68.0</td>\n",
       "      <td>-1</td>\n",
       "      <td>NaN</td>\n",
       "      <td>2012-06-27-09-10</td>\n",
       "      <td>san francisco, california</td>\n",
       "      <td>NaN</td>\n",
       "      <td>has cats</td>\n",
       "      <td>NaN</td>\n",
       "      <td>pisces but it doesn&amp;rsquo;t matter</td>\n",
       "      <td>no</td>\n",
       "    </tr>\n",
       "    <tr>\n",
       "      <th>3</th>\n",
       "      <td>71.0</td>\n",
       "      <td>20000</td>\n",
       "      <td>student</td>\n",
       "      <td>2012-06-28-14-22</td>\n",
       "      <td>berkeley, california</td>\n",
       "      <td>doesn't want kids</td>\n",
       "      <td>likes cats</td>\n",
       "      <td>NaN</td>\n",
       "      <td>pisces</td>\n",
       "      <td>no</td>\n",
       "    </tr>\n",
       "    <tr>\n",
       "      <th>4</th>\n",
       "      <td>66.0</td>\n",
       "      <td>-1</td>\n",
       "      <td>artistic / musical / writer</td>\n",
       "      <td>2012-06-27-21-26</td>\n",
       "      <td>san francisco, california</td>\n",
       "      <td>NaN</td>\n",
       "      <td>likes dogs and likes cats</td>\n",
       "      <td>NaN</td>\n",
       "      <td>aquarius</td>\n",
       "      <td>no</td>\n",
       "    </tr>\n",
       "    <tr>\n",
       "      <th>...</th>\n",
       "      <td>...</td>\n",
       "      <td>...</td>\n",
       "      <td>...</td>\n",
       "      <td>...</td>\n",
       "      <td>...</td>\n",
       "      <td>...</td>\n",
       "      <td>...</td>\n",
       "      <td>...</td>\n",
       "      <td>...</td>\n",
       "      <td>...</td>\n",
       "    </tr>\n",
       "    <tr>\n",
       "      <th>59941</th>\n",
       "      <td>62.0</td>\n",
       "      <td>-1</td>\n",
       "      <td>sales / marketing / biz dev</td>\n",
       "      <td>2012-06-12-21-47</td>\n",
       "      <td>oakland, california</td>\n",
       "      <td>has kids</td>\n",
       "      <td>has dogs</td>\n",
       "      <td>catholicism but not too serious about it</td>\n",
       "      <td>cancer and it&amp;rsquo;s fun to think about</td>\n",
       "      <td>no</td>\n",
       "    </tr>\n",
       "    <tr>\n",
       "      <th>59942</th>\n",
       "      <td>72.0</td>\n",
       "      <td>-1</td>\n",
       "      <td>entertainment / media</td>\n",
       "      <td>2012-06-29-11-01</td>\n",
       "      <td>san francisco, california</td>\n",
       "      <td>doesn't have kids</td>\n",
       "      <td>likes dogs and likes cats</td>\n",
       "      <td>agnosticism</td>\n",
       "      <td>leo but it doesn&amp;rsquo;t matter</td>\n",
       "      <td>no</td>\n",
       "    </tr>\n",
       "    <tr>\n",
       "      <th>59943</th>\n",
       "      <td>71.0</td>\n",
       "      <td>100000</td>\n",
       "      <td>construction / craftsmanship</td>\n",
       "      <td>2012-06-27-23-37</td>\n",
       "      <td>south san francisco, california</td>\n",
       "      <td>doesn't have kids</td>\n",
       "      <td>NaN</td>\n",
       "      <td>christianity but not too serious about it</td>\n",
       "      <td>sagittarius but it doesn&amp;rsquo;t matter</td>\n",
       "      <td>no</td>\n",
       "    </tr>\n",
       "    <tr>\n",
       "      <th>59944</th>\n",
       "      <td>73.0</td>\n",
       "      <td>-1</td>\n",
       "      <td>medicine / health</td>\n",
       "      <td>2012-06-23-13-01</td>\n",
       "      <td>san francisco, california</td>\n",
       "      <td>doesn't have kids, but wants them</td>\n",
       "      <td>likes dogs and likes cats</td>\n",
       "      <td>agnosticism but not too serious about it</td>\n",
       "      <td>leo and it&amp;rsquo;s fun to think about</td>\n",
       "      <td>trying to quit</td>\n",
       "    </tr>\n",
       "    <tr>\n",
       "      <th>59945</th>\n",
       "      <td>68.0</td>\n",
       "      <td>-1</td>\n",
       "      <td>medicine / health</td>\n",
       "      <td>2012-06-29-00-42</td>\n",
       "      <td>san francisco, california</td>\n",
       "      <td>NaN</td>\n",
       "      <td>likes dogs and likes cats</td>\n",
       "      <td>catholicism and laughing about it</td>\n",
       "      <td>gemini and it&amp;rsquo;s fun to think about</td>\n",
       "      <td>sometimes</td>\n",
       "    </tr>\n",
       "  </tbody>\n",
       "</table>\n",
       "<p>59946 rows × 10 columns</p>\n",
       "</div>"
      ],
      "text/plain": [
       "       height  income                           job       last_online  \\\n",
       "0        75.0      -1                transportation  2012-06-28-20-30   \n",
       "1        70.0   80000          hospitality / travel  2012-06-29-21-41   \n",
       "2        68.0      -1                           NaN  2012-06-27-09-10   \n",
       "3        71.0   20000                       student  2012-06-28-14-22   \n",
       "4        66.0      -1   artistic / musical / writer  2012-06-27-21-26   \n",
       "...       ...     ...                           ...               ...   \n",
       "59941    62.0      -1   sales / marketing / biz dev  2012-06-12-21-47   \n",
       "59942    72.0      -1         entertainment / media  2012-06-29-11-01   \n",
       "59943    71.0  100000  construction / craftsmanship  2012-06-27-23-37   \n",
       "59944    73.0      -1             medicine / health  2012-06-23-13-01   \n",
       "59945    68.0      -1             medicine / health  2012-06-29-00-42   \n",
       "\n",
       "                              location  \\\n",
       "0      south san francisco, california   \n",
       "1                  oakland, california   \n",
       "2            san francisco, california   \n",
       "3                 berkeley, california   \n",
       "4            san francisco, california   \n",
       "...                                ...   \n",
       "59941              oakland, california   \n",
       "59942        san francisco, california   \n",
       "59943  south san francisco, california   \n",
       "59944        san francisco, california   \n",
       "59945        san francisco, california   \n",
       "\n",
       "                                    offspring                       pets  \\\n",
       "0      doesn't have kids, but might want them  likes dogs and likes cats   \n",
       "1      doesn't have kids, but might want them  likes dogs and likes cats   \n",
       "2                                         NaN                   has cats   \n",
       "3                           doesn't want kids                 likes cats   \n",
       "4                                         NaN  likes dogs and likes cats   \n",
       "...                                       ...                        ...   \n",
       "59941                                has kids                   has dogs   \n",
       "59942                       doesn't have kids  likes dogs and likes cats   \n",
       "59943                       doesn't have kids                        NaN   \n",
       "59944       doesn't have kids, but wants them  likes dogs and likes cats   \n",
       "59945                                     NaN  likes dogs and likes cats   \n",
       "\n",
       "                                        religion  \\\n",
       "0          agnosticism and very serious about it   \n",
       "1       agnosticism but not too serious about it   \n",
       "2                                            NaN   \n",
       "3                                            NaN   \n",
       "4                                            NaN   \n",
       "...                                          ...   \n",
       "59941   catholicism but not too serious about it   \n",
       "59942                                agnosticism   \n",
       "59943  christianity but not too serious about it   \n",
       "59944   agnosticism but not too serious about it   \n",
       "59945          catholicism and laughing about it   \n",
       "\n",
       "                                           sign          smokes  \n",
       "0                                        gemini       sometimes  \n",
       "1                                        cancer              no  \n",
       "2            pisces but it doesn&rsquo;t matter              no  \n",
       "3                                        pisces              no  \n",
       "4                                      aquarius              no  \n",
       "...                                         ...             ...  \n",
       "59941  cancer and it&rsquo;s fun to think about              no  \n",
       "59942           leo but it doesn&rsquo;t matter              no  \n",
       "59943   sagittarius but it doesn&rsquo;t matter              no  \n",
       "59944     leo and it&rsquo;s fun to think about  trying to quit  \n",
       "59945  gemini and it&rsquo;s fun to think about       sometimes  \n",
       "\n",
       "[59946 rows x 10 columns]"
      ]
     },
     "metadata": {},
     "output_type": "display_data"
    },
    {
     "data": {
      "text/html": [
       "<div>\n",
       "<style scoped>\n",
       "    .dataframe tbody tr th:only-of-type {\n",
       "        vertical-align: middle;\n",
       "    }\n",
       "\n",
       "    .dataframe tbody tr th {\n",
       "        vertical-align: top;\n",
       "    }\n",
       "\n",
       "    .dataframe thead th {\n",
       "        text-align: right;\n",
       "    }\n",
       "</style>\n",
       "<table border=\"1\" class=\"dataframe\">\n",
       "  <thead>\n",
       "    <tr style=\"text-align: right;\">\n",
       "      <th></th>\n",
       "      <th>speaks</th>\n",
       "      <th>essay0</th>\n",
       "      <th>essay1</th>\n",
       "      <th>essay2</th>\n",
       "      <th>essay3</th>\n",
       "      <th>essay4</th>\n",
       "      <th>essay5</th>\n",
       "      <th>essay6</th>\n",
       "      <th>essay7</th>\n",
       "      <th>essay8</th>\n",
       "      <th>essay9</th>\n",
       "    </tr>\n",
       "  </thead>\n",
       "  <tbody>\n",
       "    <tr>\n",
       "      <th>0</th>\n",
       "      <td>english</td>\n",
       "      <td>about me:  i would love to think that i was so...</td>\n",
       "      <td>currently working as an international agent fo...</td>\n",
       "      <td>making people laugh. ranting about a good salt...</td>\n",
       "      <td>the way i look. i am a six foot half asian, ha...</td>\n",
       "      <td>books: absurdistan, the republic, of mice and ...</td>\n",
       "      <td>food. water. cell phone. shelter.</td>\n",
       "      <td>duality and humorous things</td>\n",
       "      <td>trying to find someone to hang out with. i am ...</td>\n",
       "      <td>i am new to california and looking for someone...</td>\n",
       "      <td>you want to be swept off your feet! you are ti...</td>\n",
       "    </tr>\n",
       "    <tr>\n",
       "      <th>1</th>\n",
       "      <td>english (fluently), spanish (poorly), french (...</td>\n",
       "      <td>i am a chef: this is what that means. 1. i am ...</td>\n",
       "      <td>dedicating everyday to being an unbelievable b...</td>\n",
       "      <td>being silly. having ridiculous amonts of fun w...</td>\n",
       "      <td>NaN</td>\n",
       "      <td>i am die hard christopher moore fan. i don't r...</td>\n",
       "      <td>delicious porkness in all of its glories. my b...</td>\n",
       "      <td>NaN</td>\n",
       "      <td>NaN</td>\n",
       "      <td>i am very open and will share just about anyth...</td>\n",
       "      <td>NaN</td>\n",
       "    </tr>\n",
       "    <tr>\n",
       "      <th>2</th>\n",
       "      <td>english, french, c++</td>\n",
       "      <td>i'm not ashamed of much, but writing public te...</td>\n",
       "      <td>i make nerdy software for musicians, artists, ...</td>\n",
       "      <td>improvising in different contexts. alternating...</td>\n",
       "      <td>my large jaw and large glasses are the physica...</td>\n",
       "      <td>okay this is where the cultural matrix gets so...</td>\n",
       "      <td>movement conversation creation contemplation t...</td>\n",
       "      <td>NaN</td>\n",
       "      <td>viewing. listening. dancing. talking. drinking...</td>\n",
       "      <td>when i was five years old, i was known as \"the...</td>\n",
       "      <td>you are bright, open, intense, silly, ironic, ...</td>\n",
       "    </tr>\n",
       "    <tr>\n",
       "      <th>3</th>\n",
       "      <td>english, german (poorly)</td>\n",
       "      <td>i work in a library and go to school. . .</td>\n",
       "      <td>reading things written by old dead people</td>\n",
       "      <td>playing synthesizers and organizing books acco...</td>\n",
       "      <td>socially awkward but i do my best</td>\n",
       "      <td>bataille, celine, beckett. . . lynch, jarmusch...</td>\n",
       "      <td>NaN</td>\n",
       "      <td>cats and german philosophy</td>\n",
       "      <td>NaN</td>\n",
       "      <td>NaN</td>\n",
       "      <td>you feel so inclined.</td>\n",
       "    </tr>\n",
       "    <tr>\n",
       "      <th>4</th>\n",
       "      <td>english</td>\n",
       "      <td>hey how's it going? currently vague on the pro...</td>\n",
       "      <td>work work work work + play</td>\n",
       "      <td>creating imagery to look at: http://bagsbrown....</td>\n",
       "      <td>i smile a lot and my inquisitive nature</td>\n",
       "      <td>music: bands, rappers, musicians at the moment...</td>\n",
       "      <td>NaN</td>\n",
       "      <td>NaN</td>\n",
       "      <td>NaN</td>\n",
       "      <td>NaN</td>\n",
       "      <td>NaN</td>\n",
       "    </tr>\n",
       "    <tr>\n",
       "      <th>...</th>\n",
       "      <td>...</td>\n",
       "      <td>...</td>\n",
       "      <td>...</td>\n",
       "      <td>...</td>\n",
       "      <td>...</td>\n",
       "      <td>...</td>\n",
       "      <td>...</td>\n",
       "      <td>...</td>\n",
       "      <td>...</td>\n",
       "      <td>...</td>\n",
       "      <td>...</td>\n",
       "    </tr>\n",
       "    <tr>\n",
       "      <th>59941</th>\n",
       "      <td>english</td>\n",
       "      <td>vibrant, expressive, caring optimist. i love b...</td>\n",
       "      <td>the happiest times have been when life came to...</td>\n",
       "      <td>i make an outstanding osso bucco. i am also ve...</td>\n",
       "      <td>i am told that people notice my smile, eyes an...</td>\n",
       "      <td>i am an avid movie watcher and follow the broa...</td>\n",
       "      <td>my family, my dog, italy, words and music!</td>\n",
       "      <td>writing my book.</td>\n",
       "      <td>running with my dog, finishing up the work wee...</td>\n",
       "      <td>i have a dream to sing at the alconquin in nyc...</td>\n",
       "      <td>you are seeking a long term connection of shar...</td>\n",
       "    </tr>\n",
       "    <tr>\n",
       "      <th>59942</th>\n",
       "      <td>english (fluently)</td>\n",
       "      <td>i'm nick. i never know what to write about mys...</td>\n",
       "      <td>currently finishing school for film production...</td>\n",
       "      <td>filmmaking, photography, graphic design, web d...</td>\n",
       "      <td>dude, i don't know.</td>\n",
       "      <td>movies: hook (the greatest adventure ever!), g...</td>\n",
       "      <td>iphone contact lenses headphones camera tv rem...</td>\n",
       "      <td>i do most of my thinking on the bus to/from wo...</td>\n",
       "      <td>bringin' home bacon, or drinking and shakin'!</td>\n",
       "      <td>when i was 18 i got a tattoo of waldo somewher...</td>\n",
       "      <td>meh if you made it this far you might as well.</td>\n",
       "    </tr>\n",
       "    <tr>\n",
       "      <th>59943</th>\n",
       "      <td>english (fluently)</td>\n",
       "      <td>hello! i enjoy traveling, watching movies, and...</td>\n",
       "      <td>i'm a civil engineer, who enjoys helping the c...</td>\n",
       "      <td>- looking at things objectively - getting thin...</td>\n",
       "      <td>i'm quiet until i get used to the environment ...</td>\n",
       "      <td>last book: \"game change\". movies: bourne serie...</td>\n",
       "      <td>- iphone - friends and family - internet - bay...</td>\n",
       "      <td>aside from work, how to improve my home.</td>\n",
       "      <td>out enjoying friendly conversation over dinner.</td>\n",
       "      <td>please let me think about this more.</td>\n",
       "      <td>we have similar interests.</td>\n",
       "    </tr>\n",
       "    <tr>\n",
       "      <th>59944</th>\n",
       "      <td>english (fluently), spanish (poorly), chinese ...</td>\n",
       "      <td>\"all i have in this world are my balls and my ...</td>\n",
       "      <td>following my dreams... \"you got a dream... you...</td>\n",
       "      <td>listening</td>\n",
       "      <td>it used to be the hair until i mowed it off bu...</td>\n",
       "      <td>where to begin musically: right now i listen t...</td>\n",
       "      <td>music, family, friends, a basketball, hoop, so...</td>\n",
       "      <td>what can i do to make someone chuckle....</td>\n",
       "      <td>what i would do on any other day. everydays a ...</td>\n",
       "      <td>i like walking around in other people's house ...</td>\n",
       "      <td>you are interested and interesting...</td>\n",
       "    </tr>\n",
       "    <tr>\n",
       "      <th>59945</th>\n",
       "      <td>english</td>\n",
       "      <td>is it odd that having a little \"enemy\" status ...</td>\n",
       "      <td>i work with elderly people (psychotherapy and ...</td>\n",
       "      <td>i'm a great bullshitter. i don't know what it ...</td>\n",
       "      <td>either that i am funny/sarcastic, or that i am...</td>\n",
       "      <td>i just read the help by kathryn stockett, sooo...</td>\n",
       "      <td>1. family &amp; friends &amp; other humans - interacti...</td>\n",
       "      <td>sex, myself, other people, how amazing everyth...</td>\n",
       "      <td>out at happy hour with my friends, running int...</td>\n",
       "      <td>i wish i could cry like holly hunter in broadc...</td>\n",
       "      <td>if you have a back-bone, an opinion, a sense o...</td>\n",
       "    </tr>\n",
       "  </tbody>\n",
       "</table>\n",
       "<p>59946 rows × 11 columns</p>\n",
       "</div>"
      ],
      "text/plain": [
       "                                                  speaks  \\\n",
       "0                                                english   \n",
       "1      english (fluently), spanish (poorly), french (...   \n",
       "2                                   english, french, c++   \n",
       "3                               english, german (poorly)   \n",
       "4                                                english   \n",
       "...                                                  ...   \n",
       "59941                                            english   \n",
       "59942                                 english (fluently)   \n",
       "59943                                 english (fluently)   \n",
       "59944  english (fluently), spanish (poorly), chinese ...   \n",
       "59945                                            english   \n",
       "\n",
       "                                                  essay0  \\\n",
       "0      about me:  i would love to think that i was so...   \n",
       "1      i am a chef: this is what that means. 1. i am ...   \n",
       "2      i'm not ashamed of much, but writing public te...   \n",
       "3              i work in a library and go to school. . .   \n",
       "4      hey how's it going? currently vague on the pro...   \n",
       "...                                                  ...   \n",
       "59941  vibrant, expressive, caring optimist. i love b...   \n",
       "59942  i'm nick. i never know what to write about mys...   \n",
       "59943  hello! i enjoy traveling, watching movies, and...   \n",
       "59944  \"all i have in this world are my balls and my ...   \n",
       "59945  is it odd that having a little \"enemy\" status ...   \n",
       "\n",
       "                                                  essay1  \\\n",
       "0      currently working as an international agent fo...   \n",
       "1      dedicating everyday to being an unbelievable b...   \n",
       "2      i make nerdy software for musicians, artists, ...   \n",
       "3              reading things written by old dead people   \n",
       "4                             work work work work + play   \n",
       "...                                                  ...   \n",
       "59941  the happiest times have been when life came to...   \n",
       "59942  currently finishing school for film production...   \n",
       "59943  i'm a civil engineer, who enjoys helping the c...   \n",
       "59944  following my dreams... \"you got a dream... you...   \n",
       "59945  i work with elderly people (psychotherapy and ...   \n",
       "\n",
       "                                                  essay2  \\\n",
       "0      making people laugh. ranting about a good salt...   \n",
       "1      being silly. having ridiculous amonts of fun w...   \n",
       "2      improvising in different contexts. alternating...   \n",
       "3      playing synthesizers and organizing books acco...   \n",
       "4      creating imagery to look at: http://bagsbrown....   \n",
       "...                                                  ...   \n",
       "59941  i make an outstanding osso bucco. i am also ve...   \n",
       "59942  filmmaking, photography, graphic design, web d...   \n",
       "59943  - looking at things objectively - getting thin...   \n",
       "59944                                          listening   \n",
       "59945  i'm a great bullshitter. i don't know what it ...   \n",
       "\n",
       "                                                  essay3  \\\n",
       "0      the way i look. i am a six foot half asian, ha...   \n",
       "1                                                    NaN   \n",
       "2      my large jaw and large glasses are the physica...   \n",
       "3                      socially awkward but i do my best   \n",
       "4                i smile a lot and my inquisitive nature   \n",
       "...                                                  ...   \n",
       "59941  i am told that people notice my smile, eyes an...   \n",
       "59942                                dude, i don't know.   \n",
       "59943  i'm quiet until i get used to the environment ...   \n",
       "59944  it used to be the hair until i mowed it off bu...   \n",
       "59945  either that i am funny/sarcastic, or that i am...   \n",
       "\n",
       "                                                  essay4  \\\n",
       "0      books: absurdistan, the republic, of mice and ...   \n",
       "1      i am die hard christopher moore fan. i don't r...   \n",
       "2      okay this is where the cultural matrix gets so...   \n",
       "3      bataille, celine, beckett. . . lynch, jarmusch...   \n",
       "4      music: bands, rappers, musicians at the moment...   \n",
       "...                                                  ...   \n",
       "59941  i am an avid movie watcher and follow the broa...   \n",
       "59942  movies: hook (the greatest adventure ever!), g...   \n",
       "59943  last book: \"game change\". movies: bourne serie...   \n",
       "59944  where to begin musically: right now i listen t...   \n",
       "59945  i just read the help by kathryn stockett, sooo...   \n",
       "\n",
       "                                                  essay5  \\\n",
       "0                      food. water. cell phone. shelter.   \n",
       "1      delicious porkness in all of its glories. my b...   \n",
       "2      movement conversation creation contemplation t...   \n",
       "3                                                    NaN   \n",
       "4                                                    NaN   \n",
       "...                                                  ...   \n",
       "59941         my family, my dog, italy, words and music!   \n",
       "59942  iphone contact lenses headphones camera tv rem...   \n",
       "59943  - iphone - friends and family - internet - bay...   \n",
       "59944  music, family, friends, a basketball, hoop, so...   \n",
       "59945  1. family & friends & other humans - interacti...   \n",
       "\n",
       "                                                  essay6  \\\n",
       "0                            duality and humorous things   \n",
       "1                                                    NaN   \n",
       "2                                                    NaN   \n",
       "3                             cats and german philosophy   \n",
       "4                                                    NaN   \n",
       "...                                                  ...   \n",
       "59941                                   writing my book.   \n",
       "59942  i do most of my thinking on the bus to/from wo...   \n",
       "59943           aside from work, how to improve my home.   \n",
       "59944          what can i do to make someone chuckle....   \n",
       "59945  sex, myself, other people, how amazing everyth...   \n",
       "\n",
       "                                                  essay7  \\\n",
       "0      trying to find someone to hang out with. i am ...   \n",
       "1                                                    NaN   \n",
       "2      viewing. listening. dancing. talking. drinking...   \n",
       "3                                                    NaN   \n",
       "4                                                    NaN   \n",
       "...                                                  ...   \n",
       "59941  running with my dog, finishing up the work wee...   \n",
       "59942      bringin' home bacon, or drinking and shakin'!   \n",
       "59943    out enjoying friendly conversation over dinner.   \n",
       "59944  what i would do on any other day. everydays a ...   \n",
       "59945  out at happy hour with my friends, running int...   \n",
       "\n",
       "                                                  essay8  \\\n",
       "0      i am new to california and looking for someone...   \n",
       "1      i am very open and will share just about anyth...   \n",
       "2      when i was five years old, i was known as \"the...   \n",
       "3                                                    NaN   \n",
       "4                                                    NaN   \n",
       "...                                                  ...   \n",
       "59941  i have a dream to sing at the alconquin in nyc...   \n",
       "59942  when i was 18 i got a tattoo of waldo somewher...   \n",
       "59943               please let me think about this more.   \n",
       "59944  i like walking around in other people's house ...   \n",
       "59945  i wish i could cry like holly hunter in broadc...   \n",
       "\n",
       "                                                  essay9  \n",
       "0      you want to be swept off your feet! you are ti...  \n",
       "1                                                    NaN  \n",
       "2      you are bright, open, intense, silly, ironic, ...  \n",
       "3                                  you feel so inclined.  \n",
       "4                                                    NaN  \n",
       "...                                                  ...  \n",
       "59941  you are seeking a long term connection of shar...  \n",
       "59942     meh if you made it this far you might as well.  \n",
       "59943                         we have similar interests.  \n",
       "59944              you are interested and interesting...  \n",
       "59945  if you have a back-bone, an opinion, a sense o...  \n",
       "\n",
       "[59946 rows x 11 columns]"
      ]
     },
     "metadata": {},
     "output_type": "display_data"
    }
   ],
   "source": [
    "pd.set_option(\"display.max_columns\", 50)\n",
    "df = pd.read_csv(os.path.join(DATA_PATH, \"okcupid_profiles.csv\"))\n",
    "display(df.iloc[:, :10])\n",
    "display(df.iloc[:, 10:20])\n",
    "display(df.iloc[:, 20:31])"
   ]
  },
  {
   "cell_type": "code",
   "execution_count": 5,
   "metadata": {
    "ExecuteTime": {
     "end_time": "2021-01-10T20:03:11.176258Z",
     "start_time": "2021-01-10T20:03:11.145010Z"
    },
    "scrolled": false
   },
   "outputs": [
    {
     "data": {
      "text/plain": [
       "age              int64\n",
       "status          object\n",
       "sex             object\n",
       "orientation     object\n",
       "body_type       object\n",
       "diet            object\n",
       "drinks          object\n",
       "drugs           object\n",
       "education       object\n",
       "ethnicity       object\n",
       "height         float64\n",
       "income           int64\n",
       "job             object\n",
       "last_online     object\n",
       "location        object\n",
       "offspring       object\n",
       "pets            object\n",
       "religion        object\n",
       "sign            object\n",
       "smokes          object\n",
       "speaks          object\n",
       "essay0          object\n",
       "essay1          object\n",
       "essay2          object\n",
       "essay3          object\n",
       "essay4          object\n",
       "essay5          object\n",
       "essay6          object\n",
       "essay7          object\n",
       "essay8          object\n",
       "essay9          object\n",
       "dtype: object"
      ]
     },
     "execution_count": 5,
     "metadata": {},
     "output_type": "execute_result"
    }
   ],
   "source": [
    "df.dtypes"
   ]
  },
  {
   "cell_type": "markdown",
   "metadata": {},
   "source": [
    "La codificación de los tipos de las variables es correcta, por lo que no será necesario hacer ninguna transformación de tipos."
   ]
  },
  {
   "cell_type": "markdown",
   "metadata": {},
   "source": [
    " Se tienen variables numéricas y textuales. Sin embargo, observando los contenidos de algunas columnas, es evidente que no son de texto libre, y que se pueden considerar variables categóricas. Vamos a definir los diferentes tipos de características:"
   ]
  },
  {
   "cell_type": "code",
   "execution_count": 6,
   "metadata": {
    "ExecuteTime": {
     "end_time": "2021-01-10T20:03:11.198396Z",
     "start_time": "2021-01-10T20:03:11.182765Z"
    }
   },
   "outputs": [],
   "source": [
    "numerical_vars = [\"age\", \"height\", \"income\"]\n",
    "categorical_vars = [\"status\", \"sex\", \"orientation\", \"body_type\", \"diet\", \"drinks\", \"drugs\", \"education\",\n",
    "                    \"ethnicity\", \"job\", \"location\", \"offspring\", \"pets\", \"religion\", \"sign\", \"smokes\", \"speaks\"]\n",
    "text_vars = [f\"essay{i}\" for i in range(10)]"
   ]
  },
  {
   "cell_type": "markdown",
   "metadata": {},
   "source": [
    "Llegados a este punto podemos prescindir de una variable que no será de utilidad a la hora de hacer el clustering. Esta variable es `last_online`, que repesenta la fecha y hora de última conexión. Con esta decisión reducimos el volumen de datos y nos centramos en las columnas numéricas y categóricas que aportan información sobre la personalidad, preferencias o apariencia física de una persona."
   ]
  },
  {
   "cell_type": "code",
   "execution_count": 7,
   "metadata": {
    "ExecuteTime": {
     "end_time": "2021-01-10T20:03:11.245267Z",
     "start_time": "2021-01-10T20:03:11.198396Z"
    }
   },
   "outputs": [],
   "source": [
    "del df[\"last_online\"]"
   ]
  },
  {
   "cell_type": "markdown",
   "metadata": {},
   "source": [
    "### 2.1 Análisis de variables numéricas"
   ]
  },
  {
   "cell_type": "markdown",
   "metadata": {},
   "source": [
    "En primer lugar vamos a echar un vistazo a los estadísticos descriptivos de las variables numéricas  para después abordar un análisis individual de cada una de ellas."
   ]
  },
  {
   "cell_type": "code",
   "execution_count": 8,
   "metadata": {
    "ExecuteTime": {
     "end_time": "2021-01-10T20:03:11.298664Z",
     "start_time": "2021-01-10T20:03:11.245267Z"
    },
    "scrolled": false
   },
   "outputs": [
    {
     "data": {
      "text/html": [
       "<div>\n",
       "<style scoped>\n",
       "    .dataframe tbody tr th:only-of-type {\n",
       "        vertical-align: middle;\n",
       "    }\n",
       "\n",
       "    .dataframe tbody tr th {\n",
       "        vertical-align: top;\n",
       "    }\n",
       "\n",
       "    .dataframe thead th {\n",
       "        text-align: right;\n",
       "    }\n",
       "</style>\n",
       "<table border=\"1\" class=\"dataframe\">\n",
       "  <thead>\n",
       "    <tr style=\"text-align: right;\">\n",
       "      <th></th>\n",
       "      <th>age</th>\n",
       "      <th>height</th>\n",
       "      <th>income</th>\n",
       "    </tr>\n",
       "  </thead>\n",
       "  <tbody>\n",
       "    <tr>\n",
       "      <th>count</th>\n",
       "      <td>59946.000000</td>\n",
       "      <td>59943.000000</td>\n",
       "      <td>59946.000000</td>\n",
       "    </tr>\n",
       "    <tr>\n",
       "      <th>mean</th>\n",
       "      <td>32.340290</td>\n",
       "      <td>68.295281</td>\n",
       "      <td>20033.222534</td>\n",
       "    </tr>\n",
       "    <tr>\n",
       "      <th>std</th>\n",
       "      <td>9.452779</td>\n",
       "      <td>3.994803</td>\n",
       "      <td>97346.192104</td>\n",
       "    </tr>\n",
       "    <tr>\n",
       "      <th>min</th>\n",
       "      <td>18.000000</td>\n",
       "      <td>1.000000</td>\n",
       "      <td>-1.000000</td>\n",
       "    </tr>\n",
       "    <tr>\n",
       "      <th>25%</th>\n",
       "      <td>26.000000</td>\n",
       "      <td>66.000000</td>\n",
       "      <td>-1.000000</td>\n",
       "    </tr>\n",
       "    <tr>\n",
       "      <th>50%</th>\n",
       "      <td>30.000000</td>\n",
       "      <td>68.000000</td>\n",
       "      <td>-1.000000</td>\n",
       "    </tr>\n",
       "    <tr>\n",
       "      <th>75%</th>\n",
       "      <td>37.000000</td>\n",
       "      <td>71.000000</td>\n",
       "      <td>-1.000000</td>\n",
       "    </tr>\n",
       "    <tr>\n",
       "      <th>max</th>\n",
       "      <td>110.000000</td>\n",
       "      <td>95.000000</td>\n",
       "      <td>1000000.000000</td>\n",
       "    </tr>\n",
       "  </tbody>\n",
       "</table>\n",
       "</div>"
      ],
      "text/plain": [
       "                age        height          income\n",
       "count  59946.000000  59943.000000    59946.000000\n",
       "mean      32.340290     68.295281    20033.222534\n",
       "std        9.452779      3.994803    97346.192104\n",
       "min       18.000000      1.000000       -1.000000\n",
       "25%       26.000000     66.000000       -1.000000\n",
       "50%       30.000000     68.000000       -1.000000\n",
       "75%       37.000000     71.000000       -1.000000\n",
       "max      110.000000     95.000000  1000000.000000"
      ]
     },
     "execution_count": 8,
     "metadata": {},
     "output_type": "execute_result"
    }
   ],
   "source": [
    "df.describe()"
   ]
  },
  {
   "cell_type": "markdown",
   "metadata": {},
   "source": [
    "En este punto ya podemos observar como hay algunos datos numéricos un tanto extraños:\n",
    "* La edad máxima es 110, lo cual hace dudar que sea un dato correcto. Posiblemente esta edad corresponda con personas que no quieren compartir su edad verdadera.\n",
    "* La altura parece estar en pulgadas, *inches*, la media es 68 que se corresponde con 172 cm aprox. En este sentido vemos que la altura mínima es 1 pulgada y que la máxima es de 95 (241 cm). Según la lista de personas más altas del mundo publicada en Wikipedia [1], una altura de entorno a 90 pulgadas (230 cm) ya es algo inaudito. Por otro lado, la altura mínima es 1 pulgada, dato también erróneo.\n",
    "* Los ingresos llaman la atención en tanto que el ingreso mínimo es -1 y el percentil 75 también es -1. Esto indica que al menos el 75% de los usuarios de la aplicación no han querido decir sus ingresos."
   ]
  },
  {
   "cell_type": "markdown",
   "metadata": {},
   "source": [
    "#### 2.2.1 Análisis de la altura"
   ]
  },
  {
   "cell_type": "code",
   "execution_count": 9,
   "metadata": {
    "ExecuteTime": {
     "end_time": "2021-01-10T20:03:11.976473Z",
     "start_time": "2021-01-10T20:03:11.298664Z"
    }
   },
   "outputs": [
    {
     "data": {
      "image/png": "[encoded data removed]",
      "text/plain": [
       "<Figure size 1440x720 with 1 Axes>"
      ]
     },
     "metadata": {},
     "output_type": "display_data"
    }
   ],
   "source": [
    "sns.set_theme()\n",
    "sns.set(rc={'figure.figsize': (20, 10), 'axes.grid': True,\n",
    "            'axes.labelsize': 20, 'xtick.labelsize': 20, 'ytick.labelsize': 20})\n",
    "\n",
    "sns.histplot(data=df[\"height\"], bins=30)\n",
    "\n",
    "plt.title(\"Histogram for height\", size=28)\n",
    "plt.show()"
   ]
  },
  {
   "cell_type": "markdown",
   "metadata": {},
   "source": [
    "Una vez visto el histograma, es de utilidad ver aquellos valores anómalos que no podemos visualizar en el agrupamiento de por clases de un histograma. En la tabla de estadísticos ya vimos algunos indicios de la existencia de valores anómalos, vamos a comprobarlo:"
   ]
  },
  {
   "cell_type": "code",
   "execution_count": 10,
   "metadata": {
    "ExecuteTime": {
     "end_time": "2021-01-10T20:03:12.278508Z",
     "start_time": "2021-01-10T20:03:11.978499Z"
    }
   },
   "outputs": [
    {
     "data": {
      "image/png": "[encoded data removed]",
      "text/plain": [
       "<Figure size 1440x360 with 1 Axes>"
      ]
     },
     "metadata": {},
     "output_type": "display_data"
    }
   ],
   "source": [
    "plt.figure(figsize=(20, 5))\n",
    "sns.boxplot(data=df[\"height\"], orient='horizontal')\n",
    "plt.title('Boxplot for height', fontdict={\"family\": \"Consolas\", \"size\": 28})\n",
    "plt.grid()\n",
    "plt.show()"
   ]
  },
  {
   "cell_type": "markdown",
   "metadata": {},
   "source": [
    "Como veíamos en la referencia [1], y en la tabla de estadísticos, aquellas personas con altura superior a 80 pulgadas (superior a 203 cm de altura) van a suponer valores anómalos en nuestro conjunto de datos. Podemos ver la frecuencia de estas alturas tan altas e inusuales:"
   ]
  },
  {
   "cell_type": "code",
   "execution_count": 11,
   "metadata": {
    "ExecuteTime": {
     "end_time": "2021-01-10T20:03:12.298608Z",
     "start_time": "2021-01-10T20:03:12.280529Z"
    }
   },
   "outputs": [
    {
     "data": {
      "text/plain": [
       "81.0    11\n",
       "82.0    11\n",
       "83.0    12\n",
       "84.0     9\n",
       "85.0     1\n",
       "86.0     1\n",
       "87.0     1\n",
       "88.0     2\n",
       "89.0     1\n",
       "90.0     1\n",
       "91.0     3\n",
       "92.0     1\n",
       "93.0     1\n",
       "94.0     3\n",
       "95.0    20\n",
       "Name: height, dtype: int64"
      ]
     },
     "execution_count": 11,
     "metadata": {},
     "output_type": "execute_result"
    }
   ],
   "source": [
    "df[df[\"height\"] > 80][\"height\"].value_counts().sort_index()"
   ]
  },
  {
   "cell_type": "markdown",
   "metadata": {},
   "source": [
    "Veamos aquellos registros donde la altura es muy pequeña. Aquí podemos establecer un límite inferior coherente de acuerdo con el diagrama de caja y bigotes y partiendo de la base de que podemos contar con usuarios de la apliacación que pueden tener alguna patología como el Enanismo. Según Mayo Clinic [2], una persona que padezca Enanismo podría estar entorno a 122 cm de altura (48 pulgadas), existiendo algunos casos que pueden alcanzar los 91 cm (35.8 pulgadas)"
   ]
  },
  {
   "cell_type": "code",
   "execution_count": 12,
   "metadata": {
    "ExecuteTime": {
     "end_time": "2021-01-10T20:03:12.318684Z",
     "start_time": "2021-01-10T20:03:12.300628Z"
    }
   },
   "outputs": [
    {
     "data": {
      "text/plain": [
       "36.0    11\n",
       "37.0     2\n",
       "43.0     2\n",
       "4.0      1\n",
       "26.0     1\n",
       "1.0      1\n",
       "9.0      1\n",
       "47.0     1\n",
       "6.0      1\n",
       "42.0     1\n",
       "3.0      1\n",
       "8.0      1\n",
       "Name: height, dtype: int64"
      ]
     },
     "execution_count": 12,
     "metadata": {},
     "output_type": "execute_result"
    }
   ],
   "source": [
    "df[df[\"height\"] < 48][\"height\"].value_counts()"
   ]
  },
  {
   "cell_type": "code",
   "execution_count": 13,
   "metadata": {
    "ExecuteTime": {
     "end_time": "2021-01-10T20:03:12.339037Z",
     "start_time": "2021-01-10T20:03:12.318943Z"
    }
   },
   "outputs": [],
   "source": [
    "#TODO: ¿ELIMINAMOS?"
   ]
  },
  {
   "cell_type": "markdown",
   "metadata": {},
   "source": [
    "#### 2.2.2 Análisis de la edad"
   ]
  },
  {
   "cell_type": "code",
   "execution_count": 14,
   "metadata": {
    "ExecuteTime": {
     "end_time": "2021-01-10T20:03:12.942979Z",
     "start_time": "2021-01-10T20:03:12.341063Z"
    }
   },
   "outputs": [
    {
     "data": {
      "image/png": "[encoded data removed]",
      "text/plain": [
       "<Figure size 1440x720 with 1 Axes>"
      ]
     },
     "metadata": {},
     "output_type": "display_data"
    }
   ],
   "source": [
    "sns.set_theme()\n",
    "sns.set(rc={'figure.figsize': (20, 10), 'axes.grid': True,\n",
    "            'axes.labelsize': 20, 'xtick.labelsize': 20, 'ytick.labelsize': 20})\n",
    "\n",
    "sns.histplot(data=df[\"age\"], bins=30)\n",
    "\n",
    "plt.title(\"Histogram for age\", size=28)\n",
    "plt.show()"
   ]
  },
  {
   "cell_type": "code",
   "execution_count": 15,
   "metadata": {
    "ExecuteTime": {
     "end_time": "2021-01-10T20:03:13.224628Z",
     "start_time": "2021-01-10T20:03:12.945006Z"
    }
   },
   "outputs": [
    {
     "data": {
      "image/png": "[encoded data removed]",
      "text/plain": [
       "<Figure size 1440x360 with 1 Axes>"
      ]
     },
     "metadata": {},
     "output_type": "display_data"
    }
   ],
   "source": [
    "plt.figure(figsize=(20, 5))\n",
    "sns.boxplot(data=df[\"age\"], orient='horizontal')\n",
    "plt.title('Boxplot for age', fontdict={\"family\": \"Consolas\", \"size\": 15})\n",
    "plt.grid()\n",
    "plt.show()"
   ]
  },
  {
   "cell_type": "markdown",
   "metadata": {},
   "source": [
    "Vemos como es más inusual que haya usuarios con una edad superior a 55-60 años. Además, como ya vimos, tenemos dos personas con una edad superior a 100 años. Veamos que datos tenemos acerca de ellas:"
   ]
  },
  {
   "cell_type": "code",
   "execution_count": 16,
   "metadata": {
    "ExecuteTime": {
     "end_time": "2021-01-10T20:03:13.285039Z",
     "start_time": "2021-01-10T20:03:13.226665Z"
    }
   },
   "outputs": [
    {
     "data": {
      "text/html": [
       "<div>\n",
       "<style scoped>\n",
       "    .dataframe tbody tr th:only-of-type {\n",
       "        vertical-align: middle;\n",
       "    }\n",
       "\n",
       "    .dataframe tbody tr th {\n",
       "        vertical-align: top;\n",
       "    }\n",
       "\n",
       "    .dataframe thead th {\n",
       "        text-align: right;\n",
       "    }\n",
       "</style>\n",
       "<table border=\"1\" class=\"dataframe\">\n",
       "  <thead>\n",
       "    <tr style=\"text-align: right;\">\n",
       "      <th></th>\n",
       "      <th>age</th>\n",
       "      <th>status</th>\n",
       "      <th>sex</th>\n",
       "      <th>orientation</th>\n",
       "      <th>body_type</th>\n",
       "      <th>diet</th>\n",
       "      <th>drinks</th>\n",
       "      <th>drugs</th>\n",
       "      <th>education</th>\n",
       "      <th>ethnicity</th>\n",
       "      <th>height</th>\n",
       "      <th>income</th>\n",
       "      <th>job</th>\n",
       "      <th>location</th>\n",
       "      <th>offspring</th>\n",
       "      <th>pets</th>\n",
       "      <th>religion</th>\n",
       "      <th>sign</th>\n",
       "      <th>smokes</th>\n",
       "      <th>speaks</th>\n",
       "      <th>essay0</th>\n",
       "      <th>essay1</th>\n",
       "      <th>essay2</th>\n",
       "      <th>essay3</th>\n",
       "      <th>essay4</th>\n",
       "      <th>essay5</th>\n",
       "      <th>essay6</th>\n",
       "      <th>essay7</th>\n",
       "      <th>essay8</th>\n",
       "      <th>essay9</th>\n",
       "    </tr>\n",
       "  </thead>\n",
       "  <tbody>\n",
       "    <tr>\n",
       "      <th>2512</th>\n",
       "      <td>110</td>\n",
       "      <td>single</td>\n",
       "      <td>f</td>\n",
       "      <td>straight</td>\n",
       "      <td>NaN</td>\n",
       "      <td>NaN</td>\n",
       "      <td>NaN</td>\n",
       "      <td>NaN</td>\n",
       "      <td>NaN</td>\n",
       "      <td>NaN</td>\n",
       "      <td>67.0</td>\n",
       "      <td>-1</td>\n",
       "      <td>NaN</td>\n",
       "      <td>daly city, california</td>\n",
       "      <td>NaN</td>\n",
       "      <td>NaN</td>\n",
       "      <td>NaN</td>\n",
       "      <td>NaN</td>\n",
       "      <td>NaN</td>\n",
       "      <td>english</td>\n",
       "      <td>NaN</td>\n",
       "      <td>NaN</td>\n",
       "      <td>NaN</td>\n",
       "      <td>NaN</td>\n",
       "      <td>NaN</td>\n",
       "      <td>NaN</td>\n",
       "      <td>NaN</td>\n",
       "      <td>NaN</td>\n",
       "      <td>NaN</td>\n",
       "      <td>NaN</td>\n",
       "    </tr>\n",
       "    <tr>\n",
       "      <th>25324</th>\n",
       "      <td>109</td>\n",
       "      <td>available</td>\n",
       "      <td>m</td>\n",
       "      <td>straight</td>\n",
       "      <td>athletic</td>\n",
       "      <td>mostly other</td>\n",
       "      <td>NaN</td>\n",
       "      <td>never</td>\n",
       "      <td>working on masters program</td>\n",
       "      <td>NaN</td>\n",
       "      <td>95.0</td>\n",
       "      <td>-1</td>\n",
       "      <td>student</td>\n",
       "      <td>san francisco, california</td>\n",
       "      <td>might want kids</td>\n",
       "      <td>NaN</td>\n",
       "      <td>other and somewhat serious about it</td>\n",
       "      <td>aquarius but it doesn&amp;rsquo;t matter</td>\n",
       "      <td>when drinking</td>\n",
       "      <td>english (okay)</td>\n",
       "      <td>NaN</td>\n",
       "      <td>NaN</td>\n",
       "      <td>NaN</td>\n",
       "      <td>nothing</td>\n",
       "      <td>NaN</td>\n",
       "      <td>NaN</td>\n",
       "      <td>NaN</td>\n",
       "      <td>NaN</td>\n",
       "      <td>NaN</td>\n",
       "      <td>NaN</td>\n",
       "    </tr>\n",
       "  </tbody>\n",
       "</table>\n",
       "</div>"
      ],
      "text/plain": [
       "       age     status sex orientation body_type          diet drinks  drugs  \\\n",
       "2512   110     single   f    straight       NaN           NaN    NaN    NaN   \n",
       "25324  109  available   m    straight  athletic  mostly other    NaN  never   \n",
       "\n",
       "                        education ethnicity  height  income      job  \\\n",
       "2512                          NaN       NaN    67.0      -1      NaN   \n",
       "25324  working on masters program       NaN    95.0      -1  student   \n",
       "\n",
       "                        location        offspring pets  \\\n",
       "2512       daly city, california              NaN  NaN   \n",
       "25324  san francisco, california  might want kids  NaN   \n",
       "\n",
       "                                  religion  \\\n",
       "2512                                   NaN   \n",
       "25324  other and somewhat serious about it   \n",
       "\n",
       "                                       sign         smokes          speaks  \\\n",
       "2512                                    NaN            NaN         english   \n",
       "25324  aquarius but it doesn&rsquo;t matter  when drinking  english (okay)   \n",
       "\n",
       "      essay0 essay1 essay2   essay3 essay4 essay5 essay6 essay7 essay8 essay9  \n",
       "2512     NaN    NaN    NaN      NaN    NaN    NaN    NaN    NaN    NaN    NaN  \n",
       "25324    NaN    NaN    NaN  nothing    NaN    NaN    NaN    NaN    NaN    NaN  "
      ]
     },
     "execution_count": 16,
     "metadata": {},
     "output_type": "execute_result"
    }
   ],
   "source": [
    "df[df[\"age\"] > 100]"
   ]
  },
  {
   "cell_type": "markdown",
   "metadata": {},
   "source": [
    "#### 2.2.3 Análisis de los ingresos"
   ]
  },
  {
   "cell_type": "code",
   "execution_count": 17,
   "metadata": {
    "ExecuteTime": {
     "end_time": "2021-01-10T20:03:13.902186Z",
     "start_time": "2021-01-10T20:03:13.287066Z"
    }
   },
   "outputs": [
    {
     "data": {
      "image/png": "[encoded data removed]",
      "text/plain": [
       "<Figure size 1440x720 with 1 Axes>"
      ]
     },
     "metadata": {},
     "output_type": "display_data"
    }
   ],
   "source": [
    "sns.set_theme()\n",
    "sns.set(rc={'figure.figsize': (20, 10), 'axes.grid': True,\n",
    "            'axes.labelsize': 20, 'xtick.labelsize': 20, 'ytick.labelsize': 20})\n",
    "\n",
    "sns.histplot(data=df[\"income\"], bins=30)\n",
    "\n",
    "plt.title(\"Histogram for income\", size=28)\n",
    "plt.show()"
   ]
  },
  {
   "cell_type": "code",
   "execution_count": 18,
   "metadata": {
    "ExecuteTime": {
     "end_time": "2021-01-10T20:03:14.240734Z",
     "start_time": "2021-01-10T20:03:13.902186Z"
    }
   },
   "outputs": [
    {
     "data": {
      "image/png": "[encoded data removed]",
      "text/plain": [
       "<Figure size 1440x360 with 1 Axes>"
      ]
     },
     "metadata": {},
     "output_type": "display_data"
    }
   ],
   "source": [
    "plt.figure(figsize=(20, 5))\n",
    "sns.boxplot(data=df[\"income\"], orient='horizontal')\n",
    "plt.title('Boxplot for income', fontdict={\"family\": \"Consolas\", \"size\": 15})\n",
    "plt.grid()\n",
    "plt.show()"
   ]
  },
  {
   "cell_type": "markdown",
   "metadata": {},
   "source": [
    "Como ya habíamos visto en la tabla de los estadísticos, hay un alto porcentaje de personas que han señalado -1 como cantidad de ingresos. Veamos cuál es el porcentaje exacto:"
   ]
  },
  {
   "cell_type": "code",
   "execution_count": 19,
   "metadata": {
    "ExecuteTime": {
     "end_time": "2021-01-10T20:03:14.287606Z",
     "start_time": "2021-01-10T20:03:14.240734Z"
    }
   },
   "outputs": [
    {
     "name": "stdout",
     "output_type": "stream",
     "text": [
      "81% with non-specified incomes\n"
     ]
    }
   ],
   "source": [
    "income_percent = (len(df[df[\"income\"] < 0]) / len(df)) * 100\n",
    "print(f\"{round(income_percent)}% with non-specified incomes\")"
   ]
  },
  {
   "cell_type": "markdown",
   "metadata": {},
   "source": [
    "Como el promedio obtenido considerando el 100% de los datos no es representativo debido a los datos erróneos, podemos ver la media de aquellos registros en los que sí se ha espeificado alguna cantidad para los ingresos."
   ]
  },
  {
   "cell_type": "code",
   "execution_count": 20,
   "metadata": {
    "ExecuteTime": {
     "end_time": "2021-01-10T20:03:14.325372Z",
     "start_time": "2021-01-10T20:03:14.287606Z"
    }
   },
   "outputs": [
    {
     "data": {
      "text/plain": [
       "104394.99304589708"
      ]
     },
     "execution_count": 20,
     "metadata": {},
     "output_type": "execute_result"
    }
   ],
   "source": [
    "avg_income = df[df[\"income\"] > -1][\"income\"].mean()\n",
    "avg_income"
   ]
  },
  {
   "cell_type": "code",
   "execution_count": 21,
   "metadata": {
    "ExecuteTime": {
     "end_time": "2021-01-10T20:03:14.372245Z",
     "start_time": "2021-01-10T20:03:14.325372Z"
    }
   },
   "outputs": [
    {
     "data": {
      "text/plain": [
       "san francisco, california      5092\n",
       "oakland, california            1551\n",
       "berkeley, california            742\n",
       "san mateo, california           318\n",
       "alameda, california             227\n",
       "                               ... \n",
       "north hollywood, california       1\n",
       "stockton, california              1\n",
       "philadelphia, pennsylvania        1\n",
       "san geronimo, california          1\n",
       "pasadena, california              1\n",
       "Name: location, Length: 102, dtype: int64"
      ]
     },
     "execution_count": 21,
     "metadata": {},
     "output_type": "execute_result"
    }
   ],
   "source": [
    "df[df[\"income\"] > -1][\"location\"].value_counts()"
   ]
  },
  {
   "cell_type": "markdown",
   "metadata": {},
   "source": [
    "Si comparamos el promedio obtenido con la media de ingresos de un ciudadano estadounidense (66.778$) [3], nacionalidad con mayor presencia en nuestro conjunto de datos *(véase el apartado 2.2.11 para ampliar información)* vemos que es algo superior. Probablemente los usuarios de esta aplicación han podido inflar la cifra de sus ingresos para tener un *status* más alto del que en realidad pudieran tener."
   ]
  },
  {
   "cell_type": "code",
   "execution_count": 22,
   "metadata": {
    "ExecuteTime": {
     "end_time": "2021-01-10T20:03:14.409202Z",
     "start_time": "2021-01-10T20:03:14.377947Z"
    }
   },
   "outputs": [
    {
     "data": {
      "text/plain": [
       "150000     631\n",
       "250000     149\n",
       "500000      48\n",
       "1000000    521\n",
       "Name: income, dtype: int64"
      ]
     },
     "execution_count": 22,
     "metadata": {},
     "output_type": "execute_result"
    }
   ],
   "source": [
    "df[df[\"income\"] > avg_income ][\"income\"].value_counts().sort_index()"
   ]
  },
  {
   "cell_type": "markdown",
   "metadata": {},
   "source": [
    "Vemos que hay bastantes registros con ingresos superiores a la media. Los ingresos viene determinados, en general, por la posición laboral en la que se encuentre una persona. Podemos ver a qué se dedican estas personas con salarios tan altos:"
   ]
  },
  {
   "cell_type": "code",
   "execution_count": 23,
   "metadata": {
    "ExecuteTime": {
     "end_time": "2021-01-10T20:03:14.440968Z",
     "start_time": "2021-01-10T20:03:14.409711Z"
    }
   },
   "outputs": [
    {
     "data": {
      "text/plain": [
       "executive / management               178\n",
       "computer / hardware / software       164\n",
       "science / tech / engineering         133\n",
       "artistic / musical / writer          121\n",
       "sales / marketing / biz dev          102\n",
       "other                                 99\n",
       "banking / financial / real estate     89\n",
       "medicine / health                     63\n",
       "student                               58\n",
       "law / legal services                  52\n",
       "entertainment / media                 45\n",
       "education / academia                  41\n",
       "hospitality / travel                  25\n",
       "construction / craftsmanship          21\n",
       "retired                               21\n",
       "rather not say                        17\n",
       "political / government                12\n",
       "transportation                         9\n",
       "unemployed                             8\n",
       "military                               5\n",
       "clerical / administrative              4\n",
       "Name: job, dtype: int64"
      ]
     },
     "execution_count": 23,
     "metadata": {},
     "output_type": "execute_result"
    }
   ],
   "source": [
    "df[df[\"income\"] > avg_income][\"job\"].value_counts()"
   ]
  },
  {
   "cell_type": "markdown",
   "metadata": {},
   "source": [
    "Por lo general parece que la mayoría de registros con ingresos altos se corresponden con personas que tienen puestos de ejecutivo, tecnológicos, científicos, artísticos, sanitarios o en la abogacía.\n",
    "\n",
    "Hay otros que llaman la atención como los jubilados, transportistas y ,sobretodo, desempleados. Los ingresos de estos últimos podrían ser falsos, sin embargo, podríamos deducir que los ingresos no solo vienen determinado por el trabajo, sino también por alquileres, inversiones, ayudas, etc... En definitiva, hay demasiadas variables externas a este contexto y a los datos de los que disponemos como para establecer una línea roja en este sentido que nos derivara a tomar decisiones como la eliminación de registros o la estimación de ingresos."
   ]
  },
  {
   "cell_type": "markdown",
   "metadata": {},
   "source": [
    "### 2.2 Análisis de las variables categóricas"
   ]
  },
  {
   "cell_type": "markdown",
   "metadata": {},
   "source": [
    "#### 2.2.1 Análisis del estado marital"
   ]
  },
  {
   "cell_type": "markdown",
   "metadata": {},
   "source": [
    "El estado marital debería ser una variable categórica simple. Vamos a ver qué posibles valores hay."
   ]
  },
  {
   "cell_type": "code",
   "execution_count": 24,
   "metadata": {
    "ExecuteTime": {
     "end_time": "2021-01-10T20:03:14.472217Z",
     "start_time": "2021-01-10T20:03:14.440968Z"
    }
   },
   "outputs": [
    {
     "data": {
      "text/plain": [
       "single            55697\n",
       "seeing someone     2064\n",
       "available          1865\n",
       "married             310\n",
       "unknown              10\n",
       "Name: status, dtype: int64"
      ]
     },
     "execution_count": 24,
     "metadata": {},
     "output_type": "execute_result"
    }
   ],
   "source": [
    "df[\"status\"].value_counts(dropna=False)"
   ]
  },
  {
   "cell_type": "markdown",
   "metadata": {},
   "source": [
    "Estos posibles estados parecen ser compatibles entre sí. Asumimos que el estado `unknown` significa que el usuario ha preferido no decirlo, no que sea un tipo diferente. Por eso, podremos codificar esta variable como un `one-hot` haciendo que el valor `unknown` sea un vector completo de ceros. Si hubiera valores `nan`, se considerarían igual que `unknown`."
   ]
  },
  {
   "cell_type": "code",
   "execution_count": null,
   "metadata": {},
   "outputs": [],
   "source": []
  },
  {
   "cell_type": "markdown",
   "metadata": {},
   "source": [
    "Parece que no hay valores nulos."
   ]
  },
  {
   "cell_type": "markdown",
   "metadata": {},
   "source": [
    "#### 2.2.2 Análisis del sexo"
   ]
  },
  {
   "cell_type": "code",
   "execution_count": 25,
   "metadata": {
    "ExecuteTime": {
     "end_time": "2021-01-10T20:03:14.503465Z",
     "start_time": "2021-01-10T20:03:14.472217Z"
    }
   },
   "outputs": [
    {
     "data": {
      "text/plain": [
       "m    35829\n",
       "f    24117\n",
       "Name: sex, dtype: int64"
      ]
     },
     "execution_count": 25,
     "metadata": {},
     "output_type": "execute_result"
    }
   ],
   "source": [
    "df[\"sex\"].value_counts(dropna=False)"
   ]
  },
  {
   "cell_type": "markdown",
   "metadata": {},
   "source": [
    "En este caso parece una variable binaria clara. Parece que hay una predominancia de hombres en la aplicación."
   ]
  },
  {
   "cell_type": "markdown",
   "metadata": {},
   "source": [
    "#### 2.2.3 Análisis de la orientación sexual"
   ]
  },
  {
   "cell_type": "code",
   "execution_count": 26,
   "metadata": {
    "ExecuteTime": {
     "end_time": "2021-01-10T20:03:14.525605Z",
     "start_time": "2021-01-10T20:03:14.503465Z"
    }
   },
   "outputs": [
    {
     "data": {
      "text/plain": [
       "straight    51606\n",
       "gay          5573\n",
       "bisexual     2767\n",
       "Name: orientation, dtype: int64"
      ]
     },
     "execution_count": 26,
     "metadata": {},
     "output_type": "execute_result"
    }
   ],
   "source": [
    "df[\"orientation\"].value_counts(dropna=False)"
   ]
  },
  {
   "cell_type": "markdown",
   "metadata": {},
   "source": [
    "La variable `orientation` tiene tres posibles valores. Sin embargo, en lugar de clasificar como un vector `one-hot`, creemos que a efectos de agrupar perfiles similares, podemos convertir esta variable en dos columnas binarias nuevas, `likes_men` y `likes_women`. Nos basamos en la idea de que el tipo `straight` no significa lo mismo si la persona en cuestión es hombre que si es mujer. Un clustering funcionará mejor si realizamos esta conversión."
   ]
  },
  {
   "cell_type": "markdown",
   "metadata": {},
   "source": [
    "#### 2.2.4 Análisis de la complexión corporal"
   ]
  },
  {
   "cell_type": "code",
   "execution_count": 27,
   "metadata": {
    "ExecuteTime": {
     "end_time": "2021-01-10T20:03:14.556852Z",
     "start_time": "2021-01-10T20:03:14.525605Z"
    }
   },
   "outputs": [
    {
     "data": {
      "text/plain": [
       "average           14652\n",
       "fit               12711\n",
       "athletic          11819\n",
       "NaN                5296\n",
       "thin               4711\n",
       "curvy              3924\n",
       "a little extra     2629\n",
       "skinny             1777\n",
       "full figured       1009\n",
       "overweight          444\n",
       "jacked              421\n",
       "used up             355\n",
       "rather not say      198\n",
       "Name: body_type, dtype: int64"
      ]
     },
     "execution_count": 27,
     "metadata": {},
     "output_type": "execute_result"
    }
   ],
   "source": [
    "df[\"body_type\"].value_counts(dropna=False)"
   ]
  },
  {
   "cell_type": "markdown",
   "metadata": {},
   "source": [
    "Hay muchos de estos tipos que podemos agrupar desde el principio. Por ejemplo, `fit` y `athletic`. Como perspectiva alternativa, podemos convertirlo en una o varias escalas ordinales. Por ejemplo, una escala de menor a mayor peso, junto con una escala de menor a mayor proporción de grasa a masa muscular. Si seguimos esta segunda alternativa, el tipo `\"rather not say\"` tendrá que ser considerado `\"average\"`.\n",
    "\n",
    "En cualquiera de los casos, los valores nulos se considerarán iguales a `rather not say`."
   ]
  },
  {
   "cell_type": "markdown",
   "metadata": {},
   "source": [
    "#### 2.2.5 Análisis de la dieta"
   ]
  },
  {
   "cell_type": "code",
   "execution_count": 28,
   "metadata": {
    "ExecuteTime": {
     "end_time": "2021-01-10T20:03:14.588099Z",
     "start_time": "2021-01-10T20:03:14.556852Z"
    }
   },
   "outputs": [
    {
     "data": {
      "text/plain": [
       "NaN                    24395\n",
       "mostly anything        16585\n",
       "anything                6183\n",
       "strictly anything       5113\n",
       "mostly vegetarian       3444\n",
       "mostly other            1007\n",
       "strictly vegetarian      875\n",
       "vegetarian               667\n",
       "strictly other           452\n",
       "mostly vegan             338\n",
       "other                    331\n",
       "strictly vegan           228\n",
       "vegan                    136\n",
       "mostly kosher             86\n",
       "mostly halal              48\n",
       "strictly halal            18\n",
       "strictly kosher           18\n",
       "halal                     11\n",
       "kosher                    11\n",
       "Name: diet, dtype: int64"
      ]
     },
     "execution_count": 28,
     "metadata": {},
     "output_type": "execute_result"
    }
   ],
   "source": [
    "df[\"diet\"].value_counts(dropna=False)"
   ]
  },
  {
   "cell_type": "markdown",
   "metadata": {},
   "source": [
    "Parece que en este caso tenemos tipos de dieta (`anything, vegan, kosher`) con prefijos que muestran lo estricto que son (`mostly, strictly`). Vamos a ver qué tipos hay:"
   ]
  },
  {
   "cell_type": "code",
   "execution_count": 29,
   "metadata": {
    "ExecuteTime": {
     "end_time": "2021-01-10T20:03:14.625543Z",
     "start_time": "2021-01-10T20:03:14.593390Z"
    }
   },
   "outputs": [
    {
     "name": "stdout",
     "output_type": "stream",
     "text": [
      "{'strictly', 'mostly'}\n",
      "{'halal', 'vegan', 'kosher', 'anything', 'other', 'vegetarian'}\n"
     ]
    }
   ],
   "source": [
    "DIET_PREFIXES = set()\n",
    "DIETS = set()\n",
    "for item in filter(lambda x: not pd.isnull(x), df[\"diet\"].unique()):\n",
    "    if \" \" in item:\n",
    "        prefix, diet = tuple(item.split())\n",
    "        DIET_PREFIXES.add(prefix)\n",
    "        DIETS.add(diet)\n",
    "    else:\n",
    "        DIETS.add(item)\n",
    "print(DIET_PREFIXES)\n",
    "print(DIETS)"
   ]
  },
  {
   "cell_type": "markdown",
   "metadata": {},
   "source": [
    "\\# TODO: how to encode this information (for example: vegetarian and vegan should be close)"
   ]
  },
  {
   "cell_type": "markdown",
   "metadata": {},
   "source": [
    "#### 2.2.6 Análisis de la bebida"
   ]
  },
  {
   "cell_type": "code",
   "execution_count": 30,
   "metadata": {
    "ExecuteTime": {
     "end_time": "2021-01-10T20:03:14.656794Z",
     "start_time": "2021-01-10T20:03:14.625543Z"
    }
   },
   "outputs": [
    {
     "data": {
      "text/plain": [
       "socially       41780\n",
       "rarely          5957\n",
       "often           5164\n",
       "not at all      3267\n",
       "NaN             2985\n",
       "very often       471\n",
       "desperately      322\n",
       "Name: drinks, dtype: int64"
      ]
     },
     "execution_count": 30,
     "metadata": {},
     "output_type": "execute_result"
    }
   ],
   "source": [
    "df[\"drinks\"].value_counts(dropna=False)"
   ]
  },
  {
   "cell_type": "markdown",
   "metadata": {},
   "source": [
    "Esto parece un ejemplo claro de variable ordinal. Hay demasiados valores `NaN` como para eliminarlos, pero podremos utilizar un `imputer` para completar los datos que nos faltan."
   ]
  },
  {
   "cell_type": "markdown",
   "metadata": {},
   "source": [
    "#### 2.2.7 Análisis de la toma de drogas"
   ]
  },
  {
   "cell_type": "code",
   "execution_count": 31,
   "metadata": {
    "ExecuteTime": {
     "end_time": "2021-01-10T20:03:14.688039Z",
     "start_time": "2021-01-10T20:03:14.656794Z"
    }
   },
   "outputs": [
    {
     "data": {
      "text/plain": [
       "never        37724\n",
       "NaN          14080\n",
       "sometimes     7732\n",
       "often          410\n",
       "Name: drugs, dtype: int64"
      ]
     },
     "execution_count": 31,
     "metadata": {},
     "output_type": "execute_result"
    }
   ],
   "source": [
    "df[\"drugs\"].value_counts(dropna=False)"
   ]
  },
  {
   "cell_type": "markdown",
   "metadata": {},
   "source": [
    "De nuevo, esto parece ser un ejemplo de variable ordinal. Sin embargo, aquí tenemos una hipótesis que comprobaremos más adelante sobre los valores `NaN`: que los valores `NaN` deberían estar en la escala ordinal entre `never` y `sometimes`, porque son personas que han tomado drogas esporádicamente en el pasado, pero que no quieren decir `sometimes`. "
   ]
  },
  {
   "cell_type": "markdown",
   "metadata": {},
   "source": [
    "\\# TODO: see if we can prove this"
   ]
  },
  {
   "cell_type": "markdown",
   "metadata": {},
   "source": [
    "#### 2.2.8 Análisis de la educación recibida"
   ]
  },
  {
   "cell_type": "code",
   "execution_count": 32,
   "metadata": {
    "ExecuteTime": {
     "end_time": "2021-01-10T20:03:14.725802Z",
     "start_time": "2021-01-10T20:03:14.688039Z"
    }
   },
   "outputs": [
    {
     "data": {
      "text/plain": [
       "graduated from college/university    23959\n",
       "graduated from masters program        8961\n",
       "NaN                                   6628\n",
       "working on college/university         5712\n",
       "working on masters program            1683\n",
       "graduated from two-year college       1531\n",
       "graduated from high school            1428\n",
       "graduated from ph.d program           1272\n",
       "graduated from law school             1122\n",
       "working on two-year college           1074\n",
       "dropped out of college/university      995\n",
       "working on ph.d program                983\n",
       "college/university                     801\n",
       "graduated from space camp              657\n",
       "dropped out of space camp              523\n",
       "graduated from med school              446\n",
       "working on space camp                  445\n",
       "working on law school                  269\n",
       "two-year college                       222\n",
       "working on med school                  212\n",
       "dropped out of two-year college        191\n",
       "dropped out of masters program         140\n",
       "masters program                        136\n",
       "dropped out of ph.d program            127\n",
       "dropped out of high school             102\n",
       "high school                             96\n",
       "working on high school                  87\n",
       "space camp                              58\n",
       "ph.d program                            26\n",
       "law school                              19\n",
       "dropped out of law school               18\n",
       "dropped out of med school               12\n",
       "med school                              11\n",
       "Name: education, dtype: int64"
      ]
     },
     "execution_count": 32,
     "metadata": {},
     "output_type": "execute_result"
    }
   ],
   "source": [
    "df[\"education\"].value_counts(dropna=False)"
   ]
  },
  {
   "cell_type": "markdown",
   "metadata": {},
   "source": [
    "Esto parece otro ejemplo de variables con prefijos. Observando las combinaciones únicas que tenemos, podemos extraer los prefijos:"
   ]
  },
  {
   "cell_type": "code",
   "execution_count": 33,
   "metadata": {
    "ExecuteTime": {
     "end_time": "2021-01-10T20:03:14.757054Z",
     "start_time": "2021-01-10T20:03:14.725802Z"
    }
   },
   "outputs": [
    {
     "name": "stdout",
     "output_type": "stream",
     "text": [
      "{'college/university', 'two-year college', 'masters program', 'high school', 'med school', 'ph.d program', 'space camp', 'law school'}\n"
     ]
    }
   ],
   "source": [
    "EDU_PREFIXES = [\"graduated from\", \"working on\", \"dropped out of\"]\n",
    "EDUCATIONS = set()\n",
    "for item in filter(lambda x: not pd.isnull(x), df[\"education\"].unique()):\n",
    "    for prefix in EDU_PREFIXES:\n",
    "        if prefix in item:\n",
    "            EDUCATIONS.add(item.replace(prefix, \"\").strip())\n",
    "print(EDUCATIONS)"
   ]
  },
  {
   "cell_type": "markdown",
   "metadata": {},
   "source": [
    "#### 2.2.9 Análisis de la etnia"
   ]
  },
  {
   "cell_type": "code",
   "execution_count": 34,
   "metadata": {
    "ExecuteTime": {
     "end_time": "2021-01-10T20:03:14.788298Z",
     "start_time": "2021-01-10T20:03:14.757054Z"
    }
   },
   "outputs": [
    {
     "data": {
      "text/plain": [
       "white                                                                        32831\n",
       "asian                                                                         6134\n",
       "NaN                                                                           5680\n",
       "hispanic / latin                                                              2823\n",
       "black                                                                         2008\n",
       "                                                                             ...  \n",
       "middle eastern, native american, white, other                                    1\n",
       "asian, middle eastern, native american, hispanic / latin, white                  1\n",
       "asian, black, native american, indian, pacific islander, hispanic / latin        1\n",
       "black, native american, indian, white                                            1\n",
       "asian, middle eastern, indian, hispanic / latin                                  1\n",
       "Name: ethnicity, Length: 218, dtype: int64"
      ]
     },
     "execution_count": 34,
     "metadata": {},
     "output_type": "execute_result"
    }
   ],
   "source": [
    "df[\"ethnicity\"].value_counts(dropna=False)"
   ]
  },
  {
   "cell_type": "markdown",
   "metadata": {},
   "source": [
    "Este parece un caso en el que tenemos etnias únicas separadas por comas. Podemos extraer los valores únicos separando por las comas."
   ]
  },
  {
   "cell_type": "code",
   "execution_count": 35,
   "metadata": {
    "ExecuteTime": {
     "end_time": "2021-01-10T20:03:14.826060Z",
     "start_time": "2021-01-10T20:03:14.788298Z"
    }
   },
   "outputs": [
    {
     "name": "stdout",
     "output_type": "stream",
     "text": [
      "{nan, 'white', 'asian', 'indian', 'middle eastern', 'hispanic / latin', 'other', 'black', 'pacific islander', 'native american'}\n"
     ]
    }
   ],
   "source": [
    "ETHNICITIES = set()\n",
    "for item in df[\"ethnicity\"].unique():\n",
    "    if pd.isnull(item) or not \",\" in item:\n",
    "        ETHNICITIES.add(item)\n",
    "    else:\n",
    "        for unique_value in item.split(\",\"):\n",
    "            ETHNICITIES.add(unique_value.strip())\n",
    "print(ETHNICITIES)"
   ]
  },
  {
   "cell_type": "markdown",
   "metadata": {},
   "source": [
    "En este caso, podemos plantearnos codificar la etnicidad de una persona como un vector que tenga una variable por etnia y un valor que represente el porcentaje que se pertenece a dicha etnicidad, asumiendo igual proporción de las etnicidades que el usuario suministre al sistema. Por ejemplo, una persona de ascendencia asiática tendrá un 1 en la columna de etnicidad asiática y 0 en el resto (como al hacer un one-hot encoding), mientras que alguien biracial de etnias caucásica y africana tendrá 0.5 en estas dos categorías y 0 en el resto. Vamos a mirar cuál es el número de etnicidades que la gente aporta al sistema en general:"
   ]
  },
  {
   "cell_type": "code",
   "execution_count": 36,
   "metadata": {
    "ExecuteTime": {
     "end_time": "2021-01-10T20:03:14.973193Z",
     "start_time": "2021-01-10T20:03:14.826060Z"
    }
   },
   "outputs": [
    {
     "name": "stdout",
     "output_type": "stream",
     "text": [
      "Media: 1.0588863310312615\n",
      "Q1: 1.0\n",
      "Mediana: 1.0\n",
      "Q3: 1.0\n",
      "P95: 2.0\n",
      "Moda: 1\n",
      "Máximo: 9\n"
     ]
    }
   ],
   "source": [
    "ethnicity_counts = df[\"ethnicity\"].apply(lambda x: x.count(\",\") + 1 if not pd.isnull(x) else 0)\n",
    "print(f\"Media: {ethnicity_counts.mean()}\")\n",
    "print(f\"Q1: {ethnicity_counts.quantile(0.25)}\")\n",
    "print(f\"Mediana: {ethnicity_counts.median()}\")\n",
    "print(f\"Q3: {ethnicity_counts.quantile(0.75)}\")\n",
    "print(f\"P95: {ethnicity_counts.quantile(0.95)}\")\n",
    "print(f\"Moda: {ethnicity_counts.mode().iloc[0]}\")\n",
    "print(f\"Máximo: {ethnicity_counts.max()}\")"
   ]
  },
  {
   "cell_type": "markdown",
   "metadata": {},
   "source": [
    "La mayoría de usuarios han dado una sola etnicidad. Sin embargo, algunos han llegado a dar 9. Esto nos dará problemas, porque si seguimos nuestra codificación habrá vectores en los que el valor será $\\frac{1}{9}$, un valor minúsculo. Si asumimos que las etnicidades se han proporcionado al programa en orden de prioridad, podemos quedarnos con las tres o cuatro más relevantes cogiendo las tres o cuatro primeras. Vamos a ver si es posible que se hayan proporcionado en orden de prioridad."
   ]
  },
  {
   "cell_type": "code",
   "execution_count": 37,
   "metadata": {
    "ExecuteTime": {
     "end_time": "2021-01-10T20:03:15.142088Z",
     "start_time": "2021-01-10T20:03:14.973193Z"
    }
   },
   "outputs": [
    {
     "data": {
      "text/plain": [
       "False"
      ]
     },
     "execution_count": 37,
     "metadata": {},
     "output_type": "execute_result"
    }
   ],
   "source": [
    "all(df[\"ethnicity\"].apply(lambda x: x.split() == sorted(x.split()) if not pd.isnull(x) else True))"
   ]
  },
  {
   "cell_type": "markdown",
   "metadata": {},
   "source": [
    "De aquí sacamos que el orden no es alfabético, lo cual nos indica que lo más probable es que estén ordenados por prioridad. No podemos estar seguros, pero todo indica a que este es el caso. Por eso, utilizaremos sólo las tres primeras etnicidades que el usuario proporcione."
   ]
  },
  {
   "cell_type": "markdown",
   "metadata": {},
   "source": [
    "#### 2.2.10 Análisis de la ocupación laboral"
   ]
  },
  {
   "cell_type": "code",
   "execution_count": 38,
   "metadata": {
    "ExecuteTime": {
     "end_time": "2021-01-10T20:03:15.690288Z",
     "start_time": "2021-01-10T20:03:15.142088Z"
    }
   },
   "outputs": [
    {
     "data": {
      "image/png": "[encoded data removed]",
      "text/plain": [
       "<Figure size 1440x576 with 1 Axes>"
      ]
     },
     "metadata": {},
     "output_type": "display_data"
    }
   ],
   "source": [
    "plt.figure(figsize=(20, 8))\n",
    "plt.pie(df[\"job\"].value_counts(), labels=df[\"job\"].value_counts().keys(), autopct=\"%1.1f%%\")\n",
    "plt.show()"
   ]
  },
  {
   "cell_type": "markdown",
   "metadata": {},
   "source": [
    "Parece que este es un caso claro de variable categórica sin más. Quizás fuera beneficioso mezclar algunos campos, como los de `science` con `academia` o `computer/hardware/software` con `tech`. Sin embargo, como los campos ya vienen mezclados, no se puede hacer una conversión así. En este caso no daremos un tratamiento especial a `other`, sino que lo consideraremos un tipo más en el one-hot."
   ]
  },
  {
   "cell_type": "markdown",
   "metadata": {},
   "source": [
    "\\# TODO: justify why one-hot to other"
   ]
  },
  {
   "cell_type": "markdown",
   "metadata": {},
   "source": [
    "#### 2.2.11 Análisis de la localización geográfica"
   ]
  },
  {
   "cell_type": "code",
   "execution_count": 39,
   "metadata": {
    "ExecuteTime": {
     "end_time": "2021-01-10T20:03:15.728049Z",
     "start_time": "2021-01-10T20:03:15.690288Z"
    },
    "scrolled": true
   },
   "outputs": [
    {
     "data": {
      "text/plain": [
       "san francisco, california    31064\n",
       "oakland, california           7214\n",
       "berkeley, california          4212\n",
       "san mateo, california         1331\n",
       "palo alto, california         1064\n",
       "                             ...  \n",
       "cork, ireland                    1\n",
       "lake orion, michigan             1\n",
       "olema, california                1\n",
       "sunnyvale, california            1\n",
       "costa mesa, california           1\n",
       "Name: location, Length: 199, dtype: int64"
      ]
     },
     "execution_count": 39,
     "metadata": {},
     "output_type": "execute_result"
    }
   ],
   "source": [
    "df[\"location\"].value_counts(dropna=False)"
   ]
  },
  {
   "cell_type": "markdown",
   "metadata": {},
   "source": [
    "Lo primero es ver si hay valores nulos."
   ]
  },
  {
   "cell_type": "code",
   "execution_count": 40,
   "metadata": {
    "ExecuteTime": {
     "end_time": "2021-01-10T20:03:15.759294Z",
     "start_time": "2021-01-10T20:03:15.728049Z"
    }
   },
   "outputs": [
    {
     "data": {
      "text/plain": [
       "False"
      ]
     },
     "execution_count": 40,
     "metadata": {},
     "output_type": "execute_result"
    }
   ],
   "source": [
    "any(df[\"location\"].isnull())"
   ]
  },
  {
   "cell_type": "markdown",
   "metadata": {
    "ExecuteTime": {
     "end_time": "2020-12-19T11:46:22.562118Z",
     "start_time": "2020-12-19T11:46:22.553135Z"
    }
   },
   "source": [
    "Parece que todas las localizaciones siguen la forma [ciudad], [estado]. Debemos comprobar si es el caso para todos."
   ]
  },
  {
   "cell_type": "code",
   "execution_count": 41,
   "metadata": {
    "ExecuteTime": {
     "end_time": "2021-01-10T20:03:15.828304Z",
     "start_time": "2021-01-10T20:03:15.759294Z"
    }
   },
   "outputs": [
    {
     "data": {
      "text/plain": [
       "False"
      ]
     },
     "execution_count": 41,
     "metadata": {},
     "output_type": "execute_result"
    }
   ],
   "source": [
    "all(df[\"location\"].apply(lambda x: x.count(\",\") == 1))"
   ]
  },
  {
   "cell_type": "code",
   "execution_count": 42,
   "metadata": {
    "ExecuteTime": {
     "end_time": "2021-01-10T20:03:15.890798Z",
     "start_time": "2021-01-10T20:03:15.828304Z"
    }
   },
   "outputs": [
    {
     "data": {
      "text/plain": [
       "42438    vancouver, british columbia, canada\n",
       "Name: location, dtype: object"
      ]
     },
     "execution_count": 42,
     "metadata": {},
     "output_type": "execute_result"
    }
   ],
   "source": [
    "df[\"location\"][df[\"location\"].apply(lambda x: x.count(\",\") != 1)]"
   ]
  },
  {
   "cell_type": "markdown",
   "metadata": {},
   "source": [
    "Sólo el caso de una sóla fila de un usuario de Vancouver tiene tres partes. Esto es porque Canadá tiene estados. En general, el formato [ciudad], [estado] parece cumplirse siempre, siendo [ciudad], [país] si no hablamos de Estados Unidos."
   ]
  },
  {
   "cell_type": "code",
   "execution_count": 43,
   "metadata": {
    "ExecuteTime": {
     "end_time": "2021-01-10T20:03:15.959827Z",
     "start_time": "2021-01-10T20:03:15.890798Z"
    }
   },
   "outputs": [],
   "source": [
    "vancouver = df[\"location\"][df[\"location\"].apply(lambda x: x.count(\",\") != 1)]\n",
    "assert len(vancouver) == 1\n",
    "vancouver_id = vancouver.index[0]\n",
    "\n",
    "df.at[vancouver_id, \"location\"] = \"vancouver, canada\""
   ]
  },
  {
   "cell_type": "code",
   "execution_count": 44,
   "metadata": {
    "ExecuteTime": {
     "end_time": "2021-01-10T20:03:16.028839Z",
     "start_time": "2021-01-10T20:03:15.959827Z"
    }
   },
   "outputs": [
    {
     "data": {
      "text/plain": [
       "True"
      ]
     },
     "execution_count": 44,
     "metadata": {},
     "output_type": "execute_result"
    }
   ],
   "source": [
    "all(df[\"location\"].apply(lambda x: x.count(\",\") == 1))"
   ]
  },
  {
   "cell_type": "markdown",
   "metadata": {},
   "source": [
    "Ahora que parece que todo está en el mismo formato, vamos a codificar la localización en latitud y longitud. Para ello utilizaremos la clase [`Nominatim`](https://geopy.readthedocs.io/en/stable/#nominatim) de `geopy`."
   ]
  },
  {
   "cell_type": "code",
   "execution_count": 45,
   "metadata": {
    "ExecuteTime": {
     "end_time": "2021-01-10T20:04:55.479325Z",
     "start_time": "2021-01-10T20:03:16.028839Z"
    }
   },
   "outputs": [
    {
     "name": "stdout",
     "output_type": "stream",
     "text": [
      "south san francisco, california 37.6535403 -122.4168664\n",
      "oakland, california 37.8044557 -122.2713563\n",
      "san francisco, california 37.7790262 -122.4199061\n",
      "berkeley, california 37.8708393 -122.2728639\n",
      "belvedere tiburon, california 37.8771208 -122.4616696\n"
     ]
    }
   ],
   "source": [
    "from geopy.geocoders import Nominatim\n",
    "geolocator = Nominatim(user_agent='myapplication')\n",
    "\n",
    "Coordinates = namedtuple(\"Coordinates\", (\"latitude\", \"longitude\"))\n",
    "\n",
    "def get_coordinates(loc):\n",
    "    city, state = loc.title().split(\",\")\n",
    "    geocode = geolocator.geocode(f\"{city} {state}\")\n",
    "    return Coordinates(geocode.latitude, geocode.longitude)\n",
    "    \n",
    "COORDINATES_DICT = {}\n",
    "for location in df[\"location\"].unique():\n",
    "    COORDINATES_DICT[location] = get_coordinates(location)\n",
    "    \n",
    "for location in df[\"location\"].unique()[:5]:\n",
    "    print(location, COORDINATES_DICT[location].latitude, COORDINATES_DICT[location].longitude)"
   ]
  },
  {
   "cell_type": "markdown",
   "metadata": {},
   "source": [
    "Para asegurarnos de que no hay errores, en lugar de ir comprobando los datos uno a uno podemos simplemente mostrar una imagen con las localizaciones en un mapa. Utilizamos una escala logarítmica para visualizar bien las diferencias entre puntos."
   ]
  },
  {
   "cell_type": "code",
   "execution_count": 46,
   "metadata": {
    "ExecuteTime": {
     "end_time": "2021-01-10T20:04:55.510540Z",
     "start_time": "2021-01-10T20:04:55.479325Z"
    }
   },
   "outputs": [
    {
     "ename": "SyntaxError",
     "evalue": "keyword can't be an expression (<ipython-input-46-b83f31d2db5e>, line 9)",
     "output_type": "error",
     "traceback": [
      "\u001b[1;36m  File \u001b[1;32m\"<ipython-input-46-b83f31d2db5e>\"\u001b[1;36m, line \u001b[1;32m9\u001b[0m\n\u001b[1;33m    ax.set_title(\"OkCupid user locations\". fontdict={\"size\": 24, \"family\": \"Consolas\"})\u001b[0m\n\u001b[1;37m                ^\u001b[0m\n\u001b[1;31mSyntaxError\u001b[0m\u001b[1;31m:\u001b[0m keyword can't be an expression\n"
     ]
    }
   ],
   "source": [
    "geometry = [shapely.geometry.Point(lon, lat) for lat, lon in COORDINATES_DICT.values()]\n",
    "world = gpd.read_file(gpd.datasets.get_path(\"naturalearth_lowres\"))\n",
    "\n",
    "locations = gpd.GeoDataFrame({\"location\": COORDINATES_DICT.keys()}, geometry=geometry)\n",
    "counts = df[\"location\"].value_counts()\n",
    "locations[\"count\"] = [counts.loc[x] for x in COORDINATES_DICT.keys()]\n",
    "\n",
    "fig, ax = plt.subplots(figsize=(30, 8))\n",
    "ax.set_title(\"OkCupid user locations\". fontdict={\"size\": 24, \"family\": \"Consolas\"})\n",
    "world.plot(ax=ax, color=\"darkcyan\", alpha=0.4)\n",
    "scale = locations[\"count\"]\n",
    "locations.plot(ax=ax, alpha=0.7, edgecolor=\"white\", linewidth=0.5, markersize=200/scale, c=scale, cmap=\"rocket_r\")\n",
    "mappable = ScalarMappable(cmap=\"rocket_r\", norm=LogNorm())\n",
    "mappable.set_array(scale.to_numpy())\n",
    "plt.colorbar(mappable=mappable, ax=ax)\n",
    "plt.show()"
   ]
  },
  {
   "cell_type": "markdown",
   "metadata": {},
   "source": [
    "Ahora tenemos las coordenadas de cada persona y sabemos que la codificación es correcta. Vamos a preparar un transformador que convertirá una localización en un array de coordenadas."
   ]
  },
  {
   "cell_type": "code",
   "execution_count": null,
   "metadata": {
    "ExecuteTime": {
     "end_time": "2021-01-10T20:04:55.526163Z",
     "start_time": "2021-01-10T20:03:01.271Z"
    }
   },
   "outputs": [],
   "source": [
    "def string_to_tuple_transformer(transformer_dict):\n",
    "    \n",
    "    def _transformer(X, transformer_dict_inner):\n",
    "        assert len(X.shape) == 2\n",
    "        X = X[:, 0]\n",
    "        \n",
    "        output_shape = len(list(transformer_dict_inner.values())[0])\n",
    "        assert all([len(x) == output_shape for x in transformer_dict_inner.values()])\n",
    "        \n",
    "        ret = np.zeros((len(X), output_shape), dtype=float)\n",
    "        for i in range(len(X)):\n",
    "            row = []\n",
    "            for j in range(output_shape):\n",
    "                row.append(transformer_dict_inner[X[i]][j])\n",
    "            ret[i] = np.array(row)\n",
    "            \n",
    "        return ret\n",
    "    \n",
    "    return FunctionTransformer(lambda param: _transformer(param, transformer_dict))"
   ]
  },
  {
   "cell_type": "code",
   "execution_count": null,
   "metadata": {
    "ExecuteTime": {
     "end_time": "2021-01-10T20:04:55.526163Z",
     "start_time": "2021-01-10T20:03:01.281Z"
    }
   },
   "outputs": [],
   "source": [
    "string_to_tuple_transformer(PET_STATUS_DICT)"
   ]
  },
  {
   "cell_type": "markdown",
   "metadata": {},
   "source": [
    "#### 2.2.12 Análisis de los hijos"
   ]
  },
  {
   "cell_type": "code",
   "execution_count": null,
   "metadata": {
    "ExecuteTime": {
     "end_time": "2021-01-10T20:04:55.541764Z",
     "start_time": "2021-01-10T20:03:01.293Z"
    }
   },
   "outputs": [],
   "source": [
    "df[\"offspring\"].value_counts(dropna=False)"
   ]
  },
  {
   "cell_type": "markdown",
   "metadata": {},
   "source": [
    "En este caso, podemos definir esta variable en dos columnas, `has_kids` y `wants_kids`. Podemos definir 0 si no quiere o tiene hijos, 1 si tiene o quiere hijos y 0.5 si no lo sabe, no lo tiene claro o no ha contestado. Esto nos va a permitir unificar bastante bien todos los tipos que aparecen, ya que en muchos de ellos hay colisiones.\n",
    "\n",
    "Para evitar hacer procesamiento del lenguaje natural, que es completamente innecesario en este caso, podemos simplemente indicar el valor de `wants_kids` y `has_kids` para cada posible entrada de `offspring`. Haremos las siguientes asunciones:\n",
    "\n",
    "- Si el usuario indica que quiere hijos o que podría quererlos en el futuro sin indicar nada más, asumimos que no tiene.\n",
    "- Si el usuario indica que no quiere hijos sin indicar si los tiene, asumimos que no los tiene.\n",
    "- Los casos de tener un hijo o tener varios son indistinguibles (la diferencia que nos interesa para el clustering es si tiene alguno o no)."
   ]
  },
  {
   "cell_type": "code",
   "execution_count": null,
   "metadata": {
    "ExecuteTime": {
     "end_time": "2021-01-10T20:04:55.541764Z",
     "start_time": "2021-01-10T20:03:01.302Z"
    }
   },
   "outputs": [],
   "source": [
    "ChildStatus = namedtuple(\"ChildStatus\", (\"has\", \"wants\"))\n",
    "\n",
    "CHILD_STATUS_DICT = {}\n",
    "CHILD_STATUS_DICT[np.nan] = ChildStatus(0.5, 0.5)\n",
    "CHILD_STATUS_DICT[\"doesn't have kids\"] = ChildStatus(0, 0.5)\n",
    "CHILD_STATUS_DICT[\"doesn't have kids, but might want them\"] = ChildStatus(0, 0.5)\n",
    "CHILD_STATUS_DICT[\"doesn't have kids, but wants them\"] = ChildStatus(0, 1)\n",
    "CHILD_STATUS_DICT[\"doesn't want kids\"] = ChildStatus(0, 0)  # Assume person does not have kids either\n",
    "CHILD_STATUS_DICT[\"has kids\"] = ChildStatus(1, 0.5)\n",
    "CHILD_STATUS_DICT[\"has a kid\"] = ChildStatus(1, 0.5)\n",
    "CHILD_STATUS_DICT[\"doesn't have kids, and doesn't want any\"] = ChildStatus(0, 0)\n",
    "CHILD_STATUS_DICT[\"has kids, but doesn't want more\"] = ChildStatus(1, 0)\n",
    "CHILD_STATUS_DICT[\"has a kid, but doesn't want more\"] = ChildStatus(1, 0)\n",
    "CHILD_STATUS_DICT[\"has a kid, and might want more\"] = ChildStatus(1, 0.5)\n",
    "CHILD_STATUS_DICT[\"wants kids\"] = ChildStatus(0, 1)  # Assume person does not have kids already\n",
    "CHILD_STATUS_DICT[\"might want kids\"] = ChildStatus(1, 0.5)  # Assume person does not have kids already\n",
    "CHILD_STATUS_DICT[\"has kids, and might want more\"] = ChildStatus(1, 0.5)\n",
    "CHILD_STATUS_DICT[\"has a kid, and wants more\"] = ChildStatus(1, 1)\n",
    "CHILD_STATUS_DICT[\"has kids, and wants more\"] = ChildStatus(1, 1)"
   ]
  },
  {
   "cell_type": "markdown",
   "metadata": {},
   "source": [
    "Una vez tenemos listo este diccionario, generamos un transformador para el preprocesamiento."
   ]
  },
  {
   "cell_type": "code",
   "execution_count": null,
   "metadata": {
    "ExecuteTime": {
     "end_time": "2021-01-10T20:04:55.541764Z",
     "start_time": "2021-01-10T20:03:01.312Z"
    }
   },
   "outputs": [],
   "source": [
    "def transform_child_status(X):\n",
    "    assert len(X.shape) == 2\n",
    "    row = X[:, 0]\n",
    "    ret = np.zeros((len(row), 2), dtype=float)\n",
    "    for i in range(len(row)):\n",
    "        ret[i] = np.array([\n",
    "            CHILD_STATUS_DICT[row[i]].has, CHILD_STATUS_DICT[row[i]].wants\n",
    "        ])\n",
    "    return ret\n",
    "\n",
    "child_status_transformer = FunctionTransformer(transform_child_status)"
   ]
  },
  {
   "cell_type": "markdown",
   "metadata": {},
   "source": [
    "#### 2.2.13 Análisis de las mascotas"
   ]
  },
  {
   "cell_type": "code",
   "execution_count": null,
   "metadata": {
    "ExecuteTime": {
     "end_time": "2021-01-10T20:04:55.548273Z",
     "start_time": "2021-01-10T20:03:01.322Z"
    }
   },
   "outputs": [],
   "source": [
    "df[\"pets\"].value_counts(dropna=False)"
   ]
  },
  {
   "cell_type": "markdown",
   "metadata": {},
   "source": [
    "En este caso podemos utilizar dos columnas: `likes_dogs` y `likes_cats`. Tendrían un valor 1 si el usuario indica que le gustan los perros o gatos, -1 si indica que no le gustan, y 0 si no indica nada o le es indiferente. \n",
    "\n",
    "Con respecto a los usuarios que indican que tienen perros o gatos, vamos a indicar un valor 2 en las columnas `likes_dogs` y `likes_cats`"
   ]
  },
  {
   "cell_type": "code",
   "execution_count": null,
   "metadata": {
    "ExecuteTime": {
     "end_time": "2021-01-10T20:04:55.548273Z",
     "start_time": "2021-01-10T20:03:01.333Z"
    }
   },
   "outputs": [],
   "source": [
    "PetStatus = namedtuple(\"PetStatus\", (\"dogs\", \"cats\"))\n",
    "\n",
    "def get_pet_status(string):\n",
    "    dog_status = 0\n",
    "    cat_status = 0\n",
    "    if string is not np.nan:\n",
    "        if \"dislikes dogs\" in string:\n",
    "            dog_status = -1\n",
    "        elif \"has dogs\" in string:\n",
    "            dog_status = 2\n",
    "        elif \"likes dogs\" in string:\n",
    "            dog_status = 1\n",
    "            \n",
    "        if \"dislikes cats\" in string:\n",
    "            cat_status = -1\n",
    "        elif \"has cats\" in string:\n",
    "            cat_status = 2\n",
    "        elif \"likes cats\" in string:\n",
    "            cat_status = 1\n",
    "    \n",
    "    return PetStatus(dog_status, cat_status)\n",
    "            \n",
    "\n",
    "PET_STATUS_DICT = {}\n",
    "for item in df[\"pets\"].unique():\n",
    "    PET_STATUS_DICT[item] = get_pet_status(item)"
   ]
  },
  {
   "cell_type": "markdown",
   "metadata": {},
   "source": [
    "Con un diccionario que mapea las mascotas a los estados posibles, generamos el transformador."
   ]
  },
  {
   "cell_type": "code",
   "execution_count": null,
   "metadata": {
    "ExecuteTime": {
     "end_time": "2021-01-10T20:04:55.548273Z",
     "start_time": "2021-01-10T20:03:01.346Z"
    }
   },
   "outputs": [],
   "source": [
    "def transform_pet_status(X):\n",
    "    assert len(X.shape) == 2\n",
    "    row = X[:, 0]\n",
    "    ret = np.zeros((len(row), 2), dtype=float)\n",
    "    for i in range(len(row)):\n",
    "        ret[i] = np.array([\n",
    "            PET_STATUS_DICT[row[i]].dogs, PET_STATUS_DICT[row[i]].cats\n",
    "        ])\n",
    "    return ret\n",
    "\n",
    "pet_status_transformer = FunctionTransformer(transform_pet_status)"
   ]
  },
  {
   "cell_type": "markdown",
   "metadata": {},
   "source": [
    "#### 2.2.14 Análisis de la religión"
   ]
  },
  {
   "cell_type": "code",
   "execution_count": null,
   "metadata": {
    "ExecuteTime": {
     "end_time": "2021-01-10T20:04:55.548273Z",
     "start_time": "2021-01-10T20:03:01.357Z"
    }
   },
   "outputs": [],
   "source": [
    "df[\"religion\"].value_counts(dropna=False)"
   ]
  },
  {
   "cell_type": "markdown",
   "metadata": {},
   "source": [
    "Esto parece un caso similar al que teníamos con las dietas, sólo que con sufijos en lugar de prefijos. Podemos ver que el número de sufijos es limitado, así que podemos sacar las religiones como tal:"
   ]
  },
  {
   "cell_type": "code",
   "execution_count": null,
   "metadata": {
    "ExecuteTime": {
     "end_time": "2021-01-10T20:04:55.548273Z",
     "start_time": "2021-01-10T20:03:01.368Z"
    }
   },
   "outputs": [],
   "source": [
    "RELIGION_SUFFIXES = [\n",
    "    \"but not too serious about it\", \"and laughing about it\",\n",
    "    \"and very serious about it\", \"and somewhat serious about it\"\n",
    "]\n",
    "\n",
    "RELIGIONS = set()\n",
    "for religion in df[\"religion\"].dropna().unique():\n",
    "    for suffix in RELIGION_SUFFIXES:\n",
    "        if suffix in religion:\n",
    "            RELIGIONS.add(religion.replace(suffix, \"\").strip())\n",
    "print(RELIGIONS)"
   ]
  },
  {
   "cell_type": "markdown",
   "metadata": {},
   "source": [
    "Inputs:\n",
    "\n",
    "- Categories dict \n",
    "    - Key: category\n",
    "    - Value: Index pos\n",
    "    \n",
    "- Affixes dict\n",
    "    - Key: affix\n",
    "    - Value: Importance num\n",
    "    - If NULL: importance 0-1\n",
    "    \n",
    "Outputs:\n",
    "\n",
    "- ArrayEncoding of categorical value"
   ]
  },
  {
   "cell_type": "code",
   "execution_count": null,
   "metadata": {
    "ExecuteTime": {
     "end_time": "2021-01-10T20:04:55.548273Z",
     "start_time": "2021-01-10T20:03:01.379Z"
    }
   },
   "outputs": [],
   "source": [
    "from sklearn.preprocessing import OneHotEncoder\n",
    "from sklearn.utils.validation import check_is_fitted\n",
    "class CategoricalArrayEncoder(OneHotEncoder):\n",
    "    \"\"\"\n",
    "    Encode a categorical variable in an array.\n",
    "    \"\"\"\n",
    "    def __init__(self, categories_dict=None, affixes_dict=None, output_length=None, handle_unknown=\"ignore\"):\n",
    "        super().__init__(handle_unknown=handle_unknown)\n",
    "        \n",
    "        self.categories_dict = categories_dict\n",
    "        self.affixes_dict = affixes_dict\n",
    "        self.output_length = output_length\n",
    "        self.handle_unknown = handle_unknown\n",
    "        \n",
    "        self.one_hot = categories_dict is None\n",
    "        \n",
    "        \n",
    "\n",
    "    def _get_unique(self, X):\n",
    "        unique = set()\n",
    "        for instance in X:\n",
    "            unique |= set(np.unique(instance))\n",
    "        return unique\n",
    "        \n",
    "        \n",
    "    def fit(self, X, y=None):\n",
    "        if self.one_hot:\n",
    "            super().fit(X)\n",
    "            return self\n",
    "        \n",
    "        self.categories = [key for key in self.categories_dict.keys()]\n",
    "        if self.handle_unknown != \"ignore\" and any([x not in self.categories for x in X]):\n",
    "            raise ValueError(\"One of the categories provided is not in categories_dict\")\n",
    "\n",
    "        \n",
    "        \n",
    "    X = [\n",
    "        [\"cat1\", \"cat3\"],\n",
    "        \"cat3\",\n",
    "        \"cat1\",\n",
    "        \"cat2\"\n",
    "    ]\n",
    "    \n",
    "    def transform(self, X):\n",
    "        check_is_fitted(self)\n",
    "        if self.one_hot:\n",
    "            return super().transform(X).toarray()\n",
    "            \n",
    "            \n",
    "        "
   ]
  },
  {
   "cell_type": "code",
   "execution_count": null,
   "metadata": {
    "ExecuteTime": {
     "end_time": "2021-01-10T20:04:55.548273Z",
     "start_time": "2021-01-10T20:03:01.388Z"
    }
   },
   "outputs": [],
   "source": [
    "CategoricalArrayEncoder()._get_unique(np.array([[1, 3, 2], [2, 6, 2]]))"
   ]
  },
  {
   "cell_type": "code",
   "execution_count": null,
   "metadata": {
    "ExecuteTime": {
     "end_time": "2021-01-10T20:04:55.563905Z",
     "start_time": "2021-01-10T20:03:01.396Z"
    }
   },
   "outputs": [],
   "source": [
    "CategoricalArrayEncoder().fit_transform(np.array([\"m\", \"f\", \"f\", \"m\", \"m\"]).reshape(-1, 1))"
   ]
  },
  {
   "cell_type": "markdown",
   "metadata": {},
   "source": [
    "\\# TODO: how to encode this"
   ]
  },
  {
   "cell_type": "markdown",
   "metadata": {},
   "source": [
    "#### 2.2.15 Análisis del signo del zodiaco"
   ]
  },
  {
   "cell_type": "code",
   "execution_count": null,
   "metadata": {
    "ExecuteTime": {
     "end_time": "2021-01-10T20:04:55.563905Z",
     "start_time": "2021-01-10T20:03:01.409Z"
    }
   },
   "outputs": [],
   "source": [
    "df[\"sign\"].value_counts(dropna=False)"
   ]
  },
  {
   "cell_type": "markdown",
   "metadata": {},
   "source": [
    "\\# TODO: how to encode this"
   ]
  },
  {
   "cell_type": "markdown",
   "metadata": {},
   "source": [
    "#### 2.2.16 Análisis de fumador / no fumador"
   ]
  },
  {
   "cell_type": "code",
   "execution_count": null,
   "metadata": {
    "ExecuteTime": {
     "end_time": "2021-01-10T20:04:55.563905Z",
     "start_time": "2021-01-10T20:03:01.422Z"
    }
   },
   "outputs": [],
   "source": [
    "df[\"smokes\"].value_counts(dropna=False)"
   ]
  },
  {
   "cell_type": "markdown",
   "metadata": {},
   "source": [
    "\\# TODO: how to encode this"
   ]
  },
  {
   "cell_type": "markdown",
   "metadata": {},
   "source": [
    "#### 2.2.17 Análisis de los idiomas hablados"
   ]
  },
  {
   "cell_type": "code",
   "execution_count": null,
   "metadata": {
    "ExecuteTime": {
     "end_time": "2021-01-10T20:04:55.563905Z",
     "start_time": "2021-01-10T20:03:01.436Z"
    }
   },
   "outputs": [],
   "source": [
    "df[\"speaks\"].value_counts(dropna=False)"
   ]
  },
  {
   "cell_type": "markdown",
   "metadata": {},
   "source": [
    "Parece que estamos ante un caso similar al de la etnicidad, con valores únicos separados por comas. Sin embargo, esto tiene un añadido en el nivel de habilidad con el idioma entre paréntesis. Lo primero que queremos saber si hay valores nulos."
   ]
  },
  {
   "cell_type": "code",
   "execution_count": null,
   "metadata": {
    "ExecuteTime": {
     "end_time": "2021-01-10T20:04:55.563905Z",
     "start_time": "2021-01-10T20:03:01.446Z"
    }
   },
   "outputs": [],
   "source": [
    "any(df[\"speaks\"].isnull())"
   ]
  },
  {
   "cell_type": "code",
   "execution_count": null,
   "metadata": {
    "ExecuteTime": {
     "end_time": "2021-01-10T20:04:55.563905Z",
     "start_time": "2021-01-10T20:03:01.456Z"
    }
   },
   "outputs": [],
   "source": [
    "len(df[\"speaks\"][df[\"speaks\"].isnull()])"
   ]
  },
  {
   "cell_type": "markdown",
   "metadata": {},
   "source": [
    "Ya que el idioma es una parte fundamental a la hora de categorizar perfiles, no creemos que sea buena idea rellenar estos valores nulos con nada. Lo mejor será eliminar estas filas. Son relativamente pocas, así que no es un gran coste."
   ]
  },
  {
   "cell_type": "code",
   "execution_count": null,
   "metadata": {
    "ExecuteTime": {
     "end_time": "2021-01-10T20:04:55.563905Z",
     "start_time": "2021-01-10T20:03:01.465Z"
    }
   },
   "outputs": [],
   "source": [
    "df.drop(df[df[\"speaks\"].isnull()].index, inplace=True)"
   ]
  },
  {
   "cell_type": "markdown",
   "metadata": {},
   "source": [
    "Lo siguiente será analizar qué idiomas aparecen en los datos."
   ]
  },
  {
   "cell_type": "code",
   "execution_count": null,
   "metadata": {
    "ExecuteTime": {
     "end_time": "2021-01-10T20:04:55.579529Z",
     "start_time": "2021-01-10T20:03:01.477Z"
    }
   },
   "outputs": [],
   "source": [
    "LANGUAGES = set()\n",
    "for item in df[\"speaks\"]:\n",
    "    user_languages = item.split(\",\")\n",
    "    for user_language in user_languages:\n",
    "        LANGUAGES.add(user_language.split(\"(\")[0].strip())\n",
    "print(LANGUAGES)"
   ]
  },
  {
   "cell_type": "markdown",
   "metadata": {},
   "source": [
    "Por último, vamos a ver qué niveles de habilidad con el idioma encontramos en los datos."
   ]
  },
  {
   "cell_type": "code",
   "execution_count": null,
   "metadata": {
    "ExecuteTime": {
     "end_time": "2021-01-10T20:04:55.579529Z",
     "start_time": "2021-01-10T20:03:01.487Z"
    }
   },
   "outputs": [],
   "source": [
    "LANGUAGE_FLUENCIES = set()\n",
    "for item in df[\"speaks\"]:\n",
    "    user_languages = item.split(\",\")\n",
    "    for user_language in user_languages:\n",
    "        if \"(\" in user_language:\n",
    "            LANGUAGE_FLUENCIES.add(user_language.split(\"(\")[1].split(\")\")[0].strip())\n",
    "print(LANGUAGE_FLUENCIES)"
   ]
  },
  {
   "cell_type": "markdown",
   "metadata": {},
   "source": [
    "En este caso lo más sensato será crear un vector de estructura similar al one-hot, donde el valor sea 0, 0.3, 0.6 o 1 según el nivel de habilidad (0 si no se menciona el idioma). \n",
    "\n",
    "Si no se menciona la habilidad, asumiremos habilidad 1."
   ]
  },
  {
   "cell_type": "markdown",
   "metadata": {},
   "source": [
    "### 2.3 Análisis de las variables de texto libre"
   ]
  },
  {
   "cell_type": "markdown",
   "metadata": {},
   "source": [
    "Es el turno de analizar las variables de texto libre `essay0-essay9`. Son campos de texto libre de longitud variable que se corresponden con distintas temáticas, tal y como se detalla en la descripción de la práctica."
   ]
  },
  {
   "cell_type": "code",
   "execution_count": null,
   "metadata": {
    "ExecuteTime": {
     "end_time": "2021-01-10T20:04:55.579529Z",
     "start_time": "2021-01-10T20:03:01.730Z"
    }
   },
   "outputs": [],
   "source": [
    "for essays in df.iloc[:, 21:]:\n",
    "    avg = df[essays].str.len().mean()\n",
    "    print(f\"Average length of {essays} column: {avg}\\t|\\tNaN values: {df[essays].isnull().sum()}\\t|\\tEmpty values:{(df[essays].values == ' ').sum()}\")"
   ]
  },
  {
   "cell_type": "markdown",
   "metadata": {},
   "source": [
    "Parece ser que la columna `essay0` contiene textos de longitud mayor. Esto es coherente ya que si la temática es \"Sobre mí\" parece obvio que los usuarios puedan extenderse más en esta categoría que en el resto. Todos estos valores NaN serán tratados como cadenas vacías en el procesamiento, lo que puede dar lugar a problemas en los métodos utilizados. Es por esto que se decide sustituir los NaN por la cadena NOTHING."
   ]
  },
  {
   "cell_type": "code",
   "execution_count": null,
   "metadata": {
    "ExecuteTime": {
     "end_time": "2021-01-10T20:04:55.579529Z",
     "start_time": "2021-01-10T20:03:01.739Z"
    }
   },
   "outputs": [],
   "source": [
    "df.iloc[:, 21:] = df.iloc[:, 21:].fillna('NOTHING')"
   ]
  },
  {
   "cell_type": "markdown",
   "metadata": {},
   "source": [
    "#### 2.3.1 Definición de *stopwords* y *accepted words*"
   ]
  },
  {
   "cell_type": "code",
   "execution_count": 51,
   "metadata": {
    "ExecuteTime": {
     "end_time": "2021-01-10T20:20:36.747621Z",
     "start_time": "2021-01-10T20:20:27.137374Z"
    }
   },
   "outputs": [],
   "source": [
    "stopword = gensim.parsing.preprocessing.STOPWORDS\n",
    "\n",
    "adjectives = set()\n",
    "for synset in wn.all_synsets('a'):\n",
    "    adjectives.add(synset.name().split('.')[0])\n",
    "    \n",
    "verbs = set()\n",
    "for synset in wn.all_synsets('v'):\n",
    "    verbs.add(synset.name().split('.')[0])\n",
    "\n",
    "nouns = set()\n",
    "for synset in wn.all_synsets('n'):\n",
    "    nouns.add(synset.name().split('.')[0])\n",
    "\n",
    "accepted_words = set()\n",
    "accepted_words.update(verbs)\n",
    "accepted_words.update(adjectives)\n",
    "accepted_words.update(nouns)"
   ]
  },
  {
   "cell_type": "markdown",
   "metadata": {},
   "source": [
    "#### 2.3.2 Definición de un Pipeline."
   ]
  },
  {
   "cell_type": "code",
   "execution_count": 35,
   "metadata": {
    "ExecuteTime": {
     "end_time": "2021-01-10T21:37:59.200444Z",
     "start_time": "2021-01-10T21:37:59.169219Z"
    }
   },
   "outputs": [],
   "source": [
    "def reduce_lengthening(text):\n",
    "    pattern = re.compile(r\"(.)\\1{2,}\")\n",
    "    return pattern.sub(r\"\\1\\1\", text)\n",
    "\n",
    "def tokenizer(X):\n",
    "    tokens = np.zeros_like(X, dtype=object)\n",
    "    for index, sentence in X.iterrows():\n",
    "        str1 = \" \"\n",
    "        tokens[index][0] = nltk.word_tokenize(str1.join(sentence.values))\n",
    "    return tokens\n",
    "\n",
    "def remove_sw(X):\n",
    "    tokens_no_sw_result = np.zeros_like(X, dtype=object)\n",
    "    for index, tokens_list in enumerate(X):\n",
    "        tokens_no_sw = []\n",
    "        for token in tokens_list[0]:\n",
    "            if token not in stopword and len(token) > 3:\n",
    "                tokens_no_sw.append(token)\n",
    "        tokens_no_sw_result[index][0] = tokens_no_sw\n",
    "    return tokens_no_sw_result\n",
    "\n",
    "def check_accepted_words(X, accepted_words: set):\n",
    "    accepted_result = np.zeros_like(X, dtype=object)\n",
    "    for index, token_list in enumerate(X):\n",
    "        tokens_accepted = []\n",
    "        for tokens in token_list:\n",
    "            for token in tokens:\n",
    "                if token in accepted_words:\n",
    "                    tokens_accepted.append(token)\n",
    "        accepted_result[index][0] = tokens_accepted\n",
    "    return accepted_result\n",
    "\n",
    "def reducer(X):\n",
    "    reduced_tokens = []\n",
    "    for tokens_list in X:\n",
    "        #print(tokens_list)\n",
    "        reduced_tokens.append([reduce_lengthening(token) for token in tokens_list])\n",
    "    return reduced_tokens\n",
    "\n",
    "\n",
    "\n",
    "def checker_esUS(X, adjectives):\n",
    "    d = enchant.Dict('en-US')\n",
    "    checked_tokens = []\n",
    "    for tokens_list in X:\n",
    "        #print(tokens_list)\n",
    "        checked_tokens.append([token for token in tokens_list if d.check(token)])\n",
    "    return checked_tokens\n",
    "\n",
    "def lemmatizer(X):\n",
    "    lemmatized_tokens = []\n",
    "    for tokens_list in X:\n",
    "        #print(tokens_list)\n",
    "        lemmatized_tokens.append([lemmatizer.lemmatize(token) for token in tokens_list])\n",
    "    return lemmatized_tokens\n",
    "            \n",
    "def apply_grammar(X):\n",
    "    \n",
    "    rule = r\"\"\"\n",
    "    NBAR:\n",
    "        # Nouns and Adjectives, terminated with Nouns\n",
    "        {<NN.*>*<NN.*>}\n",
    "\n",
    "    NP:\n",
    "        {<NBAR>}\n",
    "        \n",
    "        # Above, connected with in/of/etc...\n",
    "        {<NBAR><IN><NBAR>}\n",
    "    \"\"\"\n",
    "\n",
    "\n",
    "    cp = nltk.RegexpParser(rule)\n",
    "    grammar_applied_tokens = []\n",
    "    output = set()\n",
    "    for tokens_list in X:\n",
    "        #print(tokens_list)\n",
    "        pos_sentence = nltk.pos_tag(tokens_list) # Part of speech. We want nouns or adjetive-noun.\n",
    "        result = cp.parse(pos_sentence)\n",
    "        \n",
    "        for tree in result.subtrees(filter=lambda t: t.label() == 'NP'):\n",
    "            output.add(' '.join([child[0] for child in tree.leaves()]))\n",
    "        grammar_applied_tokens.append(list(output))\n",
    "    return grammar_applied_tokens"
   ]
  },
  {
   "cell_type": "code",
   "execution_count": 36,
   "metadata": {
    "ExecuteTime": {
     "end_time": "2021-01-10T21:38:12.657638Z",
     "start_time": "2021-01-10T21:38:12.641986Z"
    }
   },
   "outputs": [],
   "source": [
    "tokenizer_FT = FunctionTransformer(tokenizer)\n",
    "remove_sw_FT = FunctionTransformer(remove_sw)\n",
    "#reducer_FT = FunctionTransformer(reducer)\"\"\"\n",
    "check_accepted_words_FT = FunctionTransformer(check_accepted_words, kw_args={'accepted_words': accepted_words})\n",
    "#checker_esUS_FT = FunctionTransformer(checker_esUS)\n",
    "#lemmatizer_FT = FunctionTransformer(lemmatizer)\n",
    "#apply_grammar_FT = FunctionTransformer(apply_grammar)\"\"\""
   ]
  },
  {
   "cell_type": "code",
   "execution_count": 37,
   "metadata": {
    "ExecuteTime": {
     "end_time": "2021-01-10T21:38:17.447585Z",
     "start_time": "2021-01-10T21:38:17.431959Z"
    }
   },
   "outputs": [],
   "source": [
    "text_pipeline = Pipeline([\n",
    "    (\"tokenizer\", tokenizer_FT),\n",
    "    #(\"apply_grammar\", apply_grammar_FT),\n",
    "    (\"no_stop_words\", remove_sw_FT),\n",
    "    #(\"reducer\", reducer_FT),\n",
    "    (\"accepted_words\", check_accepted_words_FT),\n",
    "    #(\"checker\", checker_esUS_FT),\n",
    "    #(\"lemmatizer\", lemmatizer_FT),\n",
    "], verbose=True)"
   ]
  },
  {
   "cell_type": "code",
   "execution_count": 38,
   "metadata": {
    "ExecuteTime": {
     "end_time": "2021-01-10T21:38:22.499870Z",
     "start_time": "2021-01-10T21:38:22.484266Z"
    }
   },
   "outputs": [],
   "source": [
    "text_transformer = ColumnTransformer([\n",
    "    (\"pipeline_essay0\", text_pipeline, [\"essay0\"]),\n",
    "    #(\"pipeline_essay9\", text_pipeline, [\"essay9\"])\n",
    "], verbose=True)"
   ]
  },
  {
   "cell_type": "code",
   "execution_count": 39,
   "metadata": {
    "ExecuteTime": {
     "end_time": "2021-01-10T21:39:51.139247Z",
     "start_time": "2021-01-10T21:38:26.739606Z"
    }
   },
   "outputs": [
    {
     "name": "stdout",
     "output_type": "stream",
     "text": [
      "[Pipeline] ......... (step 1 of 3) Processing tokenizer, total= 1.4min\n",
      "[Pipeline] ..... (step 2 of 3) Processing no_stop_words, total=   1.5s\n",
      "[Pipeline] .... (step 3 of 3) Processing accepted_words, total=   0.8s\n",
      "[ColumnTransformer]  (1 of 1) Processing pipeline_essay0, total= 1.4min\n"
     ]
    }
   ],
   "source": [
    "text_columns = text_transformer.fit_transform(df)"
   ]
  },
  {
   "cell_type": "markdown",
   "metadata": {},
   "source": [
    "#### 2.3.3 Aplicación de LDA."
   ]
  },
  {
   "cell_type": "code",
   "execution_count": 40,
   "metadata": {
    "ExecuteTime": {
     "end_time": "2021-01-10T21:40:40.173869Z",
     "start_time": "2021-01-10T21:40:34.103963Z"
    }
   },
   "outputs": [],
   "source": [
    "dictionary = corpora.Dictionary(text_columns.ravel())\n",
    "corpus = [dictionary.doc2bow(text) for text in text_columns.ravel()]"
   ]
  },
  {
   "cell_type": "code",
   "execution_count": 41,
   "metadata": {
    "ExecuteTime": {
     "end_time": "2021-01-10T21:47:27.991053Z",
     "start_time": "2021-01-10T21:41:24.394559Z"
    }
   },
   "outputs": [],
   "source": [
    "num_topics = 20\n",
    "\n",
    "\n",
    "lda_model = LdaMulticore(corpus=corpus,\n",
    "                         id2word=dictionary,\n",
    "                         num_topics=num_topics,\n",
    "                         random_state=RANDOM_SEED,\n",
    "                         chunksize=100,\n",
    "                         passes=10,\n",
    "                         per_word_topics=True)"
   ]
  },
  {
   "cell_type": "code",
   "execution_count": 43,
   "metadata": {
    "ExecuteTime": {
     "end_time": "2021-01-10T21:49:47.920277Z",
     "start_time": "2021-01-10T21:49:47.904647Z"
    }
   },
   "outputs": [
    {
     "data": {
      "text/plain": [
       "[[('able', 2),\n",
       "  ('attention', 1),\n",
       "  ('bend', 1),\n",
       "  ('better', 2),\n",
       "  ('blow', 1),\n",
       "  ('choice', 1),\n",
       "  ('considered', 1),\n",
       "  ('cool', 1),\n",
       "  ('deep', 1),\n",
       "  ('difference', 1),\n",
       "  ('dress', 1),\n",
       "  ('dumb', 1),\n",
       "  ('everyday', 1),\n",
       "  ('extra', 1),\n",
       "  ('favorite', 2),\n",
       "  ('forge', 1),\n",
       "  ('friend', 1),\n",
       "  ('funny', 1),\n",
       "  ('game', 1),\n",
       "  ('given', 1),\n",
       "  ('good', 1),\n",
       "  ('house', 1),\n",
       "  ('intellectual', 1),\n",
       "  ('kind', 1),\n",
       "  ('kiss', 1),\n",
       "  ('know', 1),\n",
       "  ('laugh', 1),\n",
       "  ('lazy', 1),\n",
       "  ('leather', 1),\n",
       "  ('life', 2),\n",
       "  ('light', 1),\n",
       "  ('like', 1),\n",
       "  ('little', 1),\n",
       "  ('love', 4),\n",
       "  ('mind', 1),\n",
       "  ('rant', 1),\n",
       "  ('reading', 1),\n",
       "  ('salt', 2),\n",
       "  ('seek', 1),\n",
       "  ('silly', 1),\n",
       "  ('smart', 1),\n",
       "  ('smile', 1),\n",
       "  ('snap', 1),\n",
       "  ('span', 1),\n",
       "  ('stuff', 1),\n",
       "  ('talk', 1),\n",
       "  ('tell', 1),\n",
       "  ('things', 1),\n",
       "  ('think', 1),\n",
       "  ('tired', 1),\n",
       "  ('tying', 1),\n",
       "  ('video', 1),\n",
       "  ('wear', 1),\n",
       "  ('weird', 1),\n",
       "  ('willing', 1),\n",
       "  ('wind', 1),\n",
       "  ('word', 1),\n",
       "  ('work', 1),\n",
       "  ('year', 1)]]"
      ]
     },
     "execution_count": 43,
     "metadata": {},
     "output_type": "execute_result"
    }
   ],
   "source": [
    "[[(dictionary[id], freq) for id, freq in cp] for cp in corpus[:1]]"
   ]
  },
  {
   "cell_type": "markdown",
   "metadata": {},
   "source": [
    "Definimos una serie de funciones de utilidad que nos van a permitir por un lado crear un diccionario de los tópicos identificados por el modelo LDA, y por otro, dado un documento de texto obtener su tópico correspondiente."
   ]
  },
  {
   "cell_type": "code",
   "execution_count": 44,
   "metadata": {
    "ExecuteTime": {
     "end_time": "2021-01-10T21:50:04.109131Z",
     "start_time": "2021-01-10T21:50:04.077860Z"
    }
   },
   "outputs": [],
   "source": [
    "def create_topics_dict(model, n_top_words, num_topics):\n",
    "    topics = {}\n",
    "    for i in range(num_topics):\n",
    "        words = []\n",
    "        for j in range(n_top_words):\n",
    "            words.append(model.show_topic(i)[j][0])\n",
    "        topics[i] = words\n",
    "    return topics\n",
    "\n",
    "def get_topic_from_document(model, corpus, topics, document):\n",
    "    topics_pair = model.get_document_topics(corpus[document])\n",
    "    index = max(topics_pair, key = lambda i : i[1])[0]\n",
    "    return index, topics[index]"
   ]
  },
  {
   "cell_type": "markdown",
   "metadata": {},
   "source": [
    "Obtenemos y visualizamos el diccionario de tópicos identificados por el algoritmo LDA."
   ]
  },
  {
   "cell_type": "code",
   "execution_count": 45,
   "metadata": {
    "ExecuteTime": {
     "end_time": "2021-01-10T21:50:09.955747Z",
     "start_time": "2021-01-10T21:50:09.561269Z"
    }
   },
   "outputs": [
    {
     "data": {
      "text/plain": [
       "{0: ['hair', 'black', 'tall', 'eyes', 'white', 'wear', 'dress', 'blue'],\n",
       " 1: ['half',\n",
       "  'american',\n",
       "  'english',\n",
       "  'speak',\n",
       "  'french',\n",
       "  'italian',\n",
       "  'father',\n",
       "  'language'],\n",
       " 2: ['east', 'coast', 'west', 'oakland', 'seattle', 'crime', 'north', 'moved'],\n",
       " 3: ['school',\n",
       "  'born',\n",
       "  'raised',\n",
       "  'college',\n",
       "  'california',\n",
       "  'moved',\n",
       "  'area',\n",
       "  'berkeley'],\n",
       " 4: ['people', 'going', 'like', 'things', 'easy', 'love', 'enjoy', 'meeting'],\n",
       " 5: ['love', 'like', 'enjoy', 'time', 'work', 'good', 'music', 'things'],\n",
       " 6: ['profile',\n",
       "  'know',\n",
       "  'message',\n",
       "  'dating',\n",
       "  'site',\n",
       "  'free',\n",
       "  'looking',\n",
       "  'want'],\n",
       " 7: ['love', 'good', 'humor', 'sense', 'laugh', 'like', 'person', 'funny'],\n",
       " 8: ['trouble',\n",
       "  'lack',\n",
       "  'reserved',\n",
       "  'brief',\n",
       "  'bear',\n",
       "  'downtown',\n",
       "  'charming',\n",
       "  'fabulous'],\n",
       " 9: ['creative',\n",
       "  'design',\n",
       "  'lover',\n",
       "  'curious',\n",
       "  'artist',\n",
       "  'ambitious',\n",
       "  'artistic',\n",
       "  'passionate'],\n",
       " 10: ['music', 'love', 'like', 'play', 'video', 'playing', 'science', 'read'],\n",
       " 11: ['looking',\n",
       "  'life',\n",
       "  'want',\n",
       "  'meet',\n",
       "  'relationship',\n",
       "  'time',\n",
       "  'share',\n",
       "  'woman'],\n",
       " 12: ['answer',\n",
       "  'male',\n",
       "  'normal',\n",
       "  'lovely',\n",
       "  'america',\n",
       "  'fiction',\n",
       "  'female',\n",
       "  'changing'],\n",
       " 13: ['film',\n",
       "  'fresh',\n",
       "  'strange',\n",
       "  'shop',\n",
       "  'pursue',\n",
       "  'photographer',\n",
       "  'sushi',\n",
       "  'radio'],\n",
       " 14: ['night',\n",
       "  'favorite',\n",
       "  'chocolate',\n",
       "  'dance',\n",
       "  'sleep',\n",
       "  'smell',\n",
       "  'water',\n",
       "  'ride'],\n",
       " 15: ['life',\n",
       "  'love',\n",
       "  'people',\n",
       "  'world',\n",
       "  'believe',\n",
       "  'things',\n",
       "  'feel',\n",
       "  'important'],\n",
       " 16: ['good', 'wine', 'food', 'coffee', 'beer', 'drink', 'nice', 'drinking'],\n",
       " 17: ['like', 'people', 'think', 'know', 'things', 'time', 'want', 'good'],\n",
       " 18: ['moved', 'city', 'area', 'living', 'year', 'work', 'love', 'native'],\n",
       " 19: ['travel',\n",
       "  'year',\n",
       "  'world',\n",
       "  'love',\n",
       "  'europe',\n",
       "  'traveled',\n",
       "  'trip',\n",
       "  'visit']}"
      ]
     },
     "execution_count": 45,
     "metadata": {},
     "output_type": "execute_result"
    }
   ],
   "source": [
    "topics = create_topics_dict(lda_model, 8, num_topics)\n",
    "topics"
   ]
  },
  {
   "cell_type": "code",
   "execution_count": 46,
   "metadata": {
    "ExecuteTime": {
     "end_time": "2021-01-10T21:50:35.361779Z",
     "start_time": "2021-01-10T21:50:35.330503Z"
    }
   },
   "outputs": [
    {
     "data": {
      "text/plain": [
       "[(0, 0.03620714),\n",
       " (7, 0.13114671),\n",
       " (10, 0.05497309),\n",
       " (14, 0.2656353),\n",
       " (15, 0.0967911),\n",
       " (17, 0.35003647),\n",
       " (18, 0.031036401),\n",
       " (19, 0.02534659)]"
      ]
     },
     "execution_count": 46,
     "metadata": {},
     "output_type": "execute_result"
    }
   ],
   "source": [
    "a = lda_model.get_document_topics(corpus[0])\n",
    "a"
   ]
  },
  {
   "cell_type": "code",
   "execution_count": 47,
   "metadata": {
    "ExecuteTime": {
     "end_time": "2021-01-10T21:50:41.577240Z",
     "start_time": "2021-01-10T21:50:41.561618Z"
    }
   },
   "outputs": [
    {
     "data": {
      "text/plain": [
       "(17, ['like', 'people', 'think', 'know', 'things', 'time', 'want', 'good'])"
      ]
     },
     "execution_count": 47,
     "metadata": {},
     "output_type": "execute_result"
    }
   ],
   "source": [
    "get_topic_from_document(lda_model, corpus, topics, 0)"
   ]
  },
  {
   "cell_type": "code",
   "execution_count": null,
   "metadata": {
    "ExecuteTime": {
     "end_time": "2021-01-10T20:04:55.626401Z",
     "start_time": "2021-01-10T20:03:02.184Z"
    }
   },
   "outputs": [],
   "source": [
    "df.iloc[:, 21:].to_csv(os.path.join(DATA_PATH, 'essays_parsed.csv'))"
   ]
  },
  {
   "cell_type": "markdown",
   "metadata": {},
   "source": [
    "## 3. Preprocesamiento"
   ]
  },
  {
   "cell_type": "markdown",
   "metadata": {},
   "source": [
    "## 4. Clustering"
   ]
  },
  {
   "cell_type": "markdown",
   "metadata": {},
   "source": [
    "## 5. Conclusiones"
   ]
  },
  {
   "cell_type": "markdown",
   "metadata": {},
   "source": [
    "## 6. Referencias\n",
    "\n",
    "[1] https://en.wikipedia.org/wiki/List_of_tallest_people \n",
    "\n",
    "[2] https://www.mayoclinic.org/es-es/diseases-conditions/dwarfism/symptoms-causes/syc-20371969\n",
    "\n",
    "[3] https://es.statista.com/estadisticas/598475/salario-medio-por-empleado-en-ee-uu/"
   ]
  },
  {
   "cell_type": "markdown",
   "metadata": {},
   "source": [
    "---\n",
    "Creado por **Diego Trujillo** (diego.trujillo.jimenez@alumnos.upm.es) y **Ángel Acevedo** (angel.acevedo.sanchez@alumnos.upm.es) \n",
    "\n",
    "<br></br>\n",
    "[![License: GPL v2](https://img.shields.io/badge/License-GPL%20v2-blue.svg)](https://www.gnu.org/licenses/old-licenses/gpl-2.0.en.html)"
   ]
  }
 ],
 "metadata": {
  "kernelspec": {
   "display_name": "Python 3",
   "language": "python",
   "name": "python3"
  },
  "language_info": {
   "codemirror_mode": {
    "name": "ipython",
    "version": 3
   },
   "file_extension": ".py",
   "mimetype": "text/x-python",
   "name": "python",
   "nbconvert_exporter": "python",
   "pygments_lexer": "ipython3",
   "version": "3.7.8"
  },
  "toc": {
   "base_numbering": 1,
   "nav_menu": {},
   "number_sections": false,
   "sideBar": true,
   "skip_h1_title": false,
   "title_cell": "Table of Contents",
   "title_sidebar": "lab3",
   "toc_cell": false,
   "toc_position": {},
   "toc_section_display": true,
   "toc_window_display": false
  },
  "varInspector": {
   "cols": {
    "lenName": 16,
    "lenType": 16,
    "lenVar": 40
   },
   "kernels_config": {
    "python": {
     "delete_cmd_postfix": "",
     "delete_cmd_prefix": "del ",
     "library": "var_list.py",
     "varRefreshCmd": "print(var_dic_list())"
    },
    "r": {
     "delete_cmd_postfix": ") ",
     "delete_cmd_prefix": "rm(",
     "library": "var_list.r",
     "varRefreshCmd": "cat(var_dic_list()) "
    }
   },
   "types_to_exclude": [
    "module",
    "function",
    "builtin_function_or_method",
    "instance",
    "_Feature"
   ],
   "window_display": false
  }
 },
 "nbformat": 4,
 "nbformat_minor": 4
}
