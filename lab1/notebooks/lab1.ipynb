{
 "cells": [
  {
   "cell_type": "markdown",
   "metadata": {},
   "source": [
    "# Regresión sobre el precio de vehículos de segunda mano\n",
    "Este notebook muestra el proceso completo del proyecto para predecir el precio de un vehículo de segunda mano a partir de sus características."
   ]
  },
  {
   "cell_type": "markdown",
   "metadata": {},
   "source": [
    "## 1. Setup"
   ]
  },
  {
   "cell_type": "markdown",
   "metadata": {},
   "source": [
    "Librerías importadas en el proyecto."
   ]
  },
  {
   "cell_type": "code",
   "execution_count": 1,
   "metadata": {
    "ExecuteTime": {
     "end_time": "2020-10-29T20:47:49.958391Z",
     "start_time": "2020-10-29T20:47:48.625446Z"
    }
   },
   "outputs": [],
   "source": [
    "import numpy as np\n",
    "import pandas as pd\n",
    "\n",
    "import os\n",
    "import warnings\n",
    "import datetime\n",
    "from collections import namedtuple\n",
    "from itertools import product\n",
    "\n",
    "from IPython.display import IFrame\n",
    "\n",
    "%matplotlib inline\n",
    "from matplotlib import pyplot as plt\n",
    "import seaborn as sns\n",
    "\n",
    "from sklearn.base import BaseEstimator, TransformerMixin\n",
    "from sklearn.preprocessing import MinMaxScaler, OneHotEncoder, FunctionTransformer, RobustScaler, PolynomialFeatures\n",
    "from sklearn.impute import SimpleImputer, KNNImputer\n",
    "from sklearn.compose import ColumnTransformer\n",
    "from sklearn.pipeline import Pipeline\n",
    "from sklearn.model_selection import train_test_split, GridSearchCV\n",
    "from sklearn.linear_model import LinearRegression, Lasso, Ridge, ElasticNet\n",
    "from sklearn.metrics import mean_squared_error, mean_absolute_error, r2_score\n",
    "from sklearn.utils import parallel_backend\n",
    "\n",
    "from scipy.stats import kstest, norm, mannwhitneyu, f_oneway\n",
    "from scipy.sparse import issparse"
   ]
  },
  {
   "cell_type": "markdown",
   "metadata": {},
   "source": [
    "Variables globales utilizadas."
   ]
  },
  {
   "cell_type": "code",
   "execution_count": 2,
   "metadata": {
    "ExecuteTime": {
     "end_time": "2020-10-29T20:47:49.975439Z",
     "start_time": "2020-10-29T20:47:49.964684Z"
    }
   },
   "outputs": [],
   "source": [
    "RANDOM_SEED = 1337\n",
    "\n",
    "DATA_PATH = os.path.join(os.pardir, \"data\")\n",
    "RESULTS_PATH = os.path.join(os.pardir, \"results\")\n",
    "\n",
    "DATE_BASELINE = 2020 # Year of the last update made to the dataset\n",
    "CV_FOLDS = 5 # Cross-validation fold count"
   ]
  },
  {
   "cell_type": "markdown",
   "metadata": {},
   "source": [
    "Enunciado del problema."
   ]
  },
  {
   "cell_type": "code",
   "execution_count": 3,
   "metadata": {
    "ExecuteTime": {
     "end_time": "2020-10-29T20:47:50.051000Z",
     "start_time": "2020-10-29T20:47:49.980837Z"
    },
    "scrolled": false
   },
   "outputs": [
    {
     "data": {
      "text/html": [
       "\n",
       "        <iframe\n",
       "            width=\"1200\"\n",
       "            height=\"920\"\n",
       "            src=\"../info/lab1.pdf\"\n",
       "            frameborder=\"0\"\n",
       "            allowfullscreen\n",
       "        ></iframe>\n",
       "        "
      ],
      "text/plain": [
       "<IPython.lib.display.IFrame at 0x7f99ac72fa50>"
      ]
     },
     "execution_count": 3,
     "metadata": {},
     "output_type": "execute_result"
    }
   ],
   "source": [
    "# Jupyter Notebook only\n",
    "IFrame(os.path.join(os.pardir, \"info\", \"lab1.pdf\"), width=1200, height=920)"
   ]
  },
  {
   "cell_type": "markdown",
   "metadata": {},
   "source": [
    "## 2. Análisis exploratorio de los datos"
   ]
  },
  {
   "cell_type": "markdown",
   "metadata": {},
   "source": [
    "Vamos a cargar todos los datos en memoria y a echarles un primer vistazo."
   ]
  },
  {
   "cell_type": "code",
   "execution_count": 4,
   "metadata": {
    "ExecuteTime": {
     "end_time": "2020-10-29T20:47:52.098607Z",
     "start_time": "2020-10-29T20:47:50.054021Z"
    },
    "scrolled": false
   },
   "outputs": [
    {
     "name": "stdout",
     "output_type": "stream",
     "text": [
      "toyota\n"
     ]
    },
    {
     "data": {
      "text/html": [
       "<div>\n",
       "<style scoped>\n",
       "    .dataframe tbody tr th:only-of-type {\n",
       "        vertical-align: middle;\n",
       "    }\n",
       "\n",
       "    .dataframe tbody tr th {\n",
       "        vertical-align: top;\n",
       "    }\n",
       "\n",
       "    .dataframe thead th {\n",
       "        text-align: right;\n",
       "    }\n",
       "</style>\n",
       "<table border=\"1\" class=\"dataframe\">\n",
       "  <thead>\n",
       "    <tr style=\"text-align: right;\">\n",
       "      <th></th>\n",
       "      <th>model</th>\n",
       "      <th>year</th>\n",
       "      <th>price</th>\n",
       "      <th>transmission</th>\n",
       "      <th>mileage</th>\n",
       "      <th>fuelType</th>\n",
       "      <th>tax</th>\n",
       "      <th>mpg</th>\n",
       "      <th>engineSize</th>\n",
       "    </tr>\n",
       "  </thead>\n",
       "  <tbody>\n",
       "    <tr>\n",
       "      <th>0</th>\n",
       "      <td>GT86</td>\n",
       "      <td>2016</td>\n",
       "      <td>16000</td>\n",
       "      <td>Manual</td>\n",
       "      <td>24089</td>\n",
       "      <td>Petrol</td>\n",
       "      <td>265</td>\n",
       "      <td>36.2</td>\n",
       "      <td>2.0</td>\n",
       "    </tr>\n",
       "    <tr>\n",
       "      <th>1</th>\n",
       "      <td>GT86</td>\n",
       "      <td>2017</td>\n",
       "      <td>15995</td>\n",
       "      <td>Manual</td>\n",
       "      <td>18615</td>\n",
       "      <td>Petrol</td>\n",
       "      <td>145</td>\n",
       "      <td>36.2</td>\n",
       "      <td>2.0</td>\n",
       "    </tr>\n",
       "    <tr>\n",
       "      <th>2</th>\n",
       "      <td>GT86</td>\n",
       "      <td>2015</td>\n",
       "      <td>13998</td>\n",
       "      <td>Manual</td>\n",
       "      <td>27469</td>\n",
       "      <td>Petrol</td>\n",
       "      <td>265</td>\n",
       "      <td>36.2</td>\n",
       "      <td>2.0</td>\n",
       "    </tr>\n",
       "    <tr>\n",
       "      <th>3</th>\n",
       "      <td>GT86</td>\n",
       "      <td>2017</td>\n",
       "      <td>18998</td>\n",
       "      <td>Manual</td>\n",
       "      <td>14736</td>\n",
       "      <td>Petrol</td>\n",
       "      <td>150</td>\n",
       "      <td>36.2</td>\n",
       "      <td>2.0</td>\n",
       "    </tr>\n",
       "    <tr>\n",
       "      <th>4</th>\n",
       "      <td>GT86</td>\n",
       "      <td>2017</td>\n",
       "      <td>17498</td>\n",
       "      <td>Manual</td>\n",
       "      <td>36284</td>\n",
       "      <td>Petrol</td>\n",
       "      <td>145</td>\n",
       "      <td>36.2</td>\n",
       "      <td>2.0</td>\n",
       "    </tr>\n",
       "    <tr>\n",
       "      <th>...</th>\n",
       "      <td>...</td>\n",
       "      <td>...</td>\n",
       "      <td>...</td>\n",
       "      <td>...</td>\n",
       "      <td>...</td>\n",
       "      <td>...</td>\n",
       "      <td>...</td>\n",
       "      <td>...</td>\n",
       "      <td>...</td>\n",
       "    </tr>\n",
       "    <tr>\n",
       "      <th>6733</th>\n",
       "      <td>IQ</td>\n",
       "      <td>2011</td>\n",
       "      <td>5500</td>\n",
       "      <td>Automatic</td>\n",
       "      <td>30000</td>\n",
       "      <td>Petrol</td>\n",
       "      <td>20</td>\n",
       "      <td>58.9</td>\n",
       "      <td>1.0</td>\n",
       "    </tr>\n",
       "    <tr>\n",
       "      <th>6734</th>\n",
       "      <td>Urban Cruiser</td>\n",
       "      <td>2011</td>\n",
       "      <td>4985</td>\n",
       "      <td>Manual</td>\n",
       "      <td>36154</td>\n",
       "      <td>Petrol</td>\n",
       "      <td>125</td>\n",
       "      <td>50.4</td>\n",
       "      <td>1.3</td>\n",
       "    </tr>\n",
       "    <tr>\n",
       "      <th>6735</th>\n",
       "      <td>Urban Cruiser</td>\n",
       "      <td>2012</td>\n",
       "      <td>4995</td>\n",
       "      <td>Manual</td>\n",
       "      <td>46000</td>\n",
       "      <td>Diesel</td>\n",
       "      <td>125</td>\n",
       "      <td>57.6</td>\n",
       "      <td>1.4</td>\n",
       "    </tr>\n",
       "    <tr>\n",
       "      <th>6736</th>\n",
       "      <td>Urban Cruiser</td>\n",
       "      <td>2011</td>\n",
       "      <td>3995</td>\n",
       "      <td>Manual</td>\n",
       "      <td>60700</td>\n",
       "      <td>Petrol</td>\n",
       "      <td>125</td>\n",
       "      <td>50.4</td>\n",
       "      <td>1.3</td>\n",
       "    </tr>\n",
       "    <tr>\n",
       "      <th>6737</th>\n",
       "      <td>Urban Cruiser</td>\n",
       "      <td>2011</td>\n",
       "      <td>4495</td>\n",
       "      <td>Manual</td>\n",
       "      <td>45128</td>\n",
       "      <td>Petrol</td>\n",
       "      <td>125</td>\n",
       "      <td>50.4</td>\n",
       "      <td>1.3</td>\n",
       "    </tr>\n",
       "  </tbody>\n",
       "</table>\n",
       "<p>6738 rows × 9 columns</p>\n",
       "</div>"
      ],
      "text/plain": [
       "               model  year  price transmission  mileage fuelType  tax   mpg  \\\n",
       "0               GT86  2016  16000       Manual    24089   Petrol  265  36.2   \n",
       "1               GT86  2017  15995       Manual    18615   Petrol  145  36.2   \n",
       "2               GT86  2015  13998       Manual    27469   Petrol  265  36.2   \n",
       "3               GT86  2017  18998       Manual    14736   Petrol  150  36.2   \n",
       "4               GT86  2017  17498       Manual    36284   Petrol  145  36.2   \n",
       "...              ...   ...    ...          ...      ...      ...  ...   ...   \n",
       "6733              IQ  2011   5500    Automatic    30000   Petrol   20  58.9   \n",
       "6734   Urban Cruiser  2011   4985       Manual    36154   Petrol  125  50.4   \n",
       "6735   Urban Cruiser  2012   4995       Manual    46000   Diesel  125  57.6   \n",
       "6736   Urban Cruiser  2011   3995       Manual    60700   Petrol  125  50.4   \n",
       "6737   Urban Cruiser  2011   4495       Manual    45128   Petrol  125  50.4   \n",
       "\n",
       "      engineSize  \n",
       "0            2.0  \n",
       "1            2.0  \n",
       "2            2.0  \n",
       "3            2.0  \n",
       "4            2.0  \n",
       "...          ...  \n",
       "6733         1.0  \n",
       "6734         1.3  \n",
       "6735         1.4  \n",
       "6736         1.3  \n",
       "6737         1.3  \n",
       "\n",
       "[6738 rows x 9 columns]"
      ]
     },
     "metadata": {},
     "output_type": "display_data"
    },
    {
     "name": "stdout",
     "output_type": "stream",
     "text": [
      "skoda\n"
     ]
    },
    {
     "data": {
      "text/html": [
       "<div>\n",
       "<style scoped>\n",
       "    .dataframe tbody tr th:only-of-type {\n",
       "        vertical-align: middle;\n",
       "    }\n",
       "\n",
       "    .dataframe tbody tr th {\n",
       "        vertical-align: top;\n",
       "    }\n",
       "\n",
       "    .dataframe thead th {\n",
       "        text-align: right;\n",
       "    }\n",
       "</style>\n",
       "<table border=\"1\" class=\"dataframe\">\n",
       "  <thead>\n",
       "    <tr style=\"text-align: right;\">\n",
       "      <th></th>\n",
       "      <th>model</th>\n",
       "      <th>year</th>\n",
       "      <th>price</th>\n",
       "      <th>transmission</th>\n",
       "      <th>mileage</th>\n",
       "      <th>fuelType</th>\n",
       "      <th>tax</th>\n",
       "      <th>mpg</th>\n",
       "      <th>engineSize</th>\n",
       "    </tr>\n",
       "  </thead>\n",
       "  <tbody>\n",
       "    <tr>\n",
       "      <th>0</th>\n",
       "      <td>Octavia</td>\n",
       "      <td>2017</td>\n",
       "      <td>10550</td>\n",
       "      <td>Manual</td>\n",
       "      <td>25250</td>\n",
       "      <td>Petrol</td>\n",
       "      <td>150</td>\n",
       "      <td>54.3</td>\n",
       "      <td>1.4</td>\n",
       "    </tr>\n",
       "    <tr>\n",
       "      <th>1</th>\n",
       "      <td>Citigo</td>\n",
       "      <td>2018</td>\n",
       "      <td>8200</td>\n",
       "      <td>Manual</td>\n",
       "      <td>1264</td>\n",
       "      <td>Petrol</td>\n",
       "      <td>145</td>\n",
       "      <td>67.3</td>\n",
       "      <td>1.0</td>\n",
       "    </tr>\n",
       "    <tr>\n",
       "      <th>2</th>\n",
       "      <td>Octavia</td>\n",
       "      <td>2019</td>\n",
       "      <td>15650</td>\n",
       "      <td>Automatic</td>\n",
       "      <td>6825</td>\n",
       "      <td>Diesel</td>\n",
       "      <td>145</td>\n",
       "      <td>67.3</td>\n",
       "      <td>2.0</td>\n",
       "    </tr>\n",
       "    <tr>\n",
       "      <th>3</th>\n",
       "      <td>Yeti Outdoor</td>\n",
       "      <td>2015</td>\n",
       "      <td>14000</td>\n",
       "      <td>Automatic</td>\n",
       "      <td>28431</td>\n",
       "      <td>Diesel</td>\n",
       "      <td>165</td>\n",
       "      <td>51.4</td>\n",
       "      <td>2.0</td>\n",
       "    </tr>\n",
       "    <tr>\n",
       "      <th>4</th>\n",
       "      <td>Superb</td>\n",
       "      <td>2019</td>\n",
       "      <td>18350</td>\n",
       "      <td>Manual</td>\n",
       "      <td>10912</td>\n",
       "      <td>Petrol</td>\n",
       "      <td>150</td>\n",
       "      <td>40.9</td>\n",
       "      <td>1.5</td>\n",
       "    </tr>\n",
       "    <tr>\n",
       "      <th>...</th>\n",
       "      <td>...</td>\n",
       "      <td>...</td>\n",
       "      <td>...</td>\n",
       "      <td>...</td>\n",
       "      <td>...</td>\n",
       "      <td>...</td>\n",
       "      <td>...</td>\n",
       "      <td>...</td>\n",
       "      <td>...</td>\n",
       "    </tr>\n",
       "    <tr>\n",
       "      <th>6262</th>\n",
       "      <td>Yeti</td>\n",
       "      <td>2014</td>\n",
       "      <td>11440</td>\n",
       "      <td>Semi-Auto</td>\n",
       "      <td>14569</td>\n",
       "      <td>Petrol</td>\n",
       "      <td>160</td>\n",
       "      <td>44.8</td>\n",
       "      <td>1.2</td>\n",
       "    </tr>\n",
       "    <tr>\n",
       "      <th>6263</th>\n",
       "      <td>Octavia</td>\n",
       "      <td>2014</td>\n",
       "      <td>10990</td>\n",
       "      <td>Semi-Auto</td>\n",
       "      <td>49999</td>\n",
       "      <td>Petrol</td>\n",
       "      <td>30</td>\n",
       "      <td>56.5</td>\n",
       "      <td>1.4</td>\n",
       "    </tr>\n",
       "    <tr>\n",
       "      <th>6264</th>\n",
       "      <td>Fabia</td>\n",
       "      <td>2017</td>\n",
       "      <td>9500</td>\n",
       "      <td>Semi-Auto</td>\n",
       "      <td>17131</td>\n",
       "      <td>Petrol</td>\n",
       "      <td>145</td>\n",
       "      <td>61.4</td>\n",
       "      <td>1.0</td>\n",
       "    </tr>\n",
       "    <tr>\n",
       "      <th>6265</th>\n",
       "      <td>Citigo</td>\n",
       "      <td>2016</td>\n",
       "      <td>5999</td>\n",
       "      <td>Manual</td>\n",
       "      <td>21747</td>\n",
       "      <td>Petrol</td>\n",
       "      <td>20</td>\n",
       "      <td>62.8</td>\n",
       "      <td>1.0</td>\n",
       "    </tr>\n",
       "    <tr>\n",
       "      <th>6266</th>\n",
       "      <td>Fabia</td>\n",
       "      <td>2017</td>\n",
       "      <td>9232</td>\n",
       "      <td>Semi-Auto</td>\n",
       "      <td>42530</td>\n",
       "      <td>Petrol</td>\n",
       "      <td>20</td>\n",
       "      <td>60.1</td>\n",
       "      <td>1.2</td>\n",
       "    </tr>\n",
       "  </tbody>\n",
       "</table>\n",
       "<p>6267 rows × 9 columns</p>\n",
       "</div>"
      ],
      "text/plain": [
       "              model  year  price transmission  mileage fuelType  tax   mpg  \\\n",
       "0           Octavia  2017  10550       Manual    25250   Petrol  150  54.3   \n",
       "1            Citigo  2018   8200       Manual     1264   Petrol  145  67.3   \n",
       "2           Octavia  2019  15650    Automatic     6825   Diesel  145  67.3   \n",
       "3      Yeti Outdoor  2015  14000    Automatic    28431   Diesel  165  51.4   \n",
       "4            Superb  2019  18350       Manual    10912   Petrol  150  40.9   \n",
       "...             ...   ...    ...          ...      ...      ...  ...   ...   \n",
       "6262           Yeti  2014  11440    Semi-Auto    14569   Petrol  160  44.8   \n",
       "6263        Octavia  2014  10990    Semi-Auto    49999   Petrol   30  56.5   \n",
       "6264          Fabia  2017   9500    Semi-Auto    17131   Petrol  145  61.4   \n",
       "6265         Citigo  2016   5999       Manual    21747   Petrol   20  62.8   \n",
       "6266          Fabia  2017   9232    Semi-Auto    42530   Petrol   20  60.1   \n",
       "\n",
       "      engineSize  \n",
       "0            1.4  \n",
       "1            1.0  \n",
       "2            2.0  \n",
       "3            2.0  \n",
       "4            1.5  \n",
       "...          ...  \n",
       "6262         1.2  \n",
       "6263         1.4  \n",
       "6264         1.0  \n",
       "6265         1.0  \n",
       "6266         1.2  \n",
       "\n",
       "[6267 rows x 9 columns]"
      ]
     },
     "metadata": {},
     "output_type": "display_data"
    },
    {
     "name": "stdout",
     "output_type": "stream",
     "text": [
      "bmw\n"
     ]
    },
    {
     "data": {
      "text/html": [
       "<div>\n",
       "<style scoped>\n",
       "    .dataframe tbody tr th:only-of-type {\n",
       "        vertical-align: middle;\n",
       "    }\n",
       "\n",
       "    .dataframe tbody tr th {\n",
       "        vertical-align: top;\n",
       "    }\n",
       "\n",
       "    .dataframe thead th {\n",
       "        text-align: right;\n",
       "    }\n",
       "</style>\n",
       "<table border=\"1\" class=\"dataframe\">\n",
       "  <thead>\n",
       "    <tr style=\"text-align: right;\">\n",
       "      <th></th>\n",
       "      <th>model</th>\n",
       "      <th>year</th>\n",
       "      <th>price</th>\n",
       "      <th>transmission</th>\n",
       "      <th>mileage</th>\n",
       "      <th>fuelType</th>\n",
       "      <th>tax</th>\n",
       "      <th>mpg</th>\n",
       "      <th>engineSize</th>\n",
       "    </tr>\n",
       "  </thead>\n",
       "  <tbody>\n",
       "    <tr>\n",
       "      <th>0</th>\n",
       "      <td>5 Series</td>\n",
       "      <td>2014</td>\n",
       "      <td>11200</td>\n",
       "      <td>Automatic</td>\n",
       "      <td>67068</td>\n",
       "      <td>Diesel</td>\n",
       "      <td>125</td>\n",
       "      <td>57.6</td>\n",
       "      <td>2.0</td>\n",
       "    </tr>\n",
       "    <tr>\n",
       "      <th>1</th>\n",
       "      <td>6 Series</td>\n",
       "      <td>2018</td>\n",
       "      <td>27000</td>\n",
       "      <td>Automatic</td>\n",
       "      <td>14827</td>\n",
       "      <td>Petrol</td>\n",
       "      <td>145</td>\n",
       "      <td>42.8</td>\n",
       "      <td>2.0</td>\n",
       "    </tr>\n",
       "    <tr>\n",
       "      <th>2</th>\n",
       "      <td>5 Series</td>\n",
       "      <td>2016</td>\n",
       "      <td>16000</td>\n",
       "      <td>Automatic</td>\n",
       "      <td>62794</td>\n",
       "      <td>Diesel</td>\n",
       "      <td>160</td>\n",
       "      <td>51.4</td>\n",
       "      <td>3.0</td>\n",
       "    </tr>\n",
       "    <tr>\n",
       "      <th>3</th>\n",
       "      <td>1 Series</td>\n",
       "      <td>2017</td>\n",
       "      <td>12750</td>\n",
       "      <td>Automatic</td>\n",
       "      <td>26676</td>\n",
       "      <td>Diesel</td>\n",
       "      <td>145</td>\n",
       "      <td>72.4</td>\n",
       "      <td>1.5</td>\n",
       "    </tr>\n",
       "    <tr>\n",
       "      <th>4</th>\n",
       "      <td>7 Series</td>\n",
       "      <td>2014</td>\n",
       "      <td>14500</td>\n",
       "      <td>Automatic</td>\n",
       "      <td>39554</td>\n",
       "      <td>Diesel</td>\n",
       "      <td>160</td>\n",
       "      <td>50.4</td>\n",
       "      <td>3.0</td>\n",
       "    </tr>\n",
       "    <tr>\n",
       "      <th>...</th>\n",
       "      <td>...</td>\n",
       "      <td>...</td>\n",
       "      <td>...</td>\n",
       "      <td>...</td>\n",
       "      <td>...</td>\n",
       "      <td>...</td>\n",
       "      <td>...</td>\n",
       "      <td>...</td>\n",
       "      <td>...</td>\n",
       "    </tr>\n",
       "    <tr>\n",
       "      <th>10776</th>\n",
       "      <td>X3</td>\n",
       "      <td>2016</td>\n",
       "      <td>19000</td>\n",
       "      <td>Automatic</td>\n",
       "      <td>40818</td>\n",
       "      <td>Diesel</td>\n",
       "      <td>150</td>\n",
       "      <td>54.3</td>\n",
       "      <td>2.0</td>\n",
       "    </tr>\n",
       "    <tr>\n",
       "      <th>10777</th>\n",
       "      <td>5 Series</td>\n",
       "      <td>2016</td>\n",
       "      <td>14600</td>\n",
       "      <td>Automatic</td>\n",
       "      <td>42947</td>\n",
       "      <td>Diesel</td>\n",
       "      <td>125</td>\n",
       "      <td>60.1</td>\n",
       "      <td>2.0</td>\n",
       "    </tr>\n",
       "    <tr>\n",
       "      <th>10778</th>\n",
       "      <td>3 Series</td>\n",
       "      <td>2017</td>\n",
       "      <td>13100</td>\n",
       "      <td>Manual</td>\n",
       "      <td>25468</td>\n",
       "      <td>Petrol</td>\n",
       "      <td>200</td>\n",
       "      <td>42.8</td>\n",
       "      <td>2.0</td>\n",
       "    </tr>\n",
       "    <tr>\n",
       "      <th>10779</th>\n",
       "      <td>1 Series</td>\n",
       "      <td>2014</td>\n",
       "      <td>9930</td>\n",
       "      <td>Automatic</td>\n",
       "      <td>45000</td>\n",
       "      <td>Diesel</td>\n",
       "      <td>30</td>\n",
       "      <td>64.2</td>\n",
       "      <td>2.0</td>\n",
       "    </tr>\n",
       "    <tr>\n",
       "      <th>10780</th>\n",
       "      <td>X1</td>\n",
       "      <td>2017</td>\n",
       "      <td>15981</td>\n",
       "      <td>Automatic</td>\n",
       "      <td>59432</td>\n",
       "      <td>Diesel</td>\n",
       "      <td>125</td>\n",
       "      <td>57.6</td>\n",
       "      <td>2.0</td>\n",
       "    </tr>\n",
       "  </tbody>\n",
       "</table>\n",
       "<p>10781 rows × 9 columns</p>\n",
       "</div>"
      ],
      "text/plain": [
       "           model  year  price transmission  mileage fuelType  tax   mpg  \\\n",
       "0       5 Series  2014  11200    Automatic    67068   Diesel  125  57.6   \n",
       "1       6 Series  2018  27000    Automatic    14827   Petrol  145  42.8   \n",
       "2       5 Series  2016  16000    Automatic    62794   Diesel  160  51.4   \n",
       "3       1 Series  2017  12750    Automatic    26676   Diesel  145  72.4   \n",
       "4       7 Series  2014  14500    Automatic    39554   Diesel  160  50.4   \n",
       "...          ...   ...    ...          ...      ...      ...  ...   ...   \n",
       "10776         X3  2016  19000    Automatic    40818   Diesel  150  54.3   \n",
       "10777   5 Series  2016  14600    Automatic    42947   Diesel  125  60.1   \n",
       "10778   3 Series  2017  13100       Manual    25468   Petrol  200  42.8   \n",
       "10779   1 Series  2014   9930    Automatic    45000   Diesel   30  64.2   \n",
       "10780         X1  2017  15981    Automatic    59432   Diesel  125  57.6   \n",
       "\n",
       "       engineSize  \n",
       "0             2.0  \n",
       "1             2.0  \n",
       "2             3.0  \n",
       "3             1.5  \n",
       "4             3.0  \n",
       "...           ...  \n",
       "10776         2.0  \n",
       "10777         2.0  \n",
       "10778         2.0  \n",
       "10779         2.0  \n",
       "10780         2.0  \n",
       "\n",
       "[10781 rows x 9 columns]"
      ]
     },
     "metadata": {},
     "output_type": "display_data"
    },
    {
     "name": "stdout",
     "output_type": "stream",
     "text": [
      "ford\n"
     ]
    },
    {
     "data": {
      "text/html": [
       "<div>\n",
       "<style scoped>\n",
       "    .dataframe tbody tr th:only-of-type {\n",
       "        vertical-align: middle;\n",
       "    }\n",
       "\n",
       "    .dataframe tbody tr th {\n",
       "        vertical-align: top;\n",
       "    }\n",
       "\n",
       "    .dataframe thead th {\n",
       "        text-align: right;\n",
       "    }\n",
       "</style>\n",
       "<table border=\"1\" class=\"dataframe\">\n",
       "  <thead>\n",
       "    <tr style=\"text-align: right;\">\n",
       "      <th></th>\n",
       "      <th>model</th>\n",
       "      <th>year</th>\n",
       "      <th>price</th>\n",
       "      <th>transmission</th>\n",
       "      <th>mileage</th>\n",
       "      <th>fuelType</th>\n",
       "      <th>tax</th>\n",
       "      <th>mpg</th>\n",
       "      <th>engineSize</th>\n",
       "    </tr>\n",
       "  </thead>\n",
       "  <tbody>\n",
       "    <tr>\n",
       "      <th>0</th>\n",
       "      <td>Fiesta</td>\n",
       "      <td>2017</td>\n",
       "      <td>12000</td>\n",
       "      <td>Automatic</td>\n",
       "      <td>15944</td>\n",
       "      <td>Petrol</td>\n",
       "      <td>150</td>\n",
       "      <td>57.7</td>\n",
       "      <td>1.0</td>\n",
       "    </tr>\n",
       "    <tr>\n",
       "      <th>1</th>\n",
       "      <td>Focus</td>\n",
       "      <td>2018</td>\n",
       "      <td>14000</td>\n",
       "      <td>Manual</td>\n",
       "      <td>9083</td>\n",
       "      <td>Petrol</td>\n",
       "      <td>150</td>\n",
       "      <td>57.7</td>\n",
       "      <td>1.0</td>\n",
       "    </tr>\n",
       "    <tr>\n",
       "      <th>2</th>\n",
       "      <td>Focus</td>\n",
       "      <td>2017</td>\n",
       "      <td>13000</td>\n",
       "      <td>Manual</td>\n",
       "      <td>12456</td>\n",
       "      <td>Petrol</td>\n",
       "      <td>150</td>\n",
       "      <td>57.7</td>\n",
       "      <td>1.0</td>\n",
       "    </tr>\n",
       "    <tr>\n",
       "      <th>3</th>\n",
       "      <td>Fiesta</td>\n",
       "      <td>2019</td>\n",
       "      <td>17500</td>\n",
       "      <td>Manual</td>\n",
       "      <td>10460</td>\n",
       "      <td>Petrol</td>\n",
       "      <td>145</td>\n",
       "      <td>40.3</td>\n",
       "      <td>1.5</td>\n",
       "    </tr>\n",
       "    <tr>\n",
       "      <th>4</th>\n",
       "      <td>Fiesta</td>\n",
       "      <td>2019</td>\n",
       "      <td>16500</td>\n",
       "      <td>Automatic</td>\n",
       "      <td>1482</td>\n",
       "      <td>Petrol</td>\n",
       "      <td>145</td>\n",
       "      <td>48.7</td>\n",
       "      <td>1.0</td>\n",
       "    </tr>\n",
       "    <tr>\n",
       "      <th>...</th>\n",
       "      <td>...</td>\n",
       "      <td>...</td>\n",
       "      <td>...</td>\n",
       "      <td>...</td>\n",
       "      <td>...</td>\n",
       "      <td>...</td>\n",
       "      <td>...</td>\n",
       "      <td>...</td>\n",
       "      <td>...</td>\n",
       "    </tr>\n",
       "    <tr>\n",
       "      <th>17960</th>\n",
       "      <td>Fiesta</td>\n",
       "      <td>2016</td>\n",
       "      <td>7999</td>\n",
       "      <td>Manual</td>\n",
       "      <td>31348</td>\n",
       "      <td>Petrol</td>\n",
       "      <td>125</td>\n",
       "      <td>54.3</td>\n",
       "      <td>1.2</td>\n",
       "    </tr>\n",
       "    <tr>\n",
       "      <th>17961</th>\n",
       "      <td>B-MAX</td>\n",
       "      <td>2017</td>\n",
       "      <td>8999</td>\n",
       "      <td>Manual</td>\n",
       "      <td>16700</td>\n",
       "      <td>Petrol</td>\n",
       "      <td>150</td>\n",
       "      <td>47.1</td>\n",
       "      <td>1.4</td>\n",
       "    </tr>\n",
       "    <tr>\n",
       "      <th>17962</th>\n",
       "      <td>B-MAX</td>\n",
       "      <td>2014</td>\n",
       "      <td>7499</td>\n",
       "      <td>Manual</td>\n",
       "      <td>40700</td>\n",
       "      <td>Petrol</td>\n",
       "      <td>30</td>\n",
       "      <td>57.7</td>\n",
       "      <td>1.0</td>\n",
       "    </tr>\n",
       "    <tr>\n",
       "      <th>17963</th>\n",
       "      <td>Focus</td>\n",
       "      <td>2015</td>\n",
       "      <td>9999</td>\n",
       "      <td>Manual</td>\n",
       "      <td>7010</td>\n",
       "      <td>Diesel</td>\n",
       "      <td>20</td>\n",
       "      <td>67.3</td>\n",
       "      <td>1.6</td>\n",
       "    </tr>\n",
       "    <tr>\n",
       "      <th>17964</th>\n",
       "      <td>KA</td>\n",
       "      <td>2018</td>\n",
       "      <td>8299</td>\n",
       "      <td>Manual</td>\n",
       "      <td>5007</td>\n",
       "      <td>Petrol</td>\n",
       "      <td>145</td>\n",
       "      <td>57.7</td>\n",
       "      <td>1.2</td>\n",
       "    </tr>\n",
       "  </tbody>\n",
       "</table>\n",
       "<p>17965 rows × 9 columns</p>\n",
       "</div>"
      ],
      "text/plain": [
       "         model  year  price transmission  mileage fuelType  tax   mpg  \\\n",
       "0       Fiesta  2017  12000    Automatic    15944   Petrol  150  57.7   \n",
       "1        Focus  2018  14000       Manual     9083   Petrol  150  57.7   \n",
       "2        Focus  2017  13000       Manual    12456   Petrol  150  57.7   \n",
       "3       Fiesta  2019  17500       Manual    10460   Petrol  145  40.3   \n",
       "4       Fiesta  2019  16500    Automatic     1482   Petrol  145  48.7   \n",
       "...        ...   ...    ...          ...      ...      ...  ...   ...   \n",
       "17960   Fiesta  2016   7999       Manual    31348   Petrol  125  54.3   \n",
       "17961    B-MAX  2017   8999       Manual    16700   Petrol  150  47.1   \n",
       "17962    B-MAX  2014   7499       Manual    40700   Petrol   30  57.7   \n",
       "17963    Focus  2015   9999       Manual     7010   Diesel   20  67.3   \n",
       "17964       KA  2018   8299       Manual     5007   Petrol  145  57.7   \n",
       "\n",
       "       engineSize  \n",
       "0             1.0  \n",
       "1             1.0  \n",
       "2             1.0  \n",
       "3             1.5  \n",
       "4             1.0  \n",
       "...           ...  \n",
       "17960         1.2  \n",
       "17961         1.4  \n",
       "17962         1.0  \n",
       "17963         1.6  \n",
       "17964         1.2  \n",
       "\n",
       "[17965 rows x 9 columns]"
      ]
     },
     "metadata": {},
     "output_type": "display_data"
    },
    {
     "name": "stdout",
     "output_type": "stream",
     "text": [
      "cclass\n"
     ]
    },
    {
     "data": {
      "text/html": [
       "<div>\n",
       "<style scoped>\n",
       "    .dataframe tbody tr th:only-of-type {\n",
       "        vertical-align: middle;\n",
       "    }\n",
       "\n",
       "    .dataframe tbody tr th {\n",
       "        vertical-align: top;\n",
       "    }\n",
       "\n",
       "    .dataframe thead th {\n",
       "        text-align: right;\n",
       "    }\n",
       "</style>\n",
       "<table border=\"1\" class=\"dataframe\">\n",
       "  <thead>\n",
       "    <tr style=\"text-align: right;\">\n",
       "      <th></th>\n",
       "      <th>model</th>\n",
       "      <th>year</th>\n",
       "      <th>price</th>\n",
       "      <th>transmission</th>\n",
       "      <th>mileage</th>\n",
       "      <th>fuelType</th>\n",
       "      <th>engineSize</th>\n",
       "    </tr>\n",
       "  </thead>\n",
       "  <tbody>\n",
       "    <tr>\n",
       "      <th>0</th>\n",
       "      <td>C Class</td>\n",
       "      <td>2020</td>\n",
       "      <td>30495</td>\n",
       "      <td>Automatic</td>\n",
       "      <td>1200</td>\n",
       "      <td>Diesel</td>\n",
       "      <td>2.0</td>\n",
       "    </tr>\n",
       "    <tr>\n",
       "      <th>1</th>\n",
       "      <td>C Class</td>\n",
       "      <td>2020</td>\n",
       "      <td>29989</td>\n",
       "      <td>Automatic</td>\n",
       "      <td>1000</td>\n",
       "      <td>Petrol</td>\n",
       "      <td>1.5</td>\n",
       "    </tr>\n",
       "    <tr>\n",
       "      <th>2</th>\n",
       "      <td>C Class</td>\n",
       "      <td>2020</td>\n",
       "      <td>37899</td>\n",
       "      <td>Automatic</td>\n",
       "      <td>500</td>\n",
       "      <td>Diesel</td>\n",
       "      <td>2.0</td>\n",
       "    </tr>\n",
       "    <tr>\n",
       "      <th>3</th>\n",
       "      <td>C Class</td>\n",
       "      <td>2019</td>\n",
       "      <td>30399</td>\n",
       "      <td>Automatic</td>\n",
       "      <td>5000</td>\n",
       "      <td>Diesel</td>\n",
       "      <td>2.0</td>\n",
       "    </tr>\n",
       "    <tr>\n",
       "      <th>4</th>\n",
       "      <td>C Class</td>\n",
       "      <td>2019</td>\n",
       "      <td>29899</td>\n",
       "      <td>Automatic</td>\n",
       "      <td>4500</td>\n",
       "      <td>Diesel</td>\n",
       "      <td>2.0</td>\n",
       "    </tr>\n",
       "    <tr>\n",
       "      <th>...</th>\n",
       "      <td>...</td>\n",
       "      <td>...</td>\n",
       "      <td>...</td>\n",
       "      <td>...</td>\n",
       "      <td>...</td>\n",
       "      <td>...</td>\n",
       "      <td>...</td>\n",
       "    </tr>\n",
       "    <tr>\n",
       "      <th>3894</th>\n",
       "      <td>C Class</td>\n",
       "      <td>2017</td>\n",
       "      <td>14700</td>\n",
       "      <td>Manual</td>\n",
       "      <td>31357</td>\n",
       "      <td>Diesel</td>\n",
       "      <td>1.6</td>\n",
       "    </tr>\n",
       "    <tr>\n",
       "      <th>3895</th>\n",
       "      <td>C Class</td>\n",
       "      <td>2018</td>\n",
       "      <td>18500</td>\n",
       "      <td>Automatic</td>\n",
       "      <td>28248</td>\n",
       "      <td>Diesel</td>\n",
       "      <td>2.1</td>\n",
       "    </tr>\n",
       "    <tr>\n",
       "      <th>3896</th>\n",
       "      <td>C Class</td>\n",
       "      <td>2014</td>\n",
       "      <td>11900</td>\n",
       "      <td>Manual</td>\n",
       "      <td>48055</td>\n",
       "      <td>Diesel</td>\n",
       "      <td>2.1</td>\n",
       "    </tr>\n",
       "    <tr>\n",
       "      <th>3897</th>\n",
       "      <td>C Class</td>\n",
       "      <td>2014</td>\n",
       "      <td>11300</td>\n",
       "      <td>Automatic</td>\n",
       "      <td>49865</td>\n",
       "      <td>Diesel</td>\n",
       "      <td>2.1</td>\n",
       "    </tr>\n",
       "    <tr>\n",
       "      <th>3898</th>\n",
       "      <td>C Class</td>\n",
       "      <td>2014</td>\n",
       "      <td>14800</td>\n",
       "      <td>Automatic</td>\n",
       "      <td>55445</td>\n",
       "      <td>Diesel</td>\n",
       "      <td>2.1</td>\n",
       "    </tr>\n",
       "  </tbody>\n",
       "</table>\n",
       "<p>3899 rows × 7 columns</p>\n",
       "</div>"
      ],
      "text/plain": [
       "         model  year  price transmission  mileage fuelType  engineSize\n",
       "0      C Class  2020  30495    Automatic     1200   Diesel         2.0\n",
       "1      C Class  2020  29989    Automatic     1000   Petrol         1.5\n",
       "2      C Class  2020  37899    Automatic      500   Diesel         2.0\n",
       "3      C Class  2019  30399    Automatic     5000   Diesel         2.0\n",
       "4      C Class  2019  29899    Automatic     4500   Diesel         2.0\n",
       "...        ...   ...    ...          ...      ...      ...         ...\n",
       "3894   C Class  2017  14700       Manual    31357   Diesel         1.6\n",
       "3895   C Class  2018  18500    Automatic    28248   Diesel         2.1\n",
       "3896   C Class  2014  11900       Manual    48055   Diesel         2.1\n",
       "3897   C Class  2014  11300    Automatic    49865   Diesel         2.1\n",
       "3898   C Class  2014  14800    Automatic    55445   Diesel         2.1\n",
       "\n",
       "[3899 rows x 7 columns]"
      ]
     },
     "metadata": {},
     "output_type": "display_data"
    },
    {
     "name": "stdout",
     "output_type": "stream",
     "text": [
      "vauxhall\n"
     ]
    },
    {
     "data": {
      "text/html": [
       "<div>\n",
       "<style scoped>\n",
       "    .dataframe tbody tr th:only-of-type {\n",
       "        vertical-align: middle;\n",
       "    }\n",
       "\n",
       "    .dataframe tbody tr th {\n",
       "        vertical-align: top;\n",
       "    }\n",
       "\n",
       "    .dataframe thead th {\n",
       "        text-align: right;\n",
       "    }\n",
       "</style>\n",
       "<table border=\"1\" class=\"dataframe\">\n",
       "  <thead>\n",
       "    <tr style=\"text-align: right;\">\n",
       "      <th></th>\n",
       "      <th>model</th>\n",
       "      <th>year</th>\n",
       "      <th>price</th>\n",
       "      <th>transmission</th>\n",
       "      <th>mileage</th>\n",
       "      <th>fuelType</th>\n",
       "      <th>tax</th>\n",
       "      <th>mpg</th>\n",
       "      <th>engineSize</th>\n",
       "    </tr>\n",
       "  </thead>\n",
       "  <tbody>\n",
       "    <tr>\n",
       "      <th>0</th>\n",
       "      <td>Corsa</td>\n",
       "      <td>2018</td>\n",
       "      <td>7885</td>\n",
       "      <td>Manual</td>\n",
       "      <td>9876</td>\n",
       "      <td>Petrol</td>\n",
       "      <td>145</td>\n",
       "      <td>55.4</td>\n",
       "      <td>1.4</td>\n",
       "    </tr>\n",
       "    <tr>\n",
       "      <th>1</th>\n",
       "      <td>Corsa</td>\n",
       "      <td>2019</td>\n",
       "      <td>11995</td>\n",
       "      <td>Manual</td>\n",
       "      <td>2500</td>\n",
       "      <td>Petrol</td>\n",
       "      <td>145</td>\n",
       "      <td>54.3</td>\n",
       "      <td>1.4</td>\n",
       "    </tr>\n",
       "    <tr>\n",
       "      <th>2</th>\n",
       "      <td>Corsa</td>\n",
       "      <td>2017</td>\n",
       "      <td>9777</td>\n",
       "      <td>Automatic</td>\n",
       "      <td>9625</td>\n",
       "      <td>Petrol</td>\n",
       "      <td>145</td>\n",
       "      <td>47.9</td>\n",
       "      <td>1.4</td>\n",
       "    </tr>\n",
       "    <tr>\n",
       "      <th>3</th>\n",
       "      <td>Corsa</td>\n",
       "      <td>2016</td>\n",
       "      <td>8500</td>\n",
       "      <td>Manual</td>\n",
       "      <td>25796</td>\n",
       "      <td>Petrol</td>\n",
       "      <td>30</td>\n",
       "      <td>55.4</td>\n",
       "      <td>1.4</td>\n",
       "    </tr>\n",
       "    <tr>\n",
       "      <th>4</th>\n",
       "      <td>Corsa</td>\n",
       "      <td>2019</td>\n",
       "      <td>10000</td>\n",
       "      <td>Manual</td>\n",
       "      <td>3887</td>\n",
       "      <td>Petrol</td>\n",
       "      <td>145</td>\n",
       "      <td>43.5</td>\n",
       "      <td>1.4</td>\n",
       "    </tr>\n",
       "    <tr>\n",
       "      <th>...</th>\n",
       "      <td>...</td>\n",
       "      <td>...</td>\n",
       "      <td>...</td>\n",
       "      <td>...</td>\n",
       "      <td>...</td>\n",
       "      <td>...</td>\n",
       "      <td>...</td>\n",
       "      <td>...</td>\n",
       "      <td>...</td>\n",
       "    </tr>\n",
       "    <tr>\n",
       "      <th>13627</th>\n",
       "      <td>Tigra</td>\n",
       "      <td>2007</td>\n",
       "      <td>2499</td>\n",
       "      <td>Manual</td>\n",
       "      <td>48640</td>\n",
       "      <td>Petrol</td>\n",
       "      <td>165</td>\n",
       "      <td>46.3</td>\n",
       "      <td>1.4</td>\n",
       "    </tr>\n",
       "    <tr>\n",
       "      <th>13628</th>\n",
       "      <td>Vectra</td>\n",
       "      <td>2007</td>\n",
       "      <td>1795</td>\n",
       "      <td>Manual</td>\n",
       "      <td>75000</td>\n",
       "      <td>Petrol</td>\n",
       "      <td>240</td>\n",
       "      <td>39.2</td>\n",
       "      <td>1.8</td>\n",
       "    </tr>\n",
       "    <tr>\n",
       "      <th>13629</th>\n",
       "      <td>Vectra</td>\n",
       "      <td>2005</td>\n",
       "      <td>1495</td>\n",
       "      <td>Manual</td>\n",
       "      <td>74000</td>\n",
       "      <td>Petrol</td>\n",
       "      <td>235</td>\n",
       "      <td>38.7</td>\n",
       "      <td>1.8</td>\n",
       "    </tr>\n",
       "    <tr>\n",
       "      <th>13630</th>\n",
       "      <td>Vectra</td>\n",
       "      <td>2008</td>\n",
       "      <td>1695</td>\n",
       "      <td>Automatic</td>\n",
       "      <td>131000</td>\n",
       "      <td>Diesel</td>\n",
       "      <td>200</td>\n",
       "      <td>39.8</td>\n",
       "      <td>1.9</td>\n",
       "    </tr>\n",
       "    <tr>\n",
       "      <th>13631</th>\n",
       "      <td>Vectra</td>\n",
       "      <td>2005</td>\n",
       "      <td>1450</td>\n",
       "      <td>Manual</td>\n",
       "      <td>147000</td>\n",
       "      <td>Petrol</td>\n",
       "      <td>330</td>\n",
       "      <td>27.9</td>\n",
       "      <td>3.2</td>\n",
       "    </tr>\n",
       "  </tbody>\n",
       "</table>\n",
       "<p>13632 rows × 9 columns</p>\n",
       "</div>"
      ],
      "text/plain": [
       "         model  year  price transmission  mileage fuelType  tax   mpg  \\\n",
       "0        Corsa  2018   7885       Manual     9876   Petrol  145  55.4   \n",
       "1        Corsa  2019  11995       Manual     2500   Petrol  145  54.3   \n",
       "2        Corsa  2017   9777    Automatic     9625   Petrol  145  47.9   \n",
       "3        Corsa  2016   8500       Manual    25796   Petrol   30  55.4   \n",
       "4        Corsa  2019  10000       Manual     3887   Petrol  145  43.5   \n",
       "...        ...   ...    ...          ...      ...      ...  ...   ...   \n",
       "13627    Tigra  2007   2499       Manual    48640   Petrol  165  46.3   \n",
       "13628   Vectra  2007   1795       Manual    75000   Petrol  240  39.2   \n",
       "13629   Vectra  2005   1495       Manual    74000   Petrol  235  38.7   \n",
       "13630   Vectra  2008   1695    Automatic   131000   Diesel  200  39.8   \n",
       "13631   Vectra  2005   1450       Manual   147000   Petrol  330  27.9   \n",
       "\n",
       "       engineSize  \n",
       "0             1.4  \n",
       "1             1.4  \n",
       "2             1.4  \n",
       "3             1.4  \n",
       "4             1.4  \n",
       "...           ...  \n",
       "13627         1.4  \n",
       "13628         1.8  \n",
       "13629         1.8  \n",
       "13630         1.9  \n",
       "13631         3.2  \n",
       "\n",
       "[13632 rows x 9 columns]"
      ]
     },
     "metadata": {},
     "output_type": "display_data"
    },
    {
     "name": "stdout",
     "output_type": "stream",
     "text": [
      "merc\n"
     ]
    },
    {
     "data": {
      "text/html": [
       "<div>\n",
       "<style scoped>\n",
       "    .dataframe tbody tr th:only-of-type {\n",
       "        vertical-align: middle;\n",
       "    }\n",
       "\n",
       "    .dataframe tbody tr th {\n",
       "        vertical-align: top;\n",
       "    }\n",
       "\n",
       "    .dataframe thead th {\n",
       "        text-align: right;\n",
       "    }\n",
       "</style>\n",
       "<table border=\"1\" class=\"dataframe\">\n",
       "  <thead>\n",
       "    <tr style=\"text-align: right;\">\n",
       "      <th></th>\n",
       "      <th>model</th>\n",
       "      <th>year</th>\n",
       "      <th>price</th>\n",
       "      <th>transmission</th>\n",
       "      <th>mileage</th>\n",
       "      <th>fuelType</th>\n",
       "      <th>tax</th>\n",
       "      <th>mpg</th>\n",
       "      <th>engineSize</th>\n",
       "    </tr>\n",
       "  </thead>\n",
       "  <tbody>\n",
       "    <tr>\n",
       "      <th>0</th>\n",
       "      <td>SLK</td>\n",
       "      <td>2005</td>\n",
       "      <td>5200</td>\n",
       "      <td>Automatic</td>\n",
       "      <td>63000</td>\n",
       "      <td>Petrol</td>\n",
       "      <td>325</td>\n",
       "      <td>32.1</td>\n",
       "      <td>1.8</td>\n",
       "    </tr>\n",
       "    <tr>\n",
       "      <th>1</th>\n",
       "      <td>S Class</td>\n",
       "      <td>2017</td>\n",
       "      <td>34948</td>\n",
       "      <td>Automatic</td>\n",
       "      <td>27000</td>\n",
       "      <td>Hybrid</td>\n",
       "      <td>20</td>\n",
       "      <td>61.4</td>\n",
       "      <td>2.1</td>\n",
       "    </tr>\n",
       "    <tr>\n",
       "      <th>2</th>\n",
       "      <td>SL CLASS</td>\n",
       "      <td>2016</td>\n",
       "      <td>49948</td>\n",
       "      <td>Automatic</td>\n",
       "      <td>6200</td>\n",
       "      <td>Petrol</td>\n",
       "      <td>555</td>\n",
       "      <td>28.0</td>\n",
       "      <td>5.5</td>\n",
       "    </tr>\n",
       "    <tr>\n",
       "      <th>3</th>\n",
       "      <td>G Class</td>\n",
       "      <td>2016</td>\n",
       "      <td>61948</td>\n",
       "      <td>Automatic</td>\n",
       "      <td>16000</td>\n",
       "      <td>Petrol</td>\n",
       "      <td>325</td>\n",
       "      <td>30.4</td>\n",
       "      <td>4.0</td>\n",
       "    </tr>\n",
       "    <tr>\n",
       "      <th>4</th>\n",
       "      <td>G Class</td>\n",
       "      <td>2016</td>\n",
       "      <td>73948</td>\n",
       "      <td>Automatic</td>\n",
       "      <td>4000</td>\n",
       "      <td>Petrol</td>\n",
       "      <td>325</td>\n",
       "      <td>30.1</td>\n",
       "      <td>4.0</td>\n",
       "    </tr>\n",
       "    <tr>\n",
       "      <th>...</th>\n",
       "      <td>...</td>\n",
       "      <td>...</td>\n",
       "      <td>...</td>\n",
       "      <td>...</td>\n",
       "      <td>...</td>\n",
       "      <td>...</td>\n",
       "      <td>...</td>\n",
       "      <td>...</td>\n",
       "      <td>...</td>\n",
       "    </tr>\n",
       "    <tr>\n",
       "      <th>13114</th>\n",
       "      <td>C Class</td>\n",
       "      <td>2020</td>\n",
       "      <td>35999</td>\n",
       "      <td>Automatic</td>\n",
       "      <td>500</td>\n",
       "      <td>Diesel</td>\n",
       "      <td>145</td>\n",
       "      <td>55.4</td>\n",
       "      <td>2.0</td>\n",
       "    </tr>\n",
       "    <tr>\n",
       "      <th>13115</th>\n",
       "      <td>B Class</td>\n",
       "      <td>2020</td>\n",
       "      <td>24699</td>\n",
       "      <td>Automatic</td>\n",
       "      <td>2500</td>\n",
       "      <td>Diesel</td>\n",
       "      <td>145</td>\n",
       "      <td>55.4</td>\n",
       "      <td>2.0</td>\n",
       "    </tr>\n",
       "    <tr>\n",
       "      <th>13116</th>\n",
       "      <td>GLC Class</td>\n",
       "      <td>2019</td>\n",
       "      <td>30999</td>\n",
       "      <td>Automatic</td>\n",
       "      <td>11612</td>\n",
       "      <td>Diesel</td>\n",
       "      <td>145</td>\n",
       "      <td>41.5</td>\n",
       "      <td>2.1</td>\n",
       "    </tr>\n",
       "    <tr>\n",
       "      <th>13117</th>\n",
       "      <td>CLS Class</td>\n",
       "      <td>2019</td>\n",
       "      <td>37990</td>\n",
       "      <td>Automatic</td>\n",
       "      <td>2426</td>\n",
       "      <td>Diesel</td>\n",
       "      <td>145</td>\n",
       "      <td>45.6</td>\n",
       "      <td>2.0</td>\n",
       "    </tr>\n",
       "    <tr>\n",
       "      <th>13118</th>\n",
       "      <td>S Class</td>\n",
       "      <td>2019</td>\n",
       "      <td>54999</td>\n",
       "      <td>Automatic</td>\n",
       "      <td>2075</td>\n",
       "      <td>Diesel</td>\n",
       "      <td>145</td>\n",
       "      <td>52.3</td>\n",
       "      <td>2.9</td>\n",
       "    </tr>\n",
       "  </tbody>\n",
       "</table>\n",
       "<p>13119 rows × 9 columns</p>\n",
       "</div>"
      ],
      "text/plain": [
       "            model  year  price transmission  mileage fuelType  tax   mpg  \\\n",
       "0             SLK  2005   5200    Automatic    63000   Petrol  325  32.1   \n",
       "1         S Class  2017  34948    Automatic    27000   Hybrid   20  61.4   \n",
       "2        SL CLASS  2016  49948    Automatic     6200   Petrol  555  28.0   \n",
       "3         G Class  2016  61948    Automatic    16000   Petrol  325  30.4   \n",
       "4         G Class  2016  73948    Automatic     4000   Petrol  325  30.1   \n",
       "...           ...   ...    ...          ...      ...      ...  ...   ...   \n",
       "13114     C Class  2020  35999    Automatic      500   Diesel  145  55.4   \n",
       "13115     B Class  2020  24699    Automatic     2500   Diesel  145  55.4   \n",
       "13116   GLC Class  2019  30999    Automatic    11612   Diesel  145  41.5   \n",
       "13117   CLS Class  2019  37990    Automatic     2426   Diesel  145  45.6   \n",
       "13118     S Class  2019  54999    Automatic     2075   Diesel  145  52.3   \n",
       "\n",
       "       engineSize  \n",
       "0             1.8  \n",
       "1             2.1  \n",
       "2             5.5  \n",
       "3             4.0  \n",
       "4             4.0  \n",
       "...           ...  \n",
       "13114         2.0  \n",
       "13115         2.0  \n",
       "13116         2.1  \n",
       "13117         2.0  \n",
       "13118         2.9  \n",
       "\n",
       "[13119 rows x 9 columns]"
      ]
     },
     "metadata": {},
     "output_type": "display_data"
    },
    {
     "name": "stdout",
     "output_type": "stream",
     "text": [
      "focus\n"
     ]
    },
    {
     "data": {
      "text/html": [
       "<div>\n",
       "<style scoped>\n",
       "    .dataframe tbody tr th:only-of-type {\n",
       "        vertical-align: middle;\n",
       "    }\n",
       "\n",
       "    .dataframe tbody tr th {\n",
       "        vertical-align: top;\n",
       "    }\n",
       "\n",
       "    .dataframe thead th {\n",
       "        text-align: right;\n",
       "    }\n",
       "</style>\n",
       "<table border=\"1\" class=\"dataframe\">\n",
       "  <thead>\n",
       "    <tr style=\"text-align: right;\">\n",
       "      <th></th>\n",
       "      <th>model</th>\n",
       "      <th>year</th>\n",
       "      <th>price</th>\n",
       "      <th>transmission</th>\n",
       "      <th>mileage</th>\n",
       "      <th>fuelType</th>\n",
       "      <th>engineSize</th>\n",
       "    </tr>\n",
       "  </thead>\n",
       "  <tbody>\n",
       "    <tr>\n",
       "      <th>0</th>\n",
       "      <td>Focus</td>\n",
       "      <td>2016</td>\n",
       "      <td>8000</td>\n",
       "      <td>Manual</td>\n",
       "      <td>38852</td>\n",
       "      <td>Petrol</td>\n",
       "      <td>1.0</td>\n",
       "    </tr>\n",
       "    <tr>\n",
       "      <th>1</th>\n",
       "      <td>Focus</td>\n",
       "      <td>2019</td>\n",
       "      <td>13400</td>\n",
       "      <td>Manual</td>\n",
       "      <td>11952</td>\n",
       "      <td>Petrol</td>\n",
       "      <td>1.0</td>\n",
       "    </tr>\n",
       "    <tr>\n",
       "      <th>2</th>\n",
       "      <td>Focus</td>\n",
       "      <td>2019</td>\n",
       "      <td>14600</td>\n",
       "      <td>Manual</td>\n",
       "      <td>22142</td>\n",
       "      <td>Petrol</td>\n",
       "      <td>1.5</td>\n",
       "    </tr>\n",
       "    <tr>\n",
       "      <th>3</th>\n",
       "      <td>Focus</td>\n",
       "      <td>2016</td>\n",
       "      <td>9450</td>\n",
       "      <td>Manual</td>\n",
       "      <td>14549</td>\n",
       "      <td>Diesel</td>\n",
       "      <td>1.6</td>\n",
       "    </tr>\n",
       "    <tr>\n",
       "      <th>4</th>\n",
       "      <td>Focus</td>\n",
       "      <td>2015</td>\n",
       "      <td>9999</td>\n",
       "      <td>Manual</td>\n",
       "      <td>7010</td>\n",
       "      <td>Diesel</td>\n",
       "      <td>1.6</td>\n",
       "    </tr>\n",
       "    <tr>\n",
       "      <th>...</th>\n",
       "      <td>...</td>\n",
       "      <td>...</td>\n",
       "      <td>...</td>\n",
       "      <td>...</td>\n",
       "      <td>...</td>\n",
       "      <td>...</td>\n",
       "      <td>...</td>\n",
       "    </tr>\n",
       "    <tr>\n",
       "      <th>5449</th>\n",
       "      <td>Focus</td>\n",
       "      <td>2019</td>\n",
       "      <td>18745</td>\n",
       "      <td>Manual</td>\n",
       "      <td>7855</td>\n",
       "      <td>Diesel</td>\n",
       "      <td>2.0</td>\n",
       "    </tr>\n",
       "    <tr>\n",
       "      <th>5450</th>\n",
       "      <td>Focus</td>\n",
       "      <td>2019</td>\n",
       "      <td>16350</td>\n",
       "      <td>Manual</td>\n",
       "      <td>13891</td>\n",
       "      <td>Petrol</td>\n",
       "      <td>1.0</td>\n",
       "    </tr>\n",
       "    <tr>\n",
       "      <th>5451</th>\n",
       "      <td>Focus</td>\n",
       "      <td>2019</td>\n",
       "      <td>16850</td>\n",
       "      <td>Manual</td>\n",
       "      <td>13452</td>\n",
       "      <td>Petrol</td>\n",
       "      <td>1.0</td>\n",
       "    </tr>\n",
       "    <tr>\n",
       "      <th>5452</th>\n",
       "      <td>Focus</td>\n",
       "      <td>2019</td>\n",
       "      <td>17310</td>\n",
       "      <td>Automatic</td>\n",
       "      <td>13376</td>\n",
       "      <td>Petrol</td>\n",
       "      <td>1.0</td>\n",
       "    </tr>\n",
       "    <tr>\n",
       "      <th>5453</th>\n",
       "      <td>Focus</td>\n",
       "      <td>2019</td>\n",
       "      <td>17610</td>\n",
       "      <td>Automatic</td>\n",
       "      <td>7886</td>\n",
       "      <td>Petrol</td>\n",
       "      <td>1.0</td>\n",
       "    </tr>\n",
       "  </tbody>\n",
       "</table>\n",
       "<p>5454 rows × 7 columns</p>\n",
       "</div>"
      ],
      "text/plain": [
       "       model  year  price transmission  mileage fuelType  engineSize\n",
       "0      Focus  2016   8000       Manual    38852   Petrol         1.0\n",
       "1      Focus  2019  13400       Manual    11952   Petrol         1.0\n",
       "2      Focus  2019  14600       Manual    22142   Petrol         1.5\n",
       "3      Focus  2016   9450       Manual    14549   Diesel         1.6\n",
       "4      Focus  2015   9999       Manual     7010   Diesel         1.6\n",
       "...      ...   ...    ...          ...      ...      ...         ...\n",
       "5449   Focus  2019  18745       Manual     7855   Diesel         2.0\n",
       "5450   Focus  2019  16350       Manual    13891   Petrol         1.0\n",
       "5451   Focus  2019  16850       Manual    13452   Petrol         1.0\n",
       "5452   Focus  2019  17310    Automatic    13376   Petrol         1.0\n",
       "5453   Focus  2019  17610    Automatic     7886   Petrol         1.0\n",
       "\n",
       "[5454 rows x 7 columns]"
      ]
     },
     "metadata": {},
     "output_type": "display_data"
    },
    {
     "name": "stdout",
     "output_type": "stream",
     "text": [
      "vw\n"
     ]
    },
    {
     "data": {
      "text/html": [
       "<div>\n",
       "<style scoped>\n",
       "    .dataframe tbody tr th:only-of-type {\n",
       "        vertical-align: middle;\n",
       "    }\n",
       "\n",
       "    .dataframe tbody tr th {\n",
       "        vertical-align: top;\n",
       "    }\n",
       "\n",
       "    .dataframe thead th {\n",
       "        text-align: right;\n",
       "    }\n",
       "</style>\n",
       "<table border=\"1\" class=\"dataframe\">\n",
       "  <thead>\n",
       "    <tr style=\"text-align: right;\">\n",
       "      <th></th>\n",
       "      <th>model</th>\n",
       "      <th>year</th>\n",
       "      <th>price</th>\n",
       "      <th>transmission</th>\n",
       "      <th>mileage</th>\n",
       "      <th>fuelType</th>\n",
       "      <th>tax</th>\n",
       "      <th>mpg</th>\n",
       "      <th>engineSize</th>\n",
       "    </tr>\n",
       "  </thead>\n",
       "  <tbody>\n",
       "    <tr>\n",
       "      <th>0</th>\n",
       "      <td>T-Roc</td>\n",
       "      <td>2019</td>\n",
       "      <td>25000</td>\n",
       "      <td>Automatic</td>\n",
       "      <td>13904</td>\n",
       "      <td>Diesel</td>\n",
       "      <td>145</td>\n",
       "      <td>49.6</td>\n",
       "      <td>2.0</td>\n",
       "    </tr>\n",
       "    <tr>\n",
       "      <th>1</th>\n",
       "      <td>T-Roc</td>\n",
       "      <td>2019</td>\n",
       "      <td>26883</td>\n",
       "      <td>Automatic</td>\n",
       "      <td>4562</td>\n",
       "      <td>Diesel</td>\n",
       "      <td>145</td>\n",
       "      <td>49.6</td>\n",
       "      <td>2.0</td>\n",
       "    </tr>\n",
       "    <tr>\n",
       "      <th>2</th>\n",
       "      <td>T-Roc</td>\n",
       "      <td>2019</td>\n",
       "      <td>20000</td>\n",
       "      <td>Manual</td>\n",
       "      <td>7414</td>\n",
       "      <td>Diesel</td>\n",
       "      <td>145</td>\n",
       "      <td>50.4</td>\n",
       "      <td>2.0</td>\n",
       "    </tr>\n",
       "    <tr>\n",
       "      <th>3</th>\n",
       "      <td>T-Roc</td>\n",
       "      <td>2019</td>\n",
       "      <td>33492</td>\n",
       "      <td>Automatic</td>\n",
       "      <td>4825</td>\n",
       "      <td>Petrol</td>\n",
       "      <td>145</td>\n",
       "      <td>32.5</td>\n",
       "      <td>2.0</td>\n",
       "    </tr>\n",
       "    <tr>\n",
       "      <th>4</th>\n",
       "      <td>T-Roc</td>\n",
       "      <td>2019</td>\n",
       "      <td>22900</td>\n",
       "      <td>Semi-Auto</td>\n",
       "      <td>6500</td>\n",
       "      <td>Petrol</td>\n",
       "      <td>150</td>\n",
       "      <td>39.8</td>\n",
       "      <td>1.5</td>\n",
       "    </tr>\n",
       "    <tr>\n",
       "      <th>...</th>\n",
       "      <td>...</td>\n",
       "      <td>...</td>\n",
       "      <td>...</td>\n",
       "      <td>...</td>\n",
       "      <td>...</td>\n",
       "      <td>...</td>\n",
       "      <td>...</td>\n",
       "      <td>...</td>\n",
       "      <td>...</td>\n",
       "    </tr>\n",
       "    <tr>\n",
       "      <th>15152</th>\n",
       "      <td>Eos</td>\n",
       "      <td>2012</td>\n",
       "      <td>5990</td>\n",
       "      <td>Manual</td>\n",
       "      <td>74000</td>\n",
       "      <td>Diesel</td>\n",
       "      <td>125</td>\n",
       "      <td>58.9</td>\n",
       "      <td>2.0</td>\n",
       "    </tr>\n",
       "    <tr>\n",
       "      <th>15153</th>\n",
       "      <td>Fox</td>\n",
       "      <td>2008</td>\n",
       "      <td>1799</td>\n",
       "      <td>Manual</td>\n",
       "      <td>88102</td>\n",
       "      <td>Petrol</td>\n",
       "      <td>145</td>\n",
       "      <td>46.3</td>\n",
       "      <td>1.2</td>\n",
       "    </tr>\n",
       "    <tr>\n",
       "      <th>15154</th>\n",
       "      <td>Fox</td>\n",
       "      <td>2009</td>\n",
       "      <td>1590</td>\n",
       "      <td>Manual</td>\n",
       "      <td>70000</td>\n",
       "      <td>Petrol</td>\n",
       "      <td>200</td>\n",
       "      <td>42.0</td>\n",
       "      <td>1.4</td>\n",
       "    </tr>\n",
       "    <tr>\n",
       "      <th>15155</th>\n",
       "      <td>Fox</td>\n",
       "      <td>2006</td>\n",
       "      <td>1250</td>\n",
       "      <td>Manual</td>\n",
       "      <td>82704</td>\n",
       "      <td>Petrol</td>\n",
       "      <td>150</td>\n",
       "      <td>46.3</td>\n",
       "      <td>1.2</td>\n",
       "    </tr>\n",
       "    <tr>\n",
       "      <th>15156</th>\n",
       "      <td>Fox</td>\n",
       "      <td>2007</td>\n",
       "      <td>2295</td>\n",
       "      <td>Manual</td>\n",
       "      <td>74000</td>\n",
       "      <td>Petrol</td>\n",
       "      <td>145</td>\n",
       "      <td>46.3</td>\n",
       "      <td>1.2</td>\n",
       "    </tr>\n",
       "  </tbody>\n",
       "</table>\n",
       "<p>15157 rows × 9 columns</p>\n",
       "</div>"
      ],
      "text/plain": [
       "        model  year  price transmission  mileage fuelType  tax   mpg  \\\n",
       "0       T-Roc  2019  25000    Automatic    13904   Diesel  145  49.6   \n",
       "1       T-Roc  2019  26883    Automatic     4562   Diesel  145  49.6   \n",
       "2       T-Roc  2019  20000       Manual     7414   Diesel  145  50.4   \n",
       "3       T-Roc  2019  33492    Automatic     4825   Petrol  145  32.5   \n",
       "4       T-Roc  2019  22900    Semi-Auto     6500   Petrol  150  39.8   \n",
       "...       ...   ...    ...          ...      ...      ...  ...   ...   \n",
       "15152     Eos  2012   5990       Manual    74000   Diesel  125  58.9   \n",
       "15153     Fox  2008   1799       Manual    88102   Petrol  145  46.3   \n",
       "15154     Fox  2009   1590       Manual    70000   Petrol  200  42.0   \n",
       "15155     Fox  2006   1250       Manual    82704   Petrol  150  46.3   \n",
       "15156     Fox  2007   2295       Manual    74000   Petrol  145  46.3   \n",
       "\n",
       "       engineSize  \n",
       "0             2.0  \n",
       "1             2.0  \n",
       "2             2.0  \n",
       "3             2.0  \n",
       "4             1.5  \n",
       "...           ...  \n",
       "15152         2.0  \n",
       "15153         1.2  \n",
       "15154         1.4  \n",
       "15155         1.2  \n",
       "15156         1.2  \n",
       "\n",
       "[15157 rows x 9 columns]"
      ]
     },
     "metadata": {},
     "output_type": "display_data"
    },
    {
     "name": "stdout",
     "output_type": "stream",
     "text": [
      "hyundi\n"
     ]
    },
    {
     "data": {
      "text/html": [
       "<div>\n",
       "<style scoped>\n",
       "    .dataframe tbody tr th:only-of-type {\n",
       "        vertical-align: middle;\n",
       "    }\n",
       "\n",
       "    .dataframe tbody tr th {\n",
       "        vertical-align: top;\n",
       "    }\n",
       "\n",
       "    .dataframe thead th {\n",
       "        text-align: right;\n",
       "    }\n",
       "</style>\n",
       "<table border=\"1\" class=\"dataframe\">\n",
       "  <thead>\n",
       "    <tr style=\"text-align: right;\">\n",
       "      <th></th>\n",
       "      <th>model</th>\n",
       "      <th>year</th>\n",
       "      <th>price</th>\n",
       "      <th>transmission</th>\n",
       "      <th>mileage</th>\n",
       "      <th>fuelType</th>\n",
       "      <th>tax(£)</th>\n",
       "      <th>mpg</th>\n",
       "      <th>engineSize</th>\n",
       "    </tr>\n",
       "  </thead>\n",
       "  <tbody>\n",
       "    <tr>\n",
       "      <th>0</th>\n",
       "      <td>I20</td>\n",
       "      <td>2017</td>\n",
       "      <td>7999</td>\n",
       "      <td>Manual</td>\n",
       "      <td>17307</td>\n",
       "      <td>Petrol</td>\n",
       "      <td>145</td>\n",
       "      <td>58.9</td>\n",
       "      <td>1.2</td>\n",
       "    </tr>\n",
       "    <tr>\n",
       "      <th>1</th>\n",
       "      <td>Tucson</td>\n",
       "      <td>2016</td>\n",
       "      <td>14499</td>\n",
       "      <td>Automatic</td>\n",
       "      <td>25233</td>\n",
       "      <td>Diesel</td>\n",
       "      <td>235</td>\n",
       "      <td>43.5</td>\n",
       "      <td>2.0</td>\n",
       "    </tr>\n",
       "    <tr>\n",
       "      <th>2</th>\n",
       "      <td>Tucson</td>\n",
       "      <td>2016</td>\n",
       "      <td>11399</td>\n",
       "      <td>Manual</td>\n",
       "      <td>37877</td>\n",
       "      <td>Diesel</td>\n",
       "      <td>30</td>\n",
       "      <td>61.7</td>\n",
       "      <td>1.7</td>\n",
       "    </tr>\n",
       "    <tr>\n",
       "      <th>3</th>\n",
       "      <td>I10</td>\n",
       "      <td>2016</td>\n",
       "      <td>6499</td>\n",
       "      <td>Manual</td>\n",
       "      <td>23789</td>\n",
       "      <td>Petrol</td>\n",
       "      <td>20</td>\n",
       "      <td>60.1</td>\n",
       "      <td>1.0</td>\n",
       "    </tr>\n",
       "    <tr>\n",
       "      <th>4</th>\n",
       "      <td>IX35</td>\n",
       "      <td>2015</td>\n",
       "      <td>10199</td>\n",
       "      <td>Manual</td>\n",
       "      <td>33177</td>\n",
       "      <td>Diesel</td>\n",
       "      <td>160</td>\n",
       "      <td>51.4</td>\n",
       "      <td>2.0</td>\n",
       "    </tr>\n",
       "    <tr>\n",
       "      <th>...</th>\n",
       "      <td>...</td>\n",
       "      <td>...</td>\n",
       "      <td>...</td>\n",
       "      <td>...</td>\n",
       "      <td>...</td>\n",
       "      <td>...</td>\n",
       "      <td>...</td>\n",
       "      <td>...</td>\n",
       "      <td>...</td>\n",
       "    </tr>\n",
       "    <tr>\n",
       "      <th>4855</th>\n",
       "      <td>I30</td>\n",
       "      <td>2016</td>\n",
       "      <td>8680</td>\n",
       "      <td>Manual</td>\n",
       "      <td>25906</td>\n",
       "      <td>Diesel</td>\n",
       "      <td>0</td>\n",
       "      <td>78.4</td>\n",
       "      <td>1.6</td>\n",
       "    </tr>\n",
       "    <tr>\n",
       "      <th>4856</th>\n",
       "      <td>I40</td>\n",
       "      <td>2015</td>\n",
       "      <td>7830</td>\n",
       "      <td>Manual</td>\n",
       "      <td>59508</td>\n",
       "      <td>Diesel</td>\n",
       "      <td>30</td>\n",
       "      <td>65.7</td>\n",
       "      <td>1.7</td>\n",
       "    </tr>\n",
       "    <tr>\n",
       "      <th>4857</th>\n",
       "      <td>I10</td>\n",
       "      <td>2017</td>\n",
       "      <td>6830</td>\n",
       "      <td>Manual</td>\n",
       "      <td>13810</td>\n",
       "      <td>Petrol</td>\n",
       "      <td>20</td>\n",
       "      <td>60.1</td>\n",
       "      <td>1.0</td>\n",
       "    </tr>\n",
       "    <tr>\n",
       "      <th>4858</th>\n",
       "      <td>Tucson</td>\n",
       "      <td>2018</td>\n",
       "      <td>13994</td>\n",
       "      <td>Manual</td>\n",
       "      <td>23313</td>\n",
       "      <td>Petrol</td>\n",
       "      <td>145</td>\n",
       "      <td>44.8</td>\n",
       "      <td>1.6</td>\n",
       "    </tr>\n",
       "    <tr>\n",
       "      <th>4859</th>\n",
       "      <td>Tucson</td>\n",
       "      <td>2016</td>\n",
       "      <td>15999</td>\n",
       "      <td>Automatic</td>\n",
       "      <td>11472</td>\n",
       "      <td>Diesel</td>\n",
       "      <td>125</td>\n",
       "      <td>57.6</td>\n",
       "      <td>1.7</td>\n",
       "    </tr>\n",
       "  </tbody>\n",
       "</table>\n",
       "<p>4860 rows × 9 columns</p>\n",
       "</div>"
      ],
      "text/plain": [
       "        model  year  price transmission  mileage fuelType  tax(£)   mpg  \\\n",
       "0         I20  2017   7999       Manual    17307   Petrol     145  58.9   \n",
       "1      Tucson  2016  14499    Automatic    25233   Diesel     235  43.5   \n",
       "2      Tucson  2016  11399       Manual    37877   Diesel      30  61.7   \n",
       "3         I10  2016   6499       Manual    23789   Petrol      20  60.1   \n",
       "4        IX35  2015  10199       Manual    33177   Diesel     160  51.4   \n",
       "...       ...   ...    ...          ...      ...      ...     ...   ...   \n",
       "4855      I30  2016   8680       Manual    25906   Diesel       0  78.4   \n",
       "4856      I40  2015   7830       Manual    59508   Diesel      30  65.7   \n",
       "4857      I10  2017   6830       Manual    13810   Petrol      20  60.1   \n",
       "4858   Tucson  2018  13994       Manual    23313   Petrol     145  44.8   \n",
       "4859   Tucson  2016  15999    Automatic    11472   Diesel     125  57.6   \n",
       "\n",
       "      engineSize  \n",
       "0            1.2  \n",
       "1            2.0  \n",
       "2            1.7  \n",
       "3            1.0  \n",
       "4            2.0  \n",
       "...          ...  \n",
       "4855         1.6  \n",
       "4856         1.7  \n",
       "4857         1.0  \n",
       "4858         1.6  \n",
       "4859         1.7  \n",
       "\n",
       "[4860 rows x 9 columns]"
      ]
     },
     "metadata": {},
     "output_type": "display_data"
    },
    {
     "name": "stdout",
     "output_type": "stream",
     "text": [
      "audi\n"
     ]
    },
    {
     "data": {
      "text/html": [
       "<div>\n",
       "<style scoped>\n",
       "    .dataframe tbody tr th:only-of-type {\n",
       "        vertical-align: middle;\n",
       "    }\n",
       "\n",
       "    .dataframe tbody tr th {\n",
       "        vertical-align: top;\n",
       "    }\n",
       "\n",
       "    .dataframe thead th {\n",
       "        text-align: right;\n",
       "    }\n",
       "</style>\n",
       "<table border=\"1\" class=\"dataframe\">\n",
       "  <thead>\n",
       "    <tr style=\"text-align: right;\">\n",
       "      <th></th>\n",
       "      <th>model</th>\n",
       "      <th>year</th>\n",
       "      <th>price</th>\n",
       "      <th>transmission</th>\n",
       "      <th>mileage</th>\n",
       "      <th>fuelType</th>\n",
       "      <th>tax</th>\n",
       "      <th>mpg</th>\n",
       "      <th>engineSize</th>\n",
       "    </tr>\n",
       "  </thead>\n",
       "  <tbody>\n",
       "    <tr>\n",
       "      <th>0</th>\n",
       "      <td>A1</td>\n",
       "      <td>2017</td>\n",
       "      <td>12500</td>\n",
       "      <td>Manual</td>\n",
       "      <td>15735</td>\n",
       "      <td>Petrol</td>\n",
       "      <td>150</td>\n",
       "      <td>55.4</td>\n",
       "      <td>1.4</td>\n",
       "    </tr>\n",
       "    <tr>\n",
       "      <th>1</th>\n",
       "      <td>A6</td>\n",
       "      <td>2016</td>\n",
       "      <td>16500</td>\n",
       "      <td>Automatic</td>\n",
       "      <td>36203</td>\n",
       "      <td>Diesel</td>\n",
       "      <td>20</td>\n",
       "      <td>64.2</td>\n",
       "      <td>2.0</td>\n",
       "    </tr>\n",
       "    <tr>\n",
       "      <th>2</th>\n",
       "      <td>A1</td>\n",
       "      <td>2016</td>\n",
       "      <td>11000</td>\n",
       "      <td>Manual</td>\n",
       "      <td>29946</td>\n",
       "      <td>Petrol</td>\n",
       "      <td>30</td>\n",
       "      <td>55.4</td>\n",
       "      <td>1.4</td>\n",
       "    </tr>\n",
       "    <tr>\n",
       "      <th>3</th>\n",
       "      <td>A4</td>\n",
       "      <td>2017</td>\n",
       "      <td>16800</td>\n",
       "      <td>Automatic</td>\n",
       "      <td>25952</td>\n",
       "      <td>Diesel</td>\n",
       "      <td>145</td>\n",
       "      <td>67.3</td>\n",
       "      <td>2.0</td>\n",
       "    </tr>\n",
       "    <tr>\n",
       "      <th>4</th>\n",
       "      <td>A3</td>\n",
       "      <td>2019</td>\n",
       "      <td>17300</td>\n",
       "      <td>Manual</td>\n",
       "      <td>1998</td>\n",
       "      <td>Petrol</td>\n",
       "      <td>145</td>\n",
       "      <td>49.6</td>\n",
       "      <td>1.0</td>\n",
       "    </tr>\n",
       "    <tr>\n",
       "      <th>...</th>\n",
       "      <td>...</td>\n",
       "      <td>...</td>\n",
       "      <td>...</td>\n",
       "      <td>...</td>\n",
       "      <td>...</td>\n",
       "      <td>...</td>\n",
       "      <td>...</td>\n",
       "      <td>...</td>\n",
       "      <td>...</td>\n",
       "    </tr>\n",
       "    <tr>\n",
       "      <th>10663</th>\n",
       "      <td>A3</td>\n",
       "      <td>2020</td>\n",
       "      <td>16999</td>\n",
       "      <td>Manual</td>\n",
       "      <td>4018</td>\n",
       "      <td>Petrol</td>\n",
       "      <td>145</td>\n",
       "      <td>49.6</td>\n",
       "      <td>1.0</td>\n",
       "    </tr>\n",
       "    <tr>\n",
       "      <th>10664</th>\n",
       "      <td>A3</td>\n",
       "      <td>2020</td>\n",
       "      <td>16999</td>\n",
       "      <td>Manual</td>\n",
       "      <td>1978</td>\n",
       "      <td>Petrol</td>\n",
       "      <td>150</td>\n",
       "      <td>49.6</td>\n",
       "      <td>1.0</td>\n",
       "    </tr>\n",
       "    <tr>\n",
       "      <th>10665</th>\n",
       "      <td>A3</td>\n",
       "      <td>2020</td>\n",
       "      <td>17199</td>\n",
       "      <td>Manual</td>\n",
       "      <td>609</td>\n",
       "      <td>Petrol</td>\n",
       "      <td>150</td>\n",
       "      <td>49.6</td>\n",
       "      <td>1.0</td>\n",
       "    </tr>\n",
       "    <tr>\n",
       "      <th>10666</th>\n",
       "      <td>Q3</td>\n",
       "      <td>2017</td>\n",
       "      <td>19499</td>\n",
       "      <td>Automatic</td>\n",
       "      <td>8646</td>\n",
       "      <td>Petrol</td>\n",
       "      <td>150</td>\n",
       "      <td>47.9</td>\n",
       "      <td>1.4</td>\n",
       "    </tr>\n",
       "    <tr>\n",
       "      <th>10667</th>\n",
       "      <td>Q3</td>\n",
       "      <td>2016</td>\n",
       "      <td>15999</td>\n",
       "      <td>Manual</td>\n",
       "      <td>11855</td>\n",
       "      <td>Petrol</td>\n",
       "      <td>150</td>\n",
       "      <td>47.9</td>\n",
       "      <td>1.4</td>\n",
       "    </tr>\n",
       "  </tbody>\n",
       "</table>\n",
       "<p>10668 rows × 9 columns</p>\n",
       "</div>"
      ],
      "text/plain": [
       "      model  year  price transmission  mileage fuelType  tax   mpg  engineSize\n",
       "0        A1  2017  12500       Manual    15735   Petrol  150  55.4         1.4\n",
       "1        A6  2016  16500    Automatic    36203   Diesel   20  64.2         2.0\n",
       "2        A1  2016  11000       Manual    29946   Petrol   30  55.4         1.4\n",
       "3        A4  2017  16800    Automatic    25952   Diesel  145  67.3         2.0\n",
       "4        A3  2019  17300       Manual     1998   Petrol  145  49.6         1.0\n",
       "...     ...   ...    ...          ...      ...      ...  ...   ...         ...\n",
       "10663    A3  2020  16999       Manual     4018   Petrol  145  49.6         1.0\n",
       "10664    A3  2020  16999       Manual     1978   Petrol  150  49.6         1.0\n",
       "10665    A3  2020  17199       Manual      609   Petrol  150  49.6         1.0\n",
       "10666    Q3  2017  19499    Automatic     8646   Petrol  150  47.9         1.4\n",
       "10667    Q3  2016  15999       Manual    11855   Petrol  150  47.9         1.4\n",
       "\n",
       "[10668 rows x 9 columns]"
      ]
     },
     "metadata": {},
     "output_type": "display_data"
    }
   ],
   "source": [
    "dataframes = {}\n",
    "for file in filter(lambda x: x.endswith(\".csv\"), os.listdir(DATA_PATH)):\n",
    "    name = file.split(\".\")[0]\n",
    "    print(name)\n",
    "    dataframes[name] = pd.read_csv(os.path.join(DATA_PATH, file))\n",
    "    display(dataframes[name])"
   ]
  },
  {
   "cell_type": "markdown",
   "metadata": {},
   "source": [
    "Lo primero que se ve es que casi todos los ficheros tienen las mismas columnas. Las variables `model`, `transmission` y `fueltype` son categóricas y el resto son numéricas. Hay un par de problemas a primera vista, como que `hyundi.csv` tiene un nombre diferente en la columna `tax` y que a dos ficheros les faltan las columnas `tax` y `mpg`."
   ]
  },
  {
   "cell_type": "markdown",
   "metadata": {},
   "source": [
    "### 2.1. Análisis de los ficheros de la misma marca"
   ]
  },
  {
   "cell_type": "markdown",
   "metadata": {},
   "source": [
    "En primer lugar se ve que los archivos `cclass.csv` y `focus.csv` no tienen las columnas `tax` y `mpg`. Ya que estos son modelos de otras marcas (Ford en `ford.csv` y Mercedes en `merc.csv`), vamos a ver si podemos mezclarlos con el resto de modelos de la marca."
   ]
  },
  {
   "cell_type": "code",
   "execution_count": 5,
   "metadata": {
    "ExecuteTime": {
     "end_time": "2020-10-29T20:47:52.110781Z",
     "start_time": "2020-10-29T20:47:52.101497Z"
    }
   },
   "outputs": [
    {
     "name": "stdout",
     "output_type": "stream",
     "text": [
      "[' Focus']\n",
      "[' Fiesta' ' Focus' ' Puma' ' Kuga' ' EcoSport' ' C-MAX' ' Mondeo' ' Ka+'\n",
      " ' Tourneo Custom' ' S-MAX' ' B-MAX' ' Edge' ' Tourneo Connect'\n",
      " ' Grand C-MAX' ' KA' ' Galaxy' ' Mustang' ' Grand Tourneo Connect'\n",
      " ' Fusion' ' Ranger' ' Streetka' ' Escort' ' Transit Tourneo']\n"
     ]
    }
   ],
   "source": [
    "print(dataframes[\"focus\"][\"model\"].unique())\n",
    "print(dataframes[\"ford\"][\"model\"].unique())"
   ]
  },
  {
   "cell_type": "code",
   "execution_count": 6,
   "metadata": {
    "ExecuteTime": {
     "end_time": "2020-10-29T20:47:52.178049Z",
     "start_time": "2020-10-29T20:47:52.113215Z"
    }
   },
   "outputs": [
    {
     "name": "stdout",
     "output_type": "stream",
     "text": [
      "[' C Class']\n",
      "[' SLK' ' S Class' ' SL CLASS' ' G Class' ' GLE Class' ' GLA Class'\n",
      " ' A Class' ' B Class' ' GLC Class' ' C Class' ' E Class' ' GL Class'\n",
      " ' CLS Class' ' CLC Class' ' CLA Class' ' V Class' ' M Class' ' CL Class'\n",
      " ' GLS Class' ' GLB Class' ' X-CLASS' '180' ' CLK' ' R Class' '230' '220'\n",
      " '200']\n"
     ]
    }
   ],
   "source": [
    "print(dataframes[\"cclass\"][\"model\"].unique())\n",
    "print(dataframes[\"merc\"][\"model\"].unique())"
   ]
  },
  {
   "cell_type": "markdown",
   "metadata": {},
   "source": [
    "El nombre del modelo coincide con lo que se espera: todos los vehículos de `focus.csv` son modelo Focus y todos los de `cclass.csv` son de modelo C Class."
   ]
  },
  {
   "cell_type": "markdown",
   "metadata": {},
   "source": [
    "Ya que no conocemos de dónde vienen los datos, una posibilidad es que todas las filas de `cclass.csv` y `focus.csv` provengan originalmente de `merc.csv` y `ford.csv` respectivamente. Si añadimos esas filas sin pensar mucho, es posible que estemos duplicando algunos datos sin razón. Vamos a ver si son duplicados:"
   ]
  },
  {
   "cell_type": "code",
   "execution_count": 7,
   "metadata": {
    "ExecuteTime": {
     "end_time": "2020-10-29T20:47:52.396900Z",
     "start_time": "2020-10-29T20:47:52.181685Z"
    }
   },
   "outputs": [
    {
     "name": "stdout",
     "output_type": "stream",
     "text": [
      "Unique rows in focus.csv: 784\n",
      "Unique rows in cclass.csv: 265\n",
      "Duplicated rows in focus.csv: 4670\n",
      "Duplicated rows in cclass.csv: 3634\n"
     ]
    }
   ],
   "source": [
    "columns = [\n",
    "    \"model\", \"year\", \"price\", \"transmission\", \"mileage\", \"fuelType\",\n",
    "    \"engineSize\"\n",
    "]\n",
    "\n",
    "df_merged_ford = dataframes[\"ford\"][columns].merge(dataframes[\"focus\"][columns],\n",
    "                                                   how=\"outer\", indicator=\"union\")\n",
    "df_merged_merc = dataframes[\"merc\"][columns].merge(dataframes[\"cclass\"][columns],\n",
    "                                                   how=\"outer\", indicator=\"union\")\n",
    "\n",
    "focus_unique = df_merged_ford[df_merged_ford.union == \"right_only\"].drop(columns=[\"union\"])\n",
    "cclass_unique = df_merged_merc[df_merged_merc.union == \"right_only\"].drop(columns=[\"union\"])\n",
    "\n",
    "print(\"Unique rows in focus.csv:\", len(focus_unique))\n",
    "print(\"Unique rows in cclass.csv:\", len(cclass_unique))\n",
    "\n",
    "print(\"Duplicated rows in focus.csv:\",\n",
    "      len(dataframes[\"focus\"]) - len(focus_unique))\n",
    "print(\"Duplicated rows in cclass.csv:\",\n",
    "      len(dataframes[\"cclass\"]) - len(cclass_unique))"
   ]
  },
  {
   "cell_type": "markdown",
   "metadata": {},
   "source": [
    "Aunque la mayoría de las filas son duplicadas, hay una proporción alta de filas nuevas y usables. Lo que haremos será escoger sólo los DataFrames de `focus_unique` y `cclass_unique` para mezclar con `ford.csv` y `merc.csv`."
   ]
  },
  {
   "cell_type": "markdown",
   "metadata": {},
   "source": [
    "### 2.2. Análisis antes de mezclar los ficheros"
   ]
  },
  {
   "cell_type": "markdown",
   "metadata": {},
   "source": [
    "Vamos a hacer unos análisis preliminares para ver si es posible, y en caso de que lo sea, cuánto trabajo llevaría, mezclar todos los ficheros csv en un solo `DataFrame`."
   ]
  },
  {
   "cell_type": "markdown",
   "metadata": {},
   "source": [
    "#### 2.2.2. Nombre de modelo único"
   ]
  },
  {
   "cell_type": "markdown",
   "metadata": {},
   "source": [
    "Para los modelos de regresión, lo ideal sería que se sepa la marca de la instancia como algo separado del modelo, ya que es posible que haya marcas de lujo que siempre cuesten más independientemente de las características del vehículo. Sin embargo, si el nombre del modelo de vehículo está repetido para distintas marcas, eso puede dar lugar a problemas. Vamos a comprobar si es el caso:"
   ]
  },
  {
   "cell_type": "code",
   "execution_count": 8,
   "metadata": {
    "ExecuteTime": {
     "end_time": "2020-10-29T20:47:52.428242Z",
     "start_time": "2020-10-29T20:47:52.401541Z"
    }
   },
   "outputs": [
    {
     "name": "stdout",
     "output_type": "stream",
     "text": [
      "merc {' C Class'}\n",
      "focus {' Focus'}\n"
     ]
    }
   ],
   "source": [
    "car_models = set()\n",
    "for key in dataframes:\n",
    "    make_models = set(dataframes[key][\"model\"].unique())\n",
    "    intersect = car_models & make_models\n",
    "    if intersect != set():\n",
    "        print(key, intersect)\n",
    "    car_models |= make_models"
   ]
  },
  {
   "cell_type": "markdown",
   "metadata": {},
   "source": [
    "Ya sabíamos que esos dos iban a fallar, pero hemos visto que ninguno más nos da problemas."
   ]
  },
  {
   "cell_type": "markdown",
   "metadata": {},
   "source": [
    "### 2.3. Creación de un único DataFrame"
   ]
  },
  {
   "cell_type": "markdown",
   "metadata": {},
   "source": [
    "Vamos a juntar todos los dataframes de los distintos ficheros csv en un solo objeto que podremos evaluar más adelante."
   ]
  },
  {
   "cell_type": "markdown",
   "metadata": {},
   "source": [
    "Antes de nada, renombramos la columna `tax` de Hyundai para que sea consistente con las demás."
   ]
  },
  {
   "cell_type": "code",
   "execution_count": 9,
   "metadata": {
    "ExecuteTime": {
     "end_time": "2020-10-29T20:47:52.481200Z",
     "start_time": "2020-10-29T20:47:52.434571Z"
    }
   },
   "outputs": [],
   "source": [
    "dataframes[\"hyundi\"].rename(columns={\"tax(£)\": \"tax\"}, inplace=True)"
   ]
  },
  {
   "cell_type": "markdown",
   "metadata": {},
   "source": [
    "Vamos a mezclar los archivos `merc.csv` con las filas no duplicadas de `cclass.csv` y `ford.csv` con `focus.csv`. Esto significa que las filas que procedan de `cclass.csv` y `focus.csv` tendrán valores `nan` en las columnas `tax` y `mpg`, que es algo que tendremos que tener en cuenta más adelante."
   ]
  },
  {
   "cell_type": "code",
   "execution_count": 10,
   "metadata": {
    "ExecuteTime": {
     "end_time": "2020-10-29T20:47:52.565030Z",
     "start_time": "2020-10-29T20:47:52.483342Z"
    }
   },
   "outputs": [],
   "source": [
    "dataframes[\"merc\"] = dataframes[\"merc\"].append(cclass_unique)\n",
    "dataframes[\"ford\"] = dataframes[\"ford\"].append(focus_unique)\n",
    "del dataframes[\"cclass\"], dataframes[\"focus\"]"
   ]
  },
  {
   "cell_type": "markdown",
   "metadata": {},
   "source": [
    "Y ahora vamos a generar un único `DataFrame` que contenga todos los datos del proyecto. Para saber qué marca tiene cada instancia vamos a añadir una columna `make`."
   ]
  },
  {
   "cell_type": "code",
   "execution_count": 11,
   "metadata": {
    "ExecuteTime": {
     "end_time": "2020-10-29T20:47:53.004964Z",
     "start_time": "2020-10-29T20:47:52.567310Z"
    },
    "scrolled": true
   },
   "outputs": [
    {
     "data": {
      "text/html": [
       "<div>\n",
       "<style scoped>\n",
       "    .dataframe tbody tr th:only-of-type {\n",
       "        vertical-align: middle;\n",
       "    }\n",
       "\n",
       "    .dataframe tbody tr th {\n",
       "        vertical-align: top;\n",
       "    }\n",
       "\n",
       "    .dataframe thead th {\n",
       "        text-align: right;\n",
       "    }\n",
       "</style>\n",
       "<table border=\"1\" class=\"dataframe\">\n",
       "  <thead>\n",
       "    <tr style=\"text-align: right;\">\n",
       "      <th></th>\n",
       "      <th>make</th>\n",
       "      <th>model</th>\n",
       "      <th>year</th>\n",
       "      <th>transmission</th>\n",
       "      <th>mileage</th>\n",
       "      <th>fuelType</th>\n",
       "      <th>tax</th>\n",
       "      <th>mpg</th>\n",
       "      <th>engineSize</th>\n",
       "      <th>price</th>\n",
       "    </tr>\n",
       "  </thead>\n",
       "  <tbody>\n",
       "    <tr>\n",
       "      <th>0</th>\n",
       "      <td>toyota</td>\n",
       "      <td>GT86</td>\n",
       "      <td>2016</td>\n",
       "      <td>Manual</td>\n",
       "      <td>24089</td>\n",
       "      <td>Petrol</td>\n",
       "      <td>265</td>\n",
       "      <td>36.2</td>\n",
       "      <td>2.0</td>\n",
       "      <td>16000</td>\n",
       "    </tr>\n",
       "    <tr>\n",
       "      <th>1</th>\n",
       "      <td>toyota</td>\n",
       "      <td>GT86</td>\n",
       "      <td>2017</td>\n",
       "      <td>Manual</td>\n",
       "      <td>18615</td>\n",
       "      <td>Petrol</td>\n",
       "      <td>145</td>\n",
       "      <td>36.2</td>\n",
       "      <td>2.0</td>\n",
       "      <td>15995</td>\n",
       "    </tr>\n",
       "    <tr>\n",
       "      <th>2</th>\n",
       "      <td>toyota</td>\n",
       "      <td>GT86</td>\n",
       "      <td>2015</td>\n",
       "      <td>Manual</td>\n",
       "      <td>27469</td>\n",
       "      <td>Petrol</td>\n",
       "      <td>265</td>\n",
       "      <td>36.2</td>\n",
       "      <td>2.0</td>\n",
       "      <td>13998</td>\n",
       "    </tr>\n",
       "    <tr>\n",
       "      <th>3</th>\n",
       "      <td>toyota</td>\n",
       "      <td>GT86</td>\n",
       "      <td>2017</td>\n",
       "      <td>Manual</td>\n",
       "      <td>14736</td>\n",
       "      <td>Petrol</td>\n",
       "      <td>150</td>\n",
       "      <td>36.2</td>\n",
       "      <td>2.0</td>\n",
       "      <td>18998</td>\n",
       "    </tr>\n",
       "    <tr>\n",
       "      <th>4</th>\n",
       "      <td>toyota</td>\n",
       "      <td>GT86</td>\n",
       "      <td>2017</td>\n",
       "      <td>Manual</td>\n",
       "      <td>36284</td>\n",
       "      <td>Petrol</td>\n",
       "      <td>145</td>\n",
       "      <td>36.2</td>\n",
       "      <td>2.0</td>\n",
       "      <td>17498</td>\n",
       "    </tr>\n",
       "    <tr>\n",
       "      <th>...</th>\n",
       "      <td>...</td>\n",
       "      <td>...</td>\n",
       "      <td>...</td>\n",
       "      <td>...</td>\n",
       "      <td>...</td>\n",
       "      <td>...</td>\n",
       "      <td>...</td>\n",
       "      <td>...</td>\n",
       "      <td>...</td>\n",
       "      <td>...</td>\n",
       "    </tr>\n",
       "    <tr>\n",
       "      <th>10663</th>\n",
       "      <td>audi</td>\n",
       "      <td>A3</td>\n",
       "      <td>2020</td>\n",
       "      <td>Manual</td>\n",
       "      <td>4018</td>\n",
       "      <td>Petrol</td>\n",
       "      <td>145</td>\n",
       "      <td>49.6</td>\n",
       "      <td>1.0</td>\n",
       "      <td>16999</td>\n",
       "    </tr>\n",
       "    <tr>\n",
       "      <th>10664</th>\n",
       "      <td>audi</td>\n",
       "      <td>A3</td>\n",
       "      <td>2020</td>\n",
       "      <td>Manual</td>\n",
       "      <td>1978</td>\n",
       "      <td>Petrol</td>\n",
       "      <td>150</td>\n",
       "      <td>49.6</td>\n",
       "      <td>1.0</td>\n",
       "      <td>16999</td>\n",
       "    </tr>\n",
       "    <tr>\n",
       "      <th>10665</th>\n",
       "      <td>audi</td>\n",
       "      <td>A3</td>\n",
       "      <td>2020</td>\n",
       "      <td>Manual</td>\n",
       "      <td>609</td>\n",
       "      <td>Petrol</td>\n",
       "      <td>150</td>\n",
       "      <td>49.6</td>\n",
       "      <td>1.0</td>\n",
       "      <td>17199</td>\n",
       "    </tr>\n",
       "    <tr>\n",
       "      <th>10666</th>\n",
       "      <td>audi</td>\n",
       "      <td>Q3</td>\n",
       "      <td>2017</td>\n",
       "      <td>Automatic</td>\n",
       "      <td>8646</td>\n",
       "      <td>Petrol</td>\n",
       "      <td>150</td>\n",
       "      <td>47.9</td>\n",
       "      <td>1.4</td>\n",
       "      <td>19499</td>\n",
       "    </tr>\n",
       "    <tr>\n",
       "      <th>10667</th>\n",
       "      <td>audi</td>\n",
       "      <td>Q3</td>\n",
       "      <td>2016</td>\n",
       "      <td>Manual</td>\n",
       "      <td>11855</td>\n",
       "      <td>Petrol</td>\n",
       "      <td>150</td>\n",
       "      <td>47.9</td>\n",
       "      <td>1.4</td>\n",
       "      <td>15999</td>\n",
       "    </tr>\n",
       "  </tbody>\n",
       "</table>\n",
       "<p>100236 rows × 10 columns</p>\n",
       "</div>"
      ],
      "text/plain": [
       "         make  model  year transmission mileage fuelType  tax   mpg  \\\n",
       "0      toyota   GT86  2016       Manual   24089   Petrol  265  36.2   \n",
       "1      toyota   GT86  2017       Manual   18615   Petrol  145  36.2   \n",
       "2      toyota   GT86  2015       Manual   27469   Petrol  265  36.2   \n",
       "3      toyota   GT86  2017       Manual   14736   Petrol  150  36.2   \n",
       "4      toyota   GT86  2017       Manual   36284   Petrol  145  36.2   \n",
       "...       ...    ...   ...          ...     ...      ...  ...   ...   \n",
       "10663    audi     A3  2020       Manual    4018   Petrol  145  49.6   \n",
       "10664    audi     A3  2020       Manual    1978   Petrol  150  49.6   \n",
       "10665    audi     A3  2020       Manual     609   Petrol  150  49.6   \n",
       "10666    audi     Q3  2017    Automatic    8646   Petrol  150  47.9   \n",
       "10667    audi     Q3  2016       Manual   11855   Petrol  150  47.9   \n",
       "\n",
       "       engineSize  price  \n",
       "0             2.0  16000  \n",
       "1             2.0  15995  \n",
       "2             2.0  13998  \n",
       "3             2.0  18998  \n",
       "4             2.0  17498  \n",
       "...           ...    ...  \n",
       "10663         1.0  16999  \n",
       "10664         1.0  16999  \n",
       "10665         1.0  17199  \n",
       "10666         1.4  19499  \n",
       "10667         1.4  15999  \n",
       "\n",
       "[100236 rows x 10 columns]"
      ]
     },
     "metadata": {},
     "output_type": "display_data"
    }
   ],
   "source": [
    "columns = [\n",
    "    \"make\", \"model\", \"year\", \"transmission\", \"mileage\", \"fuelType\", \"tax\",\n",
    "    \"mpg\", \"engineSize\", \"price\"\n",
    "]\n",
    "\n",
    "df = pd.DataFrame(columns=columns)\n",
    "\n",
    "for key in dataframes:\n",
    "    dataframes[key][\"make\"] = key\n",
    "    assert set(dataframes[key].columns) == set(columns)\n",
    "    df = df.append(dataframes[key])\n",
    "\n",
    "display(df)"
   ]
  },
  {
   "cell_type": "markdown",
   "metadata": {},
   "source": [
    "Este `df` es el dataframe que vamos a preprocesar más adelante. Pero antes de eso, vamos a explorar un poco más los datos."
   ]
  },
  {
   "cell_type": "markdown",
   "metadata": {},
   "source": [
    "### 2.4. Análisis de duplicados"
   ]
  },
  {
   "cell_type": "markdown",
   "metadata": {},
   "source": [
    "Un modelo con datos duplicados tiende siempre a sesgarse hacia esos datos. Un 10% de datos duplicados eleva la probablidad de sesgar el modelo a un 89% \\[1\\]. Además, no podemos permitir que haya datos en el dataset de test que el modelo ya haya visto durante su entrenamiento."
   ]
  },
  {
   "cell_type": "code",
   "execution_count": 12,
   "metadata": {
    "ExecuteTime": {
     "end_time": "2020-10-29T20:47:53.124872Z",
     "start_time": "2020-10-29T20:47:53.007579Z"
    }
   },
   "outputs": [
    {
     "name": "stdout",
     "output_type": "stream",
     "text": [
      "1826\n"
     ]
    }
   ],
   "source": [
    "duplicate_count = df.duplicated().sum()\n",
    "print(duplicate_count)"
   ]
  },
  {
   "cell_type": "markdown",
   "metadata": {},
   "source": [
    "El procentaje de elementos duplicados no es muy alto para el problema, pero es una buena práctica eliminarlos, así que será un paso del preprocesamiento."
   ]
  },
  {
   "cell_type": "markdown",
   "metadata": {},
   "source": [
    "### 2.5. Análisis de variables numéricas"
   ]
  },
  {
   "cell_type": "markdown",
   "metadata": {},
   "source": [
    "#### 2.5.1. Comprobaciones de los tipos de datos"
   ]
  },
  {
   "cell_type": "markdown",
   "metadata": {},
   "source": [
    "Lo primero es ver si las variables numéricas realmente son tales. Es habitual que aparezcan en el `DataFrame` como `object` o `str`, así que tendremos que cambiar lo que corresponda."
   ]
  },
  {
   "cell_type": "code",
   "execution_count": 13,
   "metadata": {
    "ExecuteTime": {
     "end_time": "2020-10-29T20:47:53.303660Z",
     "start_time": "2020-10-29T20:47:53.127933Z"
    }
   },
   "outputs": [
    {
     "data": {
      "text/plain": [
       "make             object\n",
       "model            object\n",
       "year             object\n",
       "transmission     object\n",
       "mileage          object\n",
       "fuelType         object\n",
       "tax              object\n",
       "mpg             float64\n",
       "engineSize      float64\n",
       "price            object\n",
       "dtype: object"
      ]
     },
     "execution_count": 13,
     "metadata": {},
     "output_type": "execute_result"
    }
   ],
   "source": [
    "df.dtypes"
   ]
  },
  {
   "cell_type": "markdown",
   "metadata": {},
   "source": [
    "Las variables `year`, `price`, `mileage`, y `tax` son numéricas, pero aparecen como `object`. Vamos a cambiarlo:"
   ]
  },
  {
   "cell_type": "code",
   "execution_count": 14,
   "metadata": {
    "ExecuteTime": {
     "end_time": "2020-10-29T20:47:53.439664Z",
     "start_time": "2020-10-29T20:47:53.306372Z"
    }
   },
   "outputs": [
    {
     "data": {
      "text/html": [
       "<div>\n",
       "<style scoped>\n",
       "    .dataframe tbody tr th:only-of-type {\n",
       "        vertical-align: middle;\n",
       "    }\n",
       "\n",
       "    .dataframe tbody tr th {\n",
       "        vertical-align: top;\n",
       "    }\n",
       "\n",
       "    .dataframe thead th {\n",
       "        text-align: right;\n",
       "    }\n",
       "</style>\n",
       "<table border=\"1\" class=\"dataframe\">\n",
       "  <thead>\n",
       "    <tr style=\"text-align: right;\">\n",
       "      <th></th>\n",
       "      <th>make</th>\n",
       "      <th>model</th>\n",
       "      <th>year</th>\n",
       "      <th>transmission</th>\n",
       "      <th>mileage</th>\n",
       "      <th>fuelType</th>\n",
       "      <th>tax</th>\n",
       "      <th>mpg</th>\n",
       "      <th>engineSize</th>\n",
       "      <th>price</th>\n",
       "    </tr>\n",
       "  </thead>\n",
       "  <tbody>\n",
       "    <tr>\n",
       "      <th>0</th>\n",
       "      <td>toyota</td>\n",
       "      <td>GT86</td>\n",
       "      <td>2016</td>\n",
       "      <td>Manual</td>\n",
       "      <td>24089.0</td>\n",
       "      <td>Petrol</td>\n",
       "      <td>265.0</td>\n",
       "      <td>36.2</td>\n",
       "      <td>2.0</td>\n",
       "      <td>16000.0</td>\n",
       "    </tr>\n",
       "    <tr>\n",
       "      <th>1</th>\n",
       "      <td>toyota</td>\n",
       "      <td>GT86</td>\n",
       "      <td>2017</td>\n",
       "      <td>Manual</td>\n",
       "      <td>18615.0</td>\n",
       "      <td>Petrol</td>\n",
       "      <td>145.0</td>\n",
       "      <td>36.2</td>\n",
       "      <td>2.0</td>\n",
       "      <td>15995.0</td>\n",
       "    </tr>\n",
       "    <tr>\n",
       "      <th>2</th>\n",
       "      <td>toyota</td>\n",
       "      <td>GT86</td>\n",
       "      <td>2015</td>\n",
       "      <td>Manual</td>\n",
       "      <td>27469.0</td>\n",
       "      <td>Petrol</td>\n",
       "      <td>265.0</td>\n",
       "      <td>36.2</td>\n",
       "      <td>2.0</td>\n",
       "      <td>13998.0</td>\n",
       "    </tr>\n",
       "    <tr>\n",
       "      <th>3</th>\n",
       "      <td>toyota</td>\n",
       "      <td>GT86</td>\n",
       "      <td>2017</td>\n",
       "      <td>Manual</td>\n",
       "      <td>14736.0</td>\n",
       "      <td>Petrol</td>\n",
       "      <td>150.0</td>\n",
       "      <td>36.2</td>\n",
       "      <td>2.0</td>\n",
       "      <td>18998.0</td>\n",
       "    </tr>\n",
       "    <tr>\n",
       "      <th>4</th>\n",
       "      <td>toyota</td>\n",
       "      <td>GT86</td>\n",
       "      <td>2017</td>\n",
       "      <td>Manual</td>\n",
       "      <td>36284.0</td>\n",
       "      <td>Petrol</td>\n",
       "      <td>145.0</td>\n",
       "      <td>36.2</td>\n",
       "      <td>2.0</td>\n",
       "      <td>17498.0</td>\n",
       "    </tr>\n",
       "    <tr>\n",
       "      <th>...</th>\n",
       "      <td>...</td>\n",
       "      <td>...</td>\n",
       "      <td>...</td>\n",
       "      <td>...</td>\n",
       "      <td>...</td>\n",
       "      <td>...</td>\n",
       "      <td>...</td>\n",
       "      <td>...</td>\n",
       "      <td>...</td>\n",
       "      <td>...</td>\n",
       "    </tr>\n",
       "    <tr>\n",
       "      <th>10663</th>\n",
       "      <td>audi</td>\n",
       "      <td>A3</td>\n",
       "      <td>2020</td>\n",
       "      <td>Manual</td>\n",
       "      <td>4018.0</td>\n",
       "      <td>Petrol</td>\n",
       "      <td>145.0</td>\n",
       "      <td>49.6</td>\n",
       "      <td>1.0</td>\n",
       "      <td>16999.0</td>\n",
       "    </tr>\n",
       "    <tr>\n",
       "      <th>10664</th>\n",
       "      <td>audi</td>\n",
       "      <td>A3</td>\n",
       "      <td>2020</td>\n",
       "      <td>Manual</td>\n",
       "      <td>1978.0</td>\n",
       "      <td>Petrol</td>\n",
       "      <td>150.0</td>\n",
       "      <td>49.6</td>\n",
       "      <td>1.0</td>\n",
       "      <td>16999.0</td>\n",
       "    </tr>\n",
       "    <tr>\n",
       "      <th>10665</th>\n",
       "      <td>audi</td>\n",
       "      <td>A3</td>\n",
       "      <td>2020</td>\n",
       "      <td>Manual</td>\n",
       "      <td>609.0</td>\n",
       "      <td>Petrol</td>\n",
       "      <td>150.0</td>\n",
       "      <td>49.6</td>\n",
       "      <td>1.0</td>\n",
       "      <td>17199.0</td>\n",
       "    </tr>\n",
       "    <tr>\n",
       "      <th>10666</th>\n",
       "      <td>audi</td>\n",
       "      <td>Q3</td>\n",
       "      <td>2017</td>\n",
       "      <td>Automatic</td>\n",
       "      <td>8646.0</td>\n",
       "      <td>Petrol</td>\n",
       "      <td>150.0</td>\n",
       "      <td>47.9</td>\n",
       "      <td>1.4</td>\n",
       "      <td>19499.0</td>\n",
       "    </tr>\n",
       "    <tr>\n",
       "      <th>10667</th>\n",
       "      <td>audi</td>\n",
       "      <td>Q3</td>\n",
       "      <td>2016</td>\n",
       "      <td>Manual</td>\n",
       "      <td>11855.0</td>\n",
       "      <td>Petrol</td>\n",
       "      <td>150.0</td>\n",
       "      <td>47.9</td>\n",
       "      <td>1.4</td>\n",
       "      <td>15999.0</td>\n",
       "    </tr>\n",
       "  </tbody>\n",
       "</table>\n",
       "<p>100236 rows × 10 columns</p>\n",
       "</div>"
      ],
      "text/plain": [
       "         make  model  year transmission  mileage fuelType    tax   mpg  \\\n",
       "0      toyota   GT86  2016       Manual  24089.0   Petrol  265.0  36.2   \n",
       "1      toyota   GT86  2017       Manual  18615.0   Petrol  145.0  36.2   \n",
       "2      toyota   GT86  2015       Manual  27469.0   Petrol  265.0  36.2   \n",
       "3      toyota   GT86  2017       Manual  14736.0   Petrol  150.0  36.2   \n",
       "4      toyota   GT86  2017       Manual  36284.0   Petrol  145.0  36.2   \n",
       "...       ...    ...   ...          ...      ...      ...    ...   ...   \n",
       "10663    audi     A3  2020       Manual   4018.0   Petrol  145.0  49.6   \n",
       "10664    audi     A3  2020       Manual   1978.0   Petrol  150.0  49.6   \n",
       "10665    audi     A3  2020       Manual    609.0   Petrol  150.0  49.6   \n",
       "10666    audi     Q3  2017    Automatic   8646.0   Petrol  150.0  47.9   \n",
       "10667    audi     Q3  2016       Manual  11855.0   Petrol  150.0  47.9   \n",
       "\n",
       "       engineSize    price  \n",
       "0             2.0  16000.0  \n",
       "1             2.0  15995.0  \n",
       "2             2.0  13998.0  \n",
       "3             2.0  18998.0  \n",
       "4             2.0  17498.0  \n",
       "...           ...      ...  \n",
       "10663         1.0  16999.0  \n",
       "10664         1.0  16999.0  \n",
       "10665         1.0  17199.0  \n",
       "10666         1.4  19499.0  \n",
       "10667         1.4  15999.0  \n",
       "\n",
       "[100236 rows x 10 columns]"
      ]
     },
     "execution_count": 14,
     "metadata": {},
     "output_type": "execute_result"
    }
   ],
   "source": [
    "df[\"year\"] = df[\"year\"].astype(\"int32\")\n",
    "df[[\"price\", \"mileage\", \"tax\"]] = df[[\"price\", \"mileage\", \"tax\"]].astype(\"float64\")\n",
    "df"
   ]
  },
  {
   "cell_type": "markdown",
   "metadata": {},
   "source": [
    "#### 2.5.2. Búsqueda de datos erróneos"
   ]
  },
  {
   "cell_type": "markdown",
   "metadata": {},
   "source": [
    "En esta sección obervaremos los datos numéricos de forma general, para ver si hay algo que destaque y pueda ser relevante. Además, es posible que haya datos erróneos. Vamos a buscarlos, y si los encontramos, a corregirlos."
   ]
  },
  {
   "cell_type": "code",
   "execution_count": 15,
   "metadata": {
    "ExecuteTime": {
     "end_time": "2020-10-29T20:47:53.510818Z",
     "start_time": "2020-10-29T20:47:53.442846Z"
    }
   },
   "outputs": [
    {
     "data": {
      "text/html": [
       "<div>\n",
       "<style scoped>\n",
       "    .dataframe tbody tr th:only-of-type {\n",
       "        vertical-align: middle;\n",
       "    }\n",
       "\n",
       "    .dataframe tbody tr th {\n",
       "        vertical-align: top;\n",
       "    }\n",
       "\n",
       "    .dataframe thead th {\n",
       "        text-align: right;\n",
       "    }\n",
       "</style>\n",
       "<table border=\"1\" class=\"dataframe\">\n",
       "  <thead>\n",
       "    <tr style=\"text-align: right;\">\n",
       "      <th></th>\n",
       "      <th>year</th>\n",
       "      <th>mileage</th>\n",
       "      <th>tax</th>\n",
       "      <th>mpg</th>\n",
       "      <th>engineSize</th>\n",
       "      <th>price</th>\n",
       "    </tr>\n",
       "  </thead>\n",
       "  <tbody>\n",
       "    <tr>\n",
       "      <th>count</th>\n",
       "      <td>100236.000000</td>\n",
       "      <td>100236.000000</td>\n",
       "      <td>99187.000000</td>\n",
       "      <td>99187.000000</td>\n",
       "      <td>100236.000000</td>\n",
       "      <td>100236.000000</td>\n",
       "    </tr>\n",
       "    <tr>\n",
       "      <th>mean</th>\n",
       "      <td>2017.091305</td>\n",
       "      <td>23036.289587</td>\n",
       "      <td>120.299838</td>\n",
       "      <td>55.166825</td>\n",
       "      <td>1.662608</td>\n",
       "      <td>16814.906960</td>\n",
       "    </tr>\n",
       "    <tr>\n",
       "      <th>std</th>\n",
       "      <td>2.136268</td>\n",
       "      <td>21186.737063</td>\n",
       "      <td>63.150926</td>\n",
       "      <td>16.138522</td>\n",
       "      <td>0.557771</td>\n",
       "      <td>9847.369762</td>\n",
       "    </tr>\n",
       "    <tr>\n",
       "      <th>min</th>\n",
       "      <td>1970.000000</td>\n",
       "      <td>1.000000</td>\n",
       "      <td>0.000000</td>\n",
       "      <td>0.300000</td>\n",
       "      <td>0.000000</td>\n",
       "      <td>450.000000</td>\n",
       "    </tr>\n",
       "    <tr>\n",
       "      <th>25%</th>\n",
       "      <td>2016.000000</td>\n",
       "      <td>7417.750000</td>\n",
       "      <td>125.000000</td>\n",
       "      <td>47.100000</td>\n",
       "      <td>1.200000</td>\n",
       "      <td>10000.000000</td>\n",
       "    </tr>\n",
       "    <tr>\n",
       "      <th>50%</th>\n",
       "      <td>2017.000000</td>\n",
       "      <td>17363.000000</td>\n",
       "      <td>145.000000</td>\n",
       "      <td>54.300000</td>\n",
       "      <td>1.600000</td>\n",
       "      <td>14498.000000</td>\n",
       "    </tr>\n",
       "    <tr>\n",
       "      <th>75%</th>\n",
       "      <td>2019.000000</td>\n",
       "      <td>32299.000000</td>\n",
       "      <td>145.000000</td>\n",
       "      <td>62.800000</td>\n",
       "      <td>2.000000</td>\n",
       "      <td>20847.000000</td>\n",
       "    </tr>\n",
       "    <tr>\n",
       "      <th>max</th>\n",
       "      <td>2060.000000</td>\n",
       "      <td>323000.000000</td>\n",
       "      <td>580.000000</td>\n",
       "      <td>470.800000</td>\n",
       "      <td>6.600000</td>\n",
       "      <td>159999.000000</td>\n",
       "    </tr>\n",
       "  </tbody>\n",
       "</table>\n",
       "</div>"
      ],
      "text/plain": [
       "                year        mileage           tax           mpg  \\\n",
       "count  100236.000000  100236.000000  99187.000000  99187.000000   \n",
       "mean     2017.091305   23036.289587    120.299838     55.166825   \n",
       "std         2.136268   21186.737063     63.150926     16.138522   \n",
       "min      1970.000000       1.000000      0.000000      0.300000   \n",
       "25%      2016.000000    7417.750000    125.000000     47.100000   \n",
       "50%      2017.000000   17363.000000    145.000000     54.300000   \n",
       "75%      2019.000000   32299.000000    145.000000     62.800000   \n",
       "max      2060.000000  323000.000000    580.000000    470.800000   \n",
       "\n",
       "          engineSize          price  \n",
       "count  100236.000000  100236.000000  \n",
       "mean        1.662608   16814.906960  \n",
       "std         0.557771    9847.369762  \n",
       "min         0.000000     450.000000  \n",
       "25%         1.200000   10000.000000  \n",
       "50%         1.600000   14498.000000  \n",
       "75%         2.000000   20847.000000  \n",
       "max         6.600000  159999.000000  "
      ]
     },
     "execution_count": 15,
     "metadata": {},
     "output_type": "execute_result"
    }
   ],
   "source": [
    "df.describe()"
   ]
  },
  {
   "cell_type": "markdown",
   "metadata": {},
   "source": [
    "##### 2.5.2.1 Errores en `year`"
   ]
  },
  {
   "cell_type": "markdown",
   "metadata": {},
   "source": [
    "Lo primero que salta a la vista es el año máximo. ¡Es imposible que haya vehículos de años posteriores al actual! Lo corregimos filtrando `df` a las filas con años menores o iguales al año actual."
   ]
  },
  {
   "cell_type": "code",
   "execution_count": 16,
   "metadata": {
    "ExecuteTime": {
     "end_time": "2020-10-29T20:47:53.538750Z",
     "start_time": "2020-10-29T20:47:53.513001Z"
    }
   },
   "outputs": [
    {
     "data": {
      "text/html": [
       "<div>\n",
       "<style scoped>\n",
       "    .dataframe tbody tr th:only-of-type {\n",
       "        vertical-align: middle;\n",
       "    }\n",
       "\n",
       "    .dataframe tbody tr th {\n",
       "        vertical-align: top;\n",
       "    }\n",
       "\n",
       "    .dataframe thead th {\n",
       "        text-align: right;\n",
       "    }\n",
       "</style>\n",
       "<table border=\"1\" class=\"dataframe\">\n",
       "  <thead>\n",
       "    <tr style=\"text-align: right;\">\n",
       "      <th></th>\n",
       "      <th>make</th>\n",
       "      <th>model</th>\n",
       "      <th>year</th>\n",
       "      <th>transmission</th>\n",
       "      <th>mileage</th>\n",
       "      <th>fuelType</th>\n",
       "      <th>tax</th>\n",
       "      <th>mpg</th>\n",
       "      <th>engineSize</th>\n",
       "      <th>price</th>\n",
       "    </tr>\n",
       "  </thead>\n",
       "  <tbody>\n",
       "    <tr>\n",
       "      <th>17726</th>\n",
       "      <td>ford</td>\n",
       "      <td>Fiesta</td>\n",
       "      <td>2060</td>\n",
       "      <td>Automatic</td>\n",
       "      <td>54807.0</td>\n",
       "      <td>Petrol</td>\n",
       "      <td>205.0</td>\n",
       "      <td>42.8</td>\n",
       "      <td>1.4</td>\n",
       "      <td>6495.0</td>\n",
       "    </tr>\n",
       "  </tbody>\n",
       "</table>\n",
       "</div>"
      ],
      "text/plain": [
       "       make    model  year transmission  mileage fuelType    tax   mpg  \\\n",
       "17726  ford   Fiesta  2060    Automatic  54807.0   Petrol  205.0  42.8   \n",
       "\n",
       "       engineSize   price  \n",
       "17726         1.4  6495.0  "
      ]
     },
     "execution_count": 16,
     "metadata": {},
     "output_type": "execute_result"
    }
   ],
   "source": [
    "df[df[\"year\"] > DATE_BASELINE]"
   ]
  },
  {
   "cell_type": "code",
   "execution_count": 17,
   "metadata": {
    "ExecuteTime": {
     "end_time": "2020-10-29T20:47:53.609039Z",
     "start_time": "2020-10-29T20:47:53.540678Z"
    }
   },
   "outputs": [],
   "source": [
    "df = df[df[\"year\"] <= DATE_BASELINE]"
   ]
  },
  {
   "cell_type": "markdown",
   "metadata": {},
   "source": [
    "##### 2.5.2.2 Errores en `mpg`"
   ]
  },
  {
   "cell_type": "markdown",
   "metadata": {},
   "source": [
    "Si vemos, la variable `mpg` tiene su máximo en 470, dato sin duda ánomalo. Esto significa que hay un vehículo que tan solo gasta 0.5 litros a los 100 kilómetros (o el equivalente para un coche eléctrico si hablamos de un MPGequivalent) si hacemos una conversión. Veamos de que vehículo se trata:"
   ]
  },
  {
   "cell_type": "code",
   "execution_count": 18,
   "metadata": {
    "ExecuteTime": {
     "end_time": "2020-10-29T20:47:53.731567Z",
     "start_time": "2020-10-29T20:47:53.610987Z"
    },
    "scrolled": false
   },
   "outputs": [
    {
     "data": {
      "text/html": [
       "<div>\n",
       "<style scoped>\n",
       "    .dataframe tbody tr th:only-of-type {\n",
       "        vertical-align: middle;\n",
       "    }\n",
       "\n",
       "    .dataframe tbody tr th {\n",
       "        vertical-align: top;\n",
       "    }\n",
       "\n",
       "    .dataframe thead th {\n",
       "        text-align: right;\n",
       "    }\n",
       "</style>\n",
       "<table border=\"1\" class=\"dataframe\">\n",
       "  <thead>\n",
       "    <tr style=\"text-align: right;\">\n",
       "      <th></th>\n",
       "      <th>make</th>\n",
       "      <th>model</th>\n",
       "      <th>year</th>\n",
       "      <th>transmission</th>\n",
       "      <th>mileage</th>\n",
       "      <th>fuelType</th>\n",
       "      <th>tax</th>\n",
       "      <th>mpg</th>\n",
       "      <th>engineSize</th>\n",
       "      <th>price</th>\n",
       "    </tr>\n",
       "  </thead>\n",
       "  <tbody>\n",
       "    <tr>\n",
       "      <th>32</th>\n",
       "      <td>bmw</td>\n",
       "      <td>i3</td>\n",
       "      <td>2016</td>\n",
       "      <td>Automatic</td>\n",
       "      <td>25269.0</td>\n",
       "      <td>Other</td>\n",
       "      <td>0.0</td>\n",
       "      <td>470.8</td>\n",
       "      <td>0.6</td>\n",
       "      <td>17100.0</td>\n",
       "    </tr>\n",
       "    <tr>\n",
       "      <th>621</th>\n",
       "      <td>bmw</td>\n",
       "      <td>i3</td>\n",
       "      <td>2017</td>\n",
       "      <td>Automatic</td>\n",
       "      <td>41949.0</td>\n",
       "      <td>Hybrid</td>\n",
       "      <td>140.0</td>\n",
       "      <td>470.8</td>\n",
       "      <td>0.0</td>\n",
       "      <td>19998.0</td>\n",
       "    </tr>\n",
       "    <tr>\n",
       "      <th>778</th>\n",
       "      <td>bmw</td>\n",
       "      <td>i3</td>\n",
       "      <td>2017</td>\n",
       "      <td>Automatic</td>\n",
       "      <td>41146.0</td>\n",
       "      <td>Hybrid</td>\n",
       "      <td>0.0</td>\n",
       "      <td>470.8</td>\n",
       "      <td>0.0</td>\n",
       "      <td>19998.0</td>\n",
       "    </tr>\n",
       "    <tr>\n",
       "      <th>780</th>\n",
       "      <td>bmw</td>\n",
       "      <td>i3</td>\n",
       "      <td>2017</td>\n",
       "      <td>Automatic</td>\n",
       "      <td>10839.0</td>\n",
       "      <td>Hybrid</td>\n",
       "      <td>0.0</td>\n",
       "      <td>470.8</td>\n",
       "      <td>0.0</td>\n",
       "      <td>21898.0</td>\n",
       "    </tr>\n",
       "    <tr>\n",
       "      <th>1866</th>\n",
       "      <td>bmw</td>\n",
       "      <td>i3</td>\n",
       "      <td>2017</td>\n",
       "      <td>Automatic</td>\n",
       "      <td>26965.0</td>\n",
       "      <td>Hybrid</td>\n",
       "      <td>140.0</td>\n",
       "      <td>470.8</td>\n",
       "      <td>0.0</td>\n",
       "      <td>19980.0</td>\n",
       "    </tr>\n",
       "    <tr>\n",
       "      <th>2352</th>\n",
       "      <td>bmw</td>\n",
       "      <td>i3</td>\n",
       "      <td>2016</td>\n",
       "      <td>Automatic</td>\n",
       "      <td>8421.0</td>\n",
       "      <td>Hybrid</td>\n",
       "      <td>0.0</td>\n",
       "      <td>470.8</td>\n",
       "      <td>0.0</td>\n",
       "      <td>19490.0</td>\n",
       "    </tr>\n",
       "    <tr>\n",
       "      <th>3277</th>\n",
       "      <td>bmw</td>\n",
       "      <td>i3</td>\n",
       "      <td>2016</td>\n",
       "      <td>Automatic</td>\n",
       "      <td>43695.0</td>\n",
       "      <td>Hybrid</td>\n",
       "      <td>0.0</td>\n",
       "      <td>470.8</td>\n",
       "      <td>0.0</td>\n",
       "      <td>16482.0</td>\n",
       "    </tr>\n",
       "    <tr>\n",
       "      <th>3628</th>\n",
       "      <td>bmw</td>\n",
       "      <td>i3</td>\n",
       "      <td>2015</td>\n",
       "      <td>Automatic</td>\n",
       "      <td>65800.0</td>\n",
       "      <td>Hybrid</td>\n",
       "      <td>0.0</td>\n",
       "      <td>470.8</td>\n",
       "      <td>0.0</td>\n",
       "      <td>14285.0</td>\n",
       "    </tr>\n",
       "    <tr>\n",
       "      <th>3913</th>\n",
       "      <td>bmw</td>\n",
       "      <td>i3</td>\n",
       "      <td>2017</td>\n",
       "      <td>Automatic</td>\n",
       "      <td>36429.0</td>\n",
       "      <td>Hybrid</td>\n",
       "      <td>0.0</td>\n",
       "      <td>470.8</td>\n",
       "      <td>0.0</td>\n",
       "      <td>18500.0</td>\n",
       "    </tr>\n",
       "    <tr>\n",
       "      <th>4100</th>\n",
       "      <td>bmw</td>\n",
       "      <td>i3</td>\n",
       "      <td>2017</td>\n",
       "      <td>Automatic</td>\n",
       "      <td>17338.0</td>\n",
       "      <td>Hybrid</td>\n",
       "      <td>135.0</td>\n",
       "      <td>470.8</td>\n",
       "      <td>0.0</td>\n",
       "      <td>19495.0</td>\n",
       "    </tr>\n",
       "    <tr>\n",
       "      <th>4109</th>\n",
       "      <td>bmw</td>\n",
       "      <td>i3</td>\n",
       "      <td>2015</td>\n",
       "      <td>Automatic</td>\n",
       "      <td>9886.0</td>\n",
       "      <td>Hybrid</td>\n",
       "      <td>0.0</td>\n",
       "      <td>470.8</td>\n",
       "      <td>0.0</td>\n",
       "      <td>17481.0</td>\n",
       "    </tr>\n",
       "    <tr>\n",
       "      <th>4211</th>\n",
       "      <td>bmw</td>\n",
       "      <td>i3</td>\n",
       "      <td>2015</td>\n",
       "      <td>Automatic</td>\n",
       "      <td>33931.0</td>\n",
       "      <td>Hybrid</td>\n",
       "      <td>0.0</td>\n",
       "      <td>470.8</td>\n",
       "      <td>0.0</td>\n",
       "      <td>15498.0</td>\n",
       "    </tr>\n",
       "    <tr>\n",
       "      <th>4749</th>\n",
       "      <td>bmw</td>\n",
       "      <td>i3</td>\n",
       "      <td>2014</td>\n",
       "      <td>Automatic</td>\n",
       "      <td>42479.0</td>\n",
       "      <td>Hybrid</td>\n",
       "      <td>0.0</td>\n",
       "      <td>470.8</td>\n",
       "      <td>0.0</td>\n",
       "      <td>15450.0</td>\n",
       "    </tr>\n",
       "    <tr>\n",
       "      <th>4866</th>\n",
       "      <td>bmw</td>\n",
       "      <td>i3</td>\n",
       "      <td>2014</td>\n",
       "      <td>Automatic</td>\n",
       "      <td>34539.0</td>\n",
       "      <td>Hybrid</td>\n",
       "      <td>0.0</td>\n",
       "      <td>470.8</td>\n",
       "      <td>0.0</td>\n",
       "      <td>14495.0</td>\n",
       "    </tr>\n",
       "    <tr>\n",
       "      <th>5176</th>\n",
       "      <td>bmw</td>\n",
       "      <td>i3</td>\n",
       "      <td>2017</td>\n",
       "      <td>Automatic</td>\n",
       "      <td>22063.0</td>\n",
       "      <td>Hybrid</td>\n",
       "      <td>0.0</td>\n",
       "      <td>470.8</td>\n",
       "      <td>0.0</td>\n",
       "      <td>21444.0</td>\n",
       "    </tr>\n",
       "    <tr>\n",
       "      <th>5502</th>\n",
       "      <td>bmw</td>\n",
       "      <td>i3</td>\n",
       "      <td>2017</td>\n",
       "      <td>Automatic</td>\n",
       "      <td>33021.0</td>\n",
       "      <td>Hybrid</td>\n",
       "      <td>0.0</td>\n",
       "      <td>470.8</td>\n",
       "      <td>0.0</td>\n",
       "      <td>18995.0</td>\n",
       "    </tr>\n",
       "    <tr>\n",
       "      <th>5620</th>\n",
       "      <td>bmw</td>\n",
       "      <td>i3</td>\n",
       "      <td>2017</td>\n",
       "      <td>Automatic</td>\n",
       "      <td>26139.0</td>\n",
       "      <td>Hybrid</td>\n",
       "      <td>135.0</td>\n",
       "      <td>470.8</td>\n",
       "      <td>0.0</td>\n",
       "      <td>21490.0</td>\n",
       "    </tr>\n",
       "    <tr>\n",
       "      <th>5745</th>\n",
       "      <td>bmw</td>\n",
       "      <td>i3</td>\n",
       "      <td>2017</td>\n",
       "      <td>Automatic</td>\n",
       "      <td>23983.0</td>\n",
       "      <td>Hybrid</td>\n",
       "      <td>0.0</td>\n",
       "      <td>470.8</td>\n",
       "      <td>0.0</td>\n",
       "      <td>19000.0</td>\n",
       "    </tr>\n",
       "    <tr>\n",
       "      <th>5790</th>\n",
       "      <td>bmw</td>\n",
       "      <td>i3</td>\n",
       "      <td>2014</td>\n",
       "      <td>Automatic</td>\n",
       "      <td>37161.0</td>\n",
       "      <td>Hybrid</td>\n",
       "      <td>0.0</td>\n",
       "      <td>470.8</td>\n",
       "      <td>0.0</td>\n",
       "      <td>14182.0</td>\n",
       "    </tr>\n",
       "    <tr>\n",
       "      <th>5846</th>\n",
       "      <td>bmw</td>\n",
       "      <td>i3</td>\n",
       "      <td>2017</td>\n",
       "      <td>Automatic</td>\n",
       "      <td>10900.0</td>\n",
       "      <td>Hybrid</td>\n",
       "      <td>140.0</td>\n",
       "      <td>470.8</td>\n",
       "      <td>0.0</td>\n",
       "      <td>21500.0</td>\n",
       "    </tr>\n",
       "    <tr>\n",
       "      <th>6070</th>\n",
       "      <td>bmw</td>\n",
       "      <td>i3</td>\n",
       "      <td>2017</td>\n",
       "      <td>Automatic</td>\n",
       "      <td>28169.0</td>\n",
       "      <td>Hybrid</td>\n",
       "      <td>0.0</td>\n",
       "      <td>470.8</td>\n",
       "      <td>0.0</td>\n",
       "      <td>23751.0</td>\n",
       "    </tr>\n",
       "    <tr>\n",
       "      <th>6280</th>\n",
       "      <td>bmw</td>\n",
       "      <td>i3</td>\n",
       "      <td>2017</td>\n",
       "      <td>Automatic</td>\n",
       "      <td>3976.0</td>\n",
       "      <td>Hybrid</td>\n",
       "      <td>135.0</td>\n",
       "      <td>470.8</td>\n",
       "      <td>0.0</td>\n",
       "      <td>22999.0</td>\n",
       "    </tr>\n",
       "    <tr>\n",
       "      <th>6814</th>\n",
       "      <td>bmw</td>\n",
       "      <td>i3</td>\n",
       "      <td>2017</td>\n",
       "      <td>Automatic</td>\n",
       "      <td>16867.0</td>\n",
       "      <td>Hybrid</td>\n",
       "      <td>135.0</td>\n",
       "      <td>470.8</td>\n",
       "      <td>0.0</td>\n",
       "      <td>21494.0</td>\n",
       "    </tr>\n",
       "    <tr>\n",
       "      <th>6874</th>\n",
       "      <td>bmw</td>\n",
       "      <td>i3</td>\n",
       "      <td>2016</td>\n",
       "      <td>Automatic</td>\n",
       "      <td>68000.0</td>\n",
       "      <td>Hybrid</td>\n",
       "      <td>0.0</td>\n",
       "      <td>470.8</td>\n",
       "      <td>0.0</td>\n",
       "      <td>15990.0</td>\n",
       "    </tr>\n",
       "    <tr>\n",
       "      <th>6876</th>\n",
       "      <td>bmw</td>\n",
       "      <td>i3</td>\n",
       "      <td>2016</td>\n",
       "      <td>Automatic</td>\n",
       "      <td>59945.0</td>\n",
       "      <td>Hybrid</td>\n",
       "      <td>0.0</td>\n",
       "      <td>470.8</td>\n",
       "      <td>0.0</td>\n",
       "      <td>14900.0</td>\n",
       "    </tr>\n",
       "    <tr>\n",
       "      <th>6961</th>\n",
       "      <td>bmw</td>\n",
       "      <td>i3</td>\n",
       "      <td>2017</td>\n",
       "      <td>Automatic</td>\n",
       "      <td>20082.0</td>\n",
       "      <td>Hybrid</td>\n",
       "      <td>135.0</td>\n",
       "      <td>470.8</td>\n",
       "      <td>0.0</td>\n",
       "      <td>20495.0</td>\n",
       "    </tr>\n",
       "    <tr>\n",
       "      <th>7047</th>\n",
       "      <td>bmw</td>\n",
       "      <td>i3</td>\n",
       "      <td>2017</td>\n",
       "      <td>Automatic</td>\n",
       "      <td>20929.0</td>\n",
       "      <td>Hybrid</td>\n",
       "      <td>135.0</td>\n",
       "      <td>470.8</td>\n",
       "      <td>0.0</td>\n",
       "      <td>19948.0</td>\n",
       "    </tr>\n",
       "    <tr>\n",
       "      <th>7084</th>\n",
       "      <td>bmw</td>\n",
       "      <td>i3</td>\n",
       "      <td>2017</td>\n",
       "      <td>Automatic</td>\n",
       "      <td>21025.0</td>\n",
       "      <td>Hybrid</td>\n",
       "      <td>0.0</td>\n",
       "      <td>470.8</td>\n",
       "      <td>0.0</td>\n",
       "      <td>22495.0</td>\n",
       "    </tr>\n",
       "    <tr>\n",
       "      <th>7254</th>\n",
       "      <td>bmw</td>\n",
       "      <td>i3</td>\n",
       "      <td>2016</td>\n",
       "      <td>Automatic</td>\n",
       "      <td>20013.0</td>\n",
       "      <td>Hybrid</td>\n",
       "      <td>0.0</td>\n",
       "      <td>470.8</td>\n",
       "      <td>0.0</td>\n",
       "      <td>19875.0</td>\n",
       "    </tr>\n",
       "    <tr>\n",
       "      <th>7299</th>\n",
       "      <td>bmw</td>\n",
       "      <td>i3</td>\n",
       "      <td>2017</td>\n",
       "      <td>Automatic</td>\n",
       "      <td>24041.0</td>\n",
       "      <td>Hybrid</td>\n",
       "      <td>0.0</td>\n",
       "      <td>470.8</td>\n",
       "      <td>0.0</td>\n",
       "      <td>21495.0</td>\n",
       "    </tr>\n",
       "    <tr>\n",
       "      <th>7347</th>\n",
       "      <td>bmw</td>\n",
       "      <td>i3</td>\n",
       "      <td>2017</td>\n",
       "      <td>Automatic</td>\n",
       "      <td>29851.0</td>\n",
       "      <td>Hybrid</td>\n",
       "      <td>0.0</td>\n",
       "      <td>470.8</td>\n",
       "      <td>0.0</td>\n",
       "      <td>19895.0</td>\n",
       "    </tr>\n",
       "    <tr>\n",
       "      <th>7796</th>\n",
       "      <td>bmw</td>\n",
       "      <td>i3</td>\n",
       "      <td>2016</td>\n",
       "      <td>Automatic</td>\n",
       "      <td>19995.0</td>\n",
       "      <td>Hybrid</td>\n",
       "      <td>0.0</td>\n",
       "      <td>470.8</td>\n",
       "      <td>0.0</td>\n",
       "      <td>19850.0</td>\n",
       "    </tr>\n",
       "    <tr>\n",
       "      <th>8188</th>\n",
       "      <td>bmw</td>\n",
       "      <td>i3</td>\n",
       "      <td>2015</td>\n",
       "      <td>Automatic</td>\n",
       "      <td>59000.0</td>\n",
       "      <td>Other</td>\n",
       "      <td>0.0</td>\n",
       "      <td>470.8</td>\n",
       "      <td>0.6</td>\n",
       "      <td>14940.0</td>\n",
       "    </tr>\n",
       "    <tr>\n",
       "      <th>8375</th>\n",
       "      <td>bmw</td>\n",
       "      <td>i3</td>\n",
       "      <td>2017</td>\n",
       "      <td>Automatic</td>\n",
       "      <td>20321.0</td>\n",
       "      <td>Electric</td>\n",
       "      <td>135.0</td>\n",
       "      <td>470.8</td>\n",
       "      <td>0.0</td>\n",
       "      <td>18999.0</td>\n",
       "    </tr>\n",
       "    <tr>\n",
       "      <th>8400</th>\n",
       "      <td>bmw</td>\n",
       "      <td>i3</td>\n",
       "      <td>2016</td>\n",
       "      <td>Automatic</td>\n",
       "      <td>9990.0</td>\n",
       "      <td>Electric</td>\n",
       "      <td>0.0</td>\n",
       "      <td>470.8</td>\n",
       "      <td>0.0</td>\n",
       "      <td>18999.0</td>\n",
       "    </tr>\n",
       "    <tr>\n",
       "      <th>8620</th>\n",
       "      <td>bmw</td>\n",
       "      <td>i3</td>\n",
       "      <td>2017</td>\n",
       "      <td>Automatic</td>\n",
       "      <td>32867.0</td>\n",
       "      <td>Other</td>\n",
       "      <td>0.0</td>\n",
       "      <td>470.8</td>\n",
       "      <td>0.6</td>\n",
       "      <td>19300.0</td>\n",
       "    </tr>\n",
       "    <tr>\n",
       "      <th>8835</th>\n",
       "      <td>bmw</td>\n",
       "      <td>i3</td>\n",
       "      <td>2015</td>\n",
       "      <td>Automatic</td>\n",
       "      <td>29465.0</td>\n",
       "      <td>Electric</td>\n",
       "      <td>0.0</td>\n",
       "      <td>470.8</td>\n",
       "      <td>1.0</td>\n",
       "      <td>17400.0</td>\n",
       "    </tr>\n",
       "    <tr>\n",
       "      <th>9259</th>\n",
       "      <td>bmw</td>\n",
       "      <td>i3</td>\n",
       "      <td>2015</td>\n",
       "      <td>Automatic</td>\n",
       "      <td>79830.0</td>\n",
       "      <td>Hybrid</td>\n",
       "      <td>0.0</td>\n",
       "      <td>470.8</td>\n",
       "      <td>0.0</td>\n",
       "      <td>12500.0</td>\n",
       "    </tr>\n",
       "    <tr>\n",
       "      <th>9924</th>\n",
       "      <td>bmw</td>\n",
       "      <td>i3</td>\n",
       "      <td>2016</td>\n",
       "      <td>Automatic</td>\n",
       "      <td>35446.0</td>\n",
       "      <td>Hybrid</td>\n",
       "      <td>0.0</td>\n",
       "      <td>470.8</td>\n",
       "      <td>0.0</td>\n",
       "      <td>16500.0</td>\n",
       "    </tr>\n",
       "    <tr>\n",
       "      <th>10080</th>\n",
       "      <td>bmw</td>\n",
       "      <td>i3</td>\n",
       "      <td>2017</td>\n",
       "      <td>Automatic</td>\n",
       "      <td>19178.0</td>\n",
       "      <td>Other</td>\n",
       "      <td>0.0</td>\n",
       "      <td>470.8</td>\n",
       "      <td>0.6</td>\n",
       "      <td>20000.0</td>\n",
       "    </tr>\n",
       "    <tr>\n",
       "      <th>10086</th>\n",
       "      <td>bmw</td>\n",
       "      <td>i3</td>\n",
       "      <td>2017</td>\n",
       "      <td>Automatic</td>\n",
       "      <td>23956.0</td>\n",
       "      <td>Other</td>\n",
       "      <td>135.0</td>\n",
       "      <td>470.8</td>\n",
       "      <td>0.6</td>\n",
       "      <td>19500.0</td>\n",
       "    </tr>\n",
       "    <tr>\n",
       "      <th>10325</th>\n",
       "      <td>bmw</td>\n",
       "      <td>i3</td>\n",
       "      <td>2016</td>\n",
       "      <td>Automatic</td>\n",
       "      <td>41063.0</td>\n",
       "      <td>Other</td>\n",
       "      <td>0.0</td>\n",
       "      <td>470.8</td>\n",
       "      <td>0.6</td>\n",
       "      <td>17000.0</td>\n",
       "    </tr>\n",
       "    <tr>\n",
       "      <th>10530</th>\n",
       "      <td>bmw</td>\n",
       "      <td>i3</td>\n",
       "      <td>2017</td>\n",
       "      <td>Automatic</td>\n",
       "      <td>50867.0</td>\n",
       "      <td>Other</td>\n",
       "      <td>135.0</td>\n",
       "      <td>470.8</td>\n",
       "      <td>0.6</td>\n",
       "      <td>17600.0</td>\n",
       "    </tr>\n",
       "  </tbody>\n",
       "</table>\n",
       "</div>"
      ],
      "text/plain": [
       "      make model  year transmission  mileage  fuelType    tax    mpg  \\\n",
       "32     bmw    i3  2016    Automatic  25269.0     Other    0.0  470.8   \n",
       "621    bmw    i3  2017    Automatic  41949.0    Hybrid  140.0  470.8   \n",
       "778    bmw    i3  2017    Automatic  41146.0    Hybrid    0.0  470.8   \n",
       "780    bmw    i3  2017    Automatic  10839.0    Hybrid    0.0  470.8   \n",
       "1866   bmw    i3  2017    Automatic  26965.0    Hybrid  140.0  470.8   \n",
       "2352   bmw    i3  2016    Automatic   8421.0    Hybrid    0.0  470.8   \n",
       "3277   bmw    i3  2016    Automatic  43695.0    Hybrid    0.0  470.8   \n",
       "3628   bmw    i3  2015    Automatic  65800.0    Hybrid    0.0  470.8   \n",
       "3913   bmw    i3  2017    Automatic  36429.0    Hybrid    0.0  470.8   \n",
       "4100   bmw    i3  2017    Automatic  17338.0    Hybrid  135.0  470.8   \n",
       "4109   bmw    i3  2015    Automatic   9886.0    Hybrid    0.0  470.8   \n",
       "4211   bmw    i3  2015    Automatic  33931.0    Hybrid    0.0  470.8   \n",
       "4749   bmw    i3  2014    Automatic  42479.0    Hybrid    0.0  470.8   \n",
       "4866   bmw    i3  2014    Automatic  34539.0    Hybrid    0.0  470.8   \n",
       "5176   bmw    i3  2017    Automatic  22063.0    Hybrid    0.0  470.8   \n",
       "5502   bmw    i3  2017    Automatic  33021.0    Hybrid    0.0  470.8   \n",
       "5620   bmw    i3  2017    Automatic  26139.0    Hybrid  135.0  470.8   \n",
       "5745   bmw    i3  2017    Automatic  23983.0    Hybrid    0.0  470.8   \n",
       "5790   bmw    i3  2014    Automatic  37161.0    Hybrid    0.0  470.8   \n",
       "5846   bmw    i3  2017    Automatic  10900.0    Hybrid  140.0  470.8   \n",
       "6070   bmw    i3  2017    Automatic  28169.0    Hybrid    0.0  470.8   \n",
       "6280   bmw    i3  2017    Automatic   3976.0    Hybrid  135.0  470.8   \n",
       "6814   bmw    i3  2017    Automatic  16867.0    Hybrid  135.0  470.8   \n",
       "6874   bmw    i3  2016    Automatic  68000.0    Hybrid    0.0  470.8   \n",
       "6876   bmw    i3  2016    Automatic  59945.0    Hybrid    0.0  470.8   \n",
       "6961   bmw    i3  2017    Automatic  20082.0    Hybrid  135.0  470.8   \n",
       "7047   bmw    i3  2017    Automatic  20929.0    Hybrid  135.0  470.8   \n",
       "7084   bmw    i3  2017    Automatic  21025.0    Hybrid    0.0  470.8   \n",
       "7254   bmw    i3  2016    Automatic  20013.0    Hybrid    0.0  470.8   \n",
       "7299   bmw    i3  2017    Automatic  24041.0    Hybrid    0.0  470.8   \n",
       "7347   bmw    i3  2017    Automatic  29851.0    Hybrid    0.0  470.8   \n",
       "7796   bmw    i3  2016    Automatic  19995.0    Hybrid    0.0  470.8   \n",
       "8188   bmw    i3  2015    Automatic  59000.0     Other    0.0  470.8   \n",
       "8375   bmw    i3  2017    Automatic  20321.0  Electric  135.0  470.8   \n",
       "8400   bmw    i3  2016    Automatic   9990.0  Electric    0.0  470.8   \n",
       "8620   bmw    i3  2017    Automatic  32867.0     Other    0.0  470.8   \n",
       "8835   bmw    i3  2015    Automatic  29465.0  Electric    0.0  470.8   \n",
       "9259   bmw    i3  2015    Automatic  79830.0    Hybrid    0.0  470.8   \n",
       "9924   bmw    i3  2016    Automatic  35446.0    Hybrid    0.0  470.8   \n",
       "10080  bmw    i3  2017    Automatic  19178.0     Other    0.0  470.8   \n",
       "10086  bmw    i3  2017    Automatic  23956.0     Other  135.0  470.8   \n",
       "10325  bmw    i3  2016    Automatic  41063.0     Other    0.0  470.8   \n",
       "10530  bmw    i3  2017    Automatic  50867.0     Other  135.0  470.8   \n",
       "\n",
       "       engineSize    price  \n",
       "32            0.6  17100.0  \n",
       "621           0.0  19998.0  \n",
       "778           0.0  19998.0  \n",
       "780           0.0  21898.0  \n",
       "1866          0.0  19980.0  \n",
       "2352          0.0  19490.0  \n",
       "3277          0.0  16482.0  \n",
       "3628          0.0  14285.0  \n",
       "3913          0.0  18500.0  \n",
       "4100          0.0  19495.0  \n",
       "4109          0.0  17481.0  \n",
       "4211          0.0  15498.0  \n",
       "4749          0.0  15450.0  \n",
       "4866          0.0  14495.0  \n",
       "5176          0.0  21444.0  \n",
       "5502          0.0  18995.0  \n",
       "5620          0.0  21490.0  \n",
       "5745          0.0  19000.0  \n",
       "5790          0.0  14182.0  \n",
       "5846          0.0  21500.0  \n",
       "6070          0.0  23751.0  \n",
       "6280          0.0  22999.0  \n",
       "6814          0.0  21494.0  \n",
       "6874          0.0  15990.0  \n",
       "6876          0.0  14900.0  \n",
       "6961          0.0  20495.0  \n",
       "7047          0.0  19948.0  \n",
       "7084          0.0  22495.0  \n",
       "7254          0.0  19875.0  \n",
       "7299          0.0  21495.0  \n",
       "7347          0.0  19895.0  \n",
       "7796          0.0  19850.0  \n",
       "8188          0.6  14940.0  \n",
       "8375          0.0  18999.0  \n",
       "8400          0.0  18999.0  \n",
       "8620          0.6  19300.0  \n",
       "8835          1.0  17400.0  \n",
       "9259          0.0  12500.0  \n",
       "9924          0.0  16500.0  \n",
       "10080         0.6  20000.0  \n",
       "10086         0.6  19500.0  \n",
       "10325         0.6  17000.0  \n",
       "10530         0.6  17600.0  "
      ]
     },
     "execution_count": 18,
     "metadata": {},
     "output_type": "execute_result"
    }
   ],
   "source": [
    "df[df[\"mpg\"] == 470.8]"
   ]
  },
  {
   "cell_type": "markdown",
   "metadata": {},
   "source": [
    "Parece que todos los registros con el valor 470.8 de `mpg` pertenecen al modelo bmw i3, el cual tiene modelos híbridos y eléctricos. Sin embargo, el MPGe de un BMW i3 de fábrica es 113 \\[2\\], y es de esperar que con el uso ese valor disminuya, pero nunca que aumente, y mucho menos hasta 470.\n",
    "\n",
    "De hecho, según la Agencia de Protección del medio ambiente de los Estados Unidos (EPA \\[3\\]), el vehículo con mayor MPG o MPGe existente es el Tesla Model 3, con un MPGe de 141. Por tanto, vamos a eliminar las filas que presenten valores superiores a este."
   ]
  },
  {
   "cell_type": "code",
   "execution_count": 19,
   "metadata": {
    "ExecuteTime": {
     "end_time": "2020-10-29T20:47:53.819280Z",
     "start_time": "2020-10-29T20:47:53.733450Z"
    }
   },
   "outputs": [
    {
     "data": {
      "text/html": [
       "<div>\n",
       "<style scoped>\n",
       "    .dataframe tbody tr th:only-of-type {\n",
       "        vertical-align: middle;\n",
       "    }\n",
       "\n",
       "    .dataframe tbody tr th {\n",
       "        vertical-align: top;\n",
       "    }\n",
       "\n",
       "    .dataframe thead th {\n",
       "        text-align: right;\n",
       "    }\n",
       "</style>\n",
       "<table border=\"1\" class=\"dataframe\">\n",
       "  <thead>\n",
       "    <tr style=\"text-align: right;\">\n",
       "      <th></th>\n",
       "      <th>make</th>\n",
       "      <th>model</th>\n",
       "      <th>year</th>\n",
       "      <th>transmission</th>\n",
       "      <th>mileage</th>\n",
       "      <th>fuelType</th>\n",
       "      <th>tax</th>\n",
       "      <th>mpg</th>\n",
       "      <th>engineSize</th>\n",
       "      <th>price</th>\n",
       "    </tr>\n",
       "  </thead>\n",
       "  <tbody>\n",
       "    <tr>\n",
       "      <th>6098</th>\n",
       "      <td>toyota</td>\n",
       "      <td>Prius</td>\n",
       "      <td>2017</td>\n",
       "      <td>Automatic</td>\n",
       "      <td>3881.0</td>\n",
       "      <td>Hybrid</td>\n",
       "      <td>135.0</td>\n",
       "      <td>235.0</td>\n",
       "      <td>1.8</td>\n",
       "      <td>20795.0</td>\n",
       "    </tr>\n",
       "    <tr>\n",
       "      <th>6103</th>\n",
       "      <td>toyota</td>\n",
       "      <td>Prius</td>\n",
       "      <td>2018</td>\n",
       "      <td>Automatic</td>\n",
       "      <td>16347.0</td>\n",
       "      <td>Hybrid</td>\n",
       "      <td>140.0</td>\n",
       "      <td>235.0</td>\n",
       "      <td>1.8</td>\n",
       "      <td>20495.0</td>\n",
       "    </tr>\n",
       "    <tr>\n",
       "      <th>6116</th>\n",
       "      <td>toyota</td>\n",
       "      <td>Prius</td>\n",
       "      <td>2017</td>\n",
       "      <td>Automatic</td>\n",
       "      <td>13476.0</td>\n",
       "      <td>Hybrid</td>\n",
       "      <td>140.0</td>\n",
       "      <td>235.0</td>\n",
       "      <td>1.8</td>\n",
       "      <td>19998.0</td>\n",
       "    </tr>\n",
       "    <tr>\n",
       "      <th>6118</th>\n",
       "      <td>toyota</td>\n",
       "      <td>Prius</td>\n",
       "      <td>2019</td>\n",
       "      <td>Automatic</td>\n",
       "      <td>6552.0</td>\n",
       "      <td>Hybrid</td>\n",
       "      <td>135.0</td>\n",
       "      <td>235.0</td>\n",
       "      <td>1.8</td>\n",
       "      <td>24987.0</td>\n",
       "    </tr>\n",
       "    <tr>\n",
       "      <th>6124</th>\n",
       "      <td>toyota</td>\n",
       "      <td>Prius</td>\n",
       "      <td>2020</td>\n",
       "      <td>Automatic</td>\n",
       "      <td>1500.0</td>\n",
       "      <td>Hybrid</td>\n",
       "      <td>135.0</td>\n",
       "      <td>235.0</td>\n",
       "      <td>1.8</td>\n",
       "      <td>27990.0</td>\n",
       "    </tr>\n",
       "    <tr>\n",
       "      <th>...</th>\n",
       "      <td>...</td>\n",
       "      <td>...</td>\n",
       "      <td>...</td>\n",
       "      <td>...</td>\n",
       "      <td>...</td>\n",
       "      <td>...</td>\n",
       "      <td>...</td>\n",
       "      <td>...</td>\n",
       "      <td>...</td>\n",
       "      <td>...</td>\n",
       "    </tr>\n",
       "    <tr>\n",
       "      <th>8875</th>\n",
       "      <td>audi</td>\n",
       "      <td>A3</td>\n",
       "      <td>2015</td>\n",
       "      <td>Automatic</td>\n",
       "      <td>72260.0</td>\n",
       "      <td>Hybrid</td>\n",
       "      <td>0.0</td>\n",
       "      <td>176.6</td>\n",
       "      <td>1.4</td>\n",
       "      <td>11295.0</td>\n",
       "    </tr>\n",
       "    <tr>\n",
       "      <th>10003</th>\n",
       "      <td>audi</td>\n",
       "      <td>A3</td>\n",
       "      <td>2016</td>\n",
       "      <td>Automatic</td>\n",
       "      <td>72800.0</td>\n",
       "      <td>Hybrid</td>\n",
       "      <td>0.0</td>\n",
       "      <td>176.6</td>\n",
       "      <td>1.4</td>\n",
       "      <td>13000.0</td>\n",
       "    </tr>\n",
       "    <tr>\n",
       "      <th>10185</th>\n",
       "      <td>audi</td>\n",
       "      <td>A3</td>\n",
       "      <td>2015</td>\n",
       "      <td>Automatic</td>\n",
       "      <td>89000.0</td>\n",
       "      <td>Hybrid</td>\n",
       "      <td>0.0</td>\n",
       "      <td>176.6</td>\n",
       "      <td>1.4</td>\n",
       "      <td>11240.0</td>\n",
       "    </tr>\n",
       "    <tr>\n",
       "      <th>10392</th>\n",
       "      <td>audi</td>\n",
       "      <td>A3</td>\n",
       "      <td>2015</td>\n",
       "      <td>Automatic</td>\n",
       "      <td>63000.0</td>\n",
       "      <td>Hybrid</td>\n",
       "      <td>0.0</td>\n",
       "      <td>188.3</td>\n",
       "      <td>1.4</td>\n",
       "      <td>14000.0</td>\n",
       "    </tr>\n",
       "    <tr>\n",
       "      <th>10656</th>\n",
       "      <td>audi</td>\n",
       "      <td>A3</td>\n",
       "      <td>2016</td>\n",
       "      <td>Semi-Auto</td>\n",
       "      <td>52500.0</td>\n",
       "      <td>Hybrid</td>\n",
       "      <td>0.0</td>\n",
       "      <td>176.6</td>\n",
       "      <td>1.4</td>\n",
       "      <td>15495.0</td>\n",
       "    </tr>\n",
       "  </tbody>\n",
       "</table>\n",
       "<p>352 rows × 10 columns</p>\n",
       "</div>"
      ],
      "text/plain": [
       "         make   model  year transmission  mileage fuelType    tax    mpg  \\\n",
       "6098   toyota   Prius  2017    Automatic   3881.0   Hybrid  135.0  235.0   \n",
       "6103   toyota   Prius  2018    Automatic  16347.0   Hybrid  140.0  235.0   \n",
       "6116   toyota   Prius  2017    Automatic  13476.0   Hybrid  140.0  235.0   \n",
       "6118   toyota   Prius  2019    Automatic   6552.0   Hybrid  135.0  235.0   \n",
       "6124   toyota   Prius  2020    Automatic   1500.0   Hybrid  135.0  235.0   \n",
       "...       ...     ...   ...          ...      ...      ...    ...    ...   \n",
       "8875     audi      A3  2015    Automatic  72260.0   Hybrid    0.0  176.6   \n",
       "10003    audi      A3  2016    Automatic  72800.0   Hybrid    0.0  176.6   \n",
       "10185    audi      A3  2015    Automatic  89000.0   Hybrid    0.0  176.6   \n",
       "10392    audi      A3  2015    Automatic  63000.0   Hybrid    0.0  188.3   \n",
       "10656    audi      A3  2016    Semi-Auto  52500.0   Hybrid    0.0  176.6   \n",
       "\n",
       "       engineSize    price  \n",
       "6098          1.8  20795.0  \n",
       "6103          1.8  20495.0  \n",
       "6116          1.8  19998.0  \n",
       "6118          1.8  24987.0  \n",
       "6124          1.8  27990.0  \n",
       "...           ...      ...  \n",
       "8875          1.4  11295.0  \n",
       "10003         1.4  13000.0  \n",
       "10185         1.4  11240.0  \n",
       "10392         1.4  14000.0  \n",
       "10656         1.4  15495.0  \n",
       "\n",
       "[352 rows x 10 columns]"
      ]
     },
     "execution_count": 19,
     "metadata": {},
     "output_type": "execute_result"
    }
   ],
   "source": [
    "df[df[\"mpg\"] > 141]"
   ]
  },
  {
   "cell_type": "code",
   "execution_count": 20,
   "metadata": {
    "ExecuteTime": {
     "end_time": "2020-10-29T20:47:53.905334Z",
     "start_time": "2020-10-29T20:47:53.820988Z"
    }
   },
   "outputs": [],
   "source": [
    "df = df[df[\"mpg\"] <= 141]"
   ]
  },
  {
   "cell_type": "markdown",
   "metadata": {},
   "source": [
    "Ahora abordemos el caso contrario, ¿es posible que haya vehículos con un consumo de 0.3 mpg? Si eso fuera posible estaríamos hablando de que hay vehículos con un consumo de 784 litros a los 100km. Vamos a ampliar el espectro de búsqueda estudiando aquellos registros que tengan un `mpg`  menor a 5 donde estaríamos hablando de consumos en torno a 50 litros a los 100."
   ]
  },
  {
   "cell_type": "code",
   "execution_count": 21,
   "metadata": {
    "ExecuteTime": {
     "end_time": "2020-10-29T20:47:53.995770Z",
     "start_time": "2020-10-29T20:47:53.908162Z"
    }
   },
   "outputs": [
    {
     "data": {
      "text/html": [
       "<div>\n",
       "<style scoped>\n",
       "    .dataframe tbody tr th:only-of-type {\n",
       "        vertical-align: middle;\n",
       "    }\n",
       "\n",
       "    .dataframe tbody tr th {\n",
       "        vertical-align: top;\n",
       "    }\n",
       "\n",
       "    .dataframe thead th {\n",
       "        text-align: right;\n",
       "    }\n",
       "</style>\n",
       "<table border=\"1\" class=\"dataframe\">\n",
       "  <thead>\n",
       "    <tr style=\"text-align: right;\">\n",
       "      <th></th>\n",
       "      <th>make</th>\n",
       "      <th>model</th>\n",
       "      <th>year</th>\n",
       "      <th>transmission</th>\n",
       "      <th>mileage</th>\n",
       "      <th>fuelType</th>\n",
       "      <th>tax</th>\n",
       "      <th>mpg</th>\n",
       "      <th>engineSize</th>\n",
       "      <th>price</th>\n",
       "    </tr>\n",
       "  </thead>\n",
       "  <tbody>\n",
       "    <tr>\n",
       "      <th>6552</th>\n",
       "      <td>toyota</td>\n",
       "      <td>Hilux</td>\n",
       "      <td>2019</td>\n",
       "      <td>Automatic</td>\n",
       "      <td>3350.0</td>\n",
       "      <td>Diesel</td>\n",
       "      <td>260.0</td>\n",
       "      <td>2.8</td>\n",
       "      <td>2.4</td>\n",
       "      <td>28495.0</td>\n",
       "    </tr>\n",
       "    <tr>\n",
       "      <th>6562</th>\n",
       "      <td>toyota</td>\n",
       "      <td>Hilux</td>\n",
       "      <td>2020</td>\n",
       "      <td>Manual</td>\n",
       "      <td>50.0</td>\n",
       "      <td>Diesel</td>\n",
       "      <td>260.0</td>\n",
       "      <td>2.8</td>\n",
       "      <td>2.4</td>\n",
       "      <td>18495.0</td>\n",
       "    </tr>\n",
       "    <tr>\n",
       "      <th>6563</th>\n",
       "      <td>toyota</td>\n",
       "      <td>Hilux</td>\n",
       "      <td>2020</td>\n",
       "      <td>Manual</td>\n",
       "      <td>100.0</td>\n",
       "      <td>Diesel</td>\n",
       "      <td>260.0</td>\n",
       "      <td>2.8</td>\n",
       "      <td>2.4</td>\n",
       "      <td>23495.0</td>\n",
       "    </tr>\n",
       "    <tr>\n",
       "      <th>6575</th>\n",
       "      <td>toyota</td>\n",
       "      <td>Hilux</td>\n",
       "      <td>2019</td>\n",
       "      <td>Automatic</td>\n",
       "      <td>7123.0</td>\n",
       "      <td>Diesel</td>\n",
       "      <td>260.0</td>\n",
       "      <td>2.8</td>\n",
       "      <td>2.4</td>\n",
       "      <td>26500.0</td>\n",
       "    </tr>\n",
       "    <tr>\n",
       "      <th>6576</th>\n",
       "      <td>toyota</td>\n",
       "      <td>Hilux</td>\n",
       "      <td>2019</td>\n",
       "      <td>Manual</td>\n",
       "      <td>5190.0</td>\n",
       "      <td>Diesel</td>\n",
       "      <td>260.0</td>\n",
       "      <td>2.8</td>\n",
       "      <td>2.4</td>\n",
       "      <td>20500.0</td>\n",
       "    </tr>\n",
       "    <tr>\n",
       "      <th>6583</th>\n",
       "      <td>toyota</td>\n",
       "      <td>Hilux</td>\n",
       "      <td>2019</td>\n",
       "      <td>Automatic</td>\n",
       "      <td>4.0</td>\n",
       "      <td>Diesel</td>\n",
       "      <td>265.0</td>\n",
       "      <td>2.8</td>\n",
       "      <td>2.4</td>\n",
       "      <td>26995.0</td>\n",
       "    </tr>\n",
       "    <tr>\n",
       "      <th>6594</th>\n",
       "      <td>toyota</td>\n",
       "      <td>Hilux</td>\n",
       "      <td>2020</td>\n",
       "      <td>Automatic</td>\n",
       "      <td>1259.0</td>\n",
       "      <td>Diesel</td>\n",
       "      <td>265.0</td>\n",
       "      <td>2.8</td>\n",
       "      <td>2.4</td>\n",
       "      <td>39257.0</td>\n",
       "    </tr>\n",
       "    <tr>\n",
       "      <th>6595</th>\n",
       "      <td>toyota</td>\n",
       "      <td>Hilux</td>\n",
       "      <td>2019</td>\n",
       "      <td>Automatic</td>\n",
       "      <td>10250.0</td>\n",
       "      <td>Diesel</td>\n",
       "      <td>260.0</td>\n",
       "      <td>2.8</td>\n",
       "      <td>2.4</td>\n",
       "      <td>27850.0</td>\n",
       "    </tr>\n",
       "    <tr>\n",
       "      <th>6596</th>\n",
       "      <td>toyota</td>\n",
       "      <td>Hilux</td>\n",
       "      <td>2020</td>\n",
       "      <td>Automatic</td>\n",
       "      <td>5000.0</td>\n",
       "      <td>Diesel</td>\n",
       "      <td>260.0</td>\n",
       "      <td>2.8</td>\n",
       "      <td>2.4</td>\n",
       "      <td>30500.0</td>\n",
       "    </tr>\n",
       "    <tr>\n",
       "      <th>6617</th>\n",
       "      <td>toyota</td>\n",
       "      <td>Hilux</td>\n",
       "      <td>2020</td>\n",
       "      <td>Automatic</td>\n",
       "      <td>150.0</td>\n",
       "      <td>Diesel</td>\n",
       "      <td>260.0</td>\n",
       "      <td>2.8</td>\n",
       "      <td>2.4</td>\n",
       "      <td>36995.0</td>\n",
       "    </tr>\n",
       "    <tr>\n",
       "      <th>2524</th>\n",
       "      <td>merc</td>\n",
       "      <td>A Class</td>\n",
       "      <td>2020</td>\n",
       "      <td>Semi-Auto</td>\n",
       "      <td>4000.0</td>\n",
       "      <td>Hybrid</td>\n",
       "      <td>140.0</td>\n",
       "      <td>1.1</td>\n",
       "      <td>1.3</td>\n",
       "      <td>30231.0</td>\n",
       "    </tr>\n",
       "    <tr>\n",
       "      <th>2560</th>\n",
       "      <td>merc</td>\n",
       "      <td>A Class</td>\n",
       "      <td>2020</td>\n",
       "      <td>Semi-Auto</td>\n",
       "      <td>4000.0</td>\n",
       "      <td>Hybrid</td>\n",
       "      <td>140.0</td>\n",
       "      <td>1.1</td>\n",
       "      <td>1.3</td>\n",
       "      <td>30231.0</td>\n",
       "    </tr>\n",
       "    <tr>\n",
       "      <th>6970</th>\n",
       "      <td>merc</td>\n",
       "      <td>A Class</td>\n",
       "      <td>2020</td>\n",
       "      <td>Semi-Auto</td>\n",
       "      <td>1000.0</td>\n",
       "      <td>Hybrid</td>\n",
       "      <td>135.0</td>\n",
       "      <td>1.1</td>\n",
       "      <td>1.3</td>\n",
       "      <td>31500.0</td>\n",
       "    </tr>\n",
       "    <tr>\n",
       "      <th>10366</th>\n",
       "      <td>merc</td>\n",
       "      <td>A Class</td>\n",
       "      <td>2020</td>\n",
       "      <td>Automatic</td>\n",
       "      <td>345.0</td>\n",
       "      <td>Hybrid</td>\n",
       "      <td>140.0</td>\n",
       "      <td>1.1</td>\n",
       "      <td>1.3</td>\n",
       "      <td>33900.0</td>\n",
       "    </tr>\n",
       "    <tr>\n",
       "      <th>14504</th>\n",
       "      <td>vw</td>\n",
       "      <td>Golf SV</td>\n",
       "      <td>2019</td>\n",
       "      <td>Manual</td>\n",
       "      <td>100.0</td>\n",
       "      <td>Petrol</td>\n",
       "      <td>145.0</td>\n",
       "      <td>0.3</td>\n",
       "      <td>1.0</td>\n",
       "      <td>17950.0</td>\n",
       "    </tr>\n",
       "    <tr>\n",
       "      <th>210</th>\n",
       "      <td>hyundi</td>\n",
       "      <td>Ioniq</td>\n",
       "      <td>2019</td>\n",
       "      <td>Automatic</td>\n",
       "      <td>2844.0</td>\n",
       "      <td>Hybrid</td>\n",
       "      <td>140.0</td>\n",
       "      <td>1.1</td>\n",
       "      <td>1.6</td>\n",
       "      <td>22998.0</td>\n",
       "    </tr>\n",
       "    <tr>\n",
       "      <th>808</th>\n",
       "      <td>hyundi</td>\n",
       "      <td>Ioniq</td>\n",
       "      <td>2020</td>\n",
       "      <td>Automatic</td>\n",
       "      <td>4152.0</td>\n",
       "      <td>Hybrid</td>\n",
       "      <td>135.0</td>\n",
       "      <td>1.1</td>\n",
       "      <td>1.6</td>\n",
       "      <td>23895.0</td>\n",
       "    </tr>\n",
       "    <tr>\n",
       "      <th>2950</th>\n",
       "      <td>hyundi</td>\n",
       "      <td>Ioniq</td>\n",
       "      <td>2020</td>\n",
       "      <td>Automatic</td>\n",
       "      <td>1290.0</td>\n",
       "      <td>Hybrid</td>\n",
       "      <td>135.0</td>\n",
       "      <td>1.1</td>\n",
       "      <td>1.6</td>\n",
       "      <td>26995.0</td>\n",
       "    </tr>\n",
       "    <tr>\n",
       "      <th>4806</th>\n",
       "      <td>hyundi</td>\n",
       "      <td>Ioniq</td>\n",
       "      <td>2020</td>\n",
       "      <td>Automatic</td>\n",
       "      <td>5213.0</td>\n",
       "      <td>Hybrid</td>\n",
       "      <td>135.0</td>\n",
       "      <td>1.1</td>\n",
       "      <td>1.6</td>\n",
       "      <td>28995.0</td>\n",
       "    </tr>\n",
       "  </tbody>\n",
       "</table>\n",
       "</div>"
      ],
      "text/plain": [
       "         make     model  year transmission  mileage fuelType    tax  mpg  \\\n",
       "6552   toyota     Hilux  2019    Automatic   3350.0   Diesel  260.0  2.8   \n",
       "6562   toyota     Hilux  2020       Manual     50.0   Diesel  260.0  2.8   \n",
       "6563   toyota     Hilux  2020       Manual    100.0   Diesel  260.0  2.8   \n",
       "6575   toyota     Hilux  2019    Automatic   7123.0   Diesel  260.0  2.8   \n",
       "6576   toyota     Hilux  2019       Manual   5190.0   Diesel  260.0  2.8   \n",
       "6583   toyota     Hilux  2019    Automatic      4.0   Diesel  265.0  2.8   \n",
       "6594   toyota     Hilux  2020    Automatic   1259.0   Diesel  265.0  2.8   \n",
       "6595   toyota     Hilux  2019    Automatic  10250.0   Diesel  260.0  2.8   \n",
       "6596   toyota     Hilux  2020    Automatic   5000.0   Diesel  260.0  2.8   \n",
       "6617   toyota     Hilux  2020    Automatic    150.0   Diesel  260.0  2.8   \n",
       "2524     merc   A Class  2020    Semi-Auto   4000.0   Hybrid  140.0  1.1   \n",
       "2560     merc   A Class  2020    Semi-Auto   4000.0   Hybrid  140.0  1.1   \n",
       "6970     merc   A Class  2020    Semi-Auto   1000.0   Hybrid  135.0  1.1   \n",
       "10366    merc   A Class  2020    Automatic    345.0   Hybrid  140.0  1.1   \n",
       "14504      vw   Golf SV  2019       Manual    100.0   Petrol  145.0  0.3   \n",
       "210    hyundi     Ioniq  2019    Automatic   2844.0   Hybrid  140.0  1.1   \n",
       "808    hyundi     Ioniq  2020    Automatic   4152.0   Hybrid  135.0  1.1   \n",
       "2950   hyundi     Ioniq  2020    Automatic   1290.0   Hybrid  135.0  1.1   \n",
       "4806   hyundi     Ioniq  2020    Automatic   5213.0   Hybrid  135.0  1.1   \n",
       "\n",
       "       engineSize    price  \n",
       "6552          2.4  28495.0  \n",
       "6562          2.4  18495.0  \n",
       "6563          2.4  23495.0  \n",
       "6575          2.4  26500.0  \n",
       "6576          2.4  20500.0  \n",
       "6583          2.4  26995.0  \n",
       "6594          2.4  39257.0  \n",
       "6595          2.4  27850.0  \n",
       "6596          2.4  30500.0  \n",
       "6617          2.4  36995.0  \n",
       "2524          1.3  30231.0  \n",
       "2560          1.3  30231.0  \n",
       "6970          1.3  31500.0  \n",
       "10366         1.3  33900.0  \n",
       "14504         1.0  17950.0  \n",
       "210           1.6  22998.0  \n",
       "808           1.6  23895.0  \n",
       "2950          1.6  26995.0  \n",
       "4806          1.6  28995.0  "
      ]
     },
     "execution_count": 21,
     "metadata": {},
     "output_type": "execute_result"
    }
   ],
   "source": [
    "df[df[\"mpg\"] <= 5]"
   ]
  },
  {
   "cell_type": "markdown",
   "metadata": {},
   "source": [
    "Teniendo en cuenta que la mayoría de resultados son vehículos híbridos y/o vehículos posteriores al año 2019 donde los ciclos de combustión de los vehículos son más eficientes que hace 40 años, estos datos no tienen sentido ya que el Chevrolet Camaro del año 1967, el turismo con mayor consumo de la historia, tenía un mpg de 5.4. \\[4\\].\n",
    "\n",
    "Por tanto, podemos prescindir de estos datos al considerarlos erróneos."
   ]
  },
  {
   "cell_type": "code",
   "execution_count": 22,
   "metadata": {
    "ExecuteTime": {
     "end_time": "2020-10-29T20:47:54.083521Z",
     "start_time": "2020-10-29T20:47:53.999542Z"
    }
   },
   "outputs": [],
   "source": [
    "df = df[df[\"mpg\"] >= 5.4]"
   ]
  },
  {
   "cell_type": "markdown",
   "metadata": {},
   "source": [
    "##### 2.5.2.3 Errores en `engineSize`"
   ]
  },
  {
   "cell_type": "markdown",
   "metadata": {},
   "source": [
    "Otro de los datos llamativos, analizando la tabla de estadísticos, es el valor mínimo de la variable `engineSize`. Este análisis nos muestra que hay vehículos con un valor de 0 para esta variable por lo que hay que descubrir de qué vehículos se trata. Filtraremos tan solo por vehículos que tengan un motor de combustión."
   ]
  },
  {
   "cell_type": "code",
   "execution_count": 23,
   "metadata": {
    "ExecuteTime": {
     "end_time": "2020-10-29T20:47:54.200579Z",
     "start_time": "2020-10-29T20:47:54.094135Z"
    },
    "scrolled": false
   },
   "outputs": [
    {
     "data": {
      "text/html": [
       "<div>\n",
       "<style scoped>\n",
       "    .dataframe tbody tr th:only-of-type {\n",
       "        vertical-align: middle;\n",
       "    }\n",
       "\n",
       "    .dataframe tbody tr th {\n",
       "        vertical-align: top;\n",
       "    }\n",
       "\n",
       "    .dataframe thead th {\n",
       "        text-align: right;\n",
       "    }\n",
       "</style>\n",
       "<table border=\"1\" class=\"dataframe\">\n",
       "  <thead>\n",
       "    <tr style=\"text-align: right;\">\n",
       "      <th></th>\n",
       "      <th>make</th>\n",
       "      <th>model</th>\n",
       "      <th>year</th>\n",
       "      <th>transmission</th>\n",
       "      <th>mileage</th>\n",
       "      <th>fuelType</th>\n",
       "      <th>tax</th>\n",
       "      <th>mpg</th>\n",
       "      <th>engineSize</th>\n",
       "      <th>price</th>\n",
       "    </tr>\n",
       "  </thead>\n",
       "  <tbody>\n",
       "    <tr>\n",
       "      <th>5126</th>\n",
       "      <td>toyota</td>\n",
       "      <td>Aygo</td>\n",
       "      <td>2019</td>\n",
       "      <td>Manual</td>\n",
       "      <td>3635.0</td>\n",
       "      <td>Petrol</td>\n",
       "      <td>150.0</td>\n",
       "      <td>56.5</td>\n",
       "      <td>0.0</td>\n",
       "      <td>9800.0</td>\n",
       "    </tr>\n",
       "    <tr>\n",
       "      <th>5233</th>\n",
       "      <td>toyota</td>\n",
       "      <td>Aygo</td>\n",
       "      <td>2019</td>\n",
       "      <td>Manual</td>\n",
       "      <td>8531.0</td>\n",
       "      <td>Petrol</td>\n",
       "      <td>145.0</td>\n",
       "      <td>56.5</td>\n",
       "      <td>0.0</td>\n",
       "      <td>8000.0</td>\n",
       "    </tr>\n",
       "    <tr>\n",
       "      <th>5257</th>\n",
       "      <td>toyota</td>\n",
       "      <td>Aygo</td>\n",
       "      <td>2019</td>\n",
       "      <td>Manual</td>\n",
       "      <td>5354.0</td>\n",
       "      <td>Petrol</td>\n",
       "      <td>145.0</td>\n",
       "      <td>56.5</td>\n",
       "      <td>0.0</td>\n",
       "      <td>8000.0</td>\n",
       "    </tr>\n",
       "    <tr>\n",
       "      <th>5960</th>\n",
       "      <td>toyota</td>\n",
       "      <td>C-HR</td>\n",
       "      <td>2017</td>\n",
       "      <td>Manual</td>\n",
       "      <td>46571.0</td>\n",
       "      <td>Petrol</td>\n",
       "      <td>145.0</td>\n",
       "      <td>47.1</td>\n",
       "      <td>0.0</td>\n",
       "      <td>14300.0</td>\n",
       "    </tr>\n",
       "    <tr>\n",
       "      <th>5188</th>\n",
       "      <td>skoda</td>\n",
       "      <td>Octavia</td>\n",
       "      <td>2017</td>\n",
       "      <td>Automatic</td>\n",
       "      <td>16166.0</td>\n",
       "      <td>Diesel</td>\n",
       "      <td>145.0</td>\n",
       "      <td>61.4</td>\n",
       "      <td>0.0</td>\n",
       "      <td>16000.0</td>\n",
       "    </tr>\n",
       "    <tr>\n",
       "      <th>...</th>\n",
       "      <td>...</td>\n",
       "      <td>...</td>\n",
       "      <td>...</td>\n",
       "      <td>...</td>\n",
       "      <td>...</td>\n",
       "      <td>...</td>\n",
       "      <td>...</td>\n",
       "      <td>...</td>\n",
       "      <td>...</td>\n",
       "      <td>...</td>\n",
       "    </tr>\n",
       "    <tr>\n",
       "      <th>7864</th>\n",
       "      <td>audi</td>\n",
       "      <td>A3</td>\n",
       "      <td>2016</td>\n",
       "      <td>Manual</td>\n",
       "      <td>55321.0</td>\n",
       "      <td>Petrol</td>\n",
       "      <td>200.0</td>\n",
       "      <td>40.4</td>\n",
       "      <td>0.0</td>\n",
       "      <td>18300.0</td>\n",
       "    </tr>\n",
       "    <tr>\n",
       "      <th>7892</th>\n",
       "      <td>audi</td>\n",
       "      <td>Q3</td>\n",
       "      <td>2020</td>\n",
       "      <td>Automatic</td>\n",
       "      <td>1500.0</td>\n",
       "      <td>Petrol</td>\n",
       "      <td>145.0</td>\n",
       "      <td>31.4</td>\n",
       "      <td>0.0</td>\n",
       "      <td>32000.0</td>\n",
       "    </tr>\n",
       "    <tr>\n",
       "      <th>8798</th>\n",
       "      <td>audi</td>\n",
       "      <td>A3</td>\n",
       "      <td>2016</td>\n",
       "      <td>Manual</td>\n",
       "      <td>30590.0</td>\n",
       "      <td>Petrol</td>\n",
       "      <td>30.0</td>\n",
       "      <td>56.5</td>\n",
       "      <td>0.0</td>\n",
       "      <td>12000.0</td>\n",
       "    </tr>\n",
       "    <tr>\n",
       "      <th>8866</th>\n",
       "      <td>audi</td>\n",
       "      <td>TT</td>\n",
       "      <td>2017</td>\n",
       "      <td>Automatic</td>\n",
       "      <td>27607.0</td>\n",
       "      <td>Petrol</td>\n",
       "      <td>200.0</td>\n",
       "      <td>40.9</td>\n",
       "      <td>0.0</td>\n",
       "      <td>27000.0</td>\n",
       "    </tr>\n",
       "    <tr>\n",
       "      <th>9897</th>\n",
       "      <td>audi</td>\n",
       "      <td>A3</td>\n",
       "      <td>2005</td>\n",
       "      <td>Manual</td>\n",
       "      <td>122000.0</td>\n",
       "      <td>Diesel</td>\n",
       "      <td>150.0</td>\n",
       "      <td>53.3</td>\n",
       "      <td>0.0</td>\n",
       "      <td>2495.0</td>\n",
       "    </tr>\n",
       "  </tbody>\n",
       "</table>\n",
       "<p>232 rows × 10 columns</p>\n",
       "</div>"
      ],
      "text/plain": [
       "        make     model  year transmission   mileage fuelType    tax   mpg  \\\n",
       "5126  toyota      Aygo  2019       Manual    3635.0   Petrol  150.0  56.5   \n",
       "5233  toyota      Aygo  2019       Manual    8531.0   Petrol  145.0  56.5   \n",
       "5257  toyota      Aygo  2019       Manual    5354.0   Petrol  145.0  56.5   \n",
       "5960  toyota      C-HR  2017       Manual   46571.0   Petrol  145.0  47.1   \n",
       "5188   skoda   Octavia  2017    Automatic   16166.0   Diesel  145.0  61.4   \n",
       "...      ...       ...   ...          ...       ...      ...    ...   ...   \n",
       "7864    audi        A3  2016       Manual   55321.0   Petrol  200.0  40.4   \n",
       "7892    audi        Q3  2020    Automatic    1500.0   Petrol  145.0  31.4   \n",
       "8798    audi        A3  2016       Manual   30590.0   Petrol   30.0  56.5   \n",
       "8866    audi        TT  2017    Automatic   27607.0   Petrol  200.0  40.9   \n",
       "9897    audi        A3  2005       Manual  122000.0   Diesel  150.0  53.3   \n",
       "\n",
       "      engineSize    price  \n",
       "5126         0.0   9800.0  \n",
       "5233         0.0   8000.0  \n",
       "5257         0.0   8000.0  \n",
       "5960         0.0  14300.0  \n",
       "5188         0.0  16000.0  \n",
       "...          ...      ...  \n",
       "7864         0.0  18300.0  \n",
       "7892         0.0  32000.0  \n",
       "8798         0.0  12000.0  \n",
       "8866         0.0  27000.0  \n",
       "9897         0.0   2495.0  \n",
       "\n",
       "[232 rows x 10 columns]"
      ]
     },
     "execution_count": 23,
     "metadata": {},
     "output_type": "execute_result"
    }
   ],
   "source": [
    "df[(df[\"engineSize\"] == 0) & (df[\"fuelType\"].isin([\"Petrol\", \"Diesel\"]))]"
   ]
  },
  {
   "cell_type": "markdown",
   "metadata": {},
   "source": [
    "Como podemos ver, hay 232 vehículos, todos ellos con motor de combustión, que tienen un `engineSize` de 0. Esto no es posible, así que vamos a eliminar estos registros del dataset para quedarnos tan solo con datos correctos."
   ]
  },
  {
   "cell_type": "code",
   "execution_count": 24,
   "metadata": {
    "ExecuteTime": {
     "end_time": "2020-10-29T20:47:54.296088Z",
     "start_time": "2020-10-29T20:47:54.207103Z"
    }
   },
   "outputs": [],
   "source": [
    "df.drop(df[(df[\"engineSize\"] == 0) & (df[\"fuelType\"].isin([\"Petrol\", \"Diesel\"]))].index, inplace=True)"
   ]
  },
  {
   "cell_type": "markdown",
   "metadata": {},
   "source": [
    "Del mismo modo, vamos a ver si hay vehículos eléctricos con cilindrada distinta de 0, y si las hay, a eliminarlas."
   ]
  },
  {
   "cell_type": "code",
   "execution_count": 25,
   "metadata": {
    "ExecuteTime": {
     "end_time": "2020-10-29T20:47:54.366034Z",
     "start_time": "2020-10-29T20:47:54.298261Z"
    }
   },
   "outputs": [
    {
     "data": {
      "text/html": [
       "<div>\n",
       "<style scoped>\n",
       "    .dataframe tbody tr th:only-of-type {\n",
       "        vertical-align: middle;\n",
       "    }\n",
       "\n",
       "    .dataframe tbody tr th {\n",
       "        vertical-align: top;\n",
       "    }\n",
       "\n",
       "    .dataframe thead th {\n",
       "        text-align: right;\n",
       "    }\n",
       "</style>\n",
       "<table border=\"1\" class=\"dataframe\">\n",
       "  <thead>\n",
       "    <tr style=\"text-align: right;\">\n",
       "      <th></th>\n",
       "      <th>make</th>\n",
       "      <th>model</th>\n",
       "      <th>year</th>\n",
       "      <th>transmission</th>\n",
       "      <th>mileage</th>\n",
       "      <th>fuelType</th>\n",
       "      <th>tax</th>\n",
       "      <th>mpg</th>\n",
       "      <th>engineSize</th>\n",
       "      <th>price</th>\n",
       "    </tr>\n",
       "  </thead>\n",
       "  <tbody>\n",
       "    <tr>\n",
       "      <th>6385</th>\n",
       "      <td>ford</td>\n",
       "      <td>Mondeo</td>\n",
       "      <td>2016</td>\n",
       "      <td>Automatic</td>\n",
       "      <td>9396.0</td>\n",
       "      <td>Electric</td>\n",
       "      <td>0.0</td>\n",
       "      <td>67.3</td>\n",
       "      <td>2.0</td>\n",
       "      <td>15975.0</td>\n",
       "    </tr>\n",
       "    <tr>\n",
       "      <th>11959</th>\n",
       "      <td>ford</td>\n",
       "      <td>Mondeo</td>\n",
       "      <td>2016</td>\n",
       "      <td>Automatic</td>\n",
       "      <td>24531.0</td>\n",
       "      <td>Electric</td>\n",
       "      <td>0.0</td>\n",
       "      <td>67.3</td>\n",
       "      <td>2.0</td>\n",
       "      <td>15500.0</td>\n",
       "    </tr>\n",
       "  </tbody>\n",
       "</table>\n",
       "</div>"
      ],
      "text/plain": [
       "       make    model  year transmission  mileage  fuelType  tax   mpg  \\\n",
       "6385   ford   Mondeo  2016    Automatic   9396.0  Electric  0.0  67.3   \n",
       "11959  ford   Mondeo  2016    Automatic  24531.0  Electric  0.0  67.3   \n",
       "\n",
       "       engineSize    price  \n",
       "6385          2.0  15975.0  \n",
       "11959         2.0  15500.0  "
      ]
     },
     "execution_count": 25,
     "metadata": {},
     "output_type": "execute_result"
    }
   ],
   "source": [
    "df[(df[\"engineSize\"] != 0) & (df[\"fuelType\"] == \"Electric\")]"
   ]
  },
  {
   "cell_type": "markdown",
   "metadata": {},
   "source": [
    "Una búsqueda rápida en Internet nos dice que hay un modelo Ford Mondeo híbrido con cilindrada de 2 litros, como indicarían estas filas. Sin embargo, ese modelo es de 2020 \\[5\\]. Entre esto y que el vehículo de 2020 es híbrido y no eléctrico, hay demasiadas incongruencias como para dejar las filas, o modificarlas con seguridad. Lo mejor es eliminarlas."
   ]
  },
  {
   "cell_type": "code",
   "execution_count": 26,
   "metadata": {
    "ExecuteTime": {
     "end_time": "2020-10-29T20:47:54.454760Z",
     "start_time": "2020-10-29T20:47:54.370045Z"
    }
   },
   "outputs": [],
   "source": [
    "df.drop(df[(df[\"engineSize\"] != 0) & (df[\"fuelType\"] == \"Electric\")].index, inplace=True)"
   ]
  },
  {
   "cell_type": "markdown",
   "metadata": {},
   "source": [
    "#### 2.5.3 Análisis de valores anómalos"
   ]
  },
  {
   "cell_type": "markdown",
   "metadata": {},
   "source": [
    "Vamos a estudiar también aquellas variables numéricas que presentan datos más dispersos, es decir, tienen una desviación estándar elevada. Dichas variables son `mileage`, `price`, `mpg`, y `tax`. Calcularemos también el coeficiente de variación para comparar la desviación de los datos con el promedio:"
   ]
  },
  {
   "cell_type": "code",
   "execution_count": 27,
   "metadata": {
    "ExecuteTime": {
     "end_time": "2020-10-29T20:47:54.519501Z",
     "start_time": "2020-10-29T20:47:54.458916Z"
    }
   },
   "outputs": [
    {
     "name": "stdout",
     "output_type": "stream",
     "text": [
      "mileage:\n",
      "\tCoefficient of variation = 91.58992757840846\n",
      "tax:\n",
      "\tCoefficient of variation = 52.45483261132748\n",
      "mpg:\n",
      "\tCoefficient of variation = 21.744585168942233\n",
      "price:\n",
      "\tCoefficient of variation = 58.74460810182735\n",
      "engineSize:\n",
      "\tCoefficient of variation = 33.10530025444537\n"
     ]
    }
   ],
   "source": [
    "for column in [\"mileage\", \"tax\", \"mpg\", \"price\", \"engineSize\"]:\n",
    "    print(f\"{column}:\")\n",
    "    print(f\"\\tCoefficient of variation = {(df[column].std() / df[column].mean())*100}\")"
   ]
  },
  {
   "cell_type": "markdown",
   "metadata": {},
   "source": [
    "Como vemos, las cuatro variables tienen coeficientes de variación demasiado elevados (se considera que la media es representativa cuando $CV < 15\\%$). Destaca sobre todo la variable `mileage` con un coficiente del 92%. Conocer este dato es de vital importancia para poder realizar un correcto tratamiento de las columnas con valores numéricos ya que la elección de las técnicas de preprocesamiento se basan en cierto modo en la variabilidad de los datos.\n",
    "\n",
    "Con este análisis todo hace indicar que habrá una cantidad alta de valores anómalos en estas columnas. Vamos a estudiarlos:"
   ]
  },
  {
   "cell_type": "markdown",
   "metadata": {},
   "source": [
    "En primer lugar, como las variables `price` y `mileage` tienen un rango más parecido vamos a agruparlas para poder visualizar los valores anómalos con ayuda de un gráfico de caja y bigotes. "
   ]
  },
  {
   "cell_type": "code",
   "execution_count": 28,
   "metadata": {
    "ExecuteTime": {
     "end_time": "2020-10-29T20:47:54.875560Z",
     "start_time": "2020-10-29T20:47:54.524092Z"
    }
   },
   "outputs": [
    {
     "data": {
      "image/png": "[encoded data removed]",
      "text/plain": [
       "<Figure size 1440x576 with 1 Axes>"
      ]
     },
     "metadata": {
      "needs_background": "light"
     },
     "output_type": "display_data"
    }
   ],
   "source": [
    "plt.figure(figsize=(20, 8))\n",
    "sns.boxplot(data=df[[\"price\", \"mileage\"]])\n",
    "plt.yticks(np.arange(0, 320001, 20000))\n",
    "plt.title('Boxplot for price and mileage', fontdict={\"family\": \"Consolas\", \"size\": 15})\n",
    "plt.grid()\n",
    "plt.show()"
   ]
  },
  {
   "cell_type": "markdown",
   "metadata": {},
   "source": [
    "Como podemos ver, ambas variables tienen un número bastante alto de valores anómalos. Vamos a agrupar ahora las dos últimas variables con rango similar, `tax` y `mpg`."
   ]
  },
  {
   "cell_type": "code",
   "execution_count": 29,
   "metadata": {
    "ExecuteTime": {
     "end_time": "2020-10-29T20:47:55.184479Z",
     "start_time": "2020-10-29T20:47:54.877631Z"
    }
   },
   "outputs": [
    {
     "data": {
      "image/png": "[encoded data removed]",
      "text/plain": [
       "<Figure size 1440x576 with 1 Axes>"
      ]
     },
     "metadata": {
      "needs_background": "light"
     },
     "output_type": "display_data"
    }
   ],
   "source": [
    "plt.figure(figsize=(20, 8))\n",
    "sns.boxplot(data=df[[\"tax\", \"mpg\"]])\n",
    "plt.yticks(np.arange(0, 601, 50))\n",
    "plt.title('Boxplot for tax and mpg', fontdict={\"family\": \"Consolas\", \"size\": 15})\n",
    "plt.grid()\n",
    "plt.show()"
   ]
  },
  {
   "cell_type": "markdown",
   "metadata": {},
   "source": [
    "Las cuatro variables presentan valores anómalos importantes, además si se tienen en cuenta los estadísticos de la tabla mostrada por el método *describe*, la desviación estándar y el coeficiente de variación debemos abordar algunos cambios que favorecerán la precisión de nuestros modelos."
   ]
  },
  {
   "cell_type": "markdown",
   "metadata": {},
   "source": [
    "#### 2.5.4. Tests de normalidad"
   ]
  },
  {
   "cell_type": "markdown",
   "metadata": {},
   "source": [
    "El [test de Kolmogorov-Smirnov](https://docs.scipy.org/doc/scipy/reference/generated/scipy.stats.kstest.html) nos permite ver si una variable sigue una distribución normal o no."
   ]
  },
  {
   "cell_type": "code",
   "execution_count": 30,
   "metadata": {
    "ExecuteTime": {
     "end_time": "2020-10-29T20:47:55.445756Z",
     "start_time": "2020-10-29T20:47:55.186869Z"
    }
   },
   "outputs": [
    {
     "name": "stdout",
     "output_type": "stream",
     "text": [
      "year: hypothesis rejected\n",
      "price: hypothesis rejected\n",
      "mileage: hypothesis rejected\n",
      "tax: hypothesis rejected\n",
      "mpg: hypothesis rejected\n",
      "engineSize: hypothesis rejected\n"
     ]
    }
   ],
   "source": [
    "numeric_variables = [\"year\", \"price\", \"mileage\", \"tax\", \"mpg\", \"engineSize\"]\n",
    "\n",
    "for column in numeric_variables:\n",
    "    mu, sigma = norm.fit(df[column].dropna())\n",
    "    n = norm(loc=mu, scale=sigma)\n",
    "    print(\n",
    "        f\"{column}: hypothesis {'rejected' if kstest(df[column].dropna(), n.cdf).pvalue < 0.05 else 'not rejected'}\"\n",
    "    )"
   ]
  },
  {
   "cell_type": "markdown",
   "metadata": {},
   "source": [
    "Parece que ninguna de ellas sigue una distribución normal. Sin embargo, es posible aproximar una normal, así que vamos a echar un vistazo a los histogramas."
   ]
  },
  {
   "cell_type": "code",
   "execution_count": 31,
   "metadata": {
    "ExecuteTime": {
     "end_time": "2020-10-29T20:48:01.779687Z",
     "start_time": "2020-10-29T20:47:55.449325Z"
    },
    "scrolled": false
   },
   "outputs": [
    {
     "data": {
      "image/png": "[encoded data removed]",
      "text/plain": [
       "<Figure size 1800x1080 with 6 Axes>"
      ]
     },
     "metadata": {},
     "output_type": "display_data"
    }
   ],
   "source": [
    "sns.set_theme()\n",
    "fig, ax = plt.subplots(3, 2, figsize=(25, 15))\n",
    "\n",
    "for i, var in enumerate(numeric_variables):\n",
    "    sns.histplot(df[var], ax=ax[i // 2][i % 2])\n",
    "plt.show()"
   ]
  },
  {
   "cell_type": "markdown",
   "metadata": {},
   "source": [
    "La variable `mpg` parece que podría ser normal si no fuera por sus outliers. Si eliminando los outliers la distribución es normal, podremos plantearnos normalizar en el preprocesamiento."
   ]
  },
  {
   "cell_type": "code",
   "execution_count": 32,
   "metadata": {
    "ExecuteTime": {
     "end_time": "2020-10-29T20:48:02.182464Z",
     "start_time": "2020-10-29T20:48:01.782133Z"
    }
   },
   "outputs": [
    {
     "name": "stdout",
     "output_type": "stream",
     "text": [
      "Not a normal distribution\n"
     ]
    },
    {
     "data": {
      "image/png": "[encoded data removed]",
      "text/plain": [
       "<Figure size 1440x360 with 1 Axes>"
      ]
     },
     "metadata": {},
     "output_type": "display_data"
    }
   ],
   "source": [
    "mpg_std = df[\"mpg\"][(df[\"mpg\"] < np.percentile(df[\"mpg\"].dropna(), 99))\n",
    "                    & (df[\"mpg\"] > np.percentile(df[\"mpg\"].dropna(), 1))]\n",
    "\n",
    "mu, sigma = norm.fit(mpg_std)\n",
    "n = norm(loc=mu, scale=sigma)\n",
    "if kstest(mpg_std, n.cdf).pvalue < 0.05:\n",
    "    print(\"Not a normal distribution\")\n",
    "else:\n",
    "    print(\"Test inconclusive\")\n",
    "\n",
    "plt.figure(figsize=(20, 5))\n",
    "plt.hist(mpg_std, bins=10)\n",
    "plt.grid(True)\n",
    "plt.title(\"mpg without outliers\")\n",
    "plt.show()"
   ]
  },
  {
   "cell_type": "markdown",
   "metadata": {},
   "source": [
    "La distribución de `mpg` no es normal aunque se eliminen estos outliers. Los tests dan p-valores menores de 0.05 y el histograma está sesgado a la derecha."
   ]
  },
  {
   "cell_type": "markdown",
   "metadata": {},
   "source": [
    "### 2.6. Análisis de variables categóricas"
   ]
  },
  {
   "cell_type": "markdown",
   "metadata": {},
   "source": [
    "Vamos a echar un vistazo a los posibles valores que toman las variables categóricas."
   ]
  },
  {
   "cell_type": "markdown",
   "metadata": {},
   "source": [
    "#### 2.6.1. Atributo `model`"
   ]
  },
  {
   "cell_type": "markdown",
   "metadata": {},
   "source": [
    "En el caso de la variable `model`, lo primero es ver cuántos tipos de modelos distintos podemos encontrarnos."
   ]
  },
  {
   "cell_type": "code",
   "execution_count": 33,
   "metadata": {
    "ExecuteTime": {
     "end_time": "2020-10-29T20:48:02.206678Z",
     "start_time": "2020-10-29T20:48:02.186849Z"
    }
   },
   "outputs": [
    {
     "data": {
      "text/plain": [
       "192"
      ]
     },
     "execution_count": 33,
     "metadata": {},
     "output_type": "execute_result"
    }
   ],
   "source": [
    "len(df[\"model\"].unique())"
   ]
  },
  {
   "cell_type": "markdown",
   "metadata": {},
   "source": [
    "Codificar `model` con un one-hot encoding implicaría aumentar la dimensionalidad de los datos en 191, lo cual probablemente sea perjudicial para el modelo y desde luego para el coste computacional. Vamos a ver si podemos deshacernos de la variable."
   ]
  },
  {
   "cell_type": "code",
   "execution_count": 34,
   "metadata": {
    "ExecuteTime": {
     "end_time": "2020-10-29T20:48:05.555298Z",
     "start_time": "2020-10-29T20:48:02.209751Z"
    }
   },
   "outputs": [
    {
     "data": {
      "image/png": "[encoded data removed]",
      "text/plain": [
       "<Figure size 1440x576 with 1 Axes>"
      ]
     },
     "metadata": {},
     "output_type": "display_data"
    }
   ],
   "source": [
    "sns.set_style(\"ticks\")\n",
    "plt.figure(figsize=(20, 8))\n",
    "df[\"model\"].value_counts().plot(kind=\"bar\")\n",
    "plt.grid()\n",
    "plt.yticks(range(0, 6501, 250))\n",
    "plt.xticks(fontsize=\"xx-small\")\n",
    "plt.show()"
   ]
  },
  {
   "cell_type": "markdown",
   "metadata": {},
   "source": [
    "Parece que la gran mayoría de modelos tienen un número reducido de instancias. Sin embargo, hay suficientes datos de suficientes modelos como para que sea más acertado conservar la variable que eliminarla. Codificaremos `model` con un one-hot encoding."
   ]
  },
  {
   "cell_type": "markdown",
   "metadata": {},
   "source": [
    "#### 2.6.2. Atributos `transmission` y `fuelType`"
   ]
  },
  {
   "cell_type": "markdown",
   "metadata": {},
   "source": [
    "Lo primero es observar los posibles valores que toman las variables."
   ]
  },
  {
   "cell_type": "code",
   "execution_count": 35,
   "metadata": {
    "ExecuteTime": {
     "end_time": "2020-10-29T20:48:05.580894Z",
     "start_time": "2020-10-29T20:48:05.557651Z"
    }
   },
   "outputs": [
    {
     "name": "stdout",
     "output_type": "stream",
     "text": [
      "transmission: {'Semi-Auto', 'Manual', 'Automatic', 'Other'}\n",
      "fuelType: {'Diesel', 'Hybrid', 'Petrol', 'Other'}\n"
     ]
    }
   ],
   "source": [
    "for column in [\"transmission\", \"fuelType\"]:\n",
    "    print(column, end=': ')\n",
    "    print(set(df[column].unique()))"
   ]
  },
  {
   "cell_type": "markdown",
   "metadata": {},
   "source": [
    "Estos datos están bastante limpios, así que no hará falta preprocesarlos demasiado. El tipo 'Other' puede que dé problemas, así que vamos a mirar cuántos hay de esos."
   ]
  },
  {
   "cell_type": "code",
   "execution_count": 36,
   "metadata": {
    "ExecuteTime": {
     "end_time": "2020-10-29T20:48:06.233387Z",
     "start_time": "2020-10-29T20:48:05.582974Z"
    }
   },
   "outputs": [
    {
     "name": "stdout",
     "output_type": "stream",
     "text": [
      "transmission=Other count: 7\n",
      "fuelType=Other count: 217\n"
     ]
    }
   ],
   "source": [
    "print(f\"transmission=Other count: {len(df[df['transmission'] == 'Other'])}\")\n",
    "print(f\"fuelType=Other count: {len(df[df['fuelType'] == 'Other'])}\")"
   ]
  },
  {
   "cell_type": "markdown",
   "metadata": {},
   "source": [
    "EL número de filas con valor \"Other\" para `transmission` y `fuelType` es relativamente bajo, así que no van a afectar significativamente al modelo."
   ]
  },
  {
   "cell_type": "markdown",
   "metadata": {},
   "source": [
    "### 2.7. Análisis de correlaciones"
   ]
  },
  {
   "cell_type": "markdown",
   "metadata": {},
   "source": [
    "Puede ser interesante observar las correlaciones entre las variables de entrada y la variable objetivo, ya que si hay alguna variable que no afecte al resultado, podremos eliminarla sin problemas simplificando el espacio de búsqueda."
   ]
  },
  {
   "cell_type": "markdown",
   "metadata": {},
   "source": [
    "#### 2.7.1. Correlaciones con variables numéricas"
   ]
  },
  {
   "cell_type": "markdown",
   "metadata": {},
   "source": [
    "En primer lugar, observamos las correlaciones ([Pearson $r$](https://en.wikipedia.org/wiki/Pearson_correlation_coefficient)) con las variables numéricas."
   ]
  },
  {
   "cell_type": "code",
   "execution_count": 37,
   "metadata": {
    "ExecuteTime": {
     "end_time": "2020-10-29T20:48:06.724601Z",
     "start_time": "2020-10-29T20:48:06.240535Z"
    }
   },
   "outputs": [
    {
     "data": {
      "image/png": "[encoded data removed]",
      "text/plain": [
       "<Figure size 1800x576 with 2 Axes>"
      ]
     },
     "metadata": {},
     "output_type": "display_data"
    }
   ],
   "source": [
    "corr = df.corr(method=\"pearson\")\n",
    "plt.figure(figsize=(25, 8))\n",
    "\n",
    "mask = np.zeros_like(corr, dtype=np.bool)\n",
    "mask[np.triu_indices_from(mask)] = True\n",
    "mask[np.diag_indices_from(mask)] = False\n",
    "\n",
    "sns.heatmap(corr, mask=mask, cmap=\"RdYlBu\", center=0, annot=True,\n",
    "            square=False, linewidths=.5, cbar_kws={\"shrink\": .5})\n",
    "    \n",
    "plt.title(\"Correlation in numeric variables\", fontdict={\"family\": \"Consolas\", \"size\": 20})\n",
    "plt.show()"
   ]
  },
  {
   "cell_type": "markdown",
   "metadata": {},
   "source": [
    "En general, todos los pares de variables tienen bastante correlación. Sobre todo los pares que contienen a la variable `price`, que es nuestro objetivo. La variable `tax` es la que presenta una correlación más baja, pero es suficientemente alta como para no descartarla del modelo."
   ]
  },
  {
   "cell_type": "code",
   "execution_count": 38,
   "metadata": {
    "ExecuteTime": {
     "end_time": "2020-10-29T20:48:32.535767Z",
     "start_time": "2020-10-29T20:48:06.726300Z"
    },
    "scrolled": false
   },
   "outputs": [
    {
     "data": {
      "image/png": "[encoded data removed]",
      "text/plain": [
       "<Figure size 1800x864 with 36 Axes>"
      ]
     },
     "metadata": {},
     "output_type": "display_data"
    }
   ],
   "source": [
    "pd.plotting.scatter_matrix(df,\n",
    "                           figsize=(25, 12),\n",
    "                           diagonal=\"kde\",\n",
    "                           color=\"steelblue\",\n",
    "                           alpha=0.7,\n",
    "                           density_kwds={\"color\": \"red\"})\n",
    "plt.show()"
   ]
  },
  {
   "cell_type": "markdown",
   "metadata": {},
   "source": [
    "Con la matriz que muestra los diagramas de dispersión por cada par de variables podemos observar lo que ya se veía con el gráfico de correlación. Las variables que más correlación presentan con la variable objetivo `price` son `year`, `mileage` y `engineSize`."
   ]
  },
  {
   "cell_type": "markdown",
   "metadata": {},
   "source": [
    "#### 2.7.2. Correlaciones con variables categóricas"
   ]
  },
  {
   "cell_type": "markdown",
   "metadata": {},
   "source": [
    "La correlación con las variables categóricas no se puede cuantificar. Sin embargo, podemos ver si hay relación entre estas variables categóricas y la variable objetivo con el [U-test](https://docs.scipy.org/doc/scipy/reference/generated/scipy.stats.mannwhitneyu.html) de Mann-Whitney-Wilcoxon si son dos variables, con [ANOVA](https://docs.scipy.org/doc/scipy/reference/generated/scipy.stats.f_oneway.html) si son más de dos, y siempre con histogramas."
   ]
  },
  {
   "cell_type": "code",
   "execution_count": 39,
   "metadata": {
    "ExecuteTime": {
     "end_time": "2020-10-29T20:48:35.472124Z",
     "start_time": "2020-10-29T20:48:32.538042Z"
    }
   },
   "outputs": [
    {
     "data": {
      "image/png": "[encoded data removed]",
      "text/plain": [
       "<Figure size 1440x576 with 1 Axes>"
      ]
     },
     "metadata": {},
     "output_type": "display_data"
    },
    {
     "data": {
      "image/png": "[encoded data removed]",
      "text/plain": [
       "<Figure size 1440x576 with 1 Axes>"
      ]
     },
     "metadata": {},
     "output_type": "display_data"
    },
    {
     "data": {
      "image/png": "[encoded data removed]",
      "text/plain": [
       "<Figure size 1440x576 with 1 Axes>"
      ]
     },
     "metadata": {},
     "output_type": "display_data"
    }
   ],
   "source": [
    "# Omitimos model, porque hay demasiados tipos como para hacer este test.\n",
    "# Sin embargo, es evidente que el modelo es relevante a la hora de decidir el precio de venta de segunda mano.\n",
    "\n",
    "categorical_variables = [\"transmission\", \"make\", \"fuelType\"]\n",
    "sns.set_style(\"dark\")\n",
    "\n",
    "\n",
    "def divide_category(df, var):\n",
    "    \"\"\"\n",
    "    Divide a dataframe in several dataframes, grouping by variable `var`.\n",
    "    \"\"\"\n",
    "    index = []\n",
    "    ret = []\n",
    "    unique_categories = df[var].unique()\n",
    "\n",
    "    for cat in unique_categories:\n",
    "        category_df = df[df[var] == cat]\n",
    "        index.append(cat)\n",
    "        ret.append(category_df)\n",
    "\n",
    "    return index, ret\n",
    "\n",
    "\n",
    "for var in categorical_variables:\n",
    "    index, divided_data = divide_category(df, var)\n",
    "\n",
    "    prices = [x.price for x in divided_data]\n",
    "\n",
    "    plt.figure(figsize=(20, 8))\n",
    "    if len(index) != 2:\n",
    "        plt.title(f\"Sale price by {var} value - F score: {f_oneway(*prices).statistic}\")\n",
    "    else:\n",
    "        plt.title(f\"Sale price by {var} value - U score: {mannwhitneyu(*prices).statistic}\")\n",
    "\n",
    "    for i, category_data in zip(index, divided_data):\n",
    "        plt.hist(category_data.price, label=i, alpha=2 / len(index), bins=30)\n",
    "\n",
    "    plt.legend()\n",
    "    plt.grid()\n",
    "    \n",
    "    plt.show()"
   ]
  },
  {
   "cell_type": "markdown",
   "metadata": {},
   "source": [
    "La explicación de esto es que, si al dividir el dataset por una variable en particular, las distribuciones del precio son diferentes, significará que hay una correlación entre la variable y el precio. Todas las variables están claramente relacionadas con la variable objetivo: los histogramas tienen poco que ver entre ellos y el test ANOVA da un resultado mayor a 1000 en todos los casos."
   ]
  },
  {
   "cell_type": "markdown",
   "metadata": {},
   "source": [
    "Parece que todas las variables son relevantes para la variable objetivo, y no nos podemos deshacer de ninguna."
   ]
  },
  {
   "cell_type": "markdown",
   "metadata": {},
   "source": [
    "## 3. Preprocesamiento"
   ]
  },
  {
   "cell_type": "markdown",
   "metadata": {},
   "source": [
    "Para el preprocesamiento de los datos vamos a crear un pipeline estructurado, que aplique una serie de pasos a cada columna con cuidado."
   ]
  },
  {
   "cell_type": "markdown",
   "metadata": {},
   "source": [
    "### 3.1 Tratamiento de valores duplicados"
   ]
  },
  {
   "cell_type": "markdown",
   "metadata": {},
   "source": [
    "Como mencionamos en el punto anterior, vamos a eliminar las filas duplicadas de los datos."
   ]
  },
  {
   "cell_type": "code",
   "execution_count": 40,
   "metadata": {
    "ExecuteTime": {
     "end_time": "2020-10-29T20:48:35.528810Z",
     "start_time": "2020-10-29T20:48:35.473632Z"
    }
   },
   "outputs": [],
   "source": [
    "df.drop_duplicates(inplace=True)"
   ]
  },
  {
   "cell_type": "markdown",
   "metadata": {},
   "source": [
    "### 3.2. Train-test split"
   ]
  },
  {
   "cell_type": "markdown",
   "metadata": {},
   "source": [
    "Vamos a separar los datos de entrenamiento de los de test."
   ]
  },
  {
   "cell_type": "code",
   "execution_count": 41,
   "metadata": {
    "ExecuteTime": {
     "end_time": "2020-10-29T20:48:36.278299Z",
     "start_time": "2020-10-29T20:48:35.530684Z"
    }
   },
   "outputs": [],
   "source": [
    "X = df.drop(columns=[\"price\"])\n",
    "y = df[\"price\"]\n",
    "X_train, X_test, y_train, y_test = train_test_split(X, y, test_size=0.2, random_state=RANDOM_SEED)"
   ]
  },
  {
   "cell_type": "markdown",
   "metadata": {},
   "source": [
    "### 3.3. Tratamiento de los valores nulos"
   ]
  },
  {
   "cell_type": "markdown",
   "metadata": {},
   "source": [
    "Recordemos la existencia de valores nulos para los datos de las columnas `tax` y `mpg` que provenían de los dataset cclass.csv y focus.csv. Se necesitará realizar la predicción de estos valores para obtener un conjunto de datos sin valores nulos donde cada columna contenga información relevante para el entrenamiento futuro del modelo.\n",
    "\n",
    "Para tratar los valores nulos, vamos a utilizar la clase [KNNImputer](https://scikit-learn.org/stable/modules/generated/sklearn.impute.KNNImputer.html) de sklearn, utilizando sólo los vecinos que pertenezcan a la misma marca. Hemos utilizado una clase SpecificImputer que subdivide los datos de entrada y aplica un objeto *imputer* de `sklearn` a todas las subdivisiones de los datos por separado."
   ]
  },
  {
   "cell_type": "code",
   "execution_count": 42,
   "metadata": {
    "ExecuteTime": {
     "end_time": "2020-10-29T20:48:36.307521Z",
     "start_time": "2020-10-29T20:48:36.283623Z"
    }
   },
   "outputs": [],
   "source": [
    "class SpecificImputer(BaseEstimator, TransformerMixin):\n",
    "    \"\"\"\n",
    "    Impute different parts of the data separately.\n",
    "    \"\"\"\n",
    "    def __init__(self,\n",
    "                 var=0,\n",
    "                 imputer_class=SimpleImputer,\n",
    "                 imputer_kwargs={},\n",
    "                 fallback_var=1):\n",
    "        \"\"\"\n",
    "        var: the attribute by which the DataFrame will be divided\n",
    "        imputer: Imputer estimator. Has to implement the `fit` and `transform` methods.\n",
    "        imputer_kwargs: keyword arguments to be passed to the imputer constructor.\n",
    "        fallback_var: variable by which to divide if there are not enough distinct samples of var.\n",
    "        \"\"\"\n",
    "        self.var = var\n",
    "        self.fallback_var = fallback_var\n",
    "        self.imputer_class = imputer_class\n",
    "        self.imputers = {}\n",
    "        self.fallback_imputers = {}\n",
    "        self.imputer_kwargs = imputer_kwargs\n",
    "\n",
    "    def fit(self, X, y=None):\n",
    "        if type(X) is not pd.DataFrame:\n",
    "            raise ValueError(\"SpecificImputer works on DataFrames only\")\n",
    "\n",
    "        assert self.var in X, f\"Data must have {var} column\"\n",
    "        self.numeric_columns = X.select_dtypes(\n",
    "            include=np.number).columns.tolist()\n",
    "\n",
    "        for value in X[self.var].unique():\n",
    "            self.imputers[value] = self.imputer_class(**self.imputer_kwargs)\n",
    "            self.imputers[value].fit(X[X[self.var] == value][self.numeric_columns])\n",
    "\n",
    "        for value in X[self.fallback_var].unique():\n",
    "            self.fallback_imputers[value] = self.imputer_class(**self.imputer_kwargs)\n",
    "            self.fallback_imputers[value].fit(X[X[self.fallback_var] == value][self.numeric_columns])\n",
    "\n",
    "        return self\n",
    "\n",
    "    def _impute_row(self, row):\n",
    "        if any(row[self.numeric_columns].isnull()):\n",
    "\n",
    "            try:\n",
    "                imputed_row = self.imputers[row[self.var]].transform([row[self.numeric_columns]])[0]\n",
    "            except ValueError: # Not enough samples of \"var\"\n",
    "                imputed_row = self.fallback_imputers[row[self.fallback_var]].transform([row[self.numeric_columns]])[0]\n",
    "                \n",
    "            imputed_row = pd.Series(imputed_row, index=self.numeric_columns)\n",
    "\n",
    "            assert not any(imputed_row.isnull())\n",
    "            for column in row.index:\n",
    "                if column in self.numeric_columns and pd.isnull(row[column]):\n",
    "                    row[column] = imputed_row[column]\n",
    "        return row\n",
    "\n",
    "    def transform(self, X, y=None):\n",
    "        return X.apply(self._impute_row, axis=1)"
   ]
  },
  {
   "cell_type": "code",
   "execution_count": 43,
   "metadata": {
    "ExecuteTime": {
     "end_time": "2020-10-29T20:48:36.396392Z",
     "start_time": "2020-10-29T20:48:36.310398Z"
    }
   },
   "outputs": [],
   "source": [
    "imputer = SpecificImputer(\n",
    "    var=\"model\",\n",
    "    fallback_var=\"make\",\n",
    "    imputer_class=KNNImputer,\n",
    "    imputer_kwargs={\"weights\": \"distance\"},\n",
    ")"
   ]
  },
  {
   "cell_type": "markdown",
   "metadata": {},
   "source": [
    "### 3.4. Transformación de los datos"
   ]
  },
  {
   "cell_type": "markdown",
   "metadata": {
    "ExecuteTime": {
     "end_time": "2020-10-21T16:26:04.738877Z",
     "start_time": "2020-10-21T16:14:25.865Z"
    }
   },
   "source": [
    "#### 3.4.1. Pipeline de variables categóricas"
   ]
  },
  {
   "cell_type": "code",
   "execution_count": 44,
   "metadata": {
    "ExecuteTime": {
     "end_time": "2020-10-29T20:48:36.464432Z",
     "start_time": "2020-10-29T20:48:36.398538Z"
    }
   },
   "outputs": [],
   "source": [
    "categorical_transform = OneHotEncoder(handle_unknown=\"ignore\")"
   ]
  },
  {
   "cell_type": "markdown",
   "metadata": {},
   "source": [
    "Las variables categóricas no necesitan demasiado preprocesamiento. Con codificar cada elemento en un vector es suficiente."
   ]
  },
  {
   "cell_type": "markdown",
   "metadata": {},
   "source": [
    "#### 3.4.2. Pipeline de variables numéricas"
   ]
  },
  {
   "cell_type": "markdown",
   "metadata": {},
   "source": [
    "##### 3.4.2.1. Preprocesamiento del año (fecha)"
   ]
  },
  {
   "cell_type": "code",
   "execution_count": 45,
   "metadata": {
    "ExecuteTime": {
     "end_time": "2020-10-29T20:48:36.531874Z",
     "start_time": "2020-10-29T20:48:36.467844Z"
    }
   },
   "outputs": [],
   "source": [
    "def age(X):\n",
    "    return DATE_BASELINE - X\n",
    "\n",
    "date_baseliner = FunctionTransformer(age)\n",
    "scaler = MinMaxScaler()\n",
    "\n",
    "date_transform = Pipeline([\n",
    "    (\"baseliner\", date_baseliner),\n",
    "    (\"scaler\", scaler)\n",
    "])"
   ]
  },
  {
   "cell_type": "markdown",
   "metadata": {},
   "source": [
    "##### 3.4.2.2. Preprocesamiento del resto de variables numéricas"
   ]
  },
  {
   "cell_type": "markdown",
   "metadata": {},
   "source": [
    "Vamos a definir un `Scaler` para las columnas numéricas que faltan por tratar. Recordemos el estudio de la variabilidad de los datos numéricos del punto 2.5.2, donde vimos que las variables numéricas tenían un coeficiente de variación bastante alto. Si elegimos un `Scaler` que sea sensible a valores anómalos no estaremos realizando una buena elección.\n",
    "\n",
    "Por tanto, elegimos [`RobustScaler`](https://scikit-learn.org/stable/modules/generated/sklearn.preprocessing.RobustScaler.html) para escalar las columnas mencionadas. `RobustScaler` utiliza estadísticos robustos frente a los valores anómalos o *outliers*. Primero, resta la mediana a cada punto y luego divide por el rango intercuartílico."
   ]
  },
  {
   "cell_type": "code",
   "execution_count": 46,
   "metadata": {
    "ExecuteTime": {
     "end_time": "2020-10-29T20:48:36.614380Z",
     "start_time": "2020-10-29T20:48:36.535592Z"
    }
   },
   "outputs": [],
   "source": [
    "numeric_transform = RobustScaler()"
   ]
  },
  {
   "cell_type": "markdown",
   "metadata": {},
   "source": [
    "#### 3.4.3. Transformador general"
   ]
  },
  {
   "cell_type": "code",
   "execution_count": 47,
   "metadata": {
    "ExecuteTime": {
     "end_time": "2020-10-29T20:48:36.681611Z",
     "start_time": "2020-10-29T20:48:36.616308Z"
    }
   },
   "outputs": [],
   "source": [
    "data_transformer = ColumnTransformer([\n",
    "    (\"categorical_transform\", categorical_transform, [\"transmission\", \"make\", \"fuelType\", \"model\"]),\n",
    "    (\"date_transform\", date_transform, [\"year\"]),\n",
    "    (\"numeric_transform\", numeric_transform, [\"mileage\", \"tax\", \"mpg\", \"engineSize\"]),\n",
    "], verbose=True)"
   ]
  },
  {
   "cell_type": "markdown",
   "metadata": {},
   "source": [
    "### 3.5 PolynomialFeatures"
   ]
  },
  {
   "cell_type": "markdown",
   "metadata": {},
   "source": [
    "Por último, vamos a aplicar una transformación polinómica a las variables numéricas. Ya que este paso del pipeline va a ir inmediatamente después de `data_transformer`, y confiando en la descripción de [`ColumnTransformer`](https://scikit-learn.org/stable/modules/generated/sklearn.compose.ColumnTransformer.html), sabemos que las columnas numéricas quedarán en las últimas 5 posiciones del array. La razón por la que aplicamos una transformación polinómica es que queremos aumentar la potencia del modelo; esta transformación nos proporciona un beneficio muy alto."
   ]
  },
  {
   "cell_type": "code",
   "execution_count": 48,
   "metadata": {
    "ExecuteTime": {
     "end_time": "2020-10-29T20:48:36.748594Z",
     "start_time": "2020-10-29T20:48:36.686972Z"
    }
   },
   "outputs": [],
   "source": [
    "polynomial_transformer = ColumnTransformer([\n",
    "    (\"poly\", PolynomialFeatures(3), [-5, -4, -3, -2, -1])\n",
    "], remainder=\"passthrough\")"
   ]
  },
  {
   "cell_type": "markdown",
   "metadata": {},
   "source": [
    "### 3.6. Pipeline completo"
   ]
  },
  {
   "cell_type": "markdown",
   "metadata": {},
   "source": [
    "Sólo queda componer el pipeline completo y ejecutarlo sobre los datos."
   ]
  },
  {
   "cell_type": "code",
   "execution_count": 49,
   "metadata": {
    "ExecuteTime": {
     "end_time": "2020-10-29T20:48:36.815946Z",
     "start_time": "2020-10-29T20:48:36.751974Z"
    }
   },
   "outputs": [],
   "source": [
    "full_pipeline = Pipeline([\n",
    "    (\"imputer\", imputer),\n",
    "    (\"data_transformer\", data_transformer),\n",
    "    (\"poly\", polynomial_transformer)\n",
    "], verbose=True)"
   ]
  },
  {
   "cell_type": "code",
   "execution_count": 50,
   "metadata": {
    "ExecuteTime": {
     "end_time": "2020-10-29T20:49:49.763553Z",
     "start_time": "2020-10-29T20:48:36.818878Z"
    },
    "scrolled": true
   },
   "outputs": [
    {
     "name": "stdout",
     "output_type": "stream",
     "text": [
      "Processing fit_transform on train data...\n",
      "[Pipeline] ........... (step 1 of 3) Processing imputer, total=  59.3s\n",
      "[ColumnTransformer]  (1 of 3) Processing categorical_transform, total=   0.1s\n",
      "[ColumnTransformer]  (2 of 3) Processing date_transform, total=   0.0s\n",
      "[ColumnTransformer]  (3 of 3) Processing numeric_transform, total=   0.0s\n",
      "[Pipeline] .. (step 2 of 3) Processing data_transformer, total=   0.2s\n",
      "[Pipeline] .............. (step 3 of 3) Processing poly, total=   0.3s\n",
      "\n",
      "Processing transform on test data...\n",
      "Done.\n"
     ]
    }
   ],
   "source": [
    "print(\"Processing fit_transform on train data...\")\n",
    "X_train_preprocessed = full_pipeline.fit_transform(X_train)\n",
    "print(\"\\nProcessing transform on test data...\")\n",
    "X_test_preprocessed = full_pipeline.transform(X_test)\n",
    "print(\"Done.\")"
   ]
  },
  {
   "cell_type": "markdown",
   "metadata": {},
   "source": [
    "## 4. Entrenamiento de modelos"
   ]
  },
  {
   "cell_type": "code",
   "execution_count": 51,
   "metadata": {
    "ExecuteTime": {
     "end_time": "2020-10-29T20:49:49.775497Z",
     "start_time": "2020-10-29T20:49:49.765336Z"
    }
   },
   "outputs": [],
   "source": [
    "Metric = namedtuple(\"Metric\", (\"name\", \"funct\"))\n",
    "metrics = [\n",
    "    Metric(\"r2\", r2_score),\n",
    "    Metric(\"mae\", mean_absolute_error),\n",
    "    Metric(\"rmse\", lambda y_true, y_pred: mean_squared_error(y_true, y_pred, squared=False))\n",
    "]\n",
    "\n",
    "results_df = pd.DataFrame(columns=[\n",
    "    \"model\", \"r2\", \"mae\", \"rmse\", \"best_params\"\n",
    "])"
   ]
  },
  {
   "cell_type": "code",
   "execution_count": 52,
   "metadata": {
    "ExecuteTime": {
     "end_time": "2020-10-29T20:49:50.286021Z",
     "start_time": "2020-10-29T20:49:49.777772Z"
    }
   },
   "outputs": [],
   "source": [
    "def train_model(X, y, estimator, param_grid):\n",
    "    \n",
    "    gridsearch = GridSearchCV(estimator,\n",
    "                              param_grid=param_grid,\n",
    "                              scoring=\"neg_root_mean_squared_error\",\n",
    "                              cv=CV_FOLDS,\n",
    "                              refit=True,\n",
    "                              verbose=1)\n",
    "\n",
    "    with warnings.catch_warnings(), parallel_backend(\"loky\"):\n",
    "        warnings.simplefilter(\"ignore\")\n",
    "        gridsearch.fit(X, y)\n",
    "        \n",
    "    return gridsearch.best_estimator_, gridsearch.best_params_\n",
    "\n",
    "\n",
    "def evaluate_model(model, X, y, metrics=metrics):\n",
    "    scores = {}\n",
    "    \n",
    "    predictions = model.predict(X)\n",
    "    for metric in metrics:\n",
    "        scores[metric.name] = metric.funct(y_true=y, y_pred=predictions)\n",
    "        \n",
    "    return scores"
   ]
  },
  {
   "cell_type": "markdown",
   "metadata": {},
   "source": [
    "### 4.1. Regresión lineal"
   ]
  },
  {
   "cell_type": "code",
   "execution_count": 53,
   "metadata": {
    "ExecuteTime": {
     "end_time": "2020-10-29T20:50:21.335339Z",
     "start_time": "2020-10-29T20:49:50.287591Z"
    }
   },
   "outputs": [
    {
     "name": "stdout",
     "output_type": "stream",
     "text": [
      "Fitting 5 folds for each of 1 candidates, totalling 5 fits\n"
     ]
    },
    {
     "name": "stderr",
     "output_type": "stream",
     "text": [
      "[Parallel(n_jobs=-1)]: Using backend LokyBackend with 4 concurrent workers.\n",
      "[Parallel(n_jobs=-1)]: Done   5 out of   5 | elapsed:   17.6s finished\n"
     ]
    },
    {
     "data": {
      "text/plain": [
       "model          LinearRegression\n",
       "best_params                  {}\n",
       "r2                     0.920379\n",
       "mae                      1682.2\n",
       "rmse                    2726.78\n",
       "dtype: object"
      ]
     },
     "metadata": {},
     "output_type": "display_data"
    }
   ],
   "source": [
    "param_grid = {}\n",
    "\n",
    "model = LinearRegression()\n",
    "\n",
    "lin_reg_model, lin_reg_params = train_model(X_train_preprocessed, y_train, model, param_grid)\n",
    "scores = evaluate_model(lin_reg_model, X_test_preprocessed, y_test, metrics=metrics)\n",
    "\n",
    "lin_reg_results = pd.Series(\n",
    "    {**{\"model\": \"LinearRegression\", \"best_params\": lin_reg_params}, **scores}\n",
    ")\n",
    "display(lin_reg_results)\n",
    "\n",
    "results_df = results_df.append(lin_reg_results, ignore_index=True)"
   ]
  },
  {
   "cell_type": "markdown",
   "metadata": {},
   "source": [
    "### 4.2. Lasso"
   ]
  },
  {
   "cell_type": "code",
   "execution_count": 54,
   "metadata": {
    "ExecuteTime": {
     "end_time": "2020-10-29T21:03:38.437134Z",
     "start_time": "2020-10-29T20:50:21.338014Z"
    }
   },
   "outputs": [
    {
     "name": "stdout",
     "output_type": "stream",
     "text": [
      "Fitting 5 folds for each of 6 candidates, totalling 30 fits\n"
     ]
    },
    {
     "name": "stderr",
     "output_type": "stream",
     "text": [
      "[Parallel(n_jobs=-1)]: Using backend LokyBackend with 4 concurrent workers.\n",
      "[Parallel(n_jobs=-1)]: Done  30 out of  30 | elapsed: 12.0min finished\n"
     ]
    },
    {
     "data": {
      "text/plain": [
       "model          LassoRegression\n",
       "best_params    {'alpha': 0.01}\n",
       "r2                    0.920872\n",
       "mae                    1674.55\n",
       "rmse                   2718.33\n",
       "dtype: object"
      ]
     },
     "metadata": {},
     "output_type": "display_data"
    }
   ],
   "source": [
    "param_grid = {\n",
    "    \"alpha\": [0.01, 0.2, 0.5, 0.8, 1, 10],\n",
    "}\n",
    "\n",
    "model = Lasso(random_state=RANDOM_SEED, max_iter=1000)\n",
    "\n",
    "lasso_model, lasso_params = train_model(X_train_preprocessed, y_train, model, param_grid)\n",
    "scores = evaluate_model(lasso_model, X_test_preprocessed, y_test, metrics=metrics)\n",
    "\n",
    "lasso_results = pd.Series(\n",
    "    {**{\"model\": \"LassoRegression\", \"best_params\": lasso_params}, **scores}\n",
    ")\n",
    "display(lasso_results)\n",
    "\n",
    "results_df = results_df.append(lasso_results, ignore_index=True)"
   ]
  },
  {
   "cell_type": "markdown",
   "metadata": {},
   "source": [
    "### 4.3. Ridge"
   ]
  },
  {
   "cell_type": "code",
   "execution_count": 55,
   "metadata": {
    "ExecuteTime": {
     "end_time": "2020-10-29T21:03:44.193062Z",
     "start_time": "2020-10-29T21:03:38.439735Z"
    }
   },
   "outputs": [
    {
     "name": "stdout",
     "output_type": "stream",
     "text": [
      "Fitting 5 folds for each of 6 candidates, totalling 30 fits\n"
     ]
    },
    {
     "name": "stderr",
     "output_type": "stream",
     "text": [
      "[Parallel(n_jobs=-1)]: Using backend LokyBackend with 4 concurrent workers.\n",
      "[Parallel(n_jobs=-1)]: Done  30 out of  30 | elapsed:    5.2s finished\n"
     ]
    },
    {
     "data": {
      "text/plain": [
       "model          RidgeRegression\n",
       "best_params     {'alpha': 0.8}\n",
       "r2                    0.843235\n",
       "mae                    2565.01\n",
       "rmse                   3826.14\n",
       "dtype: object"
      ]
     },
     "metadata": {},
     "output_type": "display_data"
    }
   ],
   "source": [
    "param_grid = {\n",
    "    \"alpha\": [0.01, 0.2, 0.5, 0.8, 1, 10],\n",
    "}\n",
    "\n",
    "model = Ridge(random_state=RANDOM_SEED, max_iter=1000)\n",
    "\n",
    "ridge_model, ridge_params = train_model(X_train_preprocessed, y_train, model, param_grid)\n",
    "scores = evaluate_model(ridge_model, X_test_preprocessed, y_test, metrics=metrics)\n",
    "\n",
    "ridge_results = pd.Series(\n",
    "    {**{\"model\": \"RidgeRegression\", \"best_params\": ridge_params}, **scores}\n",
    ")\n",
    "display(ridge_results)\n",
    "\n",
    "results_df = results_df.append(ridge_results, ignore_index=True)"
   ]
  },
  {
   "cell_type": "markdown",
   "metadata": {},
   "source": [
    "### 4.4. ElasticNet"
   ]
  },
  {
   "cell_type": "code",
   "execution_count": 56,
   "metadata": {
    "ExecuteTime": {
     "end_time": "2020-10-29T21:55:29.367617Z",
     "start_time": "2020-10-29T21:03:44.195083Z"
    }
   },
   "outputs": [
    {
     "name": "stdout",
     "output_type": "stream",
     "text": [
      "Fitting 5 folds for each of 30 candidates, totalling 150 fits\n"
     ]
    },
    {
     "name": "stderr",
     "output_type": "stream",
     "text": [
      "[Parallel(n_jobs=-1)]: Using backend LokyBackend with 4 concurrent workers.\n",
      "[Parallel(n_jobs=-1)]: Done  42 tasks      | elapsed: 17.3min\n",
      "[Parallel(n_jobs=-1)]: Done 150 out of 150 | elapsed: 49.8min finished\n"
     ]
    },
    {
     "data": {
      "text/plain": [
       "model                                ElasticNet\n",
       "best_params    {'alpha': 0.01, 'l1_ratio': 0.9}\n",
       "r2                                      0.89964\n",
       "mae                                     1930.65\n",
       "rmse                                    3061.37\n",
       "dtype: object"
      ]
     },
     "metadata": {},
     "output_type": "display_data"
    }
   ],
   "source": [
    "param_grid = {\n",
    "    \"alpha\": [0.01, 0.2, 0.5, 0.8, 1, 10],\n",
    "    \"l1_ratio\": [0.1, 0.25, 0.5, 0.75, 0.9]\n",
    "}\n",
    "\n",
    "model = ElasticNet(random_state=RANDOM_SEED, max_iter=1000)\n",
    "\n",
    "elasticnet_model, elasticnet_params = train_model(X_train_preprocessed, y_train, model, param_grid)\n",
    "scores = evaluate_model(elasticnet_model, X_test_preprocessed, y_test, metrics=metrics)\n",
    "\n",
    "elasticnet_results = pd.Series(\n",
    "    {**{\"model\": \"ElasticNet\", \"best_params\": elasticnet_params}, **scores}\n",
    ")\n",
    "display(elasticnet_results)\n",
    "\n",
    "results_df = results_df.append(elasticnet_results, ignore_index=True)"
   ]
  },
  {
   "cell_type": "markdown",
   "metadata": {},
   "source": [
    "### 4.5. Comparación de modelos"
   ]
  },
  {
   "cell_type": "code",
   "execution_count": 57,
   "metadata": {
    "ExecuteTime": {
     "end_time": "2020-10-29T21:55:29.396770Z",
     "start_time": "2020-10-29T21:55:29.370373Z"
    }
   },
   "outputs": [
    {
     "data": {
      "text/html": [
       "<div>\n",
       "<style scoped>\n",
       "    .dataframe tbody tr th:only-of-type {\n",
       "        vertical-align: middle;\n",
       "    }\n",
       "\n",
       "    .dataframe tbody tr th {\n",
       "        vertical-align: top;\n",
       "    }\n",
       "\n",
       "    .dataframe thead th {\n",
       "        text-align: right;\n",
       "    }\n",
       "</style>\n",
       "<table border=\"1\" class=\"dataframe\">\n",
       "  <thead>\n",
       "    <tr style=\"text-align: right;\">\n",
       "      <th></th>\n",
       "      <th>model</th>\n",
       "      <th>r2</th>\n",
       "      <th>mae</th>\n",
       "      <th>rmse</th>\n",
       "      <th>best_params</th>\n",
       "    </tr>\n",
       "  </thead>\n",
       "  <tbody>\n",
       "    <tr>\n",
       "      <th>0</th>\n",
       "      <td>LinearRegression</td>\n",
       "      <td>0.920379</td>\n",
       "      <td>1682.203498</td>\n",
       "      <td>2726.780265</td>\n",
       "      <td>{}</td>\n",
       "    </tr>\n",
       "    <tr>\n",
       "      <th>1</th>\n",
       "      <td>LassoRegression</td>\n",
       "      <td>0.920872</td>\n",
       "      <td>1674.554463</td>\n",
       "      <td>2718.331648</td>\n",
       "      <td>{'alpha': 0.01}</td>\n",
       "    </tr>\n",
       "    <tr>\n",
       "      <th>2</th>\n",
       "      <td>RidgeRegression</td>\n",
       "      <td>0.843235</td>\n",
       "      <td>2565.013238</td>\n",
       "      <td>3826.139669</td>\n",
       "      <td>{'alpha': 0.8}</td>\n",
       "    </tr>\n",
       "    <tr>\n",
       "      <th>3</th>\n",
       "      <td>ElasticNet</td>\n",
       "      <td>0.899640</td>\n",
       "      <td>1930.647507</td>\n",
       "      <td>3061.370039</td>\n",
       "      <td>{'alpha': 0.01, 'l1_ratio': 0.9}</td>\n",
       "    </tr>\n",
       "  </tbody>\n",
       "</table>\n",
       "</div>"
      ],
      "text/plain": [
       "              model        r2          mae         rmse  \\\n",
       "0  LinearRegression  0.920379  1682.203498  2726.780265   \n",
       "1   LassoRegression  0.920872  1674.554463  2718.331648   \n",
       "2   RidgeRegression  0.843235  2565.013238  3826.139669   \n",
       "3        ElasticNet  0.899640  1930.647507  3061.370039   \n",
       "\n",
       "                        best_params  \n",
       "0                                {}  \n",
       "1                   {'alpha': 0.01}  \n",
       "2                    {'alpha': 0.8}  \n",
       "3  {'alpha': 0.01, 'l1_ratio': 0.9}  "
      ]
     },
     "metadata": {},
     "output_type": "display_data"
    }
   ],
   "source": [
    "display(results_df)"
   ]
  },
  {
   "cell_type": "code",
   "execution_count": 58,
   "metadata": {
    "ExecuteTime": {
     "end_time": "2020-10-29T21:55:30.781136Z",
     "start_time": "2020-10-29T21:55:29.399300Z"
    }
   },
   "outputs": [],
   "source": [
    "filename = str(datetime.datetime.now()) + \"after_rework-poly_degree3.csv\"\n",
    "filepath = os.path.join(RESULTS_PATH, filename)\n",
    "assert not os.path.exists(filepath) # Avoid overwriting a previous results file\n",
    "results_df.to_csv(filepath)"
   ]
  },
  {
   "cell_type": "markdown",
   "metadata": {},
   "source": [
    "## 5. Conclusiones"
   ]
  },
  {
   "cell_type": "markdown",
   "metadata": {},
   "source": [
    "Sin conversión polinómica en el pipeline y con conversión de grados inferiores a 2, el mejor modelo era el de regresión lineal sin regularización. Esto quiere decir que el modelo no es suficientemente potente para hacer overfit, y por tanto no puede beneficiarse del uso de regularización. Es por eso que hemos ejecutado todo varias veces, aumentando el grado del polinomio hasta que la regularización ha hecho efecto."
   ]
  },
  {
   "cell_type": "markdown",
   "metadata": {},
   "source": [
    "Con respecto a la búsqueda de hiperparámetros, hemos empezado lanzando búsquedas con datos esparcidos en rangos mayores, y hemos ido haciendo enfoque en los entornos de los datos que daban mejor resultado."
   ]
  },
  {
   "cell_type": "markdown",
   "metadata": {},
   "source": [
    "## 6. Referencias"
   ]
  },
  {
   "cell_type": "markdown",
   "metadata": {},
   "source": [
    "\\[1\\] Sarracino, F. and Mikucka, M. (2016). Estimation bias due to duplicated observations: a Monte Carlo simulation. https://mpra.ub.uni-muenchen.de/69064/1/\n",
    "\n",
    "\\[2\\] EPA on BMW i3 model, https://www.fueleconomy.gov/feg/Find.do?action=sbs&id=41054\n",
    "\n",
    "\\[3\\] EPA MPG ranking, https://www.fueleconomy.gov/feg/PowerSearch.do?action=noform&year1=1984&year2=2021&minmsrpsel=0&maxmsrpsel=0&city=0&hwy=0&comb=0&YearSel=1984-2021&make=&mclass=&vfuel=&vtype=&trany=&drive=&cyl=&MpgSel=000&sortBy=Comb&Units=&url=SearchServlet&opt=new&minmsrp=0&maxmsrp=0&minmpg=0&maxmpg=0&sCharge=&tCharge=&startstop=&cylDeact=&pageno=1&tabView=0&rowLimit=10\n",
    "\n",
    "\\[4\\] Least efficient cars, https://www.thethings.com/the-cars-with-the-worst-mpg-numbers-ever-and-what-theyre-worth-today/\n",
    "\n",
    "\\[5\\] Hybrid Ford Mondeo, https://media.ford.com/content/fordmedia/feu/ch/de/news/2020/10/22/electric-era-for-mondeo-as-ford-drops-petrol-in-favour-of-hybrid.html"
   ]
  }
 ],
 "metadata": {
  "kernelspec": {
   "display_name": "Python 3",
   "language": "python",
   "name": "python3"
  },
  "language_info": {
   "codemirror_mode": {
    "name": "ipython",
    "version": 3
   },
   "file_extension": ".py",
   "mimetype": "text/x-python",
   "name": "python",
   "nbconvert_exporter": "python",
   "pygments_lexer": "ipython3",
   "version": "3.7.9"
  },
  "notify_time": "30",
  "toc": {
   "base_numbering": 1,
   "nav_menu": {},
   "number_sections": false,
   "sideBar": true,
   "skip_h1_title": true,
   "title_cell": "Table of Contents",
   "title_sidebar": "Lab1",
   "toc_cell": false,
   "toc_position": {
    "height": "calc(100% - 180px)",
    "left": "10px",
    "top": "150px",
    "width": "433px"
   },
   "toc_section_display": true,
   "toc_window_display": false
  },
  "varInspector": {
   "cols": {
    "lenName": 16,
    "lenType": 16,
    "lenVar": 40
   },
   "kernels_config": {
    "python": {
     "delete_cmd_postfix": "",
     "delete_cmd_prefix": "del ",
     "library": "var_list.py",
     "varRefreshCmd": "print(var_dic_list())"
    },
    "r": {
     "delete_cmd_postfix": ") ",
     "delete_cmd_prefix": "rm(",
     "library": "var_list.r",
     "varRefreshCmd": "cat(var_dic_list()) "
    }
   },
   "position": {
    "height": "619px",
    "left": "663px",
    "right": "20px",
    "top": "24px",
    "width": "735px"
   },
   "types_to_exclude": [
    "module",
    "function",
    "builtin_function_or_method",
    "instance",
    "_Feature"
   ],
   "window_display": false
  }
 },
 "nbformat": 4,
 "nbformat_minor": 4
}
