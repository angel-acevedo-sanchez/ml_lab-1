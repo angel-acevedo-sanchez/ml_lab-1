{
 "cells": [
  {
   "cell_type": "markdown",
   "metadata": {},
   "source": [
    "# Clasificación de imágenes con modelos de *ensemble*\n",
    "Este notebook muestra el proceso de análisis, preprocesamiento y entrenamiento de modelos para predecir la clase de imágenes de distintos escenarios."
   ]
  },
  {
   "cell_type": "markdown",
   "metadata": {},
   "source": [
    "## 1. Setup"
   ]
  },
  {
   "cell_type": "markdown",
   "metadata": {},
   "source": [
    "Librerías importadas en el proyecto."
   ]
  },
  {
   "cell_type": "code",
   "execution_count": 3,
   "metadata": {
    "ExecuteTime": {
     "end_time": "2020-11-12T16:21:07.405550Z",
     "start_time": "2020-11-12T16:21:07.386131Z"
    }
   },
   "outputs": [],
   "source": [
    "import numpy as np\n",
    "import pandas as pd\n",
    "\n",
    "import os\n",
    "\n",
    "from IPython.display import IFrame\n",
    "\n",
    "%matplotlib inline\n",
    "from matplotlib import pyplot as plt\n",
    "import seaborn as sns"
   ]
  },
  {
   "cell_type": "markdown",
   "metadata": {},
   "source": [
    "Variables globales declaradas en el proyecto."
   ]
  },
  {
   "cell_type": "code",
   "execution_count": 9,
   "metadata": {
    "ExecuteTime": {
     "end_time": "2020-11-12T16:26:02.050281Z",
     "start_time": "2020-11-12T16:26:02.035298Z"
    }
   },
   "outputs": [],
   "source": [
    "RANDOM_SEED = 1337\n",
    "\n",
    "DATASETS = [\"train\", \"test\"]\n",
    "\n",
    "DATA_PATH = os.path.join(os.pardir, \"data\")  # Path to csv data\n",
    "INFO_PATH = os.path.join(os.pardir, \"info\")  # Path to problem info\n",
    "RESULTS_PATH = os.path.join(os.pardir, \"results\")  # Path to results files"
   ]
  },
  {
   "cell_type": "markdown",
   "metadata": {},
   "source": [
    "Enunciado del problema."
   ]
  },
  {
   "cell_type": "code",
   "execution_count": 7,
   "metadata": {
    "ExecuteTime": {
     "end_time": "2020-11-12T16:21:50.894099Z",
     "start_time": "2020-11-12T16:21:50.887609Z"
    }
   },
   "outputs": [
    {
     "data": {
      "text/html": [
       "\n",
       "        <iframe\n",
       "            width=\"1080\"\n",
       "            height=\"920\"\n",
       "            src=\"../info/lab2.pdf\"\n",
       "            frameborder=\"0\"\n",
       "            allowfullscreen\n",
       "        ></iframe>\n",
       "        "
      ],
      "text/plain": [
       "<IPython.lib.display.IFrame at 0x7fd04a345dd0>"
      ]
     },
     "execution_count": 7,
     "metadata": {},
     "output_type": "execute_result"
    }
   ],
   "source": [
    "IFrame(os.path.join(INFO_PATH, \"lab2.pdf\"), width=1080, height=920)"
   ]
  },
  {
   "cell_type": "markdown",
   "metadata": {},
   "source": [
    "## 2. Análisis exploratorio de los datos"
   ]
  },
  {
   "cell_type": "markdown",
   "metadata": {},
   "source": [
    "En primer lugar, vamos a cargar los datos en memoria."
   ]
  },
  {
   "cell_type": "code",
   "execution_count": 13,
   "metadata": {
    "ExecuteTime": {
     "end_time": "2020-11-12T16:35:50.889563Z",
     "start_time": "2020-11-12T16:35:09.132282Z"
    }
   },
   "outputs": [
    {
     "name": "stdout",
     "output_type": "stream",
     "text": [
      "2191 images read from edificios in train set\n",
      "2404 images read from glaciares in train set\n",
      "2512 images read from montanas in train set\n",
      "2274 images read from mares in train set\n",
      "2271 images read from bosques in train set\n",
      "2382 images read from calles in train set\n",
      "437 images read from edificios in test set\n",
      "553 images read from glaciares in test set\n",
      "525 images read from montanas in test set\n",
      "510 images read from mares in test set\n",
      "474 images read from bosques in test set\n",
      "501 images read from calles in test set\n"
     ]
    }
   ],
   "source": [
    "dataframes = {}\n",
    "\n",
    "for dataset in DATASETS:\n",
    "    dataset_path = os.path.join(DATA_PATH, dataset)\n",
    "    data = []\n",
    "    for category in os.listdir(dataset_path):\n",
    "        category_path = os.path.join(dataset_path, category)\n",
    "        size = 0\n",
    "        for file in filter(lambda x: x.endswith(\".jpg\"), os.listdir(category_path)):\n",
    "            data.append({\n",
    "                \"img\": plt.imread(os.path.join(category_path, file)),\n",
    "                \"label\": category\n",
    "            })\n",
    "            size += 1\n",
    "        print(f\"{size} images read from {category} in {dataset} set\")\n",
    "    dataframes[dataset] = pd.DataFrame(data)"
   ]
  },
  {
   "cell_type": "code",
   "execution_count": null,
   "metadata": {},
   "outputs": [],
   "source": [
    "def plot_img_from_df(dict_df, df, images):\n",
    "    \n",
    "    random.seed(RANDOM_SEED)\n",
    "\n",
    "    fig = plt.figure(figsize=(22,15))\n",
    "    fig.suptitle(f\"{len(images)} images from {df} df\\n\", fontsize=20)\n",
    "\n",
    "    size_df = len(dict_df[df])\n",
    "\n",
    "    for i in range(len(images)):\n",
    "        \n",
    "        plt.subplot(round(np.sqrt(len(images))) , round(np.sqrt(len(images))), i+1)\n",
    "        plt.xticks([])\n",
    "        plt.yticks([])\n",
    "        plt.imshow(dict_df[df][\"img\"].iloc[images[i]])\n",
    "        plt.xlabel(list(classes.keys())[dict_df[df][\"classification\"].iloc[images[i]]])\n",
    "\n",
    "    fig.tight_layout()    \n",
    "    plt.show()"
   ]
  },
  {
   "cell_type": "code",
   "execution_count": null,
   "metadata": {},
   "outputs": [],
   "source": [
    "images_train = []\n",
    "images_test = []\n",
    "\n",
    "random.seed(RANDOM_SEED)\n",
    "\n",
    "for i in range(36):\n",
    "    images_train.append(random.randint(0, len(dataframes[\"train\"])))\n",
    "    images_test.append(random.randint(0, len(dataframes[\"test\"])))\n",
    "    \n",
    "plot_img_from_df(dataframes, \"train\", images_train)\n",
    "print()\n",
    "plot_img_from_df(dataframes, \"test\", images_test)"
   ]
  },
  {
   "cell_type": "code",
   "execution_count": null,
   "metadata": {},
   "outputs": [],
   "source": []
  },
  {
   "cell_type": "code",
   "execution_count": null,
   "metadata": {},
   "outputs": [],
   "source": []
  },
  {
   "cell_type": "code",
   "execution_count": null,
   "metadata": {},
   "outputs": [],
   "source": []
  }
 ],
 "metadata": {
  "kernelspec": {
   "display_name": "Python 3.7.6 64-bit ('deeplearning': venv)",
   "language": "python",
   "name": "python37664bitdeeplearningvenv4731586230774413b828defcfccec506"
  },
  "language_info": {
   "codemirror_mode": {
    "name": "ipython",
    "version": 3
   },
   "file_extension": ".py",
   "mimetype": "text/x-python",
   "name": "python",
   "nbconvert_exporter": "python",
   "pygments_lexer": "ipython3",
   "version": "3.7.9"
  },
  "toc": {
   "base_numbering": 1,
   "nav_menu": {},
   "number_sections": false,
   "sideBar": true,
   "skip_h1_title": false,
   "title_cell": "Lab2",
   "title_sidebar": "Lab2",
   "toc_cell": false,
   "toc_position": {},
   "toc_section_display": true,
   "toc_window_display": true
  },
  "varInspector": {
   "cols": {
    "lenName": 16,
    "lenType": 16,
    "lenVar": 40
   },
   "kernels_config": {
    "python": {
     "delete_cmd_postfix": "",
     "delete_cmd_prefix": "del ",
     "library": "var_list.py",
     "varRefreshCmd": "print(var_dic_list())"
    },
    "r": {
     "delete_cmd_postfix": ") ",
     "delete_cmd_prefix": "rm(",
     "library": "var_list.r",
     "varRefreshCmd": "cat(var_dic_list()) "
    }
   },
   "types_to_exclude": [
    "module",
    "function",
    "builtin_function_or_method",
    "instance",
    "_Feature"
   ],
   "window_display": false
  }
 },
 "nbformat": 4,
 "nbformat_minor": 4
}
