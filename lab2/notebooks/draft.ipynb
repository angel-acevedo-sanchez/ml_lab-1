{
 "cells": [
  {
   "cell_type": "code",
   "execution_count": 1,
   "metadata": {},
   "outputs": [],
   "source": [
    "import numpy as np\n",
    "import pandas as pd\n",
    "\n",
    "import os\n",
    "import warnings\n",
    "import datetime\n",
    "from collections import namedtuple\n",
    "\n",
    "from IPython.display import IFrame\n",
    "\n",
    "%matplotlib inline\n",
    "from matplotlib import pyplot as plt\n",
    "from matplotlib.cm import ScalarMappable\n",
    "import seaborn as sns\n",
    "\n",
    "\n",
    "from sklearn.base import BaseEstimator, TransformerMixin\n",
    "from sklearn.preprocessing import MinMaxScaler, OneHotEncoder, FunctionTransformer, RobustScaler, PolynomialFeatures\n",
    "from sklearn.impute import SimpleImputer, KNNImputer\n",
    "from sklearn.compose import ColumnTransformer\n",
    "from sklearn.pipeline import Pipeline\n",
    "from sklearn.model_selection import train_test_split, GridSearchCV\n",
    "from sklearn.utils import parallel_backend\n",
    "\n",
    "\n",
    "import cv2 \n",
    "\n",
    "from scipy.stats import kstest, norm, mannwhitneyu, f_oneway"
   ]
  },
  {
   "cell_type": "code",
   "execution_count": 2,
   "metadata": {},
   "outputs": [],
   "source": [
    "RANDOM_SEED = 1337\n",
    "\n",
    "DATA_PATH = os.path.join(os.pardir, \"data\")  # Path to csv data\n",
    "INFO_PATH = os.path.join(os.pardir, \"info\")  # Path to problem info\n",
    "RESULTS_PATH = os.path.join(os.pardir, \"results\")  # Path to results files"
   ]
  },
  {
   "cell_type": "code",
   "execution_count": 3,
   "metadata": {},
   "outputs": [],
   "source": [
    "def load_images_into_df(path, dict_df, df, columns):\n",
    "    \n",
    "    for dir in os.listdir(path):\n",
    "        size=0\n",
    "        for file in filter(lambda x: x.endswith(\".jpg\"), os.listdir(os.path.join(path, dir))):\n",
    "            dict_df[str(df)] = dict_df[str(df)].append({columns[0]: plt.imread(os.path.join(path, dir, file)), columns[1]: classes.get(str(dir))}, ignore_index=True)\n",
    "            size+=1\n",
    "        print(f\"{size} images read from {dir} in {os.path.basename(path)} folder\")"
   ]
  },
  {
   "cell_type": "code",
   "execution_count": 4,
   "metadata": {
    "scrolled": true
   },
   "outputs": [
    {
     "name": "stdout",
     "output_type": "stream",
     "text": [
      "2271 images read from bosques in train folder\n",
      "2382 images read from calles in train folder\n",
      "2191 images read from edificios in train folder\n",
      "2404 images read from glaciares in train folder\n",
      "2274 images read from mares in train folder\n",
      "2512 images read from montanas in train folder\n",
      "474 images read from bosques in test folder\n",
      "501 images read from calles in test folder\n",
      "437 images read from edificios in test folder\n",
      "553 images read from glaciares in test folder\n",
      "510 images read from mares in test folder\n",
      "525 images read from montanas in test folder\n"
     ]
    }
   ],
   "source": [
    "dataframes = {}\n",
    "\n",
    "columns = [\"img\", \"classification\"]\n",
    "classes = {'edificios': 0, 'bosques': 1, 'glaciares': 2, 'montanas': 3, 'mares': 4, 'calles': 5 }\n",
    "\n",
    "\n",
    "train = os.path.join(DATA_PATH, \"train\")\n",
    "test = os.path.join(DATA_PATH, \"test\")\n",
    "\n",
    "dataframes[\"train\"] = pd.DataFrame(columns=columns)\n",
    "dataframes[\"test\"] = pd.DataFrame(columns=columns)\n",
    "\n",
    "load_images_into_df(train, dataframes, \"train\", columns)\n",
    "load_images_into_df(test, dataframes, \"test\", columns)"
   ]
  },
  {
   "cell_type": "code",
   "execution_count": 5,
   "metadata": {},
   "outputs": [
    {
     "data": {
      "text/html": [
       "<div>\n",
       "<style scoped>\n",
       "    .dataframe tbody tr th:only-of-type {\n",
       "        vertical-align: middle;\n",
       "    }\n",
       "\n",
       "    .dataframe tbody tr th {\n",
       "        vertical-align: top;\n",
       "    }\n",
       "\n",
       "    .dataframe thead th {\n",
       "        text-align: right;\n",
       "    }\n",
       "</style>\n",
       "<table border=\"1\" class=\"dataframe\">\n",
       "  <thead>\n",
       "    <tr style=\"text-align: right;\">\n",
       "      <th></th>\n",
       "      <th>img</th>\n",
       "      <th>classification</th>\n",
       "    </tr>\n",
       "  </thead>\n",
       "  <tbody>\n",
       "    <tr>\n",
       "      <th>11522</th>\n",
       "      <td>[[[251, 190, 125], [251, 190, 125], [251, 190,...</td>\n",
       "      <td>3</td>\n",
       "    </tr>\n",
       "    <tr>\n",
       "      <th>11523</th>\n",
       "      <td>[[[0, 102, 195], [0, 102, 195], [0, 102, 195],...</td>\n",
       "      <td>3</td>\n",
       "    </tr>\n",
       "    <tr>\n",
       "      <th>11524</th>\n",
       "      <td>[[[48, 117, 192], [49, 118, 193], [48, 117, 19...</td>\n",
       "      <td>3</td>\n",
       "    </tr>\n",
       "    <tr>\n",
       "      <th>11525</th>\n",
       "      <td>[[[113, 161, 223], [115, 163, 225], [116, 164,...</td>\n",
       "      <td>3</td>\n",
       "    </tr>\n",
       "    <tr>\n",
       "      <th>11526</th>\n",
       "      <td>[[[255, 255, 255], [255, 255, 255], [255, 255,...</td>\n",
       "      <td>3</td>\n",
       "    </tr>\n",
       "    <tr>\n",
       "      <th>...</th>\n",
       "      <td>...</td>\n",
       "      <td>...</td>\n",
       "    </tr>\n",
       "    <tr>\n",
       "      <th>14029</th>\n",
       "      <td>[[[156, 166, 191], [158, 168, 193], [162, 170,...</td>\n",
       "      <td>3</td>\n",
       "    </tr>\n",
       "    <tr>\n",
       "      <th>14030</th>\n",
       "      <td>[[[175, 213, 252], [171, 209, 248], [179, 217,...</td>\n",
       "      <td>3</td>\n",
       "    </tr>\n",
       "    <tr>\n",
       "      <th>14031</th>\n",
       "      <td>[[[196, 195, 209], [205, 204, 218], [202, 201,...</td>\n",
       "      <td>3</td>\n",
       "    </tr>\n",
       "    <tr>\n",
       "      <th>14032</th>\n",
       "      <td>[[[255, 255, 255], [255, 255, 255], [255, 255,...</td>\n",
       "      <td>3</td>\n",
       "    </tr>\n",
       "    <tr>\n",
       "      <th>14033</th>\n",
       "      <td>[[[123, 147, 191], [124, 148, 192], [126, 150,...</td>\n",
       "      <td>3</td>\n",
       "    </tr>\n",
       "  </tbody>\n",
       "</table>\n",
       "<p>2512 rows × 2 columns</p>\n",
       "</div>"
      ],
      "text/plain": [
       "                                                     img classification\n",
       "11522  [[[251, 190, 125], [251, 190, 125], [251, 190,...              3\n",
       "11523  [[[0, 102, 195], [0, 102, 195], [0, 102, 195],...              3\n",
       "11524  [[[48, 117, 192], [49, 118, 193], [48, 117, 19...              3\n",
       "11525  [[[113, 161, 223], [115, 163, 225], [116, 164,...              3\n",
       "11526  [[[255, 255, 255], [255, 255, 255], [255, 255,...              3\n",
       "...                                                  ...            ...\n",
       "14029  [[[156, 166, 191], [158, 168, 193], [162, 170,...              3\n",
       "14030  [[[175, 213, 252], [171, 209, 248], [179, 217,...              3\n",
       "14031  [[[196, 195, 209], [205, 204, 218], [202, 201,...              3\n",
       "14032  [[[255, 255, 255], [255, 255, 255], [255, 255,...              3\n",
       "14033  [[[123, 147, 191], [124, 148, 192], [126, 150,...              3\n",
       "\n",
       "[2512 rows x 2 columns]"
      ]
     },
     "execution_count": 5,
     "metadata": {},
     "output_type": "execute_result"
    }
   ],
   "source": [
    "dataframes[\"train\"][dataframes[\"train\"][\"classification\"] == 3]"
   ]
  }
 ],
 "metadata": {
  "kernelspec": {
   "display_name": "Python 3",
   "language": "python",
   "name": "python3"
  },
  "language_info": {
   "codemirror_mode": {
    "name": "ipython",
    "version": 3
   },
   "file_extension": ".py",
   "mimetype": "text/x-python",
   "name": "python",
   "nbconvert_exporter": "python",
   "pygments_lexer": "ipython3",
   "version": "3.8.5"
  }
 },
 "nbformat": 4,
 "nbformat_minor": 2
}
